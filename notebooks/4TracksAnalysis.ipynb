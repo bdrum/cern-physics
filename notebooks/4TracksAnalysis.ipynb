{
 "cells": [
  {
   "cell_type": "markdown",
   "metadata": {},
   "source": [
    "# $\\rho'$ analysis notes\n",
    "\n",
    "## GIRD Selection criteria:\n",
    "\n",
    "These criteria were applied on the selection stage(GRID):\n",
    "\n",
    "Events:\n",
    "\n",
    "- >= 4 tracks\n",
    "    \n",
    "Tracks:\n",
    "\n",
    "- Has Point On inner OR outer ITS Layer\n",
    "- Not ITS SA\n",
    "- |dca1| < 3 && |dca0| < 3;\n",
    "\n",
    "### Data info"
   ]
  },
  {
   "cell_type": "code",
   "execution_count": 1,
   "metadata": {},
   "outputs": [
    {
     "name": "stdout",
     "output_type": "stream",
     "text": [
      "Events attributes:\n",
      "['RunNum', 'PeriodNumber', 'OrbitNumber', 'BunchCrossNumber', 'Mass', 'Pt', 'Q', 'Rapidity', 'Phi', 'ZNAenergy', 'ZNCenergy', 'ZPAenergy', 'ZPCenergy', 'VtxX', 'VtxY', 'VtxZ', 'VtxContrib', 'VtxChi2', 'VtxNDF', 'SpdVtxX', 'SpdVtxY', 'SpdVtxZ', 'SpdVtxContrib', 'V0Adecision', 'V0Cdecision', 'ADAdecision', 'ADCdecision', 'V0Afired', 'V0Cfired', 'ADAfired', 'ADCfired', 'STPfired', 'SMBfired', 'SM2fired', 'SH1fired', 'OM2fired', 'OMUfired', 'IsTriggered', 'nTracklets', 'nTracks', 'FORChip']\n",
      "Track attributes:\n",
      "['T_NumberOfSigmaTPCPion', 'T_Eta', 'T_Phi', 'T_Px', 'T_Py', 'T_Pz', 'T_Q', 'T_HasPointOnITSLayer0', 'T_HasPointOnITSLayer1', 'T_ITSModuleInner', 'T_ITSModuleOuter', 'T_TPCNCls', 'T_TPCRefit']\n",
      "\n",
      "Events count: 106,705\n",
      "Tracks count: 25,117,847\n"
     ]
    }
   ],
   "source": [
    "from modules.FourTrackEvents import *\r\n",
    "\r\n",
    "ccup9_2015_file = r'D:\\GoogleDrive\\Job\\cern\\Alice\\analysis\\data\\RhoPrime\\2015\\4Prongs2015oLast.root'\r\n",
    "ccup9_2015_local_test = r'D:\\GoogleDrive\\Job\\cern\\Alice\\analysis\\dev\\grid\\selection\\RhoPrime\\macro\\AnalysisResults.root'\r\n",
    "\r\n",
    "# dfs.loc[0] # get dataframe part with entry = 0\r\n",
    "\r\n",
    "ft = FourTrackEvents()\r\n",
    "\r\n",
    "print('Events attributes:')\r\n",
    "print(ft.orig_events.columns.tolist())\r\n",
    "print('Track attributes:')\r\n",
    "print(ft.orig_tracks.columns.tolist())\r\n",
    "print()\r\n",
    "print('Events count:', \"{:,}\".format(len(ft.orig_events.index)))\r\n",
    "print('Tracks count:', \"{:,}\".format(len(ft.orig_tracks.index)))"
   ]
  },
  {
   "cell_type": "markdown",
   "metadata": {},
   "source": [
    "## Analysis criteria\n",
    "\n",
    "Let's take from input date only events with 4 tracks and zero total charge.\n",
    "Also prepare mask for tracks that satisfy standatd criteria contains further conditions for the TPC:\n",
    "\n",
    "* |NumberOfSigmaTPCPion| < 3\n",
    "* Number of TPC Clusters > 50\n",
    "* TPCRefit\n",
    "## Low energy tracks and TPC\n",
    "\n",
    "There is an idea about that tracks with small energies (low pt) not able to reach TPC.\n",
    "We can try to estimate influence of TPC criteria to the statistics.\n",
    "\n",
    "Let's see what happend in case of we will plot pt for any combination of TPC tracks:\n",
    "\n",
    "### Event with std criteria\n",
    "\n",
    "|detector|track1|track2|track3|track4|\n",
    "|:--:|:--:|:--:|:--:|:--:|\n",
    "|ITS|+|+|+|+|\n",
    "|TPC|+|+|+|+|\n",
    "\n",
    "### Let's start to take also such combinations to the sample:\n",
    "\n",
    "|detector|track1|track2|track3|track4|\n",
    "|:--:|:--:|:--:|:--:|:--:|\n",
    "|ITS|+|+|+|+|\n",
    "|TPC|+|+|+|-|\n",
    "\n",
    "|detector|track1|track2|track3|track4|\n",
    "|:--:|:--:|:--:|:--:|:--:|\n",
    "|ITS|+|+|+|+|\n",
    "|TPC|+|+|-|-|\n",
    "\n",
    "|detector|track1|track2|track3|track4|\n",
    "|:--:|:--:|:--:|:--:|:--:|\n",
    "|ITS|+|+|+|+|\n",
    "|TPC|+|-|-|-|\n",
    "\n",
    "|detector|track1|track2|track3|track4|\n",
    "|:--:|:--:|:--:|:--:|:--:|\n",
    "|ITS|+|+|+|+|\n",
    "|TPC|-|-|-|-|\n",
    "\n",
    "We can see statistics gain ration equal 2.5 between std criteria and total combinations:\n"
   ]
  },
  {
   "cell_type": "code",
   "execution_count": 2,
   "metadata": {},
   "outputs": [],
   "source": [
    "from modules.physics import kinematics\r\n",
    "\r\n",
    "ft_zq_Pt_nTpc = []\r\n",
    "ft_zq_Mass_nTpc = []\r\n",
    "\r\n",
    "# TODO: fill this in parallel!\r\n",
    "# NOTE: I'm not sure that I can because of memory will be overtaken\r\n",
    "for i in range(5):\r\n",
    "    ft_zq_Pt_nTpc.append(kinematics.pt_events(ft.GetTracksWithNTPC(ft.four_tracks_zq,i)))\r\n",
    "    ft_zq_Mass_nTpc.append(kinematics.mass_events(ft.GetTracksWithPtLt(ft.GetTracksWithNTPC(ft.four_tracks_zq,i))))"
   ]
  },
  {
   "cell_type": "markdown",
   "metadata": {},
   "source": [
    "## Transversal momentum distribution"
   ]
  },
  {
   "cell_type": "code",
   "execution_count": 5,
   "metadata": {},
   "outputs": [
    {
     "data": {
      "application/vnd.jupyter.widget-view+json": {
       "model_id": "46da10337e1f47cfb1f7162991f944c0",
       "version_major": 2,
       "version_minor": 0
      },
      "text/plain": "Canvas(toolbar=Toolbar(toolitems=[('Home', 'Reset original view', 'home', 'home'), ('Back', 'Back to previous …"
     },
     "metadata": {},
     "output_type": "display_data"
    }
   ],
   "source": [
    "from modules.physics import kinematics\r\n",
    "from modules.physics.analysis.ITSvsTPC_events import *\r\n",
    "from matplotlib.patches import Rectangle \r\n",
    "import matplotlib.pyplot as plt\r\n",
    "\r\n",
    "%matplotlib widget\r\n",
    "\r\n",
    "colors = ['red', 'green', 'yellow', 'orange', 'black']\r\n",
    "labels = ['ITS & (>= 0TPC)', 'ITS & (>= 1TPC)',\r\n",
    "          'ITS & (>= 2TPC)', 'ITS & (>= 3TPC)', 'ITS & ( =  4TPC)']\r\n",
    "\r\n",
    "_=ShowComparisonSame('', ft_zq_Pt_nTpc, r'$p_t \\pi^+\\pi^-\\pi^+\\pi^-$,GeV',\r\n",
    "                   labels, colors, nBins=100, ranges=(0, 2),showPatch=True)\r\n",
    "\r\n"
   ]
  },
  {
   "cell_type": "markdown",
   "metadata": {},
   "source": [
    "As we can see here pt for $Q \\neq 0$ contains only background events:"
   ]
  },
  {
   "cell_type": "code",
   "execution_count": 6,
   "metadata": {},
   "outputs": [
    {
     "data": {
      "application/vnd.jupyter.widget-view+json": {
       "model_id": "d66c62ab327e40809515dea9c7ef8952",
       "version_major": 2,
       "version_minor": 0
      },
      "text/plain": "Canvas(toolbar=Toolbar(toolitems=[('Home', 'Reset original view', 'home', 'home'), ('Back', 'Back to previous …"
     },
     "metadata": {},
     "output_type": "display_data"
    },
    {
     "data": {
      "text/plain": "<matplotlib.legend.Legend at 0x19b0e19a2e0>"
     },
     "execution_count": 6,
     "metadata": {},
     "output_type": "execute_result"
    }
   ],
   "source": [
    "from matplotlib.patches import Rectangle \r\n",
    "from modules.physics import kinematics\r\n",
    "import matplotlib.pyplot as plt\r\n",
    "\r\n",
    "%matplotlib widget\r\n",
    "\r\n",
    "plt.style.use(hep.style.ROOT)\r\n",
    "fig = plt.figure(figsize=(10,5))\r\n",
    "ax = fig.add_subplot()\r\n",
    "\r\n",
    "fig.suptitle(f'$p_t$ of events', fontsize=22)\r\n",
    "b = 100\r\n",
    "r = 0,2\r\n",
    "counts,bin_edges = np.histogram(ft_zq_Pt_nTpc[3], bins=b, range=r)\r\n",
    "bin_centres = (bin_edges[:-1] + bin_edges[1:])/2.\r\n",
    "errs = np.sqrt(counts)\r\n",
    "ax.errorbar(bin_centres, counts, yerr=errs, fmt='.', label=r'$Q=0$', color=colors[0])\r\n",
    "\r\n",
    "val=(r[1]-r[0])*1000 // b\r\n",
    "ax.set_xlabel('$p_t, GeV$')\r\n",
    "ax.set_ylabel(f'#events / {val}MeV')\r\n",
    "ax.add_patch(Rectangle((0, 0.15), 0.15, 900, fc='lightgrey', alpha=0.4))\r\n",
    "ax.text(0.15,0,\"0.15\", size=20)\r\n",
    "counts,bin_edges = np.histogram(kinematics.pt_events(ft.GetTracksWithNTPC(ft.four_tracks_nzq)), bins=b, range=r)\r\n",
    "bin_centres = (bin_edges[:-1] + bin_edges[1:])/2.\r\n",
    "errs = np.sqrt(counts)\r\n",
    "ax.errorbar(bin_centres, counts, yerr=errs, fmt='.', label=r'$Q\\neq0$', color=colors[2])\r\n",
    "ax.legend()\r\n"
   ]
  },
  {
   "cell_type": "markdown",
   "metadata": {},
   "source": [
    "Now  let's try to see what tracks we lost from signal area and what contribution they have:"
   ]
  },
  {
   "cell_type": "markdown",
   "metadata": {},
   "source": [
    "TPC and ITS has different coverage for polar angle:\n",
    "\n",
    "![img1](https://camo.githubusercontent.com/9a7ab40d0f74a866a7095986644134a0f72cc58b/68747470733a2f2f70702e757365726170692e636f6d2f633835323231362f763835323231363738332f3131396137332f304f76685f6c544b4e7a552e6a7067)\n",
    "\n",
    "Perhaps we have tracks that not only can't reach TPC, but also has $\\theta$ values that TPC doesn't cover.\n",
    "\n",
    "Below we can see polar angle distribution for tracks that covers three cases:\n",
    "\n",
    "1. All tracks from events were reconstructed by ITS and TPC\n",
    "2. Only ITS tracks from events with only part TPC tracks. Here tracks that not reconstructed by TPC\n",
    "3. All tracks from events were reconstructed by ITS or TPC\n",
    "\n",
    "We can see small gaps with for the second case, that allow to speak about correctness of the suggestion, but anyway low energy of tracks is the main reason why TPC can't reconstructed tracks.  "
   ]
  },
  {
   "cell_type": "code",
   "execution_count": 18,
   "metadata": {},
   "outputs": [
    {
     "ename": "NameError",
     "evalue": "name 'ShowComparison' is not defined",
     "output_type": "error",
     "traceback": [
      "\u001b[1;31m---------------------------------------------------------------------------\u001b[0m",
      "\u001b[1;31mNameError\u001b[0m                                 Traceback (most recent call last)",
      "\u001b[1;32m<ipython-input-18-4feb77cac62d>\u001b[0m in \u001b[0;36m<module>\u001b[1;34m\u001b[0m\n\u001b[1;32m----> 1\u001b[1;33m \u001b[0mShowComparison\u001b[0m\u001b[1;33m(\u001b[0m\u001b[1;34m'$\\\\theta$'\u001b[0m\u001b[1;33m,\u001b[0m\u001b[1;33m[\u001b[0m\u001b[0mAllTPCTracksTheta\u001b[0m\u001b[1;33m,\u001b[0m \u001b[0mITSDiffTPCTracksTheta\u001b[0m\u001b[1;33m,\u001b[0m \u001b[0mTotalLowPtTheta\u001b[0m\u001b[1;33m]\u001b[0m\u001b[1;33m,\u001b[0m \u001b[1;34m'$^\\\\circ$'\u001b[0m\u001b[1;33m,\u001b[0m \u001b[1;33m[\u001b[0m\u001b[1;34m'ITS&&TPC'\u001b[0m\u001b[1;33m,\u001b[0m \u001b[1;34m'OnlyITSFromNTPCEvents'\u001b[0m\u001b[1;33m,\u001b[0m \u001b[1;34m'ITS||TPC'\u001b[0m\u001b[1;33m]\u001b[0m\u001b[1;33m,\u001b[0m \u001b[1;32mNone\u001b[0m\u001b[1;33m,\u001b[0m \u001b[0mnBins\u001b[0m\u001b[1;33m=\u001b[0m\u001b[1;36m80\u001b[0m\u001b[1;33m,\u001b[0m \u001b[0mranges\u001b[0m\u001b[1;33m=\u001b[0m\u001b[1;33m(\u001b[0m\u001b[1;36m25\u001b[0m\u001b[1;33m,\u001b[0m\u001b[1;36m150\u001b[0m\u001b[1;33m)\u001b[0m\u001b[1;33m)\u001b[0m\u001b[1;33m\u001b[0m\u001b[1;33m\u001b[0m\u001b[0m\n\u001b[0m",
      "\u001b[1;31mNameError\u001b[0m: name 'ShowComparison' is not defined"
     ]
    }
   ],
   "source": [
    "ShowComparison('$\\\\theta$',[AllTPCTracksTheta, ITSDiffTPCTracksTheta, TotalLowPtTheta], '$^\\\\circ$', ['ITS&&TPC', 'OnlyITSFromNTPCEvents', 'ITS||TPC'], None, nBins=80, ranges=(25,150))"
   ]
  },
  {
   "cell_type": "markdown",
   "metadata": {},
   "source": [
    "## Mass\n",
    "Let's see on the mass distribution of the events\n"
   ]
  },
  {
   "cell_type": "code",
   "execution_count": 8,
   "metadata": {},
   "outputs": [
    {
     "data": {
      "application/vnd.jupyter.widget-view+json": {
       "model_id": "7b731e1ab974470ab5928ad9ef002428",
       "version_major": 2,
       "version_minor": 0
      },
      "text/plain": "Canvas(toolbar=Toolbar(toolitems=[('Home', 'Reset original view', 'home', 'home'), ('Back', 'Back to previous …"
     },
     "metadata": {},
     "output_type": "display_data"
    }
   ],
   "source": [
    "from modules.physics import kinematics\r\n",
    "from modules.physics.analysis.ITSvsTPC_events import *\r\n",
    "\r\n",
    "%matplotlib widget\r\n",
    "\r\n",
    "colors = ['red', 'orange', 'black']\r\n",
    "labels = ['ITS & (>= 2TPC)', 'ITS & (>= 3TPC)', 'ITS & ( =  4TPC)']\r\n",
    "\r\n",
    "\r\n",
    "_ = ShowComparisonSame('4track events Mass', ft_zq_Mass_nTpc[2:], '$Mass, GeV$',\r\n",
    "                   labels, colors, nBins=100, ranges=(0.5, 3.5))\r\n"
   ]
  },
  {
   "cell_type": "code",
   "execution_count": 10,
   "metadata": {},
   "outputs": [
    {
     "data": {
      "application/vnd.jupyter.widget-view+json": {
       "model_id": "aa6aa25ecc70430391d4bc228159f5a8",
       "version_major": 2,
       "version_minor": 0
      },
      "text/plain": "Canvas(toolbar=Toolbar(toolitems=[('Home', 'Reset original view', 'home', 'home'), ('Back', 'Back to previous …"
     },
     "metadata": {},
     "output_type": "display_data"
    },
    {
     "data": {
      "text/plain": "<matplotlib.legend.Legend at 0x19b0e3a7910>"
     },
     "execution_count": 10,
     "metadata": {},
     "output_type": "execute_result"
    }
   ],
   "source": [
    "from modules.physics import kinematics\r\n",
    "\r\n",
    "%matplotlib widget\r\n",
    "\r\n",
    "plt.style.use(hep.style.ROOT)\r\n",
    "fig = plt.figure(figsize=(15,7))\r\n",
    "ax = fig.add_subplot()\r\n",
    "\r\n",
    "fig.suptitle(f'Масса $\\pi^+\\pi^-\\pi^+\\pi^-$', fontsize=32)\r\n",
    "b = 100\r\n",
    "r = 0.5,3.5\r\n",
    "\r\n",
    "# counts,bin_edges = np.histogram(ft_zq_Mass_nTpc[1], bins=b, range=r)\r\n",
    "# bin_centres = (bin_edges[:-1] + bin_edges[1:])/2.\r\n",
    "# errs = np.sqrt(counts)\r\n",
    "# ax.errorbar(bin_centres, counts, yerr=errs, fmt='.', label='Q = 0', color=colors[0])\r\n",
    "\r\n",
    "# val=(r[1]-r[0])*1000 // b\r\n",
    "# ax.set_xlabel('$Mass, GeV$')\r\n",
    "# ax.set_ylabel(f'#events / {val}MeV')\r\n",
    "\r\n",
    "counts,bin_edges = np.histogram(kinematics.mass_events(ft.GetTracksWithPtLt(ft.GetTracksWithNTPC(ft.four_tracks_nzq))), bins=b, range=r)\r\n",
    "bin_centres = (bin_edges[:-1] + bin_edges[1:])/2.\r\n",
    "errs = np.sqrt(counts)\r\n",
    "ax.errorbar(bin_centres, counts, yerr=errs, fmt='.', color=colors[1], label=r\"$Q\\neq0$\")\r\n",
    "\r\n",
    "val=(r[1]-r[0])*1000 // b\r\n",
    "ax.set_xlabel('$Mass, GeV$')\r\n",
    "ax.set_ylabel(f'#events / {val}MeV')\r\n",
    "ax.legend()"
   ]
  },
  {
   "cell_type": "code",
   "execution_count": 132,
   "metadata": {},
   "outputs": [
    {
     "data": {
      "application/vnd.jupyter.widget-view+json": {
       "model_id": "2a5d17c2b32242e9a61ebd78ef8ce53d",
       "version_major": 2,
       "version_minor": 0
      },
      "text/plain": "Canvas(toolbar=Toolbar(toolitems=[('Home', 'Reset original view', 'home', 'home'), ('Back', 'Back to previous …"
     },
     "metadata": {},
     "output_type": "display_data"
    },
    {
     "data": {
      "text/plain": "<matplotlib.legend.Legend at 0x19b5d9b95e0>"
     },
     "execution_count": 132,
     "metadata": {},
     "output_type": "execute_result"
    }
   ],
   "source": [
    "from modules.physics import kinematics\r\n",
    "\r\n",
    "%matplotlib widget\r\n",
    "\r\n",
    "plt.style.use(hep.style.ROOT)\r\n",
    "fig = plt.figure(figsize=(15,7))\r\n",
    "ax = fig.add_subplot()\r\n",
    "\r\n",
    "fig.suptitle(f'4 tracks mass', fontsize=32)\r\n",
    "b = 100\r\n",
    "r = 0.5,3.5\r\n",
    "\r\n",
    "counts,bin_edges = np.histogram(kinematics.mass_events(ft.GetTracksWithPtLt(ft.GetTracksWithNTPC(ft.four_tracks_zq)).loc[ triggered_events]), bins=b, range=r)\r\n",
    "bin_centres = (bin_edges[:-1] + bin_edges[1:])/2.\r\n",
    "errs = np.sqrt(counts)\r\n",
    "ax.errorbar(bin_centres, counts, yerr=errs, fmt='.', color=colors[0], label=r\"triggering\")\r\n",
    "\r\n",
    "counts,bin_edges = np.histogram(kinematics.mass_events(ft.GetTracksWithPtLt(ft.GetTracksWithNTPC(ft.four_tracks_zq)).loc[ untriggered_events]), bins=b, range=r)\r\n",
    "bin_centres = (bin_edges[:-1] + bin_edges[1:])/2.\r\n",
    "errs = np.sqrt(counts)\r\n",
    "ax.errorbar(bin_centres, counts, yerr=errs, fmt='.', color=colors[1], label=r\"false triggering\")\r\n",
    "\r\n",
    "val=(r[1]-r[0])*1000 // b\r\n",
    "ax.set_xlabel('$Mass, GeV$')\r\n",
    "ax.set_ylabel(f'#events / {val}MeV')\r\n",
    "ax.legend()"
   ]
  },
  {
   "cell_type": "code",
   "execution_count": 134,
   "metadata": {},
   "outputs": [
    {
     "data": {
      "text/plain": "Int64Index([     4,     42,     48,     83,     96,    106,    118,    167,\n               173,    179,\n            ...\n            106615, 106622, 106625, 106631, 106643, 106647, 106651, 106654,\n            106681, 106691],\n           dtype='int64', name='entry', length=8631)"
     },
     "execution_count": 134,
     "metadata": {},
     "output_type": "execute_result"
    }
   ],
   "source": [
    "untriggered_events"
   ]
  },
  {
   "cell_type": "markdown",
   "metadata": {},
   "source": [
    "+### Pions subsystems\n",
    "\n",
    "In our process 4 pions were producted. The most probably intermediate state including two pions and $\\rho$ i.e.\n",
    "$$\\rho' \\rightarrow \\rho \\ \\pi^+ \\pi^- \\rightarrow \\pi^+ \\pi^- \\pi^+ \\pi^-$$ \n",
    "\n",
    "We can see this on distribution of mass that can be obtained as all combinations of pairs from intial four tracks, i.e. only four pairs:\n",
    "\n",
    "![img](https://camo.githubusercontent.com/53a52e2a6d4ae7112d74f4073c979a51166170d8/68747470733a2f2f70702e757365726170692e636f6d2f633835333632342f763835333632343436372f34383466332f5431375a754b597062526f2e6a7067)\n",
    "\n",
    "Here we can plot two distirbutions:\n",
    "\n",
    "1. Make all possible(4) combinations of pairs. Then take lightest and pair that belong to one combination with that. Plot masses of these two pairs.\n",
    "2. Plot masses of masses from possible combinations."
   ]
  },
  {
   "cell_type": "code",
   "execution_count": 17,
   "metadata": {},
   "outputs": [
    {
     "data": {
      "application/vnd.jupyter.widget-view+json": {
       "model_id": "b62783a668a249449cc27893798bf597",
       "version_major": 2,
       "version_minor": 0
      },
      "text/plain": "Canvas(toolbar=Toolbar(toolitems=[('Home', 'Reset original view', 'home', 'home'), ('Back', 'Back to previous …"
     },
     "metadata": {},
     "output_type": "display_data"
    },
    {
     "name": "stderr",
     "output_type": "stream",
     "text": [
      "No handles with labels found to put in legend.\n"
     ]
    },
    {
     "data": {
      "image/png": "[encoded data removed]",
      "text/plain": "<Figure size 1000x1000 with 2 Axes>"
     },
     "execution_count": 17,
     "metadata": {},
     "output_type": "execute_result"
    }
   ],
   "source": [
    "from modules.physics.analysis import pairs\r\n",
    "\r\n",
    "# %matplotlib widget\r\n",
    "#ShowMassComaprison(LiteHeavyRecoil, 'Lightest and Recoil Pairs')\r\n",
    "LiteHeavyRecoil, LiteHeavyTotal = pairs.GetPairs(ft.GetTracksWithPtLt(ft.GetTracksWithNTPC(ft.four_tracks_zq,4)))\r\n",
    "\r\n",
    "fig = pairs.ShowMassComaprison(LiteHeavyTotal, r'$\\rho^0 \\rightarrow \\pi^+\\pi^-$   and    $\\pi^+\\pi^-$ masses')\r\n",
    "fig"
   ]
  },
  {
   "cell_type": "markdown",
   "metadata": {},
   "source": [
    "As we can see above, for second case (all possible pairs) we've got stronger signal in comparison with light-recoil pair as it made in [STAR work](http://arxiv.org/abs/0912.0604v2). Let's build 2d distirbuition and marginals component separately:"
   ]
  },
  {
   "cell_type": "code",
   "execution_count": 12,
   "metadata": {},
   "outputs": [
    {
     "data": {
      "application/vnd.jupyter.widget-view+json": {
       "model_id": "f94c3bf96fb74c9580775794c0c2012e",
       "version_major": 2,
       "version_minor": 0
      },
      "text/plain": "Canvas(toolbar=Toolbar(toolitems=[('Home', 'Reset original view', 'home', 'home'), ('Back', 'Back to previous …"
     },
     "metadata": {},
     "output_type": "display_data"
    },
    {
     "name": "stderr",
     "output_type": "stream",
     "text": [
      "No handles with labels found to put in legend.\n"
     ]
    },
    {
     "data": {
      "image/png": "[encoded data removed]",
      "text/plain": "<Figure size 1500x700 with 3 Axes>"
     },
     "execution_count": 12,
     "metadata": {},
     "output_type": "execute_result"
    }
   ],
   "source": [
    "import matplotlib.pyplot as plt\r\n",
    "from matplotlib.gridspec import GridSpec\r\n",
    "import numpy as np\r\n",
    "\r\n",
    "plt.style.use(hep.style.ROOT)\r\n",
    "\r\n",
    "fig = plt.figure(figsize=(15, 7))\r\n",
    "\r\n",
    "gs = GridSpec(4,4,wspace=0.1,hspace=0.1)\r\n",
    "\r\n",
    "ax_joint = fig.add_subplot(gs[1:4,0:3])\r\n",
    "ax_marg_x = fig.add_subplot(gs[0,0:3])\r\n",
    "ax_marg_y = fig.add_subplot(gs[1:4,3])\r\n",
    "\r\n",
    "ax_joint.hist2d(LiteHeavyTotal.Recoil, LiteHeavyTotal.Lite, bins=(50, 50), range=[(0, 2), (0, 2)], cmap=plt.cm.jet)\r\n",
    "_ = ax_marg_y.hist(LiteHeavyTotal.Lite, bins=100, range=(0, 2), histtype='step', color='blue', linewidth=2, label='lite pair',orientation=\"horizontal\")\r\n",
    "_ = ax_marg_x.hist(LiteHeavyTotal.Recoil, bins=100, range=(0, 2), histtype='step', color='red', linewidth=2, label='rest pair')\r\n",
    "\r\n",
    "\r\n",
    "ax_joint.set_ylabel('Lightest pair Mass, GeV')\r\n",
    "ax_joint.set_xlabel('Recoiling pair Mass, GeV')\r\n",
    "\r\n",
    "# ax_marg_y.set_xlabel('$Mass, GeV$')\r\n",
    "ax_marg_y.set_xlabel('# events')\r\n",
    "ax_marg_x.yaxis.set_label_position(\"right\")\r\n",
    "ax_marg_x.xaxis.set_ticks([])\r\n",
    "ax_marg_x.xaxis.set_ticks_position('none')\r\n",
    "ax_marg_y.yaxis.set_ticks_position('none')\r\n",
    "ax_marg_y.yaxis.set_ticks([])\r\n",
    "\r\n",
    "# ax_marg_x.set_xlabel('$Mass, GeV$')\r\n",
    "ax_marg_x.set_ylabel('# events')\r\n",
    "ax_marg_y.xaxis.set_label_position(\"top\")\r\n",
    "ax_marg_x\r\n",
    "ax_joint.legend()\r\n",
    "fig"
   ]
  },
  {
   "cell_type": "code",
   "execution_count": 47,
   "metadata": {},
   "outputs": [
    {
     "data": {
      "application/vnd.jupyter.widget-view+json": {
       "model_id": "c9232b4e03264d4489922fb1d0ded7ef",
       "version_major": 2,
       "version_minor": 0
      },
      "text/plain": "Canvas(toolbar=Toolbar(toolitems=[('Home', 'Reset original view', 'home', 'home'), ('Back', 'Back to previous …"
     },
     "metadata": {},
     "output_type": "display_data"
    },
    {
     "name": "stderr",
     "output_type": "stream",
     "text": [
      "<ipython-input-47-3182a64b8363>:11: RuntimeWarning: invalid value encountered in true_divide\n",
      "  _ = ax.hist(counts1/counts2,bins=bins1, histtype='step', color='black', linewidth=2)\n"
     ]
    },
    {
     "data": {
      "application/vnd.jupyter.widget-view+json": {
       "model_id": "29f003f4c058455e932b6aad16f2ffe3",
       "version_major": 2,
       "version_minor": 0
      },
      "text/plain": "Canvas(toolbar=Toolbar(toolitems=[('Home', 'Reset original view', 'home', 'home'), ('Back', 'Back to previous …"
     },
     "metadata": {},
     "output_type": "display_data"
    },
    {
     "name": "stderr",
     "output_type": "stream",
     "text": [
      "<ipython-input-47-3182a64b8363>:21: RuntimeWarning: invalid value encountered in true_divide\n",
      "  _ = ax.hist(counts1/counts2,bins=bins1, histtype='step', color='black', linewidth=2)\n"
     ]
    }
   ],
   "source": [
    "%matplotlib widget\r\n",
    "\r\n",
    "\r\n",
    "plt.style.use(hep.style.ROOT)\r\n",
    "fig = plt.figure(figsize=(10,7))\r\n",
    "ax = fig.add_subplot()\r\n",
    "\r\n",
    "counts1, bins1  = np.histogram(LiteHeavyRecoil.Recoil, bins=100, range=(0,2))\r\n",
    "counts2, bins2  = np.histogram(LiteHeavyTotal.Recoil, bins=100, range=(0,2))\r\n",
    "\r\n",
    "_ = ax.hist(counts1/counts2,bins=bins1, histtype='step', color='black', linewidth=2)\r\n",
    "\r\n",
    "\r\n",
    "plt.style.use(hep.style.ROOT)\r\n",
    "fig = plt.figure(figsize=(15,7))\r\n",
    "ax = fig.add_subplot()\r\n",
    "\r\n",
    "counts1, bins1  = np.histogram(LiteHeavyRecoil.Lite, bins=100, range=(0,2))\r\n",
    "counts2, bins2  = np.histogram(LiteHeavyTotal.Lite, bins=100, range=(0,2))\r\n",
    "\r\n",
    "_ = ax.hist(counts1/counts2,bins=bins1, histtype='step', color='black', linewidth=2)"
   ]
  },
  {
   "cell_type": "markdown",
   "metadata": {},
   "source": [
    "## Cross section\n",
    "\n",
    "Let's see to cross section of my events.\n",
    "\n",
    "For this we should take luminosity of runs.\n",
    "\n",
    "> Unfortunately file that I have to use for getting luminosity have a reference to special class AliTriggerInfo and moreover it packed into TObjArray, so I can't read it via uproot4. This is the reason why I used pure root again. [Here is the script](https://github.com/bdrum/cern-physics/blob/master/root-cpp/RhoPrime/macro/lumi.C) that I used.\n",
    "\n",
    "Then let's see how much events do we have in each run.\n",
    "\n",
    "$$L = \\sigma \\frac{\\delta N}{\\delta t}$$, this means that \n",
    "\n",
    "$$\\sigma \\approx \\frac{N}{L}$$\n",
    "\n",
    "Cross section of phenomena should be flat and independent from runs. \n",
    "\n",
    "Let's check it:"
   ]
  },
  {
   "cell_type": "code",
   "execution_count": 23,
   "metadata": {},
   "outputs": [
    {
     "ename": "ImportError",
     "evalue": "cannot import name 'events' from 'modules' (d:\\GoogleDrive\\Job\\cern\\Alice\\analysis\\dev\\physics\\notebooks\\modules\\__init__.py)",
     "output_type": "error",
     "traceback": [
      "\u001b[1;31m---------------------------------------------------------------------------\u001b[0m",
      "\u001b[1;31mImportError\u001b[0m                               Traceback (most recent call last)",
      "\u001b[1;32m<ipython-input-23-d748ed004c94>\u001b[0m in \u001b[0;36m<module>\u001b[1;34m\u001b[0m\n\u001b[1;32m----> 1\u001b[1;33m \u001b[1;32mfrom\u001b[0m \u001b[0mmodules\u001b[0m\u001b[1;33m.\u001b[0m\u001b[0mphysics\u001b[0m\u001b[1;33m.\u001b[0m\u001b[0manalysis\u001b[0m\u001b[1;33m.\u001b[0m\u001b[0mcrossection\u001b[0m \u001b[1;32mimport\u001b[0m \u001b[0mGetCrossSection\u001b[0m\u001b[1;33m\u001b[0m\u001b[1;33m\u001b[0m\u001b[0m\n\u001b[0m\u001b[0;32m      2\u001b[0m \u001b[1;33m\u001b[0m\u001b[0m\n\u001b[0;32m      3\u001b[0m \u001b[0mdf_cs\u001b[0m \u001b[1;33m=\u001b[0m \u001b[0mGetCrossSection\u001b[0m\u001b[1;33m(\u001b[0m\u001b[0mft\u001b[0m\u001b[1;33m.\u001b[0m\u001b[0mGetTracksWithPtLt\u001b[0m\u001b[1;33m(\u001b[0m\u001b[0mft\u001b[0m\u001b[1;33m.\u001b[0m\u001b[0mGetTracksWithNTPC\u001b[0m\u001b[1;33m(\u001b[0m\u001b[0mft\u001b[0m\u001b[1;33m.\u001b[0m\u001b[0mfour_tracks_zq\u001b[0m\u001b[1;33m)\u001b[0m\u001b[1;33m)\u001b[0m\u001b[1;33m)\u001b[0m\u001b[1;33m\u001b[0m\u001b[1;33m\u001b[0m\u001b[0m\n\u001b[0;32m      4\u001b[0m \u001b[0mdf_cs\u001b[0m\u001b[1;33m[\u001b[0m\u001b[1;34m'sigma'\u001b[0m\u001b[1;33m]\u001b[0m \u001b[1;33m=\u001b[0m \u001b[0mdf_cs\u001b[0m\u001b[1;33m.\u001b[0m\u001b[0mnEvFT\u001b[0m \u001b[1;33m/\u001b[0m \u001b[1;33m(\u001b[0m\u001b[0mdf_cs\u001b[0m\u001b[1;33m.\u001b[0m\u001b[0mLumi\u001b[0m \u001b[1;33m*\u001b[0m \u001b[1;36m1000\u001b[0m\u001b[1;33m)\u001b[0m\u001b[1;33m\u001b[0m\u001b[1;33m\u001b[0m\u001b[0m\n\u001b[0;32m      5\u001b[0m \u001b[0mdf_cs\u001b[0m\u001b[1;33m.\u001b[0m\u001b[0msigma\u001b[0m\u001b[1;33m.\u001b[0m\u001b[0mdescribe\u001b[0m\u001b[1;33m(\u001b[0m\u001b[1;33m)\u001b[0m\u001b[1;33m\u001b[0m\u001b[1;33m\u001b[0m\u001b[0m\n",
      "\u001b[1;32md:\\GoogleDrive\\Job\\cern\\Alice\\analysis\\dev\\physics\\notebooks\\modules\\physics\\analysis\\crossection.py\u001b[0m in \u001b[0;36m<module>\u001b[1;34m\u001b[0m\n\u001b[0;32m      1\u001b[0m \u001b[1;32mimport\u001b[0m \u001b[0mcollections\u001b[0m\u001b[1;33m\u001b[0m\u001b[1;33m\u001b[0m\u001b[0m\n\u001b[0;32m      2\u001b[0m \u001b[1;31m# from modules.data.selection import GetITSnTPCTracksDF\u001b[0m\u001b[1;33m\u001b[0m\u001b[1;33m\u001b[0m\u001b[1;33m\u001b[0m\u001b[0m\n\u001b[1;32m----> 3\u001b[1;33m \u001b[1;32mfrom\u001b[0m \u001b[0mmodules\u001b[0m \u001b[1;32mimport\u001b[0m \u001b[0mevents\u001b[0m\u001b[1;33m,\u001b[0m \u001b[0mnp\u001b[0m\u001b[1;33m,\u001b[0m \u001b[0mpd\u001b[0m\u001b[1;33m\u001b[0m\u001b[1;33m\u001b[0m\u001b[0m\n\u001b[0m\u001b[0;32m      4\u001b[0m \u001b[1;32mimport\u001b[0m \u001b[0mmath\u001b[0m\u001b[1;33m\u001b[0m\u001b[1;33m\u001b[0m\u001b[0m\n\u001b[0;32m      5\u001b[0m \u001b[1;32mimport\u001b[0m \u001b[0mjson\u001b[0m\u001b[1;33m\u001b[0m\u001b[1;33m\u001b[0m\u001b[0m\n",
      "\u001b[1;31mImportError\u001b[0m: cannot import name 'events' from 'modules' (d:\\GoogleDrive\\Job\\cern\\Alice\\analysis\\dev\\physics\\notebooks\\modules\\__init__.py)"
     ]
    }
   ],
   "source": [
    "from modules.physics.analysis.crossection import GetCrossSection\r\n",
    "\r\n",
    "df_cs = GetCrossSection(ft.GetTracksWithPtLt(ft.GetTracksWithNTPC(ft.four_tracks_zq)))\r\n",
    "df_cs['sigma'] = df_cs.nEvFT / (df_cs.Lumi * 1000)\r\n",
    "df_cs.sigma.describe()\r\n"
   ]
  },
  {
   "cell_type": "code",
   "execution_count": 53,
   "metadata": {},
   "outputs": [
    {
     "data": {
      "application/vnd.jupyter.widget-view+json": {
       "model_id": "5c4a84f9526743db926797d38230fcb6",
       "version_major": 2,
       "version_minor": 0
      },
      "text/plain": [
       "Canvas(toolbar=Toolbar(toolitems=[('Home', 'Reset original view', 'home', 'home'), ('Back', 'Back to previous …"
      ]
     },
     "metadata": {},
     "output_type": "display_data"
    },
    {
     "data": {
      "text/plain": [
       "<matplotlib.legend.Legend at 0x1fb186273d0>"
      ]
     },
     "execution_count": 53,
     "metadata": {},
     "output_type": "execute_result"
    }
   ],
   "source": [
    "import scipy.stats\n",
    "\n",
    "fig = plt.figure(figsize=(25, 7))\n",
    "# fig.suptitle(\"visible cross section\")\n",
    "ax = fig.add_subplot()\n",
    "bins = list(df_cs.run)\n",
    "cnts = list(df_cs.sigma)\n",
    "errs = np.sqrt(df_cs.nEvFT)/(df_cs.Lumi * 1000)\n",
    "x = np.arange(len(bins))\n",
    "width = 0.15\n",
    "ax.errorbar(x - width/2, cnts, yerr=errs, fmt='o', label=r'$\\sigma \\approx \\frac{N_{(\\pi^+\\pi^-\\pi^+\\pi^-)_{ev}}}{L}$')\n",
    "ax.set_xticks(x)\n",
    "ax.set_xticklabels(bins, rotation=90, rotation_mode=\"anchor\", ha=\"right\", fontsize=12)\n",
    "ax.set_ylabel(r'$\\sigma$',fontsize=14)\n",
    "ax.set_ylim(0,10)\n",
    "\n",
    "chi2,p = scipy.stats.chisquare(cnts, np.tile(np.average(cnts),len(cnts)))\n",
    "ax.text(108,8,r\"$\\frac{Chi^2}{NDf} = \\frac{189.388}{118}$\", size=20)\n",
    "ax.text(108,7,r\"$p0 = 4.4542 \\pm 0.11613$\", size=16)\n",
    "ax.legend(prop={'size': 15})\n",
    "ax.axhline(y=np.average(cnts), color='r', linestyle='-')\n",
    "ax.legend()"
   ]
  },
  {
   "cell_type": "markdown",
   "metadata": {},
   "source": [
    "## Other decays\n",
    "\n",
    "In PDG I've seen also other interesting modes for $\\rho'$:\n",
    "\n",
    "- 1. $\\rho' \\rightarrow \\eta_0 \\rho_0$ | ?\n",
    "   - 1.1. $\\rho_0 \\rightarrow 4 \\pi$ | $2*10^{-5}\\%$\n",
    "   - 1.2. $\\rho_0 \\rightarrow \\pi^+ \\pi^-$ | $10^{-2}\\%$\n",
    "   - 1.3. $\\eta_0' \\rightarrow  \\pi^+ \\pi^- \\gamma$ | $4\\%$\n",
    "   - 1.4. $\\eta_0' \\rightarrow  \\pi^+ \\pi^- \\pi^0$ | $23\\%$\n",
    "- 2. $\\rho' \\rightarrow 4 \\pi$ | ?\n",
    "\n",
    "What about $\\rho' \\rightarrow \\rho_0 \\rho_0$ is it possible?"
   ]
  },
  {
   "cell_type": "markdown",
   "metadata": {},
   "source": [
    "## False triggering\r\n",
    "\r\n",
    "There are some situations when CUP9 triggering could be false.\r\n",
    "\r\n",
    "![img](https://sun9-58.userapi.com/impf/x7UtIW5ElLKpDl4ASPuz0FXhNjwnxYcAy0BuHw/wJZr1On9l4o.jpg?size=1280x718&quality=96&sign=1ed3d5f08fcdefd89ab4e02a5041c6d0&type=album)\r\n",
    "\r\n"
   ]
  },
  {
   "cell_type": "code",
   "execution_count": 127,
   "metadata": {},
   "outputs": [
    {
     "data": {
      "text/html": "<div>\n<style scoped>\n    .dataframe tbody tr th:only-of-type {\n        vertical-align: middle;\n    }\n\n    .dataframe tbody tr th {\n        vertical-align: top;\n    }\n\n    .dataframe thead th {\n        text-align: right;\n    }\n</style>\n<table border=\"1\" class=\"dataframe\">\n  <thead>\n    <tr style=\"text-align: right;\">\n      <th></th>\n      <th>vPhiInner</th>\n      <th>vPhiOuter</th>\n      <th>triggered</th>\n    </tr>\n    <tr>\n      <th>entry</th>\n      <th></th>\n      <th></th>\n      <th></th>\n    </tr>\n  </thead>\n  <tbody>\n    <tr>\n      <th>4</th>\n      <td>[True, False, False, False, False, False, Fals...</td>\n      <td>[True, True, False, False, False, False, False...</td>\n      <td>False</td>\n    </tr>\n    <tr>\n      <th>8</th>\n      <td>[False, False, True, False, False, False, Fals...</td>\n      <td>[False, False, False, False, False, True, Fals...</td>\n      <td>True</td>\n    </tr>\n    <tr>\n      <th>15</th>\n      <td>[True, False, False, False, False, False, Fals...</td>\n      <td>[True, False, False, False, False, False, Fals...</td>\n      <td>True</td>\n    </tr>\n    <tr>\n      <th>20</th>\n      <td>[True, False, False, False, False, False, Fals...</td>\n      <td>[False, True, False, False, False, False, Fals...</td>\n      <td>True</td>\n    </tr>\n    <tr>\n      <th>22</th>\n      <td>[False, False, False, False, False, False, Fal...</td>\n      <td>[False, False, False, False, False, False, Fal...</td>\n      <td>True</td>\n    </tr>\n    <tr>\n      <th>...</th>\n      <td>...</td>\n      <td>...</td>\n      <td>...</td>\n    </tr>\n    <tr>\n      <th>106658</th>\n      <td>[False, False, False, False, False, False, Tru...</td>\n      <td>[False, False, False, False, False, False, Fal...</td>\n      <td>True</td>\n    </tr>\n    <tr>\n      <th>106674</th>\n      <td>[False, True, False, False, False, False, True...</td>\n      <td>[False, False, False, True, False, False, Fals...</td>\n      <td>True</td>\n    </tr>\n    <tr>\n      <th>106681</th>\n      <td>[False, False, False, False, False, False, Fal...</td>\n      <td>[False, False, False, False, False, False, Fal...</td>\n      <td>False</td>\n    </tr>\n    <tr>\n      <th>106687</th>\n      <td>[False, False, True, False, False, True, False...</td>\n      <td>[False, False, False, False, True, False, Fals...</td>\n      <td>True</td>\n    </tr>\n    <tr>\n      <th>106691</th>\n      <td>[False, False, False, False, False, False, Fal...</td>\n      <td>[False, False, False, False, False, False, Fal...</td>\n      <td>False</td>\n    </tr>\n  </tbody>\n</table>\n<p>18980 rows × 3 columns</p>\n</div>",
      "text/plain": "                                                vPhiInner  \\\nentry                                                       \n4       [True, False, False, False, False, False, Fals...   \n8       [False, False, True, False, False, False, Fals...   \n15      [True, False, False, False, False, False, Fals...   \n20      [True, False, False, False, False, False, Fals...   \n22      [False, False, False, False, False, False, Fal...   \n...                                                   ...   \n106658  [False, False, False, False, False, False, Tru...   \n106674  [False, True, False, False, False, False, True...   \n106681  [False, False, False, False, False, False, Fal...   \n106687  [False, False, True, False, False, True, False...   \n106691  [False, False, False, False, False, False, Fal...   \n\n                                                vPhiOuter  triggered  \nentry                                                                 \n4       [True, True, False, False, False, False, False...      False  \n8       [False, False, False, False, False, True, Fals...       True  \n15      [True, False, False, False, False, False, Fals...       True  \n20      [False, True, False, False, False, False, Fals...       True  \n22      [False, False, False, False, False, False, Fal...       True  \n...                                                   ...        ...  \n106658  [False, False, False, False, False, False, Fal...       True  \n106674  [False, False, False, True, False, False, Fals...       True  \n106681  [False, False, False, False, False, False, Fal...      False  \n106687  [False, False, False, False, True, False, Fals...       True  \n106691  [False, False, False, False, False, False, Fal...      False  \n\n[18980 rows x 3 columns]"
     },
     "execution_count": 127,
     "metadata": {},
     "output_type": "execute_result"
    }
   ],
   "source": [
    "df"
   ]
  },
  {
   "cell_type": "code",
   "execution_count": 126,
   "metadata": {},
   "outputs": [
    {
     "name": "stderr",
     "output_type": "stream",
     "text": [
      "  0%|          | 0/76776 [00:00<?, ?it/s]<ipython-input-126-38b41570587b>:32: DeprecationWarning: `np.bool` is a deprecated alias for the builtin `bool`. To silence this warning, use `bool` by itself. Doing this will not modify any behavior and is safe. If you specifically wanted the numpy scalar type, use `np.bool_` here.\n",
      "Deprecated in NumPy 1.20; for more details and guidance: https://numpy.org/devdocs/release/1.20.0-notes.html#deprecations\n",
      "  vPhiInner1 = np.zeros(20, dtype=np.bool)\n",
      "<ipython-input-126-38b41570587b>:33: DeprecationWarning: `np.bool` is a deprecated alias for the builtin `bool`. To silence this warning, use `bool` by itself. Doing this will not modify any behavior and is safe. If you specifically wanted the numpy scalar type, use `np.bool_` here.\n",
      "Deprecated in NumPy 1.20; for more details and guidance: https://numpy.org/devdocs/release/1.20.0-notes.html#deprecations\n",
      "  vPhiOuter1 = np.zeros(40, dtype=np.bool)\n",
      "<ipython-input-126-38b41570587b>:39: SettingWithCopyWarning: \n",
      "A value is trying to be set on a copy of a slice from a DataFrame\n",
      "\n",
      "See the caveats in the documentation: https://pandas.pydata.org/pandas-docs/stable/user_guide/indexing.html#returning-a-view-versus-a-copy\n",
      "  df.vPhiInner[i] = vPhiInner1\n",
      "<ipython-input-126-38b41570587b>:42: SettingWithCopyWarning: \n",
      "A value is trying to be set on a copy of a slice from a DataFrame\n",
      "\n",
      "See the caveats in the documentation: https://pandas.pydata.org/pandas-docs/stable/user_guide/indexing.html#returning-a-view-versus-a-copy\n",
      "  df.vPhiOuter[i] = vPhiOuter1\n",
      "<ipython-input-126-38b41570587b>:44: SettingWithCopyWarning: \n",
      "A value is trying to be set on a copy of a slice from a DataFrame\n",
      "\n",
      "See the caveats in the documentation: https://pandas.pydata.org/pandas-docs/stable/user_guide/indexing.html#returning-a-view-versus-a-copy\n",
      "  df.vPhiInnerValue[i] = vPhiInnerValues\n",
      "<ipython-input-126-38b41570587b>:45: SettingWithCopyWarning: \n",
      "A value is trying to be set on a copy of a slice from a DataFrame\n",
      "\n",
      "See the caveats in the documentation: https://pandas.pydata.org/pandas-docs/stable/user_guide/indexing.html#returning-a-view-versus-a-copy\n",
      "  df.vPhiOuterValue[i] = vPhiOuterValues\n",
      "100%|██████████| 76776/76776 [04:53<00:00, 261.44it/s]\n",
      "C:\\Python38\\lib\\site-packages\\pandas\\core\\computation\\expressions.py:204: UserWarning: evaluating in Python space because the '+' operator is not supported by numexpr for the bool dtype, use '|' instead\n",
      "  warnings.warn(\n",
      "100%|██████████| 18980/18980 [00:09<00:00, 2038.01it/s]\n"
     ]
    }
   ],
   "source": [
    "from tqdm import tqdm\r\n",
    "import pandas as pd\r\n",
    "\r\n",
    "# let's form fired FORs numbers for 4 tracks zq EVENT \r\n",
    "for_sensors = pd.DataFrame(ft.orig_events.FORChip.loc[ft.four_tracks_zq.reset_index().entry])\r\n",
    "for_sensors['subentry']=for_sensors.groupby(level=0).cumcount()\r\n",
    "for_sensors.index.name = 'entry'\r\n",
    "for_sensors.set_index('subentry', append=True,inplace=True)\r\n",
    "\r\n",
    "# form arrays of numbers of sensor that linked with TRACKS \r\n",
    "df = ft.four_tracks_zq[['T_ITSModuleInner','T_ITSModuleOuter']] // 1000000\r\n",
    "\r\n",
    "# combine into one dataframe\r\n",
    "df['T_ITSSensorNum'] = for_sensors\r\n",
    "df = df.reset_index()\r\n",
    "\r\n",
    "# check that sensor linked with track will provide trigger (match with FOR sensor)\r\n",
    "df[\"Inner_matched\"] = (abs(abs(df.T_ITSModuleInner*5 - df.T_ITSSensorNum) - 2).apply(lambda x: x <= 2)) * df.T_ITSSensorNum.apply(lambda x: x < 400)\r\n",
    "\r\n",
    "df[\"Outer_matched\"] = (abs(abs(df.T_ITSModuleOuter*5 - df.T_ITSSensorNum) - 2).apply(lambda x: x <= 2)) * df.T_ITSSensorNum.apply(lambda x: x >= 400)\r\n",
    "df[\"vPhiInner\"] = np.nan\r\n",
    "df.vPhiInner = df.vPhiInner.astype('object')\r\n",
    "df[\"vPhiOuter\"] = np.nan\r\n",
    "df.vPhiOuter = df.vPhiOuter.astype('object')\r\n",
    "\r\n",
    "df[\"vPhiInnerValue\"] = np.nan\r\n",
    "df.vPhiInnerValue = df.vPhiInnerValue.astype('object')\r\n",
    "df[\"vPhiOuterValue\"] = np.nan\r\n",
    "df.vPhiOuterValue = df.vPhiOuterValue.astype('object')\r\n",
    "\r\n",
    "for i in tqdm(range(len(df))):\r\n",
    "    vPhiInner1 = np.zeros(20, dtype=np.bool)\r\n",
    "    vPhiOuter1 = np.zeros(40, dtype=np.bool)\r\n",
    "\r\n",
    "    vPhiInnerValues = pd.unique(df.T_ITSSensorNum[i][df.Inner_matched[i]]//20)\r\n",
    "    vPhiOuterValues = pd.unique((df.T_ITSSensorNum[i][df.Outer_matched[i]]-400)//20)\r\n",
    "\r\n",
    "    vPhiInner1[vPhiInnerValues]=True\r\n",
    "    df.vPhiInner[i] = vPhiInner1\r\n",
    "\r\n",
    "    vPhiOuter1[vPhiOuterValues]=True\r\n",
    "    df.vPhiOuter[i] = vPhiOuter1\r\n",
    "\r\n",
    "    df.vPhiInnerValue[i] = vPhiInnerValues\r\n",
    "    df.vPhiOuterValue[i] = vPhiOuterValues\r\n",
    "\r\n",
    "df_dbg = df.copy()\r\n",
    "\r\n",
    "# take only matched tracks and fill vPhi arrays for inner and outer\r\n",
    "df = df[(df.Inner_matched.apply(any) + df.Outer_matched.apply(any))][['entry', 'vPhiInner', 'vPhiOuter']].groupby('entry').sum()\r\n",
    "\r\n",
    "df[\"triggered\"] = False\r\n",
    "\r\n",
    "# check incorrect topology \r\n",
    "\r\n",
    "for t in tqdm(df.index):\r\n",
    "    for i in range(10):\r\n",
    "        for j in range(2):\r\n",
    "            k = 2*i+j\r\n",
    "            if  (df.vPhiOuter[t][k]    or df.vPhiOuter[t][k+1]        or df.vPhiOuter[t][k+2]) \\\r\n",
    "\t\t    and (df.vPhiOuter[t][k+20] or df.vPhiOuter[t][(k+21)%40]  or df.vPhiOuter[t][(k+22)%40]) \\\r\n",
    "\t\t    and (df.vPhiInner[t][i]    or df.vPhiInner[t][i+1]) \\\r\n",
    "\t\t    and (df.vPhiInner[t][i+10] or df.vPhiInner[t][(i+11)%20]):\r\n",
    "                df.at[t,'triggered'] = True\r\n",
    "\r\n",
    "triggered_events = df.index[df.triggered]\r\n",
    "untriggered_events = df.index[~df.triggered]"
   ]
  },
  {
   "cell_type": "code",
   "execution_count": 135,
   "metadata": {},
   "outputs": [
    {
     "name": "stdout",
     "output_type": "stream",
     "text": [
      "0 0\n",
      "Inner barrel:\n"
     ]
    },
    {
     "ename": "KeyError",
     "evalue": "76",
     "output_type": "error",
     "traceback": [
      "\u001b[1;31m---------------------------------------------------------------------------\u001b[0m",
      "\u001b[1;31mKeyError\u001b[0m                                  Traceback (most recent call last)",
      "\u001b[1;32mC:\\Python38\\lib\\site-packages\\pandas\\core\\indexes\\base.py\u001b[0m in \u001b[0;36mget_loc\u001b[1;34m(self, key, method, tolerance)\u001b[0m\n\u001b[0;32m   3079\u001b[0m             \u001b[1;32mtry\u001b[0m\u001b[1;33m:\u001b[0m\u001b[1;33m\u001b[0m\u001b[1;33m\u001b[0m\u001b[0m\n\u001b[1;32m-> 3080\u001b[1;33m                 \u001b[1;32mreturn\u001b[0m \u001b[0mself\u001b[0m\u001b[1;33m.\u001b[0m\u001b[0m_engine\u001b[0m\u001b[1;33m.\u001b[0m\u001b[0mget_loc\u001b[0m\u001b[1;33m(\u001b[0m\u001b[0mcasted_key\u001b[0m\u001b[1;33m)\u001b[0m\u001b[1;33m\u001b[0m\u001b[1;33m\u001b[0m\u001b[0m\n\u001b[0m\u001b[0;32m   3081\u001b[0m             \u001b[1;32mexcept\u001b[0m \u001b[0mKeyError\u001b[0m \u001b[1;32mas\u001b[0m \u001b[0merr\u001b[0m\u001b[1;33m:\u001b[0m\u001b[1;33m\u001b[0m\u001b[1;33m\u001b[0m\u001b[0m\n",
      "\u001b[1;32mpandas\\_libs\\index.pyx\u001b[0m in \u001b[0;36mpandas._libs.index.IndexEngine.get_loc\u001b[1;34m()\u001b[0m\n",
      "\u001b[1;32mpandas\\_libs\\index.pyx\u001b[0m in \u001b[0;36mpandas._libs.index.IndexEngine.get_loc\u001b[1;34m()\u001b[0m\n",
      "\u001b[1;32mpandas\\_libs\\hashtable_class_helper.pxi\u001b[0m in \u001b[0;36mpandas._libs.hashtable.Int64HashTable.get_item\u001b[1;34m()\u001b[0m\n",
      "\u001b[1;32mpandas\\_libs\\hashtable_class_helper.pxi\u001b[0m in \u001b[0;36mpandas._libs.hashtable.Int64HashTable.get_item\u001b[1;34m()\u001b[0m\n",
      "\u001b[1;31mKeyError\u001b[0m: 76",
      "\nThe above exception was the direct cause of the following exception:\n",
      "\u001b[1;31mKeyError\u001b[0m                                  Traceback (most recent call last)",
      "\u001b[1;32m<ipython-input-135-0b3abca0da94>\u001b[0m in \u001b[0;36m<module>\u001b[1;34m\u001b[0m\n\u001b[0;32m      5\u001b[0m             \u001b[0mprint\u001b[0m \u001b[1;33m(\u001b[0m\u001b[0mj\u001b[0m\u001b[1;33m,\u001b[0m\u001b[0mk\u001b[0m\u001b[1;33m)\u001b[0m\u001b[1;33m\u001b[0m\u001b[1;33m\u001b[0m\u001b[0m\n\u001b[0;32m      6\u001b[0m             \u001b[0mprint\u001b[0m\u001b[1;33m(\u001b[0m\u001b[1;34m\"Inner barrel:\"\u001b[0m\u001b[1;33m)\u001b[0m\u001b[1;33m\u001b[0m\u001b[1;33m\u001b[0m\u001b[0m\n\u001b[1;32m----> 7\u001b[1;33m             \u001b[0mprint\u001b[0m\u001b[1;33m(\u001b[0m\u001b[0mdf\u001b[0m\u001b[1;33m.\u001b[0m\u001b[0mvPhiInner\u001b[0m\u001b[1;33m[\u001b[0m\u001b[0mt\u001b[0m\u001b[1;33m]\u001b[0m\u001b[1;33m[\u001b[0m\u001b[0mi\u001b[0m\u001b[1;33m]\u001b[0m\u001b[1;33m,\u001b[0m    \u001b[0mdf\u001b[0m\u001b[1;33m.\u001b[0m\u001b[0mvPhiInner\u001b[0m\u001b[1;33m[\u001b[0m\u001b[0mt\u001b[0m\u001b[1;33m]\u001b[0m\u001b[1;33m[\u001b[0m\u001b[0mi\u001b[0m\u001b[1;33m+\u001b[0m\u001b[1;36m1\u001b[0m\u001b[1;33m]\u001b[0m\u001b[1;33m)\u001b[0m\u001b[1;33m\u001b[0m\u001b[1;33m\u001b[0m\u001b[0m\n\u001b[0m\u001b[0;32m      8\u001b[0m             \u001b[0mprint\u001b[0m\u001b[1;33m(\u001b[0m\u001b[0mdf\u001b[0m\u001b[1;33m.\u001b[0m\u001b[0mvPhiInner\u001b[0m\u001b[1;33m[\u001b[0m\u001b[0mt\u001b[0m\u001b[1;33m]\u001b[0m\u001b[1;33m[\u001b[0m\u001b[0mi\u001b[0m\u001b[1;33m+\u001b[0m\u001b[1;36m10\u001b[0m\u001b[1;33m]\u001b[0m\u001b[1;33m,\u001b[0m \u001b[0mdf\u001b[0m\u001b[1;33m.\u001b[0m\u001b[0mvPhiInner\u001b[0m\u001b[1;33m[\u001b[0m\u001b[0mt\u001b[0m\u001b[1;33m]\u001b[0m\u001b[1;33m[\u001b[0m\u001b[1;33m(\u001b[0m\u001b[0mi\u001b[0m\u001b[1;33m+\u001b[0m\u001b[1;36m11\u001b[0m\u001b[1;33m)\u001b[0m\u001b[1;33m%\u001b[0m\u001b[1;36m20\u001b[0m\u001b[1;33m]\u001b[0m\u001b[1;33m)\u001b[0m\u001b[1;33m\u001b[0m\u001b[1;33m\u001b[0m\u001b[0m\n\u001b[0;32m      9\u001b[0m             \u001b[0mprint\u001b[0m\u001b[1;33m(\u001b[0m\u001b[1;33m)\u001b[0m\u001b[1;33m\u001b[0m\u001b[1;33m\u001b[0m\u001b[0m\n",
      "\u001b[1;32mC:\\Python38\\lib\\site-packages\\pandas\\core\\series.py\u001b[0m in \u001b[0;36m__getitem__\u001b[1;34m(self, key)\u001b[0m\n\u001b[0;32m    851\u001b[0m \u001b[1;33m\u001b[0m\u001b[0m\n\u001b[0;32m    852\u001b[0m         \u001b[1;32melif\u001b[0m \u001b[0mkey_is_scalar\u001b[0m\u001b[1;33m:\u001b[0m\u001b[1;33m\u001b[0m\u001b[1;33m\u001b[0m\u001b[0m\n\u001b[1;32m--> 853\u001b[1;33m             \u001b[1;32mreturn\u001b[0m \u001b[0mself\u001b[0m\u001b[1;33m.\u001b[0m\u001b[0m_get_value\u001b[0m\u001b[1;33m(\u001b[0m\u001b[0mkey\u001b[0m\u001b[1;33m)\u001b[0m\u001b[1;33m\u001b[0m\u001b[1;33m\u001b[0m\u001b[0m\n\u001b[0m\u001b[0;32m    854\u001b[0m \u001b[1;33m\u001b[0m\u001b[0m\n\u001b[0;32m    855\u001b[0m         \u001b[1;32mif\u001b[0m \u001b[0mis_hashable\u001b[0m\u001b[1;33m(\u001b[0m\u001b[0mkey\u001b[0m\u001b[1;33m)\u001b[0m\u001b[1;33m:\u001b[0m\u001b[1;33m\u001b[0m\u001b[1;33m\u001b[0m\u001b[0m\n",
      "\u001b[1;32mC:\\Python38\\lib\\site-packages\\pandas\\core\\series.py\u001b[0m in \u001b[0;36m_get_value\u001b[1;34m(self, label, takeable)\u001b[0m\n\u001b[0;32m    959\u001b[0m \u001b[1;33m\u001b[0m\u001b[0m\n\u001b[0;32m    960\u001b[0m         \u001b[1;31m# Similar to Index.get_value, but we do not fall back to positional\u001b[0m\u001b[1;33m\u001b[0m\u001b[1;33m\u001b[0m\u001b[1;33m\u001b[0m\u001b[0m\n\u001b[1;32m--> 961\u001b[1;33m         \u001b[0mloc\u001b[0m \u001b[1;33m=\u001b[0m \u001b[0mself\u001b[0m\u001b[1;33m.\u001b[0m\u001b[0mindex\u001b[0m\u001b[1;33m.\u001b[0m\u001b[0mget_loc\u001b[0m\u001b[1;33m(\u001b[0m\u001b[0mlabel\u001b[0m\u001b[1;33m)\u001b[0m\u001b[1;33m\u001b[0m\u001b[1;33m\u001b[0m\u001b[0m\n\u001b[0m\u001b[0;32m    962\u001b[0m         \u001b[1;32mreturn\u001b[0m \u001b[0mself\u001b[0m\u001b[1;33m.\u001b[0m\u001b[0mindex\u001b[0m\u001b[1;33m.\u001b[0m\u001b[0m_get_values_for_loc\u001b[0m\u001b[1;33m(\u001b[0m\u001b[0mself\u001b[0m\u001b[1;33m,\u001b[0m \u001b[0mloc\u001b[0m\u001b[1;33m,\u001b[0m \u001b[0mlabel\u001b[0m\u001b[1;33m)\u001b[0m\u001b[1;33m\u001b[0m\u001b[1;33m\u001b[0m\u001b[0m\n\u001b[0;32m    963\u001b[0m \u001b[1;33m\u001b[0m\u001b[0m\n",
      "\u001b[1;32mC:\\Python38\\lib\\site-packages\\pandas\\core\\indexes\\base.py\u001b[0m in \u001b[0;36mget_loc\u001b[1;34m(self, key, method, tolerance)\u001b[0m\n\u001b[0;32m   3080\u001b[0m                 \u001b[1;32mreturn\u001b[0m \u001b[0mself\u001b[0m\u001b[1;33m.\u001b[0m\u001b[0m_engine\u001b[0m\u001b[1;33m.\u001b[0m\u001b[0mget_loc\u001b[0m\u001b[1;33m(\u001b[0m\u001b[0mcasted_key\u001b[0m\u001b[1;33m)\u001b[0m\u001b[1;33m\u001b[0m\u001b[1;33m\u001b[0m\u001b[0m\n\u001b[0;32m   3081\u001b[0m             \u001b[1;32mexcept\u001b[0m \u001b[0mKeyError\u001b[0m \u001b[1;32mas\u001b[0m \u001b[0merr\u001b[0m\u001b[1;33m:\u001b[0m\u001b[1;33m\u001b[0m\u001b[1;33m\u001b[0m\u001b[0m\n\u001b[1;32m-> 3082\u001b[1;33m                 \u001b[1;32mraise\u001b[0m \u001b[0mKeyError\u001b[0m\u001b[1;33m(\u001b[0m\u001b[0mkey\u001b[0m\u001b[1;33m)\u001b[0m \u001b[1;32mfrom\u001b[0m \u001b[0merr\u001b[0m\u001b[1;33m\u001b[0m\u001b[1;33m\u001b[0m\u001b[0m\n\u001b[0m\u001b[0;32m   3083\u001b[0m \u001b[1;33m\u001b[0m\u001b[0m\n\u001b[0;32m   3084\u001b[0m         \u001b[1;32mif\u001b[0m \u001b[0mtolerance\u001b[0m \u001b[1;32mis\u001b[0m \u001b[1;32mnot\u001b[0m \u001b[1;32mNone\u001b[0m\u001b[1;33m:\u001b[0m\u001b[1;33m\u001b[0m\u001b[1;33m\u001b[0m\u001b[0m\n",
      "\u001b[1;31mKeyError\u001b[0m: 76"
     ]
    }
   ],
   "source": [
    "for t in list(range(76,77)):\n",
    "    for i in range(10):\n",
    "        for j in range(2):\n",
    "            k = 2*i+j\n",
    "            print (j,k)\n",
    "            print(\"Inner barrel:\")\n",
    "            print(df.vPhiInner[t][i],    df.vPhiInner[t][i+1])\n",
    "            print(df.vPhiInner[t][i+10], df.vPhiInner[t][(i+11)%20])\n",
    "            print()\n",
    "            print(\"Outer barrel:\")\n",
    "            print(df.vPhiOuter[t][k],    df.vPhiOuter[t][k+1],       df.vPhiOuter[t][k+2])\n",
    "            print(df.vPhiOuter[t][k+20], df.vPhiOuter[t][(k+21)%40], df.vPhiOuter[t][(k+22)%40])\n",
    "            if  (df.vPhiOuter[t][k]    or df.vPhiOuter[t][k+1]        or df.vPhiOuter[t][k+2]) \\\n",
    "\t\t    and (df.vPhiOuter[t][k+20] or df.vPhiOuter[t][(k+21)%40]  or df.vPhiOuter[t][(k+22)%40]) \\\n",
    "\t\t    and (df.vPhiInner[t][i]    or df.vPhiInner[t][i+1]) \\\n",
    "\t\t    and (df.vPhiInner[t][i+10] or df.vPhiInner[t][(i+11)%20]):\n",
    "                df.at[t,'triggered'] = True\n",
    "                print(\"1triggered\")\n",
    "            else:\n",
    "                print(\"untriggered\")\n"
   ]
  },
  {
   "cell_type": "code",
   "execution_count": 134,
   "metadata": {},
   "outputs": [
    {
     "name": "stdout",
     "output_type": "stream",
     "text": [
      "1 False\n",
      "5 False\n",
      "9 True\n",
      "21 False\n",
      "49 False\n",
      "57 False\n",
      "58 False\n",
      "61 True\n",
      "70 True\n",
      "72 False\n",
      "74 True\n",
      "78 False\n",
      "97 True\n",
      "117 False\n",
      "121 False\n",
      "196 False\n",
      "201 True\n",
      "218 True\n",
      "230 True\n",
      "236 False\n"
     ]
    }
   ],
   "source": [
    "n= 76\n",
    "t = 44\n",
    "\n",
    "a1 = df_dbg.loc[df_dbg.entry[df_dbg.entry == n].index].T_ITSSensorNum[t]\n",
    "a2 = df_dbg.loc[df_dbg.entry[df_dbg.entry == n].index].Inner_matched.sum() + \\\n",
    "df_dbg.loc[df_dbg.entry[df_dbg.entry == n].index].Outer_matched.sum()\n",
    "a1\n",
    "for i in range(len(a1)):\n",
    "    print(a1[i], a2[i])"
   ]
  },
  {
   "cell_type": "markdown",
   "metadata": {},
   "source": [
    "$\\uparrow \\uparrow \\uparrow \\uparrow$ TO BE REMOVED $\\uparrow \\uparrow \\uparrow \\uparrow $\n"
   ]
  },
  {
   "cell_type": "markdown",
   "metadata": {},
   "source": [
    "### Triggered ratios\n",
    "|class|total|triggered|untriggered|triggered, %\n",
    "|:--:|:--:|:--:|:--:|\n",
    "|four track zq|20069|10757|9312|46|\n",
    "|four track zq 4 TPC|6292|3658|2559|58|"
   ]
  },
  {
   "cell_type": "code",
   "execution_count": 99,
   "metadata": {},
   "outputs": [
    {
     "data": {
      "text/plain": [
       "0.46399920275051076"
      ]
     },
     "execution_count": 99,
     "metadata": {},
     "output_type": "execute_result"
    }
   ],
   "source": [
    "# track_4tpc = ft.GetTracksWithNTPC(ft.four_tracks_zq,4)\n",
    "#pd.unique(track_4tpc.reset_index().entry))\n",
    "# 6292 - total\n",
    "# 3658 - triggered\n",
    "# 2559 - untriggered\n",
    "# len(np.intersect1d(\\\n",
    "# pd.unique(track_4tpc.reset_index().entry), \\\n",
    "# untriggered_events\\\n",
    "# ))\n",
    "\n",
    "9312 / 20069"
   ]
  },
  {
   "cell_type": "code",
   "execution_count": 16,
   "metadata": {},
   "outputs": [
    {
     "data": {
      "application/vnd.jupyter.widget-view+json": {
       "model_id": "54f46b0373704688b3816c24abc26667",
       "version_major": 2,
       "version_minor": 0
      },
      "text/plain": [
       "Canvas(toolbar=Toolbar(toolitems=[('Home', 'Reset original view', 'home', 'home'), ('Back', 'Back to previous …"
      ]
     },
     "metadata": {},
     "output_type": "display_data"
    },
    {
     "data": {
      "text/plain": [
       "<matplotlib.legend.Legend at 0x1fb0b6be220>"
      ]
     },
     "execution_count": 16,
     "metadata": {},
     "output_type": "execute_result"
    }
   ],
   "source": [
    "from matplotlib.patches import Rectangle \n",
    "from modules.physics import kinematics\n",
    "\n",
    "%matplotlib widget\n",
    "\n",
    "plt.style.use(hep.style.ROOT)\n",
    "fig = plt.figure(figsize=(10,8))\n",
    "ax = fig.add_subplot()\n",
    "\n",
    "fig.suptitle(f'$p_t$ of events', fontsize=32)\n",
    "b = 100\n",
    "r = 0,2\n",
    "counts,bin_edges = np.histogram(kinematics.pt_events(ft.four_tracks_zq.loc[triggered_events]), bins=b, range=r)\n",
    "bin_centres = (bin_edges[:-1] + bin_edges[1:])/2.\n",
    "errs = np.sqrt(counts)\n",
    "ax.errorbar(bin_centres, counts, yerr=errs, fmt='.', label='correct triggered', color=colors[0])\n",
    "\n",
    "val=(r[1]-r[0])*1000 // b\n",
    "ax.set_xlabel('$p_t, GeV$')\n",
    "ax.set_ylabel(f'#events / {val}MeV')\n",
    "counts,bin_edges = np.histogram(kinematics.pt_events(ft.four_tracks_zq.loc[untriggered_events]), bins=b, range=r)\n",
    "bin_centres = (bin_edges[:-1] + bin_edges[1:])/2.\n",
    "errs = np.sqrt(counts)\n",
    "ax.errorbar(bin_centres, counts, yerr=errs, fmt='.', label='incorrect triggered', color=colors[2])\n",
    "ax.legend()"
   ]
  },
  {
   "cell_type": "code",
   "execution_count": 34,
   "metadata": {},
   "outputs": [
    {
     "data": {
      "application/vnd.jupyter.widget-view+json": {
       "model_id": "2ff2e3a2f50d4027ada7eccdbe8887dd",
       "version_major": 2,
       "version_minor": 0
      },
      "text/plain": [
       "Canvas(toolbar=Toolbar(toolitems=[('Home', 'Reset original view', 'home', 'home'), ('Back', 'Back to previous …"
      ]
     },
     "metadata": {},
     "output_type": "display_data"
    },
    {
     "data": {
      "text/plain": [
       "<matplotlib.legend.Legend at 0x1fb0b74db80>"
      ]
     },
     "execution_count": 34,
     "metadata": {},
     "output_type": "execute_result"
    }
   ],
   "source": [
    "from modules.physics import kinematics\n",
    "\n",
    "%matplotlib widget\n",
    "\n",
    "plt.style.use(hep.style.ROOT)\n",
    "fig = plt.figure(figsize=(10,8))\n",
    "ax = fig.add_subplot()\n",
    "\n",
    "fig.suptitle('mass of events', fontsize=32)\n",
    "b = 100\n",
    "r = 0.7,2.7\n",
    "counts,bin_edges = np.histogram(kinematics.mass_events(ft.GetTracksWithPtLt(ft.GetTracksWithNTPC(ft.four_tracks_zq.loc[triggered_events]))), bins=b, range=r)\n",
    "bin_centres = (bin_edges[:-1] + bin_edges[1:])/2.\n",
    "errs = np.sqrt(counts)\n",
    "ax.errorbar(bin_centres, counts, yerr=errs, fmt='.', label='correct triggered', color=colors[0])\n",
    "\n",
    "val=(r[1]-r[0])*1000 // b\n",
    "ax.set_xlabel('$Mass, GeV$')\n",
    "ax.set_ylabel(f'#events / {val}MeV')\n",
    "\n",
    "counts,bin_edges = np.histogram(kinematics.mass_events(ft.GetTracksWithPtLt(ft.GetTracksWithNTPC(ft.four_tracks_zq.loc[untriggered_events]))), bins=b, range=r)\n",
    "bin_centres = (bin_edges[:-1] + bin_edges[1:])/2.\n",
    "errs = np.sqrt(counts)\n",
    "ax.errorbar(bin_centres, counts, yerr=errs, fmt='.', color=colors[2], label=\"incorrect triggered\")\n",
    "\n",
    "val=(r[1]-r[0])*1000 // b\n",
    "ax.set_xlabel('$Mass, GeV$')\n",
    "ax.set_ylabel(f'#events / {val}MeV')\n",
    "ax.legend()"
   ]
  },
  {
   "cell_type": "code",
   "execution_count": 46,
   "metadata": {},
   "outputs": [
    {
     "data": {
      "application/vnd.jupyter.widget-view+json": {
       "model_id": "c84d442d51a24540b365061b9933e17e",
       "version_major": 2,
       "version_minor": 0
      },
      "text/plain": [
       "Canvas(toolbar=Toolbar(toolitems=[('Home', 'Reset original view', 'home', 'home'), ('Back', 'Back to previous …"
      ]
     },
     "metadata": {},
     "output_type": "display_data"
    },
    {
     "data": {
      "text/plain": [
       "<matplotlib.legend.Legend at 0x1fb0a37bac0>"
      ]
     },
     "execution_count": 46,
     "metadata": {},
     "output_type": "execute_result"
    }
   ],
   "source": [
    "from modules.physics import kinematics\n",
    "\n",
    "%matplotlib widget\n",
    "\n",
    "plt.style.use(hep.style.ROOT)\n",
    "fig = plt.figure(figsize=(10,8))\n",
    "ax = fig.add_subplot()\n",
    "\n",
    "fig.suptitle('mass of events', fontsize=32)\n",
    "b = 100\n",
    "r = 0.7,2.7\n",
    "\n",
    "\n",
    "cnts = ax.hist(kinematics.mass_events(ft.GetTracksWithPtLt(ft.GetTracksWithNTPC(ft.four_tracks_zq.loc[triggered_events]))),bins=b, range=r,histtype='step', linewidth=2, density=True, stacked=True, label='correct triggered', color='red')\n",
    "\n",
    "ax.hist(kinematics.mass_events(ft.GetTracksWithPtLt(ft.GetTracksWithNTPC(ft.four_tracks_zq.loc[untriggered_events]))),bins=b, range=r,histtype='step', linewidth=2, density=True, label='incorrect triggered', color='black',stacked=True)\n",
    "\n",
    "val=(r[1]-r[0])*1000 // b\n",
    "ax.set_xlabel('$Mass, GeV$')\n",
    "ax.set_ylabel(f'#events / {val}MeV')\n",
    "\n",
    "ax.legend()"
   ]
  },
  {
   "cell_type": "code",
   "execution_count": 47,
   "metadata": {},
   "outputs": [
    {
     "data": {
      "text/plain": [
       "(array([0.        , 0.        , 0.        , 0.        , 0.02078998,\n",
       "        0.04158008, 0.        , 0.08315991, 0.        , 0.06237012,\n",
       "        0.10394989, 0.04158008, 0.06237012, 0.04157996, 0.18711037,\n",
       "        0.        , 0.08316016, 0.18711037, 0.14552942, 0.24948049,\n",
       "        0.20790041, 0.18711037, 0.22869045, 0.41580081, 0.45737817,\n",
       "        0.49896097, 0.81081158, 0.74844146, 0.95634187, 0.72765142,\n",
       "        1.01870592, 0.87318171, 1.16424227, 1.72557337, 1.55925305,\n",
       "        1.49688292, 1.64240342, 1.45530284, 1.2266124 , 1.80873353,\n",
       "        1.51767297, 1.76715345, 1.9958439 , 1.3721345 , 1.26819248,\n",
       "        1.53846301, 1.4345128 , 1.35135264, 1.39293272, 1.43450425,\n",
       "        1.10187215, 1.06029207, 0.97713191, 0.81081158, 0.68607134,\n",
       "        0.45737817, 0.6652813 , 0.51975102, 0.49896097, 0.5613311 ,\n",
       "        0.39501077, 0.56132775, 0.39501077, 0.43659085, 0.24948049,\n",
       "        0.37422073, 0.29106057, 0.49896097, 0.24948049, 0.18711037,\n",
       "        0.20790041, 0.27026731, 0.12474024, 0.16632032, 0.16632032,\n",
       "        0.14553028, 0.08316016, 0.24948049, 0.27027053, 0.22869045,\n",
       "        0.18711037, 0.16632032, 0.08316016, 0.14552855, 0.08316016,\n",
       "        0.08316016, 0.1039502 , 0.12474024, 0.04158008, 0.04158008,\n",
       "        0.04158008, 0.12474024, 0.04158008, 0.        , 0.04158008,\n",
       "        0.04158008, 0.02078979, 0.06237012, 0.04158008, 0.04158008]),\n",
       " array([0.7 , 0.72, 0.74, 0.76, 0.78, 0.8 , 0.82, 0.84, 0.86, 0.88, 0.9 ,\n",
       "        0.92, 0.94, 0.96, 0.98, 1.  , 1.02, 1.04, 1.06, 1.08, 1.1 , 1.12,\n",
       "        1.14, 1.16, 1.18, 1.2 , 1.22, 1.24, 1.26, 1.28, 1.3 , 1.32, 1.34,\n",
       "        1.36, 1.38, 1.4 , 1.42, 1.44, 1.46, 1.48, 1.5 , 1.52, 1.54, 1.56,\n",
       "        1.58, 1.6 , 1.62, 1.64, 1.66, 1.68, 1.7 , 1.72, 1.74, 1.76, 1.78,\n",
       "        1.8 , 1.82, 1.84, 1.86, 1.88, 1.9 , 1.92, 1.94, 1.96, 1.98, 2.  ,\n",
       "        2.02, 2.04, 2.06, 2.08, 2.1 , 2.12, 2.14, 2.16, 2.18, 2.2 , 2.22,\n",
       "        2.24, 2.26, 2.28, 2.3 , 2.32, 2.34, 2.36, 2.38, 2.4 , 2.42, 2.44,\n",
       "        2.46, 2.48, 2.5 , 2.52, 2.54, 2.56, 2.58, 2.6 , 2.62, 2.64, 2.66,\n",
       "        2.68, 2.7 ], dtype=float32),\n",
       " [<matplotlib.patches.Polygon at 0x1fb08375280>])"
      ]
     },
     "execution_count": 47,
     "metadata": {},
     "output_type": "execute_result"
    }
   ],
   "source": [
    "cnts"
   ]
  }
 ],
 "metadata": {
  "kernelspec": {
   "display_name": "Python 3.8.6 64-bit",
   "metadata": {
    "interpreter": {
     "hash": "2db524e06e9f5f4ffedc911c917cb75e12dbc923643829bf417064a77eb14d37"
    }
   },
   "name": "python3"
  },
  "language_info": {
   "codemirror_mode": {
    "name": "ipython",
    "version": 3
   },
   "file_extension": ".py",
   "mimetype": "text/x-python",
   "name": "python",
   "nbconvert_exporter": "python",
   "pygments_lexer": "ipython3",
   "version": "3.8.6"
  }
 },
 "nbformat": 4,
 "nbformat_minor": 4
}