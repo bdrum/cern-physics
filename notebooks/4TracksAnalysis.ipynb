{
 "cells": [
  {
   "source": [
    "# $\\rho'$ analysis notes\n",
    "\n",
    "## GIRD Selection criteria:\n",
    "\n",
    "These criteria were applied on the selection stage(GRID):\n",
    "\n",
    "Events:\n",
    "\n",
    "    * >= 4 tracks\n",
    "    \n",
    "Tracks:\n",
    "\n",
    "    * Has Point On inner OR outer ITS Layer\n",
    "    * Not ITS SA\n",
    "    * |dca1| < 3 && |dca0| < 3;\n",
    "\n",
    "### Data info"
   ],
   "cell_type": "markdown",
   "metadata": {}
  },
  {
   "cell_type": "code",
   "execution_count": 1,
   "metadata": {},
   "outputs": [
    {
     "output_type": "stream",
     "name": "stdout",
     "text": [
      "name                 | typename                 | interpretation                \n---------------------+--------------------------+-------------------------------\nRunNum               | int32_t                  | AsDtype('>i4')\nPeriodNumber         | uint32_t                 | AsDtype('>u4')\nOrbitNumber          | uint32_t                 | AsDtype('>u4')\nBunchCrossNumber     | uint16_t                 | AsDtype('>u2')\nMass                 | float                    | AsDtype('>f4')\nPt                   | float                    | AsDtype('>f4')\nQ                    | int16_t                  | AsDtype('>i2')\nRapidity             | float                    | AsDtype('>f4')\nPhi                  | float                    | AsDtype('>f4')\nZNAenergy            | float                    | AsDtype('>f4')\nZNCenergy            | float                    | AsDtype('>f4')\nZPAenergy            | float                    | AsDtype('>f4')\nZPCenergy            | float                    | AsDtype('>f4')\nVtxX                 | float                    | AsDtype('>f4')\nVtxY                 | float                    | AsDtype('>f4')\nVtxZ                 | float                    | AsDtype('>f4')\nVtxContrib           | int32_t                  | AsDtype('>i4')\nVtxChi2              | float                    | AsDtype('>f4')\nVtxNDF               | float                    | AsDtype('>f4')\nSpdVtxX              | float                    | AsDtype('>f4')\nSpdVtxY              | float                    | AsDtype('>f4')\nSpdVtxZ              | float                    | AsDtype('>f4')\nSpdVtxContrib        | int32_t                  | AsDtype('>i4')\nV0Adecision          | int32_t                  | AsDtype('>i4')\nV0Cdecision          | int32_t                  | AsDtype('>i4')\nADAdecision          | int32_t                  | AsDtype('>i4')\nADCdecision          | int32_t                  | AsDtype('>i4')\nUBAfired             | bool                     | AsDtype('bool')\nUBCfired             | bool                     | AsDtype('bool')\nVBAfired             | bool                     | AsDtype('bool')\nVBCfired             | bool                     | AsDtype('bool')\nnTracklets           | int32_t                  | AsDtype('>i4')\nnTracks              | int32_t                  | AsDtype('>i4')\nT_NumberOfSigmaIT... | std::vector<float>       | AsJagged(AsDtype('>f4'), he...\nT_NumberOfSigmaIT... | std::vector<float>       | AsJagged(AsDtype('>f4'), he...\nT_NumberOfSigmaTP... | std::vector<float>       | AsJagged(AsDtype('>f4'), he...\nT_NumberOfSigmaTP... | std::vector<float>       | AsJagged(AsDtype('>f4'), he...\nTPCsignal            | std::vector<int32_t>     | AsJagged(AsDtype('>i4'), he...\nT_P                  | std::vector<float>       | AsJagged(AsDtype('>f4'), he...\nT_Eta                | std::vector<float>       | AsJagged(AsDtype('>f4'), he...\nT_Phi                | std::vector<float>       | AsJagged(AsDtype('>f4'), he...\nT_Px                 | std::vector<float>       | AsJagged(AsDtype('>f4'), he...\nT_Py                 | std::vector<float>       | AsJagged(AsDtype('>f4'), he...\nT_Pz                 | std::vector<float>       | AsJagged(AsDtype('>f4'), he...\nT_Q                  | std::vector<int16_t>     | AsJagged(AsDtype('>i2'), he...\nT_HasPointOnITSLa... | std::vector<bool>        | AsJagged(AsDtype('bool'), h...\nT_HasPointOnITSLa... | std::vector<bool>        | AsJagged(AsDtype('bool'), h...\nT_ITSModuleInner     | std::vector<int32_t>     | AsJagged(AsDtype('>i4'), he...\nT_ITSModuleOuter     | std::vector<int32_t>     | AsJagged(AsDtype('>i4'), he...\nT_TPCNCls            | std::vector<int32_t>     | AsJagged(AsDtype('>i4'), he...\nT_ITSNCls            | std::vector<int32_t>     | AsJagged(AsDtype('>i4'), he...\nT_Dca0               | std::vector<float>       | AsJagged(AsDtype('>f4'), he...\nT_Dca1               | std::vector<float>       | AsJagged(AsDtype('>f4'), he...\nT_TPCRefit           | std::vector<bool>        | AsJagged(AsDtype('bool'), h...\nT_ITSRefit           | std::vector<bool>        | AsJagged(AsDtype('bool'), h...\nTLets_Theta          | std::vector<float>       | AsJagged(AsDtype('>f4'), he...\nTLets_Phi            | std::vector<float>       | AsJagged(AsDtype('>f4'), he...\nT_ITSSensorNum       | std::vector<int32_t>     | AsJagged(AsDtype('>i4'), he...\n\nTree name: events\nTree title: Selected events for 4proungs analysis\nEvents number: 114648\nTracks number 4610890\n"
     ]
    }
   ],
   "source": [
    "from modules.FourTrackEvents import *\n",
    "\n",
    "ccup9_2015_file = r'D:\\GoogleDrive\\Job\\cern\\Alice\\analysis\\data\\RhoPrime\\2015\\4Prongs2015o.root'\n",
    "ccup9_2015_local_test = r'D:\\GoogleDrive\\Job\\cern\\Alice\\analysis\\dev\\grid\\selection\\RhoPrime\\macro\\AnalysisResults.root'\n",
    "\n",
    "tree_name = '4Prongs/events'\n",
    "# dfs.loc[0] # get dataframe part with entry = 0\n",
    "\n",
    "branches = ['T_Px', 'T_Py', 'T_Pz',  'T_Q', 'T_NumberOfSigmaTPCPion', 'T_TPCRefit', 'T_TPCNCls', 'T_Phi', 'T_Eta', 'T_HasPointOnITSLayer0','T_HasPointOnITSLayer1', 'T_ITSModuleInner', 'T_ITSModuleOuter']\n",
    "\n",
    "ft = FourTrackEvents(ccup9_2015_file,tree_name,branches)\n",
    "\n",
    "ft.orig_events.show()\n",
    "\n",
    "print()\n",
    "print('Tree name:', ft.orig_events.name)\n",
    "print('Tree title:', ft.orig_events.title)\n",
    "print('Events number:', ft.orig_tracks.reset_index().entry.max())\n",
    "print('Tracks number', len(ft.orig_tracks))\n",
    "\n"
   ]
  },
  {
   "source": [
    "## Analysis criteria\n",
    "\n",
    "Let's take from input date only events with 4 tracks and zero total charge.\n",
    "Also prepare mask for tracks that satisfy standatd criteria contains further conditions for the TPC:\n",
    "\n",
    "* |NumberOfSigmaTPCPion| < 3\n",
    "* Number of TPC Clusters > 50\n",
    "* TPCRefit\n"
   ],
   "cell_type": "markdown",
   "metadata": {}
  },
  {
   "source": [
    "## Low energy tracks and TPC\n",
    "\n",
    "There is an idea about that tracks with small energies (low pt) not able to reach TPC.\n",
    "We can try to estimate influence of TPC criteria to the statistics.\n",
    "\n",
    "Let's see what happend in case of we will plot pt for any combination of TPC tracks:\n",
    "\n",
    "### Event with std criteria\n",
    "\n",
    "|detector|track1|track2|track3|track4|\n",
    "|:--:|:--:|:--:|:--:|:--:|\n",
    "|ITS|+|+|+|+|\n",
    "|TPC|+|+|+|+|\n",
    "\n",
    "### Let's start to take also such combinations to the sample:\n",
    "\n",
    "|detector|track1|track2|track3|track4|\n",
    "|:--:|:--:|:--:|:--:|:--:|\n",
    "|ITS|+|+|+|+|\n",
    "|TPC|+|+|+|-|\n",
    "\n",
    "|detector|track1|track2|track3|track4|\n",
    "|:--:|:--:|:--:|:--:|:--:|\n",
    "|ITS|+|+|+|+|\n",
    "|TPC|+|+|-|-|\n",
    "\n",
    "|detector|track1|track2|track3|track4|\n",
    "|:--:|:--:|:--:|:--:|:--:|\n",
    "|ITS|+|+|+|+|\n",
    "|TPC|+|-|-|-|\n",
    "\n",
    "|detector|track1|track2|track3|track4|\n",
    "|:--:|:--:|:--:|:--:|:--:|\n",
    "|ITS|+|+|+|+|\n",
    "|TPC|-|-|-|-|\n",
    "\n",
    "We can see statistics gain ration equal 2.5 between std criteria and total combinations:\n"
   ],
   "cell_type": "markdown",
   "metadata": {}
  },
  {
   "cell_type": "code",
   "execution_count": null,
   "metadata": {},
   "outputs": [],
   "source": [
    "ft_zq_Pt_nTpc = []\n",
    "ft_zq_Mass_nTpc = []\n",
    "\n",
    "for i in range(5):\n",
    "    ft_zq_Pt_nTpc[i]   = kinematics.pt_events(ft.GetTracksWithNTPC(ft.four_tracks_zq,i)\n",
    "    ft_zq_Mass_nTpc[i] = kinematics.mass_events(ft.GetTracksWithPtLt(ft.GetTracksWithNTPC(ft.four_tracks_zq,i))))"
   ]
  },
  {
   "source": [
    "## Transversal momentum distribution"
   ],
   "cell_type": "markdown",
   "metadata": {}
  },
  {
   "cell_type": "code",
   "execution_count": 52,
   "metadata": {},
   "outputs": [
    {
     "output_type": "display_data",
     "data": {
      "text/plain": "Canvas(toolbar=Toolbar(toolitems=[('Home', 'Reset original view', 'home', 'home'), ('Back', 'Back to previous …",
      "application/vnd.jupyter.widget-view+json": {
       "version_major": 2,
       "version_minor": 0,
       "model_id": "7c006b0bce474c629fa7afb2c7821e19"
      }
     },
     "metadata": {}
    }
   ],
   "source": [
    "from modules.physics import kinematics\n",
    "from modules.physics.analysis.ITSvsTPC_events import *\n",
    "from matplotlib.patches import Rectangle \n",
    "\n",
    "%matplotlib widget\n",
    "\n",
    "tpcimpPt = []\n",
    "colors = ['red', 'green', 'yellow', 'orange', 'black']\n",
    "labels = ['ITS & (>= 0TPC)', 'ITS & (>= 1TPC)',\n",
    "          'ITS & (>= 2TPC)', 'ITS & (>= 3TPC)', 'ITS & ( =  4TPC)']\n",
    "for i in range(5):\n",
    "    tmpPt = kinematics.pt_events(ft.GetTracksWithNTPC(ft.four_tracks_zq,i))\n",
    "    tpcimpPt.append(tmpPt)\n",
    "\n",
    "ShowComparisonSame('', tpcimpPt, r'$p_t \\pi^+\\pi^-\\pi^+\\pi^-$,GeV',\n",
    "                   labels, colors, nBins=100, ranges=(0, 2),showPatch=True)"
   ]
  },
  {
   "source": [
    "As we can see here pt for $Q \\neq 0$ contains only background events:"
   ],
   "cell_type": "markdown",
   "metadata": {}
  },
  {
   "cell_type": "code",
   "execution_count": 5,
   "metadata": {},
   "outputs": [
    {
     "output_type": "display_data",
     "data": {
      "text/plain": "Canvas(toolbar=Toolbar(toolitems=[('Home', 'Reset original view', 'home', 'home'), ('Back', 'Back to previous …",
      "application/vnd.jupyter.widget-view+json": {
       "version_major": 2,
       "version_minor": 0,
       "model_id": "bf25e4225be34202aae481d2a197d5f7"
      }
     },
     "metadata": {}
    },
    {
     "output_type": "execute_result",
     "data": {
      "text/plain": [
       "<matplotlib.legend.Legend at 0x1fb0a654490>"
      ]
     },
     "metadata": {},
     "execution_count": 5
    }
   ],
   "source": [
    "from matplotlib.patches import Rectangle \n",
    "from modules.physics import kinematics\n",
    "\n",
    "%matplotlib widget\n",
    "\n",
    "plt.style.use(hep.style.ROOT)\n",
    "fig = plt.figure(figsize=(10,5))\n",
    "ax = fig.add_subplot()\n",
    "\n",
    "fig.suptitle(f'$p_t$ of events', fontsize=32)\n",
    "b = 100\n",
    "r = 0,2\n",
    "counts,bin_edges = np.histogram(kinematics.pt_events(ft.GetTracksWithNTPC(ft.four_tracks_zq)), bins=b, range=r)\n",
    "bin_centres = (bin_edges[:-1] + bin_edges[1:])/2.\n",
    "errs = np.sqrt(counts)\n",
    "ax.errorbar(bin_centres, counts, yerr=errs, fmt='.', label=r'$Q=0$', color=colors[0])\n",
    "\n",
    "val=(r[1]-r[0])*1000 // b\n",
    "ax.set_xlabel('$p_t, GeV$')\n",
    "ax.set_ylabel(f'#events / {val}MeV')\n",
    "ax.add_patch(Rectangle((0, 0.15), 0.15, 900, fc='lightgrey', alpha=0.4))\n",
    "ax.text(0.15,0,\"0.15\", size=20)\n",
    "counts,bin_edges = np.histogram(kinematics.pt_events(ft.GetTracksWithNTPC(ft.four_tracks_nzq)), bins=b, range=r)\n",
    "bin_centres = (bin_edges[:-1] + bin_edges[1:])/2.\n",
    "errs = np.sqrt(counts)\n",
    "ax.errorbar(bin_centres, counts, yerr=errs, fmt='.', label=r'$Q\\neq0$', color=colors[2])\n",
    "ax.legend()"
   ]
  },
  {
   "source": [
    "Now  let's try to see what tracks we lost from signal area and what contribution they have:"
   ],
   "cell_type": "markdown",
   "metadata": {}
  },
  {
   "source": [
    "TPC and ITS has different coverage for polar angle:\n",
    "\n",
    "![img1](https://camo.githubusercontent.com/9a7ab40d0f74a866a7095986644134a0f72cc58b/68747470733a2f2f70702e757365726170692e636f6d2f633835323231362f763835323231363738332f3131396137332f304f76685f6c544b4e7a552e6a7067)\n",
    "\n",
    "Perhaps we have tracks that not only can't reach TPC, but also has $\\theta$ values that TPC doesn't cover.\n",
    "\n",
    "Below we can see polar angle distribution for tracks that covers three cases:\n",
    "\n",
    "1. All tracks from events were reconstructed by ITS and TPC\n",
    "2. Only ITS tracks from events with only part TPC tracks. Here tracks that not reconstructed by TPC\n",
    "3. All tracks from events were reconstructed by ITS or TPC\n",
    "\n",
    "We can see small gaps with for the second case, that allow to speak about correctness of the suggestion, but anyway low energy of tracks is the main reason why TPC can't reconstructed tracks.  "
   ],
   "cell_type": "markdown",
   "metadata": {}
  },
  {
   "cell_type": "code",
   "execution_count": 4,
   "metadata": {},
   "outputs": [
    {
     "output_type": "error",
     "ename": "NameError",
     "evalue": "name 'ShowComparison' is not defined",
     "traceback": [
      "\u001b[1;31m---------------------------------------------------------------------------\u001b[0m",
      "\u001b[1;31mNameError\u001b[0m                                 Traceback (most recent call last)",
      "\u001b[1;32m<ipython-input-4-4feb77cac62d>\u001b[0m in \u001b[0;36m<module>\u001b[1;34m\u001b[0m\n\u001b[1;32m----> 1\u001b[1;33m \u001b[0mShowComparison\u001b[0m\u001b[1;33m(\u001b[0m\u001b[1;34m'$\\\\theta$'\u001b[0m\u001b[1;33m,\u001b[0m\u001b[1;33m[\u001b[0m\u001b[0mAllTPCTracksTheta\u001b[0m\u001b[1;33m,\u001b[0m \u001b[0mITSDiffTPCTracksTheta\u001b[0m\u001b[1;33m,\u001b[0m \u001b[0mTotalLowPtTheta\u001b[0m\u001b[1;33m]\u001b[0m\u001b[1;33m,\u001b[0m \u001b[1;34m'$^\\\\circ$'\u001b[0m\u001b[1;33m,\u001b[0m \u001b[1;33m[\u001b[0m\u001b[1;34m'ITS&&TPC'\u001b[0m\u001b[1;33m,\u001b[0m \u001b[1;34m'OnlyITSFromNTPCEvents'\u001b[0m\u001b[1;33m,\u001b[0m \u001b[1;34m'ITS||TPC'\u001b[0m\u001b[1;33m]\u001b[0m\u001b[1;33m,\u001b[0m \u001b[1;32mNone\u001b[0m\u001b[1;33m,\u001b[0m \u001b[0mnBins\u001b[0m\u001b[1;33m=\u001b[0m\u001b[1;36m80\u001b[0m\u001b[1;33m,\u001b[0m \u001b[0mranges\u001b[0m\u001b[1;33m=\u001b[0m\u001b[1;33m(\u001b[0m\u001b[1;36m25\u001b[0m\u001b[1;33m,\u001b[0m\u001b[1;36m150\u001b[0m\u001b[1;33m)\u001b[0m\u001b[1;33m)\u001b[0m\u001b[1;33m\u001b[0m\u001b[1;33m\u001b[0m\u001b[0m\n\u001b[0m",
      "\u001b[1;31mNameError\u001b[0m: name 'ShowComparison' is not defined"
     ]
    }
   ],
   "source": [
    "ShowComparison('$\\\\theta$',[AllTPCTracksTheta, ITSDiffTPCTracksTheta, TotalLowPtTheta], '$^\\\\circ$', ['ITS&&TPC', 'OnlyITSFromNTPCEvents', 'ITS||TPC'], None, nBins=80, ranges=(25,150))"
   ]
  },
  {
   "source": [
    "## Mass\n",
    "Let's see on the mass distribution of the events\n"
   ],
   "cell_type": "markdown",
   "metadata": {}
  },
  {
   "cell_type": "code",
   "execution_count": 6,
   "metadata": {},
   "outputs": [
    {
     "output_type": "display_data",
     "data": {
      "text/plain": "Canvas(toolbar=Toolbar(toolitems=[('Home', 'Reset original view', 'home', 'home'), ('Back', 'Back to previous …",
      "application/vnd.jupyter.widget-view+json": {
       "version_major": 2,
       "version_minor": 0,
       "model_id": "533d31167a5041d7a1a03d54142831b5"
      }
     },
     "metadata": {}
    }
   ],
   "source": [
    "from modules.physics import kinematics\n",
    "from modules.physics.analysis.ITSvsTPC_events import *\n",
    "\n",
    "%matplotlib widget\n",
    "\n",
    "tpcimpMass = []\n",
    "colors = ['red', 'orange', 'black']\n",
    "labels = ['ITS & (>= 2TPC)', 'ITS & (>= 3TPC)', 'ITS & ( =  4TPC)']\n",
    "\n",
    "for i in range(2,5):\n",
    "    tpcimpMass.append(kinematics.mass_events(ft.GetTracksWithPtLt(ft.GetTracksWithNTPC(ft.four_tracks_zq,i))))\n",
    "\n",
    "ShowComparisonSame('4track events Mass', tpcimpMass, '$Mass, GeV$',\n",
    "                   labels, colors, nBins=100, ranges=(0.5, 3.5))\n"
   ]
  },
  {
   "cell_type": "code",
   "execution_count": 7,
   "metadata": {},
   "outputs": [
    {
     "output_type": "display_data",
     "data": {
      "text/plain": "Canvas(toolbar=Toolbar(toolitems=[('Home', 'Reset original view', 'home', 'home'), ('Back', 'Back to previous …",
      "application/vnd.jupyter.widget-view+json": {
       "version_major": 2,
       "version_minor": 0,
       "model_id": "45cd2d5535bb4a0daf27c8afc5028133"
      }
     },
     "metadata": {}
    },
    {
     "output_type": "execute_result",
     "data": {
      "text/plain": [
       "<matplotlib.legend.Legend at 0x1fb0a675850>"
      ]
     },
     "metadata": {},
     "execution_count": 7
    }
   ],
   "source": [
    "from modules.physics import kinematics\n",
    "\n",
    "%matplotlib widget\n",
    "\n",
    "plt.style.use(hep.style.ROOT)\n",
    "fig = plt.figure(figsize=(15,7))\n",
    "ax = fig.add_subplot()\n",
    "\n",
    "fig.suptitle(f'Масса $\\pi^+\\pi^-\\pi^+\\pi^-$', fontsize=32)\n",
    "b = 100\n",
    "r = 0.5,3.5\n",
    "counts,bin_edges = np.histogram(tpcimpMass[1], bins=b, range=r)\n",
    "bin_centres = (bin_edges[:-1] + bin_edges[1:])/2.\n",
    "errs = np.sqrt(counts)\n",
    "ax.errorbar(bin_centres, counts, yerr=errs, fmt='.', label='Q = 0', color=colors[0])\n",
    "\n",
    "val=(r[1]-r[0])*1000 // b\n",
    "ax.set_xlabel('$Mass, GeV$')\n",
    "ax.set_ylabel(f'#events / {val}MeV')\n",
    "\n",
    "counts,bin_edges = np.histogram(kinematics.mass_events(ft.GetTracksWithPtLt(ft.GetTracksWithNTPC(ft.four_tracks_nzq))), bins=b, range=r)\n",
    "bin_centres = (bin_edges[:-1] + bin_edges[1:])/2.\n",
    "errs = np.sqrt(counts)\n",
    "ax.errorbar(bin_centres, counts, yerr=errs, fmt='.', color=colors[1], label=r\"$Q\\neq0$\")\n",
    "\n",
    "val=(r[1]-r[0])*1000 // b\n",
    "ax.set_xlabel('$Mass, GeV$')\n",
    "ax.set_ylabel(f'#events / {val}MeV')\n",
    "ax.legend()"
   ]
  },
  {
   "cell_type": "code",
   "execution_count": 667,
   "metadata": {},
   "outputs": [
    {
     "output_type": "display_data",
     "data": {
      "text/plain": "Canvas(toolbar=Toolbar(toolitems=[('Home', 'Reset original view', 'home', 'home'), ('Back', 'Back to previous …",
      "application/vnd.jupyter.widget-view+json": {
       "version_major": 2,
       "version_minor": 0,
       "model_id": "ea3d69ce166f4a1a97b2e2d4e1e779c6"
      }
     },
     "metadata": {}
    },
    {
     "output_type": "execute_result",
     "data": {
      "text/plain": [
       "<matplotlib.legend.Legend at 0x14e53563d30>"
      ]
     },
     "metadata": {},
     "execution_count": 667
    }
   ],
   "source": [
    "from modules.physics import kinematics\n",
    "\n",
    "%matplotlib widget\n",
    "\n",
    "plt.style.use(hep.style.ROOT)\n",
    "fig = plt.figure(figsize=(15,7))\n",
    "ax = fig.add_subplot()\n",
    "\n",
    "fig.suptitle(f'4 tracks mass', fontsize=32)\n",
    "b = 100\n",
    "r = 0.5,3.5\n",
    "\n",
    "counts,bin_edges = np.histogram(kinematics.mass_events(ft.GetTracksWithPtLt(ft.GetTracksWithNTPC(ft.four_tracks_zq)).loc[untriggered_events]), bins=b, range=r)\n",
    "bin_centres = (bin_edges[:-1] + bin_edges[1:])/2.\n",
    "errs = np.sqrt(counts)\n",
    "ax.errorbar(bin_centres, counts, yerr=errs, fmt='.', color=colors[1], label=r\"$Q\\neq0$\")\n",
    "\n",
    "val=(r[1]-r[0])*1000 // b\n",
    "ax.set_xlabel('$Mass, GeV$')\n",
    "ax.set_ylabel(f'#events / {val}MeV')\n",
    "ax.legend()"
   ]
  },
  {
   "source": [
    "+### Pions subsystems\n",
    "\n",
    "In our process 4 pions were producted. The most probably intermediate state including two pions and $\\rho$ i.e.\n",
    "$$\\rho' \\rightarrow \\rho \\ \\pi^+ \\pi^- \\rightarrow \\pi^+ \\pi^- \\pi^+ \\pi^-$$ \n",
    "\n",
    "We can see this on distribution of mass that can be obtained as all combinations of pairs from intial four tracks, i.e. only four pairs:\n",
    "\n",
    "![img](https://camo.githubusercontent.com/53a52e2a6d4ae7112d74f4073c979a51166170d8/68747470733a2f2f70702e757365726170692e636f6d2f633835333632342f763835333632343436372f34383466332f5431375a754b597062526f2e6a7067)\n",
    "\n",
    "Here we can plot two distirbutions:\n",
    "\n",
    "1. Make all possible(4) combinations of pairs. Then take lightest and pair that belong to one combination with that. Plot masses of these two pairs.\n",
    "2. Plot masses of masses from possible combinations."
   ],
   "cell_type": "markdown",
   "metadata": {}
  },
  {
   "cell_type": "code",
   "execution_count": 28,
   "metadata": {},
   "outputs": [
    {
     "output_type": "display_data",
     "data": {
      "text/plain": "Canvas(toolbar=Toolbar(toolitems=[('Home', 'Reset original view', 'home', 'home'), ('Back', 'Back to previous …",
      "application/vnd.jupyter.widget-view+json": {
       "version_major": 2,
       "version_minor": 0,
       "model_id": "5c9d9df0935040dca1c7a8f390776145"
      }
     },
     "metadata": {}
    },
    {
     "output_type": "stream",
     "name": "stderr",
     "text": [
      "No handles with labels found to put in legend.\n"
     ]
    }
   ],
   "source": [
    "from modules.physics.analysis import pairs\n",
    "\n",
    "%matplotlib widget\n",
    "# ShowMassComaprison(LiteHeavyRecoil, 'Lightest and Recoil Pairs')\n",
    "LiteHeavyRecoil, LiteHeavyTotal = pairs.GetPairs(ft.GetTracksWithPtLt(ft.GetTracksWithNTPC(ft.four_tracks_zq,4).loc[triggered_events]))\n",
    "pairs.ShowMassComaprison(LiteHeavyTotal, r'$\\rho^0 \\rightarrow \\pi^+\\pi^-$   and    $\\pi^+\\pi^-$ masses')"
   ]
  },
  {
   "source": [
    "As we can see above, for second case (all possible pairs) we've got stronger signal in comparison with light-recoil pair as it made in [STAR work](http://arxiv.org/abs/0912.0604v2). Let's build 2d distirbuition and marginals component separately:"
   ],
   "cell_type": "markdown",
   "metadata": {}
  },
  {
   "cell_type": "code",
   "execution_count": 31,
   "metadata": {},
   "outputs": [
    {
     "output_type": "display_data",
     "data": {
      "text/plain": "Canvas(toolbar=Toolbar(toolitems=[('Home', 'Reset original view', 'home', 'home'), ('Back', 'Back to previous …",
      "application/vnd.jupyter.widget-view+json": {
       "version_major": 2,
       "version_minor": 0,
       "model_id": "ffc9fc7fbbf549bcb0fed13a8745e00a"
      }
     },
     "metadata": {}
    },
    {
     "output_type": "stream",
     "name": "stderr",
     "text": [
      "No handles with labels found to put in legend.\n"
     ]
    },
    {
     "output_type": "execute_result",
     "data": {
      "text/plain": [
       "<matplotlib.legend.Legend at 0x20724a48610>"
      ]
     },
     "metadata": {},
     "execution_count": 31
    }
   ],
   "source": [
    "import matplotlib.pyplot as plt\n",
    "from matplotlib.gridspec import GridSpec\n",
    "import numpy as np\n",
    "\n",
    "plt.style.use(hep.style.ROOT)\n",
    "\n",
    "fig = plt.figure(figsize=(15, 7))\n",
    "\n",
    "gs = GridSpec(4,4,wspace=0.1,hspace=0.1)\n",
    "\n",
    "ax_joint = fig.add_subplot(gs[1:4,0:3])\n",
    "ax_marg_x = fig.add_subplot(gs[0,0:3])\n",
    "ax_marg_y = fig.add_subplot(gs[1:4,3])\n",
    "\n",
    "ax_joint.hist2d(LiteHeavyTotal.Recoil, LiteHeavyTotal.Lite, bins=(50, 50), range=[(0, 2), (0, 2)], cmap=plt.cm.jet)\n",
    "_ = ax_marg_y.hist(LiteHeavyTotal.Lite, bins=100, range=(0, 2), histtype='step', color='blue', linewidth=2, label='lite pair',orientation=\"horizontal\")\n",
    "_ = ax_marg_x.hist(LiteHeavyTotal.Recoil, bins=100, range=(0, 2), histtype='step', color='red', linewidth=2, label='rest pair')\n",
    "\n",
    "\n",
    "ax_joint.set_ylabel('Lightest pair Mass, GeV')\n",
    "ax_joint.set_xlabel('Recoiling pair Mass, GeV')\n",
    "\n",
    "# ax_marg_y.set_xlabel('$Mass, GeV$')\n",
    "ax_marg_y.set_xlabel('# events')\n",
    "ax_marg_x.yaxis.set_label_position(\"right\")\n",
    "ax_marg_x.xaxis.set_ticks([])\n",
    "ax_marg_x.xaxis.set_ticks_position('none')\n",
    "ax_marg_y.yaxis.set_ticks_position('none')\n",
    "ax_marg_y.yaxis.set_ticks([])\n",
    "\n",
    "# ax_marg_x.set_xlabel('$Mass, GeV$')\n",
    "ax_marg_x.set_ylabel('# events')\n",
    "ax_marg_y.xaxis.set_label_position(\"top\")\n",
    "ax_marg_x\n",
    "ax_joint.legend()\n"
   ]
  },
  {
   "cell_type": "code",
   "execution_count": 13,
   "metadata": {},
   "outputs": [
    {
     "output_type": "display_data",
     "data": {
      "text/plain": "Canvas(toolbar=Toolbar(toolitems=[('Home', 'Reset original view', 'home', 'home'), ('Back', 'Back to previous …",
      "application/vnd.jupyter.widget-view+json": {
       "version_major": 2,
       "version_minor": 0,
       "model_id": "22fa3cbddbd24962a6f97e6cb5772612"
      }
     },
     "metadata": {}
    },
    {
     "output_type": "display_data",
     "data": {
      "text/plain": "Canvas(toolbar=Toolbar(toolitems=[('Home', 'Reset original view', 'home', 'home'), ('Back', 'Back to previous …",
      "application/vnd.jupyter.widget-view+json": {
       "version_major": 2,
       "version_minor": 0,
       "model_id": "39cc759c1dcd4085acd07530772503b4"
      }
     },
     "metadata": {}
    }
   ],
   "source": [
    "%matplotlib widget\n",
    "\n",
    "\n",
    "plt.style.use(hep.style.ROOT)\n",
    "fig = plt.figure(figsize=(15,7))\n",
    "ax = fig.add_subplot()\n",
    "\n",
    "counts1, bins1  = np.histogram(LiteHeavyRecoil.Recoil, bins=100, range=(0,2))\n",
    "counts2, bins2  = np.histogram(LiteHeavyTotal.Recoil, bins=100, range=(0,2))\n",
    "\n",
    "_ = ax.hist(counts1/counts2,bins=bins1, histtype='step', color='black', linewidth=2)\n",
    "\n",
    "\n",
    "plt.style.use(hep.style.ROOT)\n",
    "fig = plt.figure(figsize=(15,7))\n",
    "ax = fig.add_subplot()\n",
    "\n",
    "counts1, bins1  = np.histogram(LiteHeavyRecoil.Lite, bins=100, range=(0,2))\n",
    "counts2, bins2  = np.histogram(LiteHeavyTotal.Lite, bins=100, range=(0,2))\n",
    "\n",
    "_ = ax.hist(counts1/counts2,bins=bins1, histtype='step', color='black', linewidth=2)"
   ]
  },
  {
   "source": [
    "## Cross section\n",
    "\n",
    "Let's see to cross section of my events.\n",
    "\n",
    "For this we should take luminosity of runs.\n",
    "\n",
    "> Unfortunately file that I have to use for getting luminosity have a reference to special class AliTriggerInfo and moreover it packed into TObjArray, so I can't read it via uproot4. This is the reason why I used pure root again. [Here is the script](https://github.com/bdrum/cern-physics/blob/master/root-cpp/RhoPrime/macro/lumi.C) that I used.\n",
    "\n",
    "Then let's see how much events do we have in each run.\n",
    "\n",
    "$$L = \\sigma \\frac{\\delta N}{\\delta t}$$, this means that \n",
    "\n",
    "$$\\sigma \\approx \\frac{N}{L}$$\n",
    "\n",
    "Cross section of phenomena should be flat and independent from runs. \n",
    "\n",
    "Let's check it:"
   ],
   "cell_type": "markdown",
   "metadata": {}
  },
  {
   "cell_type": "code",
   "execution_count": 8,
   "metadata": {},
   "outputs": [
    {
     "output_type": "execute_result",
     "data": {
      "text/plain": [
       "count    119.000000\n",
       "mean       4.454220\n",
       "std        1.266880\n",
       "min        1.432162\n",
       "25%        3.573470\n",
       "50%        4.136248\n",
       "75%        5.128244\n",
       "max        8.824594\n",
       "Name: sigma, dtype: float64"
      ]
     },
     "metadata": {},
     "execution_count": 8
    }
   ],
   "source": [
    "from modules.physics.analysis.crossection import GetCrossSection\n",
    "\n",
    "df_cs = GetCrossSection(ft.GetTracksWithPtLt(ft.GetTracksWithNTPC(ft.four_tracks_zq)))\n",
    "df_cs['sigma'] = df_cs.nEvFT / (df_cs.Lumi * 1000)\n",
    "df_cs.sigma.describe()\n"
   ]
  },
  {
   "cell_type": "code",
   "execution_count": 53,
   "metadata": {},
   "outputs": [
    {
     "output_type": "display_data",
     "data": {
      "text/plain": "Canvas(toolbar=Toolbar(toolitems=[('Home', 'Reset original view', 'home', 'home'), ('Back', 'Back to previous …",
      "application/vnd.jupyter.widget-view+json": {
       "version_major": 2,
       "version_minor": 0,
       "model_id": "5c4a84f9526743db926797d38230fcb6"
      }
     },
     "metadata": {}
    },
    {
     "output_type": "execute_result",
     "data": {
      "text/plain": [
       "<matplotlib.legend.Legend at 0x1fb186273d0>"
      ]
     },
     "metadata": {},
     "execution_count": 53
    }
   ],
   "source": [
    "import scipy.stats\n",
    "\n",
    "fig = plt.figure(figsize=(25, 7))\n",
    "# fig.suptitle(\"visible cross section\")\n",
    "ax = fig.add_subplot()\n",
    "bins = list(df_cs.run)\n",
    "cnts = list(df_cs.sigma)\n",
    "errs = np.sqrt(df_cs.nEvFT)/(df_cs.Lumi * 1000)\n",
    "x = np.arange(len(bins))\n",
    "width = 0.15\n",
    "ax.errorbar(x - width/2, cnts, yerr=errs, fmt='o', label=r'$\\sigma \\approx \\frac{N_{(\\pi^+\\pi^-\\pi^+\\pi^-)_{ev}}}{L}$')\n",
    "ax.set_xticks(x)\n",
    "ax.set_xticklabels(bins, rotation=90, rotation_mode=\"anchor\", ha=\"right\", fontsize=12)\n",
    "ax.set_ylabel(r'$\\sigma$',fontsize=14)\n",
    "ax.set_ylim(0,10)\n",
    "\n",
    "chi2,p = scipy.stats.chisquare(cnts, np.tile(np.average(cnts),len(cnts)))\n",
    "ax.text(108,8,r\"$\\frac{Chi^2}{NDf} = \\frac{189.388}{118}$\", size=20)\n",
    "ax.text(108,7,r\"$p0 = 4.4542 \\pm 0.11613$\", size=16)\n",
    "ax.legend(prop={'size': 15})\n",
    "ax.axhline(y=np.average(cnts), color='r', linestyle='-')\n",
    "ax.legend()"
   ]
  },
  {
   "source": [
    "## Other decays\n",
    "\n",
    "In PDG I've seen also other interesting modes for $\\rho'$:\n",
    "\n",
    "- 1. $\\rho' \\rightarrow \\eta_0 \\rho_0$ | ?\n",
    "   - 1.1. $\\rho_0 \\rightarrow 4 \\pi$ | $2*10^{-5}\\%$\n",
    "   - 1.2. $\\rho_0 \\rightarrow \\pi^+ \\pi^-$ | $10^{-2}\\%$\n",
    "   - 1.3. $\\eta_0' \\rightarrow  \\pi^+ \\pi^- \\gamma$ | $4\\%$\n",
    "   - 1.4. $\\eta_0' \\rightarrow  \\pi^+ \\pi^- \\pi^0$ | $23\\%$\n",
    "- 2. $\\rho' \\rightarrow 4 \\pi$ | ?\n",
    "\n",
    "What about $\\rho' \\rightarrow \\rho_0 \\rho_0$ is it possible?"
   ],
   "cell_type": "markdown",
   "metadata": {}
  },
  {
   "source": [
    "## False triggering\n",
    "\n",
    "There are some situations when CUP9 triggering could be false.\n",
    "\n",
    "\n",
    "\n"
   ],
   "cell_type": "markdown",
   "metadata": {}
  },
  {
   "cell_type": "code",
   "execution_count": 14,
   "metadata": {},
   "outputs": [
    {
     "output_type": "stream",
     "name": "stderr",
     "text": [
      "100%|██████████| 81496/81496 [03:31<00:00, 385.60it/s]\n",
      "100%|██████████| 20069/20069 [00:24<00:00, 806.51it/s]\n"
     ]
    }
   ],
   "source": [
    "from tqdm import tqdm\n",
    "\n",
    "# let's upload ITSSensorNum. This param contains numbers of fired FORs in EVENT \n",
    "ITSSensorNums = ft.orig_events.arrays(filter_name=['T_ITSSensorNum'], library='pd')\n",
    "\n",
    "# form arrays of numbers of sensor that linked with TRACKS \n",
    "track_modules = ft.four_tracks_zq[['T_ITSModuleInner','T_ITSModuleOuter']] // 1000000\n",
    "\n",
    "# get FORs number for only four track events with zero total charge\n",
    "for_sensors = ITSSensorNums.loc[pd.unique(track_modules.reset_index().entry)]\n",
    "\n",
    "# combine into one dataframe\n",
    "df = pd.merge(track_modules.reset_index(),for_sensors.groupby('entry').T_ITSSensorNum.apply(np.array),on='entry')\n",
    "\n",
    "# check that sensor linked with track will provide trigger (match with FOR sensor)\n",
    "df[\"Inner_matched\"] = (abs(abs(df.T_ITSModuleInner - df.T_ITSSensorNum) - 2/5).apply(lambda x: x <= 2/5)) * df.T_ITSSensorNum.apply(lambda x: x < 80)\n",
    "\n",
    "df[\"Outer_matched\"] = (abs(abs(df.T_ITSModuleOuter - df.T_ITSSensorNum) - 2/5).apply(lambda x: x <= 2/5)) * df.T_ITSSensorNum.apply(lambda x: x >= 80)\n",
    "df[\"vPhiInner\"] = np.nan\n",
    "df.vPhiInner = df.vPhiInner.astype('object')\n",
    "df[\"vPhiOuter\"] = np.nan\n",
    "df.vPhiOuter = df.vPhiOuter.astype('object')\n",
    "\n",
    "df[\"vPhiInnerValue\"] = np.nan\n",
    "df.vPhiInnerValue = df.vPhiInnerValue.astype('object')\n",
    "df[\"vPhiOuterValue\"] = np.nan\n",
    "df.vPhiOuterValue = df.vPhiOuterValue.astype('object')\n",
    "\n",
    "for i in tqdm(range(len(df))):\n",
    "    vPhiInner1 = np.zeros(20, dtype=np.bool)\n",
    "    vPhiOuter1 = np.zeros(40, dtype=np.bool)\n",
    "\n",
    "    vPhiInnerValues = pd.unique(df.T_ITSSensorNum[i][df.Inner_matched[i]]//4)\n",
    "    vPhiOuterValues = pd.unique((df.T_ITSSensorNum[i][df.Outer_matched[i]]-80)//4)\n",
    "\n",
    "    vPhiInner1[vPhiInnerValues]=True\n",
    "    df.vPhiInner[i] = vPhiInner1\n",
    "\n",
    "    vPhiOuter1[vPhiOuterValues]=True\n",
    "    df.vPhiOuter[i] = vPhiOuter1\n",
    "\n",
    "    df.vPhiInnerValue[i] = vPhiInnerValues\n",
    "    df.vPhiOuterValue[i] = vPhiOuterValues\n",
    "\n",
    "df_dbg = df.copy()\n",
    "\n",
    "# take only matched tracks and fill vPhi arrays for inner and outer\n",
    "df = df[(df.Inner_matched.apply(any) + df.Outer_matched.apply(any))][['entry', 'vPhiInner', 'vPhiOuter']].groupby('entry').sum()\n",
    "\n",
    "df[\"triggered\"] = False\n",
    "\n",
    "# check incorrect topology \n",
    "\n",
    "for t in tqdm(df.index):\n",
    "    for i in range(10):\n",
    "        for j in range(2):\n",
    "            k = 2*i+j\n",
    "            if  (df.vPhiOuter[t][k]    or df.vPhiOuter[t][k+1]        or df.vPhiOuter[t][k+2]) \\\n",
    "\t\t    and (df.vPhiOuter[t][k+20] or df.vPhiOuter[t][(k+21)%40]  or df.vPhiOuter[t][(k+22)%40]) \\\n",
    "\t\t    and (df.vPhiInner[t][i]    or df.vPhiInner[t][i+1]) \\\n",
    "\t\t    and (df.vPhiInner[t][i+10] or df.vPhiInner[t][(i+11)%20]):\n",
    "                df.at[t,'triggered'] = True\n",
    "\n",
    "triggered_events = df.index[df.triggered]\n",
    "untriggered_events = df.index[~df.triggered]"
   ]
  },
  {
   "source": [
    "> Comparison with Valeri data\n",
    "\n",
    "$\\downarrow \\downarrow \\downarrow \\downarrow$ TO BE REMOVED $\\downarrow \\downarrow \\downarrow \\downarrow $"
   ],
   "cell_type": "markdown",
   "metadata": {}
  },
  {
   "cell_type": "code",
   "execution_count": 49,
   "metadata": {},
   "outputs": [],
   "source": [
    "# pvn = pd.read_csv(r'C:\\Users\\bdrum\\Desktop\\log', delimiter=' ', header=None)\n",
    "# pvn.to_csv(\"C:\\Users\\bdrum\\Desktop\\pvn.csv\")\n",
    "\n",
    "run_info = ft.orig_events.arrays(filter_name=['RunNum', 'PeriodNumber','OrbitNumber', 'BunchCrossNumber'], library='pd')\n",
    "bdrum = pd.merge(run_info[run_info.RunNum == 246087],df.triggered,left_index=True,right_index=True).reset_index()\n",
    "\n",
    "bdrum.to_csv(r\"C:\\Users\\bdrum\\Desktop\\bdrum.csv\")"
   ]
  },
  {
   "cell_type": "code",
   "execution_count": 18,
   "metadata": {},
   "outputs": [],
   "source": [
    "ftzq = ft.four_tracks_zq"
   ]
  },
  {
   "cell_type": "code",
   "execution_count": 132,
   "metadata": {},
   "outputs": [
    {
     "output_type": "execute_result",
     "data": {
      "text/plain": [
       "    entry  subentry  T_ITSModuleInner  T_ITSModuleOuter  \\\n",
       "44     76         0              70.0             218.0   \n",
       "45     76         1              61.0             201.0   \n",
       "46     76         2              74.0             230.0   \n",
       "47     76         3               9.0              97.0   \n",
       "\n",
       "                                       T_ITSSensorNum  \\\n",
       "44  [1, 5, 9, 21, 49, 57, 58, 61, 70, 72, 74, 78, ...   \n",
       "45  [1, 5, 9, 21, 49, 57, 58, 61, 70, 72, 74, 78, ...   \n",
       "46  [1, 5, 9, 21, 49, 57, 58, 61, 70, 72, 74, 78, ...   \n",
       "47  [1, 5, 9, 21, 49, 57, 58, 61, 70, 72, 74, 78, ...   \n",
       "\n",
       "                                        Inner_matched  \\\n",
       "44  [False, False, False, False, False, False, Fal...   \n",
       "45  [False, False, False, False, False, False, Fal...   \n",
       "46  [False, False, False, False, False, False, Fal...   \n",
       "47  [False, False, True, False, False, False, Fals...   \n",
       "\n",
       "                                        Outer_matched  \\\n",
       "44  [False, False, False, False, False, False, Fal...   \n",
       "45  [False, False, False, False, False, False, Fal...   \n",
       "46  [False, False, False, False, False, False, Fal...   \n",
       "47  [False, False, False, False, False, False, Fal...   \n",
       "\n",
       "                                            vPhiInner  \\\n",
       "44  [False, False, False, False, False, False, Fal...   \n",
       "45  [False, False, False, False, False, False, Fal...   \n",
       "46  [False, False, False, False, False, False, Fal...   \n",
       "47  [False, False, True, False, False, False, Fals...   \n",
       "\n",
       "                                            vPhiOuter vPhiInnerValue  \\\n",
       "44  [False, False, False, False, False, False, Fal...           [17]   \n",
       "45  [False, False, False, False, False, False, Fal...           [15]   \n",
       "46  [False, False, False, False, False, False, Fal...           [18]   \n",
       "47  [False, False, False, False, True, False, Fals...            [2]   \n",
       "\n",
       "   vPhiOuterValue  \n",
       "44           [34]  \n",
       "45           [30]  \n",
       "46           [37]  \n",
       "47            [4]  "
      ],
      "text/html": "<div>\n<style scoped>\n    .dataframe tbody tr th:only-of-type {\n        vertical-align: middle;\n    }\n\n    .dataframe tbody tr th {\n        vertical-align: top;\n    }\n\n    .dataframe thead th {\n        text-align: right;\n    }\n</style>\n<table border=\"1\" class=\"dataframe\">\n  <thead>\n    <tr style=\"text-align: right;\">\n      <th></th>\n      <th>entry</th>\n      <th>subentry</th>\n      <th>T_ITSModuleInner</th>\n      <th>T_ITSModuleOuter</th>\n      <th>T_ITSSensorNum</th>\n      <th>Inner_matched</th>\n      <th>Outer_matched</th>\n      <th>vPhiInner</th>\n      <th>vPhiOuter</th>\n      <th>vPhiInnerValue</th>\n      <th>vPhiOuterValue</th>\n    </tr>\n  </thead>\n  <tbody>\n    <tr>\n      <th>44</th>\n      <td>76</td>\n      <td>0</td>\n      <td>70.0</td>\n      <td>218.0</td>\n      <td>[1, 5, 9, 21, 49, 57, 58, 61, 70, 72, 74, 78, ...</td>\n      <td>[False, False, False, False, False, False, Fal...</td>\n      <td>[False, False, False, False, False, False, Fal...</td>\n      <td>[False, False, False, False, False, False, Fal...</td>\n      <td>[False, False, False, False, False, False, Fal...</td>\n      <td>[17]</td>\n      <td>[34]</td>\n    </tr>\n    <tr>\n      <th>45</th>\n      <td>76</td>\n      <td>1</td>\n      <td>61.0</td>\n      <td>201.0</td>\n      <td>[1, 5, 9, 21, 49, 57, 58, 61, 70, 72, 74, 78, ...</td>\n      <td>[False, False, False, False, False, False, Fal...</td>\n      <td>[False, False, False, False, False, False, Fal...</td>\n      <td>[False, False, False, False, False, False, Fal...</td>\n      <td>[False, False, False, False, False, False, Fal...</td>\n      <td>[15]</td>\n      <td>[30]</td>\n    </tr>\n    <tr>\n      <th>46</th>\n      <td>76</td>\n      <td>2</td>\n      <td>74.0</td>\n      <td>230.0</td>\n      <td>[1, 5, 9, 21, 49, 57, 58, 61, 70, 72, 74, 78, ...</td>\n      <td>[False, False, False, False, False, False, Fal...</td>\n      <td>[False, False, False, False, False, False, Fal...</td>\n      <td>[False, False, False, False, False, False, Fal...</td>\n      <td>[False, False, False, False, False, False, Fal...</td>\n      <td>[18]</td>\n      <td>[37]</td>\n    </tr>\n    <tr>\n      <th>47</th>\n      <td>76</td>\n      <td>3</td>\n      <td>9.0</td>\n      <td>97.0</td>\n      <td>[1, 5, 9, 21, 49, 57, 58, 61, 70, 72, 74, 78, ...</td>\n      <td>[False, False, True, False, False, False, Fals...</td>\n      <td>[False, False, False, False, False, False, Fal...</td>\n      <td>[False, False, True, False, False, False, Fals...</td>\n      <td>[False, False, False, False, True, False, Fals...</td>\n      <td>[2]</td>\n      <td>[4]</td>\n    </tr>\n  </tbody>\n</table>\n</div>"
     },
     "metadata": {},
     "execution_count": 132
    }
   ],
   "source": [
    "df_dbg.loc[df_dbg.entry[df_dbg.entry == 76].index]"
   ]
  },
  {
   "cell_type": "code",
   "execution_count": 153,
   "metadata": {},
   "outputs": [
    {
     "output_type": "stream",
     "name": "stdout",
     "text": [
      "0 0\nInner barrel:\nFalse False\nFalse False\n\nOuter barrel:\nFalse False False\nFalse False False\nuntriggered\n1 1\nInner barrel:\nFalse False\nFalse False\n\nOuter barrel:\nFalse False False\nFalse False False\nuntriggered\n0 2\nInner barrel:\nFalse True\nFalse False\n\nOuter barrel:\nFalse False True\nFalse False False\nuntriggered\n1 3\nInner barrel:\nFalse True\nFalse False\n\nOuter barrel:\nFalse True False\nFalse False False\nuntriggered\n0 4\nInner barrel:\nTrue False\nFalse False\n\nOuter barrel:\nTrue False False\nFalse False False\nuntriggered\n1 5\nInner barrel:\nTrue False\nFalse False\n\nOuter barrel:\nFalse False False\nFalse False False\nuntriggered\n0 6\nInner barrel:\nFalse False\nFalse False\n\nOuter barrel:\nFalse False False\nFalse False False\nuntriggered\n1 7\nInner barrel:\nFalse False\nFalse False\n\nOuter barrel:\nFalse False False\nFalse False False\nuntriggered\n0 8\nInner barrel:\nFalse False\nFalse True\n\nOuter barrel:\nFalse False False\nFalse False True\nuntriggered\n1 9\nInner barrel:\nFalse False\nFalse True\n\nOuter barrel:\nFalse False False\nFalse True False\nuntriggered\n0 10\nInner barrel:\nFalse False\nTrue False\n\nOuter barrel:\nFalse False False\nTrue False False\nuntriggered\n1 11\nInner barrel:\nFalse False\nTrue False\n\nOuter barrel:\nFalse False False\nFalse False False\nuntriggered\n0 12\nInner barrel:\nFalse False\nFalse True\n\nOuter barrel:\nFalse False False\nFalse False True\nuntriggered\n1 13\nInner barrel:\nFalse False\nFalse True\n\nOuter barrel:\nFalse False False\nFalse True False\nuntriggered\n0 14\nInner barrel:\nFalse False\nTrue True\n\nOuter barrel:\nFalse False False\nTrue False False\nuntriggered\n1 15\nInner barrel:\nFalse False\nTrue True\n\nOuter barrel:\nFalse False False\nFalse False True\nuntriggered\n0 16\nInner barrel:\nFalse False\nTrue False\n\nOuter barrel:\nFalse False False\nFalse True False\nuntriggered\n1 17\nInner barrel:\nFalse False\nTrue False\n\nOuter barrel:\nFalse False False\nTrue False False\nuntriggered\n0 18\nInner barrel:\nFalse False\nFalse False\n\nOuter barrel:\nFalse False False\nFalse False False\nuntriggered\n1 19\nInner barrel:\nFalse False\nFalse False\n\nOuter barrel:\nFalse False False\nFalse False False\nuntriggered\n"
     ]
    }
   ],
   "source": [
    "for t in list(range(76,77)):\n",
    "    for i in range(10):\n",
    "        for j in range(2):\n",
    "            k = 2*i+j\n",
    "            print (j,k)\n",
    "            print(\"Inner barrel:\")\n",
    "            print(df.vPhiInner[t][i],    df.vPhiInner[t][i+1])\n",
    "            print(df.vPhiInner[t][i+10], df.vPhiInner[t][(i+11)%20])\n",
    "            print()\n",
    "            print(\"Outer barrel:\")\n",
    "            print(df.vPhiOuter[t][k],    df.vPhiOuter[t][k+1],       df.vPhiOuter[t][k+2])\n",
    "            print(df.vPhiOuter[t][k+20], df.vPhiOuter[t][(k+21)%40], df.vPhiOuter[t][(k+22)%40])\n",
    "            if  (df.vPhiOuter[t][k]    or df.vPhiOuter[t][k+1]        or df.vPhiOuter[t][k+2]) \\\n",
    "\t\t    and (df.vPhiOuter[t][k+20] or df.vPhiOuter[t][(k+21)%40]  or df.vPhiOuter[t][(k+22)%40]) \\\n",
    "\t\t    and (df.vPhiInner[t][i]    or df.vPhiInner[t][i+1]) \\\n",
    "\t\t    and (df.vPhiInner[t][i+10] or df.vPhiInner[t][(i+11)%20]):\n",
    "                df.at[t,'triggered'] = True\n",
    "                print(\"1triggered\")\n",
    "            else:\n",
    "                print(\"untriggered\")\n"
   ]
  },
  {
   "cell_type": "code",
   "execution_count": 151,
   "metadata": {},
   "outputs": [
    {
     "output_type": "execute_result",
     "data": {
      "text/plain": [
       "                                                vPhiInner  \\\n",
       "entry                                                       \n",
       "6       [True, False, False, False, False, False, Fals...   \n",
       "9       [False, False, True, False, False, False, Fals...   \n",
       "26      [False, False, False, False, False, False, Fal...   \n",
       "27      [False, False, False, False, True, False, Fals...   \n",
       "39      [False, False, False, False, False, False, Fal...   \n",
       "...                                                   ...   \n",
       "114609  [False, False, False, False, False, False, Fal...   \n",
       "114623  [False, False, True, False, False, False, Fals...   \n",
       "114635  [False, False, True, False, False, False, Fals...   \n",
       "114638  [False, False, False, False, False, False, Fal...   \n",
       "114647  [False, False, True, False, False, False, Fals...   \n",
       "\n",
       "                                                vPhiOuter  triggered  \n",
       "entry                                                                 \n",
       "6       [True, False, False, False, False, False, Fals...      False  \n",
       "9       [False, False, False, False, False, True, Fals...       True  \n",
       "26      [False, False, False, False, False, False, Fal...      False  \n",
       "27      [False, False, False, False, False, False, Fal...       True  \n",
       "39      [False, False, False, False, False, False, Fal...       True  \n",
       "...                                                   ...        ...  \n",
       "114609  [False, False, False, False, False, False, Fal...       True  \n",
       "114623  [False, False, False, False, True, False, Fals...       True  \n",
       "114635  [False, False, False, False, True, False, Fals...       True  \n",
       "114638  [False, False, False, False, False, False, Fal...      False  \n",
       "114647  [False, False, False, False, True, False, Fals...       True  \n",
       "\n",
       "[20069 rows x 3 columns]"
      ],
      "text/html": "<div>\n<style scoped>\n    .dataframe tbody tr th:only-of-type {\n        vertical-align: middle;\n    }\n\n    .dataframe tbody tr th {\n        vertical-align: top;\n    }\n\n    .dataframe thead th {\n        text-align: right;\n    }\n</style>\n<table border=\"1\" class=\"dataframe\">\n  <thead>\n    <tr style=\"text-align: right;\">\n      <th></th>\n      <th>vPhiInner</th>\n      <th>vPhiOuter</th>\n      <th>triggered</th>\n    </tr>\n    <tr>\n      <th>entry</th>\n      <th></th>\n      <th></th>\n      <th></th>\n    </tr>\n  </thead>\n  <tbody>\n    <tr>\n      <th>6</th>\n      <td>[True, False, False, False, False, False, Fals...</td>\n      <td>[True, False, False, False, False, False, Fals...</td>\n      <td>False</td>\n    </tr>\n    <tr>\n      <th>9</th>\n      <td>[False, False, True, False, False, False, Fals...</td>\n      <td>[False, False, False, False, False, True, Fals...</td>\n      <td>True</td>\n    </tr>\n    <tr>\n      <th>26</th>\n      <td>[False, False, False, False, False, False, Fal...</td>\n      <td>[False, False, False, False, False, False, Fal...</td>\n      <td>False</td>\n    </tr>\n    <tr>\n      <th>27</th>\n      <td>[False, False, False, False, True, False, Fals...</td>\n      <td>[False, False, False, False, False, False, Fal...</td>\n      <td>True</td>\n    </tr>\n    <tr>\n      <th>39</th>\n      <td>[False, False, False, False, False, False, Fal...</td>\n      <td>[False, False, False, False, False, False, Fal...</td>\n      <td>True</td>\n    </tr>\n    <tr>\n      <th>...</th>\n      <td>...</td>\n      <td>...</td>\n      <td>...</td>\n    </tr>\n    <tr>\n      <th>114609</th>\n      <td>[False, False, False, False, False, False, Fal...</td>\n      <td>[False, False, False, False, False, False, Fal...</td>\n      <td>True</td>\n    </tr>\n    <tr>\n      <th>114623</th>\n      <td>[False, False, True, False, False, False, Fals...</td>\n      <td>[False, False, False, False, True, False, Fals...</td>\n      <td>True</td>\n    </tr>\n    <tr>\n      <th>114635</th>\n      <td>[False, False, True, False, False, False, Fals...</td>\n      <td>[False, False, False, False, True, False, Fals...</td>\n      <td>True</td>\n    </tr>\n    <tr>\n      <th>114638</th>\n      <td>[False, False, False, False, False, False, Fal...</td>\n      <td>[False, False, False, False, False, False, Fal...</td>\n      <td>False</td>\n    </tr>\n    <tr>\n      <th>114647</th>\n      <td>[False, False, True, False, False, False, Fals...</td>\n      <td>[False, False, False, False, True, False, Fals...</td>\n      <td>True</td>\n    </tr>\n  </tbody>\n</table>\n<p>20069 rows × 3 columns</p>\n</div>"
     },
     "metadata": {},
     "execution_count": 151
    }
   ],
   "source": [
    "df"
   ]
  },
  {
   "cell_type": "code",
   "execution_count": 147,
   "metadata": {},
   "outputs": [
    {
     "output_type": "execute_result",
     "data": {
      "text/plain": [
       "Int64Index([     9,     27,     39,     46,     49,     50,     73,     80,\n",
       "                93,    191,\n",
       "            ...\n",
       "            114542, 114543, 114549, 114572, 114581, 114604, 114609, 114623,\n",
       "            114635, 114647],\n",
       "           dtype='int64', name='entry', length=10757)"
      ]
     },
     "metadata": {},
     "execution_count": 147
    }
   ],
   "source": [
    "triggered_events\n"
   ]
  },
  {
   "cell_type": "code",
   "execution_count": 134,
   "metadata": {},
   "outputs": [
    {
     "output_type": "stream",
     "name": "stdout",
     "text": [
      "1 False\n5 False\n9 True\n21 False\n49 False\n57 False\n58 False\n61 True\n70 True\n72 False\n74 True\n78 False\n97 True\n117 False\n121 False\n196 False\n201 True\n218 True\n230 True\n236 False\n"
     ]
    }
   ],
   "source": [
    "n= 76\n",
    "t = 44\n",
    "\n",
    "a1 = df_dbg.loc[df_dbg.entry[df_dbg.entry == n].index].T_ITSSensorNum[t]\n",
    "a2 = df_dbg.loc[df_dbg.entry[df_dbg.entry == n].index].Inner_matched.sum() + \\\n",
    "df_dbg.loc[df_dbg.entry[df_dbg.entry == n].index].Outer_matched.sum()\n",
    "a1\n",
    "for i in range(len(a1)):\n",
    "    print(a1[i], a2[i])"
   ]
  },
  {
   "source": [
    "$\\uparrow \\uparrow \\uparrow \\uparrow$ TO BE REMOVED $\\uparrow \\uparrow \\uparrow \\uparrow $\n"
   ],
   "cell_type": "markdown",
   "metadata": {}
  },
  {
   "source": [
    "### Triggered ratios\n",
    "|class|total|triggered|untriggered|triggered, %\n",
    "|:--:|:--:|:--:|:--:|\n",
    "|four track zq|20069|10757|9312|46|\n",
    "|four track zq 4 TPC|6292|3658|2559|58|"
   ],
   "cell_type": "markdown",
   "metadata": {}
  },
  {
   "cell_type": "code",
   "execution_count": 99,
   "metadata": {},
   "outputs": [
    {
     "output_type": "execute_result",
     "data": {
      "text/plain": [
       "0.46399920275051076"
      ]
     },
     "metadata": {},
     "execution_count": 99
    }
   ],
   "source": [
    "# track_4tpc = ft.GetTracksWithNTPC(ft.four_tracks_zq,4)\n",
    "#pd.unique(track_4tpc.reset_index().entry))\n",
    "# 6292 - total\n",
    "# 3658 - triggered\n",
    "# 2559 - untriggered\n",
    "# len(np.intersect1d(\\\n",
    "# pd.unique(track_4tpc.reset_index().entry), \\\n",
    "# untriggered_events\\\n",
    "# ))\n",
    "\n",
    "9312 / 20069"
   ]
  },
  {
   "cell_type": "code",
   "execution_count": 16,
   "metadata": {},
   "outputs": [
    {
     "output_type": "display_data",
     "data": {
      "text/plain": "Canvas(toolbar=Toolbar(toolitems=[('Home', 'Reset original view', 'home', 'home'), ('Back', 'Back to previous …",
      "application/vnd.jupyter.widget-view+json": {
       "version_major": 2,
       "version_minor": 0,
       "model_id": "54f46b0373704688b3816c24abc26667"
      }
     },
     "metadata": {}
    },
    {
     "output_type": "execute_result",
     "data": {
      "text/plain": [
       "<matplotlib.legend.Legend at 0x1fb0b6be220>"
      ]
     },
     "metadata": {},
     "execution_count": 16
    }
   ],
   "source": [
    "from matplotlib.patches import Rectangle \n",
    "from modules.physics import kinematics\n",
    "\n",
    "%matplotlib widget\n",
    "\n",
    "plt.style.use(hep.style.ROOT)\n",
    "fig = plt.figure(figsize=(10,8))\n",
    "ax = fig.add_subplot()\n",
    "\n",
    "fig.suptitle(f'$p_t$ of events', fontsize=32)\n",
    "b = 100\n",
    "r = 0,2\n",
    "counts,bin_edges = np.histogram(kinematics.pt_events(ft.four_tracks_zq.loc[triggered_events]), bins=b, range=r)\n",
    "bin_centres = (bin_edges[:-1] + bin_edges[1:])/2.\n",
    "errs = np.sqrt(counts)\n",
    "ax.errorbar(bin_centres, counts, yerr=errs, fmt='.', label='correct triggered', color=colors[0])\n",
    "\n",
    "val=(r[1]-r[0])*1000 // b\n",
    "ax.set_xlabel('$p_t, GeV$')\n",
    "ax.set_ylabel(f'#events / {val}MeV')\n",
    "counts,bin_edges = np.histogram(kinematics.pt_events(ft.four_tracks_zq.loc[untriggered_events]), bins=b, range=r)\n",
    "bin_centres = (bin_edges[:-1] + bin_edges[1:])/2.\n",
    "errs = np.sqrt(counts)\n",
    "ax.errorbar(bin_centres, counts, yerr=errs, fmt='.', label='incorrect triggered', color=colors[2])\n",
    "ax.legend()"
   ]
  },
  {
   "cell_type": "code",
   "execution_count": 34,
   "metadata": {},
   "outputs": [
    {
     "output_type": "display_data",
     "data": {
      "text/plain": "Canvas(toolbar=Toolbar(toolitems=[('Home', 'Reset original view', 'home', 'home'), ('Back', 'Back to previous …",
      "application/vnd.jupyter.widget-view+json": {
       "version_major": 2,
       "version_minor": 0,
       "model_id": "2ff2e3a2f50d4027ada7eccdbe8887dd"
      }
     },
     "metadata": {}
    },
    {
     "output_type": "execute_result",
     "data": {
      "text/plain": [
       "<matplotlib.legend.Legend at 0x1fb0b74db80>"
      ]
     },
     "metadata": {},
     "execution_count": 34
    }
   ],
   "source": [
    "from modules.physics import kinematics\n",
    "\n",
    "%matplotlib widget\n",
    "\n",
    "plt.style.use(hep.style.ROOT)\n",
    "fig = plt.figure(figsize=(10,8))\n",
    "ax = fig.add_subplot()\n",
    "\n",
    "fig.suptitle('mass of events', fontsize=32)\n",
    "b = 100\n",
    "r = 0.7,2.7\n",
    "counts,bin_edges = np.histogram(kinematics.mass_events(ft.GetTracksWithPtLt(ft.GetTracksWithNTPC(ft.four_tracks_zq.loc[triggered_events]))), bins=b, range=r)\n",
    "bin_centres = (bin_edges[:-1] + bin_edges[1:])/2.\n",
    "errs = np.sqrt(counts)\n",
    "ax.errorbar(bin_centres, counts, yerr=errs, fmt='.', label='correct triggered', color=colors[0])\n",
    "\n",
    "val=(r[1]-r[0])*1000 // b\n",
    "ax.set_xlabel('$Mass, GeV$')\n",
    "ax.set_ylabel(f'#events / {val}MeV')\n",
    "\n",
    "counts,bin_edges = np.histogram(kinematics.mass_events(ft.GetTracksWithPtLt(ft.GetTracksWithNTPC(ft.four_tracks_zq.loc[untriggered_events]))), bins=b, range=r)\n",
    "bin_centres = (bin_edges[:-1] + bin_edges[1:])/2.\n",
    "errs = np.sqrt(counts)\n",
    "ax.errorbar(bin_centres, counts, yerr=errs, fmt='.', color=colors[2], label=\"incorrect triggered\")\n",
    "\n",
    "val=(r[1]-r[0])*1000 // b\n",
    "ax.set_xlabel('$Mass, GeV$')\n",
    "ax.set_ylabel(f'#events / {val}MeV')\n",
    "ax.legend()"
   ]
  },
  {
   "cell_type": "code",
   "execution_count": 46,
   "metadata": {},
   "outputs": [
    {
     "output_type": "display_data",
     "data": {
      "text/plain": "Canvas(toolbar=Toolbar(toolitems=[('Home', 'Reset original view', 'home', 'home'), ('Back', 'Back to previous …",
      "application/vnd.jupyter.widget-view+json": {
       "version_major": 2,
       "version_minor": 0,
       "model_id": "c84d442d51a24540b365061b9933e17e"
      }
     },
     "metadata": {}
    },
    {
     "output_type": "execute_result",
     "data": {
      "text/plain": [
       "<matplotlib.legend.Legend at 0x1fb0a37bac0>"
      ]
     },
     "metadata": {},
     "execution_count": 46
    }
   ],
   "source": [
    "from modules.physics import kinematics\n",
    "\n",
    "%matplotlib widget\n",
    "\n",
    "plt.style.use(hep.style.ROOT)\n",
    "fig = plt.figure(figsize=(10,8))\n",
    "ax = fig.add_subplot()\n",
    "\n",
    "fig.suptitle('mass of events', fontsize=32)\n",
    "b = 100\n",
    "r = 0.7,2.7\n",
    "\n",
    "\n",
    "cnts = ax.hist(kinematics.mass_events(ft.GetTracksWithPtLt(ft.GetTracksWithNTPC(ft.four_tracks_zq.loc[triggered_events]))),bins=b, range=r,histtype='step', linewidth=2, density=True, stacked=True, label='correct triggered', color='red')\n",
    "\n",
    "ax.hist(kinematics.mass_events(ft.GetTracksWithPtLt(ft.GetTracksWithNTPC(ft.four_tracks_zq.loc[untriggered_events]))),bins=b, range=r,histtype='step', linewidth=2, density=True, label='incorrect triggered', color='black',stacked=True)\n",
    "\n",
    "val=(r[1]-r[0])*1000 // b\n",
    "ax.set_xlabel('$Mass, GeV$')\n",
    "ax.set_ylabel(f'#events / {val}MeV')\n",
    "\n",
    "ax.legend()"
   ]
  },
  {
   "cell_type": "code",
   "execution_count": 47,
   "metadata": {},
   "outputs": [
    {
     "output_type": "execute_result",
     "data": {
      "text/plain": [
       "(array([0.        , 0.        , 0.        , 0.        , 0.02078998,\n",
       "        0.04158008, 0.        , 0.08315991, 0.        , 0.06237012,\n",
       "        0.10394989, 0.04158008, 0.06237012, 0.04157996, 0.18711037,\n",
       "        0.        , 0.08316016, 0.18711037, 0.14552942, 0.24948049,\n",
       "        0.20790041, 0.18711037, 0.22869045, 0.41580081, 0.45737817,\n",
       "        0.49896097, 0.81081158, 0.74844146, 0.95634187, 0.72765142,\n",
       "        1.01870592, 0.87318171, 1.16424227, 1.72557337, 1.55925305,\n",
       "        1.49688292, 1.64240342, 1.45530284, 1.2266124 , 1.80873353,\n",
       "        1.51767297, 1.76715345, 1.9958439 , 1.3721345 , 1.26819248,\n",
       "        1.53846301, 1.4345128 , 1.35135264, 1.39293272, 1.43450425,\n",
       "        1.10187215, 1.06029207, 0.97713191, 0.81081158, 0.68607134,\n",
       "        0.45737817, 0.6652813 , 0.51975102, 0.49896097, 0.5613311 ,\n",
       "        0.39501077, 0.56132775, 0.39501077, 0.43659085, 0.24948049,\n",
       "        0.37422073, 0.29106057, 0.49896097, 0.24948049, 0.18711037,\n",
       "        0.20790041, 0.27026731, 0.12474024, 0.16632032, 0.16632032,\n",
       "        0.14553028, 0.08316016, 0.24948049, 0.27027053, 0.22869045,\n",
       "        0.18711037, 0.16632032, 0.08316016, 0.14552855, 0.08316016,\n",
       "        0.08316016, 0.1039502 , 0.12474024, 0.04158008, 0.04158008,\n",
       "        0.04158008, 0.12474024, 0.04158008, 0.        , 0.04158008,\n",
       "        0.04158008, 0.02078979, 0.06237012, 0.04158008, 0.04158008]),\n",
       " array([0.7 , 0.72, 0.74, 0.76, 0.78, 0.8 , 0.82, 0.84, 0.86, 0.88, 0.9 ,\n",
       "        0.92, 0.94, 0.96, 0.98, 1.  , 1.02, 1.04, 1.06, 1.08, 1.1 , 1.12,\n",
       "        1.14, 1.16, 1.18, 1.2 , 1.22, 1.24, 1.26, 1.28, 1.3 , 1.32, 1.34,\n",
       "        1.36, 1.38, 1.4 , 1.42, 1.44, 1.46, 1.48, 1.5 , 1.52, 1.54, 1.56,\n",
       "        1.58, 1.6 , 1.62, 1.64, 1.66, 1.68, 1.7 , 1.72, 1.74, 1.76, 1.78,\n",
       "        1.8 , 1.82, 1.84, 1.86, 1.88, 1.9 , 1.92, 1.94, 1.96, 1.98, 2.  ,\n",
       "        2.02, 2.04, 2.06, 2.08, 2.1 , 2.12, 2.14, 2.16, 2.18, 2.2 , 2.22,\n",
       "        2.24, 2.26, 2.28, 2.3 , 2.32, 2.34, 2.36, 2.38, 2.4 , 2.42, 2.44,\n",
       "        2.46, 2.48, 2.5 , 2.52, 2.54, 2.56, 2.58, 2.6 , 2.62, 2.64, 2.66,\n",
       "        2.68, 2.7 ], dtype=float32),\n",
       " [<matplotlib.patches.Polygon at 0x1fb08375280>])"
      ]
     },
     "metadata": {},
     "execution_count": 47
    }
   ],
   "source": [
    "cnts"
   ]
  }
 ],
 "metadata": {
  "kernelspec": {
   "name": "python3",
   "display_name": "Python 3.8.6 64-bit",
   "metadata": {
    "interpreter": {
     "hash": "2db524e06e9f5f4ffedc911c917cb75e12dbc923643829bf417064a77eb14d37"
    }
   }
  },
  "language_info": {
   "codemirror_mode": {
    "name": "ipython",
    "version": 3
   },
   "file_extension": ".py",
   "mimetype": "text/x-python",
   "name": "python",
   "nbconvert_exporter": "python",
   "pygments_lexer": "ipython3",
   "version": "3.8.6-final"
  }
 },
 "nbformat": 4,
 "nbformat_minor": 4
}