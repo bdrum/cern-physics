{
 "cells": [
  {
   "cell_type": "markdown",
   "metadata": {},
   "source": [
    "# $\\rho'$ analysis notes\n",
    "\n",
    "## GIRD Selection criteria\n",
    "\n",
    "These criteria were applied on the selection stage(GRID):\n",
    "\n",
    "Events:\n",
    "\n",
    "- \\>= 4 tracks\n",
    "    \n",
    "Tracks:\n",
    "\n",
    "- Has Point On inner OR outer ITS Layer\n",
    "- Not ITS SA\n",
    "- |dca1| < 3 && |dca0| < 3;\n",
    "\n",
    "### Data info"
   ]
  },
  {
   "cell_type": "code",
   "execution_count": 1,
   "metadata": {
    "ExecuteTime": {
     "end_time": "2021-04-15T15:34:56.597313Z",
     "start_time": "2021-04-15T15:34:15.979548Z"
    },
    "init_cell": true
   },
   "outputs": [
    {
     "output_type": "error",
     "ename": "KeyboardInterrupt",
     "evalue": "",
     "traceback": [
      "\u001b[1;31m---------------------------------------------------------------------------\u001b[0m",
      "\u001b[1;31mKeyboardInterrupt\u001b[0m                         Traceback (most recent call last)",
      "\u001b[1;32m<ipython-input-1-31c7c50ceaa9>\u001b[0m in \u001b[0;36m<module>\u001b[1;34m\u001b[0m\n\u001b[1;32m----> 1\u001b[1;33m \u001b[1;32mfrom\u001b[0m \u001b[0mFourTracks\u001b[0m \u001b[1;32mimport\u001b[0m \u001b[0mdata\u001b[0m\u001b[1;33m\u001b[0m\u001b[1;33m\u001b[0m\u001b[0m\n\u001b[0m\u001b[0;32m      2\u001b[0m \u001b[1;32mfrom\u001b[0m \u001b[0mFourTracks\u001b[0m\u001b[1;33m.\u001b[0m\u001b[0mdata\u001b[0m\u001b[1;33m.\u001b[0m\u001b[0mcuts\u001b[0m \u001b[1;32mimport\u001b[0m \u001b[0mtpc\u001b[0m\u001b[1;33m\u001b[0m\u001b[1;33m\u001b[0m\u001b[0m\n\u001b[0;32m      3\u001b[0m \u001b[1;32mfrom\u001b[0m \u001b[0mFourTracks\u001b[0m\u001b[1;33m.\u001b[0m\u001b[0mdata\u001b[0m\u001b[1;33m.\u001b[0m\u001b[0mcuts\u001b[0m \u001b[1;32mimport\u001b[0m \u001b[0mkinematics\u001b[0m\u001b[1;33m\u001b[0m\u001b[1;33m\u001b[0m\u001b[0m\n\u001b[0;32m      4\u001b[0m \u001b[1;32mfrom\u001b[0m \u001b[0mFourTracks\u001b[0m\u001b[1;33m.\u001b[0m\u001b[0mdata\u001b[0m\u001b[1;33m.\u001b[0m\u001b[0mcuts\u001b[0m \u001b[1;32mimport\u001b[0m \u001b[0mtrigger\u001b[0m\u001b[1;33m\u001b[0m\u001b[1;33m\u001b[0m\u001b[0m\n\u001b[0;32m      5\u001b[0m \u001b[1;32mfrom\u001b[0m \u001b[0mFourTracks\u001b[0m\u001b[1;33m.\u001b[0m\u001b[0mdata\u001b[0m\u001b[1;33m.\u001b[0m\u001b[0mcuts\u001b[0m \u001b[1;32mimport\u001b[0m \u001b[0mzdc\u001b[0m\u001b[1;33m\u001b[0m\u001b[1;33m\u001b[0m\u001b[0m\n",
      "\u001b[1;32md:\\GoogleDrive\\Job\\cern\\Alice\\analysis\\dev\\physics\\notebooks\\FourTracks\\data\\__init__.py\u001b[0m in \u001b[0;36m<module>\u001b[1;34m\u001b[0m\n\u001b[0;32m     33\u001b[0m \u001b[1;33m\u001b[0m\u001b[0m\n\u001b[0;32m     34\u001b[0m \u001b[1;31m# Returns only events with four tracks without any additional conditions\u001b[0m\u001b[1;33m\u001b[0m\u001b[1;33m\u001b[0m\u001b[1;33m\u001b[0m\u001b[0m\n\u001b[1;32m---> 35\u001b[1;33m \u001b[0mfour_tracks\u001b[0m \u001b[1;33m=\u001b[0m \u001b[0morig_tracks\u001b[0m\u001b[1;33m[\u001b[0m\u001b[0m_four_tracks_mask\u001b[0m\u001b[1;33m]\u001b[0m\u001b[1;33m.\u001b[0m\u001b[0mdropna\u001b[0m\u001b[1;33m(\u001b[0m\u001b[0mhow\u001b[0m\u001b[1;33m=\u001b[0m\u001b[1;34m\"any\"\u001b[0m\u001b[1;33m)\u001b[0m\u001b[1;33m\u001b[0m\u001b[1;33m\u001b[0m\u001b[0m\n\u001b[0m\u001b[0;32m     36\u001b[0m \u001b[1;33m\u001b[0m\u001b[0m\n\u001b[0;32m     37\u001b[0m \u001b[1;31m# Returns only events with four tracks and zero total charge\u001b[0m\u001b[1;33m\u001b[0m\u001b[1;33m\u001b[0m\u001b[1;33m\u001b[0m\u001b[0m\n",
      "\u001b[1;32m~\\Anaconda3\\envs\\hep\\lib\\site-packages\\pandas\\core\\frame.py\u001b[0m in \u001b[0;36m__getitem__\u001b[1;34m(self, key)\u001b[0m\n\u001b[0;32m   3009\u001b[0m         \u001b[1;31m# Do we have a (boolean) DataFrame?\u001b[0m\u001b[1;33m\u001b[0m\u001b[1;33m\u001b[0m\u001b[1;33m\u001b[0m\u001b[0m\n\u001b[0;32m   3010\u001b[0m         \u001b[1;32mif\u001b[0m \u001b[0misinstance\u001b[0m\u001b[1;33m(\u001b[0m\u001b[0mkey\u001b[0m\u001b[1;33m,\u001b[0m \u001b[0mDataFrame\u001b[0m\u001b[1;33m)\u001b[0m\u001b[1;33m:\u001b[0m\u001b[1;33m\u001b[0m\u001b[1;33m\u001b[0m\u001b[0m\n\u001b[1;32m-> 3011\u001b[1;33m             \u001b[1;32mreturn\u001b[0m \u001b[0mself\u001b[0m\u001b[1;33m.\u001b[0m\u001b[0mwhere\u001b[0m\u001b[1;33m(\u001b[0m\u001b[0mkey\u001b[0m\u001b[1;33m)\u001b[0m\u001b[1;33m\u001b[0m\u001b[1;33m\u001b[0m\u001b[0m\n\u001b[0m\u001b[0;32m   3012\u001b[0m \u001b[1;33m\u001b[0m\u001b[0m\n\u001b[0;32m   3013\u001b[0m         \u001b[1;31m# Do we have a (boolean) 1d indexer?\u001b[0m\u001b[1;33m\u001b[0m\u001b[1;33m\u001b[0m\u001b[1;33m\u001b[0m\u001b[0m\n",
      "\u001b[1;32m~\\Anaconda3\\envs\\hep\\lib\\site-packages\\pandas\\core\\generic.py\u001b[0m in \u001b[0;36mwhere\u001b[1;34m(self, cond, other, inplace, axis, level, errors, try_cast)\u001b[0m\n\u001b[0;32m   9284\u001b[0m         \"\"\"\n\u001b[0;32m   9285\u001b[0m         \u001b[0mother\u001b[0m \u001b[1;33m=\u001b[0m \u001b[0mcom\u001b[0m\u001b[1;33m.\u001b[0m\u001b[0mapply_if_callable\u001b[0m\u001b[1;33m(\u001b[0m\u001b[0mother\u001b[0m\u001b[1;33m,\u001b[0m \u001b[0mself\u001b[0m\u001b[1;33m)\u001b[0m\u001b[1;33m\u001b[0m\u001b[1;33m\u001b[0m\u001b[0m\n\u001b[1;32m-> 9286\u001b[1;33m         return self._where(\n\u001b[0m\u001b[0;32m   9287\u001b[0m             \u001b[0mcond\u001b[0m\u001b[1;33m,\u001b[0m \u001b[0mother\u001b[0m\u001b[1;33m,\u001b[0m \u001b[0minplace\u001b[0m\u001b[1;33m,\u001b[0m \u001b[0maxis\u001b[0m\u001b[1;33m,\u001b[0m \u001b[0mlevel\u001b[0m\u001b[1;33m,\u001b[0m \u001b[0merrors\u001b[0m\u001b[1;33m=\u001b[0m\u001b[0merrors\u001b[0m\u001b[1;33m,\u001b[0m \u001b[0mtry_cast\u001b[0m\u001b[1;33m=\u001b[0m\u001b[0mtry_cast\u001b[0m\u001b[1;33m\u001b[0m\u001b[1;33m\u001b[0m\u001b[0m\n\u001b[0;32m   9288\u001b[0m         )\n",
      "\u001b[1;32m~\\Anaconda3\\envs\\hep\\lib\\site-packages\\pandas\\core\\generic.py\u001b[0m in \u001b[0;36m_where\u001b[1;34m(self, cond, other, inplace, axis, level, errors, try_cast)\u001b[0m\n\u001b[0;32m   9019\u001b[0m         \u001b[0mcond\u001b[0m \u001b[1;33m=\u001b[0m \u001b[0mcom\u001b[0m\u001b[1;33m.\u001b[0m\u001b[0mapply_if_callable\u001b[0m\u001b[1;33m(\u001b[0m\u001b[0mcond\u001b[0m\u001b[1;33m,\u001b[0m \u001b[0mself\u001b[0m\u001b[1;33m)\u001b[0m\u001b[1;33m\u001b[0m\u001b[1;33m\u001b[0m\u001b[0m\n\u001b[0;32m   9020\u001b[0m         \u001b[1;32mif\u001b[0m \u001b[0misinstance\u001b[0m\u001b[1;33m(\u001b[0m\u001b[0mcond\u001b[0m\u001b[1;33m,\u001b[0m \u001b[0mNDFrame\u001b[0m\u001b[1;33m)\u001b[0m\u001b[1;33m:\u001b[0m\u001b[1;33m\u001b[0m\u001b[1;33m\u001b[0m\u001b[0m\n\u001b[1;32m-> 9021\u001b[1;33m             \u001b[0mcond\u001b[0m\u001b[1;33m,\u001b[0m \u001b[0m_\u001b[0m \u001b[1;33m=\u001b[0m \u001b[0mcond\u001b[0m\u001b[1;33m.\u001b[0m\u001b[0malign\u001b[0m\u001b[1;33m(\u001b[0m\u001b[0mself\u001b[0m\u001b[1;33m,\u001b[0m \u001b[0mjoin\u001b[0m\u001b[1;33m=\u001b[0m\u001b[1;34m\"right\"\u001b[0m\u001b[1;33m,\u001b[0m \u001b[0mbroadcast_axis\u001b[0m\u001b[1;33m=\u001b[0m\u001b[1;36m1\u001b[0m\u001b[1;33m)\u001b[0m\u001b[1;33m\u001b[0m\u001b[1;33m\u001b[0m\u001b[0m\n\u001b[0m\u001b[0;32m   9022\u001b[0m         \u001b[1;32melse\u001b[0m\u001b[1;33m:\u001b[0m\u001b[1;33m\u001b[0m\u001b[1;33m\u001b[0m\u001b[0m\n\u001b[0;32m   9023\u001b[0m             \u001b[1;32mif\u001b[0m \u001b[1;32mnot\u001b[0m \u001b[0mhasattr\u001b[0m\u001b[1;33m(\u001b[0m\u001b[0mcond\u001b[0m\u001b[1;33m,\u001b[0m \u001b[1;34m\"shape\"\u001b[0m\u001b[1;33m)\u001b[0m\u001b[1;33m:\u001b[0m\u001b[1;33m\u001b[0m\u001b[1;33m\u001b[0m\u001b[0m\n",
      "\u001b[1;32m~\\Anaconda3\\envs\\hep\\lib\\site-packages\\pandas\\core\\frame.py\u001b[0m in \u001b[0;36malign\u001b[1;34m(self, other, join, axis, level, copy, fill_value, method, limit, fill_axis, broadcast_axis)\u001b[0m\n\u001b[0;32m   4100\u001b[0m         \u001b[0mbroadcast_axis\u001b[0m\u001b[1;33m=\u001b[0m\u001b[1;32mNone\u001b[0m\u001b[1;33m,\u001b[0m\u001b[1;33m\u001b[0m\u001b[1;33m\u001b[0m\u001b[0m\n\u001b[0;32m   4101\u001b[0m     ) -> DataFrame:\n\u001b[1;32m-> 4102\u001b[1;33m         return super().align(\n\u001b[0m\u001b[0;32m   4103\u001b[0m             \u001b[0mother\u001b[0m\u001b[1;33m,\u001b[0m\u001b[1;33m\u001b[0m\u001b[1;33m\u001b[0m\u001b[0m\n\u001b[0;32m   4104\u001b[0m             \u001b[0mjoin\u001b[0m\u001b[1;33m=\u001b[0m\u001b[0mjoin\u001b[0m\u001b[1;33m,\u001b[0m\u001b[1;33m\u001b[0m\u001b[1;33m\u001b[0m\u001b[0m\n",
      "\u001b[1;32m~\\Anaconda3\\envs\\hep\\lib\\site-packages\\pandas\\core\\generic.py\u001b[0m in \u001b[0;36malign\u001b[1;34m(self, other, join, axis, level, copy, fill_value, method, limit, fill_axis, broadcast_axis)\u001b[0m\n\u001b[0;32m   8811\u001b[0m             \u001b[0maxis\u001b[0m \u001b[1;33m=\u001b[0m \u001b[0mself\u001b[0m\u001b[1;33m.\u001b[0m\u001b[0m_get_axis_number\u001b[0m\u001b[1;33m(\u001b[0m\u001b[0maxis\u001b[0m\u001b[1;33m)\u001b[0m\u001b[1;33m\u001b[0m\u001b[1;33m\u001b[0m\u001b[0m\n\u001b[0;32m   8812\u001b[0m         \u001b[1;32mif\u001b[0m \u001b[0misinstance\u001b[0m\u001b[1;33m(\u001b[0m\u001b[0mother\u001b[0m\u001b[1;33m,\u001b[0m \u001b[0mABCDataFrame\u001b[0m\u001b[1;33m)\u001b[0m\u001b[1;33m:\u001b[0m\u001b[1;33m\u001b[0m\u001b[1;33m\u001b[0m\u001b[0m\n\u001b[1;32m-> 8813\u001b[1;33m             return self._align_frame(\n\u001b[0m\u001b[0;32m   8814\u001b[0m                 \u001b[0mother\u001b[0m\u001b[1;33m,\u001b[0m\u001b[1;33m\u001b[0m\u001b[1;33m\u001b[0m\u001b[0m\n\u001b[0;32m   8815\u001b[0m                 \u001b[0mjoin\u001b[0m\u001b[1;33m=\u001b[0m\u001b[0mjoin\u001b[0m\u001b[1;33m,\u001b[0m\u001b[1;33m\u001b[0m\u001b[1;33m\u001b[0m\u001b[0m\n",
      "\u001b[1;32m~\\Anaconda3\\envs\\hep\\lib\\site-packages\\pandas\\core\\generic.py\u001b[0m in \u001b[0;36m_align_frame\u001b[1;34m(self, other, join, axis, level, copy, fill_value, method, limit, fill_axis)\u001b[0m\n\u001b[0;32m   8878\u001b[0m         )\n\u001b[0;32m   8879\u001b[0m         \u001b[1;31m# other must be always DataFrame\u001b[0m\u001b[1;33m\u001b[0m\u001b[1;33m\u001b[0m\u001b[1;33m\u001b[0m\u001b[0m\n\u001b[1;32m-> 8880\u001b[1;33m         right = other._reindex_with_indexers(\n\u001b[0m\u001b[0;32m   8881\u001b[0m             \u001b[1;33m{\u001b[0m\u001b[1;36m0\u001b[0m\u001b[1;33m:\u001b[0m \u001b[1;33m[\u001b[0m\u001b[0mjoin_index\u001b[0m\u001b[1;33m,\u001b[0m \u001b[0miridx\u001b[0m\u001b[1;33m]\u001b[0m\u001b[1;33m,\u001b[0m \u001b[1;36m1\u001b[0m\u001b[1;33m:\u001b[0m \u001b[1;33m[\u001b[0m\u001b[0mjoin_columns\u001b[0m\u001b[1;33m,\u001b[0m \u001b[0mcridx\u001b[0m\u001b[1;33m]\u001b[0m\u001b[1;33m}\u001b[0m\u001b[1;33m,\u001b[0m\u001b[1;33m\u001b[0m\u001b[1;33m\u001b[0m\u001b[0m\n\u001b[0;32m   8882\u001b[0m             \u001b[0mcopy\u001b[0m\u001b[1;33m=\u001b[0m\u001b[0mcopy\u001b[0m\u001b[1;33m,\u001b[0m\u001b[1;33m\u001b[0m\u001b[1;33m\u001b[0m\u001b[0m\n",
      "\u001b[1;32m~\\Anaconda3\\envs\\hep\\lib\\site-packages\\pandas\\core\\generic.py\u001b[0m in \u001b[0;36m_reindex_with_indexers\u001b[1;34m(self, reindexers, fill_value, copy, allow_dups)\u001b[0m\n\u001b[0;32m   4875\u001b[0m \u001b[1;33m\u001b[0m\u001b[0m\n\u001b[0;32m   4876\u001b[0m             \u001b[1;31m# TODO: speed up on homogeneous DataFrame objects\u001b[0m\u001b[1;33m\u001b[0m\u001b[1;33m\u001b[0m\u001b[1;33m\u001b[0m\u001b[0m\n\u001b[1;32m-> 4877\u001b[1;33m             new_data = new_data.reindex_indexer(\n\u001b[0m\u001b[0;32m   4878\u001b[0m                 \u001b[0mindex\u001b[0m\u001b[1;33m,\u001b[0m\u001b[1;33m\u001b[0m\u001b[1;33m\u001b[0m\u001b[0m\n\u001b[0;32m   4879\u001b[0m                 \u001b[0mindexer\u001b[0m\u001b[1;33m,\u001b[0m\u001b[1;33m\u001b[0m\u001b[1;33m\u001b[0m\u001b[0m\n",
      "\u001b[1;32m~\\Anaconda3\\envs\\hep\\lib\\site-packages\\pandas\\core\\internals\\managers.py\u001b[0m in \u001b[0;36mreindex_indexer\u001b[1;34m(self, new_axis, indexer, axis, fill_value, allow_dups, copy, consolidate, only_slice)\u001b[0m\n\u001b[0;32m   1289\u001b[0m                 \u001b[1;32mreturn\u001b[0m \u001b[0mself\u001b[0m\u001b[1;33m\u001b[0m\u001b[1;33m\u001b[0m\u001b[0m\n\u001b[0;32m   1290\u001b[0m \u001b[1;33m\u001b[0m\u001b[0m\n\u001b[1;32m-> 1291\u001b[1;33m             \u001b[0mresult\u001b[0m \u001b[1;33m=\u001b[0m \u001b[0mself\u001b[0m\u001b[1;33m.\u001b[0m\u001b[0mcopy\u001b[0m\u001b[1;33m(\u001b[0m\u001b[0mdeep\u001b[0m\u001b[1;33m=\u001b[0m\u001b[0mcopy\u001b[0m\u001b[1;33m)\u001b[0m\u001b[1;33m\u001b[0m\u001b[1;33m\u001b[0m\u001b[0m\n\u001b[0m\u001b[0;32m   1292\u001b[0m             \u001b[0mresult\u001b[0m\u001b[1;33m.\u001b[0m\u001b[0maxes\u001b[0m \u001b[1;33m=\u001b[0m \u001b[0mlist\u001b[0m\u001b[1;33m(\u001b[0m\u001b[0mself\u001b[0m\u001b[1;33m.\u001b[0m\u001b[0maxes\u001b[0m\u001b[1;33m)\u001b[0m\u001b[1;33m\u001b[0m\u001b[1;33m\u001b[0m\u001b[0m\n\u001b[0;32m   1293\u001b[0m             \u001b[0mresult\u001b[0m\u001b[1;33m.\u001b[0m\u001b[0maxes\u001b[0m\u001b[1;33m[\u001b[0m\u001b[0maxis\u001b[0m\u001b[1;33m]\u001b[0m \u001b[1;33m=\u001b[0m \u001b[0mnew_axis\u001b[0m\u001b[1;33m\u001b[0m\u001b[1;33m\u001b[0m\u001b[0m\n",
      "\u001b[1;32m~\\Anaconda3\\envs\\hep\\lib\\site-packages\\pandas\\core\\internals\\managers.py\u001b[0m in \u001b[0;36mcopy\u001b[1;34m(self, deep)\u001b[0m\n\u001b[0;32m    819\u001b[0m             \u001b[0mnew_axes\u001b[0m \u001b[1;33m=\u001b[0m \u001b[0mlist\u001b[0m\u001b[1;33m(\u001b[0m\u001b[0mself\u001b[0m\u001b[1;33m.\u001b[0m\u001b[0maxes\u001b[0m\u001b[1;33m)\u001b[0m\u001b[1;33m\u001b[0m\u001b[1;33m\u001b[0m\u001b[0m\n\u001b[0;32m    820\u001b[0m \u001b[1;33m\u001b[0m\u001b[0m\n\u001b[1;32m--> 821\u001b[1;33m         \u001b[0mres\u001b[0m \u001b[1;33m=\u001b[0m \u001b[0mself\u001b[0m\u001b[1;33m.\u001b[0m\u001b[0mapply\u001b[0m\u001b[1;33m(\u001b[0m\u001b[1;34m\"copy\"\u001b[0m\u001b[1;33m,\u001b[0m \u001b[0mdeep\u001b[0m\u001b[1;33m=\u001b[0m\u001b[0mdeep\u001b[0m\u001b[1;33m)\u001b[0m\u001b[1;33m\u001b[0m\u001b[1;33m\u001b[0m\u001b[0m\n\u001b[0m\u001b[0;32m    822\u001b[0m         \u001b[0mres\u001b[0m\u001b[1;33m.\u001b[0m\u001b[0maxes\u001b[0m \u001b[1;33m=\u001b[0m \u001b[0mnew_axes\u001b[0m\u001b[1;33m\u001b[0m\u001b[1;33m\u001b[0m\u001b[0m\n\u001b[0;32m    823\u001b[0m         \u001b[1;32mreturn\u001b[0m \u001b[0mres\u001b[0m\u001b[1;33m\u001b[0m\u001b[1;33m\u001b[0m\u001b[0m\n",
      "\u001b[1;32m~\\Anaconda3\\envs\\hep\\lib\\site-packages\\pandas\\core\\internals\\managers.py\u001b[0m in \u001b[0;36mapply\u001b[1;34m(self, f, align_keys, ignore_failures, **kwargs)\u001b[0m\n\u001b[0;32m    425\u001b[0m                     \u001b[0mapplied\u001b[0m \u001b[1;33m=\u001b[0m \u001b[0mb\u001b[0m\u001b[1;33m.\u001b[0m\u001b[0mapply\u001b[0m\u001b[1;33m(\u001b[0m\u001b[0mf\u001b[0m\u001b[1;33m,\u001b[0m \u001b[1;33m**\u001b[0m\u001b[0mkwargs\u001b[0m\u001b[1;33m)\u001b[0m\u001b[1;33m\u001b[0m\u001b[1;33m\u001b[0m\u001b[0m\n\u001b[0;32m    426\u001b[0m                 \u001b[1;32melse\u001b[0m\u001b[1;33m:\u001b[0m\u001b[1;33m\u001b[0m\u001b[1;33m\u001b[0m\u001b[0m\n\u001b[1;32m--> 427\u001b[1;33m                     \u001b[0mapplied\u001b[0m \u001b[1;33m=\u001b[0m \u001b[0mgetattr\u001b[0m\u001b[1;33m(\u001b[0m\u001b[0mb\u001b[0m\u001b[1;33m,\u001b[0m \u001b[0mf\u001b[0m\u001b[1;33m)\u001b[0m\u001b[1;33m(\u001b[0m\u001b[1;33m**\u001b[0m\u001b[0mkwargs\u001b[0m\u001b[1;33m)\u001b[0m\u001b[1;33m\u001b[0m\u001b[1;33m\u001b[0m\u001b[0m\n\u001b[0m\u001b[0;32m    428\u001b[0m             \u001b[1;32mexcept\u001b[0m \u001b[1;33m(\u001b[0m\u001b[0mTypeError\u001b[0m\u001b[1;33m,\u001b[0m \u001b[0mNotImplementedError\u001b[0m\u001b[1;33m)\u001b[0m\u001b[1;33m:\u001b[0m\u001b[1;33m\u001b[0m\u001b[1;33m\u001b[0m\u001b[0m\n\u001b[0;32m    429\u001b[0m                 \u001b[1;32mif\u001b[0m \u001b[1;32mnot\u001b[0m \u001b[0mignore_failures\u001b[0m\u001b[1;33m:\u001b[0m\u001b[1;33m\u001b[0m\u001b[1;33m\u001b[0m\u001b[0m\n",
      "\u001b[1;32m~\\Anaconda3\\envs\\hep\\lib\\site-packages\\pandas\\core\\internals\\blocks.py\u001b[0m in \u001b[0;36mcopy\u001b[1;34m(self, deep)\u001b[0m\n\u001b[0;32m    754\u001b[0m         \u001b[0mvalues\u001b[0m \u001b[1;33m=\u001b[0m \u001b[0mself\u001b[0m\u001b[1;33m.\u001b[0m\u001b[0mvalues\u001b[0m\u001b[1;33m\u001b[0m\u001b[1;33m\u001b[0m\u001b[0m\n\u001b[0;32m    755\u001b[0m         \u001b[1;32mif\u001b[0m \u001b[0mdeep\u001b[0m\u001b[1;33m:\u001b[0m\u001b[1;33m\u001b[0m\u001b[1;33m\u001b[0m\u001b[0m\n\u001b[1;32m--> 756\u001b[1;33m             \u001b[0mvalues\u001b[0m \u001b[1;33m=\u001b[0m \u001b[0mvalues\u001b[0m\u001b[1;33m.\u001b[0m\u001b[0mcopy\u001b[0m\u001b[1;33m(\u001b[0m\u001b[1;33m)\u001b[0m\u001b[1;33m\u001b[0m\u001b[1;33m\u001b[0m\u001b[0m\n\u001b[0m\u001b[0;32m    757\u001b[0m         \u001b[1;32mreturn\u001b[0m \u001b[0mself\u001b[0m\u001b[1;33m.\u001b[0m\u001b[0mmake_block_same_class\u001b[0m\u001b[1;33m(\u001b[0m\u001b[0mvalues\u001b[0m\u001b[1;33m,\u001b[0m \u001b[0mndim\u001b[0m\u001b[1;33m=\u001b[0m\u001b[0mself\u001b[0m\u001b[1;33m.\u001b[0m\u001b[0mndim\u001b[0m\u001b[1;33m)\u001b[0m\u001b[1;33m\u001b[0m\u001b[1;33m\u001b[0m\u001b[0m\n\u001b[0;32m    758\u001b[0m \u001b[1;33m\u001b[0m\u001b[0m\n",
      "\u001b[1;31mKeyboardInterrupt\u001b[0m: "
     ]
    }
   ],
   "source": [
    "from FourTracks import data\n",
    "from FourTracks.data.cuts import tpc\n",
    "from FourTracks.data.cuts import kinematics\n",
    "from FourTracks.data.cuts import trigger\n",
    "from FourTracks.data.cuts import zdc\n",
    "import mplhep as hep\n",
    "import numpy as np\n",
    "import pandas as pd\n",
    "from matplotlib import pyplot as plt \n",
    "from FourTracks.analysis.kinematics import *\n",
    "\n",
    "%matplotlib widget\n",
    "\n",
    "plt.style.use(hep.style.ROOT)\n",
    "\n",
    "trig_data = trigger.GetTriggeredEvents(data.four_tracks_zq,'4Prongs2015oTriggerEvents.parquet')\n",
    "trig = trig_data.Triggered.dropna().values.astype(np.int64)\n",
    "untrig = trig_data.Untriggered.dropna().values.astype(np.int64)\n",
    "four_tracks_zq_trig = tpc.GetTracksWithNTPC(data.four_tracks_zq,2).loc[trig]\n",
    "four_tracks_zq_untrig = tpc.GetTracksWithNTPC(data.four_tracks_zq,2).loc[untrig]\n",
    "\n",
    "four_tracks_zq_after_all_cuts = zdc.GetTracksWithZDCCut(four_tracks_zq_trig)\n",
    "four_tracks_zq_not_passed_zdc = zdc.GetTracksWithZDCCut(four_tracks_zq_trig, passed=False)\n",
    "\n",
    "ft_zq_ac_indexes = pd.unique(four_tracks_zq_after_all_cuts.reset_index().entry)\n",
    "ft_zq_ac_pt_cut_indexes = pd.unique(kinematics.GetTracksWithPtCut(four_tracks_zq_after_all_cuts).reset_index().entry)\n",
    "\n",
    "data.orig_events.info()\n",
    "data.orig_tracks.info()\n"
   ]
  },
  {
   "source": [
    "## Transverse momenta of initial data set"
   ],
   "cell_type": "markdown",
   "metadata": {}
  },
  {
   "cell_type": "code",
   "execution_count": 170,
   "metadata": {},
   "outputs": [
    {
     "output_type": "display_data",
     "data": {
      "text/plain": "Canvas(toolbar=Toolbar(toolitems=[('Home', 'Reset original view', 'home', 'home'), ('Back', 'Back to previous …",
      "application/vnd.jupyter.widget-view+json": {
       "version_major": 2,
       "version_minor": 0,
       "model_id": "2aab3749ff014a6191e8db4945cffabc"
      }
     },
     "metadata": {}
    },
    {
     "output_type": "execute_result",
     "data": {
      "text/plain": [
       "[ErrorBarArtists(errorbar=<ErrorbarContainer object of 3 artists>)]"
      ]
     },
     "metadata": {},
     "execution_count": 170
    }
   ],
   "source": [
    "%matplotlib widget\n",
    "plt.style.use(hep.style.ROOT)\n",
    "\n",
    "fig = plt.figure()\n",
    "ax = fig.add_subplot()\n",
    "\n",
    "fig.suptitle(f'$\\pi^+\\pi^-\\pi^+\\pi^-$ event $p_t$')\n",
    "b = 100\n",
    "r = 0,2\n",
    "counts, bin_edges = np.histogram(pt_events(data.four_tracks_zq), bins=b, range=r)\n",
    "hep.histplot((counts, bin_edges), yerr=True, color='black', histtype='errorbar')\n",
    "\n",
    "val=(r[1]-r[0])*1000 // b\n",
    "ax.set_xlabel('$p_t$, GeV')\n",
    "ax.set_ylabel(f'#events / {val}MeV')\n",
    "\n",
    "counts, bin_edges = np.histogram(pt_events(data.four_tracks_nzq), bins=b, range=r)\n",
    "hep.histplot((counts, bin_edges), yerr=True, color='red', histtype='errorbar')\n"
   ]
  },
  {
   "cell_type": "code",
   "execution_count": 122,
   "metadata": {},
   "outputs": [
    {
     "output_type": "display_data",
     "data": {
      "text/plain": "Canvas(toolbar=Toolbar(toolitems=[('Home', 'Reset original view', 'home', 'home'), ('Back', 'Back to previous …",
      "application/vnd.jupyter.widget-view+json": {
       "version_major": 2,
       "version_minor": 0,
       "model_id": "cca12a22437544b2ad5ba375cadde6bb"
      }
     },
     "metadata": {}
    },
    {
     "output_type": "stream",
     "name": "stderr",
     "text": [
      "C:\\Users\\bdrum\\AppData\\Roaming\\Python\\Python39\\site-packages\\mplhep\\plot.py:238: RuntimeWarning: invalid value encountered in sqrt\n  _yerr = np.sqrt(h)\n"
     ]
    },
    {
     "output_type": "execute_result",
     "data": {
      "text/plain": [
       "Text(0, 1, '#events / 20MeV')"
      ]
     },
     "metadata": {},
     "execution_count": 122
    }
   ],
   "source": [
    "%matplotlib widget\n",
    "plt.style.use(hep.style.ROOT)\n",
    "\n",
    "counts, bin_edges = np.histogram(pt_events(data.four_tracks_zq), bins=b, range=r)\n",
    "counts_bckg, bin_edges_bckg = np.histogram(pt_events(data.four_tracks_nzq), bins=b, range=r)\n",
    "\n",
    "hep.histplot((counts-counts_bckg, bin_edges), yerr=True, color='black', histtype='errorbar')\n",
    "ax = plt.gca()\n",
    "plt.gcf().suptitle(f'$\\pi^+\\pi^-\\pi^+\\pi^-$ event $p_t$ minus background')\n",
    "val=(r[1]-r[0])*1000 // b\n",
    "ax.set_xlabel('$p_t$, GeV')\n",
    "ax.set_ylabel(f'#events / {val}MeV')\n"
   ]
  },
  {
   "cell_type": "markdown",
   "metadata": {},
   "source": [
    "## Analysis cuts\n",
    "\n",
    "### Global tracks\n",
    "\n",
    "It's known that global tracks consist from ITS and TPC identification, in our case we can implicitly add checks for TPC identification track and see what happens with the data.\n",
    "\n",
    "Let's aply further conditions for the tracks:\n",
    "\n",
    "* |NumberOfSigmaTPCPion| < 3\n",
    "* Number of TPC Clusters > 50\n",
    "* TPCRefit\n",
    "\n",
    "## Low energy tracks and TPC\n",
    "\n",
    "There is an idea about that tracks with small energies (low pt) not able to reach TPC.\n",
    "Idea is that addding such condition will decrease our signal and background level.\n",
    "\n"
   ]
  },
  {
   "cell_type": "code",
   "execution_count": 8,
   "metadata": {},
   "outputs": [
    {
     "output_type": "display_data",
     "data": {
      "text/plain": "Canvas(toolbar=Toolbar(toolitems=[('Home', 'Reset original view', 'home', 'home'), ('Back', 'Back to previous …",
      "application/vnd.jupyter.widget-view+json": {
       "version_major": 2,
       "version_minor": 0,
       "model_id": "9566b85cd2014d178229b38c9a5b2c66"
      }
     },
     "metadata": {}
    },
    {
     "output_type": "execute_result",
     "data": {
      "text/plain": [
       "<AxesSubplot:ylabel='Frequency'>"
      ]
     },
     "metadata": {},
     "execution_count": 8
    }
   ],
   "source": [
    "plt.style.use(hep.style.ROOT)\n",
    "colors = ['black', 'yellow', 'green', 'orange', 'red']\n",
    "labels = ['ITS & (>= 0TPC)', 'ITS & (>= 1TPC)',\n",
    "          'ITS & (>= 2TPC)', 'ITS & (>= 3TPC)', 'ITS & ( =  4TPC)']\n",
    "\n",
    "pts = []\n",
    "for i in range(5):\n",
    "    pts.append(pt_events(tpc.GetTracksWithNTPC(data.four_tracks_zq,i)))\n",
    "    pts[i].name = labels[i]\n",
    "\n",
    "df = pd.concat(pts,axis=1)\n",
    "df.plot(kind='hist', bins=100,range=(0,2), histtype='step', linewidth=1.5, color=colors, label=labels)\n"
   ]
  },
  {
   "source": [
    "As we can see above adding of gobal tracks will decrease statistics level, but it is correct for both signal and background. Let's estimate what number of global tracks in 4 tracks is enough:"
   ],
   "cell_type": "markdown",
   "metadata": {}
  },
  {
   "cell_type": "code",
   "execution_count": 171,
   "metadata": {},
   "outputs": [
    {
     "output_type": "display_data",
     "data": {
      "text/plain": "Canvas(toolbar=Toolbar(toolitems=[('Home', 'Reset original view', 'home', 'home'), ('Back', 'Back to previous …",
      "application/vnd.jupyter.widget-view+json": {
       "version_major": 2,
       "version_minor": 0,
       "model_id": "643c0b16f97446c381c3308db8418657"
      }
     },
     "metadata": {}
    }
   ],
   "source": [
    "%matplotlib widget\n",
    "\n",
    "ptdiff = []\n",
    "for i in range(1,5):\n",
    "    ptdiff.append(pts[i-1][pts[i-1].index.difference(pts[i].index)])\n",
    "\n",
    "ptdiff[0].name = 'ITS only'\n",
    "ptdiff[1].name = 'ITS & (= 1TPC)'\n",
    "ptdiff[2].name = 'ITS & (= 2TPC)'\n",
    "ptdiff[3].name = 'ITS & (= 3TPC)'\n",
    "\n",
    "df = pd.concat([pts[0], ptdiff[0], pts[1], pts[1], ptdiff[1], pts[2], pts[2], ptdiff[2], pts[3], pts[3], ptdiff[3], pts[4]],axis=1)\n",
    "_ = df.plot(kind='hist', bins=100,range=(0,2), histtype='step', linewidth=1.5, color=['black','red','blue'], subplots=True, layout=(4,3), figsize=(30,20), title='TPC cuts')"
   ]
  },
  {
   "source": [
    "Here we see such construction each row contains three plots:\n",
    " - starting point or what we have (first cell correspond our initial plot at the very begining of this notebook)\n",
    " - what we will throw\n",
    " - the difference between 1 and 2\n",
    "\n",
    " As we can see in case of transition from zero global tracks to one we will lose only background.\n",
    " I guess it's easy to see that the best case when we throw almost only background event is more than 2 global tracks in event.\n",
    "\n",
    " In further analysis I will be use this case. 'ITS & (>= 2TPC)'"
   ],
   "cell_type": "markdown",
   "metadata": {}
  },
  {
   "cell_type": "markdown",
   "metadata": {},
   "source": [
    "## False triggering\n",
    "\n",
    "There are some situations when CCUP9 trigger could be fired false:\n",
    "It may occured when some fake or random track fires FOR and trigger will provide.\n",
    "\n",
    "We can check list of FORs of event and what chipkey has each of four tracks.\n",
    "In case it has matches and produce back to back topology this means correct trigger state.\n",
    "\n",
    "![img](https://sun9-58.userapi.com/impf/x7UtIW5ElLKpDl4ASPuz0FXhNjwnxYcAy0BuHw/wJZr1On9l4o.jpg?size=1280x718&quality=96&sign=1ed3d5f08fcdefd89ab4e02a5041c6d0&type=album)\n",
    "\n",
    "See debugging details in [one of the issue](https://github.com/bdrum/cern-physics/issues/42)\n"
   ]
  },
  {
   "source": [
    "Let's do the same thing as we do few cell above and let's try to understand what we will throw after splitting event by fake triggered or not:"
   ],
   "cell_type": "markdown",
   "metadata": {}
  },
  {
   "cell_type": "code",
   "execution_count": 174,
   "metadata": {},
   "outputs": [
    {
     "output_type": "display_data",
     "data": {
      "text/plain": "Canvas(toolbar=Toolbar(toolitems=[('Home', 'Reset original view', 'home', 'home'), ('Back', 'Back to previous …",
      "application/vnd.jupyter.widget-view+json": {
       "version_major": 2,
       "version_minor": 0,
       "model_id": "64be98de0b6940659bf4a773f231f331"
      }
     },
     "metadata": {}
    }
   ],
   "source": [
    "pt2_trig = pts[2][pts[2].index.intersection(trig)]\n",
    "pt2_trig.name = 'cor trig'\n",
    "pt2_untrig = pts[2][pts[2].index.intersection(untrig)]\n",
    "pt2_untrig.name = 'fake trig'\n",
    "df = pd.concat([pt2_trig,pt2_untrig],axis=1)\n",
    "_ = df.plot(kind='hist', bins=100,range=(0,2), histtype='step', linewidth=1.5, color=['green','red'], subplots=False,label=['1','2'])"
   ]
  },
  {
   "source": [
    "Here we also suppose that correct triggered event correspond to events with let say better quality. So in further analysis we will use such events."
   ],
   "cell_type": "markdown",
   "metadata": {}
  },
  {
   "source": [
    "## ZDC cuts\n",
    "\n",
    "ZDC again allows us to make signal more clear. Neutrons in ZDC could be a markers about peripheral events. "
   ],
   "cell_type": "markdown",
   "metadata": {}
  },
  {
   "cell_type": "code",
   "execution_count": 175,
   "metadata": {},
   "outputs": [
    {
     "output_type": "display_data",
     "data": {
      "text/plain": "Canvas(toolbar=Toolbar(toolitems=[('Home', 'Reset original view', 'home', 'home'), ('Back', 'Back to previous …",
      "application/vnd.jupyter.widget-view+json": {
       "version_major": 2,
       "version_minor": 0,
       "model_id": "fc66fc816c4f497eaa2d3a1777a33f40"
      }
     },
     "metadata": {}
    },
    {
     "output_type": "stream",
     "name": "stderr",
     "text": [
      "No handles with labels found to put in legend.\n",
      "No handles with labels found to put in legend.\n"
     ]
    },
    {
     "output_type": "execute_result",
     "data": {
      "text/plain": [
       "<matplotlib.legend.Legend at 0x1e93f957b50>"
      ]
     },
     "metadata": {},
     "execution_count": 175
    }
   ],
   "source": [
    "%matplotlib widget\n",
    "\n",
    "zdcEnA = data.orig_events.ZNAenergy[ft_zq_ac_pt_cut_indexes]\n",
    "zdcEnC = data.orig_events.ZNCenergy[ft_zq_ac_pt_cut_indexes]\n",
    "zdcEn = np.concatenate((zdcEnA, zdcEnC))\n",
    "plt.subplots(1,2,figsize=(20,10))\n",
    "plt.suptitle('4track events ZDC energy distribution')\n",
    "plt.sca(plt.gcf().axes[0])\n",
    "cnt = plt.hist(zdcEn, bins=100, range=(-1000,15000), histtype='step', linewidth=1.3, color='black')\n",
    "plt.xlabel('ZDC energy')\n",
    "plt.ylabel('events')\n",
    "plt.yscale('log')\n",
    "plt.legend()\n",
    "\n",
    "plt.sca(plt.gcf().axes[1])\n",
    "_ = plt.scatter(zdcEnA, zdcEnC, color='black')\n",
    "plt.xlabel('ZDC_A energy')\n",
    "plt.ylabel('ZDC_C energy')\n",
    "plt.xlim(-1000, 11000)\n",
    "plt.ylim(-1000, 11000)\n",
    "plt.xticks(np.arange(0,11000,2500))\n",
    "plt.yticks(np.arange(0,11000,2500))\n",
    "# plt.suptitle('4track events ZDC_A vs ZDC_C scatter')\n",
    "plt.legend()\n",
    "\n"
   ]
  },
  {
   "source": [
    "Beside energy distirbution we also have to make corrections for ZDC timing:"
   ],
   "cell_type": "markdown",
   "metadata": {}
  },
  {
   "cell_type": "code",
   "execution_count": 176,
   "metadata": {},
   "outputs": [
    {
     "output_type": "display_data",
     "data": {
      "text/plain": "Canvas(toolbar=Toolbar(toolitems=[('Home', 'Reset original view', 'home', 'home'), ('Back', 'Back to previous …",
      "application/vnd.jupyter.widget-view+json": {
       "version_major": 2,
       "version_minor": 0,
       "model_id": "b1e6ac0d575c4fc0b59e77d77cc4c292"
      }
     },
     "metadata": {}
    },
    {
     "output_type": "stream",
     "name": "stderr",
     "text": [
      "No handles with labels found to put in legend.\n",
      "No handles with labels found to put in legend.\n"
     ]
    },
    {
     "output_type": "execute_result",
     "data": {
      "text/plain": [
       "<matplotlib.legend.Legend at 0x1e940d32610>"
      ]
     },
     "metadata": {},
     "execution_count": 176
    }
   ],
   "source": [
    "%matplotlib widget\n",
    "\n",
    "ZDCAtime_0 = data.orig_events.ZDCAtime_0[ft_zq_ac_pt_cut_indexes][data.orig_events.ZNAenergy[ft_zq_ac_pt_cut_indexes]<1000]\n",
    "ZDCCtime_0 = data.orig_events.ZDCCtime_0[ft_zq_ac_pt_cut_indexes][data.orig_events.ZNCenergy[ft_zq_ac_pt_cut_indexes]<1000]\n",
    "plt.subplots(1,2,figsize=(20,10))\n",
    "plt.sca(plt.gcf().axes[0])\n",
    "cnt = plt.hist(ZDCAtime_0, bins=100, range=(-300,300), histtype='step', linewidth=1.3, color='black')\n",
    "plt.xlabel('ZDCA time 0')\n",
    "plt.ylabel('events')\n",
    "plt.legend()\n",
    "\n",
    "plt.sca(plt.gcf().axes[1])\n",
    "cnt = plt.hist(ZDCCtime_0, bins=100, range=(-300,300), histtype='step', linewidth=1.3, color='black')\n",
    "plt.xlabel('ZDCC time 0')\n",
    "plt.ylabel('events')\n",
    "plt.legend()\n"
   ]
  },
  {
   "source": [
    "Event called passed ZDC cuts if satisfied such criteria:\n",
    "- For only one of the two sides\n",
    "- neutrons energy less or equal than given parameter ZDC_En value\n",
    "- or\n",
    "- one of ZDC times not in an interval of +- ZDC_Time_Delta parameter value "
   ],
   "cell_type": "markdown",
   "metadata": {}
  },
  {
   "cell_type": "code",
   "execution_count": 177,
   "metadata": {},
   "outputs": [
    {
     "output_type": "display_data",
     "data": {
      "text/plain": "Canvas(toolbar=Toolbar(toolitems=[('Home', 'Reset original view', 'home', 'home'), ('Back', 'Back to previous …",
      "application/vnd.jupyter.widget-view+json": {
       "version_major": 2,
       "version_minor": 0,
       "model_id": "6c4359cebf154e3db56fd7a3a5b04e51"
      }
     },
     "metadata": {}
    }
   ],
   "source": [
    "from FourTracks.data.cuts import zdc\n",
    "\n",
    "%matplotlib widget\n",
    "plt.style.use(hep.style.ROOT)\n",
    "\n",
    "fig = plt.figure()\n",
    "ax = fig.add_subplot()\n",
    "\n",
    "fig.suptitle(f'$\\pi^+\\pi^-\\pi^+\\pi^-$ event $p_t$')\n",
    "b = 100\n",
    "r = 0,2\n",
    "counts, bin_edges = np.histogram(pt_events(four_tracks_zq_after_all_cuts), bins=b, range=r)\n",
    "hep.histplot((counts, bin_edges), yerr=True, color='black', histtype='errorbar', label='ZDC < 5TeV | abs(ZDC_times) >100')\n",
    "\n",
    "val=(r[1]-r[0])*1000 // b\n",
    "ax.set_xlabel('$p_t$, GeV')\n",
    "ax.set_ylabel(f'#events / {val}MeV')\n",
    "\n",
    "counts, bin_edges = np.histogram(pt_events( four_tracks_zq_not_passed_zdc ), bins=b, range=r)\n",
    "hep.histplot((counts, bin_edges), yerr=True, color='red', histtype='errorbar',label='ZDC > 5TeV & abs(ZDC_times) <=100')\n",
    "_=ax.legend()"
   ]
  },
  {
   "cell_type": "markdown",
   "metadata": {},
   "source": [
    "## Transversal momentum distribution after all cuts\n"
   ]
  },
  {
   "cell_type": "code",
   "execution_count": 178,
   "metadata": {
    "ExecuteTime": {
     "end_time": "2021-04-15T17:31:18.604745Z",
     "start_time": "2021-04-15T17:31:18.463744Z"
    }
   },
   "outputs": [
    {
     "output_type": "display_data",
     "data": {
      "text/plain": "Canvas(toolbar=Toolbar(toolitems=[('Home', 'Reset original view', 'home', 'home'), ('Back', 'Back to previous …",
      "application/vnd.jupyter.widget-view+json": {
       "version_major": 2,
       "version_minor": 0,
       "model_id": "67724b6e09dd4003912fd7a526cafb23"
      }
     },
     "metadata": {}
    },
    {
     "output_type": "execute_result",
     "data": {
      "text/plain": [
       "<matplotlib.legend.Legend at 0x1e942bfa880>"
      ]
     },
     "metadata": {},
     "execution_count": 178
    }
   ],
   "source": [
    "%matplotlib widget\n",
    "\n",
    "plt.style.use(hep.style.ROOT)\n",
    "fig = plt.figure()\n",
    "ax = fig.add_subplot()\n",
    "\n",
    "fig.suptitle(f'$p_t$ of events after all cuts')\n",
    "b = 100\n",
    "r = 0,2\n",
    "\n",
    "counts,bin_edges = np.histogram(pt_events(data.four_tracks_zq), bins=b, range=r)\n",
    "bin_centres = (bin_edges[:-1] + bin_edges[1:])/2.\n",
    "errs = np.sqrt(counts)\n",
    "ax.errorbar(bin_centres, counts, yerr=errs, fmt='.', color='red', label='orig $p_t$')\n",
    "\n",
    "counts,bin_edges = np.histogram(pt_events(four_tracks_zq_after_all_cuts), bins=b, range=r)\n",
    "bin_centres = (bin_edges[:-1] + bin_edges[1:])/2.\n",
    "errs = np.sqrt(counts)\n",
    "ax.errorbar(bin_centres, counts, yerr=errs, fmt='.', color='black', label='$p_t$ after all cuts')\n",
    "\n",
    "val=(r[1]-r[0])*1000 // b\n",
    "ax.set_xlabel('$p_t, GeV$')\n",
    "ax.set_ylabel(f'#events / {val}MeV')\n",
    "ax.legend()\n"
   ]
  },
  {
   "cell_type": "markdown",
   "metadata": {},
   "source": [
    "Now  let's try to see what tracks we lost from signal area and what contribution they have:"
   ]
  },
  {
   "cell_type": "markdown",
   "metadata": {},
   "source": [
    "TPC and ITS has different coverage for polar angle:\n",
    "\n",
    "![img1](https://camo.githubusercontent.com/9a7ab40d0f74a866a7095986644134a0f72cc58b/68747470733a2f2f70702e757365726170692e636f6d2f633835323231362f763835323231363738332f3131396137332f304f76685f6c544b4e7a552e6a7067)\n",
    "\n",
    "Perhaps we have tracks that not only can't reach TPC, but also has $\\theta$ values that TPC doesn't cover.\n",
    "\n",
    "Below we can see polar angle distribution for tracks that covers three cases:\n",
    "\n",
    "1. All tracks from events were reconstructed by ITS and TPC\n",
    "2. Only ITS tracks from events with only part TPC tracks. Here tracks that not reconstructed by TPC\n",
    "3. All tracks from events were reconstructed by ITS or TPC\n",
    "\n",
    "We can see small gaps with for the second case, that allow to speak about correctness of the suggestion, but anyway low energy of tracks is the main reason why TPC can't reconstructed tracks.  "
   ]
  },
  {
   "cell_type": "markdown",
   "metadata": {},
   "source": [
    "## Mass\n",
    "Let's see on the mass distribution of the events\n"
   ]
  },
  {
   "cell_type": "code",
   "execution_count": 179,
   "metadata": {},
   "outputs": [
    {
     "output_type": "display_data",
     "data": {
      "text/plain": "Canvas(toolbar=Toolbar(toolitems=[('Home', 'Reset original view', 'home', 'home'), ('Back', 'Back to previous …",
      "application/vnd.jupyter.widget-view+json": {
       "version_major": 2,
       "version_minor": 0,
       "model_id": "b92718e0259f41b7ba5c1011656c77cf"
      }
     },
     "metadata": {}
    },
    {
     "output_type": "execute_result",
     "data": {
      "text/plain": [
       "              count      mean       std       min       25%       50%  \\\n",
       "mass_ft_zq   2418.0  1.613113  0.390436  0.740946  1.383315  1.549550   \n",
       "mass_ft_nzq   663.0  1.413462  0.563853  0.637530  0.978157  1.344274   \n",
       "\n",
       "                  75%       max  \n",
       "mass_ft_zq   1.747386  4.907002  \n",
       "mass_ft_nzq  1.708745  4.250375  "
      ],
      "text/html": "<div>\n<style scoped>\n    .dataframe tbody tr th:only-of-type {\n        vertical-align: middle;\n    }\n\n    .dataframe tbody tr th {\n        vertical-align: top;\n    }\n\n    .dataframe thead th {\n        text-align: right;\n    }\n</style>\n<table border=\"1\" class=\"dataframe\">\n  <thead>\n    <tr style=\"text-align: right;\">\n      <th></th>\n      <th>count</th>\n      <th>mean</th>\n      <th>std</th>\n      <th>min</th>\n      <th>25%</th>\n      <th>50%</th>\n      <th>75%</th>\n      <th>max</th>\n    </tr>\n  </thead>\n  <tbody>\n    <tr>\n      <th>mass_ft_zq</th>\n      <td>2418.0</td>\n      <td>1.613113</td>\n      <td>0.390436</td>\n      <td>0.740946</td>\n      <td>1.383315</td>\n      <td>1.549550</td>\n      <td>1.747386</td>\n      <td>4.907002</td>\n    </tr>\n    <tr>\n      <th>mass_ft_nzq</th>\n      <td>663.0</td>\n      <td>1.413462</td>\n      <td>0.563853</td>\n      <td>0.637530</td>\n      <td>0.978157</td>\n      <td>1.344274</td>\n      <td>1.708745</td>\n      <td>4.250375</td>\n    </tr>\n  </tbody>\n</table>\n</div>"
     },
     "metadata": {},
     "execution_count": 179
    }
   ],
   "source": [
    "%matplotlib widget\n",
    "\n",
    "plt.style.use(hep.style.ROOT)\n",
    "fig = plt.figure()\n",
    "ax = fig.add_subplot()\n",
    "\n",
    "fig.suptitle(f'$M$ of $\\pi^+\\pi^-\\pi^+\\pi^-$ events')\n",
    "b = 65\n",
    "r = 0.5,2.5\n",
    "mass_after_all_cuts = mass_events(kinematics.GetTracksWithPtCut(four_tracks_zq_after_all_cuts))\n",
    "counts, bin_edges = np.histogram(mass_after_all_cuts, bins=b, range=r)\n",
    "hep.histplot((counts, bin_edges), yerr=True, color='black', histtype='errorbar')\n",
    "\n",
    "val=(r[1]-r[0])*1000 // b\n",
    "ax.set_xlabel('$M, GeV$')\n",
    "ax.set_ylabel(f'#events / {val}MeV')\n",
    "\n",
    "mass_nzq = mass_events(kinematics.GetTracksWithPtCut(data.four_tracks_nzq))\n",
    "counts_bckg, bin_edges_bckg = np.histogram(mass_nzq, bins=b, range=r)\n",
    "hep.histplot((counts_bckg, bin_edges_bckg), yerr=True, color='red', histtype='errorbar')\n",
    "\n",
    "\n",
    "pd.DataFrame([mass_after_all_cuts.describe(), mass_nzq.describe()], index=['mass_ft_zq', 'mass_ft_nzq'])"
   ]
  },
  {
   "cell_type": "code",
   "execution_count": 180,
   "metadata": {},
   "outputs": [
    {
     "output_type": "stream",
     "name": "stdout",
     "text": [
      "[[Model]]\n    Model(bw_bckg)\n[[Fit Statistics]]\n    # fitting method   = leastsq\n    # function evals   = 26\n    # data points      = 65\n    # variables        = 4\n    chi-square         = 9416.30433\n    reduced chi-square = 154.365645\n    Akaike info crit   = 331.427695\n    Bayesian info crit = 340.125245\n##  Warning: uncertainties could not be estimated:\n    amp:       at initial value\n[[Variables]]\n    M:         1.50025700 (init = 1.5)\n    G:         0.44560648 (init = 0.45)\n    amp:       90.0000000 (init = 90)\n    amp_bckg:  1.04109842 (init = 0.2)\n"
     ]
    },
    {
     "output_type": "display_data",
     "data": {
      "text/plain": "Canvas(toolbar=Toolbar(toolitems=[('Home', 'Reset original view', 'home', 'home'), ('Back', 'Back to previous …",
      "application/vnd.jupyter.widget-view+json": {
       "version_major": 2,
       "version_minor": 0,
       "model_id": "c137a0c4fe0a4adeac722494e70427b3"
      }
     },
     "metadata": {}
    }
   ],
   "source": [
    "import matplotlib.pyplot as plt\n",
    "from numpy import exp, loadtxt, pi, sqrt, random, histogram\n",
    "from lmfit import Model\n",
    "from lmfit.models import BreitWignerModel, LinearModel, GaussianModel, ConstantModel, PolynomialModel\n",
    "from FourTracks.analysis import fit\n",
    "\n",
    "%matplotlib widget\n",
    "y, x = np.histogram(mass_after_all_cuts, bins=b, range=r)\n",
    "x_orig = x\n",
    "x = x[:-1]\n",
    "\n",
    "mod_bw = Model(fit.bw)\n",
    "\n",
    "bcg_y, bcg_x = np.histogram(mass_nzq, bins=b, range=r)\n",
    "bcg_x = bcg_x[:-1]\n",
    "\n",
    "fit.bckg_y = bcg_y\n",
    "mod = Model(fit.bw_bckg)\n",
    "par_bw = mod.make_params()\n",
    "par_bw['amp'].set(90, min=0, max=150)\n",
    "par_bw['M'].set(1.5)\n",
    "par_bw['G'].set(0.45, min=0.25)\n",
    "par_bw['amp_bckg'].set(0.2, min=0, max=10)\n",
    "result = mod.fit(y,par_bw, x=x) #, method='least_squares')\n",
    "\n",
    "print(result.fit_report())\n",
    "\n",
    "# plt.plot(x, y, 'ko', label='data')\n",
    "\n",
    "hep.histplot((counts, x_orig), yerr=True, color='black', histtype='errorbar', label='data')\n",
    "plt.plot(x, fit.bw(x=x, M = 1.49, G=0.49, amp=70 ), 'g-',label='bw func')\n",
    "plt.plot(bcg_x, bcg_y, 'y+', label='like pair mass')\n",
    "# plt.plot(x, result.init_fit, 'b--', label='bw + like pair mass')\n",
    "plt.plot(x, result.best_fit, 'r-', label='bw + like pair mass')\n",
    "plt.legend(loc='best')\n",
    "plt.show()"
   ]
  },
  {
   "cell_type": "code",
   "execution_count": 181,
   "metadata": {},
   "outputs": [
    {
     "output_type": "stream",
     "name": "stdout",
     "text": [
      "[[Model]]\n    (Model(bw_bckg, prefix='bw1_') + Model(bw_bckg, prefix='bw2_'))\n[[Fit Statistics]]\n    # fitting method   = leastsq\n    # function evals   = 80\n    # data points      = 65\n    # variables        = 8\n    chi-square         = 17824.7944\n    reduced chi-square = 312.715691\n    Akaike info crit   = 380.907299\n    Bayesian info crit = 398.302397\n##  Warning: uncertainties could not be estimated:\n    bw1_M:         at initial value\n    bw1_G:         at initial value\n    bw1_amp:       at initial value\n    bw2_M:         at initial value\n    bw2_G:         at initial value\n    bw2_G:         at boundary\n    bw2_amp:       at initial value\n[[Variables]]\n    bw1_M:         1.45000000 (init = 1.45)\n    bw1_G:         0.35000000 (init = 0.35)\n    bw1_amp:       80.0000000 (init = 80)\n    bw1_amp_bckg:  1.58621775 (init = 1)\n    bw2_M:         1.65000000 (init = 1.65)\n    bw2_G:         0.25000000 (init = 0.25)\n    bw2_amp:       35.0000000 (init = 35)\n    bw2_amp_bckg:  0.10480272 (init = 5)\n"
     ]
    },
    {
     "output_type": "display_data",
     "data": {
      "text/plain": "Canvas(toolbar=Toolbar(toolitems=[('Home', 'Reset original view', 'home', 'home'), ('Back', 'Back to previous …",
      "application/vnd.jupyter.widget-view+json": {
       "version_major": 2,
       "version_minor": 0,
       "model_id": "76cb9e2bd8bc412482cbfb237c2bf632"
      }
     },
     "metadata": {}
    }
   ],
   "source": [
    "import matplotlib.pyplot as plt\n",
    "from numpy import exp, loadtxt, pi, sqrt, random, histogram\n",
    "from lmfit import Model\n",
    "from lmfit.models import BreitWignerModel, LinearModel, GaussianModel, ConstantModel, PolynomialModel\n",
    "from FourTracks.analysis import fit\n",
    "\n",
    "%matplotlib widget\n",
    "\n",
    "y, x = np.histogram(mass_events(kinematics.GetTracksWithPtCut(four_tracks_zq_after_all_cuts)), bins=b, range=r)\n",
    "x_orig = x\n",
    "x = x[:-1]\n",
    "\n",
    "mod_bw = Model(fit.bw)\n",
    "\n",
    "bcg_y, bcg_x = np.histogram(mass_events(kinematics.GetTracksWithPtCut(data.four_tracks_nzq)), bins=b, range=r)\n",
    "bcg_x = bcg_x[:-1]\n",
    "\n",
    "fit.bckg_y = bcg_y\n",
    "mod_bw1 = Model(fit.bw_bckg, prefix='bw1_')\n",
    "mod_bw2 = Model(fit.bw_bckg, prefix='bw2_')\n",
    "mod = mod_bw1 + mod_bw2\n",
    "par_bw = mod.make_params()\n",
    "a1 = 80\n",
    "a2 = 35\n",
    "par_bw['bw1_amp'].set(a1, min=0, max=150)\n",
    "par_bw['bw1_M'].set(1.45)\n",
    "par_bw['bw1_G'].set(0.35, min=0.25)\n",
    "par_bw['bw1_amp_bckg'].set(1, min=0, max=10)\n",
    "par_bw['bw2_amp'].set(a2, min=0, max=150)\n",
    "par_bw['bw2_M'].set(1.65)\n",
    "par_bw['bw2_G'].set(0.25, min=0.25)\n",
    "par_bw['bw2_amp_bckg'].set(5, min=0, max=10)\n",
    "\n",
    "result = mod.fit(y,par_bw, x=x) #, method='least_squares')\n",
    "\n",
    "print(result.fit_report())\n",
    "\n",
    "hep.histplot((counts, x_orig), yerr=True, color='black', histtype='errorbar', label='data')\n",
    "plt.plot(x, fit.bw(x=x, M = 1.45, G=0.3, amp=a1 ), 'g-',label='bw 1450 func')\n",
    "plt.plot(x, fit.bw(x=x, M = 1.7, G=0.3, amp=a2 ), 'c-',label='bw 1700 func')\n",
    "plt.plot(bcg_x, bcg_y, 'y+', label='like pair mass')\n",
    "# plt.plot(x, result.init_fit, 'b--', label='bw + like pair mass')\n",
    "plt.plot(x, result.best_fit, 'r-', label='bw + like pair mass')\n",
    "plt.legend(loc='best')\n",
    "plt.show()"
   ]
  },
  {
   "cell_type": "code",
   "execution_count": 182,
   "metadata": {},
   "outputs": [
    {
     "output_type": "stream",
     "name": "stdout",
     "text": [
      "[[Model]]\n    Model(polynomial)\n[[Fit Statistics]]\n    # fitting method   = leastsq\n    # function evals   = 18\n    # data points      = 65\n    # variables        = 5\n    chi-square         = 827.353668\n    reduced chi-square = 13.7892278\n    Akaike info crit   = 175.349924\n    Bayesian info crit = 186.221860\n##  Warning: uncertainties could not be estimated:\n    c0:  at initial value\n    c1:  at initial value\n    c2:  at initial value\n    c3:  at initial value\n    c4:  at initial value\n[[Variables]]\n    c0: -52.0214731 (init = -52.02159)\n    c1:  158.952975 (init = 158.9533)\n    c2: -125.475867 (init = -125.4759)\n    c3:  38.7143145 (init = 38.71442)\n    c4: -4.22387924 (init = -4.223879)\n"
     ]
    },
    {
     "output_type": "display_data",
     "data": {
      "text/plain": "Canvas(toolbar=Toolbar(toolitems=[('Home', 'Reset original view', 'home', 'home'), ('Back', 'Back to previous …",
      "application/vnd.jupyter.widget-view+json": {
       "version_major": 2,
       "version_minor": 0,
       "model_id": "0f3ae3355b06438892ca01556d3957ab"
      }
     },
     "metadata": {}
    },
    {
     "output_type": "execute_result",
     "data": {
      "text/plain": [
       "[<matplotlib.lines.Line2D at 0x1e933762580>]"
      ]
     },
     "metadata": {},
     "execution_count": 182
    }
   ],
   "source": [
    "from particle import Particle\n",
    "import matplotlib.pyplot as plt\n",
    "from numpy import exp, loadtxt, pi, sqrt, random, histogram\n",
    "from lmfit import Model\n",
    "from lmfit.models import BreitWignerModel, LinearModel, GaussianModel, ConstantModel, PolynomialModel\n",
    "from FourTracks.analysis import fit\n",
    "\n",
    "%matplotlib widget\n",
    "\n",
    "bcg_y, bcg_x = np.histogram(mass_events(kinematics.GetTracksWithPtCut(data.four_tracks_nzq)), bins=b, range=r)\n",
    "bcg_x = bcg_x[:-1]\n",
    "\n",
    "mod_bckg = PolynomialModel(degree=4)\n",
    "par_bckg = mod_bckg.guess(bcg_y, x = bcg_x)\n",
    "\n",
    "result = mod_bckg.fit(bcg_y, par_bckg, x = bcg_x)\n",
    "print(result.fit_report())\n",
    "\n",
    "plt.plot(bcg_x,bcg_y, 'bo')\n",
    "plt.plot(bcg_x, result.init_fit, 'b--', label='bw + like pair mass')\n",
    "plt.plot(bcg_x, result.best_fit, 'r-', label='bw + like pair mass')"
   ]
  },
  {
   "cell_type": "code",
   "execution_count": 183,
   "metadata": {},
   "outputs": [
    {
     "output_type": "stream",
     "name": "stdout",
     "text": [
      "[[Model]]\n    ((Model(bw, prefix='bw1_') + Model(bw, prefix='bw2_')) + Model(polynomial, prefix='bckg_'))\n[[Fit Statistics]]\n    # fitting method   = leastsq\n    # function evals   = 26\n    # data points      = 65\n    # variables        = 11\n    chi-square         = 31860.6225\n    reduced chi-square = 590.011528\n    Akaike info crit   = 424.658025\n    Bayesian info crit = 448.576285\n##  Warning: uncertainties could not be estimated:\n    bw1_M:    at initial value\n    bw1_G:    at initial value\n    bw1_amp:  at initial value\n    bw2_M:    at initial value\n    bw2_G:    at initial value\n    bw2_amp:  at initial value\n    bckg_c0:  at initial value\n    bckg_c1:  at initial value\n    bckg_c2:  at initial value\n    bckg_c3:  at initial value\n    bckg_c4:  at initial value\n[[Variables]]\n    bw1_M:    1.50000000 (init = 1.5)\n    bw1_G:    0.40000000 (init = 0.4)\n    bw1_amp:  85.0000000 (init = 85)\n    bw2_M:    1.65000000 (init = 1.65)\n    bw2_G:    0.20000000 (init = 0.2)\n    bw2_amp:  15.0000000 (init = 15)\n    bckg_c0: -34.8419011 (init = -34.8419)\n    bckg_c1:  105.895125 (init = 105.8951)\n    bckg_c2: -83.9664919 (init = -83.96649)\n    bckg_c3:  26.1691031 (init = 26.1691)\n    bckg_c4: -2.90076667 (init = -2.900767)\n"
     ]
    },
    {
     "output_type": "display_data",
     "data": {
      "text/plain": "Canvas(toolbar=Toolbar(toolitems=[('Home', 'Reset original view', 'home', 'home'), ('Back', 'Back to previous …",
      "application/vnd.jupyter.widget-view+json": {
       "version_major": 2,
       "version_minor": 0,
       "model_id": "7133074969f240ed9d844af7d785344b"
      }
     },
     "metadata": {}
    }
   ],
   "source": [
    "import matplotlib.pyplot as plt\n",
    "from numpy import exp, loadtxt, pi, sqrt, random, histogram\n",
    "from lmfit import Model\n",
    "from lmfit.models import BreitWignerModel, LinearModel, GaussianModel, ConstantModel, PolynomialModel\n",
    "from FourTracks.analysis import fit\n",
    "\n",
    "%matplotlib widget\n",
    "\n",
    "y, x = np.histogram(mass_events(kinematics.GetTracksWithPtCut(four_tracks_zq_after_all_cuts)), bins=b, range=r)\n",
    "x_orig = x\n",
    "x = x[:-1]\n",
    "\n",
    "bcg_y, bcg_x = np.histogram(mass_events(kinematics.GetTracksWithPtCut(data.four_tracks_nzq)), bins=b, range=r)\n",
    "bcg_x = bcg_x[:-1]\n",
    "\n",
    "fit.bckg_y = bcg_y\n",
    "mod_bw1 = Model(fit.bw, prefix='bw1_')\n",
    "mod_bw2 = Model(fit.bw, prefix='bw2_')\n",
    "mod_bckg = PolynomialModel(degree=4, prefix='bckg_')\n",
    "# pars_bckg = mod_bckg.guess(bcg_y, x = bcg_x)\n",
    "# res_bckg = mod_bckg.fit(bcg_y, par_bckg, x=bcg_x)\n",
    "mod = mod_bw1 + mod_bw2 + mod_bckg\n",
    "par_bw = mod.make_params()\n",
    "a1 = 85\n",
    "a2 = 15\n",
    "par_bw['bw1_amp'].set(a1, min=0, max=150)\n",
    "par_bw['bw1_M'].set(1.5)\n",
    "par_bw['bw1_G'].set(0.4, min=0.25)\n",
    "# par_bw['bw1_amp_bckg'].set(1, min=0, max=10)\n",
    "par_bw['bw2_amp'].set(a2, min=0, max=150)\n",
    "par_bw['bw2_M'].set(1.65)\n",
    "par_bw['bw2_G'].set(0.2, min=0.15)\n",
    "# par_bw['bw2_amp_bckg'].set(1, min=0, max=10)\n",
    "# par_bw['bckg_c0'].set(-219.830445) \n",
    "# par_bw['bckg_c1'].set( 520.563330) \n",
    "# par_bw['bckg_c2'].set(-428.087918) \n",
    "# par_bw['bckg_c3'].set( 150.537607) \n",
    "# par_bw['bckg_c4'].set(-19.4008533) \n",
    "\n",
    "par_bw['bckg_c0'].set(-34.8419011)\n",
    "par_bw['bckg_c1'].set( 105.895125) \n",
    "par_bw['bckg_c2'].set(-83.9664919)\n",
    "par_bw['bckg_c3'].set( 26.1691031) \n",
    "par_bw['bckg_c4'].set(-2.90076667)\n",
    "\n",
    "result = mod.fit(y,par_bw, x = x)\n",
    "\n",
    "print(result.fit_report())\n",
    "\n",
    "hep.histplot((counts, x_orig), yerr=True, color='black', histtype='errorbar', label='data')\n",
    "plt.plot(x, fit.bw(x=x, M = 1.45, G=0.2, amp=a1 ), 'g-',label='bw 1450 func')\n",
    "plt.plot(x, fit.bw(x=x, M = 1.7, G=0.2, amp=a2 ), 'c-',label='bw 1700 func')\n",
    "plt.plot(bcg_x, bcg_y, 'y+', label='like pair mass')\n",
    "# plt.plot(bcg_x,res_bckg.best_fit, 'y-', label='fit bckg pol4')\n",
    "# plt.plot(x, result.init_fit, 'b--', label='bw + like pair mass')\n",
    "plt.plot(x, result.best_fit, 'r-', label='bw + like pair mass')\n",
    "plt.legend(loc='best')\n",
    "plt.show()"
   ]
  },
  {
   "cell_type": "markdown",
   "metadata": {},
   "source": [
    "Let's normalize this plot:"
   ]
  },
  {
   "cell_type": "code",
   "execution_count": 185,
   "metadata": {
    "ExecuteTime": {
     "end_time": "2021-04-15T17:31:57.119114Z",
     "start_time": "2021-04-15T17:31:56.923013Z"
    }
   },
   "outputs": [],
   "source": [
    "# plt.style.use(hep.style.ROOT)\n",
    "# fig = plt.figure(figsize=(10,8))\n",
    "# ax = fig.add_subplot()\n",
    "\n",
    "# fig.suptitle('mass of events', fontsize=32)\n",
    "# b = 100\n",
    "# r = 0,4\n",
    "\n",
    "# n = 2\n",
    "# cnts = ax.hist(mass_events(kinematics.GetTracksWithPtCut(untrig)),bins=b, range=r,histtype='step', linewidth=2, density=True, label='correct trig', color='green')\n",
    "\n",
    "# ax.hist(mass_nzq,bins=b, range=r,histtype='step', linewidth=2, density=True, label='fake trig', color='red')\n",
    "\n",
    "# val=(r[1]-r[0])*1000 // b\n",
    "# ax.set_xlabel('$Mass, GeV$')\n",
    "# ax.set_ylabel(f'#events / {val}MeV')\n",
    "\n",
    "# ax.legend()\n",
    "# # fig"
   ]
  },
  {
   "cell_type": "markdown",
   "metadata": {},
   "source": [
    "### Pions subsystems\n",
    "\n",
    "In our process 4 pions were producted. The most probably intermediate state including two pions and $\\rho$ i.e.\n",
    "$$\\rho' \\rightarrow \\rho \\ \\pi^+ \\pi^- \\rightarrow \\pi^+ \\pi^- \\pi^+ \\pi^-$$ \n",
    "\n",
    "We can see this on distribution of mass that can be obtained as all combinations of pairs from intial four tracks, i.e. only four pairs:\n",
    "\n",
    "![img](https://camo.githubusercontent.com/53a52e2a6d4ae7112d74f4073c979a51166170d8/68747470733a2f2f70702e757365726170692e636f6d2f633835333632342f763835333632343436372f34383466332f5431375a754b597062526f2e6a7067)\n",
    "\n",
    "Here we can plot two distirbutions:\n",
    "\n",
    "1. Make all possible(4) combinations of pairs. Then take lightest and pair that belong to one combination with that. Plot masses of these two pairs.\n",
    "2. Plot masses of masses from possible combinations."
   ]
  },
  {
   "cell_type": "code",
   "execution_count": 186,
   "metadata": {
    "ExecuteTime": {
     "end_time": "2021-04-14T04:10:03.533012Z",
     "start_time": "2021-04-14T04:10:03.259267Z"
    }
   },
   "outputs": [],
   "source": [
    "# import modules.physics.analysis.pairs as pairs\n",
    "\n",
    "# tracks  = ft.GetTracksWithPtLt(ft.ft_zq_nTPC[0])\n",
    "# PosFirstTrack = tracks[tracks.T_Q > 0].groupby('entry').first()\n",
    "# PosSecTrack = tracks[tracks.T_Q > 0].groupby('entry').last()\n",
    "# NegFirstTrack = tracks[tracks.T_Q < 0].groupby('entry').first()\n",
    "# NegSecTrack = tracks[tracks.T_Q < 0].groupby('entry').last()\n",
    "\n",
    "# ## first comb\n",
    "# pair1 = pairs.MakePair(PosFirstTrack, NegFirstTrack)\n",
    "# pair2 = pairs.MakePair(PosSecTrack, NegSecTrack)\n",
    "# ## second comb\n",
    "# pair3 = pairs.MakePair(PosFirstTrack, NegSecTrack)\n",
    "# pair4 = pairs.MakePair(PosSecTrack, NegFirstTrack)\n",
    "\n",
    "# # first comb\n",
    "# m1 = kinematics.mass_events(pair1)\n",
    "# m2 = kinematics.mass_events(pair2)\n",
    "# ## second comb\n",
    "# m3 = kinematics.mass_events(pair3)\n",
    "# m4 = kinematics.mass_events(pair4)\n",
    "\n",
    "\n",
    "# heavy_pairs1 = pd.concat([pair1.loc[m1[m1 > m2].index], pair2.loc[m2[m2 > m1].index]])\n",
    "# soft_pairs1 = pd.concat([pair1.loc[m1[m1 < m2].index], pair2.loc[m2[m2 < m1].index]])\n",
    "\n",
    "# heavy_pairs2 = pd.concat([pair3.loc[m3[m3 > m4].index], pair4.loc[m4[m4 > m3].index]])\n",
    "# soft_pairs2 = pd.concat([pair3.loc[m3[m3 < m4].index], pair4.loc[m4[m4 < m3].index]])\n",
    "\n",
    "\n",
    "\n",
    "# #  = pd.concat([heavy_pairs1, heavy_pairs2])\n",
    "\n",
    "# heavy_pairs = heavy_pairs1\n",
    "# heavy_pairs\n",
    "# # heavy_pairs = heavy_pairs2\n",
    "\n",
    "# # M = kinematics.mass_events(heavy_pairs)\n",
    "# # E = kinematics.E_events(heavy_pairs)\n",
    "# # P = kinematics.P_events(heavy_pairs)\n",
    "# # P0 = np.sqrt(M**2-4*(0.001*PiPlus.mass)**2)/2\n",
    "# # E0 = M / 2\n",
    "# # # cos_th1 = kinematics.cos_theta_events(heavy_pairs1[heavy_pairs1.T_Q > 0].groupby('entry').first(),heavy_pairs1)\n",
    "# # # tan_th1 = np.sqrt(1/cos_th**2 - 1)\n",
    "\n",
    "# # # theta_as = np.arcsin(P*E0*tan_th1/(E*P0*np.sqrt(1+tan_th1*E/M)))\n",
    "# # # theta_ac = np.arccos(1/(np.sqrt(1+1+tan_th1*E/M)))\n",
    "# # # theta = theta_as - theta_ac\n",
    "\n",
    "# # _ = plt.hist(M, bins=100, range=(0.3,2),histtype='step', linewidth=2, color='blue')\n",
    "\n",
    "\n",
    "# from modules.physics.analysis import pairs\n",
    "\n",
    "# # LiteHeavyRecoil, LiteHeavyTotal = pairs.GetPairs(ft.GetTracksWithPtLt(ft.GetTracksWithNTPC(ft.four_tracks_zq,4)))\n",
    "# LiteHeavyRecoil, LiteHeavyTotal = pairs.GetPairsMasses(ft.GetTracksWithPtLt(ft.GetTracksWithNTPC(ft.four_tracks_zq,4)))\n",
    "\n",
    "# fig = pairs.ShowMassComaprison(LiteHeavyTotal[ind.index][~ind], r'$\\rho^0 \\rightarrow \\pi^+\\pi^-$   and    $\\pi^+\\pi^-$ masses')\n",
    "# # # fig"
   ]
  },
  {
   "cell_type": "code",
   "execution_count": 187,
   "metadata": {
    "ExecuteTime": {
     "end_time": "2021-04-10T17:54:36.350837Z",
     "start_time": "2021-04-10T17:54:36.131899Z"
    }
   },
   "outputs": [],
   "source": [
    "# mh1 = kinematics.mass_events(heavy_pairs1)\n",
    "# ms1 = kinematics.mass_events(soft_pairs1)\n",
    "# mh2 = kinematics.mass_events(heavy_pairs2)\n",
    "# ms2 = kinematics.mass_events(soft_pairs2)\n",
    "# pd.merge(pd.concat([mh1, mh2]).sort_index(), pd.concat([ms1, ms2]).sort_index(), right_on='entry', left_on='entry')"
   ]
  },
  {
   "cell_type": "markdown",
   "metadata": {},
   "source": [
    "As we can see above, for second case (all possible pairs) we've got stronger signal in comparison with light-recoil pair as it made in [STAR work](http://arxiv.org/abs/0912.0604v2). Let's build 2d distirbuition and marginals component separately:"
   ]
  },
  {
   "cell_type": "code",
   "execution_count": 188,
   "metadata": {
    "collapsed": true
   },
   "outputs": [],
   "source": [
    "# import matplotlib.pyplot as plt\n",
    "# from matplotlib.gridspec import GridSpec\n",
    "\n",
    "\n",
    "# fig = plt.figure(figsize=(15, 7))\n",
    "\n",
    "# gs = GridSpec(4,4,wspace=0.1,hspace=0.1)\n",
    "\n",
    "# ax_joint = fig.add_subplot(gs[1:4,0:3])\n",
    "# ax_marg_x = fig.add_subplot(gs[0,0:3])\n",
    "# ax_marg_y = fig.add_subplot(gs[1:4,3])\n",
    "\n",
    "# ax_joint.hist2d(LiteHeavyTotal.Recoil, LiteHeavyTotal.Lite, bins=(50, 50), range=[(0, 2), (0, 2)], cmap=plt.cm.jet)\n",
    "# _ = ax_marg_y.hist(LiteHeavyTotal.Lite, bins=100, range=(0, 2), histtype='step', color='blue', linewidth=2, label='lite pair',orientation=\"horizontal\")\n",
    "# _ = ax_marg_x.hist(LiteHeavyTotal.Recoil, bins=100, range=(0, 2), histtype='step', color='red', linewidth=2, label='rest pair')\n",
    "\n",
    "\n",
    "# ax_joint.set_ylabel('Lightest pair Mass, GeV')\n",
    "# ax_joint.set_xlabel('Recoiling pair Mass, GeV')\n",
    "\n",
    "# # ax_marg_y.set_xlabel('$Mass, GeV$')\n",
    "# ax_marg_y.set_xlabel('# events')\n",
    "# ax_marg_x.yaxis.set_label_position(\"right\")\n",
    "# ax_marg_x.xaxis.set_ticks([])\n",
    "# ax_marg_x.xaxis.set_ticks_position('none')\n",
    "# ax_marg_y.yaxis.set_ticks_position('none')\n",
    "# ax_marg_y.yaxis.set_ticks([])\n",
    "\n",
    "# # ax_marg_x.set_xlabel('$Mass, GeV$')\n",
    "# ax_marg_x.set_ylabel('# events')\n",
    "# ax_marg_y.xaxis.set_label_position(\"top\")\n",
    "# ax_marg_x\n",
    "# ax_joint.legend()\n",
    "# # fig"
   ]
  },
  {
   "cell_type": "markdown",
   "metadata": {},
   "source": [
    "## Decay angle for $\\rho_0$\n",
    "\n",
    "Here we would like to study angle decay for $\\rho_0 \\rightarrow \\pi^+\\pi^-$ between the momentum of one of the pions in the rest frame of $\\rho_0$ and original(lab frame) momentum of  $\\rho_0$.\n",
    "\n",
    "For the sake of simplicity first we will create new lab system with OZ axis directed along momentum of $\\rho_0$ in lab frame.\n",
    "\n",
    "The transition from original lab frame to the new one could be obtain by two rotation:\n",
    "\n",
    "- First, around x axis:\n",
    "\n",
    "Rotation matrix for this case:\n",
    "$$\n",
    "R_{x,\\alpha}=\n",
    "\\Bigg(\n",
    "\\begin{matrix}\n",
    "1 & 0 & 0\\\\\n",
    "0 & \\cos{\\alpha} & -\\sin{\\alpha} \\\\\n",
    "0 & \\sin{\\alpha} & \\cos{\\alpha}\n",
    "\\end{matrix}\n",
    "\\Bigg)\n",
    "$$\n",
    "\n",
    "Rotation angle for x axis:\n",
    "\n",
    "$$\n",
    "\\begin{matrix}\n",
    "\\sin{\\alpha} =  \\frac{p_y}{\\sqrt{p_y^2+p_z^2}}  \\\\\n",
    "\\cos{\\alpha} =  \\frac{p_z}{\\sqrt{p_y^2+p_z^2}}  \\\\\n",
    "\\end{matrix}\n",
    "$$\n",
    "\n",
    "Now, momentum vector of $\\rho_0$ in this system will looks like\n",
    "\n",
    "$$\n",
    "\\boldsymbol{p'}=R_{x,\\alpha}\\boldsymbol{p}=\n",
    "\\Bigg(\n",
    "\\begin{matrix}\n",
    "p_x\\\\\n",
    "p_y\\cos{\\alpha} - p_z\\sin{\\alpha}\\\\\n",
    "p_y\\sin{\\alpha} + p_z\\cos{\\alpha})\n",
    "\\end{matrix}\n",
    "\\Bigg)\n",
    "$$\n",
    "\n",
    "\n",
    "- Second, around y axis:\n",
    "\n",
    "Rotation matrix for this case will looks like\n",
    "$$\n",
    "R = R_{y,-\\beta}= \n",
    "\\Bigg(\n",
    "\\begin{matrix}\n",
    "\\cos{\\beta} & 0 & -\\sin{\\beta}\\\\\n",
    "0 & 1 & 0 \\\\\n",
    "\\sin{\\beta} & 0 & \\cos{\\beta}\n",
    "\\end{matrix}\n",
    "\\Bigg)\n",
    "$$\n",
    "\n",
    "We have to apply it for already rotated vector around x axis:\n",
    "\n",
    "\n",
    "$$\n",
    "\\boldsymbol{p''} =R_{y,-\\beta}\\boldsymbol{p'} = \n",
    "\\Bigg(\n",
    "\\begin{matrix}\n",
    "\\cos{\\beta} & 0 & -\\sin{\\beta}\\\\\n",
    "0 & 1 & 0 \\\\\n",
    "\\sin{\\beta} & 0 & \\cos{\\beta}\n",
    "\\end{matrix}\n",
    "\\Bigg)\n",
    "\\Bigg(\n",
    "\\begin{matrix}\n",
    "{p'}_x\\\\\n",
    "{p'}_y\\\\\n",
    "{p'}_z\n",
    "\\end{matrix}\n",
    "\\Bigg)\n",
    " = \n",
    "\\Bigg(\n",
    "\\begin{matrix}\n",
    "{p'}_x\\cos{\\beta}-{p'}_z\\sin{\\beta}\\\\\n",
    "{p'}_y\\\\\n",
    "{p'}_x\\sin{\\beta}+{p'}_z\\cos{\\beta}\n",
    "\\end{matrix}\n",
    "\\Bigg)\n",
    "$$\n",
    "\n",
    "\n",
    "Where rotation angle based on the new rotated vector $\\boldsymbol{p'}$ coordinates:\n",
    "\n",
    "$$\n",
    "\\begin{matrix}\n",
    "\\sin{\\beta}  =  \\frac{{p'}_x}{\\sqrt{{p'_x}^2+{p'}_z^2}}  \\\\\n",
    "\\cos{\\beta}  =  \\frac{{p'}_z}{\\sqrt{{p'_x}^2+{p'}_z^2}}  \\\\\n",
    "\\end{matrix}\n",
    "$$\n",
    "\n",
    "As a result final transition looks like:\n",
    "_____________\n",
    "$$\n",
    "\\boldsymbol{p''} =\n",
    "\\Bigg(\n",
    "\\begin{matrix}\n",
    "{p'}_x\\cos{\\beta}-{p'}_z\\sin{\\beta}\\\\\n",
    "{p'}_y\\\\\n",
    "{p'}_x\\sin{\\beta}+{p'}_z\\cos{\\beta}\n",
    "\\end{matrix}\n",
    "\\Bigg)=\n",
    "\\Bigg(\n",
    "\\begin{matrix}\n",
    "p_x\\cos{\\beta}-p_y\\sin{\\alpha}\\sin{\\beta}-p_z\\cos{\\alpha}\\sin{\\beta} \\\\\n",
    "p_y\\cos{\\alpha}-p_z\\sin{\\alpha} \\\\\n",
    "p_x\\sin{\\beta}+p_y\\sin{\\alpha}\\cos{\\beta}+p_z\\cos{\\alpha}\\cos{\\beta}\n",
    "\\end{matrix}\n",
    "\\Bigg)\n",
    "$$\n",
    "where rotation angles are:\n",
    "\n",
    "\n",
    "$$\n",
    "\\begin{matrix}\n",
    "\\sin{\\alpha} =  \\frac{p_y}{\\sqrt{p_y^2+p_z^2}}  \\\\\n",
    "\\cos{\\alpha} =  \\frac{p_z}{\\sqrt{p_y^2+p_z^2}}  \\\\\n",
    "\\sin{\\beta}  =  \\frac{p_x}{\\sqrt{p_x^2+(p_y\\sin{\\alpha}+p_z\\cos{\\alpha})^2}}  \\\\\n",
    "\\cos{\\beta}  =  \\frac{p_y\\sin{\\alpha}+p_z\\cos{\\alpha}}{\\sqrt{p_x^2+(p_y\\sin{\\alpha}+p_z\\cos{\\alpha})^2}}  \\\\\n",
    "\\end{matrix}\n",
    "$$\n",
    "\n",
    "\n",
    "Now let's consider moving coordinate system with $\\rho_0$ so that OZ axis direct along $\\boldsymbol{p}_{\\rho_0}$\n",
    "\n",
    "We know components of original momentum of $\\pi^+$ in the such system and now let's boost their via Lorentz Transormation:\n",
    "\n",
    "$$\n",
    "\\begin{matrix}\n",
    "\\ {E'} =  \\gamma E - \\Gamma p_z \\\\\n",
    "\\ {p'}_x= p_x \\\\\n",
    "\\ {p'}_y= p_y \\\\\n",
    "\\ {p'}_z= \\gamma p_z - \\Gamma E \\\\\n",
    "\\end{matrix}\n",
    "$$\n",
    "\n",
    "where \n",
    "$$ \\boldsymbol{\\beta} = \\frac{\\boldsymbol{p}}{E} $$\n",
    "$$ \\gamma = \\frac{E}{m}$$\n",
    "$$ \\Gamma = \\gamma \\beta = \\frac{p}{m}$$\n",
    "\n",
    "\n",
    "$$ \\boldsymbol{\\beta} = \\frac{\\boldsymbol{p}}{E} $$\n",
    "$$ \\gamma = \\frac{1}{\\sqrt{1-\\frac{p^2}{E^2}}}$$\n",
    "\n",
    "Now the searched angle can be obtain from scalar multiplication of $\\pi^+$ momentum in the rest frame of $\\rho_0$ and momentum of $\\rho_0$ in the lab frame:\n",
    "\n",
    "$$\\cos{\\theta}=\\frac{\\boldsymbol{{p'}_{\\pi^+}}\\boldsymbol{p_{\\rho_0}}} {{p'}_{\\pi^+}p_{\\rho_0}}$$"
   ]
  },
  {
   "cell_type": "code",
   "execution_count": 189,
   "metadata": {
    "ExecuteTime": {
     "end_time": "2021-04-12T09:32:25.332440Z",
     "start_time": "2021-04-12T09:32:25.206892Z"
    }
   },
   "outputs": [],
   "source": [
    "# %matplotlib widget\n",
    "\n",
    "# tracks = heavy_pairs1[['T_Px', 'T_Py','T_Pz', 'T_Q']].sort_index()\n",
    "# tracks_rho = tracks.groupby('entry').sum()\n",
    "# tracks_pi_plus = tracks[tracks.T_Q>0].reset_index().drop('level_1',axis=1).set_index('entry')\n",
    "# tracks_pi_min = tracks[tracks.T_Q<0].reset_index().drop('level_1',axis=1).set_index('entry')\n",
    "\n",
    "# RotateToVector(rho, fir)\n",
    "# RotateToVector(rho, sec)\n",
    "# RotateToVector(tracks_rho, tracks_pi_plus)\n",
    "# RotateToVector(tracks_rho, tracks_pi_min)\n",
    "# BoostToSystem(rho.E/(0.001*Rho0.mass),rho.l/(0.001*Rho0.mass), fir)\n",
    "# BoostToSystem(rho.E/(0.001*Rho0.mass),rho.l/(0.001*Rho0.mass), sec)\n",
    "# BoostToSystem(tracks_rho.E/(0.001*Rho0.mass),tracks_rho.l/(0.001*Rho0.mass), tracks_pi_min)\n",
    "# BoostToSystem(tracks_rho.E/(0.001*Rho0.mass),tracks_rho.l/(0.001*Rho0.mass), tracks_pi_plus)\n",
    "\n",
    "# cost_lrnz_plus = CosTheta(tracks_pi_plus[['prx', 'pry', 'brpz']],tracks_rho[['T_Px', 'T_Py', 'T_Pz']])\n",
    "# cost_lrnz_pvn = CosTheta(fir[['prx', 'pry', 'brpz']],rho[['T_Px', 'T_Py', 'T_Pz']])\n",
    "# cost_pvn = CosTheta(fir[['T_Px', 'T_Py', 'T_Pz']],rho[['T_Px', 'T_Py', 'T_Pz']])\n",
    "# cost = CosTheta(tracks_pi_plus[['T_Px', 'T_Py', 'T_Pz']],tracks_rho[['T_Px', 'T_Py', 'T_Pz']])\n",
    "\n",
    "\n",
    "# lp_b_r_pi_plus = np.sqrt(tracks_pi_plus.prx**2 + tracks_pi_plus.pry**2 + tracks_pi_plus.brpz**2)\n",
    "\n",
    "# tracks_pi_plus['cos_theta'] = (tracks_pi_plus.prx*tracks_rho.T_Px + tracks_pi_plus.pry*tracks_rho.T_Py + tracks_pi_plus.brpz*tracks_rho.T_Pz) / (lp_b_r_pi_plus*tracks_rho.l)\n",
    "\n",
    "# _ = plt.hist(tracks_pi_plus.cos_theta,bins=100,range=(-1,1),histtype='step', linewidth=2, color='red', label=r\"$\\cos{{\\theta}}$\")\n",
    "\n",
    "# tracks_pi_plus['cost_orig'] = (tracks_pi_plus.T_Px*tracks_rho.T_Px + tracks_pi_plus.T_Py*tracks_rho.T_Py + tracks_pi_plus.T_Pz*tracks_rho.T_Pz) / (tracks_pi_plus.lpr * tracks_rho.l)\n",
    "\n",
    "# _ = plt.hist(tracks_pi_plus.cost_orig,bins=100,range=(-1,1),histtype='step', linewidth=2, color='black', label=r\"$\\cos{{\\theta'}}$\")\n",
    "# _ = plt.legend()\n"
   ]
  },
  {
   "cell_type": "markdown",
   "metadata": {},
   "source": [
    "## Cross section\n",
    "\n",
    "Let's see to cross section of my events.\n",
    "\n",
    "For this we should take luminosity of runs.\n",
    "\n",
    "> Unfortunately file that I have to use for getting luminosity have a reference to special class AliTriggerInfo and moreover it packed into TObjArray, so I can't read it via uproot4. This is the reason why I used pure root again. [Here is the script](https://github.com/bdrum/cern-physics/blob/master/root-cpp/RhoPrime/macro/lumi.C) that I used.\n",
    "\n",
    "Then let's see how much events do we have in each run.\n",
    "\n",
    "$$L = \\frac{1}{\\sigma} \\frac{\\delta N}{\\delta t}$$, this means that \n",
    "\n",
    "$$\\sigma \\approx \\frac{N}{L}$$\n",
    "\n",
    "Cross section of phenomena should be flat and independent from runs. \n",
    "\n",
    "Let's check it:"
   ]
  },
  {
   "cell_type": "code",
   "execution_count": 1,
   "metadata": {
    "ExecuteTime": {
     "end_time": "2021-04-10T11:33:32.674510Z",
     "start_time": "2021-04-10T11:33:32.614362Z"
    }
   },
   "outputs": [
    {
     "output_type": "error",
     "ename": "NameError",
     "evalue": "name 'data' is not defined",
     "traceback": [
      "\u001b[1;31m---------------------------------------------------------------------------\u001b[0m",
      "\u001b[1;31mNameError\u001b[0m                                 Traceback (most recent call last)",
      "\u001b[1;32m<ipython-input-1-29fc28321e3f>\u001b[0m in \u001b[0;36m<module>\u001b[1;34m\u001b[0m\n\u001b[0;32m      1\u001b[0m \u001b[1;32mfrom\u001b[0m \u001b[0mFourTracks\u001b[0m\u001b[1;33m.\u001b[0m\u001b[0manalysis\u001b[0m\u001b[1;33m.\u001b[0m\u001b[0mcrossection\u001b[0m \u001b[1;32mimport\u001b[0m \u001b[0mGetCrossSection\u001b[0m\u001b[1;33m\u001b[0m\u001b[1;33m\u001b[0m\u001b[0m\n\u001b[1;32m----> 2\u001b[1;33m \u001b[0mdf_cs\u001b[0m \u001b[1;33m=\u001b[0m \u001b[0mGetCrossSection\u001b[0m\u001b[1;33m(\u001b[0m\u001b[0mdata\u001b[0m\u001b[1;33m.\u001b[0m\u001b[0morig_events\u001b[0m\u001b[1;33m.\u001b[0m\u001b[0mRunNum\u001b[0m\u001b[1;33m,\u001b[0m \u001b[0mkinematics\u001b[0m\u001b[1;33m.\u001b[0m\u001b[0mGetTracksWithPtCut\u001b[0m\u001b[1;33m(\u001b[0m\u001b[0mfour_tracks_zq_after_all_cuts\u001b[0m\u001b[1;33m)\u001b[0m\u001b[1;33m)\u001b[0m\u001b[1;33m\u001b[0m\u001b[1;33m\u001b[0m\u001b[0m\n\u001b[0m\u001b[0;32m      3\u001b[0m \u001b[0mdf_cs\u001b[0m\u001b[1;33m[\u001b[0m\u001b[1;34m'sigma'\u001b[0m\u001b[1;33m]\u001b[0m \u001b[1;33m=\u001b[0m \u001b[0mdf_cs\u001b[0m\u001b[1;33m.\u001b[0m\u001b[0mnEvFT\u001b[0m \u001b[1;33m/\u001b[0m \u001b[1;33m(\u001b[0m\u001b[0mdf_cs\u001b[0m\u001b[1;33m.\u001b[0m\u001b[0mLumi\u001b[0m \u001b[1;33m*\u001b[0m \u001b[1;36m1000\u001b[0m\u001b[1;33m)\u001b[0m\u001b[1;33m\u001b[0m\u001b[1;33m\u001b[0m\u001b[0m\n\u001b[0;32m      4\u001b[0m \u001b[1;33m\u001b[0m\u001b[0m\n\u001b[0;32m      5\u001b[0m pdg_runs = [245145, 246148, 246217, 245963, 246424, 245683, 246036, \n",
      "\u001b[1;31mNameError\u001b[0m: name 'data' is not defined"
     ]
    }
   ],
   "source": [
    "from FourTracks.analysis.crossection import GetCrossSection \n",
    "df_cs = GetCrossSection(data.orig_events.RunNum, kinematics.GetTracksWithPtCut(four_tracks_zq_after_all_cuts))\n",
    "df_cs['sigma'] = df_cs.nEvFT / (df_cs.Lumi * 1000)\n",
    "\n",
    "pdg_runs = [245145, 246148, 246217, 245963, 246424, 245683, 246036, \n",
    "        246487, 246808, 246804, 246271, 245146, 245151, 245152,\n",
    "        245232, 245259, 245345, 245346, 245347, 245349, 245353,\n",
    "        245396, 245397, 245401, 245407, 245409, 245410, 245411,\n",
    "        245441, 245446, 245450, 245453, 245454, 245496, 245497,\n",
    "        245501, 245504, 245505, 245507, 245540, 245542, 245543]\n",
    "\n",
    "# df_cs['is_dpg']\n",
    "\n",
    "df_cs.sigma.describe()\n",
    "\n"
   ]
  },
  {
   "cell_type": "code",
   "execution_count": 191,
   "metadata": {
    "ExecuteTime": {
     "end_time": "2021-04-10T11:33:40.698893Z",
     "start_time": "2021-04-10T11:33:40.528836Z"
    }
   },
   "outputs": [
    {
     "output_type": "display_data",
     "data": {
      "text/plain": "Canvas(toolbar=Toolbar(toolitems=[('Home', 'Reset original view', 'home', 'home'), ('Back', 'Back to previous …",
      "application/vnd.jupyter.widget-view+json": {
       "version_major": 2,
       "version_minor": 0,
       "model_id": "27e2d4a734cb4af5a9ad1d1639155297"
      }
     },
     "metadata": {}
    },
    {
     "output_type": "execute_result",
     "data": {
      "text/plain": [
       "<matplotlib.legend.Legend at 0x1e8bd4423a0>"
      ]
     },
     "metadata": {},
     "execution_count": 191
    }
   ],
   "source": [
    "import scipy.stats\n",
    "%matplotlib widget\n",
    "fig = plt.figure(figsize=(25, 7))\n",
    "# fig.suptitle(\"visible cross section\")\n",
    "ax = fig.add_subplot()\n",
    "bins = list(df_cs.run)\n",
    "cnts = list(df_cs.sigma)\n",
    "errs = np.sqrt(df_cs.nEvFT)/(df_cs.Lumi * 1000)\n",
    "x = np.arange(len(bins))\n",
    "width = 0.15\n",
    "ax.errorbar(x - width/2, cnts, yerr=errs, fmt='o', label=r'$\\sigma \\approx \\frac{N_{(\\pi^+\\pi^-\\pi^+\\pi^-)_{ev}}}{L}$')\n",
    "ax.set_xticks(x)\n",
    "ax.set_xticklabels(bins, rotation=90, rotation_mode=\"anchor\", ha=\"right\", fontsize=12)\n",
    "ax.set_ylabel(r'$\\sigma$',fontsize=14)\n",
    "ax.set_ylim(0,10)\n",
    "\n",
    "chi2,p = scipy.stats.chisquare(cnts, np.tile(np.average(cnts),len(cnts)))\n",
    "ax.text(108,8,r\"$\\frac{Chi^2}{NDf} = \\frac{189.388}{118}$\", size=20)\n",
    "ax.text(108,7,r\"$p0 = 4.4542 \\pm 0.11613$\", size=16)\n",
    "ax.legend(prop={'size': 15})\n",
    "ax.axhline(y=np.average(cnts), color='r', linestyle='-')\n",
    "ax.legend()\n",
    "# fig"
   ]
  },
  {
   "cell_type": "markdown",
   "metadata": {},
   "source": [
    "## Other decays\n",
    "\n",
    "In PDG I've seen also other interesting modes for $\\rho'$:\n",
    "\n",
    "- 1. $\\rho' \\rightarrow \\eta_0 \\rho_0$ | ?\n",
    "   - 1.1. $\\rho_0 \\rightarrow 4 \\pi$ | $2*10^{-5}\\%$\n",
    "   - 1.2. $\\rho_0 \\rightarrow \\pi^+ \\pi^-$ | $10^{-2}\\%$\n",
    "   - 1.3. $\\eta_0' \\rightarrow  \\pi^+ \\pi^- \\gamma$ | $4\\%$\n",
    "   - 1.4. $\\eta_0' \\rightarrow  \\pi^+ \\pi^- \\pi^0$ | $23\\%$\n",
    "- 2. $\\rho' \\rightarrow 4 \\pi$ | ?\n",
    "\n",
    "What about $\\rho' \\rightarrow \\rho_0 \\rho_0$ is it possible?"
   ]
  },
  {
   "cell_type": "markdown",
   "metadata": {},
   "source": [
    "## $ \\downarrow \\downarrow \\downarrow \\downarrow$ DEBUG AND INVESTIGATIONS $ \\downarrow \\downarrow \\downarrow \\downarrow$\n"
   ]
  },
  {
   "cell_type": "code",
   "execution_count": 193,
   "metadata": {},
   "outputs": [],
   "source": [
    "# %matplotlib widget \n",
    "# nTPC=2\n",
    "# mass = ft_zq_Mass_nTpc_triggered[nTPC]\n",
    "# v1 = 3000\n",
    "# v2 = np.inf\n",
    "# ind = (pd.concat([ft.orig_events.ZNAenergy[mass.index], ft.orig_events.ZNCenergy[mass.index]]) > v1).sort_index().groupby('entry').sum() >= 1\n",
    "# ind *= (pd.concat([ft.orig_events.ZNAenergy[mass.index], ft.orig_events.ZNCenergy[mass.index]]) <= v2).sort_index().groupby('entry').sum() >= 1\n",
    "# _ = plt.hist(mass[ind.index][~ind], bins=100, range=(0.5, 3), histtype='step', color='black', linewidth=1.2, label='ZDC enrgy <= 3 TeV')\n",
    "# # _ = plt.hist(mass[ind.index][ind], bins=25, range=(0.5, 3), histtype='step', color='red', linewidth=1.2, label='ZDC enrgy > 3 TeV')\n",
    "# plt.xlabel(r'$p_t$')\n",
    "# plt.ylabel('events')\n",
    "# # plt.suptitle(f'4tracks event $p_t$ when {v1/1000}TeV < ZDC energy <= {v2}')\n",
    "# _ = plt.legend()"
   ]
  },
  {
   "cell_type": "markdown",
   "metadata": {},
   "source": [
    "Make pair of tracks more comprehensive "
   ]
  }
 ],
 "metadata": {
  "celltoolbar": "Initialization Cell",
  "hide_input": false,
  "kernelspec": {
   "name": "python395jvsc74a57bd0d6d7d6c88171c3962a5640c138e63f39fe52fc6bfd80982fe895d2d56fb2f4bf",
   "display_name": "Python 3.9.5 64-bit ('hep': conda)"
  },
  "language_info": {
   "codemirror_mode": {
    "name": "ipython",
    "version": 3
   },
   "file_extension": ".py",
   "mimetype": "text/x-python",
   "name": "python",
   "nbconvert_exporter": "python",
   "pygments_lexer": "ipython3",
   "version": "3.9.5"
  },
  "latex_envs": {
   "LaTeX_envs_menu_present": true,
   "autoclose": false,
   "autocomplete": true,
   "bibliofile": "biblio.bib",
   "cite_by": "apalike",
   "current_citInitial": 1,
   "eqLabelWithNumbers": true,
   "eqNumInitial": 1,
   "hotkeys": {
    "equation": "Ctrl-E",
    "itemize": "Ctrl-I"
   },
   "labels_anchors": false,
   "latex_user_defs": false,
   "report_style_numbering": false,
   "user_envs_cfg": false
  },
  "metadata": {
   "interpreter": {
    "hash": "2db524e06e9f5f4ffedc911c917cb75e12dbc923643829bf417064a77eb14d37"
   }
  },
  "toc": {
   "base_numbering": 1,
   "nav_menu": {
    "height": "336px",
    "width": "290px"
   },
   "number_sections": true,
   "sideBar": true,
   "skip_h1_title": false,
   "title_cell": "Table of Contents",
   "title_sidebar": "Contents",
   "toc_cell": false,
   "toc_position": {},
   "toc_section_display": true,
   "toc_window_display": false
  },
  "varInspector": {
   "cols": {
    "lenName": 16,
    "lenType": 16,
    "lenVar": 40
   },
   "kernels_config": {
    "python": {
     "delete_cmd_postfix": "",
     "delete_cmd_prefix": "del ",
     "library": "var_list.py",
     "varRefreshCmd": "print(var_dic_list())"
    },
    "r": {
     "delete_cmd_postfix": ") ",
     "delete_cmd_prefix": "rm(",
     "library": "var_list.r",
     "varRefreshCmd": "cat(var_dic_list()) "
    }
   },
   "position": {
    "height": "503.667px",
    "left": "1269px",
    "right": "20px",
    "top": "120px",
    "width": "355px"
   },
   "types_to_exclude": [
    "module",
    "function",
    "builtin_function_or_method",
    "instance",
    "_Feature"
   ],
   "window_display": false
  }
 },
 "nbformat": 4,
 "nbformat_minor": 4
}