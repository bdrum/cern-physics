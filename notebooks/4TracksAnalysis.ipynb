{
 "cells": [
  {
   "cell_type": "markdown",
   "metadata": {},
   "source": [
    "# $\\rho'$ analysis notes\n",
    "\n",
    "## GIRD Selection criteria:\n",
    "\n",
    "These criteria were applied on the selection stage(GRID):\n",
    "\n",
    "Events:\n",
    "\n",
    "    * >= 4 tracks\n",
    "    \n",
    "Tracks:\n",
    "\n",
    "    * Has Point On inner or outer ITS Layer\n",
    "    * Not ITS SA\n",
    "    * |dca1| < 3 && |dca0| < 3;\n",
    "\n",
    "### Data info"
   ]
  },
  {
   "cell_type": "code",
   "execution_count": 1,
   "metadata": {
    "tags": []
   },
   "outputs": [
    {
     "output_type": "stream",
     "name": "stdout",
     "text": [
      "name                 | typename                 | interpretation                \n---------------------+--------------------------+-------------------------------\nRunNum               | int32_t                  | AsDtype('>i4')\nPeriodNumber         | uint32_t                 | AsDtype('>u4')\nOrbitNumber          | uint32_t                 | AsDtype('>u4')\nBunchCrossNumber     | uint16_t                 | AsDtype('>u2')\nMass                 | float                    | AsDtype('>f4')\nPt                   | float                    | AsDtype('>f4')\nQ                    | int16_t                  | AsDtype('>i2')\nRapidity             | float                    | AsDtype('>f4')\nPhi                  | float                    | AsDtype('>f4')\nZNAenergy            | float                    | AsDtype('>f4')\nZNCenergy            | float                    | AsDtype('>f4')\nZPAenergy            | float                    | AsDtype('>f4')\nZPCenergy            | float                    | AsDtype('>f4')\nVtxX                 | float                    | AsDtype('>f4')\nVtxY                 | float                    | AsDtype('>f4')\nVtxZ                 | float                    | AsDtype('>f4')\nVtxContrib           | int32_t                  | AsDtype('>i4')\nVtxChi2              | float                    | AsDtype('>f4')\nVtxNDF               | float                    | AsDtype('>f4')\nSpdVtxX              | float                    | AsDtype('>f4')\nSpdVtxY              | float                    | AsDtype('>f4')\nSpdVtxZ              | float                    | AsDtype('>f4')\nSpdVtxContrib        | int32_t                  | AsDtype('>i4')\nV0Adecision          | int32_t                  | AsDtype('>i4')\nV0Cdecision          | int32_t                  | AsDtype('>i4')\nADAdecision          | int32_t                  | AsDtype('>i4')\nADCdecision          | int32_t                  | AsDtype('>i4')\nUBAfired             | bool                     | AsDtype('bool')\nUBCfired             | bool                     | AsDtype('bool')\nVBAfired             | bool                     | AsDtype('bool')\nVBCfired             | bool                     | AsDtype('bool')\nnTracklets           | int32_t                  | AsDtype('>i4')\nnTracks              | int32_t                  | AsDtype('>i4')\nT_NumberOfSigmaIT... | std::vector<float>       | AsJagged(AsDtype('>f4'), he...\nT_NumberOfSigmaIT... | std::vector<float>       | AsJagged(AsDtype('>f4'), he...\nT_NumberOfSigmaTP... | std::vector<float>       | AsJagged(AsDtype('>f4'), he...\nT_NumberOfSigmaTP... | std::vector<float>       | AsJagged(AsDtype('>f4'), he...\nTPCsignal            | std::vector<int32_t>     | AsJagged(AsDtype('>i4'), he...\nT_P                  | std::vector<float>       | AsJagged(AsDtype('>f4'), he...\nT_Eta                | std::vector<float>       | AsJagged(AsDtype('>f4'), he...\nT_Phi                | std::vector<float>       | AsJagged(AsDtype('>f4'), he...\nT_Px                 | std::vector<float>       | AsJagged(AsDtype('>f4'), he...\nT_Py                 | std::vector<float>       | AsJagged(AsDtype('>f4'), he...\nT_Pz                 | std::vector<float>       | AsJagged(AsDtype('>f4'), he...\nT_Q                  | std::vector<int16_t>     | AsJagged(AsDtype('>i2'), he...\nT_HasPointOnITSLa... | std::vector<bool>        | AsJagged(AsDtype('bool'), h...\nT_HasPointOnITSLa... | std::vector<bool>        | AsJagged(AsDtype('bool'), h...\nT_ITSModuleInner     | std::vector<int32_t>     | AsJagged(AsDtype('>i4'), he...\nT_ITSModuleOuter     | std::vector<int32_t>     | AsJagged(AsDtype('>i4'), he...\nT_TPCNCls            | std::vector<int32_t>     | AsJagged(AsDtype('>i4'), he...\nT_ITSNCls            | std::vector<int32_t>     | AsJagged(AsDtype('>i4'), he...\nT_Dca0               | std::vector<float>       | AsJagged(AsDtype('>f4'), he...\nT_Dca1               | std::vector<float>       | AsJagged(AsDtype('>f4'), he...\nT_TPCRefit           | std::vector<bool>        | AsJagged(AsDtype('bool'), h...\nT_ITSRefit           | std::vector<bool>        | AsJagged(AsDtype('bool'), h...\nTLets_Theta          | std::vector<float>       | AsJagged(AsDtype('>f4'), he...\nTLets_Phi            | std::vector<float>       | AsJagged(AsDtype('>f4'), he...\nT_ITSSensorNum       | std::vector<int32_t>     | AsJagged(AsDtype('>i4'), he...\n\nTree name: events\nTree title: Selected events for 4proungs analysis\nEvents number: 114648\nTracks number 4610890\n"
     ]
    }
   ],
   "source": [
    "from modules import events, dfs, np, pd, hep, plt, Pi0, PiPlus, Rho0\n",
    "from modules.data.info.DataInfo import DataInfo\n",
    "\n",
    "DataInfo()\n"
   ]
  },
  {
   "source": [
    "## Analysis criteria\n",
    "\n",
    "Let's take from input date only events with 4 tracks and zero total charge.\n",
    "Also prepare mask for tracks that satisfy standatd criteria contains further conditions for the TPC:\n",
    "\n",
    "* |NumberOfSigmaTPCPion| < 3\n",
    "* Number of TPC Clusters > 50\n",
    "* TPCRefit\n"
   ],
   "cell_type": "markdown",
   "metadata": {}
  },
  {
   "cell_type": "code",
   "execution_count": 2,
   "metadata": {},
   "outputs": [],
   "source": [
    "from modules.data.selection import dfs4Tracks, TPCMask, GetITSnTPCTracksDF, dfs4TracksLowPt, TPCMaskLowPt"
   ]
  },
  {
   "source": [
    "## Low energy tracks and TPC\n",
    "\n",
    "There is an idea about tracks with small energies (low pt) not able to reach TPC.\n",
    "We can try to estimate influence of TPC criteria to the statistics.\n",
    "\n",
    "Let's see what happend in case of we will plot pt for any combination of TPC tracks:\n",
    "\n",
    "### Event with std criteria\n",
    "\n",
    "|detector|track1|track2|track3|track4|\n",
    "|:--:|:--:|:--:|:--:|:--:|\n",
    "|ITS|+|+|+|+|\n",
    "|TPC|+|+|+|+|\n",
    "\n",
    "### Let's start to take also such combinations to the sample:\n",
    "\n",
    "|detector|track1|track2|track3|track4|\n",
    "|:--:|:--:|:--:|:--:|:--:|\n",
    "|ITS|+|+|+|+|\n",
    "|TPC|+|+|+|-|\n",
    "\n",
    "|detector|track1|track2|track3|track4|\n",
    "|:--:|:--:|:--:|:--:|:--:|\n",
    "|ITS|+|+|+|+|\n",
    "|TPC|+|+|-|-|\n",
    "\n",
    "|detector|track1|track2|track3|track4|\n",
    "|:--:|:--:|:--:|:--:|:--:|\n",
    "|ITS|+|+|+|+|\n",
    "|TPC|+|-|-|-|\n",
    "\n",
    "|detector|track1|track2|track3|track4|\n",
    "|:--:|:--:|:--:|:--:|:--:|\n",
    "|ITS|+|+|+|+|\n",
    "|TPC|-|-|-|-|\n",
    "\n",
    "We can see statistics gain ration equal 2.5 between std criteria and total combinations:\n"
   ],
   "cell_type": "markdown",
   "metadata": {}
  },
  {
   "cell_type": "code",
   "execution_count": 3,
   "metadata": {},
   "outputs": [
    {
     "output_type": "display_data",
     "data": {
      "text/plain": "Canvas(toolbar=Toolbar(toolitems=[('Home', 'Reset original view', 'home', 'home'), ('Back', 'Back to previous …",
      "application/vnd.jupyter.widget-view+json": {
       "version_major": 2,
       "version_minor": 0,
       "model_id": "28cdbd46ff094b00b5d5db4075e1161f"
      }
     },
     "metadata": {}
    },
    {
     "output_type": "execute_result",
     "data": {
      "text/plain": [
       "<matplotlib.legend.Legend at 0x1da32a8f2b0>"
      ]
     },
     "metadata": {},
     "execution_count": 3
    }
   ],
   "source": [
    "from matplotlib.patches import Rectangle\n",
    "from modules.physics import kinematics\n",
    "\n",
    "%matplotlib widget\n",
    "\n",
    "\n",
    "plt.style.use(hep.style.ROOT)\n",
    "fig = plt.figure(figsize=(15,7))\n",
    "ax = fig.add_subplot()\n",
    "\n",
    "fig.suptitle(f'4track events pt', fontsize=32)\n",
    "tpcimpPt = []\n",
    "colors = ['red','green', 'yellow', 'orange', 'black']\n",
    "labels = ['ITS & (>= 0TPC)','ITS & (>= 1TPC)', 'ITS & (>= 2TPC)', 'ITS & (>= 3TPC)', 'ITS & ( =  4TPC)']\n",
    "\n",
    "for i in range(5):\n",
    "    ITSnTPCEvents = pd.unique(dfs4Tracks.reset_index().entry)[TPCMask.groupby('entry').sum() >= i]\n",
    "    ITSnTPCTracks = dfs4Tracks.loc[ITSnTPCEvents]\n",
    "    tmpPt = kinematics(ITSnTPCTracks).EventsVectors.pt\n",
    "    tpcimpPt.append(tmpPt)\n",
    "    ax.hist(tpcimpPt[i], bins=100, range=(0,2), histtype='step', color=colors[i], linewidth=2, label=labels[i]+f';{(tmpPt<0.15).sum()}')\n",
    "\n",
    "ax.set_xlabel('$p_t, GeV$')\n",
    "ax.set_ylabel('# events')\n",
    "\n",
    "ax.add_patch(Rectangle((0,0.15),0.15,900,fc='lightgrey',alpha=0.4))\n",
    "\n",
    "ax.legend()\n"
   ]
  },
  {
   "source": [
    "Now  let's try to see what tracks we lost from signal area and what contribution they have:"
   ],
   "cell_type": "markdown",
   "metadata": {}
  },
  {
   "cell_type": "code",
   "execution_count": 4,
   "metadata": {},
   "outputs": [
    {
     "output_type": "display_data",
     "data": {
      "text/plain": "Canvas(toolbar=Toolbar(toolitems=[('Home', 'Reset original view', 'home', 'home'), ('Back', 'Back to previous …",
      "application/vnd.jupyter.widget-view+json": {
       "version_major": 2,
       "version_minor": 0,
       "model_id": "9e5dfef1e0574f23a4c0fbf1a5bded73"
      }
     },
     "metadata": {}
    }
   ],
   "source": [
    "from modules.physics.analysis.ITSvsTPC import *\n",
    "\n",
    "%matplotlib widget\n",
    "\n",
    "ShowComparison('$p_t$',[AllTPCTracksPt, ITSDiffTPCTracksPt, TotalLowPt], 'GeV', ['ITS&&TPC', 'OnlyITSFromNTPCEvents', 'ITS||TPC'])\n",
    "\n",
    "\n"
   ]
  },
  {
   "source": [
    "TPC and ITS has different coverage for polar angle:\n",
    "\n",
    "![img1](https://camo.githubusercontent.com/9a7ab40d0f74a866a7095986644134a0f72cc58b/68747470733a2f2f70702e757365726170692e636f6d2f633835323231362f763835323231363738332f3131396137332f304f76685f6c544b4e7a552e6a7067)\n",
    "\n",
    "Perhaps we have tracks that not only can't reach TPC, but also has $\\theta$ values that TPC doesn't cover.\n",
    "\n",
    "Below we can see polar angle distribution for tracks that covers three cases:\n",
    "\n",
    "1. All tracks from events were reconstructed by ITS and TPC\n",
    "2. Only ITS tracks from events with only part TPC tracks. Here tracks that not reconstructed by TPC\n",
    "3. All tracks from events were reconstructed by ITS or TPC\n",
    "\n",
    "We can see small gaps with for the second case, that allow to speak about correctness of the suggestion, but anyway low energy of tracks is the main reason why TPC can't reconstructed tracks.  "
   ],
   "cell_type": "markdown",
   "metadata": {}
  },
  {
   "cell_type": "code",
   "execution_count": 5,
   "metadata": {},
   "outputs": [
    {
     "output_type": "display_data",
     "data": {
      "text/plain": "Canvas(toolbar=Toolbar(toolitems=[('Home', 'Reset original view', 'home', 'home'), ('Back', 'Back to previous …",
      "application/vnd.jupyter.widget-view+json": {
       "version_major": 2,
       "version_minor": 0,
       "model_id": "7a48916e08b64034b30199aac466d7da"
      }
     },
     "metadata": {}
    }
   ],
   "source": [
    "ShowComparison('$\\\\theta$',[AllTPCTracksTheta, ITSDiffTPCTracksTheta, TotalLowPtTheta], '$^\\\\circ$', ['ITS&&TPC', 'OnlyITSFromNTPCEvents', 'ITS||TPC'], nBins=80, ranges=(25,150))"
   ]
  },
  {
   "source": [
    "## Mass\n",
    "Let's see on the mass distribution of the events\n"
   ],
   "cell_type": "markdown",
   "metadata": {}
  },
  {
   "cell_type": "code",
   "execution_count": 29,
   "metadata": {},
   "outputs": [
    {
     "output_type": "display_data",
     "data": {
      "text/plain": "Canvas(toolbar=Toolbar(toolitems=[('Home', 'Reset original view', 'home', 'home'), ('Back', 'Back to previous …",
      "application/vnd.jupyter.widget-view+json": {
       "version_major": 2,
       "version_minor": 0,
       "model_id": "eb37a8510bd34a45a84da324893589c1"
      }
     },
     "metadata": {}
    },
    {
     "output_type": "execute_result",
     "data": {
      "text/plain": [
       "<matplotlib.legend.Legend at 0x1da9d1f8730>"
      ]
     },
     "metadata": {},
     "execution_count": 29
    }
   ],
   "source": [
    "from modules.physics.analysis.mass import GetEventMass\n",
    "\n",
    "%matplotlib widget\n",
    "\n",
    "plt.style.use(hep.style.ROOT)\n",
    "fig = plt.figure(figsize=(15,7))\n",
    "ax = fig.add_subplot()\n",
    "\n",
    "fig.suptitle(f'4track events Mass', fontsize=32)\n",
    "tpcimpMass = []\n",
    "colors = ['yellow','green', 'red', 'orange', 'black']\n",
    "labels = ['ITS & (>= 0TPC)','ITS & (>= 1TPC)', 'ITS & (>= 2TPC)', 'ITS & (>= 3TPC)', 'ITS & ( =  4TPC)']\n",
    "\n",
    "for i in range(2,5):\n",
    "    tmpMass = GetEventMass(i)\n",
    "    tpcimpMass.append(tmpMass)\n",
    "    ax.hist(tpcimpMass[-1], bins=100, range=(0,4), histtype='step', color=colors[i], linewidth=2, label=labels[i])\n",
    "\n",
    "ax.set_xlabel('$Mass, GeV$')\n",
    "ax.set_ylabel('# events')\n",
    "\n",
    "ax.legend()\n"
   ]
  },
  {
   "cell_type": "code",
   "execution_count": 87,
   "metadata": {},
   "outputs": [
    {
     "output_type": "display_data",
     "data": {
      "text/plain": "Canvas(toolbar=Toolbar(toolitems=[('Home', 'Reset original view', 'home', 'home'), ('Back', 'Back to previous …",
      "application/vnd.jupyter.widget-view+json": {
       "version_major": 2,
       "version_minor": 0,
       "model_id": "a50669ff95e4469d8ac85f77f88904d9"
      }
     },
     "metadata": {}
    },
    {
     "output_type": "execute_result",
     "data": {
      "text/plain": [
       "<matplotlib.legend.Legend at 0x1da8e496850>"
      ]
     },
     "metadata": {},
     "execution_count": 87
    }
   ],
   "source": [
    "from modules.physics.analysis.mass import GetEventMass\n",
    "\n",
    "%matplotlib widget\n",
    "\n",
    "plt.style.use(hep.style.ROOT)\n",
    "fig = plt.figure(figsize=(15,7))\n",
    "ax = fig.add_subplot()\n",
    "\n",
    "fig.suptitle(f'4track events Mass', fontsize=32)\n",
    "tpcimpMass = []\n",
    "colors = ['yellow','green', 'red', 'orange', 'black']\n",
    "labels = ['ITS & (>= 0TPC)','ITS & (>= 1TPC)', 'ITS & (>= 2TPC)', 'ITS & (>= 3TPC)', 'ITS & ( =  4TPC)']\n",
    "b = 100\n",
    "r = 0.5,3.5\n",
    "for i in range(2,3):\n",
    "    tmpMass = GetEventMass(i)\n",
    "    tpcimpMass.append(tmpMass)\n",
    "    counts,bin_edges = np.histogram(tpcimpMass[-1], bins=b, range=r)\n",
    "    bin_centres = (bin_edges[:-1] + bin_edges[1:])/2.\n",
    "    errs = np.sqrt((counts - np.average(counts))**2/len(counts))\n",
    "    ax.errorbar(bin_centres, counts, yerr=errs, fmt='.', label=labels[i], color=colors[i])\n",
    "\n",
    "val=(r[1]-r[0])*1000 // b\n",
    "ax.set_xlabel('$Mass, GeV$')\n",
    "ax.set_ylabel(f'events / {val}MeV')\n",
    "\n",
    "ax.legend()\n"
   ]
  },
  {
   "source": [
    "### Pions subsystems\n",
    "\n",
    "In our process 4 pions were producted. The most probably intermediate state including two pions and $\\rho$ i.e.\n",
    "$$\\rho' \\rightarrow \\rho \\ \\pi^+ \\pi^- \\rightarrow \\pi^+ \\pi^- \\pi^+ \\pi^-$$ \n",
    "\n",
    "We can see this on distribution of mass that can be obtained as all combinations of pairs from intial four tracks, i.e. only four pairs:\n",
    "\n",
    "![img](https://camo.githubusercontent.com/53a52e2a6d4ae7112d74f4073c979a51166170d8/68747470733a2f2f70702e757365726170692e636f6d2f633835333632342f763835333632343436372f34383466332f5431375a754b597062526f2e6a7067)\n",
    "\n",
    "One of these pair should rely to $\\rho$"
   ],
   "cell_type": "markdown",
   "metadata": {}
  },
  {
   "cell_type": "code",
   "execution_count": 6,
   "metadata": {},
   "outputs": [
    {
     "output_type": "display_data",
     "data": {
      "text/plain": "Canvas(toolbar=Toolbar(toolitems=[('Home', 'Reset original view', 'home', 'home'), ('Back', 'Back to previous …",
      "application/vnd.jupyter.widget-view+json": {
       "version_major": 2,
       "version_minor": 0,
       "model_id": "c92cdfc9473448528906d414a485e25d"
      }
     },
     "metadata": {}
    },
    {
     "output_type": "stream",
     "name": "stderr",
     "text": [
      "No handles with labels found to put in legend.\n"
     ]
    },
    {
     "output_type": "display_data",
     "data": {
      "text/plain": "Canvas(toolbar=Toolbar(toolitems=[('Home', 'Reset original view', 'home', 'home'), ('Back', 'Back to previous …",
      "application/vnd.jupyter.widget-view+json": {
       "version_major": 2,
       "version_minor": 0,
       "model_id": "ca0b34e73bdb46e1a411b12e2aeadc18"
      }
     },
     "metadata": {}
    },
    {
     "output_type": "stream",
     "name": "stderr",
     "text": [
      "No handles with labels found to put in legend.\n"
     ]
    }
   ],
   "source": [
    "from modules.physics.analysis.mass import LiteHeavyRecoil, LiteHeavyTotal, ShowMassComaprison\n",
    "\n",
    "%matplotlib widget\n",
    "ShowMassComaprison(LiteHeavyRecoil, 'Lightest and Recoil Pairs')\n",
    "ShowMassComaprison(LiteHeavyTotal, 'All Pairs')"
   ]
  },
  {
   "cell_type": "code",
   "execution_count": 7,
   "metadata": {},
   "outputs": [
    {
     "output_type": "display_data",
     "data": {
      "text/plain": "Canvas(toolbar=Toolbar(toolitems=[('Home', 'Reset original view', 'home', 'home'), ('Back', 'Back to previous …",
      "application/vnd.jupyter.widget-view+json": {
       "version_major": 2,
       "version_minor": 0,
       "model_id": "dd40e5ca67cf4473abc1dce207a48af9"
      }
     },
     "metadata": {}
    },
    {
     "output_type": "stream",
     "name": "stderr",
     "text": [
      "No handles with labels found to put in legend.\n"
     ]
    },
    {
     "output_type": "execute_result",
     "data": {
      "text/plain": [
       "<matplotlib.legend.Legend at 0x1da3420eb20>"
      ]
     },
     "metadata": {},
     "execution_count": 7
    }
   ],
   "source": [
    "import matplotlib.pyplot as plt\n",
    "from matplotlib.gridspec import GridSpec\n",
    "import numpy as np\n",
    "\n",
    "\n",
    "\n",
    "plt.style.use(hep.style.ROOT)\n",
    "\n",
    "fig = plt.figure(figsize=(15, 7))\n",
    "\n",
    "gs = GridSpec(4,4,wspace=0.1,hspace=0.1)\n",
    "\n",
    "ax_joint = fig.add_subplot(gs[1:4,0:3])\n",
    "ax_marg_x = fig.add_subplot(gs[0,0:3])\n",
    "ax_marg_y = fig.add_subplot(gs[1:4,3])\n",
    "\n",
    "ax_joint.hist2d(LiteHeavyTotal.Recoil, LiteHeavyTotal.Lite, bins=(50, 50), range=[(0, 2), (0, 2)], cmap=plt.cm.jet)\n",
    "_ = ax_marg_y.hist(LiteHeavyTotal.Lite, bins=100, range=(0, 2), histtype='step', color='blue', linewidth=2, label='lite pair',orientation=\"horizontal\")\n",
    "_ = ax_marg_x.hist(LiteHeavyTotal.Recoil, bins=100, range=(0, 2), histtype='step', color='red', linewidth=2, label='rest pair')\n",
    "\n",
    "\n",
    "ax_joint.set_ylabel('Lightest pair Mass, GeV')\n",
    "ax_joint.set_xlabel('Recoiling pair Mass, GeV')\n",
    "\n",
    "# ax_marg_y.set_xlabel('$Mass, GeV$')\n",
    "ax_marg_y.set_xlabel('# events')\n",
    "ax_marg_x.yaxis.set_label_position(\"right\")\n",
    "ax_marg_x.xaxis.set_ticks([])\n",
    "ax_marg_x.xaxis.set_ticks_position('none')\n",
    "ax_marg_y.yaxis.set_ticks_position('none')\n",
    "ax_marg_y.yaxis.set_ticks([])\n",
    "\n",
    "# ax_marg_x.set_xlabel('$Mass, GeV$')\n",
    "ax_marg_x.set_ylabel('# events')\n",
    "ax_marg_y.xaxis.set_label_position(\"top\")\n",
    "ax_marg_x\n",
    "ax_joint.legend()\n"
   ]
  },
  {
   "cell_type": "code",
   "execution_count": 8,
   "metadata": {},
   "outputs": [
    {
     "output_type": "display_data",
     "data": {
      "text/plain": "Canvas(toolbar=Toolbar(toolitems=[('Home', 'Reset original view', 'home', 'home'), ('Back', 'Back to previous …",
      "application/vnd.jupyter.widget-view+json": {
       "version_major": 2,
       "version_minor": 0,
       "model_id": "430788e73a4a4bdab2622b4fe6946ecb"
      }
     },
     "metadata": {}
    },
    {
     "output_type": "display_data",
     "data": {
      "text/plain": "Canvas(toolbar=Toolbar(toolitems=[('Home', 'Reset original view', 'home', 'home'), ('Back', 'Back to previous …",
      "application/vnd.jupyter.widget-view+json": {
       "version_major": 2,
       "version_minor": 0,
       "model_id": "bf0db1c48c9849a5a2f618e33b67120d"
      }
     },
     "metadata": {}
    }
   ],
   "source": [
    "%matplotlib widget\n",
    "\n",
    "\n",
    "plt.style.use(hep.style.ROOT)\n",
    "fig = plt.figure(figsize=(15,7))\n",
    "ax = fig.add_subplot()\n",
    "\n",
    "counts1, bins1  = np.histogram(LiteHeavyRecoil.Recoil, bins=100, range=(0,2))\n",
    "counts2, bins2  = np.histogram(LiteHeavyTotal.Recoil, bins=100, range=(0,2))\n",
    "\n",
    "_ = ax.hist(counts1/counts2,bins=bins1, histtype='step', color='black', linewidth=2)\n",
    "\n",
    "\n",
    "plt.style.use(hep.style.ROOT)\n",
    "fig = plt.figure(figsize=(15,7))\n",
    "ax = fig.add_subplot()\n",
    "\n",
    "counts1, bins1  = np.histogram(LiteHeavyRecoil.Lite, bins=100, range=(0,2))\n",
    "counts2, bins2  = np.histogram(LiteHeavyTotal.Lite, bins=100, range=(0,2))\n",
    "\n",
    "_ = ax.hist(counts1/counts2,bins=bins1, histtype='step', color='black', linewidth=2)"
   ]
  },
  {
   "source": [
    "## $\\eta$ distribution for pairs"
   ],
   "cell_type": "markdown",
   "metadata": {}
  },
  {
   "cell_type": "code",
   "execution_count": 9,
   "metadata": {},
   "outputs": [],
   "source": [
    "from modules.physics.analysis.mass import LiteHeavyRecoil, LiteHeavyTotal"
   ]
  },
  {
   "source": [
    "## Debug\n",
    "\n",
    "Something wrong with my mass distribution. It has too wide peak for recoiling pairs. Let's see what other parameters have tracks that rely for this bias."
   ],
   "cell_type": "markdown",
   "metadata": {}
  },
  {
   "cell_type": "code",
   "execution_count": 10,
   "metadata": {},
   "outputs": [
    {
     "output_type": "error",
     "ename": "NameError",
     "evalue": "name 'secondCombSorted' is not defined",
     "traceback": [
      "\u001b[1;31m---------------------------------------------------------------------------\u001b[0m",
      "\u001b[1;31mNameError\u001b[0m                                 Traceback (most recent call last)",
      "\u001b[1;32m<ipython-input-10-de3668cee1cc>\u001b[0m in \u001b[0;36m<module>\u001b[1;34m\u001b[0m\n\u001b[1;32m----> 1\u001b[1;33m \u001b[0mc\u001b[0m \u001b[1;33m=\u001b[0m \u001b[1;33m(\u001b[0m\u001b[1;36m0.4\u001b[0m \u001b[1;33m<=\u001b[0m \u001b[0msecondCombSorted\u001b[0m\u001b[1;33m)\u001b[0m \u001b[1;33m*\u001b[0m \u001b[1;33m(\u001b[0m\u001b[0msecondCombSorted\u001b[0m \u001b[1;33m<=\u001b[0m \u001b[1;36m0.6\u001b[0m\u001b[1;33m)\u001b[0m\u001b[1;33m\u001b[0m\u001b[1;33m\u001b[0m\u001b[0m\n\u001b[0m\u001b[0;32m      2\u001b[0m \u001b[0mclist\u001b[0m \u001b[1;33m=\u001b[0m \u001b[0mc\u001b[0m\u001b[1;33m.\u001b[0m\u001b[0mindex\u001b[0m\u001b[1;33m[\u001b[0m\u001b[1;33m(\u001b[0m\u001b[0mc\u001b[0m\u001b[1;33m.\u001b[0m\u001b[0mLite\u001b[0m \u001b[1;33m*\u001b[0m \u001b[0mc\u001b[0m\u001b[1;33m.\u001b[0m\u001b[0mHeavy\u001b[0m\u001b[1;33m)\u001b[0m\u001b[1;33m]\u001b[0m\u001b[1;33m.\u001b[0m\u001b[0mto_list\u001b[0m\u001b[1;33m(\u001b[0m\u001b[1;33m)\u001b[0m\u001b[1;33m\u001b[0m\u001b[1;33m\u001b[0m\u001b[0m\n\u001b[0;32m      3\u001b[0m \u001b[0mprint\u001b[0m\u001b[1;33m(\u001b[0m\u001b[0mclist\u001b[0m\u001b[1;33m[\u001b[0m\u001b[1;33m:\u001b[0m\u001b[1;36m10\u001b[0m\u001b[1;33m]\u001b[0m\u001b[1;33m)\u001b[0m\u001b[1;33m\u001b[0m\u001b[1;33m\u001b[0m\u001b[0m\n\u001b[0;32m      4\u001b[0m \u001b[0mITSnTPCTracks\u001b[0m\u001b[1;33m.\u001b[0m\u001b[0mloc\u001b[0m\u001b[1;33m[\u001b[0m\u001b[1;36m521\u001b[0m\u001b[1;33m]\u001b[0m\u001b[1;33m\u001b[0m\u001b[1;33m\u001b[0m\u001b[0m\n",
      "\u001b[1;31mNameError\u001b[0m: name 'secondCombSorted' is not defined"
     ]
    }
   ],
   "source": [
    "c = (0.4 <= secondCombSorted) * (secondCombSorted <= 0.6)\n",
    "clist = c.index[(c.Lite * c.Heavy)].to_list()\n",
    "print(clist[:10])\n",
    "ITSnTPCTracks.loc[521]"
   ]
  },
  {
   "cell_type": "code",
   "execution_count": 26,
   "metadata": {},
   "outputs": [
    {
     "output_type": "execute_result",
     "data": {
      "text/plain": [
       "          T_NumberOfSigmaTPCPion     T_Eta     T_Phi      T_Px      T_Py  \\\n",
       "subentry                                                                   \n",
       "0                       0.117312  0.084907  5.399884  1.001586 -1.219759   \n",
       "1                      -0.190391  0.573115  4.870948  0.103258 -0.645757   \n",
       "2                    -999.000000  0.117570  5.857540  0.107440 -0.048709   \n",
       "3                    -999.000000  0.875668  0.795731  0.128050  0.130724   \n",
       "\n",
       "              T_Pz  T_Q  T_TPCNCls  T_TPCRefit  \n",
       "subentry                                        \n",
       "0         0.134169 -1.0      158.0         1.0  \n",
       "1         0.395652  1.0      156.0         1.0  \n",
       "2         0.013901 -1.0        0.0         0.0  \n",
       "3         0.181517  1.0        0.0         0.0  "
      ],
      "text/html": "<div>\n<style scoped>\n    .dataframe tbody tr th:only-of-type {\n        vertical-align: middle;\n    }\n\n    .dataframe tbody tr th {\n        vertical-align: top;\n    }\n\n    .dataframe thead th {\n        text-align: right;\n    }\n</style>\n<table border=\"1\" class=\"dataframe\">\n  <thead>\n    <tr style=\"text-align: right;\">\n      <th></th>\n      <th>T_NumberOfSigmaTPCPion</th>\n      <th>T_Eta</th>\n      <th>T_Phi</th>\n      <th>T_Px</th>\n      <th>T_Py</th>\n      <th>T_Pz</th>\n      <th>T_Q</th>\n      <th>T_TPCNCls</th>\n      <th>T_TPCRefit</th>\n    </tr>\n    <tr>\n      <th>subentry</th>\n      <th></th>\n      <th></th>\n      <th></th>\n      <th></th>\n      <th></th>\n      <th></th>\n      <th></th>\n      <th></th>\n      <th></th>\n    </tr>\n  </thead>\n  <tbody>\n    <tr>\n      <th>0</th>\n      <td>0.117312</td>\n      <td>0.084907</td>\n      <td>5.399884</td>\n      <td>1.001586</td>\n      <td>-1.219759</td>\n      <td>0.134169</td>\n      <td>-1.0</td>\n      <td>158.0</td>\n      <td>1.0</td>\n    </tr>\n    <tr>\n      <th>1</th>\n      <td>-0.190391</td>\n      <td>0.573115</td>\n      <td>4.870948</td>\n      <td>0.103258</td>\n      <td>-0.645757</td>\n      <td>0.395652</td>\n      <td>1.0</td>\n      <td>156.0</td>\n      <td>1.0</td>\n    </tr>\n    <tr>\n      <th>2</th>\n      <td>-999.000000</td>\n      <td>0.117570</td>\n      <td>5.857540</td>\n      <td>0.107440</td>\n      <td>-0.048709</td>\n      <td>0.013901</td>\n      <td>-1.0</td>\n      <td>0.0</td>\n      <td>0.0</td>\n    </tr>\n    <tr>\n      <th>3</th>\n      <td>-999.000000</td>\n      <td>0.875668</td>\n      <td>0.795731</td>\n      <td>0.128050</td>\n      <td>0.130724</td>\n      <td>0.181517</td>\n      <td>1.0</td>\n      <td>0.0</td>\n      <td>0.0</td>\n    </tr>\n  </tbody>\n</table>\n</div>"
     },
     "metadata": {},
     "execution_count": 26
    }
   ],
   "source": [
    "# get first possible combinations of pairs\n",
    "# FirstPair  = \n",
    "# (PosFirstTrack.T_Eta - NegFirstTrack.T_Eta)\n",
    "# firstCombSorted.index.to_list()\n",
    "ITSnTPCTracks.loc[26]\n",
    "# SecPairMass    = GetPairMass(PosSecTrack,   NegSecTrack)\n",
    "\n",
    "# # get second possible combinations of pairs\n",
    "# ThirdPairMass  = GetPairMass(PosFirstTrack, NegSecTrack)\n",
    "# FourthPairMass = GetPairMass(PosSecTrack,   NegFirstTrack)"
   ]
  },
  {
   "cell_type": "code",
   "execution_count": null,
   "metadata": {},
   "outputs": [],
   "source": [
    "# get first possible combinations of pairs\n",
    "FirstPairMass  = GetPairMass(PosFirstTrack, NegFirstTrack)\n",
    "SecPairMass    = GetPairMass(PosSecTrack,   NegSecTrack)\n",
    "\n",
    "# get second possible combinations of pairs\n",
    "ThirdPairMass  = GetPairMass(PosFirstTrack, NegSecTrack)\n",
    "FourthPairMass = GetPairMass(PosSecTrack,   NegFirstTrack)"
   ]
  },
  {
   "source": [
    "## Runs stats\n",
    "\n",
    "Let's see what run have maximum events for our data when TPC track is 'n':"
   ],
   "cell_type": "markdown",
   "metadata": {}
  },
  {
   "cell_type": "code",
   "execution_count": 12,
   "metadata": {},
   "outputs": [
    {
     "output_type": "execute_result",
     "data": {
      "text/plain": [
       "[(246087, 725),\n",
       " (246989, 573),\n",
       " (246980, 555),\n",
       " (245507, 458),\n",
       " (246984, 414),\n",
       " (245963, 408),\n",
       " (245407, 391),\n",
       " (245554, 387),\n",
       " (245775, 361),\n",
       " (246488, 338)]"
      ]
     },
     "metadata": {},
     "execution_count": 12
    }
   ],
   "source": [
    "import collections\n",
    "runs = events.arrays(filter_name=['RunNum'],library='np')\n",
    "collections.Counter(runs['RunNum'][np.unique(ITSnTPCTracks.reset_index().entry.to_numpy())]).most_common()[:10]\n"
   ]
  }
 ],
 "metadata": {
  "kernelspec": {
   "name": "Python 3.8.6 64-bit",
   "display_name": "Python 3.8.6 64-bit",
   "metadata": {
    "interpreter": {
     "hash": "2db524e06e9f5f4ffedc911c917cb75e12dbc923643829bf417064a77eb14d37"
    }
   }
  },
  "language_info": {
   "codemirror_mode": {
    "name": "ipython",
    "version": 3
   },
   "file_extension": ".py",
   "mimetype": "text/x-python",
   "name": "python",
   "nbconvert_exporter": "python",
   "pygments_lexer": "ipython3",
   "version": "3.8.6-final"
  }
 },
 "nbformat": 4,
 "nbformat_minor": 4
}