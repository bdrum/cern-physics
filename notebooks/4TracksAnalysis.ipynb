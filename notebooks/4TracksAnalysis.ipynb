{
 "cells": [
  {
   "cell_type": "markdown",
   "metadata": {},
   "source": [
    "# $\\rho'$ analysis notes\n",
    "\n",
    "## GIRD Selection criteria:\n",
    "\n",
    "These criteria were applied on the selection stage(GRID):\n",
    "\n",
    "Events:\n",
    "\n",
    "    * >= 4 tracks\n",
    "    \n",
    "Tracks:\n",
    "\n",
    "    * Has Point On inner or outer ITS Layer\n",
    "    * Not ITS SA\n",
    "    * |dca1| < 3 && |dca0| < 3;\n",
    "\n",
    "### Data info"
   ]
  },
  {
   "cell_type": "code",
   "execution_count": 2,
   "metadata": {
    "tags": []
   },
   "outputs": [
    {
     "output_type": "stream",
     "name": "stdout",
     "text": [
      "name                 | typename                 | interpretation                \n",
      "---------------------+--------------------------+-------------------------------\n",
      "RunNum               | int32_t                  | AsDtype('>i4')\n",
      "PeriodNumber         | uint32_t                 | AsDtype('>u4')\n",
      "OrbitNumber          | uint32_t                 | AsDtype('>u4')\n",
      "BunchCrossNumber     | uint16_t                 | AsDtype('>u2')\n",
      "Mass                 | float                    | AsDtype('>f4')\n",
      "Pt                   | float                    | AsDtype('>f4')\n",
      "Q                    | int16_t                  | AsDtype('>i2')\n",
      "Rapidity             | float                    | AsDtype('>f4')\n",
      "Phi                  | float                    | AsDtype('>f4')\n",
      "ZNAenergy            | float                    | AsDtype('>f4')\n",
      "ZNCenergy            | float                    | AsDtype('>f4')\n",
      "ZPAenergy            | float                    | AsDtype('>f4')\n",
      "ZPCenergy            | float                    | AsDtype('>f4')\n",
      "VtxX                 | float                    | AsDtype('>f4')\n",
      "VtxY                 | float                    | AsDtype('>f4')\n",
      "VtxZ                 | float                    | AsDtype('>f4')\n",
      "VtxContrib           | int32_t                  | AsDtype('>i4')\n",
      "VtxChi2              | float                    | AsDtype('>f4')\n",
      "VtxNDF               | float                    | AsDtype('>f4')\n",
      "SpdVtxX              | float                    | AsDtype('>f4')\n",
      "SpdVtxY              | float                    | AsDtype('>f4')\n",
      "SpdVtxZ              | float                    | AsDtype('>f4')\n",
      "SpdVtxContrib        | int32_t                  | AsDtype('>i4')\n",
      "V0Adecision          | int32_t                  | AsDtype('>i4')\n",
      "V0Cdecision          | int32_t                  | AsDtype('>i4')\n",
      "ADAdecision          | int32_t                  | AsDtype('>i4')\n",
      "ADCdecision          | int32_t                  | AsDtype('>i4')\n",
      "UBAfired             | bool                     | AsDtype('bool')\n",
      "UBCfired             | bool                     | AsDtype('bool')\n",
      "VBAfired             | bool                     | AsDtype('bool')\n",
      "VBCfired             | bool                     | AsDtype('bool')\n",
      "nTracklets           | int32_t                  | AsDtype('>i4')\n",
      "nTracks              | int32_t                  | AsDtype('>i4')\n",
      "T_NumberOfSigmaIT... | std::vector<float>       | AsJagged(AsDtype('>f4'), he...\n",
      "T_NumberOfSigmaIT... | std::vector<float>       | AsJagged(AsDtype('>f4'), he...\n",
      "T_NumberOfSigmaTP... | std::vector<float>       | AsJagged(AsDtype('>f4'), he...\n",
      "T_NumberOfSigmaTP... | std::vector<float>       | AsJagged(AsDtype('>f4'), he...\n",
      "TPCsignal            | std::vector<int32_t>     | AsJagged(AsDtype('>i4'), he...\n",
      "T_P                  | std::vector<float>       | AsJagged(AsDtype('>f4'), he...\n",
      "T_Eta                | std::vector<float>       | AsJagged(AsDtype('>f4'), he...\n",
      "T_Phi                | std::vector<float>       | AsJagged(AsDtype('>f4'), he...\n",
      "T_Px                 | std::vector<float>       | AsJagged(AsDtype('>f4'), he...\n",
      "T_Py                 | std::vector<float>       | AsJagged(AsDtype('>f4'), he...\n",
      "T_Pz                 | std::vector<float>       | AsJagged(AsDtype('>f4'), he...\n",
      "T_Q                  | std::vector<int16_t>     | AsJagged(AsDtype('>i2'), he...\n",
      "T_HasPointOnITSLa... | std::vector<bool>        | AsJagged(AsDtype('bool'), h...\n",
      "T_HasPointOnITSLa... | std::vector<bool>        | AsJagged(AsDtype('bool'), h...\n",
      "T_ITSModuleInner     | std::vector<int32_t>     | AsJagged(AsDtype('>i4'), he...\n",
      "T_ITSModuleOuter     | std::vector<int32_t>     | AsJagged(AsDtype('>i4'), he...\n",
      "T_TPCNCls            | std::vector<int32_t>     | AsJagged(AsDtype('>i4'), he...\n",
      "T_ITSNCls            | std::vector<int32_t>     | AsJagged(AsDtype('>i4'), he...\n",
      "T_Dca0               | std::vector<float>       | AsJagged(AsDtype('>f4'), he...\n",
      "T_Dca1               | std::vector<float>       | AsJagged(AsDtype('>f4'), he...\n",
      "T_TPCRefit           | std::vector<bool>        | AsJagged(AsDtype('bool'), h...\n",
      "T_ITSRefit           | std::vector<bool>        | AsJagged(AsDtype('bool'), h...\n",
      "TLets_Theta          | std::vector<float>       | AsJagged(AsDtype('>f4'), he...\n",
      "TLets_Phi            | std::vector<float>       | AsJagged(AsDtype('>f4'), he...\n",
      "T_ITSSensorNum       | std::vector<int32_t>     | AsJagged(AsDtype('>i4'), he...\n",
      "\n",
      "Tree name: events\n",
      "Tree title: Selected events for 4proungs analysis\n",
      "Events number: 114648\n",
      "Tracks number 4610890\n"
     ]
    }
   ],
   "source": [
    "from modules import events, dfs, np, pd, hep, plt, Pi0, PiPlus, Rho0\n",
    "from modules.data.info.DataInfo import DataInfo\n",
    "\n",
    "DataInfo()\n"
   ]
  },
  {
   "source": [
    "## Analysis criteria\n",
    "\n",
    "Let's take from input date only events with 4 tracks and zero total charge.\n",
    "Also prepare mask for tracks that satisfy standatd criteria contains further conditions for the TPC:\n",
    "\n",
    "* |NumberOfSigmaTPCPion| < 3\n",
    "* Number of TPC Clusters > 50\n",
    "* TPCRefit\n"
   ],
   "cell_type": "markdown",
   "metadata": {}
  },
  {
   "cell_type": "code",
   "execution_count": 3,
   "metadata": {},
   "outputs": [],
   "source": [
    "from modules.data.selection import dfs4Tracks, TPCMask, GetITSnTPCTracksDF, dfs4TracksLowPt, TPCMaskLowPt"
   ]
  },
  {
   "source": [
    "## Low energy tracks and TPC\n",
    "\n",
    "There is an idea about tracks with small energies (low pt) not able to reach TPC.\n",
    "We can try to estimate influence of TPC criteria to the statistics.\n",
    "\n",
    "Let's see what happend in case of we will plot pt for any combination of TPC tracks:\n",
    "\n",
    "### Event with std criteria\n",
    "\n",
    "|detector|track1|track2|track3|track4|\n",
    "|:--:|:--:|:--:|:--:|:--:|\n",
    "|ITS|+|+|+|+|\n",
    "|TPC|+|+|+|+|\n",
    "\n",
    "### Let's start to take also such combinations to the sample:\n",
    "\n",
    "|detector|track1|track2|track3|track4|\n",
    "|:--:|:--:|:--:|:--:|:--:|\n",
    "|ITS|+|+|+|+|\n",
    "|TPC|+|+|+|-|\n",
    "\n",
    "|detector|track1|track2|track3|track4|\n",
    "|:--:|:--:|:--:|:--:|:--:|\n",
    "|ITS|+|+|+|+|\n",
    "|TPC|+|+|-|-|\n",
    "\n",
    "|detector|track1|track2|track3|track4|\n",
    "|:--:|:--:|:--:|:--:|:--:|\n",
    "|ITS|+|+|+|+|\n",
    "|TPC|+|-|-|-|\n",
    "\n",
    "|detector|track1|track2|track3|track4|\n",
    "|:--:|:--:|:--:|:--:|:--:|\n",
    "|ITS|+|+|+|+|\n",
    "|TPC|-|-|-|-|\n",
    "\n",
    "We can see statistics gain ration equal 2.5 between std criteria and total combinations:\n"
   ],
   "cell_type": "markdown",
   "metadata": {}
  },
  {
   "cell_type": "code",
   "execution_count": 4,
   "metadata": {},
   "outputs": [
    {
     "output_type": "display_data",
     "data": {
      "text/plain": "Canvas(toolbar=Toolbar(toolitems=[('Home', 'Reset original view', 'home', 'home'), ('Back', 'Back to previous …",
      "application/vnd.jupyter.widget-view+json": {
       "version_major": 2,
       "version_minor": 0,
       "model_id": "832420b687c24335b4c09c2767e32b72"
      }
     },
     "metadata": {}
    },
    {
     "output_type": "execute_result",
     "data": {
      "text/plain": [
       "<matplotlib.legend.Legend at 0x2113d9f6a60>"
      ]
     },
     "metadata": {},
     "execution_count": 4
    }
   ],
   "source": [
    "from matplotlib.patches import Rectangle\n",
    "from modules.physics import kinematics\n",
    "\n",
    "%matplotlib widget\n",
    "\n",
    "\n",
    "plt.style.use(hep.style.ROOT)\n",
    "fig = plt.figure(figsize=(15,7))\n",
    "ax = fig.add_subplot()\n",
    "\n",
    "fig.suptitle(f'4track events pt', fontsize=32)\n",
    "tpcimpPt = []\n",
    "colors = ['red','green', 'yellow', 'orange', 'black']\n",
    "labels = ['ITS & (>= 0TPC)','ITS & (>= 1TPC)', 'ITS & (>= 2TPC)', 'ITS & (>= 3TPC)', 'ITS & ( =  4TPC)']\n",
    "\n",
    "for i in range(5):\n",
    "    ITSnTPCEvents = pd.unique(dfs4Tracks.reset_index().entry)[TPCMask.groupby('entry').sum() >= i]\n",
    "    ITSnTPCTracks = dfs4Tracks.loc[ITSnTPCEvents]\n",
    "    tmpPt = kinematics(ITSnTPCTracks).EventsVectors.pt\n",
    "    tpcimpPt.append(tmpPt)\n",
    "    ax.hist(tpcimpPt[i], bins=100, range=(0,2), histtype='step', color=colors[i], linewidth=2, label=labels[i]+f';{(tmpPt<0.15).sum()}')\n",
    "\n",
    "ax.set_xlabel('$p_t, GeV$')\n",
    "ax.set_ylabel('# events')\n",
    "\n",
    "ax.add_patch(Rectangle((0,0.15),0.15,900,fc='lightgrey',alpha=0.4))\n",
    "\n",
    "ax.legend()\n"
   ]
  },
  {
   "source": [
    "Now  let's try to see what tracks we lost from signal area and what contribution they have:"
   ],
   "cell_type": "markdown",
   "metadata": {}
  },
  {
   "cell_type": "code",
   "execution_count": 5,
   "metadata": {},
   "outputs": [
    {
     "output_type": "display_data",
     "data": {
      "text/plain": "Canvas(toolbar=Toolbar(toolitems=[('Home', 'Reset original view', 'home', 'home'), ('Back', 'Back to previous …",
      "application/vnd.jupyter.widget-view+json": {
       "version_major": 2,
       "version_minor": 0,
       "model_id": "aa4732623194413eb7eb16b26feab9ae"
      }
     },
     "metadata": {}
    }
   ],
   "source": [
    "from modules.physics.analysis.ITSvsTPC import *\n",
    "\n",
    "%matplotlib widget\n",
    "\n",
    "ShowComparison('$p_t$',[AllTPCTracksPt, ITSDiffTPCTracksPt, TotalLowPt], 'GeV', ['ITS&&TPC', 'OnlyITSFromNTPCEvents', 'ITS||TPC'])\n",
    "\n",
    "\n"
   ]
  },
  {
   "source": [
    "TPC and ITS has different coverage for polar angle:\n",
    "\n",
    "![img1](https://camo.githubusercontent.com/9a7ab40d0f74a866a7095986644134a0f72cc58b/68747470733a2f2f70702e757365726170692e636f6d2f633835323231362f763835323231363738332f3131396137332f304f76685f6c544b4e7a552e6a7067)\n",
    "\n",
    "Perhaps we have tracks that not only can't reach TPC, but also has $\\theta$ values that TPC doesn't cover.\n",
    "\n",
    "Below we can see polar angle distribution for tracks that covers three cases:\n",
    "\n",
    "1. All tracks from events were reconstructed by ITS and TPC\n",
    "2. Only ITS tracks from events with only part TPC tracks. Here tracks that not reconstructed by TPC\n",
    "3. All tracks from events were reconstructed by ITS or TPC\n",
    "\n",
    "We can see small gaps with for the second case, that allow to speak about correctness of the suggestion, but anyway low energy of tracks is the main reason why TPC can't reconstructed tracks.  "
   ],
   "cell_type": "markdown",
   "metadata": {}
  },
  {
   "cell_type": "code",
   "execution_count": 6,
   "metadata": {},
   "outputs": [
    {
     "output_type": "display_data",
     "data": {
      "text/plain": "Canvas(toolbar=Toolbar(toolitems=[('Home', 'Reset original view', 'home', 'home'), ('Back', 'Back to previous …",
      "application/vnd.jupyter.widget-view+json": {
       "version_major": 2,
       "version_minor": 0,
       "model_id": "b2c70bd7fc4d4143a73f9aaa774c25f9"
      }
     },
     "metadata": {}
    }
   ],
   "source": [
    "ShowComparison('$\\\\theta$',[AllTPCTracksTheta, ITSDiffTPCTracksTheta, TotalLowPtTheta], '$^\\\\circ$', ['ITS&&TPC', 'OnlyITSFromNTPCEvents', 'ITS||TPC'], nBins=80, ranges=(25,150))"
   ]
  },
  {
   "source": [
    "## Mass\n",
    "Let's see on the mass distribution of the events\n"
   ],
   "cell_type": "markdown",
   "metadata": {}
  },
  {
   "cell_type": "code",
   "execution_count": 7,
   "metadata": {},
   "outputs": [
    {
     "output_type": "display_data",
     "data": {
      "text/plain": "Canvas(toolbar=Toolbar(toolitems=[('Home', 'Reset original view', 'home', 'home'), ('Back', 'Back to previous …",
      "application/vnd.jupyter.widget-view+json": {
       "version_major": 2,
       "version_minor": 0,
       "model_id": "419ffe9c796149c084bb0061b202aeb1"
      }
     },
     "metadata": {}
    },
    {
     "output_type": "execute_result",
     "data": {
      "text/plain": [
       "<matplotlib.legend.Legend at 0x2114a65b340>"
      ]
     },
     "metadata": {},
     "execution_count": 7
    }
   ],
   "source": [
    "from modules.physics.analysis.mass import GetEventMass\n",
    "\n",
    "%matplotlib widget\n",
    "\n",
    "plt.style.use(hep.style.ROOT)\n",
    "fig = plt.figure(figsize=(15,7))\n",
    "ax = fig.add_subplot()\n",
    "\n",
    "fig.suptitle(f'4track events Mass', fontsize=32)\n",
    "tpcimpMass = []\n",
    "colors = ['yellow','green', 'red', 'orange', 'black']\n",
    "labels = ['ITS & (>= 0TPC)','ITS & (>= 1TPC)', 'ITS & (>= 2TPC)', 'ITS & (>= 3TPC)', 'ITS & ( =  4TPC)']\n",
    "\n",
    "for i in range(2,5):\n",
    "    tmpMass = GetEventMass(i)\n",
    "    tpcimpMass.append(tmpMass)\n",
    "    ax.hist(tpcimpMass[-1], bins=100, range=(0,4), histtype='step', color=colors[i], linewidth=2, label=labels[i])\n",
    "\n",
    "ax.set_xlabel('$Mass, GeV$')\n",
    "ax.set_ylabel('# events')\n",
    "\n",
    "ax.legend()\n"
   ]
  },
  {
   "cell_type": "code",
   "execution_count": 8,
   "metadata": {},
   "outputs": [
    {
     "output_type": "display_data",
     "data": {
      "text/plain": "Canvas(toolbar=Toolbar(toolitems=[('Home', 'Reset original view', 'home', 'home'), ('Back', 'Back to previous …",
      "application/vnd.jupyter.widget-view+json": {
       "version_major": 2,
       "version_minor": 0,
       "model_id": "c260dcdf44964df08c6fc77ca3878738"
      }
     },
     "metadata": {}
    },
    {
     "output_type": "execute_result",
     "data": {
      "text/plain": [
       "<matplotlib.legend.Legend at 0x2113da9bf40>"
      ]
     },
     "metadata": {},
     "execution_count": 8
    }
   ],
   "source": [
    "from modules.physics.analysis.mass import GetEventMass\n",
    "\n",
    "%matplotlib widget\n",
    "\n",
    "plt.style.use(hep.style.ROOT)\n",
    "fig = plt.figure(figsize=(15,7))\n",
    "ax = fig.add_subplot()\n",
    "\n",
    "fig.suptitle(f'4track events Mass', fontsize=32)\n",
    "tpcimpMass = []\n",
    "colors = ['yellow','green', 'red', 'orange', 'black']\n",
    "labels = ['ITS & (>= 0TPC)','ITS & (>= 1TPC)', 'ITS & (>= 2TPC)', 'ITS & (>= 3TPC)', 'ITS & ( =  4TPC)']\n",
    "b = 100\n",
    "r = 0.5,3.5\n",
    "for i in range(2,3):\n",
    "    tmpMass = GetEventMass(i)\n",
    "    tpcimpMass.append(tmpMass)\n",
    "    counts,bin_edges = np.histogram(tpcimpMass[-1], bins=b, range=r)\n",
    "    bin_centres = (bin_edges[:-1] + bin_edges[1:])/2.\n",
    "    errs = np.sqrt((counts - np.average(counts))**2/len(counts))\n",
    "    ax.errorbar(bin_centres, counts, yerr=errs, fmt='.', label=labels[i], color=colors[i])\n",
    "\n",
    "val=(r[1]-r[0])*1000 // b\n",
    "ax.set_xlabel('$Mass, GeV$')\n",
    "ax.set_ylabel(f'events / {val}MeV')\n",
    "\n",
    "ax.legend()\n"
   ]
  },
  {
   "source": [
    "### Pions subsystems\n",
    "\n",
    "In our process 4 pions were producted. The most probably intermediate state including two pions and $\\rho$ i.e.\n",
    "$$\\rho' \\rightarrow \\rho \\ \\pi^+ \\pi^- \\rightarrow \\pi^+ \\pi^- \\pi^+ \\pi^-$$ \n",
    "\n",
    "We can see this on distribution of mass that can be obtained as all combinations of pairs from intial four tracks, i.e. only four pairs:\n",
    "\n",
    "![img](https://camo.githubusercontent.com/53a52e2a6d4ae7112d74f4073c979a51166170d8/68747470733a2f2f70702e757365726170692e636f6d2f633835333632342f763835333632343436372f34383466332f5431375a754b597062526f2e6a7067)\n",
    "\n",
    "Here we can plot two distirbutions:\n",
    "1. Make all possible(4) combinations of pairs. Then take lightest and pair that belong to one combination with that. Plot masses of these two pairs.\n",
    "2. Plot masses of masses from possible combinations."
   ],
   "cell_type": "markdown",
   "metadata": {}
  },
  {
   "cell_type": "code",
   "execution_count": 9,
   "metadata": {},
   "outputs": [
    {
     "output_type": "display_data",
     "data": {
      "text/plain": "Canvas(toolbar=Toolbar(toolitems=[('Home', 'Reset original view', 'home', 'home'), ('Back', 'Back to previous …",
      "application/vnd.jupyter.widget-view+json": {
       "version_major": 2,
       "version_minor": 0,
       "model_id": "6dc429749b8c474baf4f2d44710fcf3f"
      }
     },
     "metadata": {}
    },
    {
     "output_type": "stream",
     "name": "stderr",
     "text": [
      "No handles with labels found to put in legend.\n"
     ]
    },
    {
     "output_type": "display_data",
     "data": {
      "text/plain": "Canvas(toolbar=Toolbar(toolitems=[('Home', 'Reset original view', 'home', 'home'), ('Back', 'Back to previous …",
      "application/vnd.jupyter.widget-view+json": {
       "version_major": 2,
       "version_minor": 0,
       "model_id": "b4bb56f9b0a34e3d8869f597fb1e3301"
      }
     },
     "metadata": {}
    },
    {
     "output_type": "stream",
     "name": "stderr",
     "text": [
      "No handles with labels found to put in legend.\n"
     ]
    }
   ],
   "source": [
    "from modules.physics.analysis.mass import LiteHeavyRecoil, LiteHeavyTotal, ShowMassComaprison\n",
    "\n",
    "%matplotlib widget\n",
    "ShowMassComaprison(LiteHeavyRecoil, 'Lightest and Recoil Pairs')\n",
    "ShowMassComaprison(LiteHeavyTotal, 'All Pairs')"
   ]
  },
  {
   "source": [
    "As we can see above, for second case (all possible pairs) we've got stronger signal in comparison with light-recoil pair as it made in [STAR work](http://arxiv.org/abs/0912.0604v2). Let's build 2d distirbuition and marginals component separately:"
   ],
   "cell_type": "markdown",
   "metadata": {}
  },
  {
   "cell_type": "code",
   "execution_count": 10,
   "metadata": {},
   "outputs": [
    {
     "output_type": "display_data",
     "data": {
      "text/plain": "Canvas(toolbar=Toolbar(toolitems=[('Home', 'Reset original view', 'home', 'home'), ('Back', 'Back to previous …",
      "application/vnd.jupyter.widget-view+json": {
       "version_major": 2,
       "version_minor": 0,
       "model_id": "dd65ba4de6674640bb49d6f39ee23c57"
      }
     },
     "metadata": {}
    },
    {
     "output_type": "stream",
     "name": "stderr",
     "text": [
      "No handles with labels found to put in legend.\n"
     ]
    },
    {
     "output_type": "execute_result",
     "data": {
      "text/plain": [
       "<matplotlib.legend.Legend at 0x2114162fa00>"
      ]
     },
     "metadata": {},
     "execution_count": 10
    }
   ],
   "source": [
    "import matplotlib.pyplot as plt\n",
    "from matplotlib.gridspec import GridSpec\n",
    "import numpy as np\n",
    "\n",
    "\n",
    "\n",
    "plt.style.use(hep.style.ROOT)\n",
    "\n",
    "fig = plt.figure(figsize=(15, 7))\n",
    "\n",
    "gs = GridSpec(4,4,wspace=0.1,hspace=0.1)\n",
    "\n",
    "ax_joint = fig.add_subplot(gs[1:4,0:3])\n",
    "ax_marg_x = fig.add_subplot(gs[0,0:3])\n",
    "ax_marg_y = fig.add_subplot(gs[1:4,3])\n",
    "\n",
    "ax_joint.hist2d(LiteHeavyTotal.Recoil, LiteHeavyTotal.Lite, bins=(50, 50), range=[(0, 2), (0, 2)], cmap=plt.cm.jet)\n",
    "_ = ax_marg_y.hist(LiteHeavyTotal.Lite, bins=100, range=(0, 2), histtype='step', color='blue', linewidth=2, label='lite pair',orientation=\"horizontal\")\n",
    "_ = ax_marg_x.hist(LiteHeavyTotal.Recoil, bins=100, range=(0, 2), histtype='step', color='red', linewidth=2, label='rest pair')\n",
    "\n",
    "\n",
    "ax_joint.set_ylabel('Lightest pair Mass, GeV')\n",
    "ax_joint.set_xlabel('Recoiling pair Mass, GeV')\n",
    "\n",
    "# ax_marg_y.set_xlabel('$Mass, GeV$')\n",
    "ax_marg_y.set_xlabel('# events')\n",
    "ax_marg_x.yaxis.set_label_position(\"right\")\n",
    "ax_marg_x.xaxis.set_ticks([])\n",
    "ax_marg_x.xaxis.set_ticks_position('none')\n",
    "ax_marg_y.yaxis.set_ticks_position('none')\n",
    "ax_marg_y.yaxis.set_ticks([])\n",
    "\n",
    "# ax_marg_x.set_xlabel('$Mass, GeV$')\n",
    "ax_marg_x.set_ylabel('# events')\n",
    "ax_marg_y.xaxis.set_label_position(\"top\")\n",
    "ax_marg_x\n",
    "ax_joint.legend()\n"
   ]
  },
  {
   "cell_type": "code",
   "execution_count": 11,
   "metadata": {},
   "outputs": [
    {
     "output_type": "display_data",
     "data": {
      "text/plain": "Canvas(toolbar=Toolbar(toolitems=[('Home', 'Reset original view', 'home', 'home'), ('Back', 'Back to previous …",
      "application/vnd.jupyter.widget-view+json": {
       "version_major": 2,
       "version_minor": 0,
       "model_id": "148795c27e5d413d9c417def091f7e3b"
      }
     },
     "metadata": {}
    },
    {
     "output_type": "display_data",
     "data": {
      "text/plain": "Canvas(toolbar=Toolbar(toolitems=[('Home', 'Reset original view', 'home', 'home'), ('Back', 'Back to previous …",
      "application/vnd.jupyter.widget-view+json": {
       "version_major": 2,
       "version_minor": 0,
       "model_id": "88277f04c4c34c799560947279319ae5"
      }
     },
     "metadata": {}
    }
   ],
   "source": [
    "%matplotlib widget\n",
    "\n",
    "\n",
    "plt.style.use(hep.style.ROOT)\n",
    "fig = plt.figure(figsize=(15,7))\n",
    "ax = fig.add_subplot()\n",
    "\n",
    "counts1, bins1  = np.histogram(LiteHeavyRecoil.Recoil, bins=100, range=(0,2))\n",
    "counts2, bins2  = np.histogram(LiteHeavyTotal.Recoil, bins=100, range=(0,2))\n",
    "\n",
    "_ = ax.hist(counts1/counts2,bins=bins1, histtype='step', color='black', linewidth=2)\n",
    "\n",
    "\n",
    "plt.style.use(hep.style.ROOT)\n",
    "fig = plt.figure(figsize=(15,7))\n",
    "ax = fig.add_subplot()\n",
    "\n",
    "counts1, bins1  = np.histogram(LiteHeavyRecoil.Lite, bins=100, range=(0,2))\n",
    "counts2, bins2  = np.histogram(LiteHeavyTotal.Lite, bins=100, range=(0,2))\n",
    "\n",
    "_ = ax.hist(counts1/counts2,bins=bins1, histtype='step', color='black', linewidth=2)"
   ]
  },
  {
   "source": [
    "## $\\eta$ distribution for pairs"
   ],
   "cell_type": "markdown",
   "metadata": {}
  },
  {
   "cell_type": "code",
   "execution_count": 12,
   "metadata": {},
   "outputs": [],
   "source": [
    "from modules.physics.analysis.mass import LiteHeavyRecoil, LiteHeavyTotal"
   ]
  },
  {
   "source": [
    "## Cross section\n",
    "\n",
    "Let's see to cross section of my events.\n",
    "\n",
    "For this we should take luminosity of runs.\n",
    "\n",
    "> Unfortunately file that I have to use for getting luminosity have a reference to special class AliTriggerInfo and moreover it packed into TObjArray, so I can't read it via uproot4. This is the reason why I used pure root again. [Here is the script](https://github.com/bdrum/cern-physics/blob/master/root-cpp/RhoPrime/macro/lumi.C) that I used.\n",
    "\n",
    "Then let's see how much events do we have in each run.\n",
    "\n",
    "$$L = \\sigma \\frac{\\delta N}{\\delta t}$$, this means that \n",
    "\n",
    "$$\\sigma \\approx \\frac{N}{L}$$\n",
    "\n",
    "Cross section of phenomena should be flat and independent from runs. \n",
    "\n",
    "Let's check it:"
   ],
   "cell_type": "markdown",
   "metadata": {}
  },
  {
   "cell_type": "code",
   "execution_count": 14,
   "metadata": {},
   "outputs": [
    {
     "output_type": "display_data",
     "data": {
      "text/plain": "Canvas(toolbar=Toolbar(toolitems=[('Home', 'Reset original view', 'home', 'home'), ('Back', 'Back to previous …",
      "application/vnd.jupyter.widget-view+json": {
       "version_major": 2,
       "version_minor": 0,
       "model_id": "f108fa97896d4edb81cca6256f5c909c"
      }
     },
     "metadata": {}
    }
   ],
   "source": [
    "from modules.physics.analysis.crossection import *\n",
    "\n",
    "ShowCrossSection()"
   ]
  },
  {
   "source": [],
   "cell_type": "code",
   "metadata": {},
   "execution_count": null,
   "outputs": []
  },
  {
   "source": [],
   "cell_type": "markdown",
   "metadata": {}
  }
 ],
 "metadata": {
  "kernelspec": {
   "name": "Python 3.8.6 64-bit",
   "display_name": "Python 3.8.6 64-bit",
   "metadata": {
    "interpreter": {
     "hash": "2db524e06e9f5f4ffedc911c917cb75e12dbc923643829bf417064a77eb14d37"
    }
   }
  },
  "language_info": {
   "codemirror_mode": {
    "name": "ipython",
    "version": 3
   },
   "file_extension": ".py",
   "mimetype": "text/x-python",
   "name": "python",
   "nbconvert_exporter": "python",
   "pygments_lexer": "ipython3",
   "version": "3.8.6-final"
  }
 },
 "nbformat": 4,
 "nbformat_minor": 4
}