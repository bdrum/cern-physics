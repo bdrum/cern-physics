{
 "cells": [
  {
   "cell_type": "markdown",
   "metadata": {},
   "source": [
    "# $\\rho'$ analysis notes\n",
    "\n",
    "## GIRD Selection criteria:\n",
    "\n",
    "These criteria were applied on the selection stage(GRID):\n",
    "\n",
    "Events:\n",
    "\n",
    "- \\>= 4 tracks\n",
    "    \n",
    "Tracks:\n",
    "\n",
    "- Has Point On inner OR outer ITS Layer\n",
    "- Not ITS SA\n",
    "- |dca1| < 3 && |dca0| < 3;\n",
    "\n",
    "### Data info"
   ]
  },
  {
   "cell_type": "code",
   "execution_count": 46,
   "metadata": {
    "ExecuteTime": {
     "end_time": "2021-04-15T15:34:56.597313Z",
     "start_time": "2021-04-15T15:34:15.979548Z"
    },
    "init_cell": true
   },
   "outputs": [
    {
     "output_type": "stream",
     "name": "stdout",
     "text": [
      "<class 'pandas.core.frame.DataFrame'>\nRangeIndex: 110004 entries, 0 to 110003\nData columns (total 49 columns):\n #   Column            Non-Null Count   Dtype  \n---  ------            --------------   -----  \n 0   RunNum            110004 non-null  int32  \n 1   PeriodNumber      110004 non-null  int64  \n 2   OrbitNumber       110004 non-null  int64  \n 3   BunchCrossNumber  110004 non-null  int64  \n 4   Mass              110004 non-null  float32\n 5   Pt                110004 non-null  float32\n 6   Q                 110004 non-null  int32  \n 7   Rapidity          110004 non-null  float32\n 8   Phi               110004 non-null  float32\n 9   ZNAenergy         110004 non-null  float32\n 10  ZNCenergy         110004 non-null  float32\n 11  ZPAenergy         110004 non-null  float32\n 12  ZPCenergy         110004 non-null  float32\n 13  VtxX              110004 non-null  float32\n 14  VtxY              110004 non-null  float32\n 15  VtxZ              110004 non-null  float32\n 16  VtxContrib        110004 non-null  int32  \n 17  VtxChi2           110004 non-null  float32\n 18  VtxNDF            110004 non-null  float32\n 19  SpdVtxX           110004 non-null  float32\n 20  SpdVtxY           110004 non-null  float32\n 21  SpdVtxZ           110004 non-null  float32\n 22  SpdVtxContrib     110004 non-null  int32  \n 23  V0Adecision       110004 non-null  int32  \n 24  V0Cdecision       110004 non-null  int32  \n 25  ADAdecision       110004 non-null  int32  \n 26  ADCdecision       110004 non-null  int32  \n 27  V0Afired          110004 non-null  bool   \n 28  V0Cfired          110004 non-null  bool   \n 29  ADAfired          110004 non-null  bool   \n 30  ADCfired          110004 non-null  bool   \n 31  STPfired          110004 non-null  bool   \n 32  SMBfired          110004 non-null  bool   \n 33  SM2fired          110004 non-null  bool   \n 34  SH1fired          110004 non-null  bool   \n 35  OM2fired          110004 non-null  bool   \n 36  OMUfired          110004 non-null  bool   \n 37  IsTriggered       110004 non-null  bool   \n 38  nTracklets        110004 non-null  int32  \n 39  nTracks           110004 non-null  int32  \n 40  ZDCAtime_0        110004 non-null  float32\n 41  ZDCAtime_1        110004 non-null  float32\n 42  ZDCAtime_2        110004 non-null  float32\n 43  ZDCAtime_3        110004 non-null  float32\n 44  ZDCCtime_0        110004 non-null  float32\n 45  ZDCCtime_1        110004 non-null  float32\n 46  ZDCCtime_2        110004 non-null  float32\n 47  ZDCCtime_3        110004 non-null  float32\n 48  FORChip           110004 non-null  object \ndtypes: bool(11), float32(24), int32(10), int64(3), object(1)\nmemory usage: 18.8+ MB\n<class 'pandas.core.frame.DataFrame'>\nMultiIndex: 26978093 entries, (0, 0) to (110003, 3)\nData columns (total 13 columns):\n #   Column                  Dtype  \n---  ------                  -----  \n 0   T_NumberOfSigmaTPCPion  float32\n 1   T_Eta                   float32\n 2   T_Phi                   float32\n 3   T_Px                    float32\n 4   T_Py                    float32\n 5   T_Pz                    float32\n 6   T_Q                     int32  \n 7   T_HasPointOnITSLayer0   bool   \n 8   T_HasPointOnITSLayer1   bool   \n 9   T_ITSModuleInner        int32  \n 10  T_ITSModuleOuter        int32  \n 11  T_TPCNCls               int32  \n 12  T_TPCRefit              bool   \ndtypes: bool(3), float32(6), int32(4)\nmemory usage: 1.2 GB\n"
     ]
    }
   ],
   "source": [
    "from FourTracks import data\n",
    "from FourTracks.data.cuts import tpc\n",
    "from FourTracks.data.cuts import kinematics\n",
    "from FourTracks.data.cuts import trigger\n",
    "import mplhep as hep\n",
    "import numpy as np\n",
    "import pandas as pd\n",
    "from matplotlib import pyplot as plt \n",
    "from FourTracks.analysis.kinematics import *\n",
    "\n",
    "%matplotlib widget\n",
    "\n",
    "plt.style.use(hep.style.ROOT)\n",
    "\n",
    "trig_data = trigger.GetTriggeredEvents(data.four_tracks_zq,'4Prongs2015oTriggerEvents.parquet')\n",
    "trig = trig_data.Triggered.dropna().values.astype(np.int64)\n",
    "untrig = trig_data.Untriggered.dropna().values.astype(np.int64)\n",
    "four_tracks_zq_after_cuts = tpc.GetTracksWithNTPC(data.four_tracks_zq,2).loc[trig]\n",
    "\n",
    "ft_zq_ac_indexes = pd.unique(four_tracks_zq_after_cuts.reset_index().entry)\n",
    "ft_zq_ac_pt_cut_indexes = pd.unique(kinematics.GetTracksWithPtCut(four_tracks_zq_after_cuts).reset_index().entry)\n",
    "\n",
    "data.orig_events.info()\n",
    "data.orig_tracks.info()\n"
   ]
  },
  {
   "source": [
    "## Transverse momenta of initial data set"
   ],
   "cell_type": "markdown",
   "metadata": {}
  },
  {
   "cell_type": "code",
   "execution_count": 53,
   "metadata": {},
   "outputs": [
    {
     "output_type": "display_data",
     "data": {
      "text/plain": "Canvas(toolbar=Toolbar(toolitems=[('Home', 'Reset original view', 'home', 'home'), ('Back', 'Back to previous …",
      "application/vnd.jupyter.widget-view+json": {
       "version_major": 2,
       "version_minor": 0,
       "model_id": "2a3c7980fb284ca6acbed609e635042c"
      }
     },
     "metadata": {}
    },
    {
     "output_type": "execute_result",
     "data": {
      "text/plain": [
       "[ErrorBarArtists(errorbar=<ErrorbarContainer object of 3 artists>)]"
      ]
     },
     "metadata": {},
     "execution_count": 53
    }
   ],
   "source": [
    "%matplotlib widget\n",
    "plt.style.use(hep.style.ROOT)\n",
    "\n",
    "fig = plt.figure()\n",
    "ax = fig.add_subplot()\n",
    "\n",
    "fig.suptitle(f'$\\pi^+\\pi^-\\pi^+\\pi^-$ event $p_t$')\n",
    "b = 100\n",
    "r = 0,2\n",
    "counts, bin_edges = np.histogram(pt_events(data.four_tracks_zq), bins=b, range=r)\n",
    "hep.histplot((counts, bin_edges), yerr=True, color='black', histtype='errorbar')\n",
    "\n",
    "val=(r[1]-r[0])*1000 // b\n",
    "ax.set_xlabel('$p_t$, GeV')\n",
    "ax.set_ylabel(f'#events / {val}MeV')\n",
    "\n",
    "counts, bin_edges = np.histogram(pt_events(data.four_tracks_nzq), bins=b, range=r)\n",
    "hep.histplot((counts, bin_edges), yerr=True, color='red', histtype='errorbar')\n"
   ]
  },
  {
   "cell_type": "markdown",
   "metadata": {},
   "source": [
    "## Analysis cuts\n",
    "\n",
    "### Global tracks\n",
    "\n",
    "It's known that global tracks consist from ITS and TPC identification, in our case we can implicitly add checks for TPC identification track and see what happens with the data.\n",
    "\n",
    "Let's aply further conditions for the tracks:\n",
    "\n",
    "* |NumberOfSigmaTPCPion| < 3\n",
    "* Number of TPC Clusters > 50\n",
    "* TPCRefit\n",
    "\n",
    "## Low energy tracks and TPC\n",
    "\n",
    "There is an idea about that tracks with small energies (low pt) not able to reach TPC.\n",
    "Idea is that addding such condition will decrease our signal and background level.\n",
    "\n"
   ]
  },
  {
   "cell_type": "code",
   "execution_count": 48,
   "metadata": {},
   "outputs": [
    {
     "output_type": "display_data",
     "data": {
      "text/plain": "Canvas(toolbar=Toolbar(toolitems=[('Home', 'Reset original view', 'home', 'home'), ('Back', 'Back to previous …",
      "application/vnd.jupyter.widget-view+json": {
       "version_major": 2,
       "version_minor": 0,
       "model_id": "1dd0fa193f5948efb913678493f5f18c"
      }
     },
     "metadata": {}
    },
    {
     "output_type": "execute_result",
     "data": {
      "text/plain": [
       "<AxesSubplot:ylabel='Frequency'>"
      ]
     },
     "metadata": {},
     "execution_count": 48
    }
   ],
   "source": [
    "plt.style.use(hep.style.ROOT)\n",
    "colors = ['black', 'yellow', 'green', 'orange', 'red']\n",
    "labels = ['ITS & (>= 0TPC)', 'ITS & (>= 1TPC)',\n",
    "          'ITS & (>= 2TPC)', 'ITS & (>= 3TPC)', 'ITS & ( =  4TPC)']\n",
    "\n",
    "pts = []\n",
    "for i in range(5):\n",
    "    pts.append(pt_events(tpc.GetTracksWithNTPC(data.four_tracks_zq,i)))\n",
    "    pts[i].name = labels[i]\n",
    "\n",
    "df = pd.concat(pts,axis=1)\n",
    "df.plot(kind='hist', bins=100,range=(0,2), histtype='step', linewidth=1.5, color=colors, label=labels)\n"
   ]
  },
  {
   "source": [
    "As we can see above adding of gobal tracks will decrease statistics level, but it is correct for both signal and background. Let's estimate what number of global tracks in 4 tracks is enough:"
   ],
   "cell_type": "markdown",
   "metadata": {}
  },
  {
   "cell_type": "code",
   "execution_count": 49,
   "metadata": {},
   "outputs": [
    {
     "output_type": "display_data",
     "data": {
      "text/plain": "Canvas(toolbar=Toolbar(toolitems=[('Home', 'Reset original view', 'home', 'home'), ('Back', 'Back to previous …",
      "application/vnd.jupyter.widget-view+json": {
       "version_major": 2,
       "version_minor": 0,
       "model_id": "e49cc792a58b4a31882a559b4680685f"
      }
     },
     "metadata": {}
    }
   ],
   "source": [
    "%matplotlib widget\n",
    "\n",
    "ptdiff = []\n",
    "for i in range(1,5):\n",
    "    ptdiff.append(pts[i-1][pts[i-1].index.difference(pts[i].index)])\n",
    "\n",
    "ptdiff[0].name = 'ITS only'\n",
    "ptdiff[1].name = 'ITS & (= 1TPC)'\n",
    "ptdiff[2].name = 'ITS & (= 2TPC)'\n",
    "ptdiff[3].name = 'ITS & (= 3TPC)'\n",
    "\n",
    "df = pd.concat([pts[0], ptdiff[0], pts[1], pts[1], ptdiff[1], pts[2], pts[2], ptdiff[2], pts[3], pts[3], ptdiff[3], pts[4]],axis=1)\n",
    "_ = df.plot(kind='hist', bins=100,range=(0,2), histtype='step', linewidth=1.5, color=['black','red','blue'], subplots=True, layout=(4,3), figsize=(30,20), title='TPC cuts')"
   ]
  },
  {
   "source": [
    "Here we see such construction each row contains three plots:\n",
    " - starting point or what we have (first cell correspond our initial plot at the very begining of this notebook)\n",
    " - what we will throw\n",
    " - the difference between 1 and 2\n",
    "\n",
    " As we can see in case of transition from zero global tracks to one we will lose only background.\n",
    " I guess it's easy to see that the best case when we throw almost only background event is more than 2 global tracks in event.\n",
    "\n",
    " In further analysis I will be use this case. 'ITS & (>= 2TPC)'"
   ],
   "cell_type": "markdown",
   "metadata": {}
  },
  {
   "cell_type": "markdown",
   "metadata": {},
   "source": [
    "## False triggering\n",
    "\n",
    "There are some situations when CCUP9 trigger could be fired false:\n",
    "It may occured when some fake or random track fires FOR and trigger will provide.\n",
    "\n",
    "We can check list of FORs of event and what chipkey has each of four tracks.\n",
    "In case it has matches and produce back to back topology this means correct trigger state.\n",
    "\n",
    "![img](https://sun9-58.userapi.com/impf/x7UtIW5ElLKpDl4ASPuz0FXhNjwnxYcAy0BuHw/wJZr1On9l4o.jpg?size=1280x718&quality=96&sign=1ed3d5f08fcdefd89ab4e02a5041c6d0&type=album)\n",
    "\n",
    "See debugging details in [one of the issue](https://github.com/bdrum/cern-physics/issues/42)\n"
   ]
  },
  {
   "source": [
    "Let's do the same thing as we do few cell above and let's try to understand what we will throw after splitting event by fake triggered or not:"
   ],
   "cell_type": "markdown",
   "metadata": {}
  },
  {
   "cell_type": "code",
   "execution_count": 50,
   "metadata": {},
   "outputs": [
    {
     "output_type": "display_data",
     "data": {
      "text/plain": "Canvas(toolbar=Toolbar(toolitems=[('Home', 'Reset original view', 'home', 'home'), ('Back', 'Back to previous …",
      "application/vnd.jupyter.widget-view+json": {
       "version_major": 2,
       "version_minor": 0,
       "model_id": "76918e16fab04f3f8dd56598235cfb14"
      }
     },
     "metadata": {}
    }
   ],
   "source": [
    "pt2_trig = pts[2][pts[2].index.intersection(trig)]\n",
    "pt2_trig.name = 'cor trig'\n",
    "pt2_untrig = pts[2][pts[2].index.intersection(untrig)]\n",
    "pt2_untrig.name = 'fake trig'\n",
    "\n",
    "df = pd.concat([pt2_trig,pt2_untrig],axis=1)\n",
    "_ = df.plot(kind='hist', bins=100,range=(0,2), histtype='step', linewidth=1.5, color=['green','red'], subplots=False,label=['1','2'])"
   ]
  },
  {
   "source": [
    "Here we also suppose that correct triggered event correspond to events with let say better quality. So in further analysis we will use such events."
   ],
   "cell_type": "markdown",
   "metadata": {}
  },
  {
   "source": [
    "## ZDC cuts\n",
    "\n",
    "ZDC again allows us to make signal more clear. Neutrons in ZDC could be a markers about peripheral events. "
   ],
   "cell_type": "markdown",
   "metadata": {}
  },
  {
   "cell_type": "code",
   "execution_count": 6,
   "metadata": {},
   "outputs": [
    {
     "output_type": "display_data",
     "data": {
      "text/plain": "Canvas(toolbar=Toolbar(toolitems=[('Home', 'Reset original view', 'home', 'home'), ('Back', 'Back to previous …",
      "application/vnd.jupyter.widget-view+json": {
       "version_major": 2,
       "version_minor": 0,
       "model_id": "262331f5de094b2fb9244bd578319bfb"
      }
     },
     "metadata": {}
    },
    {
     "output_type": "stream",
     "name": "stderr",
     "text": [
      "No handles with labels found to put in legend.\n",
      "No handles with labels found to put in legend.\n"
     ]
    },
    {
     "output_type": "execute_result",
     "data": {
      "text/plain": [
       "<matplotlib.legend.Legend at 0x24f929032e0>"
      ]
     },
     "metadata": {},
     "execution_count": 6
    }
   ],
   "source": [
    "%matplotlib widget\n",
    "\n",
    "zdcEnA = data.orig_events.ZNAenergy[ft_zq_ac_pt_cut_indexes]\n",
    "zdcEnC = data.orig_events.ZNCenergy[ft_zq_ac_pt_cut_indexes]\n",
    "zdcEn = np.concatenate((zdcEnA, zdcEnC))\n",
    "plt.subplots(1,2,figsize=(20,10))\n",
    "plt.suptitle('4track events ZDC energy distribution')\n",
    "plt.sca(plt.gcf().axes[0])\n",
    "cnt = plt.hist(zdcEn, bins=100, range=(-1000,15000), histtype='step', linewidth=1.3, color='black')\n",
    "plt.xlabel('ZDC energy')\n",
    "plt.ylabel('events')\n",
    "plt.yscale('log')\n",
    "plt.legend()\n",
    "\n",
    "plt.sca(plt.gcf().axes[1])\n",
    "_ = plt.scatter(zdcEnA, zdcEnC, color='black')\n",
    "plt.xlabel('ZDC_A energy')\n",
    "plt.ylabel('ZDC_C energy')\n",
    "plt.xlim(-1000, 11000)\n",
    "plt.ylim(-1000, 11000)\n",
    "plt.xticks(np.arange(0,11000,2500))\n",
    "plt.yticks(np.arange(0,11000,2500))\n",
    "# plt.suptitle('4track events ZDC_A vs ZDC_C scatter')\n",
    "plt.legend()\n",
    "\n"
   ]
  },
  {
   "source": [
    "Beside energy distirbution we also have to make corrections for ZDC timing:"
   ],
   "cell_type": "markdown",
   "metadata": {}
  },
  {
   "cell_type": "code",
   "execution_count": 7,
   "metadata": {},
   "outputs": [
    {
     "output_type": "display_data",
     "data": {
      "text/plain": "Canvas(toolbar=Toolbar(toolitems=[('Home', 'Reset original view', 'home', 'home'), ('Back', 'Back to previous …",
      "application/vnd.jupyter.widget-view+json": {
       "version_major": 2,
       "version_minor": 0,
       "model_id": "cd5172da84a9429b913fa27a49bfa6f9"
      }
     },
     "metadata": {}
    },
    {
     "output_type": "stream",
     "name": "stderr",
     "text": [
      "No handles with labels found to put in legend.\n",
      "No handles with labels found to put in legend.\n"
     ]
    },
    {
     "output_type": "execute_result",
     "data": {
      "text/plain": [
       "<matplotlib.legend.Legend at 0x24f93b5af10>"
      ]
     },
     "metadata": {},
     "execution_count": 7
    }
   ],
   "source": [
    "%matplotlib widget\n",
    "\n",
    "ZDCAtime_0 = data.orig_events.ZDCAtime_0[ft_zq_ac_pt_cut_indexes][data.orig_events.ZNAenergy[ft_zq_ac_pt_cut_indexes]<1000]\n",
    "ZDCCtime_0 = data.orig_events.ZDCCtime_0[ft_zq_ac_pt_cut_indexes][data.orig_events.ZNCenergy[ft_zq_ac_pt_cut_indexes]<1000]\n",
    "plt.subplots(1,2,figsize=(20,10))\n",
    "plt.sca(plt.gcf().axes[0])\n",
    "cnt = plt.hist(ZDCAtime_0, bins=100, range=(-300,300), histtype='step', linewidth=1.3, color='black')\n",
    "plt.xlabel('ZDCA time 0')\n",
    "plt.ylabel('events')\n",
    "plt.legend()\n",
    "\n",
    "plt.sca(plt.gcf().axes[1])\n",
    "cnt = plt.hist(ZDCCtime_0, bins=100, range=(-300,300), histtype='step', linewidth=1.3, color='black')\n",
    "plt.xlabel('ZDCC time 0')\n",
    "plt.ylabel('events')\n",
    "plt.legend()\n"
   ]
  },
  {
   "source": [
    "There is a question what cuts for ZDC we have to apply...\n"
   ],
   "cell_type": "markdown",
   "metadata": {}
  },
  {
   "cell_type": "code",
   "execution_count": 8,
   "metadata": {},
   "outputs": [
    {
     "output_type": "error",
     "ename": "NameError",
     "evalue": "name 'ft' is not defined",
     "traceback": [
      "\u001b[1;31m---------------------------------------------------------------------------\u001b[0m",
      "\u001b[1;31mNameError\u001b[0m                                 Traceback (most recent call last)",
      "\u001b[1;32m<ipython-input-8-a9fae4349bc5>\u001b[0m in \u001b[0;36m<module>\u001b[1;34m\u001b[0m\n\u001b[0;32m      1\u001b[0m \u001b[0mget_ipython\u001b[0m\u001b[1;33m(\u001b[0m\u001b[1;33m)\u001b[0m\u001b[1;33m.\u001b[0m\u001b[0mrun_line_magic\u001b[0m\u001b[1;33m(\u001b[0m\u001b[1;34m'matplotlib'\u001b[0m\u001b[1;33m,\u001b[0m \u001b[1;34m'widget'\u001b[0m\u001b[1;33m)\u001b[0m\u001b[1;33m\u001b[0m\u001b[1;33m\u001b[0m\u001b[0m\n\u001b[0;32m      2\u001b[0m \u001b[0mnTPC\u001b[0m\u001b[1;33m=\u001b[0m\u001b[1;36m2\u001b[0m\u001b[1;33m\u001b[0m\u001b[1;33m\u001b[0m\u001b[0m\n\u001b[1;32m----> 3\u001b[1;33m \u001b[0mpt_with_cut\u001b[0m \u001b[1;33m=\u001b[0m \u001b[0mkinematics\u001b[0m\u001b[1;33m.\u001b[0m\u001b[0mpt_events\u001b[0m\u001b[1;33m(\u001b[0m\u001b[0mft\u001b[0m\u001b[1;33m.\u001b[0m\u001b[0mGetTracksWithPtLt\u001b[0m\u001b[1;33m(\u001b[0m\u001b[0mft\u001b[0m\u001b[1;33m.\u001b[0m\u001b[0mft_zq_nTPC\u001b[0m\u001b[1;33m[\u001b[0m\u001b[0mnTPC\u001b[0m\u001b[1;33m]\u001b[0m\u001b[1;33m,\u001b[0m \u001b[0mmaxPt\u001b[0m\u001b[1;33m=\u001b[0m\u001b[1;36m2\u001b[0m\u001b[1;33m)\u001b[0m\u001b[1;33m)\u001b[0m\u001b[1;33m\u001b[0m\u001b[1;33m\u001b[0m\u001b[0m\n\u001b[0m\u001b[0;32m      4\u001b[0m \u001b[0mpt_with_cut\u001b[0m \u001b[1;33m=\u001b[0m \u001b[0mft_zq_Pt_nTpc_triggered\u001b[0m\u001b[1;33m[\u001b[0m\u001b[1;36m2\u001b[0m\u001b[1;33m]\u001b[0m\u001b[1;33m\u001b[0m\u001b[1;33m\u001b[0m\u001b[0m\n\u001b[0;32m      5\u001b[0m \u001b[0mv1\u001b[0m \u001b[1;33m=\u001b[0m \u001b[1;36m3000\u001b[0m\u001b[1;33m\u001b[0m\u001b[1;33m\u001b[0m\u001b[0m\n",
      "\u001b[1;31mNameError\u001b[0m: name 'ft' is not defined"
     ]
    }
   ],
   "source": [
    "%matplotlib widget \n",
    "nTPC=2\n",
    "pt_with_cut = kinematics.pt_events(ft.GetTracksWithPtLt(ft.ft_zq_nTPC[nTPC], maxPt=2))\n",
    "pt_with_cut = ft_zq_Pt_nTpc_triggered[2]\n",
    "v1 = 3000\n",
    "v2 = np.inf\n",
    "ind = (pd.concat([ft.orig_events.ZNAenergy[pt_with_cut.index], ft.orig_events.ZNCenergy[pt_with_cut.index]]) > v1).sort_index().groupby('entry').sum() >= 1\n",
    "ind *= (pd.concat([ft.orig_events.ZNAenergy[pt_with_cut.index], ft.orig_events.ZNCenergy[pt_with_cut.index]]) <= v2).sort_index().groupby('entry').sum() >= 1\n",
    "_ = plt.hist(pt_with_cut[ind.index][~ind], bins=100, range=(0, 2), histtype='step', color='black', linewidth=1.2, label='ZDC enrgy <= 3 TeV')\n",
    "_ = plt.hist(pt_with_cut[ind.index][ind], bins=100, range=(0, 2), histtype='step', color='red', linewidth=1.2, label='ZDC enrgy > 3 TeV')\n",
    "plt.xlabel(r'$p_t$')\n",
    "plt.ylabel('events')\n",
    "# plt.suptitle(f'4tracks event $p_t$ when {v1/1000}TeV < ZDC energy <= {v2}')\n",
    "_ = plt.legend()"
   ]
  },
  {
   "cell_type": "markdown",
   "metadata": {},
   "source": [
    "## Transversal momentum distribution after all cuts\n"
   ]
  },
  {
   "cell_type": "code",
   "execution_count": 9,
   "metadata": {
    "ExecuteTime": {
     "end_time": "2021-04-15T17:31:18.604745Z",
     "start_time": "2021-04-15T17:31:18.463744Z"
    }
   },
   "outputs": [
    {
     "output_type": "display_data",
     "data": {
      "text/plain": "Canvas(toolbar=Toolbar(toolitems=[('Home', 'Reset original view', 'home', 'home'), ('Back', 'Back to previous …",
      "application/vnd.jupyter.widget-view+json": {
       "version_major": 2,
       "version_minor": 0,
       "model_id": "da0134ffe8d542f69eae45f7336446ac"
      }
     },
     "metadata": {}
    },
    {
     "output_type": "execute_result",
     "data": {
      "text/plain": [
       "Text(0, 1, '#events / 20MeV')"
      ]
     },
     "metadata": {},
     "execution_count": 9
    }
   ],
   "source": [
    "%matplotlib widget\n",
    "\n",
    "plt.style.use(hep.style.ROOT)\n",
    "fig = plt.figure()\n",
    "ax = fig.add_subplot()\n",
    "\n",
    "fig.suptitle(f'$p_t$ of events')\n",
    "b = 100\n",
    "r = 0,2\n",
    "counts,bin_edges = np.histogram(pt2_trig, bins=b, range=r)\n",
    "\n",
    "bin_centres = (bin_edges[:-1] + bin_edges[1:])/2.\n",
    "errs = np.sqrt(counts)\n",
    "ax.errorbar(bin_centres, counts, yerr=errs, fmt='.', color='green')\n",
    "\n",
    "val=(r[1]-r[0])*1000 // b\n",
    "ax.set_xlabel('$p_t, GeV$')\n",
    "ax.set_ylabel(f'#events / {val}MeV')\n"
   ]
  },
  {
   "cell_type": "markdown",
   "metadata": {},
   "source": [
    "Now  let's try to see what tracks we lost from signal area and what contribution they have:"
   ]
  },
  {
   "cell_type": "markdown",
   "metadata": {},
   "source": [
    "TPC and ITS has different coverage for polar angle:\n",
    "\n",
    "![img1](https://camo.githubusercontent.com/9a7ab40d0f74a866a7095986644134a0f72cc58b/68747470733a2f2f70702e757365726170692e636f6d2f633835323231362f763835323231363738332f3131396137332f304f76685f6c544b4e7a552e6a7067)\n",
    "\n",
    "Perhaps we have tracks that not only can't reach TPC, but also has $\\theta$ values that TPC doesn't cover.\n",
    "\n",
    "Below we can see polar angle distribution for tracks that covers three cases:\n",
    "\n",
    "1. All tracks from events were reconstructed by ITS and TPC\n",
    "2. Only ITS tracks from events with only part TPC tracks. Here tracks that not reconstructed by TPC\n",
    "3. All tracks from events were reconstructed by ITS or TPC\n",
    "\n",
    "We can see small gaps with for the second case, that allow to speak about correctness of the suggestion, but anyway low energy of tracks is the main reason why TPC can't reconstructed tracks.  "
   ]
  },
  {
   "cell_type": "markdown",
   "metadata": {},
   "source": [
    "## Mass\n",
    "Let's see on the mass distribution of the events\n"
   ]
  },
  {
   "cell_type": "code",
   "execution_count": 248,
   "metadata": {
    "ExecuteTime": {
     "end_time": "2021-04-15T17:31:44.431711Z",
     "start_time": "2021-04-15T17:31:44.278548Z"
    }
   },
   "outputs": [
    {
     "output_type": "display_data",
     "data": {
      "text/plain": "Canvas(toolbar=Toolbar(toolitems=[('Home', 'Reset original view', 'home', 'home'), ('Back', 'Back to previous …",
      "application/vnd.jupyter.widget-view+json": {
       "version_major": 2,
       "version_minor": 0,
       "model_id": "dd8cab4de49d421fb4547a119114f186"
      }
     },
     "metadata": {}
    },
    {
     "output_type": "execute_result",
     "data": {
      "text/plain": [
       "[ErrorBarArtists(errorbar=<ErrorbarContainer object of 3 artists>)]"
      ]
     },
     "metadata": {},
     "execution_count": 248
    }
   ],
   "source": [
    "%matplotlib widget\n",
    "\n",
    "plt.style.use(hep.style.ROOT)\n",
    "fig = plt.figure()\n",
    "ax = fig.add_subplot()\n",
    "\n",
    "fig.suptitle(f'$M$ of $\\pi^+\\pi^-\\pi^+\\pi^-$ events')\n",
    "b = 95\n",
    "r = 1,2.5\n",
    "counts, bin_edges = np.histogram(mass_events(kinematics.GetTracksWithPtCut(four_tracks_zq_after_cuts)), bins=b, range=r)\n",
    "hep.histplot((counts, bin_edges), yerr=True, color='black', histtype='errorbar')\n",
    "\n",
    "val=(r[1]-r[0])*1000 // b\n",
    "ax.set_xlabel('$M, GeV$')\n",
    "ax.set_ylabel(f'#events / {val}MeV')\n",
    "\n",
    "counts_bckg, bin_edges_bckg = np.histogram(mass_events(kinematics.GetTracksWithPtCut(data.four_tracks_nzq)), bins=b, range=r)\n",
    "hep.histplot((counts_bckg, bin_edges_bckg), yerr=True, color='red', histtype='errorbar')\n",
    "\n"
   ]
  },
  {
   "cell_type": "code",
   "execution_count": 261,
   "metadata": {},
   "outputs": [
    {
     "output_type": "stream",
     "name": "stdout",
     "text": [
      "[[Model]]\n    Model(bw_bckg)\n[[Fit Statistics]]\n    # fitting method   = leastsq\n    # function evals   = 21\n    # data points      = 95\n    # variables        = 4\n    chi-square         = 4412.40003\n    reduced chi-square = 48.4879124\n    Akaike info crit   = 372.638229\n    Bayesian info crit = 382.853737\n##  Warning: uncertainties could not be estimated:\n    G:         at initial value\n    amp:       at initial value\n[[Variables]]\n    M:         1.49060663 (init = 1.49)\n    G:         0.49000000 (init = 0.49)\n    amp:       70.0000000 (init = 70)\n    amp_bckg:  0.24558126 (init = 0.6)\n"
     ]
    },
    {
     "output_type": "display_data",
     "data": {
      "text/plain": "Canvas(toolbar=Toolbar(toolitems=[('Home', 'Reset original view', 'home', 'home'), ('Back', 'Back to previous …",
      "application/vnd.jupyter.widget-view+json": {
       "version_major": 2,
       "version_minor": 0,
       "model_id": "abcdabd3fc0e452990a38895aa45a867"
      }
     },
     "metadata": {}
    }
   ],
   "source": [
    "import matplotlib.pyplot as plt\n",
    "from numpy import exp, loadtxt, pi, sqrt, random, histogram\n",
    "from lmfit import Model\n",
    "from lmfit.models import BreitWignerModel, LinearModel, GaussianModel, ConstantModel, PolynomialModel\n",
    "from FourTracks.analysis import fit\n",
    "\n",
    "%matplotlib widget\n",
    "b = 95\n",
    "y, x = np.histogram(mass_events(kinematics.GetTracksWithPtCut(four_tracks_zq_after_cuts)), bins=b, range=r)\n",
    "x_orig = x\n",
    "x = x[:-1]\n",
    "\n",
    "mod_bw = Model(fit.bw)\n",
    "\n",
    "bcg_y, bcg_x = np.histogram(mass_events(kinematics.GetTracksWithPtCut(data.four_tracks_nzq)), bins=b, range=r)\n",
    "bcg_x = bcg_x[:-1]\n",
    "\n",
    "fit.bckg_y = bcg_y\n",
    "mod = Model(fit.bw_bckg)\n",
    "par_bw = mod.make_params()\n",
    "par_bw['amp'].set(70, min=0, max=150)\n",
    "par_bw['M'].set(1.49)\n",
    "par_bw['G'].set(0.49, min=0.25)\n",
    "par_bw['amp_bckg'].set(0.6, min=0, max=10)\n",
    "result = mod.fit(y,par_bw, E=x) #, method='least_squares')\n",
    "\n",
    "print(result.fit_report())\n",
    "\n",
    "# plt.plot(x, y, 'ko', label='data')\n",
    "\n",
    "hep.histplot((counts, x_orig), yerr=True, color='black', histtype='errorbar', label='data')\n",
    "plt.plot(x, fit.bw(E=x, M = 1.49, G=0.49, amp=70 ), 'g-',label='bw func')\n",
    "plt.plot(bcg_x, bcg_y, 'y+', label='like pair mass')\n",
    "plt.plot(x, result.init_fit, 'b--', label='bw + like pair mass')\n",
    "# plt.plot(x, result.best_fit, 'r-', label='best fit')\n",
    "plt.legend(loc='best')\n",
    "plt.show()"
   ]
  },
  {
   "cell_type": "code",
   "execution_count": 262,
   "metadata": {},
   "outputs": [
    {
     "output_type": "stream",
     "name": "stdout",
     "text": [
      "[[Model]]\n    (Model(bw_bckg, prefix='bw1_') + Model(bw_bckg, prefix='bw2_'))\n[[Fit Statistics]]\n    # fitting method   = leastsq\n    # function evals   = 79\n    # data points      = 95\n    # variables        = 8\n    chi-square         = 5311.82280\n    reduced chi-square = 61.0554345\n    Akaike info crit   = 398.262277\n    Bayesian info crit = 418.693292\n##  Warning: uncertainties could not be estimated:\n    bw1_G:         at initial value\n    bw1_amp:       at initial value\n    bw2_G:         at initial value\n    bw2_G:         at boundary\n    bw2_amp:       at initial value\n[[Variables]]\n    bw1_M:         1.49151357 (init = 1.5)\n    bw1_G:         0.30000000 (init = 0.3)\n    bw1_amp:       50.0000000 (init = 50)\n    bw1_amp_bckg:  0.92742085 (init = 1)\n    bw2_M:         1.60890856 (init = 1.68)\n    bw2_G:         0.25000000 (init = 0.25)\n    bw2_amp:       25.0000000 (init = 25)\n    bw2_amp_bckg:  0.94241316 (init = 1)\n"
     ]
    },
    {
     "output_type": "display_data",
     "data": {
      "text/plain": "Canvas(toolbar=Toolbar(toolitems=[('Home', 'Reset original view', 'home', 'home'), ('Back', 'Back to previous …",
      "application/vnd.jupyter.widget-view+json": {
       "version_major": 2,
       "version_minor": 0,
       "model_id": "7133def2483a46a69c7a24e8c6299032"
      }
     },
     "metadata": {}
    }
   ],
   "source": [
    "import matplotlib.pyplot as plt\n",
    "from numpy import exp, loadtxt, pi, sqrt, random, histogram\n",
    "from lmfit import Model\n",
    "from lmfit.models import BreitWignerModel, LinearModel, GaussianModel, ConstantModel, PolynomialModel\n",
    "from FourTracks.analysis import fit\n",
    "\n",
    "%matplotlib widget\n",
    "\n",
    "y, x = np.histogram(mass_events(kinematics.GetTracksWithPtCut(four_tracks_zq_after_cuts)), bins=b, range=r)\n",
    "x_orig = x\n",
    "x = x[:-1]\n",
    "\n",
    "mod_bw = Model(fit.bw)\n",
    "\n",
    "bcg_y, bcg_x = np.histogram(mass_events(kinematics.GetTracksWithPtCut(data.four_tracks_nzq)), bins=b, range=r)\n",
    "bcg_x = bcg_x[:-1]\n",
    "\n",
    "fit.bckg_y = bcg_y\n",
    "mod_bw1 = Model(fit.bw_bckg, prefix='bw1_')\n",
    "mod_bw2 = Model(fit.bw_bckg, prefix='bw2_')\n",
    "mod = mod_bw1 + mod_bw2\n",
    "par_bw = mod.make_params()\n",
    "a1 = 50\n",
    "a2 = 25\n",
    "par_bw['bw1_amp'].set(a1, min=0, max=150)\n",
    "par_bw['bw1_M'].set(1.5)\n",
    "par_bw['bw1_G'].set(0.3, min=0.25)\n",
    "par_bw['bw1_amp_bckg'].set(1, min=0, max=10)\n",
    "par_bw['bw2_amp'].set(a2, min=0, max=150)\n",
    "par_bw['bw2_M'].set(1.68)\n",
    "par_bw['bw2_G'].set(0.15, min=0.25)\n",
    "par_bw['bw2_amp_bckg'].set(1, min=0, max=10)\n",
    "\n",
    "result = mod.fit(y,par_bw, E=x) #, method='least_squares')\n",
    "\n",
    "print(result.fit_report())\n",
    "\n",
    "hep.histplot((counts, x_orig), yerr=True, color='black', histtype='errorbar', label='data')\n",
    "plt.plot(x, fit.bw(E=x, M = 1.45, G=0.3, amp=a1 ), 'g-',label='bw 1450 func')\n",
    "plt.plot(x, fit.bw(E=x, M = 1.7, G=0.3, amp=a2 ), 'c-',label='bw 1700 func')\n",
    "plt.plot(bcg_x, bcg_y, 'y+', label='like pair mass')\n",
    "plt.plot(x, result.init_fit, 'b--', label='bw + like pair mass')\n",
    "# plt.plot(x, result.best_fit, 'r-', label='best fit')\n",
    "plt.legend(loc='best')\n",
    "plt.show()"
   ]
  },
  {
   "cell_type": "code",
   "execution_count": 111,
   "metadata": {},
   "outputs": [
    {
     "output_type": "display_data",
     "data": {
      "text/plain": "Canvas(toolbar=Toolbar(toolitems=[('Home', 'Reset original view', 'home', 'home'), ('Back', 'Back to previous …",
      "application/vnd.jupyter.widget-view+json": {
       "version_major": 2,
       "version_minor": 0,
       "model_id": "7e4f0dade907408bbb9422b25c289fbe"
      }
     },
     "metadata": {}
    },
    {
     "output_type": "execute_result",
     "data": {
      "text/plain": [
       "<matplotlib.collections.PathCollection at 0x18fc2c564f0>"
      ]
     },
     "metadata": {},
     "execution_count": 111
    }
   ],
   "source": [
    "from FourTracks.analysis import fit\n",
    "from particle import Particle\n",
    "%matplotlib widget\n",
    "Rho0 = Particle.from_pdgid(113)\n",
    "Pi0 = Particle.from_pdgid(111)\n",
    "PiPlus = Particle.from_pdgid(211)\n",
    "\n",
    "\n",
    "y, x = np.histogram(mass_events(kinematics.GetTracksWithPtCut(four_tracks_zq_after_cuts)), bins=50, range=r)\n",
    "x = x[1:]\n",
    "\n",
    "plt.scatter(x,fit.bw(x, 1.5,0.5))"
   ]
  },
  {
   "cell_type": "code",
   "execution_count": 44,
   "metadata": {},
   "outputs": [
    {
     "output_type": "error",
     "ename": "NameError",
     "evalue": "name 'four_tracks_nzq_after_cuts' is not defined",
     "traceback": [
      "\u001b[1;31m---------------------------------------------------------------------------\u001b[0m",
      "\u001b[1;31mNameError\u001b[0m                                 Traceback (most recent call last)",
      "\u001b[1;32m<ipython-input-44-874da5053c39>\u001b[0m in \u001b[0;36m<module>\u001b[1;34m\u001b[0m\n\u001b[1;32m----> 1\u001b[1;33m \u001b[0mcounts\u001b[0m\u001b[1;33m,\u001b[0m \u001b[0mbin_edges\u001b[0m \u001b[1;33m=\u001b[0m \u001b[0mnp\u001b[0m\u001b[1;33m.\u001b[0m\u001b[0mhistogram\u001b[0m\u001b[1;33m(\u001b[0m\u001b[0mmass_events\u001b[0m\u001b[1;33m(\u001b[0m\u001b[0mkinematics\u001b[0m\u001b[1;33m.\u001b[0m\u001b[0mGetTracksWithPtCut\u001b[0m\u001b[1;33m(\u001b[0m\u001b[0mfour_tracks_nzq_after_cuts\u001b[0m\u001b[1;33m)\u001b[0m\u001b[1;33m)\u001b[0m\u001b[1;33m,\u001b[0m \u001b[0mbins\u001b[0m\u001b[1;33m=\u001b[0m\u001b[0mb\u001b[0m\u001b[1;33m,\u001b[0m \u001b[0mrange\u001b[0m\u001b[1;33m=\u001b[0m\u001b[0mr\u001b[0m\u001b[1;33m)\u001b[0m\u001b[1;33m\u001b[0m\u001b[1;33m\u001b[0m\u001b[0m\n\u001b[0m\u001b[0;32m      2\u001b[0m \u001b[0mhep\u001b[0m\u001b[1;33m.\u001b[0m\u001b[0mhistplot\u001b[0m\u001b[1;33m(\u001b[0m\u001b[1;33m(\u001b[0m\u001b[0mcounts\u001b[0m\u001b[1;33m,\u001b[0m \u001b[0mbin_edges\u001b[0m\u001b[1;33m)\u001b[0m\u001b[1;33m,\u001b[0m \u001b[0myerr\u001b[0m\u001b[1;33m=\u001b[0m\u001b[1;32mTrue\u001b[0m\u001b[1;33m,\u001b[0m \u001b[0mcolor\u001b[0m\u001b[1;33m=\u001b[0m\u001b[1;34m'black'\u001b[0m\u001b[1;33m,\u001b[0m \u001b[0mhisttype\u001b[0m\u001b[1;33m=\u001b[0m\u001b[1;34m'errorbar'\u001b[0m\u001b[1;33m)\u001b[0m\u001b[1;33m\u001b[0m\u001b[1;33m\u001b[0m\u001b[0m\n",
      "\u001b[1;31mNameError\u001b[0m: name 'four_tracks_nzq_after_cuts' is not defined"
     ]
    }
   ],
   "source": [
    "counts, bin_edges = np.histogram(mass_events(kinematics.GetTracksWithPtCut(four_tracks_nzq_after_cuts)), bins=b, range=r)\n",
    "hep.histplot((counts, bin_edges), yerr=True, color='black', histtype='errorbar')"
   ]
  },
  {
   "cell_type": "markdown",
   "metadata": {},
   "source": [
    "Let's normalize this plot:"
   ]
  },
  {
   "cell_type": "code",
   "execution_count": 13,
   "metadata": {
    "ExecuteTime": {
     "end_time": "2021-04-15T17:31:57.119114Z",
     "start_time": "2021-04-15T17:31:56.923013Z"
    }
   },
   "outputs": [
    {
     "output_type": "display_data",
     "data": {
      "text/plain": "Canvas(toolbar=Toolbar(toolitems=[('Home', 'Reset original view', 'home', 'home'), ('Back', 'Back to previous …",
      "application/vnd.jupyter.widget-view+json": {
       "version_major": 2,
       "version_minor": 0,
       "model_id": "129df78e61884e9b846167c91087e010"
      }
     },
     "metadata": {}
    },
    {
     "output_type": "execute_result",
     "data": {
      "text/plain": [
       "<matplotlib.legend.Legend at 0x1879f41f6d0>"
      ]
     },
     "metadata": {},
     "execution_count": 13
    }
   ],
   "source": [
    "plt.style.use(hep.style.ROOT)\n",
    "fig = plt.figure(figsize=(10,8))\n",
    "ax = fig.add_subplot()\n",
    "\n",
    "fig.suptitle('mass of events', fontsize=32)\n",
    "b = 100\n",
    "r = 0.7,2.7\n",
    "\n",
    "n = 2\n",
    "cnts = ax.hist(ft_zq_Mass_nTpc_triggered[n],bins=b, range=r,histtype='step', linewidth=2, density=True, stacked=True, label='correct trig', color='green')\n",
    "\n",
    "ax.hist(ft_zq_Mass_nTpc_UNtriggered[n],bins=b, range=r,histtype='step', linewidth=2, density=True, label='fake trig', color='red',stacked=True)\n",
    "\n",
    "val=(r[1]-r[0])*1000 // b\n",
    "ax.set_xlabel('$Mass, GeV$')\n",
    "ax.set_ylabel(f'#events / {val}MeV')\n",
    "\n",
    "ax.legend()\n",
    "# fig"
   ]
  },
  {
   "cell_type": "code",
   "execution_count": 609,
   "metadata": {},
   "outputs": [
    {
     "output_type": "display_data",
     "data": {
      "text/plain": "Canvas(toolbar=Toolbar(toolitems=[('Home', 'Reset original view', 'home', 'home'), ('Back', 'Back to previous …",
      "application/vnd.jupyter.widget-view+json": {
       "version_major": 2,
       "version_minor": 0,
       "model_id": "9e0e058869974a56b1a4afa220c707de"
      }
     },
     "metadata": {}
    },
    {
     "output_type": "stream",
     "name": "stderr",
     "text": [
      "No handles with labels found to put in legend.\n",
      "No handles with labels found to put in legend.\n",
      "No handles with labels found to put in legend.\n"
     ]
    },
    {
     "output_type": "execute_result",
     "data": {
      "text/plain": [
       "<matplotlib.legend.Legend at 0x188e6c6b5e0>"
      ]
     },
     "metadata": {},
     "execution_count": 609
    }
   ],
   "source": [
    "%matplotlib widget\n",
    "\n",
    "fig, ax = plt.subplots(1,3, figsize=(20,7))\n",
    "fig.suptitle(r'zdc cut for mass of 4 track events')\n",
    "\n",
    "b = 25\n",
    "r = 0.5,3\n",
    "counts,bin_edges = np.histogram(ft_zq_Mass_nTpc_triggered[2], bins=b, range=r)\n",
    "# counts,bin_edges = np.histogram(kinematics.pt_events(ft.GetTracksWithNTPC(ft.four_tracks_zq)), bins=b, range=r)\n",
    "\n",
    "bin_centres = (bin_edges[:-1] + bin_edges[1:])/2.\n",
    "errs = np.sqrt(counts)\n",
    "ax[0].errorbar(bin_centres, counts, yerr=errs, fmt='.', color='green')#, label=r'before zdc cut')\n",
    "\n",
    "\n",
    "counts,bin_edges = np.histogram(ft_zq_Mass_nTpc_triggered[2][ind.index][ind], bins=b, range=r)\n",
    "bin_centres = (bin_edges[:-1] + bin_edges[1:])/2.\n",
    "errs = np.sqrt(counts)\n",
    "\n",
    "ax[1].errorbar(bin_centres, counts, yerr=errs, fmt='.', color='black')# , label=r'zdc cut values')\n",
    "\n",
    "\n",
    "counts,bin_edges = np.histogram(ft_zq_Mass_nTpc_triggered[2], bins=b, range=r)\n",
    "bin_centres = (bin_edges[:-1] + bin_edges[1:])/2.\n",
    "errs = np.sqrt(counts)\n",
    "\n",
    "ax[2].errorbar(bin_centres, counts, yerr=errs, fmt='.', color='red') #, label=r'before zdc cut')\n",
    "\n",
    "counts,bin_edges = np.histogram(ft_zq_Mass_nTpc_triggered[2][ind.index][~ind], bins=b, range=r)\n",
    "# counts,bin_edges = np.histogram(kinematics.pt_events(ft.GetTracksWithNTPC(ft.four_tracks_zq)), bins=b, range=r)\n",
    "\n",
    "bin_centres = (bin_edges[:-1] + bin_edges[1:])/2.\n",
    "errs = np.sqrt(counts)\n",
    "ax[2].errorbar(bin_centres, counts, yerr=errs, fmt='.', color='green') #, label=r'after zdc cut')\n",
    "\n",
    "\n",
    "\n",
    "ax[0].legend()\n",
    "ax[1].legend()\n",
    "ax[2].legend()"
   ]
  },
  {
   "cell_type": "code",
   "execution_count": null,
   "metadata": {},
   "outputs": [],
   "source": []
  },
  {
   "cell_type": "markdown",
   "metadata": {},
   "source": [
    "### Pions subsystems\n",
    "\n",
    "In our process 4 pions were producted. The most probably intermediate state including two pions and $\\rho$ i.e.\n",
    "$$\\rho' \\rightarrow \\rho \\ \\pi^+ \\pi^- \\rightarrow \\pi^+ \\pi^- \\pi^+ \\pi^-$$ \n",
    "\n",
    "We can see this on distribution of mass that can be obtained as all combinations of pairs from intial four tracks, i.e. only four pairs:\n",
    "\n",
    "![img](https://camo.githubusercontent.com/53a52e2a6d4ae7112d74f4073c979a51166170d8/68747470733a2f2f70702e757365726170692e636f6d2f633835333632342f763835333632343436372f34383466332f5431375a754b597062526f2e6a7067)\n",
    "\n",
    "Here we can plot two distirbutions:\n",
    "\n",
    "1. Make all possible(4) combinations of pairs. Then take lightest and pair that belong to one combination with that. Plot masses of these two pairs.\n",
    "2. Plot masses of masses from possible combinations."
   ]
  },
  {
   "cell_type": "code",
   "execution_count": 589,
   "metadata": {
    "ExecuteTime": {
     "end_time": "2021-04-14T04:10:03.533012Z",
     "start_time": "2021-04-14T04:10:03.259267Z"
    }
   },
   "outputs": [
    {
     "output_type": "error",
     "ename": "KeyError",
     "evalue": "\"None of [Int64Index([     8,     15,     20,     73,     82,    140,    155,    164,\\n               178,    191,\\n            ...\\n            106383, 106392, 106402, 106457, 106497, 106499, 106524, 106601,\\n            106636, 106687],\\n           dtype='int64', name='entry', length=2848)] are in the [columns]\"",
     "traceback": [
      "\u001b[1;31m---------------------------------------------------------------------------\u001b[0m",
      "\u001b[1;31mKeyError\u001b[0m                                  Traceback (most recent call last)",
      "\u001b[1;32m<ipython-input-589-013386239608>\u001b[0m in \u001b[0;36m<module>\u001b[1;34m\u001b[0m\n\u001b[0;32m     56\u001b[0m \u001b[0mLiteHeavyRecoil\u001b[0m\u001b[1;33m,\u001b[0m \u001b[0mLiteHeavyTotal\u001b[0m \u001b[1;33m=\u001b[0m \u001b[0mpairs\u001b[0m\u001b[1;33m.\u001b[0m\u001b[0mGetPairsMasses\u001b[0m\u001b[1;33m(\u001b[0m\u001b[0mft\u001b[0m\u001b[1;33m.\u001b[0m\u001b[0mGetTracksWithPtLt\u001b[0m\u001b[1;33m(\u001b[0m\u001b[0mft\u001b[0m\u001b[1;33m.\u001b[0m\u001b[0mGetTracksWithNTPC\u001b[0m\u001b[1;33m(\u001b[0m\u001b[0mft\u001b[0m\u001b[1;33m.\u001b[0m\u001b[0mfour_tracks_zq\u001b[0m\u001b[1;33m,\u001b[0m\u001b[1;36m4\u001b[0m\u001b[1;33m)\u001b[0m\u001b[1;33m)\u001b[0m\u001b[1;33m)\u001b[0m\u001b[1;33m\u001b[0m\u001b[1;33m\u001b[0m\u001b[0m\n\u001b[0;32m     57\u001b[0m \u001b[1;33m\u001b[0m\u001b[0m\n\u001b[1;32m---> 58\u001b[1;33m \u001b[0mfig\u001b[0m \u001b[1;33m=\u001b[0m \u001b[0mpairs\u001b[0m\u001b[1;33m.\u001b[0m\u001b[0mShowMassComaprison\u001b[0m\u001b[1;33m(\u001b[0m\u001b[0mLiteHeavyTotal\u001b[0m\u001b[1;33m[\u001b[0m\u001b[0mind\u001b[0m\u001b[1;33m.\u001b[0m\u001b[0mindex\u001b[0m\u001b[1;33m]\u001b[0m\u001b[1;33m[\u001b[0m\u001b[1;33m~\u001b[0m\u001b[0mind\u001b[0m\u001b[1;33m]\u001b[0m\u001b[1;33m,\u001b[0m \u001b[1;34mr'$\\rho^0 \\rightarrow \\pi^+\\pi^-$   and    $\\pi^+\\pi^-$ masses'\u001b[0m\u001b[1;33m)\u001b[0m\u001b[1;33m\u001b[0m\u001b[1;33m\u001b[0m\u001b[0m\n\u001b[0m\u001b[0;32m     59\u001b[0m \u001b[1;31m# # fig\u001b[0m\u001b[1;33m\u001b[0m\u001b[1;33m\u001b[0m\u001b[1;33m\u001b[0m\u001b[0m\n",
      "\u001b[1;32mC:\\Python38\\lib\\site-packages\\pandas\\core\\frame.py\u001b[0m in \u001b[0;36m__getitem__\u001b[1;34m(self, key)\u001b[0m\n\u001b[0;32m   3028\u001b[0m             \u001b[1;32mif\u001b[0m \u001b[0mis_iterator\u001b[0m\u001b[1;33m(\u001b[0m\u001b[0mkey\u001b[0m\u001b[1;33m)\u001b[0m\u001b[1;33m:\u001b[0m\u001b[1;33m\u001b[0m\u001b[1;33m\u001b[0m\u001b[0m\n\u001b[0;32m   3029\u001b[0m                 \u001b[0mkey\u001b[0m \u001b[1;33m=\u001b[0m \u001b[0mlist\u001b[0m\u001b[1;33m(\u001b[0m\u001b[0mkey\u001b[0m\u001b[1;33m)\u001b[0m\u001b[1;33m\u001b[0m\u001b[1;33m\u001b[0m\u001b[0m\n\u001b[1;32m-> 3030\u001b[1;33m             \u001b[0mindexer\u001b[0m \u001b[1;33m=\u001b[0m \u001b[0mself\u001b[0m\u001b[1;33m.\u001b[0m\u001b[0mloc\u001b[0m\u001b[1;33m.\u001b[0m\u001b[0m_get_listlike_indexer\u001b[0m\u001b[1;33m(\u001b[0m\u001b[0mkey\u001b[0m\u001b[1;33m,\u001b[0m \u001b[0maxis\u001b[0m\u001b[1;33m=\u001b[0m\u001b[1;36m1\u001b[0m\u001b[1;33m,\u001b[0m \u001b[0mraise_missing\u001b[0m\u001b[1;33m=\u001b[0m\u001b[1;32mTrue\u001b[0m\u001b[1;33m)\u001b[0m\u001b[1;33m[\u001b[0m\u001b[1;36m1\u001b[0m\u001b[1;33m]\u001b[0m\u001b[1;33m\u001b[0m\u001b[1;33m\u001b[0m\u001b[0m\n\u001b[0m\u001b[0;32m   3031\u001b[0m \u001b[1;33m\u001b[0m\u001b[0m\n\u001b[0;32m   3032\u001b[0m         \u001b[1;31m# take() does not accept boolean indexers\u001b[0m\u001b[1;33m\u001b[0m\u001b[1;33m\u001b[0m\u001b[1;33m\u001b[0m\u001b[0m\n",
      "\u001b[1;32mC:\\Python38\\lib\\site-packages\\pandas\\core\\indexing.py\u001b[0m in \u001b[0;36m_get_listlike_indexer\u001b[1;34m(self, key, axis, raise_missing)\u001b[0m\n\u001b[0;32m   1264\u001b[0m             \u001b[0mkeyarr\u001b[0m\u001b[1;33m,\u001b[0m \u001b[0mindexer\u001b[0m\u001b[1;33m,\u001b[0m \u001b[0mnew_indexer\u001b[0m \u001b[1;33m=\u001b[0m \u001b[0max\u001b[0m\u001b[1;33m.\u001b[0m\u001b[0m_reindex_non_unique\u001b[0m\u001b[1;33m(\u001b[0m\u001b[0mkeyarr\u001b[0m\u001b[1;33m)\u001b[0m\u001b[1;33m\u001b[0m\u001b[1;33m\u001b[0m\u001b[0m\n\u001b[0;32m   1265\u001b[0m \u001b[1;33m\u001b[0m\u001b[0m\n\u001b[1;32m-> 1266\u001b[1;33m         \u001b[0mself\u001b[0m\u001b[1;33m.\u001b[0m\u001b[0m_validate_read_indexer\u001b[0m\u001b[1;33m(\u001b[0m\u001b[0mkeyarr\u001b[0m\u001b[1;33m,\u001b[0m \u001b[0mindexer\u001b[0m\u001b[1;33m,\u001b[0m \u001b[0maxis\u001b[0m\u001b[1;33m,\u001b[0m \u001b[0mraise_missing\u001b[0m\u001b[1;33m=\u001b[0m\u001b[0mraise_missing\u001b[0m\u001b[1;33m)\u001b[0m\u001b[1;33m\u001b[0m\u001b[1;33m\u001b[0m\u001b[0m\n\u001b[0m\u001b[0;32m   1267\u001b[0m         \u001b[1;32mreturn\u001b[0m \u001b[0mkeyarr\u001b[0m\u001b[1;33m,\u001b[0m \u001b[0mindexer\u001b[0m\u001b[1;33m\u001b[0m\u001b[1;33m\u001b[0m\u001b[0m\n\u001b[0;32m   1268\u001b[0m \u001b[1;33m\u001b[0m\u001b[0m\n",
      "\u001b[1;32mC:\\Python38\\lib\\site-packages\\pandas\\core\\indexing.py\u001b[0m in \u001b[0;36m_validate_read_indexer\u001b[1;34m(self, key, indexer, axis, raise_missing)\u001b[0m\n\u001b[0;32m   1306\u001b[0m             \u001b[1;32mif\u001b[0m \u001b[0mmissing\u001b[0m \u001b[1;33m==\u001b[0m \u001b[0mlen\u001b[0m\u001b[1;33m(\u001b[0m\u001b[0mindexer\u001b[0m\u001b[1;33m)\u001b[0m\u001b[1;33m:\u001b[0m\u001b[1;33m\u001b[0m\u001b[1;33m\u001b[0m\u001b[0m\n\u001b[0;32m   1307\u001b[0m                 \u001b[0maxis_name\u001b[0m \u001b[1;33m=\u001b[0m \u001b[0mself\u001b[0m\u001b[1;33m.\u001b[0m\u001b[0mobj\u001b[0m\u001b[1;33m.\u001b[0m\u001b[0m_get_axis_name\u001b[0m\u001b[1;33m(\u001b[0m\u001b[0maxis\u001b[0m\u001b[1;33m)\u001b[0m\u001b[1;33m\u001b[0m\u001b[1;33m\u001b[0m\u001b[0m\n\u001b[1;32m-> 1308\u001b[1;33m                 \u001b[1;32mraise\u001b[0m \u001b[0mKeyError\u001b[0m\u001b[1;33m(\u001b[0m\u001b[1;34mf\"None of [{key}] are in the [{axis_name}]\"\u001b[0m\u001b[1;33m)\u001b[0m\u001b[1;33m\u001b[0m\u001b[1;33m\u001b[0m\u001b[0m\n\u001b[0m\u001b[0;32m   1309\u001b[0m \u001b[1;33m\u001b[0m\u001b[0m\n\u001b[0;32m   1310\u001b[0m             \u001b[0max\u001b[0m \u001b[1;33m=\u001b[0m \u001b[0mself\u001b[0m\u001b[1;33m.\u001b[0m\u001b[0mobj\u001b[0m\u001b[1;33m.\u001b[0m\u001b[0m_get_axis\u001b[0m\u001b[1;33m(\u001b[0m\u001b[0maxis\u001b[0m\u001b[1;33m)\u001b[0m\u001b[1;33m\u001b[0m\u001b[1;33m\u001b[0m\u001b[0m\n",
      "\u001b[1;31mKeyError\u001b[0m: \"None of [Int64Index([     8,     15,     20,     73,     82,    140,    155,    164,\\n               178,    191,\\n            ...\\n            106383, 106392, 106402, 106457, 106497, 106499, 106524, 106601,\\n            106636, 106687],\\n           dtype='int64', name='entry', length=2848)] are in the [columns]\""
     ]
    }
   ],
   "source": [
    "import modules.physics.analysis.pairs as pairs\n",
    "\n",
    "tracks  = ft.GetTracksWithPtLt(ft.ft_zq_nTPC[0])\n",
    "PosFirstTrack = tracks[tracks.T_Q > 0].groupby('entry').first()\n",
    "PosSecTrack = tracks[tracks.T_Q > 0].groupby('entry').last()\n",
    "NegFirstTrack = tracks[tracks.T_Q < 0].groupby('entry').first()\n",
    "NegSecTrack = tracks[tracks.T_Q < 0].groupby('entry').last()\n",
    "\n",
    "## first comb\n",
    "pair1 = pairs.MakePair(PosFirstTrack, NegFirstTrack)\n",
    "pair2 = pairs.MakePair(PosSecTrack, NegSecTrack)\n",
    "## second comb\n",
    "pair3 = pairs.MakePair(PosFirstTrack, NegSecTrack)\n",
    "pair4 = pairs.MakePair(PosSecTrack, NegFirstTrack)\n",
    "\n",
    "# first comb\n",
    "m1 = kinematics.mass_events(pair1)\n",
    "m2 = kinematics.mass_events(pair2)\n",
    "## second comb\n",
    "m3 = kinematics.mass_events(pair3)\n",
    "m4 = kinematics.mass_events(pair4)\n",
    "\n",
    "\n",
    "heavy_pairs1 = pd.concat([pair1.loc[m1[m1 > m2].index], pair2.loc[m2[m2 > m1].index]])\n",
    "soft_pairs1 = pd.concat([pair1.loc[m1[m1 < m2].index], pair2.loc[m2[m2 < m1].index]])\n",
    "\n",
    "heavy_pairs2 = pd.concat([pair3.loc[m3[m3 > m4].index], pair4.loc[m4[m4 > m3].index]])\n",
    "soft_pairs2 = pd.concat([pair3.loc[m3[m3 < m4].index], pair4.loc[m4[m4 < m3].index]])\n",
    "\n",
    "\n",
    "\n",
    "#  = pd.concat([heavy_pairs1, heavy_pairs2])\n",
    "\n",
    "heavy_pairs = heavy_pairs1\n",
    "heavy_pairs\n",
    "# heavy_pairs = heavy_pairs2\n",
    "\n",
    "# M = kinematics.mass_events(heavy_pairs)\n",
    "# E = kinematics.E_events(heavy_pairs)\n",
    "# P = kinematics.P_events(heavy_pairs)\n",
    "# P0 = np.sqrt(M**2-4*(0.001*PiPlus.mass)**2)/2\n",
    "# E0 = M / 2\n",
    "# # cos_th1 = kinematics.cos_theta_events(heavy_pairs1[heavy_pairs1.T_Q > 0].groupby('entry').first(),heavy_pairs1)\n",
    "# # tan_th1 = np.sqrt(1/cos_th**2 - 1)\n",
    "\n",
    "# # theta_as = np.arcsin(P*E0*tan_th1/(E*P0*np.sqrt(1+tan_th1*E/M)))\n",
    "# # theta_ac = np.arccos(1/(np.sqrt(1+1+tan_th1*E/M)))\n",
    "# # theta = theta_as - theta_ac\n",
    "\n",
    "# _ = plt.hist(M, bins=100, range=(0.3,2),histtype='step', linewidth=2, color='blue')\n",
    "\n",
    "\n",
    "from modules.physics.analysis import pairs\n",
    "\n",
    "# LiteHeavyRecoil, LiteHeavyTotal = pairs.GetPairs(ft.GetTracksWithPtLt(ft.GetTracksWithNTPC(ft.four_tracks_zq,4)))\n",
    "LiteHeavyRecoil, LiteHeavyTotal = pairs.GetPairsMasses(ft.GetTracksWithPtLt(ft.GetTracksWithNTPC(ft.four_tracks_zq,4)))\n",
    "\n",
    "fig = pairs.ShowMassComaprison(LiteHeavyTotal[ind.index][~ind], r'$\\rho^0 \\rightarrow \\pi^+\\pi^-$   and    $\\pi^+\\pi^-$ masses')\n",
    "# # fig"
   ]
  },
  {
   "cell_type": "code",
   "execution_count": 15,
   "metadata": {
    "ExecuteTime": {
     "end_time": "2021-04-10T17:54:36.350837Z",
     "start_time": "2021-04-10T17:54:36.131899Z"
    }
   },
   "outputs": [
    {
     "output_type": "error",
     "ename": "ValueError",
     "evalue": "Cannot merge a Series without a name",
     "traceback": [
      "\u001b[1;31m---------------------------------------------------------------------------\u001b[0m",
      "\u001b[1;31mValueError\u001b[0m                                Traceback (most recent call last)",
      "\u001b[1;32m<ipython-input-15-7721c5a91b43>\u001b[0m in \u001b[0;36m<module>\u001b[1;34m\u001b[0m\n\u001b[0;32m      3\u001b[0m \u001b[0mmh2\u001b[0m \u001b[1;33m=\u001b[0m \u001b[0mkinematics\u001b[0m\u001b[1;33m.\u001b[0m\u001b[0mmass_events\u001b[0m\u001b[1;33m(\u001b[0m\u001b[0mheavy_pairs2\u001b[0m\u001b[1;33m)\u001b[0m\u001b[1;33m\u001b[0m\u001b[1;33m\u001b[0m\u001b[0m\n\u001b[0;32m      4\u001b[0m \u001b[0mms2\u001b[0m \u001b[1;33m=\u001b[0m \u001b[0mkinematics\u001b[0m\u001b[1;33m.\u001b[0m\u001b[0mmass_events\u001b[0m\u001b[1;33m(\u001b[0m\u001b[0msoft_pairs2\u001b[0m\u001b[1;33m)\u001b[0m\u001b[1;33m\u001b[0m\u001b[1;33m\u001b[0m\u001b[0m\n\u001b[1;32m----> 5\u001b[1;33m \u001b[0mpd\u001b[0m\u001b[1;33m.\u001b[0m\u001b[0mmerge\u001b[0m\u001b[1;33m(\u001b[0m\u001b[0mpd\u001b[0m\u001b[1;33m.\u001b[0m\u001b[0mconcat\u001b[0m\u001b[1;33m(\u001b[0m\u001b[1;33m[\u001b[0m\u001b[0mmh1\u001b[0m\u001b[1;33m,\u001b[0m \u001b[0mmh2\u001b[0m\u001b[1;33m]\u001b[0m\u001b[1;33m)\u001b[0m\u001b[1;33m.\u001b[0m\u001b[0msort_index\u001b[0m\u001b[1;33m(\u001b[0m\u001b[1;33m)\u001b[0m\u001b[1;33m,\u001b[0m \u001b[0mpd\u001b[0m\u001b[1;33m.\u001b[0m\u001b[0mconcat\u001b[0m\u001b[1;33m(\u001b[0m\u001b[1;33m[\u001b[0m\u001b[0mms1\u001b[0m\u001b[1;33m,\u001b[0m \u001b[0mms2\u001b[0m\u001b[1;33m]\u001b[0m\u001b[1;33m)\u001b[0m\u001b[1;33m.\u001b[0m\u001b[0msort_index\u001b[0m\u001b[1;33m(\u001b[0m\u001b[1;33m)\u001b[0m\u001b[1;33m,\u001b[0m \u001b[0mright_on\u001b[0m\u001b[1;33m=\u001b[0m\u001b[1;34m'entry'\u001b[0m\u001b[1;33m,\u001b[0m \u001b[0mleft_on\u001b[0m\u001b[1;33m=\u001b[0m\u001b[1;34m'entry'\u001b[0m\u001b[1;33m)\u001b[0m\u001b[1;33m\u001b[0m\u001b[1;33m\u001b[0m\u001b[0m\n\u001b[0m",
      "\u001b[1;32mC:\\Python38\\lib\\site-packages\\pandas\\core\\reshape\\merge.py\u001b[0m in \u001b[0;36mmerge\u001b[1;34m(left, right, how, on, left_on, right_on, left_index, right_index, sort, suffixes, copy, indicator, validate)\u001b[0m\n\u001b[0;32m     72\u001b[0m     \u001b[0mvalidate\u001b[0m\u001b[1;33m=\u001b[0m\u001b[1;32mNone\u001b[0m\u001b[1;33m,\u001b[0m\u001b[1;33m\u001b[0m\u001b[1;33m\u001b[0m\u001b[0m\n\u001b[0;32m     73\u001b[0m ) -> \"DataFrame\":\n\u001b[1;32m---> 74\u001b[1;33m     op = _MergeOperation(\n\u001b[0m\u001b[0;32m     75\u001b[0m         \u001b[0mleft\u001b[0m\u001b[1;33m,\u001b[0m\u001b[1;33m\u001b[0m\u001b[1;33m\u001b[0m\u001b[0m\n\u001b[0;32m     76\u001b[0m         \u001b[0mright\u001b[0m\u001b[1;33m,\u001b[0m\u001b[1;33m\u001b[0m\u001b[1;33m\u001b[0m\u001b[0m\n",
      "\u001b[1;32mC:\\Python38\\lib\\site-packages\\pandas\\core\\reshape\\merge.py\u001b[0m in \u001b[0;36m__init__\u001b[1;34m(self, left, right, how, on, left_on, right_on, axis, left_index, right_index, sort, suffixes, copy, indicator, validate)\u001b[0m\n\u001b[0;32m    596\u001b[0m         \u001b[0mvalidate\u001b[0m\u001b[1;33m=\u001b[0m\u001b[1;32mNone\u001b[0m\u001b[1;33m,\u001b[0m\u001b[1;33m\u001b[0m\u001b[1;33m\u001b[0m\u001b[0m\n\u001b[0;32m    597\u001b[0m     ):\n\u001b[1;32m--> 598\u001b[1;33m         \u001b[0m_left\u001b[0m \u001b[1;33m=\u001b[0m \u001b[0m_validate_operand\u001b[0m\u001b[1;33m(\u001b[0m\u001b[0mleft\u001b[0m\u001b[1;33m)\u001b[0m\u001b[1;33m\u001b[0m\u001b[1;33m\u001b[0m\u001b[0m\n\u001b[0m\u001b[0;32m    599\u001b[0m         \u001b[0m_right\u001b[0m \u001b[1;33m=\u001b[0m \u001b[0m_validate_operand\u001b[0m\u001b[1;33m(\u001b[0m\u001b[0mright\u001b[0m\u001b[1;33m)\u001b[0m\u001b[1;33m\u001b[0m\u001b[1;33m\u001b[0m\u001b[0m\n\u001b[0;32m    600\u001b[0m         \u001b[0mself\u001b[0m\u001b[1;33m.\u001b[0m\u001b[0mleft\u001b[0m \u001b[1;33m=\u001b[0m \u001b[0mself\u001b[0m\u001b[1;33m.\u001b[0m\u001b[0morig_left\u001b[0m \u001b[1;33m=\u001b[0m \u001b[0m_left\u001b[0m\u001b[1;33m\u001b[0m\u001b[1;33m\u001b[0m\u001b[0m\n",
      "\u001b[1;32mC:\\Python38\\lib\\site-packages\\pandas\\core\\reshape\\merge.py\u001b[0m in \u001b[0;36m_validate_operand\u001b[1;34m(obj)\u001b[0m\n\u001b[0;32m   2142\u001b[0m     \u001b[1;32melif\u001b[0m \u001b[0misinstance\u001b[0m\u001b[1;33m(\u001b[0m\u001b[0mobj\u001b[0m\u001b[1;33m,\u001b[0m \u001b[0mABCSeries\u001b[0m\u001b[1;33m)\u001b[0m\u001b[1;33m:\u001b[0m\u001b[1;33m\u001b[0m\u001b[1;33m\u001b[0m\u001b[0m\n\u001b[0;32m   2143\u001b[0m         \u001b[1;32mif\u001b[0m \u001b[0mobj\u001b[0m\u001b[1;33m.\u001b[0m\u001b[0mname\u001b[0m \u001b[1;32mis\u001b[0m \u001b[1;32mNone\u001b[0m\u001b[1;33m:\u001b[0m\u001b[1;33m\u001b[0m\u001b[1;33m\u001b[0m\u001b[0m\n\u001b[1;32m-> 2144\u001b[1;33m             \u001b[1;32mraise\u001b[0m \u001b[0mValueError\u001b[0m\u001b[1;33m(\u001b[0m\u001b[1;34m\"Cannot merge a Series without a name\"\u001b[0m\u001b[1;33m)\u001b[0m\u001b[1;33m\u001b[0m\u001b[1;33m\u001b[0m\u001b[0m\n\u001b[0m\u001b[0;32m   2145\u001b[0m         \u001b[1;32melse\u001b[0m\u001b[1;33m:\u001b[0m\u001b[1;33m\u001b[0m\u001b[1;33m\u001b[0m\u001b[0m\n\u001b[0;32m   2146\u001b[0m             \u001b[1;32mreturn\u001b[0m \u001b[0mobj\u001b[0m\u001b[1;33m.\u001b[0m\u001b[0mto_frame\u001b[0m\u001b[1;33m(\u001b[0m\u001b[1;33m)\u001b[0m\u001b[1;33m\u001b[0m\u001b[1;33m\u001b[0m\u001b[0m\n",
      "\u001b[1;31mValueError\u001b[0m: Cannot merge a Series without a name"
     ]
    }
   ],
   "source": [
    "mh1 = kinematics.mass_events(heavy_pairs1)\n",
    "ms1 = kinematics.mass_events(soft_pairs1)\n",
    "mh2 = kinematics.mass_events(heavy_pairs2)\n",
    "ms2 = kinematics.mass_events(soft_pairs2)\n",
    "pd.merge(pd.concat([mh1, mh2]).sort_index(), pd.concat([ms1, ms2]).sort_index(), right_on='entry', left_on='entry')"
   ]
  },
  {
   "cell_type": "markdown",
   "metadata": {},
   "source": [
    "As we can see above, for second case (all possible pairs) we've got stronger signal in comparison with light-recoil pair as it made in [STAR work](http://arxiv.org/abs/0912.0604v2). Let's build 2d distirbuition and marginals component separately:"
   ]
  },
  {
   "cell_type": "code",
   "execution_count": 16,
   "metadata": {
    "collapsed": true
   },
   "outputs": [
    {
     "output_type": "display_data",
     "data": {
      "text/plain": "Canvas(toolbar=Toolbar(toolitems=[('Home', 'Reset original view', 'home', 'home'), ('Back', 'Back to previous …",
      "application/vnd.jupyter.widget-view+json": {
       "version_major": 2,
       "version_minor": 0,
       "model_id": "58f8b31f207b406b84a6df3bfe772d73"
      }
     },
     "metadata": {}
    },
    {
     "output_type": "stream",
     "name": "stderr",
     "text": [
      "No handles with labels found to put in legend.\n"
     ]
    },
    {
     "output_type": "execute_result",
     "data": {
      "text/plain": [
       "<matplotlib.legend.Legend at 0x1879f5ffcd0>"
      ]
     },
     "metadata": {},
     "execution_count": 16
    }
   ],
   "source": [
    "import matplotlib.pyplot as plt\n",
    "from matplotlib.gridspec import GridSpec\n",
    "\n",
    "\n",
    "fig = plt.figure(figsize=(15, 7))\n",
    "\n",
    "gs = GridSpec(4,4,wspace=0.1,hspace=0.1)\n",
    "\n",
    "ax_joint = fig.add_subplot(gs[1:4,0:3])\n",
    "ax_marg_x = fig.add_subplot(gs[0,0:3])\n",
    "ax_marg_y = fig.add_subplot(gs[1:4,3])\n",
    "\n",
    "ax_joint.hist2d(LiteHeavyTotal.Recoil, LiteHeavyTotal.Lite, bins=(50, 50), range=[(0, 2), (0, 2)], cmap=plt.cm.jet)\n",
    "_ = ax_marg_y.hist(LiteHeavyTotal.Lite, bins=100, range=(0, 2), histtype='step', color='blue', linewidth=2, label='lite pair',orientation=\"horizontal\")\n",
    "_ = ax_marg_x.hist(LiteHeavyTotal.Recoil, bins=100, range=(0, 2), histtype='step', color='red', linewidth=2, label='rest pair')\n",
    "\n",
    "\n",
    "ax_joint.set_ylabel('Lightest pair Mass, GeV')\n",
    "ax_joint.set_xlabel('Recoiling pair Mass, GeV')\n",
    "\n",
    "# ax_marg_y.set_xlabel('$Mass, GeV$')\n",
    "ax_marg_y.set_xlabel('# events')\n",
    "ax_marg_x.yaxis.set_label_position(\"right\")\n",
    "ax_marg_x.xaxis.set_ticks([])\n",
    "ax_marg_x.xaxis.set_ticks_position('none')\n",
    "ax_marg_y.yaxis.set_ticks_position('none')\n",
    "ax_marg_y.yaxis.set_ticks([])\n",
    "\n",
    "# ax_marg_x.set_xlabel('$Mass, GeV$')\n",
    "ax_marg_x.set_ylabel('# events')\n",
    "ax_marg_y.xaxis.set_label_position(\"top\")\n",
    "ax_marg_x\n",
    "ax_joint.legend()\n",
    "# fig"
   ]
  },
  {
   "cell_type": "markdown",
   "metadata": {},
   "source": [
    "## Decay angle for $\\rho_0$\n",
    "\n",
    "Here we would like to study angle decay for $\\rho_0 \\rightarrow \\pi^+\\pi^-$ between the momentum of one of the pions in the rest frame of $\\rho_0$ and original(lab frame) momentum of  $\\rho_0$.\n",
    "\n",
    "For the sake of simplicity first we will create new lab system with OZ axis directed along momentum of $\\rho_0$ in lab frame.\n",
    "\n",
    "The transition from original lab frame to the new one could be obtain by two rotation:\n",
    "\n",
    "- First, around x axis:\n",
    "\n",
    "Rotation matrix for this case:\n",
    "$$\n",
    "R_{x,\\alpha}=\n",
    "\\Bigg(\n",
    "\\begin{matrix}\n",
    "1 & 0 & 0\\\\\n",
    "0 & \\cos{\\alpha} & -\\sin{\\alpha} \\\\\n",
    "0 & \\sin{\\alpha} & \\cos{\\alpha}\n",
    "\\end{matrix}\n",
    "\\Bigg)\n",
    "$$\n",
    "\n",
    "Rotation angle for x axis:\n",
    "\n",
    "$$\n",
    "\\begin{matrix}\n",
    "\\sin{\\alpha} =  \\frac{p_y}{\\sqrt{p_y^2+p_z^2}}  \\\\\n",
    "\\cos{\\alpha} =  \\frac{p_z}{\\sqrt{p_y^2+p_z^2}}  \\\\\n",
    "\\end{matrix}\n",
    "$$\n",
    "\n",
    "Now, momentum vector of $\\rho_0$ in this system will looks like\n",
    "\n",
    "$$\n",
    "\\boldsymbol{p'}=R_{x,\\alpha}\\boldsymbol{p}=\n",
    "\\Bigg(\n",
    "\\begin{matrix}\n",
    "p_x\\\\\n",
    "p_y\\cos{\\alpha} - p_z\\sin{\\alpha}\\\\\n",
    "p_y\\sin{\\alpha} + p_z\\cos{\\alpha})\n",
    "\\end{matrix}\n",
    "\\Bigg)\n",
    "$$\n",
    "\n",
    "\n",
    "- Second, around y axis:\n",
    "\n",
    "Rotation matrix for this case will looks like\n",
    "$$\n",
    "R = R_{y,-\\beta}= \n",
    "\\Bigg(\n",
    "\\begin{matrix}\n",
    "\\cos{\\beta} & 0 & -\\sin{\\beta}\\\\\n",
    "0 & 1 & 0 \\\\\n",
    "\\sin{\\beta} & 0 & \\cos{\\beta}\n",
    "\\end{matrix}\n",
    "\\Bigg)\n",
    "$$\n",
    "\n",
    "We have to apply it for already rotated vector around x axis:\n",
    "\n",
    "\n",
    "$$\n",
    "\\boldsymbol{p''} =R_{y,-\\beta}\\boldsymbol{p'} = \n",
    "\\Bigg(\n",
    "\\begin{matrix}\n",
    "\\cos{\\beta} & 0 & -\\sin{\\beta}\\\\\n",
    "0 & 1 & 0 \\\\\n",
    "\\sin{\\beta} & 0 & \\cos{\\beta}\n",
    "\\end{matrix}\n",
    "\\Bigg)\n",
    "\\Bigg(\n",
    "\\begin{matrix}\n",
    "{p'}_x\\\\\n",
    "{p'}_y\\\\\n",
    "{p'}_z\n",
    "\\end{matrix}\n",
    "\\Bigg)\n",
    " = \n",
    "\\Bigg(\n",
    "\\begin{matrix}\n",
    "{p'}_x\\cos{\\beta}-{p'}_z\\sin{\\beta}\\\\\n",
    "{p'}_y\\\\\n",
    "{p'}_x\\sin{\\beta}+{p'}_z\\cos{\\beta}\n",
    "\\end{matrix}\n",
    "\\Bigg)\n",
    "$$\n",
    "\n",
    "\n",
    "Where rotation angle based on the new rotated vector $\\boldsymbol{p'}$ coordinates:\n",
    "\n",
    "$$\n",
    "\\begin{matrix}\n",
    "\\sin{\\beta}  =  \\frac{{p'}_x}{\\sqrt{{p'_x}^2+{p'}_z^2}}  \\\\\n",
    "\\cos{\\beta}  =  \\frac{{p'}_z}{\\sqrt{{p'_x}^2+{p'}_z^2}}  \\\\\n",
    "\\end{matrix}\n",
    "$$\n",
    "\n",
    "As a result final transition looks like:\n",
    "_____________\n",
    "$$\n",
    "\\boldsymbol{p''} =\n",
    "\\Bigg(\n",
    "\\begin{matrix}\n",
    "{p'}_x\\cos{\\beta}-{p'}_z\\sin{\\beta}\\\\\n",
    "{p'}_y\\\\\n",
    "{p'}_x\\sin{\\beta}+{p'}_z\\cos{\\beta}\n",
    "\\end{matrix}\n",
    "\\Bigg)=\n",
    "\\Bigg(\n",
    "\\begin{matrix}\n",
    "p_x\\cos{\\beta}-p_y\\sin{\\alpha}\\sin{\\beta}-p_z\\cos{\\alpha}\\sin{\\beta} \\\\\n",
    "p_y\\cos{\\alpha}-p_z\\sin{\\alpha} \\\\\n",
    "p_x\\sin{\\beta}+p_y\\sin{\\alpha}\\cos{\\beta}+p_z\\cos{\\alpha}\\cos{\\beta}\n",
    "\\end{matrix}\n",
    "\\Bigg)\n",
    "$$\n",
    "where rotation angles are:\n",
    "\n",
    "\n",
    "$$\n",
    "\\begin{matrix}\n",
    "\\sin{\\alpha} =  \\frac{p_y}{\\sqrt{p_y^2+p_z^2}}  \\\\\n",
    "\\cos{\\alpha} =  \\frac{p_z}{\\sqrt{p_y^2+p_z^2}}  \\\\\n",
    "\\sin{\\beta}  =  \\frac{p_x}{\\sqrt{p_x^2+(p_y\\sin{\\alpha}+p_z\\cos{\\alpha})^2}}  \\\\\n",
    "\\cos{\\beta}  =  \\frac{p_y\\sin{\\alpha}+p_z\\cos{\\alpha}}{\\sqrt{p_x^2+(p_y\\sin{\\alpha}+p_z\\cos{\\alpha})^2}}  \\\\\n",
    "\\end{matrix}\n",
    "$$\n",
    "\n",
    "\n",
    "Now let's consider moving coordinate system with $\\rho_0$ so that OZ axis direct along $\\boldsymbol{p}_{\\rho_0}$\n",
    "\n",
    "We know components of original momentum of $\\pi^+$ in the such system and now let's boost their via Lorentz Transormation:\n",
    "\n",
    "$$\n",
    "\\begin{matrix}\n",
    "\\ {E'} =  \\gamma E - \\Gamma p_z \\\\\n",
    "\\ {p'}_x= p_x \\\\\n",
    "\\ {p'}_y= p_y \\\\\n",
    "\\ {p'}_z= \\gamma p_z - \\Gamma E \\\\\n",
    "\\end{matrix}\n",
    "$$\n",
    "\n",
    "where \n",
    "$$ \\boldsymbol{\\beta} = \\frac{\\boldsymbol{p}}{E} $$\n",
    "$$ \\gamma = \\frac{E}{m}$$\n",
    "$$ \\Gamma = \\gamma \\beta = \\frac{p}{m}$$\n",
    "\n",
    "\n",
    "$$ \\boldsymbol{\\beta} = \\frac{\\boldsymbol{p}}{E} $$\n",
    "$$ \\gamma = \\frac{1}{\\sqrt{1-\\frac{p^2}{E^2}}}$$\n",
    "\n",
    "Now the searched angle can be obtain from scalar multiplication of $\\pi^+$ momentum in the rest frame of $\\rho_0$ and momentum of $\\rho_0$ in the lab frame:\n",
    "\n",
    "$$\\cos{\\theta}=\\frac{\\boldsymbol{{p'}_{\\pi^+}}\\boldsymbol{p_{\\rho_0}}} {{p'}_{\\pi^+}p_{\\rho_0}}$$"
   ]
  },
  {
   "cell_type": "code",
   "execution_count": 60,
   "metadata": {
    "ExecuteTime": {
     "end_time": "2021-04-12T09:32:25.332440Z",
     "start_time": "2021-04-12T09:32:25.206892Z"
    }
   },
   "outputs": [
    {
     "ename": "NameError",
     "evalue": "name 'RotateToVector' is not defined",
     "output_type": "error",
     "traceback": [
      "\u001b[0;31m---------------------------------------------------------------------------\u001b[0m",
      "\u001b[0;31mNameError\u001b[0m                                 Traceback (most recent call last)",
      "\u001b[0;32m<ipython-input-60-359d0a69e6d6>\u001b[0m in \u001b[0;36m<module>\u001b[0;34m\u001b[0m\n\u001b[1;32m      4\u001b[0m \u001b[0mtracks_pi_min\u001b[0m \u001b[0;34m=\u001b[0m \u001b[0mtracks\u001b[0m\u001b[0;34m[\u001b[0m\u001b[0mtracks\u001b[0m\u001b[0;34m.\u001b[0m\u001b[0mT_Q\u001b[0m\u001b[0;34m<\u001b[0m\u001b[0;36m0\u001b[0m\u001b[0;34m]\u001b[0m\u001b[0;34m.\u001b[0m\u001b[0mreset_index\u001b[0m\u001b[0;34m(\u001b[0m\u001b[0;34m)\u001b[0m\u001b[0;34m.\u001b[0m\u001b[0mdrop\u001b[0m\u001b[0;34m(\u001b[0m\u001b[0;34m'level_1'\u001b[0m\u001b[0;34m,\u001b[0m\u001b[0maxis\u001b[0m\u001b[0;34m=\u001b[0m\u001b[0;36m1\u001b[0m\u001b[0;34m)\u001b[0m\u001b[0;34m.\u001b[0m\u001b[0mset_index\u001b[0m\u001b[0;34m(\u001b[0m\u001b[0;34m'entry'\u001b[0m\u001b[0;34m)\u001b[0m\u001b[0;34m\u001b[0m\u001b[0;34m\u001b[0m\u001b[0m\n\u001b[1;32m      5\u001b[0m \u001b[0;34m\u001b[0m\u001b[0m\n\u001b[0;32m----> 6\u001b[0;31m \u001b[0mRotateToVector\u001b[0m\u001b[0;34m(\u001b[0m\u001b[0mrho\u001b[0m\u001b[0;34m,\u001b[0m \u001b[0mfir\u001b[0m\u001b[0;34m)\u001b[0m\u001b[0;34m\u001b[0m\u001b[0;34m\u001b[0m\u001b[0m\n\u001b[0m\u001b[1;32m      7\u001b[0m \u001b[0mRotateToVector\u001b[0m\u001b[0;34m(\u001b[0m\u001b[0mrho\u001b[0m\u001b[0;34m,\u001b[0m \u001b[0msec\u001b[0m\u001b[0;34m)\u001b[0m\u001b[0;34m\u001b[0m\u001b[0;34m\u001b[0m\u001b[0m\n\u001b[1;32m      8\u001b[0m \u001b[0mRotateToVector\u001b[0m\u001b[0;34m(\u001b[0m\u001b[0mtracks_rho\u001b[0m\u001b[0;34m,\u001b[0m \u001b[0mtracks_pi_plus\u001b[0m\u001b[0;34m)\u001b[0m\u001b[0;34m\u001b[0m\u001b[0;34m\u001b[0m\u001b[0m\n",
      "\u001b[0;31mNameError\u001b[0m: name 'RotateToVector' is not defined"
     ]
    }
   ],
   "source": [
    "%matplotlib widget\n",
    "\n",
    "tracks = heavy_pairs1[['T_Px', 'T_Py','T_Pz', 'T_Q']].sort_index()\n",
    "tracks_rho = tracks.groupby('entry').sum()\n",
    "tracks_pi_plus = tracks[tracks.T_Q>0].reset_index().drop('level_1',axis=1).set_index('entry')\n",
    "tracks_pi_min = tracks[tracks.T_Q<0].reset_index().drop('level_1',axis=1).set_index('entry')\n",
    "\n",
    "RotateToVector(rho, fir)\n",
    "RotateToVector(rho, sec)\n",
    "RotateToVector(tracks_rho, tracks_pi_plus)\n",
    "RotateToVector(tracks_rho, tracks_pi_min)\n",
    "BoostToSystem(rho.E/(0.001*Rho0.mass),rho.l/(0.001*Rho0.mass), fir)\n",
    "BoostToSystem(rho.E/(0.001*Rho0.mass),rho.l/(0.001*Rho0.mass), sec)\n",
    "BoostToSystem(tracks_rho.E/(0.001*Rho0.mass),tracks_rho.l/(0.001*Rho0.mass), tracks_pi_min)\n",
    "BoostToSystem(tracks_rho.E/(0.001*Rho0.mass),tracks_rho.l/(0.001*Rho0.mass), tracks_pi_plus)\n",
    "\n",
    "cost_lrnz_plus = CosTheta(tracks_pi_plus[['prx', 'pry', 'brpz']],tracks_rho[['T_Px', 'T_Py', 'T_Pz']])\n",
    "cost_lrnz_pvn = CosTheta(fir[['prx', 'pry', 'brpz']],rho[['T_Px', 'T_Py', 'T_Pz']])\n",
    "cost_pvn = CosTheta(fir[['T_Px', 'T_Py', 'T_Pz']],rho[['T_Px', 'T_Py', 'T_Pz']])\n",
    "cost = CosTheta(tracks_pi_plus[['T_Px', 'T_Py', 'T_Pz']],tracks_rho[['T_Px', 'T_Py', 'T_Pz']])\n",
    "\n",
    "\n",
    "lp_b_r_pi_plus = np.sqrt(tracks_pi_plus.prx**2 + tracks_pi_plus.pry**2 + tracks_pi_plus.brpz**2)\n",
    "\n",
    "tracks_pi_plus['cos_theta'] = (tracks_pi_plus.prx*tracks_rho.T_Px + tracks_pi_plus.pry*tracks_rho.T_Py + tracks_pi_plus.brpz*tracks_rho.T_Pz) / (lp_b_r_pi_plus*tracks_rho.l)\n",
    "\n",
    "_ = plt.hist(tracks_pi_plus.cos_theta,bins=100,range=(-1,1),histtype='step', linewidth=2, color='red', label=r\"$\\cos{{\\theta}}$\")\n",
    "\n",
    "tracks_pi_plus['cost_orig'] = (tracks_pi_plus.T_Px*tracks_rho.T_Px + tracks_pi_plus.T_Py*tracks_rho.T_Py + tracks_pi_plus.T_Pz*tracks_rho.T_Pz) / (tracks_pi_plus.lpr * tracks_rho.l)\n",
    "\n",
    "_ = plt.hist(tracks_pi_plus.cost_orig,bins=100,range=(-1,1),histtype='step', linewidth=2, color='black', label=r\"$\\cos{{\\theta'}}$\")\n",
    "_ = plt.legend()\n"
   ]
  },
  {
   "cell_type": "markdown",
   "metadata": {},
   "source": [
    "## Cross section\n",
    "\n",
    "Let's see to cross section of my events.\n",
    "\n",
    "For this we should take luminosity of runs.\n",
    "\n",
    "> Unfortunately file that I have to use for getting luminosity have a reference to special class AliTriggerInfo and moreover it packed into TObjArray, so I can't read it via uproot4. This is the reason why I used pure root again. [Here is the script](https://github.com/bdrum/cern-physics/blob/master/root-cpp/RhoPrime/macro/lumi.C) that I used.\n",
    "\n",
    "Then let's see how much events do we have in each run.\n",
    "\n",
    "$$L = \\frac{1}{\\sigma} \\frac{\\delta N}{\\delta t}$$, this means that \n",
    "\n",
    "$$\\sigma \\approx \\frac{N}{L}$$\n",
    "\n",
    "Cross section of phenomena should be flat and independent from runs. \n",
    "\n",
    "Let's check it:"
   ]
  },
  {
   "cell_type": "code",
   "execution_count": 17,
   "metadata": {
    "ExecuteTime": {
     "end_time": "2021-04-10T11:33:32.674510Z",
     "start_time": "2021-04-10T11:33:32.614362Z"
    }
   },
   "outputs": [
    {
     "output_type": "execute_result",
     "data": {
      "text/plain": [
       "count    119.000000\n",
       "mean       4.262147\n",
       "std        1.276029\n",
       "min        0.892268\n",
       "25%        3.358066\n",
       "50%        4.235248\n",
       "75%        4.930635\n",
       "max        8.199460\n",
       "Name: sigma, dtype: float64"
      ]
     },
     "metadata": {},
     "execution_count": 17
    }
   ],
   "source": [
    "from FourTracks.analysis.crossection import GetCrossSection \n",
    "df_cs = GetCrossSection(data.orig_events.RunNum, kinematics.GetTracksWithPtCut(four_tracks_zq_after_cuts))\n",
    "df_cs['sigma'] = df_cs.nEvFT / (df_cs.Lumi * 1000)\n",
    "\n",
    "pdg_runs = [245145, 246148, 246217, 245963, 246424, 245683, 246036, \n",
    "        246487, 246808, 246804, 246271, 245146, 245151, 245152,\n",
    "        245232, 245259, 245345, 245346, 245347, 245349, 245353,\n",
    "        245396, 245397, 245401, 245407, 245409, 245410, 245411,\n",
    "        245441, 245446, 245450, 245453, 245454, 245496, 245497,\n",
    "        245501, 245504, 245505, 245507, 245540, 245542, 245543]\n",
    "\n",
    "df_cs['is_dpg']\n",
    "\n",
    "df_cs.sigma.describe()\n",
    "\n"
   ]
  },
  {
   "cell_type": "code",
   "execution_count": 18,
   "metadata": {
    "ExecuteTime": {
     "end_time": "2021-04-10T11:33:40.698893Z",
     "start_time": "2021-04-10T11:33:40.528836Z"
    }
   },
   "outputs": [
    {
     "output_type": "display_data",
     "data": {
      "text/plain": "Canvas(toolbar=Toolbar(toolitems=[('Home', 'Reset original view', 'home', 'home'), ('Back', 'Back to previous …",
      "application/vnd.jupyter.widget-view+json": {
       "version_major": 2,
       "version_minor": 0,
       "model_id": "053d1b20161446779cef0ef4c7a7645b"
      }
     },
     "metadata": {}
    },
    {
     "output_type": "execute_result",
     "data": {
      "text/plain": [
       "<matplotlib.legend.Legend at 0x1b597abebe0>"
      ]
     },
     "metadata": {},
     "execution_count": 18
    }
   ],
   "source": [
    "import scipy.stats\n",
    "%matplotlib widget\n",
    "fig = plt.figure(figsize=(25, 7))\n",
    "# fig.suptitle(\"visible cross section\")\n",
    "ax = fig.add_subplot()\n",
    "bins = list(df_cs.run)\n",
    "cnts = list(df_cs.sigma)\n",
    "errs = np.sqrt(df_cs.nEvFT)/(df_cs.Lumi * 1000)\n",
    "x = np.arange(len(bins))\n",
    "width = 0.15\n",
    "ax.errorbar(x - width/2, cnts, yerr=errs, fmt='o', label=r'$\\sigma \\approx \\frac{N_{(\\pi^+\\pi^-\\pi^+\\pi^-)_{ev}}}{L}$')\n",
    "ax.set_xticks(x)\n",
    "ax.set_xticklabels(bins, rotation=90, rotation_mode=\"anchor\", ha=\"right\", fontsize=12)\n",
    "ax.set_ylabel(r'$\\sigma$',fontsize=14)\n",
    "ax.set_ylim(0,10)\n",
    "\n",
    "chi2,p = scipy.stats.chisquare(cnts, np.tile(np.average(cnts),len(cnts)))\n",
    "ax.text(108,8,r\"$\\frac{Chi^2}{NDf} = \\frac{189.388}{118}$\", size=20)\n",
    "ax.text(108,7,r\"$p0 = 4.4542 \\pm 0.11613$\", size=16)\n",
    "ax.legend(prop={'size': 15})\n",
    "ax.axhline(y=np.average(cnts), color='r', linestyle='-')\n",
    "ax.legend()\n",
    "# fig"
   ]
  },
  {
   "cell_type": "code",
   "execution_count": 19,
   "metadata": {},
   "outputs": [
    {
     "output_type": "execute_result",
     "data": {
      "text/plain": [
       "        run  nEvOrig  nEvFT      Lumi     sigma\n",
       "0    245145      173      8  0.001436  5.572544\n",
       "1    245146      204     12  0.001850  6.486066\n",
       "2    245231       65      2  0.000601  3.325037\n",
       "3    245232      121      3  0.001037  2.892821\n",
       "4    245259       71      4  0.000672  5.954800\n",
       "..      ...      ...    ...       ...       ...\n",
       "114  246982      186      4  0.001233  3.243173\n",
       "115  246984     2256     64  0.014890  4.298302\n",
       "116  246989     2930    106  0.021607  4.905795\n",
       "117  246991      460     15  0.003223  4.654165\n",
       "118  246994     1678     53  0.012382  4.280372\n",
       "\n",
       "[119 rows x 5 columns]"
      ],
      "text/html": "<div>\n<style scoped>\n    .dataframe tbody tr th:only-of-type {\n        vertical-align: middle;\n    }\n\n    .dataframe tbody tr th {\n        vertical-align: top;\n    }\n\n    .dataframe thead th {\n        text-align: right;\n    }\n</style>\n<table border=\"1\" class=\"dataframe\">\n  <thead>\n    <tr style=\"text-align: right;\">\n      <th></th>\n      <th>run</th>\n      <th>nEvOrig</th>\n      <th>nEvFT</th>\n      <th>Lumi</th>\n      <th>sigma</th>\n    </tr>\n  </thead>\n  <tbody>\n    <tr>\n      <th>0</th>\n      <td>245145</td>\n      <td>173</td>\n      <td>8</td>\n      <td>0.001436</td>\n      <td>5.572544</td>\n    </tr>\n    <tr>\n      <th>1</th>\n      <td>245146</td>\n      <td>204</td>\n      <td>12</td>\n      <td>0.001850</td>\n      <td>6.486066</td>\n    </tr>\n    <tr>\n      <th>2</th>\n      <td>245231</td>\n      <td>65</td>\n      <td>2</td>\n      <td>0.000601</td>\n      <td>3.325037</td>\n    </tr>\n    <tr>\n      <th>3</th>\n      <td>245232</td>\n      <td>121</td>\n      <td>3</td>\n      <td>0.001037</td>\n      <td>2.892821</td>\n    </tr>\n    <tr>\n      <th>4</th>\n      <td>245259</td>\n      <td>71</td>\n      <td>4</td>\n      <td>0.000672</td>\n      <td>5.954800</td>\n    </tr>\n    <tr>\n      <th>...</th>\n      <td>...</td>\n      <td>...</td>\n      <td>...</td>\n      <td>...</td>\n      <td>...</td>\n    </tr>\n    <tr>\n      <th>114</th>\n      <td>246982</td>\n      <td>186</td>\n      <td>4</td>\n      <td>0.001233</td>\n      <td>3.243173</td>\n    </tr>\n    <tr>\n      <th>115</th>\n      <td>246984</td>\n      <td>2256</td>\n      <td>64</td>\n      <td>0.014890</td>\n      <td>4.298302</td>\n    </tr>\n    <tr>\n      <th>116</th>\n      <td>246989</td>\n      <td>2930</td>\n      <td>106</td>\n      <td>0.021607</td>\n      <td>4.905795</td>\n    </tr>\n    <tr>\n      <th>117</th>\n      <td>246991</td>\n      <td>460</td>\n      <td>15</td>\n      <td>0.003223</td>\n      <td>4.654165</td>\n    </tr>\n    <tr>\n      <th>118</th>\n      <td>246994</td>\n      <td>1678</td>\n      <td>53</td>\n      <td>0.012382</td>\n      <td>4.280372</td>\n    </tr>\n  </tbody>\n</table>\n<p>119 rows × 5 columns</p>\n</div>"
     },
     "metadata": {},
     "execution_count": 19
    }
   ],
   "source": []
  },
  {
   "cell_type": "markdown",
   "metadata": {},
   "source": [
    "## Other decays\n",
    "\n",
    "In PDG I've seen also other interesting modes for $\\rho'$:\n",
    "\n",
    "- 1. $\\rho' \\rightarrow \\eta_0 \\rho_0$ | ?\n",
    "   - 1.1. $\\rho_0 \\rightarrow 4 \\pi$ | $2*10^{-5}\\%$\n",
    "   - 1.2. $\\rho_0 \\rightarrow \\pi^+ \\pi^-$ | $10^{-2}\\%$\n",
    "   - 1.3. $\\eta_0' \\rightarrow  \\pi^+ \\pi^- \\gamma$ | $4\\%$\n",
    "   - 1.4. $\\eta_0' \\rightarrow  \\pi^+ \\pi^- \\pi^0$ | $23\\%$\n",
    "- 2. $\\rho' \\rightarrow 4 \\pi$ | ?\n",
    "\n",
    "What about $\\rho' \\rightarrow \\rho_0 \\rho_0$ is it possible?"
   ]
  },
  {
   "cell_type": "markdown",
   "metadata": {},
   "source": [
    "## $ \\downarrow \\downarrow \\downarrow \\downarrow$ DEBUG AND INVESTIGATIONS $ \\downarrow \\downarrow \\downarrow \\downarrow$\n"
   ]
  },
  {
   "cell_type": "code",
   "execution_count": 603,
   "metadata": {},
   "outputs": [
    {
     "output_type": "stream",
     "name": "stderr",
     "text": [
      "C:\\Python38\\lib\\site-packages\\pandas\\core\\computation\\expressions.py:204: UserWarning: evaluating in Python space because the '*' operator is not supported by numexpr for the bool dtype, use '&' instead\n  warnings.warn(\n"
     ]
    },
    {
     "output_type": "display_data",
     "data": {
      "text/plain": "Canvas(toolbar=Toolbar(toolitems=[('Home', 'Reset original view', 'home', 'home'), ('Back', 'Back to previous …",
      "application/vnd.jupyter.widget-view+json": {
       "version_major": 2,
       "version_minor": 0,
       "model_id": "fa2c183c300f4a4a9c7b5c20b7cba1e9"
      }
     },
     "metadata": {}
    }
   ],
   "source": [
    "%matplotlib widget \n",
    "nTPC=2\n",
    "mass = ft_zq_Mass_nTpc_triggered[nTPC]\n",
    "v1 = 3000\n",
    "v2 = np.inf\n",
    "ind = (pd.concat([ft.orig_events.ZNAenergy[mass.index], ft.orig_events.ZNCenergy[mass.index]]) > v1).sort_index().groupby('entry').sum() >= 1\n",
    "ind *= (pd.concat([ft.orig_events.ZNAenergy[mass.index], ft.orig_events.ZNCenergy[mass.index]]) <= v2).sort_index().groupby('entry').sum() >= 1\n",
    "_ = plt.hist(mass[ind.index][~ind], bins=100, range=(0.5, 3), histtype='step', color='black', linewidth=1.2, label='ZDC enrgy <= 3 TeV')\n",
    "# _ = plt.hist(mass[ind.index][ind], bins=25, range=(0.5, 3), histtype='step', color='red', linewidth=1.2, label='ZDC enrgy > 3 TeV')\n",
    "plt.xlabel(r'$p_t$')\n",
    "plt.ylabel('events')\n",
    "# plt.suptitle(f'4tracks event $p_t$ when {v1/1000}TeV < ZDC energy <= {v2}')\n",
    "_ = plt.legend()"
   ]
  },
  {
   "cell_type": "markdown",
   "metadata": {},
   "source": [
    "Make pair of tracks more comprehensive "
   ]
  },
  {
   "cell_type": "code",
   "execution_count": 591,
   "metadata": {},
   "outputs": [
    {
     "output_type": "execute_result",
     "data": {
      "text/plain": [
       "Index(['RunNum', 'PeriodNumber', 'OrbitNumber', 'BunchCrossNumber', 'Mass',\n",
       "       'Pt', 'Q', 'Rapidity', 'Phi', 'ZNAenergy', 'ZNCenergy', 'ZPAenergy',\n",
       "       'ZPCenergy', 'VtxX', 'VtxY', 'VtxZ', 'VtxContrib', 'VtxChi2', 'VtxNDF',\n",
       "       'SpdVtxX', 'SpdVtxY', 'SpdVtxZ', 'SpdVtxContrib', 'V0Adecision',\n",
       "       'V0Cdecision', 'ADAdecision', 'ADCdecision', 'V0Afired', 'V0Cfired',\n",
       "       'ADAfired', 'ADCfired', 'STPfired', 'SMBfired', 'SM2fired', 'SH1fired',\n",
       "       'OM2fired', 'OMUfired', 'IsTriggered', 'nTracklets', 'nTracks',\n",
       "       'FORChip'],\n",
       "      dtype='object')"
      ]
     },
     "metadata": {},
     "execution_count": 591
    }
   ],
   "source": [
    "# ft.orig_events.ZNAenergy\n",
    "ft.orig_events[]"
   ]
  },
  {
   "cell_type": "code",
   "execution_count": null,
   "metadata": {},
   "outputs": [],
   "source": []
  },
  {
   "cell_type": "code",
   "execution_count": 58,
   "metadata": {
    "ExecuteTime": {
     "end_time": "2021-04-12T09:32:10.562319Z",
     "start_time": "2021-04-12T09:32:10.448082Z"
    },
    "scrolled": false
   },
   "outputs": [
    {
     "ename": "NameError",
     "evalue": "name 'pvn_df' is not defined",
     "output_type": "error",
     "traceback": [
      "\u001b[0;31m---------------------------------------------------------------------------\u001b[0m",
      "\u001b[0;31mNameError\u001b[0m                                 Traceback (most recent call last)",
      "\u001b[0;32m<ipython-input-58-8d40bec92fb1>\u001b[0m in \u001b[0;36m<module>\u001b[0;34m\u001b[0m\n\u001b[1;32m      2\u001b[0m \u001b[0;31m# pvn_df = pvn_df.rename(columns={'px': 'T_Px', 'py' : 'T_Py', 'pz' : 'T_Pz'})\u001b[0m\u001b[0;34m\u001b[0m\u001b[0;34m\u001b[0m\u001b[0;34m\u001b[0m\u001b[0m\n\u001b[1;32m      3\u001b[0m \u001b[0;31m# pvn_df = pvn_df.apply(pd.to_numeric)\u001b[0m\u001b[0;34m\u001b[0m\u001b[0;34m\u001b[0m\u001b[0;34m\u001b[0m\u001b[0m\n\u001b[0;32m----> 4\u001b[0;31m \u001b[0mfir\u001b[0m \u001b[0;34m=\u001b[0m \u001b[0mpvn_df\u001b[0m\u001b[0;34m[\u001b[0m\u001b[0;34m:\u001b[0m\u001b[0;34m:\u001b[0m\u001b[0;36m2\u001b[0m\u001b[0;34m]\u001b[0m\u001b[0;34m.\u001b[0m\u001b[0mreset_index\u001b[0m\u001b[0;34m(\u001b[0m\u001b[0;34m)\u001b[0m\u001b[0;34m\u001b[0m\u001b[0;34m\u001b[0m\u001b[0m\n\u001b[0m\u001b[1;32m      5\u001b[0m \u001b[0msec\u001b[0m \u001b[0;34m=\u001b[0m \u001b[0mpvn_df\u001b[0m\u001b[0;34m[\u001b[0m\u001b[0;36m1\u001b[0m\u001b[0;34m:\u001b[0m\u001b[0;34m:\u001b[0m\u001b[0;36m2\u001b[0m\u001b[0;34m]\u001b[0m\u001b[0;34m.\u001b[0m\u001b[0mreset_index\u001b[0m\u001b[0;34m(\u001b[0m\u001b[0;34m)\u001b[0m\u001b[0;34m\u001b[0m\u001b[0;34m\u001b[0m\u001b[0m\n\u001b[1;32m      6\u001b[0m \u001b[0mrho\u001b[0m \u001b[0;34m=\u001b[0m \u001b[0mfir\u001b[0m \u001b[0;34m+\u001b[0m \u001b[0msec\u001b[0m\u001b[0;34m\u001b[0m\u001b[0;34m\u001b[0m\u001b[0m\n",
      "\u001b[0;31mNameError\u001b[0m: name 'pvn_df' is not defined"
     ]
    }
   ],
   "source": [
    "# pvn_df = pd.read_csv(r'D:/GoogleDrive/Job/cern/Alice/analysis/data/log.csv', delimiter='\\t')\n",
    "# pvn_df = pvn_df.rename(columns={'px': 'T_Px', 'py' : 'T_Py', 'pz' : 'T_Pz'})\n",
    "# pvn_df = pvn_df.apply(pd.to_numeric)\n",
    "fir = pvn_df[::2].reset_index()\n",
    "sec = pvn_df[1::2].reset_index()\n",
    "rho = fir + sec\n",
    "\n",
    "rho['l'] = np.sqrt(rho.T_Px**2+rho.T_Py**2+rho.T_Pz**2)\n",
    "rho['E'] = np.sqrt(rho.T_Px**2 + rho.T_Py**2 + rho.T_Pz**2 + (0.001*Rho0.mass)**2)\n",
    "p = (fir + sec).T_Px**2 + (fir + sec).T_Py**2 + (fir + sec).T_Pz**2\n",
    "e1 = np.sqrt(fir.T_Px**2 + fir.T_Py**2 + fir.T_Pz**2 + (0.001*PiPlus.mass)**2)\n",
    "e2 = np.sqrt(sec.T_Px**2 + sec.T_Py**2 + sec.T_Pz**2 + (0.001*PiPlus.mass)**2)\n",
    "e = e1 + e2\n",
    "m = np.sqrt(e**2 - p)\n",
    "\n",
    "_ = plt.hist(m, bins=100,range=(0.3,1),histtype='step', linewidth=2, color='black', label=r\"m_{\\rho}$\")\n"
   ]
  },
  {
   "cell_type": "code",
   "execution_count": 37,
   "metadata": {
    "ExecuteTime": {
     "end_time": "2021-04-10T13:24:14.551463Z",
     "start_time": "2021-04-10T13:24:03.159242Z"
    }
   },
   "outputs": [],
   "source": [
    "df = heavy_pairs1[['T_Px', 'T_Py','T_Pz', 'T_Q']].sort_index()\n",
    "with open(r'D:\\GoogleDrive\\Job\\cern\\Alice\\analysis\\data\\4pi_rho.csv', 'w') as f:\n",
    "    f.write('T_Px\\tT_Py\\tT_Pz\\tT_Q\\n')\n",
    "    for i in range(len(df)):\n",
    "        f.write(f'{df.iloc[i].T_Px}\\t{df.iloc[i].T_Py}\\t{df.iloc[i].T_Pz}\\t{df.iloc[i].T_Q}\\n')\n",
    "        if (i % 2 != 0):\n",
    "            f.write('\\n')\n"
   ]
  },
  {
   "cell_type": "code",
   "execution_count": null,
   "metadata": {},
   "outputs": [],
   "source": []
  }
 ],
 "metadata": {
  "celltoolbar": "Initialization Cell",
  "hide_input": false,
  "kernelspec": {
   "name": "python395jvsc74a57bd0d6d7d6c88171c3962a5640c138e63f39fe52fc6bfd80982fe895d2d56fb2f4bf",
   "display_name": "Python 3.9.5 64-bit ('hep': conda)"
  },
  "language_info": {
   "codemirror_mode": {
    "name": "ipython",
    "version": 3
   },
   "file_extension": ".py",
   "mimetype": "text/x-python",
   "name": "python",
   "nbconvert_exporter": "python",
   "pygments_lexer": "ipython3",
   "version": "3.9.5"
  },
  "latex_envs": {
   "LaTeX_envs_menu_present": true,
   "autoclose": false,
   "autocomplete": true,
   "bibliofile": "biblio.bib",
   "cite_by": "apalike",
   "current_citInitial": 1,
   "eqLabelWithNumbers": true,
   "eqNumInitial": 1,
   "hotkeys": {
    "equation": "Ctrl-E",
    "itemize": "Ctrl-I"
   },
   "labels_anchors": false,
   "latex_user_defs": false,
   "report_style_numbering": false,
   "user_envs_cfg": false
  },
  "metadata": {
   "interpreter": {
    "hash": "2db524e06e9f5f4ffedc911c917cb75e12dbc923643829bf417064a77eb14d37"
   }
  },
  "toc": {
   "base_numbering": 1,
   "nav_menu": {
    "height": "336px",
    "width": "290px"
   },
   "number_sections": true,
   "sideBar": true,
   "skip_h1_title": false,
   "title_cell": "Table of Contents",
   "title_sidebar": "Contents",
   "toc_cell": false,
   "toc_position": {},
   "toc_section_display": true,
   "toc_window_display": false
  },
  "varInspector": {
   "cols": {
    "lenName": 16,
    "lenType": 16,
    "lenVar": 40
   },
   "kernels_config": {
    "python": {
     "delete_cmd_postfix": "",
     "delete_cmd_prefix": "del ",
     "library": "var_list.py",
     "varRefreshCmd": "print(var_dic_list())"
    },
    "r": {
     "delete_cmd_postfix": ") ",
     "delete_cmd_prefix": "rm(",
     "library": "var_list.r",
     "varRefreshCmd": "cat(var_dic_list()) "
    }
   },
   "position": {
    "height": "503.667px",
    "left": "1269px",
    "right": "20px",
    "top": "120px",
    "width": "355px"
   },
   "types_to_exclude": [
    "module",
    "function",
    "builtin_function_or_method",
    "instance",
    "_Feature"
   ],
   "window_display": false
  }
 },
 "nbformat": 4,
 "nbformat_minor": 4
}