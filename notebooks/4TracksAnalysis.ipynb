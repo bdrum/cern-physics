{
 "cells": [
  {
   "cell_type": "markdown",
   "metadata": {},
   "source": [
    "# $\\rho'$ analysis notes\n",
    "\n",
    "## GIRD Selection criteria:\n",
    "\n",
    "These criteria were applied on the selection stage(GRID):\n",
    "\n",
    "Events:\n",
    "\n",
    "    * >= 4 tracks\n",
    "    \n",
    "Tracks:\n",
    "\n",
    "    * Has Point On inner or outer ITS Layer\n",
    "    * Not ITS SA\n",
    "    * |dca1| < 3 && |dca0| < 3;\n",
    "\n",
    "### Data info"
   ]
  },
  {
   "cell_type": "code",
   "execution_count": 8,
   "metadata": {},
   "outputs": [
    {
     "output_type": "stream",
     "name": "stdout",
     "text": [
      "name                 | typename                 | interpretation                \n---------------------+--------------------------+-------------------------------\nRunNum               | int32_t                  | AsDtype('>i4')\nPeriodNumber         | uint32_t                 | AsDtype('>u4')\nOrbitNumber          | uint32_t                 | AsDtype('>u4')\nBunchCrossNumber     | uint16_t                 | AsDtype('>u2')\nMass                 | float                    | AsDtype('>f4')\nPt                   | float                    | AsDtype('>f4')\nQ                    | int16_t                  | AsDtype('>i2')\nRapidity             | float                    | AsDtype('>f4')\nPhi                  | float                    | AsDtype('>f4')\nZNAenergy            | float                    | AsDtype('>f4')\nZNCenergy            | float                    | AsDtype('>f4')\nZPAenergy            | float                    | AsDtype('>f4')\nZPCenergy            | float                    | AsDtype('>f4')\nVtxX                 | float                    | AsDtype('>f4')\nVtxY                 | float                    | AsDtype('>f4')\nVtxZ                 | float                    | AsDtype('>f4')\nVtxContrib           | int32_t                  | AsDtype('>i4')\nVtxChi2              | float                    | AsDtype('>f4')\nVtxNDF               | float                    | AsDtype('>f4')\nSpdVtxX              | float                    | AsDtype('>f4')\nSpdVtxY              | float                    | AsDtype('>f4')\nSpdVtxZ              | float                    | AsDtype('>f4')\nSpdVtxContrib        | int32_t                  | AsDtype('>i4')\nV0Adecision          | int32_t                  | AsDtype('>i4')\nV0Cdecision          | int32_t                  | AsDtype('>i4')\nADAdecision          | int32_t                  | AsDtype('>i4')\nADCdecision          | int32_t                  | AsDtype('>i4')\nUBAfired             | bool                     | AsDtype('bool')\nUBCfired             | bool                     | AsDtype('bool')\nVBAfired             | bool                     | AsDtype('bool')\nVBCfired             | bool                     | AsDtype('bool')\nnTracklets           | int32_t                  | AsDtype('>i4')\nnTracks              | int32_t                  | AsDtype('>i4')\nT_NumberOfSigmaIT... | std::vector<float>       | AsJagged(AsDtype('>f4'), he...\nT_NumberOfSigmaIT... | std::vector<float>       | AsJagged(AsDtype('>f4'), he...\nT_NumberOfSigmaTP... | std::vector<float>       | AsJagged(AsDtype('>f4'), he...\nT_NumberOfSigmaTP... | std::vector<float>       | AsJagged(AsDtype('>f4'), he...\nTPCsignal            | std::vector<int32_t>     | AsJagged(AsDtype('>i4'), he...\nT_P                  | std::vector<float>       | AsJagged(AsDtype('>f4'), he...\nT_Eta                | std::vector<float>       | AsJagged(AsDtype('>f4'), he...\nT_Phi                | std::vector<float>       | AsJagged(AsDtype('>f4'), he...\nT_Px                 | std::vector<float>       | AsJagged(AsDtype('>f4'), he...\nT_Py                 | std::vector<float>       | AsJagged(AsDtype('>f4'), he...\nT_Pz                 | std::vector<float>       | AsJagged(AsDtype('>f4'), he...\nT_Q                  | std::vector<int16_t>     | AsJagged(AsDtype('>i2'), he...\nT_HasPointOnITSLa... | std::vector<bool>        | AsJagged(AsDtype('bool'), h...\nT_HasPointOnITSLa... | std::vector<bool>        | AsJagged(AsDtype('bool'), h...\nT_ITSModuleInner     | std::vector<int32_t>     | AsJagged(AsDtype('>i4'), he...\nT_ITSModuleOuter     | std::vector<int32_t>     | AsJagged(AsDtype('>i4'), he...\nT_TPCNCls            | std::vector<int32_t>     | AsJagged(AsDtype('>i4'), he...\nT_ITSNCls            | std::vector<int32_t>     | AsJagged(AsDtype('>i4'), he...\nT_Dca0               | std::vector<float>       | AsJagged(AsDtype('>f4'), he...\nT_Dca1               | std::vector<float>       | AsJagged(AsDtype('>f4'), he...\nT_TPCRefit           | std::vector<bool>        | AsJagged(AsDtype('bool'), h...\nT_ITSRefit           | std::vector<bool>        | AsJagged(AsDtype('bool'), h...\nTLets_Theta          | std::vector<float>       | AsJagged(AsDtype('>f4'), he...\nTLets_Phi            | std::vector<float>       | AsJagged(AsDtype('>f4'), he...\nT_ITSSensorNum       | std::vector<int32_t>     | AsJagged(AsDtype('>i4'), he...\n\nTree name: events\nTree title: Selected events for 4proungs analysis\nEvents number: 114648\nTracks number 4610890\n"
     ]
    }
   ],
   "source": [
    "from modules.FourTrackEvents import *\n",
    "\n",
    "ccup9_2015_file = r'D:\\GoogleDrive\\Job\\cern\\Alice\\analysis\\data\\RhoPrime\\2015\\4Prongs2015o.root'\n",
    "\n",
    "tree_name = '4Prongs/events'\n",
    "# dfs.loc[0] # get dataframe part with entry = 0\n",
    "\n",
    "branches = ['T_Px', 'T_Py', 'T_Pz',  'T_Q', 'T_NumberOfSigmaTPCPion', 'T_TPCRefit', 'T_TPCNCls', 'T_Phi', 'T_Eta']\n",
    "\n",
    "ft = FourTrackEvents(ccup9_2015_file,tree_name,branches)\n",
    "\n",
    "ft.orig_events.show()\n",
    "\n",
    "print()\n",
    "print('Tree name:', ft.orig_events.name)\n",
    "print('Tree title:', ft.orig_events.title)\n",
    "print('Events number:', ft.orig_tracks.reset_index().entry.max())\n",
    "print('Tracks number', len(ft.orig_tracks))"
   ]
  },
  {
   "source": [
    "## Analysis criteria\n",
    "\n",
    "Let's take from input date only events with 4 tracks and zero total charge.\n",
    "Also prepare mask for tracks that satisfy standatd criteria contains further conditions for the TPC:\n",
    "\n",
    "* |NumberOfSigmaTPCPion| < 3\n",
    "* Number of TPC Clusters > 50\n",
    "* TPCRefit\n"
   ],
   "cell_type": "markdown",
   "metadata": {}
  },
  {
   "source": [
    "## Low energy tracks and TPC\n",
    "\n",
    "There is an idea about that tracks with small energies (low pt) not able to reach TPC.\n",
    "We can try to estimate influence of TPC criteria to the statistics.\n",
    "\n",
    "Let's see what happend in case of we will plot pt for any combination of TPC tracks:\n",
    "\n",
    "### Event with std criteria\n",
    "\n",
    "|detector|track1|track2|track3|track4|\n",
    "|:--:|:--:|:--:|:--:|:--:|\n",
    "|ITS|+|+|+|+|\n",
    "|TPC|+|+|+|+|\n",
    "\n",
    "### Let's start to take also such combinations to the sample:\n",
    "\n",
    "|detector|track1|track2|track3|track4|\n",
    "|:--:|:--:|:--:|:--:|:--:|\n",
    "|ITS|+|+|+|+|\n",
    "|TPC|+|+|+|-|\n",
    "\n",
    "|detector|track1|track2|track3|track4|\n",
    "|:--:|:--:|:--:|:--:|:--:|\n",
    "|ITS|+|+|+|+|\n",
    "|TPC|+|+|-|-|\n",
    "\n",
    "|detector|track1|track2|track3|track4|\n",
    "|:--:|:--:|:--:|:--:|:--:|\n",
    "|ITS|+|+|+|+|\n",
    "|TPC|+|-|-|-|\n",
    "\n",
    "|detector|track1|track2|track3|track4|\n",
    "|:--:|:--:|:--:|:--:|:--:|\n",
    "|ITS|+|+|+|+|\n",
    "|TPC|-|-|-|-|\n",
    "\n",
    "We can see statistics gain ration equal 2.5 between std criteria and total combinations:\n"
   ],
   "cell_type": "markdown",
   "metadata": {}
  },
  {
   "cell_type": "code",
   "execution_count": 12,
   "metadata": {},
   "outputs": [
    {
     "output_type": "display_data",
     "data": {
      "text/plain": "Canvas(toolbar=Toolbar(toolitems=[('Home', 'Reset original view', 'home', 'home'), ('Back', 'Back to previous …",
      "application/vnd.jupyter.widget-view+json": {
       "version_major": 2,
       "version_minor": 0,
       "model_id": "ad64aa7f39c544228073809a4f44edb9"
      }
     },
     "metadata": {}
    }
   ],
   "source": [
    "from modules.physics import kinematics\n",
    "from modules.physics.analysis.ITSvsTPC_events import *\n",
    "\n",
    "%matplotlib widget\n",
    "\n",
    "tpcimpPt = []\n",
    "colors = ['red', 'green', 'yellow', 'orange', 'black']\n",
    "labels = ['ITS & (>= 0TPC)', 'ITS & (>= 1TPC)',\n",
    "          'ITS & (>= 2TPC)', 'ITS & (>= 3TPC)', 'ITS & ( =  4TPC)']\n",
    "for i in range(5):\n",
    "    tmpPt = kinematics.pt_events(ft.GetTracksWithNTPC(ft.four_tracks_zq,i))\n",
    "    tpcimpPt.append(tmpPt)\n",
    "\n",
    "ShowComparisonSame('4track events $p_t$', tpcimpPt, '$p_t$,GeV',\n",
    "                   labels, colors, nBins=100, ranges=(0, 2))\n"
   ]
  },
  {
   "source": [
    "As we can see here pt for $Q \\neq 0$ contains only background events:"
   ],
   "cell_type": "markdown",
   "metadata": {}
  },
  {
   "cell_type": "code",
   "execution_count": 13,
   "metadata": {},
   "outputs": [
    {
     "output_type": "display_data",
     "data": {
      "text/plain": "Canvas(toolbar=Toolbar(toolitems=[('Home', 'Reset original view', 'home', 'home'), ('Back', 'Back to previous …",
      "application/vnd.jupyter.widget-view+json": {
       "version_major": 2,
       "version_minor": 0,
       "model_id": "d4219f9439ce4dae88340965e3fb77c1"
      }
     },
     "metadata": {}
    },
    {
     "output_type": "execute_result",
     "data": {
      "text/plain": [
       "<matplotlib.legend.Legend at 0x206cc35a430>"
      ]
     },
     "metadata": {},
     "execution_count": 13
    }
   ],
   "source": [
    "from matplotlib.patches import Rectangle \n",
    "from modules.physics import kinematics\n",
    "\n",
    "%matplotlib widget\n",
    "\n",
    "plt.style.use(hep.style.ROOT)\n",
    "fig = plt.figure(figsize=(10,5))\n",
    "ax = fig.add_subplot()\n",
    "\n",
    "fig.suptitle(f'$p_t$ of events', fontsize=32)\n",
    "b = 100\n",
    "r = 0,2\n",
    "counts,bin_edges = np.histogram(kinematics.pt_events(ft.GetTracksWithNTPC(ft.four_tracks_zq)), bins=b, range=r)\n",
    "bin_centres = (bin_edges[:-1] + bin_edges[1:])/2.\n",
    "errs = np.sqrt((counts - np.average(counts))**2/len(counts))\n",
    "ax.errorbar(bin_centres, counts, yerr=errs, fmt='.', label=r'$Q=0$', color=colors[0])\n",
    "\n",
    "val=(r[1]-r[0])*1000 // b\n",
    "ax.set_xlabel('$p_t, GeV$')\n",
    "ax.set_ylabel(f'#events / {val}MeV')\n",
    "ax.add_patch(Rectangle((0, 0.15), 0.15, 900, fc='lightgrey', alpha=0.4))\n",
    "ax.text(0.15,0,\"0.15\", size=20)\n",
    "counts,bin_edges = np.histogram(kinematics.pt_events(ft.GetTracksWithNTPC(ft.four_tracks_nzq)), bins=b, range=r)\n",
    "bin_centres = (bin_edges[:-1] + bin_edges[1:])/2.\n",
    "errs = np.sqrt((counts - np.average(counts))**2/len(counts))\n",
    "ax.errorbar(bin_centres, counts, yerr=errs, fmt='.', label=r'$Q\\neq0$', color=colors[2])\n",
    "ax.legend()"
   ]
  },
  {
   "source": [
    "Now  let's try to see what tracks we lost from signal area and what contribution they have:"
   ],
   "cell_type": "markdown",
   "metadata": {}
  },
  {
   "source": [
    "TPC and ITS has different coverage for polar angle:\n",
    "\n",
    "![img1](https://camo.githubusercontent.com/9a7ab40d0f74a866a7095986644134a0f72cc58b/68747470733a2f2f70702e757365726170692e636f6d2f633835323231362f763835323231363738332f3131396137332f304f76685f6c544b4e7a552e6a7067)\n",
    "\n",
    "Perhaps we have tracks that not only can't reach TPC, but also has $\\theta$ values that TPC doesn't cover.\n",
    "\n",
    "Below we can see polar angle distribution for tracks that covers three cases:\n",
    "\n",
    "1. All tracks from events were reconstructed by ITS and TPC\n",
    "2. Only ITS tracks from events with only part TPC tracks. Here tracks that not reconstructed by TPC\n",
    "3. All tracks from events were reconstructed by ITS or TPC\n",
    "\n",
    "We can see small gaps with for the second case, that allow to speak about correctness of the suggestion, but anyway low energy of tracks is the main reason why TPC can't reconstructed tracks.  "
   ],
   "cell_type": "markdown",
   "metadata": {}
  },
  {
   "cell_type": "code",
   "execution_count": 21,
   "metadata": {},
   "outputs": [
    {
     "output_type": "display_data",
     "data": {
      "text/plain": "Canvas(toolbar=Toolbar(toolitems=[('Home', 'Reset original view', 'home', 'home'), ('Back', 'Back to previous …",
      "application/vnd.jupyter.widget-view+json": {
       "version_major": 2,
       "version_minor": 0,
       "model_id": "15fac169722d40ed819e1283ce63e304"
      }
     },
     "metadata": {}
    }
   ],
   "source": [
    "ShowComparison('$\\\\theta$',[AllTPCTracksTheta, ITSDiffTPCTracksTheta, TotalLowPtTheta], '$^\\\\circ$', ['ITS&&TPC', 'OnlyITSFromNTPCEvents', 'ITS||TPC'], None, nBins=80, ranges=(25,150))"
   ]
  },
  {
   "source": [
    "## Mass\n",
    "Let's see on the mass distribution of the events\n"
   ],
   "cell_type": "markdown",
   "metadata": {}
  },
  {
   "cell_type": "code",
   "execution_count": 15,
   "metadata": {},
   "outputs": [
    {
     "output_type": "display_data",
     "data": {
      "text/plain": "Canvas(toolbar=Toolbar(toolitems=[('Home', 'Reset original view', 'home', 'home'), ('Back', 'Back to previous …",
      "application/vnd.jupyter.widget-view+json": {
       "version_major": 2,
       "version_minor": 0,
       "model_id": "fd68c183dff745e99f816e3ad2cf7e46"
      }
     },
     "metadata": {}
    }
   ],
   "source": [
    "from modules.physics import kinematics\n",
    "\n",
    "%matplotlib widget\n",
    "\n",
    "tpcimpMass = []\n",
    "colors = ['red', 'orange', 'black']\n",
    "labels = ['ITS & (>= 2TPC)', 'ITS & (>= 3TPC)', 'ITS & ( =  4TPC)']\n",
    "\n",
    "for i in range(2,5):\n",
    "    tpcimpMass.append(kinematics.mass_events(ft.GetTracksWithPtLt(ft.GetTracksWithNTPC(ft.four_tracks_zq,i))))\n",
    "\n",
    "ShowComparisonSame('4track events Mass', tpcimpMass, '$Mass, GeV$',\n",
    "                   labels, colors, nBins=100, ranges=(0.5, 3.5))\n"
   ]
  },
  {
   "cell_type": "code",
   "execution_count": 17,
   "metadata": {},
   "outputs": [
    {
     "output_type": "display_data",
     "data": {
      "text/plain": "Canvas(toolbar=Toolbar(toolitems=[('Home', 'Reset original view', 'home', 'home'), ('Back', 'Back to previous …",
      "application/vnd.jupyter.widget-view+json": {
       "version_major": 2,
       "version_minor": 0,
       "model_id": "865c2092135b41af81ad8c35d01f5cea"
      }
     },
     "metadata": {}
    },
    {
     "output_type": "execute_result",
     "data": {
      "text/plain": [
       "<matplotlib.legend.Legend at 0x206bbb64c10>"
      ]
     },
     "metadata": {},
     "execution_count": 17
    }
   ],
   "source": [
    "from modules.data.selection import Get4TracksEvents\n",
    "from modules.physics.analysis.mass import GetEventMass\n",
    "\n",
    "\n",
    "%matplotlib widget\n",
    "\n",
    "plt.style.use(hep.style.ROOT)\n",
    "fig = plt.figure(figsize=(15,7))\n",
    "ax = fig.add_subplot()\n",
    "\n",
    "fig.suptitle(f'Масса $\\pi^+\\pi^-\\pi^+\\pi^-$', fontsize=32)\n",
    "b = 100\n",
    "r = 0.5,3.5\n",
    "counts,bin_edges = np.histogram(tpcimpMass[1], bins=b, range=r)\n",
    "bin_centres = (bin_edges[:-1] + bin_edges[1:])/2.\n",
    "errs = np.sqrt((counts - np.average(counts))**2/len(counts))\n",
    "ax.errorbar(bin_centres, counts, yerr=errs, fmt='.', label='Q = 0', color=colors[0])\n",
    "\n",
    "val=(r[1]-r[0])*1000 // b\n",
    "ax.set_xlabel('$Mass, GeV$')\n",
    "ax.set_ylabel(f'#events / {val}MeV')\n",
    "\n",
    "counts,bin_edges = np.histogram(kinematics.mass_events(ft.GetTracksWithPtLt(ft.GetTracksWithNTPC(ft.four_tracks_nzq))), bins=b, range=r)\n",
    "bin_centres = (bin_edges[:-1] + bin_edges[1:])/2.\n",
    "errs = np.sqrt((counts - np.average(counts))**2/len(counts))\n",
    "ax.errorbar(bin_centres, counts, yerr=errs, fmt='.', color=colors[1], label=r\"$Q\\neq0$\")\n",
    "\n",
    "val=(r[1]-r[0])*1000 // b\n",
    "ax.set_xlabel('$Mass, GeV$')\n",
    "ax.set_ylabel(f'#events / {val}MeV')\n",
    "ax.legend()"
   ]
  },
  {
   "cell_type": "code",
   "execution_count": 19,
   "metadata": {},
   "outputs": [
    {
     "output_type": "display_data",
     "data": {
      "text/plain": "Canvas(toolbar=Toolbar(toolitems=[('Home', 'Reset original view', 'home', 'home'), ('Back', 'Back to previous …",
      "application/vnd.jupyter.widget-view+json": {
       "version_major": 2,
       "version_minor": 0,
       "model_id": "3007be46e61c49fa85e6f42ac06f482a"
      }
     },
     "metadata": {}
    },
    {
     "output_type": "execute_result",
     "data": {
      "text/plain": [
       "<matplotlib.legend.Legend at 0x206c2686df0>"
      ]
     },
     "metadata": {},
     "execution_count": 19
    }
   ],
   "source": [
    "from modules.data.selection import Get4TracksEvents\n",
    "from modules.physics.analysis.mass import GetEventMass\n",
    "\n",
    "\n",
    "%matplotlib widget\n",
    "\n",
    "plt.style.use(hep.style.ROOT)\n",
    "fig = plt.figure(figsize=(15,7))\n",
    "ax = fig.add_subplot()\n",
    "\n",
    "fig.suptitle(f'4 tracks mass', fontsize=32)\n",
    "b = 100\n",
    "r = 0.5,3.5\n",
    "\n",
    "\n",
    "counts,bin_edges = np.histogram(kinematics.mass_events(ft.GetTracksWithNTPC(ft.four_tracks_nzq)), bins=b, range=r)\n",
    "bin_centres = (bin_edges[:-1] + bin_edges[1:])/2.\n",
    "errs = np.sqrt((counts - np.average(counts))**2/len(counts))\n",
    "ax.errorbar(bin_centres, counts, yerr=errs, fmt='.', color=colors[1], label=r\"$Q\\neq0$\")\n",
    "\n",
    "val=(r[1]-r[0])*1000 // b\n",
    "ax.set_xlabel('$Mass, GeV$')\n",
    "ax.set_ylabel(f'#events / {val}MeV')\n",
    "ax.legend()"
   ]
  },
  {
   "source": [
    "+### Pions subsystems\n",
    "\n",
    "In our process 4 pions were producted. The most probably intermediate state including two pions and $\\rho$ i.e.\n",
    "$$\\rho' \\rightarrow \\rho \\ \\pi^+ \\pi^- \\rightarrow \\pi^+ \\pi^- \\pi^+ \\pi^-$$ \n",
    "\n",
    "We can see this on distribution of mass that can be obtained as all combinations of pairs from intial four tracks, i.e. only four pairs:\n",
    "\n",
    "![img](https://camo.githubusercontent.com/53a52e2a6d4ae7112d74f4073c979a51166170d8/68747470733a2f2f70702e757365726170692e636f6d2f633835333632342f763835333632343436372f34383466332f5431375a754b597062526f2e6a7067)\n",
    "\n",
    "Here we can plot two distirbutions:\n",
    "\n",
    "1. Make all possible(4) combinations of pairs. Then take lightest and pair that belong to one combination with that. Plot masses of these two pairs.\n",
    "2. Plot masses of masses from possible combinations."
   ],
   "cell_type": "markdown",
   "metadata": {}
  },
  {
   "cell_type": "code",
   "execution_count": 30,
   "metadata": {},
   "outputs": [
    {
     "output_type": "display_data",
     "data": {
      "text/plain": "Canvas(toolbar=Toolbar(toolitems=[('Home', 'Reset original view', 'home', 'home'), ('Back', 'Back to previous …",
      "application/vnd.jupyter.widget-view+json": {
       "version_major": 2,
       "version_minor": 0,
       "model_id": "7189992199d948baafe70a232073b7af"
      }
     },
     "metadata": {}
    },
    {
     "output_type": "stream",
     "name": "stderr",
     "text": [
      "No handles with labels found to put in legend.\n"
     ]
    }
   ],
   "source": [
    "from modules.physics.analysis import pairs\n",
    "\n",
    "%matplotlib widget\n",
    "# ShowMassComaprison(LiteHeavyRecoil, 'Lightest and Recoil Pairs')\n",
    "LiteHeavyRecoil, LiteHeavyTotal = pairs.GetPairs(ft.GetTracksWithPtLt(ft.GetTracksWithNTPC(ft.four_tracks_zq,2)))\n",
    "pairs.ShowMassComaprison(LiteHeavyTotal, r'Массы $\\rho^0 \\rightarrow \\pi^+\\pi^-$   и    $\\pi^+\\pi^-$')"
   ]
  },
  {
   "source": [
    "As we can see above, for second case (all possible pairs) we've got stronger signal in comparison with light-recoil pair as it made in [STAR work](http://arxiv.org/abs/0912.0604v2). Let's build 2d distirbuition and marginals component separately:"
   ],
   "cell_type": "markdown",
   "metadata": {}
  },
  {
   "cell_type": "code",
   "execution_count": 31,
   "metadata": {},
   "outputs": [
    {
     "output_type": "display_data",
     "data": {
      "text/plain": "Canvas(toolbar=Toolbar(toolitems=[('Home', 'Reset original view', 'home', 'home'), ('Back', 'Back to previous …",
      "application/vnd.jupyter.widget-view+json": {
       "version_major": 2,
       "version_minor": 0,
       "model_id": "ffc9fc7fbbf549bcb0fed13a8745e00a"
      }
     },
     "metadata": {}
    },
    {
     "output_type": "stream",
     "name": "stderr",
     "text": [
      "No handles with labels found to put in legend.\n"
     ]
    },
    {
     "output_type": "execute_result",
     "data": {
      "text/plain": [
       "<matplotlib.legend.Legend at 0x20724a48610>"
      ]
     },
     "metadata": {},
     "execution_count": 31
    }
   ],
   "source": [
    "import matplotlib.pyplot as plt\n",
    "from matplotlib.gridspec import GridSpec\n",
    "import numpy as np\n",
    "\n",
    "\n",
    "\n",
    "plt.style.use(hep.style.ROOT)\n",
    "\n",
    "fig = plt.figure(figsize=(15, 7))\n",
    "\n",
    "gs = GridSpec(4,4,wspace=0.1,hspace=0.1)\n",
    "\n",
    "ax_joint = fig.add_subplot(gs[1:4,0:3])\n",
    "ax_marg_x = fig.add_subplot(gs[0,0:3])\n",
    "ax_marg_y = fig.add_subplot(gs[1:4,3])\n",
    "\n",
    "ax_joint.hist2d(LiteHeavyTotal.Recoil, LiteHeavyTotal.Lite, bins=(50, 50), range=[(0, 2), (0, 2)], cmap=plt.cm.jet)\n",
    "_ = ax_marg_y.hist(LiteHeavyTotal.Lite, bins=100, range=(0, 2), histtype='step', color='blue', linewidth=2, label='lite pair',orientation=\"horizontal\")\n",
    "_ = ax_marg_x.hist(LiteHeavyTotal.Recoil, bins=100, range=(0, 2), histtype='step', color='red', linewidth=2, label='rest pair')\n",
    "\n",
    "\n",
    "ax_joint.set_ylabel('Lightest pair Mass, GeV')\n",
    "ax_joint.set_xlabel('Recoiling pair Mass, GeV')\n",
    "\n",
    "# ax_marg_y.set_xlabel('$Mass, GeV$')\n",
    "ax_marg_y.set_xlabel('# events')\n",
    "ax_marg_x.yaxis.set_label_position(\"right\")\n",
    "ax_marg_x.xaxis.set_ticks([])\n",
    "ax_marg_x.xaxis.set_ticks_position('none')\n",
    "ax_marg_y.yaxis.set_ticks_position('none')\n",
    "ax_marg_y.yaxis.set_ticks([])\n",
    "\n",
    "# ax_marg_x.set_xlabel('$Mass, GeV$')\n",
    "ax_marg_x.set_ylabel('# events')\n",
    "ax_marg_y.xaxis.set_label_position(\"top\")\n",
    "ax_marg_x\n",
    "ax_joint.legend()\n"
   ]
  },
  {
   "cell_type": "code",
   "execution_count": 13,
   "metadata": {},
   "outputs": [
    {
     "output_type": "display_data",
     "data": {
      "text/plain": "Canvas(toolbar=Toolbar(toolitems=[('Home', 'Reset original view', 'home', 'home'), ('Back', 'Back to previous …",
      "application/vnd.jupyter.widget-view+json": {
       "version_major": 2,
       "version_minor": 0,
       "model_id": "22fa3cbddbd24962a6f97e6cb5772612"
      }
     },
     "metadata": {}
    },
    {
     "output_type": "display_data",
     "data": {
      "text/plain": "Canvas(toolbar=Toolbar(toolitems=[('Home', 'Reset original view', 'home', 'home'), ('Back', 'Back to previous …",
      "application/vnd.jupyter.widget-view+json": {
       "version_major": 2,
       "version_minor": 0,
       "model_id": "39cc759c1dcd4085acd07530772503b4"
      }
     },
     "metadata": {}
    }
   ],
   "source": [
    "%matplotlib widget\n",
    "\n",
    "\n",
    "plt.style.use(hep.style.ROOT)\n",
    "fig = plt.figure(figsize=(15,7))\n",
    "ax = fig.add_subplot()\n",
    "\n",
    "counts1, bins1  = np.histogram(LiteHeavyRecoil.Recoil, bins=100, range=(0,2))\n",
    "counts2, bins2  = np.histogram(LiteHeavyTotal.Recoil, bins=100, range=(0,2))\n",
    "\n",
    "_ = ax.hist(counts1/counts2,bins=bins1, histtype='step', color='black', linewidth=2)\n",
    "\n",
    "\n",
    "plt.style.use(hep.style.ROOT)\n",
    "fig = plt.figure(figsize=(15,7))\n",
    "ax = fig.add_subplot()\n",
    "\n",
    "counts1, bins1  = np.histogram(LiteHeavyRecoil.Lite, bins=100, range=(0,2))\n",
    "counts2, bins2  = np.histogram(LiteHeavyTotal.Lite, bins=100, range=(0,2))\n",
    "\n",
    "_ = ax.hist(counts1/counts2,bins=bins1, histtype='step', color='black', linewidth=2)"
   ]
  },
  {
   "source": [
    "## $\\eta$ distribution for pairs"
   ],
   "cell_type": "markdown",
   "metadata": {}
  },
  {
   "cell_type": "code",
   "execution_count": 14,
   "metadata": {},
   "outputs": [],
   "source": [
    "from modules.physics.analysis.mass import LiteHeavyRecoil, LiteHeavyTotal"
   ]
  },
  {
   "source": [
    "## Cross section\n",
    "\n",
    "Let's see to cross section of my events.\n",
    "\n",
    "For this we should take luminosity of runs.\n",
    "\n",
    "> Unfortunately file that I have to use for getting luminosity have a reference to special class AliTriggerInfo and moreover it packed into TObjArray, so I can't read it via uproot4. This is the reason why I used pure root again. [Here is the script](https://github.com/bdrum/cern-physics/blob/master/root-cpp/RhoPrime/macro/lumi.C) that I used.\n",
    "\n",
    "Then let's see how much events do we have in each run.\n",
    "\n",
    "$$L = \\sigma \\frac{\\delta N}{\\delta t}$$, this means that \n",
    "\n",
    "$$\\sigma \\approx \\frac{N}{L}$$\n",
    "\n",
    "Cross section of phenomena should be flat and independent from runs. \n",
    "\n",
    "Let's check it:"
   ],
   "cell_type": "markdown",
   "metadata": {}
  },
  {
   "cell_type": "code",
   "execution_count": 15,
   "metadata": {},
   "outputs": [
    {
     "output_type": "display_data",
     "data": {
      "text/plain": "Canvas(toolbar=Toolbar(toolitems=[('Home', 'Reset original view', 'home', 'home'), ('Back', 'Back to previous …",
      "application/vnd.jupyter.widget-view+json": {
       "version_major": 2,
       "version_minor": 0,
       "model_id": "f65cb3170e8a40d0854e15a1861a1236"
      }
     },
     "metadata": {}
    }
   ],
   "source": [
    "from modules.physics.analysis.crossection import *\n",
    "\n",
    "ShowCrossSection()"
   ]
  },
  {
   "source": [
    "import math\n",
    "fig, ax = plt.subplots(1, figsize=(50, 7), sharex=True)\n",
    "\n",
    "labels = ['events', 'lumis', 'sigm']\n",
    "runsVals = [runsEventsN, runsLumis, runsSigm]\n",
    "for i in range(3):\n",
    "    bins = list(runsVals[i].keys())\n",
    "    cnts = list(runsVals[i].values())\n",
    "    x = np.arange(len(bins))\n",
    "    width = 0.15\n",
    "    ax.errorbar(x - width/2, cnts, yerr=errs.values(), fmt='.', label=labels[i])\n",
    "    _ = ax.set_xticks(x)\n",
    "    _ = ax.set_xticklabels(bins, rotation=90, rotation_mode=\"anchor\", ha=\"right\", fontsize=12)\n",
    "    ax.legend(prop={'size': 15})"
   ],
   "cell_type": "code",
   "metadata": {},
   "execution_count": 16,
   "outputs": [
    {
     "output_type": "display_data",
     "data": {
      "text/plain": "Canvas(toolbar=Toolbar(toolitems=[('Home', 'Reset original view', 'home', 'home'), ('Back', 'Back to previous …",
      "application/vnd.jupyter.widget-view+json": {
       "version_major": 2,
       "version_minor": 0,
       "model_id": "790ac9d21f4b4acdbeab7e24673fd163"
      }
     },
     "metadata": {}
    }
   ]
  },
  {
   "cell_type": "code",
   "execution_count": 17,
   "metadata": {},
   "outputs": [
    {
     "output_type": "display_data",
     "data": {
      "text/plain": "Canvas(toolbar=Toolbar(toolitems=[('Home', 'Reset original view', 'home', 'home'), ('Back', 'Back to previous …",
      "application/vnd.jupyter.widget-view+json": {
       "version_major": 2,
       "version_minor": 0,
       "model_id": "2e25aa7ad032447b97014cb3aa6ef13d"
      }
     },
     "metadata": {}
    },
    {
     "output_type": "execute_result",
     "data": {
      "text/plain": [
       "<matplotlib.legend.Legend at 0x1e40edaf610>"
      ]
     },
     "metadata": {},
     "execution_count": 17
    }
   ],
   "source": [
    "#runsEventsN\n",
    "pr = {}\n",
    "pr_errs = {}\n",
    "for k,v in runsEventsN.items():\n",
    "    pr[k] = v / runs[k]\n",
    "    pr_errs[k] = math.sqrt(v) / runs[k]\n",
    "\n",
    "\n",
    "fig = plt.figure(figsize=(50, 7))\n",
    "fig.suptitle(\"Pr\")\n",
    "ax = fig.add_subplot()\n",
    "bins = list(pr.keys())\n",
    "cnts = list(pr.values())\n",
    "x = np.arange(len(bins))\n",
    "width = 0.15\n",
    "ax.errorbar(x - width/2, cnts, yerr=pr_errs.values(), fmt='.', label=r'$\\frac{N_{4tracks}}{N_{total}}$')\n",
    "_ = ax.set_xticks(x)\n",
    "_ = ax.set_xticklabels(bins, rotation=90, rotation_mode=\"anchor\", ha=\"right\", fontsize=12)\n",
    "ax.legend(prop={'size': 15})"
   ]
  },
  {
   "cell_type": "code",
   "execution_count": 18,
   "metadata": {},
   "outputs": [
    {
     "output_type": "stream",
     "name": "stdout",
     "text": [
      "     RunNum  TotalEvents  4TrackEvents      Lumi\n111  246864        19008            34   7.09652\n61   246087         4246           161  28.17480\n118  246980         3836            94  22.20570\n121  246989         2930           128  21.60710\n86   246488         2287            65  14.35000\n120  246984         2266            86  14.88960\n29   245507         2096            91  17.91900\n"
     ]
    }
   ],
   "source": [
    "sortedRuns = sorted(list(runs.keys()))\n",
    "sortedLumis = []\n",
    "sortedTotalRunCount = []\n",
    "sortedEventsRunCount = []\n",
    "\n",
    "# runs ,runsEventsN, runsLumis, runsSigm\n",
    "\n",
    "def App(lst, dct, k):\n",
    "    try:\n",
    "        lst.append(dct[k])\n",
    "    except KeyError:\n",
    "        lst.append(0)\n",
    "\n",
    "for sr in sortedRuns:\n",
    "    App(sortedLumis, runsLumis, sr)\n",
    "    App(sortedTotalRunCount, runs, sr)\n",
    "    App(sortedEventsRunCount, runsEventsN, sr)\n",
    "\n",
    "csDf = pd.DataFrame.from_dict({'RunNum':sortedRuns, 'TotalEvents':sortedTotalRunCount, '4TrackEvents':sortedEventsRunCount, 'Lumi':sortedLumis})\n",
    "\n",
    "print(csDf.sort_values('TotalEvents',ascending=False)[:7])"
   ]
  },
  {
   "cell_type": "code",
   "execution_count": 19,
   "metadata": {},
   "outputs": [
    {
     "output_type": "execute_result",
     "data": {
      "text/plain": [
       "True"
      ]
     },
     "metadata": {},
     "execution_count": 19
    }
   ],
   "source": [
    "pr[245145] == 10 / 171\n"
   ]
  },
  {
   "cell_type": "code",
   "execution_count": 20,
   "metadata": {},
   "outputs": [
    {
     "output_type": "execute_result",
     "data": {
      "text/plain": [
       "34"
      ]
     },
     "metadata": {},
     "execution_count": 20
    }
   ],
   "source": [
    "runsEventsN[246864]"
   ]
  },
  {
   "source": [
    "## Other decays\n",
    "\n",
    "In PDG I've seen also other interesting modes for $\\rho'$:\n",
    "\n",
    "- 1. $\\rho' \\rightarrow \\eta_0 \\rho_0$ | ?\n",
    "   - 1.1. $\\rho_0 \\rightarrow 4 \\pi$ | $2*10^{-5}\\%$\n",
    "   - 1.2. $\\rho_0 \\rightarrow \\pi^+ \\pi^-$ | $10^{-2}\\%$\n",
    "   - 1.3. $\\eta_0' \\rightarrow  \\pi^+ \\pi^- \\gamma$ | $4\\%$\n",
    "   - 1.4. $\\eta_0' \\rightarrow  \\pi^+ \\pi^- \\pi^0$ | $23\\%$\n",
    "- 2. $\\rho' \\rightarrow 4 \\pi$ | ?\n",
    "\n",
    "What about $\\rho' \\rightarrow \\rho_0 \\rho_0$ is it possible?"
   ],
   "cell_type": "markdown",
   "metadata": {}
  },
  {
   "source": [],
   "cell_type": "markdown",
   "metadata": {}
  },
  {
   "cell_type": "code",
   "execution_count": null,
   "metadata": {},
   "outputs": [],
   "source": []
  }
 ],
 "metadata": {
  "kernelspec": {
   "name": "python3",
   "display_name": "Python 3.8.6 64-bit",
   "metadata": {
    "interpreter": {
     "hash": "2db524e06e9f5f4ffedc911c917cb75e12dbc923643829bf417064a77eb14d37"
    }
   }
  },
  "language_info": {
   "codemirror_mode": {
    "name": "ipython",
    "version": 3
   },
   "file_extension": ".py",
   "mimetype": "text/x-python",
   "name": "python",
   "nbconvert_exporter": "python",
   "pygments_lexer": "ipython3",
   "version": "3.8.6-final"
  }
 },
 "nbformat": 4,
 "nbformat_minor": 4
}