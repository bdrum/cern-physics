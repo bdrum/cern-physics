{
 "cells": [
  {
   "cell_type": "markdown",
   "metadata": {},
   "source": [
    "# $\\rho'$ analysis notes\n",
    "\n",
    "## GIRD Selection criteria:\n",
    "\n",
    "These criteria were applied on the selection stage(GRID):\n",
    "\n",
    "Events:\n",
    "\n",
    "    * >= 4 tracks\n",
    "    \n",
    "Tracks:\n",
    "\n",
    "    * Has Point On inner or outer ITS Layer\n",
    "    * Not ITS SA\n",
    "    * |dca1| < 3 && |dca0| < 3;\n",
    "\n",
    "### Data info"
   ]
  },
  {
   "cell_type": "code",
   "execution_count": 7,
   "metadata": {
    "tags": []
   },
   "outputs": [
    {
     "output_type": "stream",
     "name": "stdout",
     "text": "name                 | typename                 | interpretation                \n---------------------+--------------------------+-------------------------------\nRunNum               | int32_t                  | AsDtype('>i4')\nPeriodNumber         | uint32_t                 | AsDtype('>u4')\nOrbitNumber          | uint32_t                 | AsDtype('>u4')\nBunchCrossNumber     | uint16_t                 | AsDtype('>u2')\nMass                 | float                    | AsDtype('>f4')\nPt                   | float                    | AsDtype('>f4')\nQ                    | int16_t                  | AsDtype('>i2')\nRapidity             | float                    | AsDtype('>f4')\nPhi                  | float                    | AsDtype('>f4')\nZNAenergy            | float                    | AsDtype('>f4')\nZNCenergy            | float                    | AsDtype('>f4')\nZPAenergy            | float                    | AsDtype('>f4')\nZPCenergy            | float                    | AsDtype('>f4')\nVtxX                 | float                    | AsDtype('>f4')\nVtxY                 | float                    | AsDtype('>f4')\nVtxZ                 | float                    | AsDtype('>f4')\nVtxContrib           | int32_t                  | AsDtype('>i4')\nVtxChi2              | float                    | AsDtype('>f4')\nVtxNDF               | float                    | AsDtype('>f4')\nSpdVtxX              | float                    | AsDtype('>f4')\nSpdVtxY              | float                    | AsDtype('>f4')\nSpdVtxZ              | float                    | AsDtype('>f4')\nSpdVtxContrib        | int32_t                  | AsDtype('>i4')\nV0Adecision          | int32_t                  | AsDtype('>i4')\nV0Cdecision          | int32_t                  | AsDtype('>i4')\nADAdecision          | int32_t                  | AsDtype('>i4')\nADCdecision          | int32_t                  | AsDtype('>i4')\nUBAfired             | bool                     | AsDtype('bool')\nUBCfired             | bool                     | AsDtype('bool')\nVBAfired             | bool                     | AsDtype('bool')\nVBCfired             | bool                     | AsDtype('bool')\nnTracklets           | int32_t                  | AsDtype('>i4')\nnTracks              | int32_t                  | AsDtype('>i4')\nT_NumberOfSigmaIT... | std::vector<float>       | AsJagged(AsDtype('>f4'), he...\nT_NumberOfSigmaIT... | std::vector<float>       | AsJagged(AsDtype('>f4'), he...\nT_NumberOfSigmaTP... | std::vector<float>       | AsJagged(AsDtype('>f4'), he...\nT_NumberOfSigmaTP... | std::vector<float>       | AsJagged(AsDtype('>f4'), he...\nTPCsignal            | std::vector<int32_t>     | AsJagged(AsDtype('>i4'), he...\nT_P                  | std::vector<float>       | AsJagged(AsDtype('>f4'), he...\nT_Eta                | std::vector<float>       | AsJagged(AsDtype('>f4'), he...\nT_Phi                | std::vector<float>       | AsJagged(AsDtype('>f4'), he...\nT_Px                 | std::vector<float>       | AsJagged(AsDtype('>f4'), he...\nT_Py                 | std::vector<float>       | AsJagged(AsDtype('>f4'), he...\nT_Pz                 | std::vector<float>       | AsJagged(AsDtype('>f4'), he...\nT_Q                  | std::vector<int16_t>     | AsJagged(AsDtype('>i2'), he...\nT_HasPointOnITSLa... | std::vector<bool>        | AsJagged(AsDtype('bool'), h...\nT_HasPointOnITSLa... | std::vector<bool>        | AsJagged(AsDtype('bool'), h...\nT_ITSModuleInner     | std::vector<int32_t>     | AsJagged(AsDtype('>i4'), he...\nT_ITSModuleOuter     | std::vector<int32_t>     | AsJagged(AsDtype('>i4'), he...\nT_TPCNCls            | std::vector<int32_t>     | AsJagged(AsDtype('>i4'), he...\nT_ITSNCls            | std::vector<int32_t>     | AsJagged(AsDtype('>i4'), he...\nT_Dca0               | std::vector<float>       | AsJagged(AsDtype('>f4'), he...\nT_Dca1               | std::vector<float>       | AsJagged(AsDtype('>f4'), he...\nT_TPCRefit           | std::vector<bool>        | AsJagged(AsDtype('bool'), h...\nT_ITSRefit           | std::vector<bool>        | AsJagged(AsDtype('bool'), h...\nTLets_Theta          | std::vector<float>       | AsJagged(AsDtype('>f4'), he...\nTLets_Phi            | std::vector<float>       | AsJagged(AsDtype('>f4'), he...\nT_ITSSensorNum       | std::vector<int32_t>     | AsJagged(AsDtype('>i4'), he...\n\nTree name: events\nTree title: Selected events for 4proungs analysis\nEvents number: 114648\nTracks number 4610890\n"
    }
   ],
   "source": [
    "from modules import events, dfs, np, pd, hep, plt\n",
    "from modules.data.info.DataInfo import DataInfo\n",
    "\n",
    "DataInfo()"
   ]
  },
  {
   "source": [
    "## Analysis criteria\n",
    "\n",
    "Let's take from input date only events with 4 tracks and zero total charge.\n",
    "Also prepare mask for tracks that satisfy standatd criteria contains further conditions for the TPC:\n",
    "\n",
    "* |NumberOfSigmaTPCPion| < 3\n",
    "* Number of TPC Clusters > 50\n",
    "* TPCRefit\n"
   ],
   "cell_type": "markdown",
   "metadata": {}
  },
  {
   "cell_type": "code",
   "execution_count": 10,
   "metadata": {},
   "outputs": [],
   "source": [
    "from modules.data.selection import dfs4Tracks, TPCMask"
   ]
  },
  {
   "source": [
    "## Low energy tracks and TPC\n",
    "\n",
    "There is an idea about tracks with small energies (low pt) not able to reach TPC.\n",
    "We can try to estimate influence of TPC criteria to the statistics.\n",
    "\n",
    "Let's see what happend in case of we will plot pt for any combination of TPC tracks:\n",
    "\n",
    "### Event with std criteria\n",
    "\n",
    "|detector|track1|track2|track3|track4|\n",
    "|:--:|:--:|:--:|:--:|:--:|\n",
    "|ITS|+|+|+|+|\n",
    "|TPC|+|+|+|+|\n",
    "\n",
    "### Let's start to take also such combinations to the sample:\n",
    "\n",
    "|detector|track1|track2|track3|track4|\n",
    "|:--:|:--:|:--:|:--:|:--:|\n",
    "|ITS|+|+|+|+|\n",
    "|TPC|+|+|+|-|\n",
    "\n",
    "|detector|track1|track2|track3|track4|\n",
    "|:--:|:--:|:--:|:--:|:--:|\n",
    "|ITS|+|+|+|+|\n",
    "|TPC|+|+|-|-|\n",
    "\n",
    "|detector|track1|track2|track3|track4|\n",
    "|:--:|:--:|:--:|:--:|:--:|\n",
    "|ITS|+|+|+|+|\n",
    "|TPC|+|-|-|-|\n",
    "\n",
    "|detector|track1|track2|track3|track4|\n",
    "|:--:|:--:|:--:|:--:|:--:|\n",
    "|ITS|+|+|+|+|\n",
    "|TPC|-|-|-|-|\n",
    "\n",
    "We can see statistics gain ration equal 2.5 between std criteria and total combinations:\n"
   ],
   "cell_type": "markdown",
   "metadata": {}
  },
  {
   "cell_type": "code",
   "execution_count": 19,
   "metadata": {},
   "outputs": [
    {
     "output_type": "display_data",
     "data": {
      "text/plain": "Canvas(toolbar=Toolbar(toolitems=[('Home', 'Reset original view', 'home', 'home'), ('Back', 'Back to previous …",
      "application/vnd.jupyter.widget-view+json": {
       "version_major": 2,
       "version_minor": 0,
       "model_id": "4d507c80e81643b1b724ca6bfb62b285"
      }
     },
     "metadata": {}
    },
    {
     "output_type": "execute_result",
     "data": {
      "text/plain": "<matplotlib.legend.Legend at 0x14b77374fa0>"
     },
     "metadata": {},
     "execution_count": 19
    }
   ],
   "source": [
    "from matplotlib.patches import Rectangle\n",
    "from modules.physics.kinematics.momentum import GetPtEvents\n",
    "\n",
    "%matplotlib widget\n",
    "\n",
    "\n",
    "plt.style.use(hep.style.ROOT)\n",
    "fig = plt.figure(figsize=(15,7))\n",
    "ax = fig.add_subplot()\n",
    "\n",
    "fig.suptitle(f'4track events pt', fontsize=32)\n",
    "tpcimpPt = []\n",
    "colors = ['red','green', 'yellow', 'orange', 'black']\n",
    "labels = ['ITS & (>= 0TPC)','ITS & (>= 1TPC)', 'ITS & (>= 2TPC)', 'ITS & (>= 3TPC)', 'ITS & ( =  4TPC)']\n",
    "\n",
    "for i in range(5):\n",
    "    ITSnTPCEvents = pd.unique(dfs4Tracks.reset_index().entry)[TPCMask.groupby('entry').sum() >= i]\n",
    "    ITSnTPCTracks = dfs4Tracks.loc[ITSnTPCEvents]\n",
    "    tmpPt = GetPtEvents(ITSnTPCTracks)\n",
    "    tpcimpPt.append(tmpPt)\n",
    "    ax.hist(tpcimpPt[i], bins=100, range=(0,2), histtype='step', color=colors[i], linewidth=2, label=labels[i]+f';{(tmpPt<0.15).sum()}')\n",
    "\n",
    "ax.set_xlabel('$p_t, GeV$')\n",
    "ax.set_ylabel('# events')\n",
    "\n",
    "ax.add_patch(Rectangle((0,0.15),0.15,900,fc='lightgrey',alpha=0.4))\n",
    "\n",
    "ax.legend()\n"
   ]
  },
  {
   "source": [
    "Now  let's try to see what tracks we lost from signal area and what contribution they have:"
   ],
   "cell_type": "markdown",
   "metadata": {}
  },
  {
   "cell_type": "code",
   "execution_count": 67,
   "metadata": {},
   "outputs": [
    {
     "output_type": "display_data",
     "data": {
      "text/plain": "Canvas(toolbar=Toolbar(toolitems=[('Home', 'Reset original view', 'home', 'home'), ('Back', 'Back to previous …",
      "application/vnd.jupyter.widget-view+json": {
       "version_major": 2,
       "version_minor": 0,
       "model_id": "e87d63d681924b4f9980f3bf9d1ee328"
      }
     },
     "metadata": {}
    }
   ],
   "source": [
    "from modules.physics.analysis.ITSvsTPC import *\n",
    "\n",
    "%matplotlib widget\n",
    "\n",
    "ShowComparison('$p_t$',[TPCTracksPt, ITSDiffTPCTracksPt, TotalLowPt], 'GeV', ['ITS&&TPC', 'OnlyITSFromNTPCEvents', 'ITS||TPC'])\n",
    "\n",
    "\n"
   ]
  },
  {
   "source": [
    "TPC and ITS has different coverage for polar angle:\n",
    "\n",
    "![img1](https://camo.githubusercontent.com/9a7ab40d0f74a866a7095986644134a0f72cc58b/68747470733a2f2f70702e757365726170692e636f6d2f633835323231362f763835323231363738332f3131396137332f304f76685f6c544b4e7a552e6a7067)\n",
    "\n",
    "Perhaps we have tracks that not only can't reach TPC, but also has $\\theta$ values that TPC doesn't cover.\n",
    "\n",
    "Below we can see polar angle distribution for tracks that covers three cases:\n",
    "\n",
    "1. All tracks from events were reconstructed by ITS and TPC\n",
    "2. Only ITS tracks from events with only part TPC tracks. Here tracks that not reconstructed by TPC\n",
    "3. All tracks from events were reconstructed by ITS or TPC\n",
    "\n",
    "We can see small gaps with for the second case, that allow to speak about correctness of the suggestion, but anyway low energy of tracks is the main reason why TPC can't reconstructed tracks.  "
   ],
   "cell_type": "markdown",
   "metadata": {}
  },
  {
   "cell_type": "code",
   "execution_count": 70,
   "metadata": {},
   "outputs": [
    {
     "output_type": "display_data",
     "data": {
      "text/plain": "Canvas(toolbar=Toolbar(toolitems=[('Home', 'Reset original view', 'home', 'home'), ('Back', 'Back to previous …",
      "application/vnd.jupyter.widget-view+json": {
       "version_major": 2,
       "version_minor": 0,
       "model_id": "38576fcaf5774d11be5da00b497f1685"
      }
     },
     "metadata": {}
    }
   ],
   "source": [
    "ShowComparison('$\\\\theta$',[TPCTracksTheta, ITSDiffTPCTracksTheta, TotalLowPtTheta], '$^\\\\circ$', ['ITS&&TPC', 'OnlyITSFromNTPCEvents', 'ITS||TPC'], nBins=80, ranges=(25,150))\n"
   ]
  }
 ],
 "metadata": {
  "kernelspec": {
   "display_name": "Python 3.8.2 64-bit",
   "language": "python",
   "name": "python38264bit3afbaa1fad294b6594b92b10bbcb573b"
  },
  "language_info": {
   "codemirror_mode": {
    "name": "ipython",
    "version": 3
   },
   "file_extension": ".py",
   "mimetype": "text/x-python",
   "name": "python",
   "nbconvert_exporter": "python",
   "pygments_lexer": "ipython3",
   "version": "3.8.5-final"
  }
 },
 "nbformat": 4,
 "nbformat_minor": 4
}