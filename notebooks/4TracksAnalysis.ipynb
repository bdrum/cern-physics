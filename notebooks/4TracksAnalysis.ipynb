{
 "cells": [
  {
   "cell_type": "markdown",
   "metadata": {},
   "source": [
    "# $\\rho'$ analysis notes\n",
    "\n",
    "## GIRD Selection criteria:\n",
    "\n",
    "These criteria were applied on the selection stage(GRID):\n",
    "\n",
    "Events:\n",
    "\n",
    "- \\>= 4 tracks\n",
    "    \n",
    "Tracks:\n",
    "\n",
    "- Has Point On inner OR outer ITS Layer\n",
    "- Not ITS SA\n",
    "- |dca1| < 3 && |dca0| < 3;\n",
    "\n",
    "### Data info"
   ]
  },
  {
   "cell_type": "code",
   "execution_count": 1,
   "metadata": {
    "ExecuteTime": {
     "end_time": "2021-04-15T15:34:56.597313Z",
     "start_time": "2021-04-15T15:34:15.979548Z"
    },
    "init_cell": true
   },
   "outputs": [],
   "source": [
    "from modules.FourTrackEvents import *\n",
    "from modules.physics import kinematics\n",
    "from modules.physics.analysis.ITSvsTPC_events import *\n",
    "from modules.physics.analysis.crossection import GetCrossSection\n",
    "from importlib import reload\n",
    "\n",
    "%matplotlib widget\n",
    "if os_name == 'posix':\n",
    "    %jsroot on\n"
   ]
  },
  {
   "cell_type": "code",
   "execution_count": 2,
   "metadata": {
    "ExecuteTime": {
     "end_time": "2021-04-15T15:35:29.843163Z",
     "start_time": "2021-04-15T15:34:56.599595Z"
    },
    "init_cell": true,
    "tags": [
     "init"
    ]
   },
   "outputs": [
    {
     "output_type": "stream",
     "name": "stdout",
     "text": [
      "Events attributes:\n['RunNum', 'PeriodNumber', 'OrbitNumber', 'BunchCrossNumber', 'Mass', 'Pt', 'Q', 'Rapidity', 'Phi', 'ZNAenergy', 'ZNCenergy', 'ZPAenergy', 'ZPCenergy', 'VtxX', 'VtxY', 'VtxZ', 'VtxContrib', 'VtxChi2', 'VtxNDF', 'SpdVtxX', 'SpdVtxY', 'SpdVtxZ', 'SpdVtxContrib', 'V0Adecision', 'V0Cdecision', 'ADAdecision', 'ADCdecision', 'V0Afired', 'V0Cfired', 'ADAfired', 'ADCfired', 'STPfired', 'SMBfired', 'SM2fired', 'SH1fired', 'OM2fired', 'OMUfired', 'IsTriggered', 'nTracklets', 'nTracks', 'ZDCAtime_0', 'ZDCAtime_1', 'ZDCAtime_2', 'ZDCAtime_3', 'ZDCCtime_0', 'ZDCCtime_1', 'ZDCCtime_2', 'ZDCCtime_3', 'FORChip']\nTrack attributes:\n['T_NumberOfSigmaTPCPion', 'T_Eta', 'T_Phi', 'T_Px', 'T_Py', 'T_Pz', 'T_Q', 'T_HasPointOnITSLayer0', 'T_HasPointOnITSLayer1', 'T_ITSModuleInner', 'T_ITSModuleOuter', 'T_TPCNCls', 'T_TPCRefit']\n\nEvents count: 110,004\nTracks count: 26,978,093\n"
     ]
    }
   ],
   "source": [
    "plt.style.use(hep.style.ROOT)\n",
    "\n",
    "ft = FourTrackEvents()\n",
    "\n",
    "print('Events attributes:')\n",
    "print(ft.orig_events.columns.tolist())\n",
    "print('Track attributes:')\n",
    "print(ft.orig_tracks.columns.tolist())\n",
    "print()\n",
    "print('Events count:', \"{:,}\".format(len(ft.orig_events.index)))\n",
    "print('Tracks count:', \"{:,}\".format(len(ft.orig_tracks.index)))"
   ]
  },
  {
   "cell_type": "markdown",
   "metadata": {},
   "source": [
    "## Analysis criteria\n",
    "\n",
    "Let's take from input date only events with 4 tracks and zero total charge.\n",
    "Also prepare mask for tracks that satisfy standatd criteria contains further conditions for the TPC:\n",
    "\n",
    "* |NumberOfSigmaTPCPion| < 3\n",
    "* Number of TPC Clusters > 50\n",
    "* TPCRefit\n",
    "## Low energy tracks and TPC\n",
    "\n",
    "There is an idea about that tracks with small energies (low pt) not able to reach TPC.\n",
    "We can try to estimate influence of TPC criteria to the statistics.\n",
    "\n",
    "Let's see what happend in case of we will plot pt for any combination of TPC tracks:\n",
    "\n",
    "### Event with std criteria\n",
    "\n",
    "|detector|track1|track2|track3|track4|\n",
    "|:--:|:--:|:--:|:--:|:--:|\n",
    "|ITS|+|+|+|+|\n",
    "|TPC|+|+|+|+|\n",
    "\n",
    "### Let's start to take also such combinations to the sample:\n",
    "\n",
    "|detector|track1|track2|track3|track4|\n",
    "|:--:|:--:|:--:|:--:|:--:|\n",
    "|ITS|+|+|+|+|\n",
    "|TPC|+|+|+|-|\n",
    "\n",
    "|detector|track1|track2|track3|track4|\n",
    "|:--:|:--:|:--:|:--:|:--:|\n",
    "|ITS|+|+|+|+|\n",
    "|TPC|+|+|-|-|\n",
    "\n",
    "|detector|track1|track2|track3|track4|\n",
    "|:--:|:--:|:--:|:--:|:--:|\n",
    "|ITS|+|+|+|+|\n",
    "|TPC|+|-|-|-|\n",
    "\n",
    "|detector|track1|track2|track3|track4|\n",
    "|:--:|:--:|:--:|:--:|:--:|\n",
    "|ITS|+|+|+|+|\n",
    "|TPC|-|-|-|-|\n",
    "\n",
    "We can see statistics gain ration equal 2.5 between std criteria and total combinations:\n"
   ]
  },
  {
   "cell_type": "code",
   "execution_count": 3,
   "metadata": {
    "ExecuteTime": {
     "end_time": "2021-04-15T15:36:56.046909Z",
     "start_time": "2021-04-15T15:35:29.845012Z"
    },
    "init_cell": true,
    "jupyter": {
     "outputs_hidden": true
    },
    "tags": [
     "init",
     "long"
    ]
   },
   "outputs": [],
   "source": [
    "# ft - four tracks\n",
    "# zq - zero charge\n",
    "# nzq - non zero charge\n",
    "# Pt - transversal momentum\n",
    "# nTPc - each index(i) of list corresponding to case when more than i TPC tracks in event \n",
    "# e.g. ft_nzq_Pt_nTpc contains list of the list of four track events with non zero total charge\n",
    "# where index (i) of the main list corresponding to case when more than i TPC tracks in event \n",
    "\n",
    "ft_zq_Pt_nTpc = []\n",
    "ft_nzq_Pt_nTpc = []\n",
    "ft_zq_Mass_nTpc = []\n",
    "ft_nzq_Mass_nTpc = []\n",
    "for i in range(5):\n",
    "    ft_zq_Pt_nTpc.append(kinematics.pt_events(ft.ft_zq_nTPC[i]))\n",
    "    ft_nzq_Pt_nTpc.append(kinematics.pt_events(ft.ft_nzq_nTPC[i]))\n",
    "    ft_zq_Mass_nTpc.append(kinematics.mass_events(ft.GetTracksWithPtLt(ft.ft_zq_nTPC[i])))\n",
    "    ft_nzq_Mass_nTpc.append(kinematics.mass_events(ft.GetTracksWithPtLt(ft.ft_nzq_nTPC[i])))"
   ]
  },
  {
   "cell_type": "markdown",
   "metadata": {},
   "source": [
    "## False triggering\n",
    "\n",
    "There are some situations when CCUP9 trigger could be fired false:\n",
    "It may occured when some fake or random track fires FOR and trigger will provide.\n",
    "\n",
    "We can check list of FORs of event and what chipkey has each of four tracks.\n",
    "In case it has matches and produce back to back topology this means correct trigger state.\n",
    "\n",
    "![img](https://sun9-58.userapi.com/impf/x7UtIW5ElLKpDl4ASPuz0FXhNjwnxYcAy0BuHw/wJZr1On9l4o.jpg?size=1280x718&quality=96&sign=1ed3d5f08fcdefd89ab4e02a5041c6d0&type=album)\n",
    "\n",
    "See debugging details in [one of the issue](https://github.com/bdrum/cern-physics/issues/42)\n"
   ]
  },
  {
   "cell_type": "code",
   "execution_count": 4,
   "metadata": {
    "ExecuteTime": {
     "end_time": "2021-04-15T15:41:53.869676Z",
     "start_time": "2021-04-15T15:36:56.050172Z"
    },
    "init_cell": true,
    "jupyter": {
     "outputs_hidden": true
    },
    "tags": [
     "long",
     "trig"
    ]
   },
   "outputs": [
    {
     "output_type": "stream",
     "name": "stderr",
     "text": [
      "  0%|          | 0/77824 [00:00<?, ?it/s]<ipython-input-4-05f57b8ade7d>:36: SettingWithCopyWarning: \n",
      "A value is trying to be set on a copy of a slice from a DataFrame\n",
      "\n",
      "See the caveats in the documentation: https://pandas.pydata.org/pandas-docs/stable/user_guide/indexing.html#returning-a-view-versus-a-copy\n",
      "  df.vPhiInner[i] = vPhiInner1\n",
      "<ipython-input-4-05f57b8ade7d>:39: SettingWithCopyWarning: \n",
      "A value is trying to be set on a copy of a slice from a DataFrame\n",
      "\n",
      "See the caveats in the documentation: https://pandas.pydata.org/pandas-docs/stable/user_guide/indexing.html#returning-a-view-versus-a-copy\n",
      "  df.vPhiOuter[i] = vPhiOuter1\n",
      "<ipython-input-4-05f57b8ade7d>:41: SettingWithCopyWarning: \n",
      "A value is trying to be set on a copy of a slice from a DataFrame\n",
      "\n",
      "See the caveats in the documentation: https://pandas.pydata.org/pandas-docs/stable/user_guide/indexing.html#returning-a-view-versus-a-copy\n",
      "  df.vPhiInnerValue[i] = vPhiInnerValues\n",
      "<ipython-input-4-05f57b8ade7d>:42: SettingWithCopyWarning: \n",
      "A value is trying to be set on a copy of a slice from a DataFrame\n",
      "\n",
      "See the caveats in the documentation: https://pandas.pydata.org/pandas-docs/stable/user_guide/indexing.html#returning-a-view-versus-a-copy\n",
      "  df.vPhiOuterValue[i] = vPhiOuterValues\n",
      "100%|██████████| 77824/77824 [04:59<00:00, 259.95it/s]\n",
      "100%|██████████| 19456/19456 [00:09<00:00, 1995.46it/s]\n"
     ]
    }
   ],
   "source": [
    "# let's form fired FORs numbers for 4 tracks zq EVENT \n",
    "for_sensors = pd.DataFrame(ft.orig_events.FORChip.loc[ft.four_tracks_zq.reset_index().entry])\n",
    "for_sensors['subentry']=for_sensors.groupby(level=0).cumcount()\n",
    "for_sensors.index.name = 'entry'\n",
    "for_sensors.set_index('subentry', append=True,inplace=True)\n",
    "\n",
    "# form arrays of numbers of sensor that linked with TRACKS \n",
    "df = ft.four_tracks_zq[['T_ITSModuleInner','T_ITSModuleOuter']] // 1000000\n",
    "\n",
    "# combine into one dataframe\n",
    "df['T_ITSSensorNum'] = for_sensors\n",
    "df = df.reset_index()\n",
    "\n",
    "# check that sensor linked with track will provide trigger (match with FOR sensor)\n",
    "df[\"Inner_matched\"] = (abs(abs(df.T_ITSModuleInner*5 - df.T_ITSSensorNum) - 2).apply(lambda x: x <= 2)) * df.T_ITSSensorNum.apply(lambda x: x < 400)\n",
    "\n",
    "df[\"Outer_matched\"] = (abs(abs(df.T_ITSModuleOuter*5 - df.T_ITSSensorNum) - 2).apply(lambda x: x <= 2)) * df.T_ITSSensorNum.apply(lambda x: x >= 400)\n",
    "df[\"vPhiInner\"] = np.nan\n",
    "df.vPhiInner = df.vPhiInner.astype('object')\n",
    "df[\"vPhiOuter\"] = np.nan\n",
    "df.vPhiOuter = df.vPhiOuter.astype('object')\n",
    "\n",
    "df[\"vPhiInnerValue\"] = np.nan\n",
    "df.vPhiInnerValue = df.vPhiInnerValue.astype('object')\n",
    "df[\"vPhiOuterValue\"] = np.nan\n",
    "df.vPhiOuterValue = df.vPhiOuterValue.astype('object')\n",
    "\n",
    "for i in tqdm(range(len(df))):\n",
    "    vPhiInner1 = np.zeros(20, dtype=bool)\n",
    "    vPhiOuter1 = np.zeros(40, dtype=bool)\n",
    "\n",
    "    vPhiInnerValues = pd.unique(df.T_ITSSensorNum[i][df.Inner_matched[i]]//20)\n",
    "    vPhiOuterValues = pd.unique((df.T_ITSSensorNum[i][df.Outer_matched[i]]-400)//20)\n",
    "\n",
    "    vPhiInner1[vPhiInnerValues]=True\n",
    "    df.vPhiInner[i] = vPhiInner1\n",
    "\n",
    "    vPhiOuter1[vPhiOuterValues]=True\n",
    "    df.vPhiOuter[i] = vPhiOuter1\n",
    "\n",
    "    df.vPhiInnerValue[i] = vPhiInnerValues\n",
    "    df.vPhiOuterValue[i] = vPhiOuterValues\n",
    "\n",
    "df_dbg = df.copy()\n",
    "\n",
    "# take only matched tracks and fill vPhi arrays for inner and outer\n",
    "# df = df[(df.Inner_matched.apply(any) | df.Outer_matched.apply(any))][['entry', 'vPhiInner', 'vPhiOuter']].groupby('entry').sum()\n",
    "df = df[['entry', 'vPhiInner', 'vPhiOuter']].groupby('entry').sum()\n",
    "\n",
    "df[\"triggered\"] = False\n",
    "\n",
    "# check incorrect topology \n",
    "\n",
    "for t in tqdm(df.index):\n",
    "    for i in range(10):\n",
    "        for j in range(2):\n",
    "            k = 2*i+j\n",
    "            if  (df.vPhiOuter[t][k]    or df.vPhiOuter[t][k+1]        or df.vPhiOuter[t][k+2]) \\\n",
    "\t\t    and (df.vPhiOuter[t][k+20] or df.vPhiOuter[t][(k+21)%40]  or df.vPhiOuter[t][(k+22)%40]) \\\n",
    "\t\t    and (df.vPhiInner[t][i]    or df.vPhiInner[t][i+1]) \\\n",
    "\t\t    and (df.vPhiInner[t][i+10] or df.vPhiInner[t][(i+11)%20]):\n",
    "                df.at[t,'triggered'] = True\n",
    "\n",
    "triggered_events = df.index[df.triggered]\n",
    "untriggered_events = df.index[~df.triggered]\n",
    "\n",
    "ft_zq_Pt_nTpc_triggered = []\n",
    "ft_zq_Pt_nTpc_UNtriggered = []\n",
    "\n",
    "ft_nzq_Pt_nTpc_triggered = []\n",
    "ft_nzq_Pt_nTpc_UNtriggered = []\n",
    "\n",
    "for i in range(5):\n",
    "  ft_zq_Pt_nTpc_triggered.append(ft_zq_Pt_nTpc[i][np.intersect1d(ft_zq_Pt_nTpc[i].index.values, triggered_events.values)])\n",
    "  ft_zq_Pt_nTpc_UNtriggered.append(ft_zq_Pt_nTpc[i][np.intersect1d(ft_zq_Pt_nTpc[i].index.values, untriggered_events.values)])\n"
   ]
  },
  {
   "cell_type": "markdown",
   "metadata": {},
   "source": [
    "### Trigger stats"
   ]
  },
  {
   "cell_type": "code",
   "execution_count": 5,
   "metadata": {
    "ExecuteTime": {
     "end_time": "2021-04-15T17:30:27.127028Z",
     "start_time": "2021-04-15T17:30:27.001611Z"
    }
   },
   "outputs": [
    {
     "output_type": "execute_result",
     "data": {
      "text/plain": [
       "   nTPC  total_cnt  trig_cnt  untrig_cnt  trig % from ttl  untrig % from ttl\n",
       "0     0      19456     10426        9030             53.6               46.4\n",
       "1     1      17864     10209        7655             57.1               42.9\n",
       "2     2      16698      9637        7061             57.7               42.3\n",
       "3     3      13101      7632        5469             58.3               41.7\n",
       "4     4       5991      3536        2455             59.0               41.0"
      ],
      "text/html": "<div>\n<style scoped>\n    .dataframe tbody tr th:only-of-type {\n        vertical-align: middle;\n    }\n\n    .dataframe tbody tr th {\n        vertical-align: top;\n    }\n\n    .dataframe thead th {\n        text-align: right;\n    }\n</style>\n<table border=\"1\" class=\"dataframe\">\n  <thead>\n    <tr style=\"text-align: right;\">\n      <th></th>\n      <th>nTPC</th>\n      <th>total_cnt</th>\n      <th>trig_cnt</th>\n      <th>untrig_cnt</th>\n      <th>trig % from ttl</th>\n      <th>untrig % from ttl</th>\n    </tr>\n  </thead>\n  <tbody>\n    <tr>\n      <th>0</th>\n      <td>0</td>\n      <td>19456</td>\n      <td>10426</td>\n      <td>9030</td>\n      <td>53.6</td>\n      <td>46.4</td>\n    </tr>\n    <tr>\n      <th>1</th>\n      <td>1</td>\n      <td>17864</td>\n      <td>10209</td>\n      <td>7655</td>\n      <td>57.1</td>\n      <td>42.9</td>\n    </tr>\n    <tr>\n      <th>2</th>\n      <td>2</td>\n      <td>16698</td>\n      <td>9637</td>\n      <td>7061</td>\n      <td>57.7</td>\n      <td>42.3</td>\n    </tr>\n    <tr>\n      <th>3</th>\n      <td>3</td>\n      <td>13101</td>\n      <td>7632</td>\n      <td>5469</td>\n      <td>58.3</td>\n      <td>41.7</td>\n    </tr>\n    <tr>\n      <th>4</th>\n      <td>4</td>\n      <td>5991</td>\n      <td>3536</td>\n      <td>2455</td>\n      <td>59.0</td>\n      <td>41.0</td>\n    </tr>\n  </tbody>\n</table>\n</div>"
     },
     "metadata": {},
     "execution_count": 5
    }
   ],
   "source": [
    "trig_ratio_dict = {}\n",
    "i = 0\n",
    "trig_ratio_dict['nTPC'] = list(range(5))\n",
    "trig_ratio_dict['total_cnt'] = [len(x) for x in ft_zq_Pt_nTpc]\n",
    "trig_ratio_dict['trig_cnt'] = [len(x) for x in ft_zq_Pt_nTpc_triggered]\n",
    "trig_ratio_dict['untrig_cnt'] = [len(x) for x in ft_zq_Pt_nTpc_UNtriggered]\n",
    "\n",
    "rts = pd.DataFrame.from_dict(trig_ratio_dict) \n",
    "rts['trig % from ttl'] = (100 * rts.trig_cnt / rts.total_cnt).round(decimals=1)\n",
    "rts['untrig % from ttl'] = (100 * rts.untrig_cnt / rts.total_cnt).round(decimals=1)\n",
    "rts"
   ]
  },
  {
   "cell_type": "markdown",
   "metadata": {},
   "source": [
    "## Transversal momentum distribution\n",
    "\n",
    "We can see what happend in case of we will make criteria for TPC softer, i.e. not each of four tracks\n",
    "should be TPC refitted, but only 3 etc."
   ]
  },
  {
   "cell_type": "code",
   "execution_count": 6,
   "metadata": {
    "ExecuteTime": {
     "end_time": "2021-04-15T17:30:31.108978Z",
     "start_time": "2021-04-15T17:30:30.958866Z"
    }
   },
   "outputs": [
    {
     "output_type": "display_data",
     "data": {
      "text/plain": "Canvas(toolbar=Toolbar(toolitems=[('Home', 'Reset original view', 'home', 'home'), ('Back', 'Back to previous …",
      "application/vnd.jupyter.widget-view+json": {
       "version_major": 2,
       "version_minor": 0,
       "model_id": "38cb65334fea4becb17de1df34359e89"
      }
     },
     "metadata": {}
    }
   ],
   "source": [
    "colors = ['red', 'yellow', 'green', 'orange', 'black']\n",
    "labels = ['ITS & (>= 0TPC)', 'ITS & (>= 1TPC)',\n",
    "          'ITS & (>= 2TPC)', 'ITS & (>= 3TPC)', 'ITS & ( =  4TPC)']\n",
    "\n",
    "fig = ShowComparisonSame('', ft_zq_Pt_nTpc, r'$p_t \\pi^+\\pi^-\\pi^+\\pi^-$,GeV',\n",
    "                   labels, colors, nBins=100, ranges=(0, 2),showPatch=True)\n",
    "\n",
    "# plt.show()\n",
    "# fig\n"
   ]
  },
  {
   "cell_type": "markdown",
   "metadata": {},
   "source": [
    "Let' see what exactly gain we have in the same order:\n",
    "\n",
    "0TPC - 1TPC\n",
    "\n",
    "..."
   ]
  },
  {
   "cell_type": "code",
   "execution_count": 7,
   "metadata": {
    "ExecuteTime": {
     "end_time": "2021-04-15T17:31:10.308580Z",
     "start_time": "2021-04-15T17:31:10.122027Z"
    }
   },
   "outputs": [
    {
     "output_type": "display_data",
     "data": {
      "text/plain": "Canvas(toolbar=Toolbar(toolitems=[('Home', 'Reset original view', 'home', 'home'), ('Back', 'Back to previous …",
      "application/vnd.jupyter.widget-view+json": {
       "version_major": 2,
       "version_minor": 0,
       "model_id": "e60eb3ee2d7448299d719ce1d88dbe3a"
      }
     },
     "metadata": {}
    }
   ],
   "source": [
    "%matplotlib widget\n",
    "\n",
    "fig, ax = plt.subplots(2,2)\n",
    "fig.suptitle(r'$p_t$ of 4 track events')\n",
    "n = [-1,1,0,1,0]\n",
    "a = [-1,1,1,0,0]\n",
    "lbls = ['nTPC=3', 'nTPC=2', 'nTPC=1', 'nTPC=0', '']\n",
    "for i in range(4,0,-1):\n",
    "    _ = ax[a[i],n[i]].hist(ft_zq_Pt_nTpc[i-1][ft_zq_Pt_nTpc[i-1].index.difference(ft_zq_Pt_nTpc[i].index)], bins=100, range=(0, 2), histtype='step', color='black', linewidth=1.2, label=lbls[::-1][i])\n",
    "    ax[a[i],n[i]].legend()"
   ]
  },
  {
   "cell_type": "code",
   "execution_count": 8,
   "metadata": {
    "ExecuteTime": {
     "end_time": "2021-04-15T17:31:14.210088Z",
     "start_time": "2021-04-15T17:31:14.037480Z"
    }
   },
   "outputs": [
    {
     "output_type": "display_data",
     "data": {
      "text/plain": "Canvas(toolbar=Toolbar(toolitems=[('Home', 'Reset original view', 'home', 'home'), ('Back', 'Back to previous …",
      "application/vnd.jupyter.widget-view+json": {
       "version_major": 2,
       "version_minor": 0,
       "model_id": "0800691a018c4871968b07e346762842"
      }
     },
     "metadata": {}
    },
    {
     "output_type": "execute_result",
     "data": {
      "text/plain": [
       "<matplotlib.legend.Legend at 0x218b9da1310>"
      ]
     },
     "metadata": {},
     "execution_count": 8
    }
   ],
   "source": [
    "%matplotlib widget\n",
    "\n",
    "fig, ax = plt.subplots(1,3, figsize=(20,7))\n",
    "fig.suptitle(r'$p_t$ of 4 track events')\n",
    "lbls = ['nTPC=3', 'nTPC=2', 'nTPC=1', 'nTPC=0', '']\n",
    "i=1\n",
    "_ = ax[0].hist(ft_zq_Pt_nTpc[i], bins=100, range=(0, 2), histtype='step', color='black', linewidth=1.2, label=f'nTPC>={i}')\n",
    "_ = ax[1].hist(ft_zq_Pt_nTpc[i-1][ft_zq_Pt_nTpc[i-1].index.difference(ft_zq_Pt_nTpc[i].index)], bins=100, range=(0, 2), histtype='step', color='black', linewidth=1.2, label=lbls[::-1][i])\n",
    "_ = ax[2].hist(ft_zq_Pt_nTpc[i-1], bins=100, range=(0, 2), histtype='step', color='black', linewidth=1.2, label=f'nTPC>={i-1}')\n",
    "ax[0].legend()\n",
    "ax[1].legend()\n",
    "ax[2].legend()"
   ]
  },
  {
   "cell_type": "code",
   "execution_count": 10,
   "metadata": {
    "ExecuteTime": {
     "end_time": "2021-04-15T17:31:18.604745Z",
     "start_time": "2021-04-15T17:31:18.463744Z"
    }
   },
   "outputs": [
    {
     "output_type": "display_data",
     "data": {
      "text/plain": "Canvas(toolbar=Toolbar(toolitems=[('Home', 'Reset original view', 'home', 'home'), ('Back', 'Back to previous …",
      "application/vnd.jupyter.widget-view+json": {
       "version_major": 2,
       "version_minor": 0,
       "model_id": "db237aea498c4f6e925c15004c4b4fe2"
      }
     },
     "metadata": {}
    },
    {
     "output_type": "execute_result",
     "data": {
      "text/plain": [
       "Text(0, 1, '#events / 20MeV')"
      ]
     },
     "metadata": {},
     "execution_count": 10
    }
   ],
   "source": [
    "%matplotlib widget\n",
    "\n",
    "plt.style.use(hep.style.ROOT)\n",
    "fig = plt.figure()\n",
    "ax = fig.add_subplot()\n",
    "\n",
    "fig.suptitle(f'$p_t$ of events')\n",
    "b = 100\n",
    "r = 0,2\n",
    "counts,bin_edges = np.histogram(ft_zq_Pt_nTpc[2], bins=b, range=r)\n",
    "\n",
    "bin_centres = (bin_edges[:-1] + bin_edges[1:])/2.\n",
    "errs = np.sqrt(counts)\n",
    "ax.errorbar(bin_centres, counts, yerr=errs, fmt='.', color='green')\n",
    "\n",
    "val=(r[1]-r[0])*1000 // b\n",
    "ax.set_xlabel('$p_t, GeV$')\n",
    "ax.set_ylabel(f'#events / {val}MeV')\n"
   ]
  },
  {
   "cell_type": "markdown",
   "metadata": {},
   "source": [
    "Now we can try to estimate what influence has [incorrectness triggering](#False-triggering)"
   ]
  },
  {
   "cell_type": "code",
   "execution_count": 621,
   "metadata": {
    "ExecuteTime": {
     "end_time": "2021-04-15T17:31:28.327898Z",
     "start_time": "2021-04-15T17:31:28.183148Z"
    },
    "scrolled": false
   },
   "outputs": [
    {
     "output_type": "display_data",
     "data": {
      "text/plain": "Canvas(toolbar=Toolbar(toolitems=[('Home', 'Reset original view', 'home', 'home'), ('Back', 'Back to previous …",
      "application/vnd.jupyter.widget-view+json": {
       "version_major": 2,
       "version_minor": 0,
       "model_id": "3b996a87fe7c42c6bd563eca797e6d26"
      }
     },
     "metadata": {}
    },
    {
     "output_type": "execute_result",
     "data": {
      "text/plain": [
       "<matplotlib.legend.Legend at 0x188df415130>"
      ]
     },
     "metadata": {},
     "execution_count": 621
    }
   ],
   "source": [
    "plt.style.use(hep.style.ROOT)\n",
    "fig = plt.figure()\n",
    "ax = fig.add_subplot()\n",
    "\n",
    "fig.suptitle(f'$p_t$ of events')\n",
    "b = 100\n",
    "r = 0,2\n",
    "counts,bin_edges = np.histogram(ft_zq_Pt_nTpc_triggered[2][ind.index][~ind], bins=b, range=r)\n",
    "# counts,bin_edges = np.histogram(kinematics.pt_events(ft.GetTracksWithNTPC(ft.four_tracks_zq)), bins=b, range=r)\n",
    "\n",
    "bin_centres = (bin_edges[:-1] + bin_edges[1:])/2.\n",
    "errs = np.sqrt(counts)\n",
    "ax.errorbar(bin_centres, counts, yerr=errs, fmt='.', color='green', label=r'after zdc cuts')\n",
    "\n",
    "val=(r[1]-r[0])*1000 // b\n",
    "ax.set_xlabel('$p_t, GeV$')\n",
    "ax.set_ylabel(f'#events / {val}MeV')\n",
    "# ax.add_patch(Rectangle((0, 0.15), 0.15, 700, fc='lightgrey', alpha=0.4))\n",
    "# ax.text(0.15,0,\"0.15\", size=20)\n",
    "# counts,bin_edges = np.histogram(ft_zq_Pt_nTpc_UNtriggered[2], bins=b, range=r)\n",
    "counts,bin_edges = np.histogram(ft_zq_Pt_nTpc_triggered[2], bins=b, range=r)\n",
    "# counts,bin_edges = np.histogram(kinematics.pt_events(ft.GetTracksWithNTPC(ft.four_tracks_zq)), bins=b, range=r)\n",
    "bin_centres = (bin_edges[:-1] + bin_edges[1:])/2.\n",
    "errs = np.sqrt(counts)\n",
    "# ax.errorbar(bin_centres, counts, yerr=errs, fmt='.', label=r'orig plot', color='red')\n",
    "ax.legend()\n",
    "# fig\n"
   ]
  },
  {
   "cell_type": "code",
   "execution_count": 622,
   "metadata": {},
   "outputs": [
    {
     "output_type": "display_data",
     "data": {
      "text/plain": "Canvas(toolbar=Toolbar(toolitems=[('Home', 'Reset original view', 'home', 'home'), ('Back', 'Back to previous …",
      "application/vnd.jupyter.widget-view+json": {
       "version_major": 2,
       "version_minor": 0,
       "model_id": "5c9691fb91de45cfbd1b6827227c11fb"
      }
     },
     "metadata": {}
    },
    {
     "output_type": "execute_result",
     "data": {
      "text/plain": [
       "<matplotlib.legend.Legend at 0x188ec31d2e0>"
      ]
     },
     "metadata": {},
     "execution_count": 622
    }
   ],
   "source": [
    "%matplotlib widget\n",
    "\n",
    "fig, ax = plt.subplots(1,3, figsize=(20,7))\n",
    "fig.suptitle(r'zdc cut for $p_t$ of 4 track events')\n",
    "lbls = ['nTPC=3', 'nTPC=2', 'nTPC=1', 'nTPC=0', '']\n",
    "i=1\n",
    "\n",
    "b = 100\n",
    "r = 0,2\n",
    "counts,bin_edges = np.histogram(ft_zq_Pt_nTpc_triggered[2], bins=b, range=r)\n",
    "# counts,bin_edges = np.histogram(kinematics.pt_events(ft.GetTracksWithNTPC(ft.four_tracks_zq)), bins=b, range=r)\n",
    "\n",
    "bin_centres = (bin_edges[:-1] + bin_edges[1:])/2.\n",
    "errs = np.sqrt(counts)\n",
    "ax[0].errorbar(bin_centres, counts, yerr=errs, fmt='.', color='green', label=r'before zdc cut')\n",
    "\n",
    "\n",
    "counts,bin_edges = np.histogram(ft_zq_Pt_nTpc_triggered[2][ind.index][ind], bins=b, range=r)\n",
    "bin_centres = (bin_edges[:-1] + bin_edges[1:])/2.\n",
    "errs = np.sqrt(counts)\n",
    "\n",
    "ax[1].errorbar(bin_centres, counts, yerr=errs, fmt='.', color='black', label=r'zdc cut values')\n",
    "\n",
    "\n",
    "counts,bin_edges = np.histogram(ft_zq_Pt_nTpc_triggered[2], bins=b, range=r)\n",
    "bin_centres = (bin_edges[:-1] + bin_edges[1:])/2.\n",
    "errs = np.sqrt(counts)\n",
    "\n",
    "ax[2].errorbar(bin_centres, counts, yerr=errs, fmt='.', color='red', label=r'before zdc cut')\n",
    "\n",
    "counts,bin_edges = np.histogram(ft_zq_Pt_nTpc_triggered[2][ind.index][~ind], bins=b, range=r)\n",
    "# counts,bin_edges = np.histogram(kinematics.pt_events(ft.GetTracksWithNTPC(ft.four_tracks_zq)), bins=b, range=r)\n",
    "\n",
    "bin_centres = (bin_edges[:-1] + bin_edges[1:])/2.\n",
    "errs = np.sqrt(counts)\n",
    "ax[2].errorbar(bin_centres, counts, yerr=errs, fmt='.', color='green', label=r'after zdc cut')\n",
    "\n",
    "ax[0].legend()\n",
    "ax[1].legend()\n",
    "ax[2].legend()"
   ]
  },
  {
   "cell_type": "markdown",
   "metadata": {},
   "source": [
    "Now  let's try to see what tracks we lost from signal area and what contribution they have:"
   ]
  },
  {
   "cell_type": "markdown",
   "metadata": {},
   "source": [
    "TPC and ITS has different coverage for polar angle:\n",
    "\n",
    "![img1](https://camo.githubusercontent.com/9a7ab40d0f74a866a7095986644134a0f72cc58b/68747470733a2f2f70702e757365726170692e636f6d2f633835323231362f763835323231363738332f3131396137332f304f76685f6c544b4e7a552e6a7067)\n",
    "\n",
    "Perhaps we have tracks that not only can't reach TPC, but also has $\\theta$ values that TPC doesn't cover.\n",
    "\n",
    "Below we can see polar angle distribution for tracks that covers three cases:\n",
    "\n",
    "1. All tracks from events were reconstructed by ITS and TPC\n",
    "2. Only ITS tracks from events with only part TPC tracks. Here tracks that not reconstructed by TPC\n",
    "3. All tracks from events were reconstructed by ITS or TPC\n",
    "\n",
    "We can see small gaps with for the second case, that allow to speak about correctness of the suggestion, but anyway low energy of tracks is the main reason why TPC can't reconstructed tracks.  "
   ]
  },
  {
   "cell_type": "markdown",
   "metadata": {},
   "source": [
    "## Mass\n",
    "Let's see on the mass distribution of the events\n"
   ]
  },
  {
   "cell_type": "code",
   "execution_count": 11,
   "metadata": {
    "ExecuteTime": {
     "end_time": "2021-04-15T17:31:44.431711Z",
     "start_time": "2021-04-15T17:31:44.278548Z"
    }
   },
   "outputs": [
    {
     "output_type": "display_data",
     "data": {
      "text/plain": "Canvas(toolbar=Toolbar(toolitems=[('Home', 'Reset original view', 'home', 'home'), ('Back', 'Back to previous …",
      "application/vnd.jupyter.widget-view+json": {
       "version_major": 2,
       "version_minor": 0,
       "model_id": "9a56da0a523f430bb2aac5ec48dcc6fa"
      }
     },
     "metadata": {}
    }
   ],
   "source": [
    "fig = ShowComparisonSame('4track events Mass', ft_zq_Mass_nTpc, '$Mass, GeV$',\n",
    "                   labels, colors, nBins=100, ranges=(0.5, 3.5))"
   ]
  },
  {
   "cell_type": "markdown",
   "metadata": {},
   "source": [
    "Let's compare masses of events with handle triggering manipulations:\n",
    "\n",
    "_see False triggering chapter below_"
   ]
  },
  {
   "cell_type": "code",
   "execution_count": 21,
   "metadata": {
    "ExecuteTime": {
     "end_time": "2021-04-15T17:31:52.044074Z",
     "start_time": "2021-04-15T17:31:51.898667Z"
    }
   },
   "outputs": [
    {
     "output_type": "display_data",
     "data": {
      "text/plain": "Canvas(toolbar=Toolbar(toolitems=[('Home', 'Reset original view', 'home', 'home'), ('Back', 'Back to previous …",
      "application/vnd.jupyter.widget-view+json": {
       "version_major": 2,
       "version_minor": 0,
       "model_id": "be423fd29e654f61a4ce7196ee204980"
      }
     },
     "metadata": {}
    },
    {
     "output_type": "stream",
     "name": "stderr",
     "text": [
      "No handles with labels found to put in legend.\n"
     ]
    },
    {
     "output_type": "execute_result",
     "data": {
      "text/plain": [
       "<matplotlib.legend.Legend at 0x218b61426d0>"
      ]
     },
     "metadata": {},
     "execution_count": 21
    }
   ],
   "source": [
    "plt.style.use(hep.style.ROOT)\n",
    "fig = plt.figure() #(figsize=(15,7))\n",
    "ax = fig.add_subplot()\n",
    "\n",
    "ft_zq_Mass_nTpc_triggered = []\n",
    "ft_zq_Mass_nTpc_UNtriggered = []\n",
    "\n",
    "for i in range(5):\n",
    "  ft_zq_Mass_nTpc_triggered.append(ft_zq_Mass_nTpc[i][np.intersect1d(ft_zq_Mass_nTpc[i].index.values, triggered_events.values)])\n",
    "  ft_zq_Mass_nTpc_UNtriggered.append(ft_zq_Mass_nTpc[i][np.intersect1d(ft_zq_Mass_nTpc[i].index.values, untriggered_events.values)])\n",
    "\n",
    "\n",
    "fig.suptitle(f'4 tracks mass', fontsize=32)\n",
    "b = 25\n",
    "r = 0.5,3\n",
    "nTPC = 2\n",
    "counts,bin_edges = np.histogram(ft_zq_Mass_nTpc_triggered[nTPC], bins=b, range=r)\n",
    "# counts,bin_edges = np.histogram(ft_zq_Mass_nTpc_triggered[nTPC][ind.index][~ind], bins=b, range=r)\n",
    "# counts,bin_edges = np.histogram(ft_zq_Mass_nTpc[nTPC], bins=b, range=r)\n",
    "bin_centres = (bin_edges[:-1] + bin_edges[1:])/2.\n",
    "errs = np.sqrt(counts)\n",
    "ax.errorbar(bin_centres, counts, yerr=errs, fmt='.', color='green')#, label=r\"after all cuts\")\n",
    "\n",
    "# counts,bin_edges = np.histogram(ft_zq_Mass_nTpc_UNtriggered[nTPC], bins=b, range=r)\n",
    "counts,bin_edges = np.histogram(ft_zq_Mass_nTpc_triggered[2], bins=b, range=r)\n",
    "bin_centres = (bin_edges[:-1] + bin_edges[1:])/2.\n",
    "errs = np.sqrt(counts)\n",
    "# ax.errorbar(bin_centres, counts, yerr=errs, fmt='.', color='red', label=r\"orig plot\")\n",
    "\n",
    "val=(r[1]-r[0])*1000 // b\n",
    "ax.set_xlabel('$Mass, GeV$')\n",
    "ax.set_ylabel(f'#events / {val}MeV')\n",
    "ax.legend()\n",
    "# fig"
   ]
  },
  {
   "cell_type": "markdown",
   "metadata": {},
   "source": [
    "Let's normalize this plot:"
   ]
  },
  {
   "cell_type": "code",
   "execution_count": 13,
   "metadata": {
    "ExecuteTime": {
     "end_time": "2021-04-15T17:31:57.119114Z",
     "start_time": "2021-04-15T17:31:56.923013Z"
    }
   },
   "outputs": [
    {
     "output_type": "display_data",
     "data": {
      "text/plain": "Canvas(toolbar=Toolbar(toolitems=[('Home', 'Reset original view', 'home', 'home'), ('Back', 'Back to previous …",
      "application/vnd.jupyter.widget-view+json": {
       "version_major": 2,
       "version_minor": 0,
       "model_id": "129df78e61884e9b846167c91087e010"
      }
     },
     "metadata": {}
    },
    {
     "output_type": "execute_result",
     "data": {
      "text/plain": [
       "<matplotlib.legend.Legend at 0x1879f41f6d0>"
      ]
     },
     "metadata": {},
     "execution_count": 13
    }
   ],
   "source": [
    "plt.style.use(hep.style.ROOT)\n",
    "fig = plt.figure(figsize=(10,8))\n",
    "ax = fig.add_subplot()\n",
    "\n",
    "fig.suptitle('mass of events', fontsize=32)\n",
    "b = 100\n",
    "r = 0.7,2.7\n",
    "\n",
    "n = 2\n",
    "cnts = ax.hist(ft_zq_Mass_nTpc_triggered[n],bins=b, range=r,histtype='step', linewidth=2, density=True, stacked=True, label='correct trig', color='green')\n",
    "\n",
    "ax.hist(ft_zq_Mass_nTpc_UNtriggered[n],bins=b, range=r,histtype='step', linewidth=2, density=True, label='fake trig', color='red',stacked=True)\n",
    "\n",
    "val=(r[1]-r[0])*1000 // b\n",
    "ax.set_xlabel('$Mass, GeV$')\n",
    "ax.set_ylabel(f'#events / {val}MeV')\n",
    "\n",
    "ax.legend()\n",
    "# fig"
   ]
  },
  {
   "cell_type": "code",
   "execution_count": 609,
   "metadata": {},
   "outputs": [
    {
     "output_type": "display_data",
     "data": {
      "text/plain": "Canvas(toolbar=Toolbar(toolitems=[('Home', 'Reset original view', 'home', 'home'), ('Back', 'Back to previous …",
      "application/vnd.jupyter.widget-view+json": {
       "version_major": 2,
       "version_minor": 0,
       "model_id": "9e0e058869974a56b1a4afa220c707de"
      }
     },
     "metadata": {}
    },
    {
     "output_type": "stream",
     "name": "stderr",
     "text": [
      "No handles with labels found to put in legend.\n",
      "No handles with labels found to put in legend.\n",
      "No handles with labels found to put in legend.\n"
     ]
    },
    {
     "output_type": "execute_result",
     "data": {
      "text/plain": [
       "<matplotlib.legend.Legend at 0x188e6c6b5e0>"
      ]
     },
     "metadata": {},
     "execution_count": 609
    }
   ],
   "source": [
    "%matplotlib widget\n",
    "\n",
    "fig, ax = plt.subplots(1,3, figsize=(20,7))\n",
    "fig.suptitle(r'zdc cut for mass of 4 track events')\n",
    "\n",
    "b = 25\n",
    "r = 0.5,3\n",
    "counts,bin_edges = np.histogram(ft_zq_Mass_nTpc_triggered[2], bins=b, range=r)\n",
    "# counts,bin_edges = np.histogram(kinematics.pt_events(ft.GetTracksWithNTPC(ft.four_tracks_zq)), bins=b, range=r)\n",
    "\n",
    "bin_centres = (bin_edges[:-1] + bin_edges[1:])/2.\n",
    "errs = np.sqrt(counts)\n",
    "ax[0].errorbar(bin_centres, counts, yerr=errs, fmt='.', color='green')#, label=r'before zdc cut')\n",
    "\n",
    "\n",
    "counts,bin_edges = np.histogram(ft_zq_Mass_nTpc_triggered[2][ind.index][ind], bins=b, range=r)\n",
    "bin_centres = (bin_edges[:-1] + bin_edges[1:])/2.\n",
    "errs = np.sqrt(counts)\n",
    "\n",
    "ax[1].errorbar(bin_centres, counts, yerr=errs, fmt='.', color='black')# , label=r'zdc cut values')\n",
    "\n",
    "\n",
    "counts,bin_edges = np.histogram(ft_zq_Mass_nTpc_triggered[2], bins=b, range=r)\n",
    "bin_centres = (bin_edges[:-1] + bin_edges[1:])/2.\n",
    "errs = np.sqrt(counts)\n",
    "\n",
    "ax[2].errorbar(bin_centres, counts, yerr=errs, fmt='.', color='red') #, label=r'before zdc cut')\n",
    "\n",
    "counts,bin_edges = np.histogram(ft_zq_Mass_nTpc_triggered[2][ind.index][~ind], bins=b, range=r)\n",
    "# counts,bin_edges = np.histogram(kinematics.pt_events(ft.GetTracksWithNTPC(ft.four_tracks_zq)), bins=b, range=r)\n",
    "\n",
    "bin_centres = (bin_edges[:-1] + bin_edges[1:])/2.\n",
    "errs = np.sqrt(counts)\n",
    "ax[2].errorbar(bin_centres, counts, yerr=errs, fmt='.', color='green') #, label=r'after zdc cut')\n",
    "\n",
    "\n",
    "\n",
    "ax[0].legend()\n",
    "ax[1].legend()\n",
    "ax[2].legend()"
   ]
  },
  {
   "cell_type": "markdown",
   "metadata": {},
   "source": [
    "### Pions subsystems\n",
    "\n",
    "In our process 4 pions were producted. The most probably intermediate state including two pions and $\\rho$ i.e.\n",
    "$$\\rho' \\rightarrow \\rho \\ \\pi^+ \\pi^- \\rightarrow \\pi^+ \\pi^- \\pi^+ \\pi^-$$ \n",
    "\n",
    "We can see this on distribution of mass that can be obtained as all combinations of pairs from intial four tracks, i.e. only four pairs:\n",
    "\n",
    "![img](https://camo.githubusercontent.com/53a52e2a6d4ae7112d74f4073c979a51166170d8/68747470733a2f2f70702e757365726170692e636f6d2f633835333632342f763835333632343436372f34383466332f5431375a754b597062526f2e6a7067)\n",
    "\n",
    "Here we can plot two distirbutions:\n",
    "\n",
    "1. Make all possible(4) combinations of pairs. Then take lightest and pair that belong to one combination with that. Plot masses of these two pairs.\n",
    "2. Plot masses of masses from possible combinations."
   ]
  },
  {
   "cell_type": "code",
   "execution_count": 589,
   "metadata": {
    "ExecuteTime": {
     "end_time": "2021-04-14T04:10:03.533012Z",
     "start_time": "2021-04-14T04:10:03.259267Z"
    }
   },
   "outputs": [
    {
     "output_type": "error",
     "ename": "KeyError",
     "evalue": "\"None of [Int64Index([     8,     15,     20,     73,     82,    140,    155,    164,\\n               178,    191,\\n            ...\\n            106383, 106392, 106402, 106457, 106497, 106499, 106524, 106601,\\n            106636, 106687],\\n           dtype='int64', name='entry', length=2848)] are in the [columns]\"",
     "traceback": [
      "\u001b[1;31m---------------------------------------------------------------------------\u001b[0m",
      "\u001b[1;31mKeyError\u001b[0m                                  Traceback (most recent call last)",
      "\u001b[1;32m<ipython-input-589-013386239608>\u001b[0m in \u001b[0;36m<module>\u001b[1;34m\u001b[0m\n\u001b[0;32m     56\u001b[0m \u001b[0mLiteHeavyRecoil\u001b[0m\u001b[1;33m,\u001b[0m \u001b[0mLiteHeavyTotal\u001b[0m \u001b[1;33m=\u001b[0m \u001b[0mpairs\u001b[0m\u001b[1;33m.\u001b[0m\u001b[0mGetPairsMasses\u001b[0m\u001b[1;33m(\u001b[0m\u001b[0mft\u001b[0m\u001b[1;33m.\u001b[0m\u001b[0mGetTracksWithPtLt\u001b[0m\u001b[1;33m(\u001b[0m\u001b[0mft\u001b[0m\u001b[1;33m.\u001b[0m\u001b[0mGetTracksWithNTPC\u001b[0m\u001b[1;33m(\u001b[0m\u001b[0mft\u001b[0m\u001b[1;33m.\u001b[0m\u001b[0mfour_tracks_zq\u001b[0m\u001b[1;33m,\u001b[0m\u001b[1;36m4\u001b[0m\u001b[1;33m)\u001b[0m\u001b[1;33m)\u001b[0m\u001b[1;33m)\u001b[0m\u001b[1;33m\u001b[0m\u001b[1;33m\u001b[0m\u001b[0m\n\u001b[0;32m     57\u001b[0m \u001b[1;33m\u001b[0m\u001b[0m\n\u001b[1;32m---> 58\u001b[1;33m \u001b[0mfig\u001b[0m \u001b[1;33m=\u001b[0m \u001b[0mpairs\u001b[0m\u001b[1;33m.\u001b[0m\u001b[0mShowMassComaprison\u001b[0m\u001b[1;33m(\u001b[0m\u001b[0mLiteHeavyTotal\u001b[0m\u001b[1;33m[\u001b[0m\u001b[0mind\u001b[0m\u001b[1;33m.\u001b[0m\u001b[0mindex\u001b[0m\u001b[1;33m]\u001b[0m\u001b[1;33m[\u001b[0m\u001b[1;33m~\u001b[0m\u001b[0mind\u001b[0m\u001b[1;33m]\u001b[0m\u001b[1;33m,\u001b[0m \u001b[1;34mr'$\\rho^0 \\rightarrow \\pi^+\\pi^-$   and    $\\pi^+\\pi^-$ masses'\u001b[0m\u001b[1;33m)\u001b[0m\u001b[1;33m\u001b[0m\u001b[1;33m\u001b[0m\u001b[0m\n\u001b[0m\u001b[0;32m     59\u001b[0m \u001b[1;31m# # fig\u001b[0m\u001b[1;33m\u001b[0m\u001b[1;33m\u001b[0m\u001b[1;33m\u001b[0m\u001b[0m\n",
      "\u001b[1;32mC:\\Python38\\lib\\site-packages\\pandas\\core\\frame.py\u001b[0m in \u001b[0;36m__getitem__\u001b[1;34m(self, key)\u001b[0m\n\u001b[0;32m   3028\u001b[0m             \u001b[1;32mif\u001b[0m \u001b[0mis_iterator\u001b[0m\u001b[1;33m(\u001b[0m\u001b[0mkey\u001b[0m\u001b[1;33m)\u001b[0m\u001b[1;33m:\u001b[0m\u001b[1;33m\u001b[0m\u001b[1;33m\u001b[0m\u001b[0m\n\u001b[0;32m   3029\u001b[0m                 \u001b[0mkey\u001b[0m \u001b[1;33m=\u001b[0m \u001b[0mlist\u001b[0m\u001b[1;33m(\u001b[0m\u001b[0mkey\u001b[0m\u001b[1;33m)\u001b[0m\u001b[1;33m\u001b[0m\u001b[1;33m\u001b[0m\u001b[0m\n\u001b[1;32m-> 3030\u001b[1;33m             \u001b[0mindexer\u001b[0m \u001b[1;33m=\u001b[0m \u001b[0mself\u001b[0m\u001b[1;33m.\u001b[0m\u001b[0mloc\u001b[0m\u001b[1;33m.\u001b[0m\u001b[0m_get_listlike_indexer\u001b[0m\u001b[1;33m(\u001b[0m\u001b[0mkey\u001b[0m\u001b[1;33m,\u001b[0m \u001b[0maxis\u001b[0m\u001b[1;33m=\u001b[0m\u001b[1;36m1\u001b[0m\u001b[1;33m,\u001b[0m \u001b[0mraise_missing\u001b[0m\u001b[1;33m=\u001b[0m\u001b[1;32mTrue\u001b[0m\u001b[1;33m)\u001b[0m\u001b[1;33m[\u001b[0m\u001b[1;36m1\u001b[0m\u001b[1;33m]\u001b[0m\u001b[1;33m\u001b[0m\u001b[1;33m\u001b[0m\u001b[0m\n\u001b[0m\u001b[0;32m   3031\u001b[0m \u001b[1;33m\u001b[0m\u001b[0m\n\u001b[0;32m   3032\u001b[0m         \u001b[1;31m# take() does not accept boolean indexers\u001b[0m\u001b[1;33m\u001b[0m\u001b[1;33m\u001b[0m\u001b[1;33m\u001b[0m\u001b[0m\n",
      "\u001b[1;32mC:\\Python38\\lib\\site-packages\\pandas\\core\\indexing.py\u001b[0m in \u001b[0;36m_get_listlike_indexer\u001b[1;34m(self, key, axis, raise_missing)\u001b[0m\n\u001b[0;32m   1264\u001b[0m             \u001b[0mkeyarr\u001b[0m\u001b[1;33m,\u001b[0m \u001b[0mindexer\u001b[0m\u001b[1;33m,\u001b[0m \u001b[0mnew_indexer\u001b[0m \u001b[1;33m=\u001b[0m \u001b[0max\u001b[0m\u001b[1;33m.\u001b[0m\u001b[0m_reindex_non_unique\u001b[0m\u001b[1;33m(\u001b[0m\u001b[0mkeyarr\u001b[0m\u001b[1;33m)\u001b[0m\u001b[1;33m\u001b[0m\u001b[1;33m\u001b[0m\u001b[0m\n\u001b[0;32m   1265\u001b[0m \u001b[1;33m\u001b[0m\u001b[0m\n\u001b[1;32m-> 1266\u001b[1;33m         \u001b[0mself\u001b[0m\u001b[1;33m.\u001b[0m\u001b[0m_validate_read_indexer\u001b[0m\u001b[1;33m(\u001b[0m\u001b[0mkeyarr\u001b[0m\u001b[1;33m,\u001b[0m \u001b[0mindexer\u001b[0m\u001b[1;33m,\u001b[0m \u001b[0maxis\u001b[0m\u001b[1;33m,\u001b[0m \u001b[0mraise_missing\u001b[0m\u001b[1;33m=\u001b[0m\u001b[0mraise_missing\u001b[0m\u001b[1;33m)\u001b[0m\u001b[1;33m\u001b[0m\u001b[1;33m\u001b[0m\u001b[0m\n\u001b[0m\u001b[0;32m   1267\u001b[0m         \u001b[1;32mreturn\u001b[0m \u001b[0mkeyarr\u001b[0m\u001b[1;33m,\u001b[0m \u001b[0mindexer\u001b[0m\u001b[1;33m\u001b[0m\u001b[1;33m\u001b[0m\u001b[0m\n\u001b[0;32m   1268\u001b[0m \u001b[1;33m\u001b[0m\u001b[0m\n",
      "\u001b[1;32mC:\\Python38\\lib\\site-packages\\pandas\\core\\indexing.py\u001b[0m in \u001b[0;36m_validate_read_indexer\u001b[1;34m(self, key, indexer, axis, raise_missing)\u001b[0m\n\u001b[0;32m   1306\u001b[0m             \u001b[1;32mif\u001b[0m \u001b[0mmissing\u001b[0m \u001b[1;33m==\u001b[0m \u001b[0mlen\u001b[0m\u001b[1;33m(\u001b[0m\u001b[0mindexer\u001b[0m\u001b[1;33m)\u001b[0m\u001b[1;33m:\u001b[0m\u001b[1;33m\u001b[0m\u001b[1;33m\u001b[0m\u001b[0m\n\u001b[0;32m   1307\u001b[0m                 \u001b[0maxis_name\u001b[0m \u001b[1;33m=\u001b[0m \u001b[0mself\u001b[0m\u001b[1;33m.\u001b[0m\u001b[0mobj\u001b[0m\u001b[1;33m.\u001b[0m\u001b[0m_get_axis_name\u001b[0m\u001b[1;33m(\u001b[0m\u001b[0maxis\u001b[0m\u001b[1;33m)\u001b[0m\u001b[1;33m\u001b[0m\u001b[1;33m\u001b[0m\u001b[0m\n\u001b[1;32m-> 1308\u001b[1;33m                 \u001b[1;32mraise\u001b[0m \u001b[0mKeyError\u001b[0m\u001b[1;33m(\u001b[0m\u001b[1;34mf\"None of [{key}] are in the [{axis_name}]\"\u001b[0m\u001b[1;33m)\u001b[0m\u001b[1;33m\u001b[0m\u001b[1;33m\u001b[0m\u001b[0m\n\u001b[0m\u001b[0;32m   1309\u001b[0m \u001b[1;33m\u001b[0m\u001b[0m\n\u001b[0;32m   1310\u001b[0m             \u001b[0max\u001b[0m \u001b[1;33m=\u001b[0m \u001b[0mself\u001b[0m\u001b[1;33m.\u001b[0m\u001b[0mobj\u001b[0m\u001b[1;33m.\u001b[0m\u001b[0m_get_axis\u001b[0m\u001b[1;33m(\u001b[0m\u001b[0maxis\u001b[0m\u001b[1;33m)\u001b[0m\u001b[1;33m\u001b[0m\u001b[1;33m\u001b[0m\u001b[0m\n",
      "\u001b[1;31mKeyError\u001b[0m: \"None of [Int64Index([     8,     15,     20,     73,     82,    140,    155,    164,\\n               178,    191,\\n            ...\\n            106383, 106392, 106402, 106457, 106497, 106499, 106524, 106601,\\n            106636, 106687],\\n           dtype='int64', name='entry', length=2848)] are in the [columns]\""
     ]
    }
   ],
   "source": [
    "import modules.physics.analysis.pairs as pairs\n",
    "\n",
    "tracks  = ft.GetTracksWithPtLt(ft.ft_zq_nTPC[0])\n",
    "PosFirstTrack = tracks[tracks.T_Q > 0].groupby('entry').first()\n",
    "PosSecTrack = tracks[tracks.T_Q > 0].groupby('entry').last()\n",
    "NegFirstTrack = tracks[tracks.T_Q < 0].groupby('entry').first()\n",
    "NegSecTrack = tracks[tracks.T_Q < 0].groupby('entry').last()\n",
    "\n",
    "## first comb\n",
    "pair1 = pairs.MakePair(PosFirstTrack, NegFirstTrack)\n",
    "pair2 = pairs.MakePair(PosSecTrack, NegSecTrack)\n",
    "## second comb\n",
    "pair3 = pairs.MakePair(PosFirstTrack, NegSecTrack)\n",
    "pair4 = pairs.MakePair(PosSecTrack, NegFirstTrack)\n",
    "\n",
    "# first comb\n",
    "m1 = kinematics.mass_events(pair1)\n",
    "m2 = kinematics.mass_events(pair2)\n",
    "## second comb\n",
    "m3 = kinematics.mass_events(pair3)\n",
    "m4 = kinematics.mass_events(pair4)\n",
    "\n",
    "\n",
    "heavy_pairs1 = pd.concat([pair1.loc[m1[m1 > m2].index], pair2.loc[m2[m2 > m1].index]])\n",
    "soft_pairs1 = pd.concat([pair1.loc[m1[m1 < m2].index], pair2.loc[m2[m2 < m1].index]])\n",
    "\n",
    "heavy_pairs2 = pd.concat([pair3.loc[m3[m3 > m4].index], pair4.loc[m4[m4 > m3].index]])\n",
    "soft_pairs2 = pd.concat([pair3.loc[m3[m3 < m4].index], pair4.loc[m4[m4 < m3].index]])\n",
    "\n",
    "\n",
    "\n",
    "#  = pd.concat([heavy_pairs1, heavy_pairs2])\n",
    "\n",
    "heavy_pairs = heavy_pairs1\n",
    "heavy_pairs\n",
    "# heavy_pairs = heavy_pairs2\n",
    "\n",
    "# M = kinematics.mass_events(heavy_pairs)\n",
    "# E = kinematics.E_events(heavy_pairs)\n",
    "# P = kinematics.P_events(heavy_pairs)\n",
    "# P0 = np.sqrt(M**2-4*(0.001*PiPlus.mass)**2)/2\n",
    "# E0 = M / 2\n",
    "# # cos_th1 = kinematics.cos_theta_events(heavy_pairs1[heavy_pairs1.T_Q > 0].groupby('entry').first(),heavy_pairs1)\n",
    "# # tan_th1 = np.sqrt(1/cos_th**2 - 1)\n",
    "\n",
    "# # theta_as = np.arcsin(P*E0*tan_th1/(E*P0*np.sqrt(1+tan_th1*E/M)))\n",
    "# # theta_ac = np.arccos(1/(np.sqrt(1+1+tan_th1*E/M)))\n",
    "# # theta = theta_as - theta_ac\n",
    "\n",
    "# _ = plt.hist(M, bins=100, range=(0.3,2),histtype='step', linewidth=2, color='blue')\n",
    "\n",
    "\n",
    "from modules.physics.analysis import pairs\n",
    "\n",
    "# LiteHeavyRecoil, LiteHeavyTotal = pairs.GetPairs(ft.GetTracksWithPtLt(ft.GetTracksWithNTPC(ft.four_tracks_zq,4)))\n",
    "LiteHeavyRecoil, LiteHeavyTotal = pairs.GetPairsMasses(ft.GetTracksWithPtLt(ft.GetTracksWithNTPC(ft.four_tracks_zq,4)))\n",
    "\n",
    "fig = pairs.ShowMassComaprison(LiteHeavyTotal[ind.index][~ind], r'$\\rho^0 \\rightarrow \\pi^+\\pi^-$   and    $\\pi^+\\pi^-$ masses')\n",
    "# # fig"
   ]
  },
  {
   "cell_type": "code",
   "execution_count": 15,
   "metadata": {
    "ExecuteTime": {
     "end_time": "2021-04-10T17:54:36.350837Z",
     "start_time": "2021-04-10T17:54:36.131899Z"
    }
   },
   "outputs": [
    {
     "output_type": "error",
     "ename": "ValueError",
     "evalue": "Cannot merge a Series without a name",
     "traceback": [
      "\u001b[1;31m---------------------------------------------------------------------------\u001b[0m",
      "\u001b[1;31mValueError\u001b[0m                                Traceback (most recent call last)",
      "\u001b[1;32m<ipython-input-15-7721c5a91b43>\u001b[0m in \u001b[0;36m<module>\u001b[1;34m\u001b[0m\n\u001b[0;32m      3\u001b[0m \u001b[0mmh2\u001b[0m \u001b[1;33m=\u001b[0m \u001b[0mkinematics\u001b[0m\u001b[1;33m.\u001b[0m\u001b[0mmass_events\u001b[0m\u001b[1;33m(\u001b[0m\u001b[0mheavy_pairs2\u001b[0m\u001b[1;33m)\u001b[0m\u001b[1;33m\u001b[0m\u001b[1;33m\u001b[0m\u001b[0m\n\u001b[0;32m      4\u001b[0m \u001b[0mms2\u001b[0m \u001b[1;33m=\u001b[0m \u001b[0mkinematics\u001b[0m\u001b[1;33m.\u001b[0m\u001b[0mmass_events\u001b[0m\u001b[1;33m(\u001b[0m\u001b[0msoft_pairs2\u001b[0m\u001b[1;33m)\u001b[0m\u001b[1;33m\u001b[0m\u001b[1;33m\u001b[0m\u001b[0m\n\u001b[1;32m----> 5\u001b[1;33m \u001b[0mpd\u001b[0m\u001b[1;33m.\u001b[0m\u001b[0mmerge\u001b[0m\u001b[1;33m(\u001b[0m\u001b[0mpd\u001b[0m\u001b[1;33m.\u001b[0m\u001b[0mconcat\u001b[0m\u001b[1;33m(\u001b[0m\u001b[1;33m[\u001b[0m\u001b[0mmh1\u001b[0m\u001b[1;33m,\u001b[0m \u001b[0mmh2\u001b[0m\u001b[1;33m]\u001b[0m\u001b[1;33m)\u001b[0m\u001b[1;33m.\u001b[0m\u001b[0msort_index\u001b[0m\u001b[1;33m(\u001b[0m\u001b[1;33m)\u001b[0m\u001b[1;33m,\u001b[0m \u001b[0mpd\u001b[0m\u001b[1;33m.\u001b[0m\u001b[0mconcat\u001b[0m\u001b[1;33m(\u001b[0m\u001b[1;33m[\u001b[0m\u001b[0mms1\u001b[0m\u001b[1;33m,\u001b[0m \u001b[0mms2\u001b[0m\u001b[1;33m]\u001b[0m\u001b[1;33m)\u001b[0m\u001b[1;33m.\u001b[0m\u001b[0msort_index\u001b[0m\u001b[1;33m(\u001b[0m\u001b[1;33m)\u001b[0m\u001b[1;33m,\u001b[0m \u001b[0mright_on\u001b[0m\u001b[1;33m=\u001b[0m\u001b[1;34m'entry'\u001b[0m\u001b[1;33m,\u001b[0m \u001b[0mleft_on\u001b[0m\u001b[1;33m=\u001b[0m\u001b[1;34m'entry'\u001b[0m\u001b[1;33m)\u001b[0m\u001b[1;33m\u001b[0m\u001b[1;33m\u001b[0m\u001b[0m\n\u001b[0m",
      "\u001b[1;32mC:\\Python38\\lib\\site-packages\\pandas\\core\\reshape\\merge.py\u001b[0m in \u001b[0;36mmerge\u001b[1;34m(left, right, how, on, left_on, right_on, left_index, right_index, sort, suffixes, copy, indicator, validate)\u001b[0m\n\u001b[0;32m     72\u001b[0m     \u001b[0mvalidate\u001b[0m\u001b[1;33m=\u001b[0m\u001b[1;32mNone\u001b[0m\u001b[1;33m,\u001b[0m\u001b[1;33m\u001b[0m\u001b[1;33m\u001b[0m\u001b[0m\n\u001b[0;32m     73\u001b[0m ) -> \"DataFrame\":\n\u001b[1;32m---> 74\u001b[1;33m     op = _MergeOperation(\n\u001b[0m\u001b[0;32m     75\u001b[0m         \u001b[0mleft\u001b[0m\u001b[1;33m,\u001b[0m\u001b[1;33m\u001b[0m\u001b[1;33m\u001b[0m\u001b[0m\n\u001b[0;32m     76\u001b[0m         \u001b[0mright\u001b[0m\u001b[1;33m,\u001b[0m\u001b[1;33m\u001b[0m\u001b[1;33m\u001b[0m\u001b[0m\n",
      "\u001b[1;32mC:\\Python38\\lib\\site-packages\\pandas\\core\\reshape\\merge.py\u001b[0m in \u001b[0;36m__init__\u001b[1;34m(self, left, right, how, on, left_on, right_on, axis, left_index, right_index, sort, suffixes, copy, indicator, validate)\u001b[0m\n\u001b[0;32m    596\u001b[0m         \u001b[0mvalidate\u001b[0m\u001b[1;33m=\u001b[0m\u001b[1;32mNone\u001b[0m\u001b[1;33m,\u001b[0m\u001b[1;33m\u001b[0m\u001b[1;33m\u001b[0m\u001b[0m\n\u001b[0;32m    597\u001b[0m     ):\n\u001b[1;32m--> 598\u001b[1;33m         \u001b[0m_left\u001b[0m \u001b[1;33m=\u001b[0m \u001b[0m_validate_operand\u001b[0m\u001b[1;33m(\u001b[0m\u001b[0mleft\u001b[0m\u001b[1;33m)\u001b[0m\u001b[1;33m\u001b[0m\u001b[1;33m\u001b[0m\u001b[0m\n\u001b[0m\u001b[0;32m    599\u001b[0m         \u001b[0m_right\u001b[0m \u001b[1;33m=\u001b[0m \u001b[0m_validate_operand\u001b[0m\u001b[1;33m(\u001b[0m\u001b[0mright\u001b[0m\u001b[1;33m)\u001b[0m\u001b[1;33m\u001b[0m\u001b[1;33m\u001b[0m\u001b[0m\n\u001b[0;32m    600\u001b[0m         \u001b[0mself\u001b[0m\u001b[1;33m.\u001b[0m\u001b[0mleft\u001b[0m \u001b[1;33m=\u001b[0m \u001b[0mself\u001b[0m\u001b[1;33m.\u001b[0m\u001b[0morig_left\u001b[0m \u001b[1;33m=\u001b[0m \u001b[0m_left\u001b[0m\u001b[1;33m\u001b[0m\u001b[1;33m\u001b[0m\u001b[0m\n",
      "\u001b[1;32mC:\\Python38\\lib\\site-packages\\pandas\\core\\reshape\\merge.py\u001b[0m in \u001b[0;36m_validate_operand\u001b[1;34m(obj)\u001b[0m\n\u001b[0;32m   2142\u001b[0m     \u001b[1;32melif\u001b[0m \u001b[0misinstance\u001b[0m\u001b[1;33m(\u001b[0m\u001b[0mobj\u001b[0m\u001b[1;33m,\u001b[0m \u001b[0mABCSeries\u001b[0m\u001b[1;33m)\u001b[0m\u001b[1;33m:\u001b[0m\u001b[1;33m\u001b[0m\u001b[1;33m\u001b[0m\u001b[0m\n\u001b[0;32m   2143\u001b[0m         \u001b[1;32mif\u001b[0m \u001b[0mobj\u001b[0m\u001b[1;33m.\u001b[0m\u001b[0mname\u001b[0m \u001b[1;32mis\u001b[0m \u001b[1;32mNone\u001b[0m\u001b[1;33m:\u001b[0m\u001b[1;33m\u001b[0m\u001b[1;33m\u001b[0m\u001b[0m\n\u001b[1;32m-> 2144\u001b[1;33m             \u001b[1;32mraise\u001b[0m \u001b[0mValueError\u001b[0m\u001b[1;33m(\u001b[0m\u001b[1;34m\"Cannot merge a Series without a name\"\u001b[0m\u001b[1;33m)\u001b[0m\u001b[1;33m\u001b[0m\u001b[1;33m\u001b[0m\u001b[0m\n\u001b[0m\u001b[0;32m   2145\u001b[0m         \u001b[1;32melse\u001b[0m\u001b[1;33m:\u001b[0m\u001b[1;33m\u001b[0m\u001b[1;33m\u001b[0m\u001b[0m\n\u001b[0;32m   2146\u001b[0m             \u001b[1;32mreturn\u001b[0m \u001b[0mobj\u001b[0m\u001b[1;33m.\u001b[0m\u001b[0mto_frame\u001b[0m\u001b[1;33m(\u001b[0m\u001b[1;33m)\u001b[0m\u001b[1;33m\u001b[0m\u001b[1;33m\u001b[0m\u001b[0m\n",
      "\u001b[1;31mValueError\u001b[0m: Cannot merge a Series without a name"
     ]
    }
   ],
   "source": [
    "mh1 = kinematics.mass_events(heavy_pairs1)\n",
    "ms1 = kinematics.mass_events(soft_pairs1)\n",
    "mh2 = kinematics.mass_events(heavy_pairs2)\n",
    "ms2 = kinematics.mass_events(soft_pairs2)\n",
    "pd.merge(pd.concat([mh1, mh2]).sort_index(), pd.concat([ms1, ms2]).sort_index(), right_on='entry', left_on='entry')"
   ]
  },
  {
   "cell_type": "markdown",
   "metadata": {},
   "source": [
    "As we can see above, for second case (all possible pairs) we've got stronger signal in comparison with light-recoil pair as it made in [STAR work](http://arxiv.org/abs/0912.0604v2). Let's build 2d distirbuition and marginals component separately:"
   ]
  },
  {
   "cell_type": "code",
   "execution_count": 16,
   "metadata": {
    "collapsed": true
   },
   "outputs": [
    {
     "output_type": "display_data",
     "data": {
      "text/plain": "Canvas(toolbar=Toolbar(toolitems=[('Home', 'Reset original view', 'home', 'home'), ('Back', 'Back to previous …",
      "application/vnd.jupyter.widget-view+json": {
       "version_major": 2,
       "version_minor": 0,
       "model_id": "58f8b31f207b406b84a6df3bfe772d73"
      }
     },
     "metadata": {}
    },
    {
     "output_type": "stream",
     "name": "stderr",
     "text": [
      "No handles with labels found to put in legend.\n"
     ]
    },
    {
     "output_type": "execute_result",
     "data": {
      "text/plain": [
       "<matplotlib.legend.Legend at 0x1879f5ffcd0>"
      ]
     },
     "metadata": {},
     "execution_count": 16
    }
   ],
   "source": [
    "import matplotlib.pyplot as plt\n",
    "from matplotlib.gridspec import GridSpec\n",
    "\n",
    "\n",
    "fig = plt.figure(figsize=(15, 7))\n",
    "\n",
    "gs = GridSpec(4,4,wspace=0.1,hspace=0.1)\n",
    "\n",
    "ax_joint = fig.add_subplot(gs[1:4,0:3])\n",
    "ax_marg_x = fig.add_subplot(gs[0,0:3])\n",
    "ax_marg_y = fig.add_subplot(gs[1:4,3])\n",
    "\n",
    "ax_joint.hist2d(LiteHeavyTotal.Recoil, LiteHeavyTotal.Lite, bins=(50, 50), range=[(0, 2), (0, 2)], cmap=plt.cm.jet)\n",
    "_ = ax_marg_y.hist(LiteHeavyTotal.Lite, bins=100, range=(0, 2), histtype='step', color='blue', linewidth=2, label='lite pair',orientation=\"horizontal\")\n",
    "_ = ax_marg_x.hist(LiteHeavyTotal.Recoil, bins=100, range=(0, 2), histtype='step', color='red', linewidth=2, label='rest pair')\n",
    "\n",
    "\n",
    "ax_joint.set_ylabel('Lightest pair Mass, GeV')\n",
    "ax_joint.set_xlabel('Recoiling pair Mass, GeV')\n",
    "\n",
    "# ax_marg_y.set_xlabel('$Mass, GeV$')\n",
    "ax_marg_y.set_xlabel('# events')\n",
    "ax_marg_x.yaxis.set_label_position(\"right\")\n",
    "ax_marg_x.xaxis.set_ticks([])\n",
    "ax_marg_x.xaxis.set_ticks_position('none')\n",
    "ax_marg_y.yaxis.set_ticks_position('none')\n",
    "ax_marg_y.yaxis.set_ticks([])\n",
    "\n",
    "# ax_marg_x.set_xlabel('$Mass, GeV$')\n",
    "ax_marg_x.set_ylabel('# events')\n",
    "ax_marg_y.xaxis.set_label_position(\"top\")\n",
    "ax_marg_x\n",
    "ax_joint.legend()\n",
    "# fig"
   ]
  },
  {
   "cell_type": "markdown",
   "metadata": {},
   "source": [
    "## Decay angle for $\\rho_0$\n",
    "\n",
    "Here we would like to study angle decay for $\\rho_0 \\rightarrow \\pi^+\\pi^-$ between the momentum of one of the pions in the rest frame of $\\rho_0$ and original(lab frame) momentum of  $\\rho_0$.\n",
    "\n",
    "For the sake of simplicity first we will create new lab system with OZ axis directed along momentum of $\\rho_0$ in lab frame.\n",
    "\n",
    "The transition from original lab frame to the new one could be obtain by two rotation:\n",
    "\n",
    "- First, around x axis:\n",
    "\n",
    "Rotation matrix for this case:\n",
    "$$\n",
    "R_{x,\\alpha}=\n",
    "\\Bigg(\n",
    "\\begin{matrix}\n",
    "1 & 0 & 0\\\\\n",
    "0 & \\cos{\\alpha} & -\\sin{\\alpha} \\\\\n",
    "0 & \\sin{\\alpha} & \\cos{\\alpha}\n",
    "\\end{matrix}\n",
    "\\Bigg)\n",
    "$$\n",
    "\n",
    "Rotation angle for x axis:\n",
    "\n",
    "$$\n",
    "\\begin{matrix}\n",
    "\\sin{\\alpha} =  \\frac{p_y}{\\sqrt{p_y^2+p_z^2}}  \\\\\n",
    "\\cos{\\alpha} =  \\frac{p_z}{\\sqrt{p_y^2+p_z^2}}  \\\\\n",
    "\\end{matrix}\n",
    "$$\n",
    "\n",
    "Now, momentum vector of $\\rho_0$ in this system will looks like\n",
    "\n",
    "$$\n",
    "\\boldsymbol{p'}=R_{x,\\alpha}\\boldsymbol{p}=\n",
    "\\Bigg(\n",
    "\\begin{matrix}\n",
    "p_x\\\\\n",
    "p_y\\cos{\\alpha} - p_z\\sin{\\alpha}\\\\\n",
    "p_y\\sin{\\alpha} + p_z\\cos{\\alpha})\n",
    "\\end{matrix}\n",
    "\\Bigg)\n",
    "$$\n",
    "\n",
    "\n",
    "- Second, around y axis:\n",
    "\n",
    "Rotation matrix for this case will looks like\n",
    "$$\n",
    "R = R_{y,-\\beta}= \n",
    "\\Bigg(\n",
    "\\begin{matrix}\n",
    "\\cos{\\beta} & 0 & -\\sin{\\beta}\\\\\n",
    "0 & 1 & 0 \\\\\n",
    "\\sin{\\beta} & 0 & \\cos{\\beta}\n",
    "\\end{matrix}\n",
    "\\Bigg)\n",
    "$$\n",
    "\n",
    "We have to apply it for already rotated vector around x axis:\n",
    "\n",
    "\n",
    "$$\n",
    "\\boldsymbol{p''} =R_{y,-\\beta}\\boldsymbol{p'} = \n",
    "\\Bigg(\n",
    "\\begin{matrix}\n",
    "\\cos{\\beta} & 0 & -\\sin{\\beta}\\\\\n",
    "0 & 1 & 0 \\\\\n",
    "\\sin{\\beta} & 0 & \\cos{\\beta}\n",
    "\\end{matrix}\n",
    "\\Bigg)\n",
    "\\Bigg(\n",
    "\\begin{matrix}\n",
    "{p'}_x\\\\\n",
    "{p'}_y\\\\\n",
    "{p'}_z\n",
    "\\end{matrix}\n",
    "\\Bigg)\n",
    " = \n",
    "\\Bigg(\n",
    "\\begin{matrix}\n",
    "{p'}_x\\cos{\\beta}-{p'}_z\\sin{\\beta}\\\\\n",
    "{p'}_y\\\\\n",
    "{p'}_x\\sin{\\beta}+{p'}_z\\cos{\\beta}\n",
    "\\end{matrix}\n",
    "\\Bigg)\n",
    "$$\n",
    "\n",
    "\n",
    "Where rotation angle based on the new rotated vector $\\boldsymbol{p'}$ coordinates:\n",
    "\n",
    "$$\n",
    "\\begin{matrix}\n",
    "\\sin{\\beta}  =  \\frac{{p'}_x}{\\sqrt{{p'_x}^2+{p'}_z^2}}  \\\\\n",
    "\\cos{\\beta}  =  \\frac{{p'}_z}{\\sqrt{{p'_x}^2+{p'}_z^2}}  \\\\\n",
    "\\end{matrix}\n",
    "$$\n",
    "\n",
    "As a result final transition looks like:\n",
    "_____________\n",
    "$$\n",
    "\\boldsymbol{p''} =\n",
    "\\Bigg(\n",
    "\\begin{matrix}\n",
    "{p'}_x\\cos{\\beta}-{p'}_z\\sin{\\beta}\\\\\n",
    "{p'}_y\\\\\n",
    "{p'}_x\\sin{\\beta}+{p'}_z\\cos{\\beta}\n",
    "\\end{matrix}\n",
    "\\Bigg)=\n",
    "\\Bigg(\n",
    "\\begin{matrix}\n",
    "p_x\\cos{\\beta}-p_y\\sin{\\alpha}\\sin{\\beta}-p_z\\cos{\\alpha}\\sin{\\beta} \\\\\n",
    "p_y\\cos{\\alpha}-p_z\\sin{\\alpha} \\\\\n",
    "p_x\\sin{\\beta}+p_y\\sin{\\alpha}\\cos{\\beta}+p_z\\cos{\\alpha}\\cos{\\beta}\n",
    "\\end{matrix}\n",
    "\\Bigg)\n",
    "$$\n",
    "where rotation angles are:\n",
    "\n",
    "\n",
    "$$\n",
    "\\begin{matrix}\n",
    "\\sin{\\alpha} =  \\frac{p_y}{\\sqrt{p_y^2+p_z^2}}  \\\\\n",
    "\\cos{\\alpha} =  \\frac{p_z}{\\sqrt{p_y^2+p_z^2}}  \\\\\n",
    "\\sin{\\beta}  =  \\frac{p_x}{\\sqrt{p_x^2+(p_y\\sin{\\alpha}+p_z\\cos{\\alpha})^2}}  \\\\\n",
    "\\cos{\\beta}  =  \\frac{p_y\\sin{\\alpha}+p_z\\cos{\\alpha}}{\\sqrt{p_x^2+(p_y\\sin{\\alpha}+p_z\\cos{\\alpha})^2}}  \\\\\n",
    "\\end{matrix}\n",
    "$$\n",
    "\n",
    "\n",
    "Now let's consider moving coordinate system with $\\rho_0$ so that OZ axis direct along $\\boldsymbol{p}_{\\rho_0}$\n",
    "\n",
    "We know components of original momentum of $\\pi^+$ in the such system and now let's boost their via Lorentz Transormation:\n",
    "\n",
    "$$\n",
    "\\begin{matrix}\n",
    "\\ {E'} =  \\gamma E - \\Gamma p_z \\\\\n",
    "\\ {p'}_x= p_x \\\\\n",
    "\\ {p'}_y= p_y \\\\\n",
    "\\ {p'}_z= \\gamma p_z - \\Gamma E \\\\\n",
    "\\end{matrix}\n",
    "$$\n",
    "\n",
    "where \n",
    "$$ \\boldsymbol{\\beta} = \\frac{\\boldsymbol{p}}{E} $$\n",
    "$$ \\gamma = \\frac{E}{m}$$\n",
    "$$ \\Gamma = \\gamma \\beta = \\frac{p}{m}$$\n",
    "\n",
    "\n",
    "$$ \\boldsymbol{\\beta} = \\frac{\\boldsymbol{p}}{E} $$\n",
    "$$ \\gamma = \\frac{1}{\\sqrt{1-\\frac{p^2}{E^2}}}$$\n",
    "\n",
    "Now the searched angle can be obtain from scalar multiplication of $\\pi^+$ momentum in the rest frame of $\\rho_0$ and momentum of $\\rho_0$ in the lab frame:\n",
    "\n",
    "$$\\cos{\\theta}=\\frac{\\boldsymbol{{p'}_{\\pi^+}}\\boldsymbol{p_{\\rho_0}}} {{p'}_{\\pi^+}p_{\\rho_0}}$$"
   ]
  },
  {
   "cell_type": "code",
   "execution_count": 60,
   "metadata": {
    "ExecuteTime": {
     "end_time": "2021-04-12T09:32:25.332440Z",
     "start_time": "2021-04-12T09:32:25.206892Z"
    }
   },
   "outputs": [
    {
     "ename": "NameError",
     "evalue": "name 'RotateToVector' is not defined",
     "output_type": "error",
     "traceback": [
      "\u001b[0;31m---------------------------------------------------------------------------\u001b[0m",
      "\u001b[0;31mNameError\u001b[0m                                 Traceback (most recent call last)",
      "\u001b[0;32m<ipython-input-60-359d0a69e6d6>\u001b[0m in \u001b[0;36m<module>\u001b[0;34m\u001b[0m\n\u001b[1;32m      4\u001b[0m \u001b[0mtracks_pi_min\u001b[0m \u001b[0;34m=\u001b[0m \u001b[0mtracks\u001b[0m\u001b[0;34m[\u001b[0m\u001b[0mtracks\u001b[0m\u001b[0;34m.\u001b[0m\u001b[0mT_Q\u001b[0m\u001b[0;34m<\u001b[0m\u001b[0;36m0\u001b[0m\u001b[0;34m]\u001b[0m\u001b[0;34m.\u001b[0m\u001b[0mreset_index\u001b[0m\u001b[0;34m(\u001b[0m\u001b[0;34m)\u001b[0m\u001b[0;34m.\u001b[0m\u001b[0mdrop\u001b[0m\u001b[0;34m(\u001b[0m\u001b[0;34m'level_1'\u001b[0m\u001b[0;34m,\u001b[0m\u001b[0maxis\u001b[0m\u001b[0;34m=\u001b[0m\u001b[0;36m1\u001b[0m\u001b[0;34m)\u001b[0m\u001b[0;34m.\u001b[0m\u001b[0mset_index\u001b[0m\u001b[0;34m(\u001b[0m\u001b[0;34m'entry'\u001b[0m\u001b[0;34m)\u001b[0m\u001b[0;34m\u001b[0m\u001b[0;34m\u001b[0m\u001b[0m\n\u001b[1;32m      5\u001b[0m \u001b[0;34m\u001b[0m\u001b[0m\n\u001b[0;32m----> 6\u001b[0;31m \u001b[0mRotateToVector\u001b[0m\u001b[0;34m(\u001b[0m\u001b[0mrho\u001b[0m\u001b[0;34m,\u001b[0m \u001b[0mfir\u001b[0m\u001b[0;34m)\u001b[0m\u001b[0;34m\u001b[0m\u001b[0;34m\u001b[0m\u001b[0m\n\u001b[0m\u001b[1;32m      7\u001b[0m \u001b[0mRotateToVector\u001b[0m\u001b[0;34m(\u001b[0m\u001b[0mrho\u001b[0m\u001b[0;34m,\u001b[0m \u001b[0msec\u001b[0m\u001b[0;34m)\u001b[0m\u001b[0;34m\u001b[0m\u001b[0;34m\u001b[0m\u001b[0m\n\u001b[1;32m      8\u001b[0m \u001b[0mRotateToVector\u001b[0m\u001b[0;34m(\u001b[0m\u001b[0mtracks_rho\u001b[0m\u001b[0;34m,\u001b[0m \u001b[0mtracks_pi_plus\u001b[0m\u001b[0;34m)\u001b[0m\u001b[0;34m\u001b[0m\u001b[0;34m\u001b[0m\u001b[0m\n",
      "\u001b[0;31mNameError\u001b[0m: name 'RotateToVector' is not defined"
     ]
    }
   ],
   "source": [
    "%matplotlib widget\n",
    "\n",
    "tracks = heavy_pairs1[['T_Px', 'T_Py','T_Pz', 'T_Q']].sort_index()\n",
    "tracks_rho = tracks.groupby('entry').sum()\n",
    "tracks_pi_plus = tracks[tracks.T_Q>0].reset_index().drop('level_1',axis=1).set_index('entry')\n",
    "tracks_pi_min = tracks[tracks.T_Q<0].reset_index().drop('level_1',axis=1).set_index('entry')\n",
    "\n",
    "RotateToVector(rho, fir)\n",
    "RotateToVector(rho, sec)\n",
    "RotateToVector(tracks_rho, tracks_pi_plus)\n",
    "RotateToVector(tracks_rho, tracks_pi_min)\n",
    "BoostToSystem(rho.E/(0.001*Rho0.mass),rho.l/(0.001*Rho0.mass), fir)\n",
    "BoostToSystem(rho.E/(0.001*Rho0.mass),rho.l/(0.001*Rho0.mass), sec)\n",
    "BoostToSystem(tracks_rho.E/(0.001*Rho0.mass),tracks_rho.l/(0.001*Rho0.mass), tracks_pi_min)\n",
    "BoostToSystem(tracks_rho.E/(0.001*Rho0.mass),tracks_rho.l/(0.001*Rho0.mass), tracks_pi_plus)\n",
    "\n",
    "cost_lrnz_plus = CosTheta(tracks_pi_plus[['prx', 'pry', 'brpz']],tracks_rho[['T_Px', 'T_Py', 'T_Pz']])\n",
    "cost_lrnz_pvn = CosTheta(fir[['prx', 'pry', 'brpz']],rho[['T_Px', 'T_Py', 'T_Pz']])\n",
    "cost_pvn = CosTheta(fir[['T_Px', 'T_Py', 'T_Pz']],rho[['T_Px', 'T_Py', 'T_Pz']])\n",
    "cost = CosTheta(tracks_pi_plus[['T_Px', 'T_Py', 'T_Pz']],tracks_rho[['T_Px', 'T_Py', 'T_Pz']])\n",
    "\n",
    "\n",
    "lp_b_r_pi_plus = np.sqrt(tracks_pi_plus.prx**2 + tracks_pi_plus.pry**2 + tracks_pi_plus.brpz**2)\n",
    "\n",
    "tracks_pi_plus['cos_theta'] = (tracks_pi_plus.prx*tracks_rho.T_Px + tracks_pi_plus.pry*tracks_rho.T_Py + tracks_pi_plus.brpz*tracks_rho.T_Pz) / (lp_b_r_pi_plus*tracks_rho.l)\n",
    "\n",
    "_ = plt.hist(tracks_pi_plus.cos_theta,bins=100,range=(-1,1),histtype='step', linewidth=2, color='red', label=r\"$\\cos{{\\theta}}$\")\n",
    "\n",
    "tracks_pi_plus['cost_orig'] = (tracks_pi_plus.T_Px*tracks_rho.T_Px + tracks_pi_plus.T_Py*tracks_rho.T_Py + tracks_pi_plus.T_Pz*tracks_rho.T_Pz) / (tracks_pi_plus.lpr * tracks_rho.l)\n",
    "\n",
    "_ = plt.hist(tracks_pi_plus.cost_orig,bins=100,range=(-1,1),histtype='step', linewidth=2, color='black', label=r\"$\\cos{{\\theta'}}$\")\n",
    "_ = plt.legend()\n"
   ]
  },
  {
   "cell_type": "markdown",
   "metadata": {},
   "source": [
    "## Cross section\n",
    "\n",
    "Let's see to cross section of my events.\n",
    "\n",
    "For this we should take luminosity of runs.\n",
    "\n",
    "> Unfortunately file that I have to use for getting luminosity have a reference to special class AliTriggerInfo and moreover it packed into TObjArray, so I can't read it via uproot4. This is the reason why I used pure root again. [Here is the script](https://github.com/bdrum/cern-physics/blob/master/root-cpp/RhoPrime/macro/lumi.C) that I used.\n",
    "\n",
    "Then let's see how much events do we have in each run.\n",
    "\n",
    "$$L = \\frac{1}{\\sigma} \\frac{\\delta N}{\\delta t}$$, this means that \n",
    "\n",
    "$$\\sigma \\approx \\frac{N}{L}$$\n",
    "\n",
    "Cross section of phenomena should be flat and independent from runs. \n",
    "\n",
    "Let's check it:"
   ]
  },
  {
   "cell_type": "code",
   "execution_count": 18,
   "metadata": {
    "ExecuteTime": {
     "end_time": "2021-04-10T11:33:32.674510Z",
     "start_time": "2021-04-10T11:33:32.614362Z"
    }
   },
   "outputs": [
    {
     "output_type": "execute_result",
     "data": {
      "text/plain": [
       "count    119.000000\n",
       "mean       5.611438\n",
       "std        1.558305\n",
       "min        1.621205\n",
       "25%        4.630173\n",
       "50%        5.584997\n",
       "75%        6.479376\n",
       "max       10.036004\n",
       "Name: sigma, dtype: float64"
      ]
     },
     "metadata": {},
     "execution_count": 18
    }
   ],
   "source": [
    "df_cs = GetCrossSection(ft.orig_events.RunNum, ft.GetTracksWithPtLt(ft.ft_zq_nTPC[0]))\n",
    "df_cs['sigma'] = df_cs.nEvFT / (df_cs.Lumi * 1000)\n",
    "df_cs.sigma.describe()\n"
   ]
  },
  {
   "cell_type": "code",
   "execution_count": 19,
   "metadata": {
    "ExecuteTime": {
     "end_time": "2021-04-10T11:33:40.698893Z",
     "start_time": "2021-04-10T11:33:40.528836Z"
    }
   },
   "outputs": [
    {
     "output_type": "display_data",
     "data": {
      "text/plain": "Canvas(toolbar=Toolbar(toolitems=[('Home', 'Reset original view', 'home', 'home'), ('Back', 'Back to previous …",
      "application/vnd.jupyter.widget-view+json": {
       "version_major": 2,
       "version_minor": 0,
       "model_id": "6d01999313a3478cb0f63e9c31b804e3"
      }
     },
     "metadata": {}
    },
    {
     "output_type": "execute_result",
     "data": {
      "text/plain": [
       "<matplotlib.legend.Legend at 0x1879f26f7f0>"
      ]
     },
     "metadata": {},
     "execution_count": 19
    }
   ],
   "source": [
    "import scipy.stats\n",
    "\n",
    "fig = plt.figure(figsize=(25, 7))\n",
    "# fig.suptitle(\"visible cross section\")\n",
    "ax = fig.add_subplot()\n",
    "bins = list(df_cs.run)\n",
    "cnts = list(df_cs.sigma)\n",
    "errs = np.sqrt(df_cs.nEvFT)/(df_cs.Lumi * 1000)\n",
    "x = np.arange(len(bins))\n",
    "width = 0.15\n",
    "ax.errorbar(x - width/2, cnts, yerr=errs, fmt='o', label=r'$\\sigma \\approx \\frac{N_{(\\pi^+\\pi^-\\pi^+\\pi^-)_{ev}}}{L}$')\n",
    "ax.set_xticks(x)\n",
    "ax.set_xticklabels(bins, rotation=90, rotation_mode=\"anchor\", ha=\"right\", fontsize=12)\n",
    "ax.set_ylabel(r'$\\sigma$',fontsize=14)\n",
    "ax.set_ylim(0,10)\n",
    "\n",
    "chi2,p = scipy.stats.chisquare(cnts, np.tile(np.average(cnts),len(cnts)))\n",
    "ax.text(108,8,r\"$\\frac{Chi^2}{NDf} = \\frac{189.388}{118}$\", size=20)\n",
    "ax.text(108,7,r\"$p0 = 4.4542 \\pm 0.11613$\", size=16)\n",
    "ax.legend(prop={'size': 15})\n",
    "ax.axhline(y=np.average(cnts), color='r', linestyle='-')\n",
    "ax.legend()\n",
    "# fig"
   ]
  },
  {
   "cell_type": "markdown",
   "metadata": {},
   "source": [
    "## Other decays\n",
    "\n",
    "In PDG I've seen also other interesting modes for $\\rho'$:\n",
    "\n",
    "- 1. $\\rho' \\rightarrow \\eta_0 \\rho_0$ | ?\n",
    "   - 1.1. $\\rho_0 \\rightarrow 4 \\pi$ | $2*10^{-5}\\%$\n",
    "   - 1.2. $\\rho_0 \\rightarrow \\pi^+ \\pi^-$ | $10^{-2}\\%$\n",
    "   - 1.3. $\\eta_0' \\rightarrow  \\pi^+ \\pi^- \\gamma$ | $4\\%$\n",
    "   - 1.4. $\\eta_0' \\rightarrow  \\pi^+ \\pi^- \\pi^0$ | $23\\%$\n",
    "- 2. $\\rho' \\rightarrow 4 \\pi$ | ?\n",
    "\n",
    "What about $\\rho' \\rightarrow \\rho_0 \\rho_0$ is it possible?"
   ]
  },
  {
   "source": [
    "## ZDC Energy distribution\n",
    "\n",
    "Zero degree calorimeter (ZDC) has two part (A and C) aims to measure energy from neutrons that moves along pipe. [Such calorimiter has a purpose to measure collider luminosity based on elemctromagnetic dissotiation process](https://arxiv.org/pdf/1203.2436.pdf) that occures by ultra-peripheral collisions. This means that correct picture from ZDC aproves that we have UPC process."
   ],
   "cell_type": "markdown",
   "metadata": {}
  },
  {
   "cell_type": "code",
   "execution_count": 176,
   "metadata": {},
   "outputs": [
    {
     "output_type": "display_data",
     "data": {
      "text/plain": "Canvas(toolbar=Toolbar(toolitems=[('Home', 'Reset original view', 'home', 'home'), ('Back', 'Back to previous …",
      "application/vnd.jupyter.widget-view+json": {
       "version_major": 2,
       "version_minor": 0,
       "model_id": "84aca0f8827d439d97dcdf2a2e94488b"
      }
     },
     "metadata": {}
    },
    {
     "output_type": "stream",
     "name": "stderr",
     "text": [
      "No handles with labels found to put in legend.\n"
     ]
    }
   ],
   "source": [
    "%matplotlib widget\n",
    "\n",
    "ft.orig_events.index.name = 'entry'\n",
    "\n",
    "nTPC = 2\n",
    "ind_times_mass_a = ft.orig_events[(np.abs(ft.orig_events[['ZDCAtime_0','ZDCAtime_1','ZDCAtime_2','ZDCAtime_3']])<t).apply(np.any,axis=1)].index.intersection(ft_zq_Mass_nTpc_triggered[nTPC].index)\n",
    "ind_times_mass_c = ft.orig_events[(np.abs(ft.orig_events[['ZDCCtime_0','ZDCCtime_1','ZDCCtime_2','ZDCCtime_3']])<t).apply(np.any,axis=1)].index.intersection(ft_zq_Mass_nTpc_triggered[nTPC].index)\n",
    "\n",
    "zdcEn_A = ft.orig_events.ZNAenergy[ind_times_mass_a]\n",
    "zdcEn_C = ft.orig_events.ZNCenergy[ind_times_mass_c]\n",
    "zdcEn = np.concatenate((zdcEn_A,zdcEn_C))\n",
    "# zdcEn = np.concatenate((ft.orig_events.ZNAenergy[ft_zq_Mass_nTpc_triggered[nTPC].index], ft.orig_events.ZNCenergy[ft_zq_Mass_nTpc_triggered[nTPC].index]))\n",
    "# zdcEn = np.concatenate((ft.orig_events.ZNAenergy[ft_nzq_Pt_nTpc[nTPC].index], ft.orig_events.ZNCenergy[ft_nzq_Pt_nTpc[nTPC].index]))\n",
    "cnt = plt.hist(zdcEn, bins=100, range=(-1000,15000), histtype='step', linewidth=1.3, color='black')\n",
    "plt.xlabel('ZDC energy')\n",
    "plt.ylabel('events')\n",
    "# plt.yscale('log')\n",
    "plt.suptitle('4track events ZDC energy distribution')\n",
    "plt.legend()\n",
    "\n",
    "ds = { \\\n",
    "    'count': len(zdcEn), \\\n",
    "    # 'mean' : np.average(zdcEn), \\\n",
    "    # 'std'  : np.std(zdcEn), \\\n",
    "    # 'min'  : zdcEn.min(), \\\n",
    "    # 'max'  : zdcEn.max(), \\\n",
    "    # '% < 0 TeV' : 100 * (zdcEn <= 0).sum() / len(zdcEn), \\\n",
    "    # '% < 2.5TeV' : 100 * (zdcEn <= 2500).sum() / len(zdcEn), \\\n",
    "    # '% < 5TeV' : 100 * (zdcEn <= 5000).sum() / len(zdcEn), \\\n",
    "    # '% < 7.5TeV' : 100 * (zdcEn <= 7500).sum() / len(zdcEn), \\\n",
    "    # '% < 10TeV' : 100 * (zdcEn <= 10000).sum() / len(zdcEn) ,\\\n",
    "     '>= 15TeV' : (zdcEn >= 15000).sum() \\\n",
    "    }\n",
    "\n",
    "ds = pd.DataFrame.from_dict(ds, orient='index').round(1)\n",
    "\n",
    "plt.axes([0.4, 0.4, 0.8, 0.8],frame_on=False)\n",
    "plt.xticks([])\n",
    "plt.yticks([])\n",
    "\n",
    "stats = plt.table(cellText=ds.values,\n",
    "      colWidths = [0.2]*2,\n",
    "      rowLabels=ds.index,\n",
    "      cellLoc = 'right', rowLoc = 'left',\n",
    "      loc=(10,0))\n",
    "\n",
    "stats.set_fontsize(16)\n",
    "stats.scale(1,3)\n"
   ]
  },
  {
   "cell_type": "code",
   "execution_count": 175,
   "metadata": {},
   "outputs": [
    {
     "output_type": "display_data",
     "data": {
      "text/plain": "Canvas(toolbar=Toolbar(toolitems=[('Home', 'Reset original view', 'home', 'home'), ('Back', 'Back to previous …",
      "application/vnd.jupyter.widget-view+json": {
       "version_major": 2,
       "version_minor": 0,
       "model_id": "39422a07e3624c6b88813ab70b2dbb90"
      }
     },
     "metadata": {}
    },
    {
     "output_type": "stream",
     "name": "stderr",
     "text": [
      "No handles with labels found to put in legend.\n",
      "No handles with labels found to put in legend.\n"
     ]
    },
    {
     "output_type": "execute_result",
     "data": {
      "text/plain": [
       "<matplotlib.legend.Legend at 0x218df2e7820>"
      ]
     },
     "metadata": {},
     "execution_count": 175
    }
   ],
   "source": [
    "%matplotlib widget\n",
    "\n",
    "\n",
    "zdcTimes_C = np.concatenate((ft.orig_events.ZDCCtime_0[ft.orig_events.ZNCenergy>1000], ft.orig_events.ZDCCtime_1[ft.orig_events.ZNCenergy>1000],ft.orig_events.ZDCCtime_2[ft.orig_events.ZNCenergy>1000],ft.orig_events.ZDCCtime_3[ft.orig_events.ZNCenergy>1000]))\n",
    "\n",
    "# zdcTimes_A = np.concatenate((ft.orig_events.ZDCAtime_0[ft_zq_Mass_nTpc_triggered[nTPC].index], ft.orig_events.ZDCAtime_1[ft_zq_Mass_nTpc_triggered[nTPC].index], ft.orig_events.ZDCAtime_2[ft_zq_Mass_nTpc_triggered[nTPC].index], ft.orig_events.ZDCAtime_3[ft_zq_Mass_nTpc_triggered[nTPC].index]))\n",
    "\n",
    "zdcTimes_A = np.concatenate((ft.orig_events.ZDCAtime_0[ft.orig_events.ZNAenergy>1000], ft.orig_events.ZDCAtime_1[ft.orig_events.ZNAenergy>1000], ft.orig_events.ZDCAtime_2[ft.orig_events.ZNAenergy>1000], ft.orig_events.ZDCAtime_3[ft.orig_events.ZNAenergy>1000]))\n",
    "\n",
    "\n",
    "\n",
    "ft.orig_events.ZNAenergy\n",
    "\n",
    "plt.subplots(1,2, figsize=(20,10))\n",
    "plt.suptitle('4track events ZDC time distribution')\n",
    "plt.sca(plt.gcf().axes[0])\n",
    "\n",
    "cnt = plt.hist(zdcTimes_A, bins=100, range=(-300,300), histtype='step', linewidth=1.3, color='black')\n",
    "plt.xlabel('ZDC_A time (ns)')\n",
    "plt.ylabel('events')\n",
    "plt.yscale('log')\n",
    "plt.legend()\n",
    "\n",
    "plt.sca(plt.gcf().axes[1])\n",
    "\n",
    "cnt = plt.hist(zdcTimes_C, bins=100, range=(-300,300), histtype='step', linewidth=1.3, color='black')\n",
    "plt.xlabel('ZDC_C time (ns)')\n",
    "plt.ylabel('events')\n",
    "plt.yscale('log')\n",
    "plt.suptitle('4track events ZDC time distribution')\n",
    "plt.legend()\n"
   ]
  },
  {
   "source": [
    "## ZDC Times\n",
    "\n",
    "- First plot ZDC energy for candidates with time around zero\n",
    "- Second plot ZDC energy with itme more than zero\n"
   ],
   "cell_type": "markdown",
   "metadata": {}
  },
  {
   "cell_type": "code",
   "execution_count": 169,
   "metadata": {},
   "outputs": [
    {
     "output_type": "execute_result",
     "data": {
      "text/plain": [
       "entry\n",
       "20        35752.679688\n",
       "155        3246.793945\n",
       "164       20386.974609\n",
       "178        5147.336426\n",
       "242       34955.371094\n",
       "              ...     \n",
       "109123    44199.542969\n",
       "109277    41881.656250\n",
       "109302    21917.554688\n",
       "109394     3232.702881\n",
       "109698    21158.830078\n",
       "Name: ZNAenergy, Length: 496, dtype: float32"
      ]
     },
     "metadata": {},
     "execution_count": 169
    }
   ],
   "source": [
    "# np.concatenate((ft.orig_events.ZDCAtime_0[ft.orig_events.ZNAenergy>1000], ft.orig_events.ZDCAtime_1[ft.orig_events.ZNAenergy>1000], ft.orig_events.ZDCAtime_2[ft.orig_events.ZNAenergy>1000], ft.orig_events.ZDCAtime_3[ft.orig_events.ZNAenergy>1000]))[:10]\n",
    "\n",
    "t = 10\n",
    "# ft.orig_events[['ZNAenergy', 'ZDCAtime_0','ZDCAtime_1','ZDCAtime_2','ZDCAtime_3']][ft.orig_events.ZNAenergy>1000][]\n",
    "\n",
    "\n",
    "# ft.orig_events[(np.abs(ft.orig_events[['ZDCAtime_0','ZDCAtime_1','ZDCAtime_2','ZDCAtime_3']])<t).apply(np.any,axis=1)].ZNAenergy\n"
   ]
  },
  {
   "cell_type": "code",
   "execution_count": 165,
   "metadata": {},
   "outputs": [
    {
     "output_type": "execute_result",
     "data": {
      "text/plain": [
       "   a  b  c\n",
       "0  0  1  2\n",
       "1  3  4  5\n",
       "2  6  7  8"
      ],
      "text/html": "<div>\n<style scoped>\n    .dataframe tbody tr th:only-of-type {\n        vertical-align: middle;\n    }\n\n    .dataframe tbody tr th {\n        vertical-align: top;\n    }\n\n    .dataframe thead th {\n        text-align: right;\n    }\n</style>\n<table border=\"1\" class=\"dataframe\">\n  <thead>\n    <tr style=\"text-align: right;\">\n      <th></th>\n      <th>a</th>\n      <th>b</th>\n      <th>c</th>\n    </tr>\n  </thead>\n  <tbody>\n    <tr>\n      <th>0</th>\n      <td>0</td>\n      <td>1</td>\n      <td>2</td>\n    </tr>\n    <tr>\n      <th>1</th>\n      <td>3</td>\n      <td>4</td>\n      <td>5</td>\n    </tr>\n    <tr>\n      <th>2</th>\n      <td>6</td>\n      <td>7</td>\n      <td>8</td>\n    </tr>\n  </tbody>\n</table>\n</div>"
     },
     "metadata": {},
     "execution_count": 165
    }
   ],
   "source": [
    "df1 = pd.DataFrame(np.arange(0,9).reshape(3,3), columns=list('abc'))\n",
    "\n",
    "c = pd.Series([0,2,3,4,5,6])\n",
    "# df1[c]\n",
    "df1\n"
   ]
  },
  {
   "cell_type": "code",
   "execution_count": 116,
   "metadata": {},
   "outputs": [
    {
     "output_type": "execute_result",
     "data": {
      "text/plain": [
       "['1', '2', '3']"
      ]
     },
     "metadata": {},
     "execution_count": 116
    }
   ],
   "source": [
    "list(')"
   ]
  },
  {
   "cell_type": "code",
   "execution_count": 75,
   "metadata": {},
   "outputs": [
    {
     "output_type": "display_data",
     "data": {
      "text/plain": "Canvas(toolbar=Toolbar(toolitems=[('Home', 'Reset original view', 'home', 'home'), ('Back', 'Back to previous …",
      "application/vnd.jupyter.widget-view+json": {
       "version_major": 2,
       "version_minor": 0,
       "model_id": "3e4ed1c2e0a2424a9cfd8f5a43fcbe37"
      }
     },
     "metadata": {}
    },
    {
     "output_type": "stream",
     "name": "stderr",
     "text": [
      "No handles with labels found to put in legend.\n"
     ]
    },
    {
     "output_type": "execute_result",
     "data": {
      "text/plain": [
       "<matplotlib.legend.Legend at 0x218cea9dd00>"
      ]
     },
     "metadata": {},
     "execution_count": 75
    }
   ],
   "source": [
    "%matplotlib widget\n",
    "\n",
    "nTPC = 2\n",
    "zdcEnA = ft.orig_events.ZNAenergy[ft_zq_Mass_nTpc_triggered[nTPC].index]\n",
    "zdcEnC = ft.orig_events.ZNCenergy[ft_zq_Mass_nTpc_triggered[nTPC].index]\n",
    "\n",
    "# _ = plt.hist2d(zdcEnA,zdcEnC, bins=(\n",
    "        # 100, 100), range=[(-1000,15000), (-1000,15000)], cmap=plt.cm.Greys)\n",
    "_ = plt.scatter(zdcEnA, zdcEnC, color='black')\n",
    "plt.xlabel('ZDC_A energy')\n",
    "plt.ylabel('ZDC_C energy')\n",
    "plt.xlim(-1000, 11000)\n",
    "plt.ylim(-1000, 11000)\n",
    "plt.xticks(np.arange(0,11000,2500))\n",
    "plt.yticks(np.arange(0,11000,2500))\n",
    "plt.suptitle('4track events ZDC_A vs ZDC_C scatter')\n",
    "plt.legend()\n",
    "\n",
    "# zdcEn = np.concatenate((ft.orig_events.ZNAenergy[ft_nzq_Mass_nTpc[nTPC].index], ft.orig_events.ZNCenergy[ft_nzq_Mass_nTpc[nTPC].index]))\n",
    "\n",
    "# _ =plt.hist(zdcEn, bins=100, range=(-1000,15000), histtype='step', linewidth=1.3, color='red')\n"
   ]
  },
  {
   "cell_type": "code",
   "execution_count": 77,
   "metadata": {},
   "outputs": [
    {
     "output_type": "display_data",
     "data": {
      "text/plain": "Canvas(toolbar=Toolbar(toolitems=[('Home', 'Reset original view', 'home', 'home'), ('Back', 'Back to previous …",
      "application/vnd.jupyter.widget-view+json": {
       "version_major": 2,
       "version_minor": 0,
       "model_id": "9a36d65bdd79487cbbd1ce4c04882eb7"
      }
     },
     "metadata": {}
    },
    {
     "output_type": "stream",
     "name": "stderr",
     "text": [
      "No handles with labels found to put in legend.\n"
     ]
    },
    {
     "output_type": "execute_result",
     "data": {
      "text/plain": [
       "<matplotlib.legend.Legend at 0x218cf623d90>"
      ]
     },
     "metadata": {},
     "execution_count": 77
    }
   ],
   "source": [
    "%matplotlib widget\n",
    "\n",
    "nTPC = 2\n",
    "zdcTimes_C = np.concatenate((ft.orig_events.ZDCCtime_0[ft_zq_Mass_nTpc_triggered[nTPC].index], ft.orig_events.ZDCCtime_1[ft_zq_Mass_nTpc_triggered[nTPC].index], ft.orig_events.ZDCCtime_2[ft_zq_Mass_nTpc_triggered[nTPC].index], ft.orig_events.ZDCCtime_3[ft_zq_Mass_nTpc_triggered[nTPC].index]))\n",
    "\n",
    "zdcTimes_A = np.concatenate((ft.orig_events.ZDCAtime_0[ft_zq_Mass_nTpc_triggered[nTPC].index], ft.orig_events.ZDCAtime_1[ft_zq_Mass_nTpc_triggered[nTPC].index], ft.orig_events.ZDCAtime_2[ft_zq_Mass_nTpc_triggered[nTPC].index], ft.orig_events.ZDCAtime_3[ft_zq_Mass_nTpc_triggered[nTPC].index]))\n",
    "\n",
    "# _ = plt.hist2d(zdcEnA,zdcEnC, bins=(\n",
    "        # 100, 100), range=[(-1000,15000), (-1000,15000)], cmap=plt.cm.Greys)\n",
    "_ = plt.scatter(zdcTimes_A, zdcTimes_C, color='black')\n",
    "plt.xlabel('ZDC_A energy')\n",
    "plt.ylabel('ZDC_C energy')\n",
    "plt.xlim(-300, 300)\n",
    "plt.ylim(-300, 300)\n",
    "# plt.xticks(np.arange(0,11000,2500))\n",
    "# plt.yticks(np.arange(0,11000,2500))\n",
    "plt.suptitle('4track events ZDC_A vs ZDC_C scatter')\n",
    "plt.legend()\n",
    "\n",
    "# zdcEn = np.concatenate((ft.orig_events.ZNAenergy[ft_nzq_Mass_nTpc[nTPC].index], ft.orig_events.ZNCenergy[ft_nzq_Mass_nTpc[nTPC].index]))\n",
    "\n",
    "# _ =plt.hist(zdcEn, bins=100, range=(-1000,15000), histtype='step', linewidth=1.3, color='red')\n"
   ]
  },
  {
   "cell_type": "code",
   "execution_count": 620,
   "metadata": {},
   "outputs": [
    {
     "output_type": "stream",
     "name": "stderr",
     "text": [
      "C:\\Python38\\lib\\site-packages\\pandas\\core\\computation\\expressions.py:204: UserWarning: evaluating in Python space because the '*' operator is not supported by numexpr for the bool dtype, use '&' instead\n  warnings.warn(\n"
     ]
    },
    {
     "output_type": "display_data",
     "data": {
      "text/plain": "Canvas(toolbar=Toolbar(toolitems=[('Home', 'Reset original view', 'home', 'home'), ('Back', 'Back to previous …",
      "application/vnd.jupyter.widget-view+json": {
       "version_major": 2,
       "version_minor": 0,
       "model_id": "987f07bf51a04d0ab57c2a4b11373cff"
      }
     },
     "metadata": {}
    }
   ],
   "source": [
    "%matplotlib widget \n",
    "nTPC=2\n",
    "pt_with_cut = kinematics.pt_events(ft.GetTracksWithPtLt(ft.ft_zq_nTPC[nTPC], maxPt=2))\n",
    "pt_with_cut = ft_zq_Pt_nTpc_triggered[2]\n",
    "v1 = 3000\n",
    "v2 = np.inf\n",
    "ind = (pd.concat([ft.orig_events.ZNAenergy[pt_with_cut.index], ft.orig_events.ZNCenergy[pt_with_cut.index]]) > v1).sort_index().groupby('entry').sum() >= 1\n",
    "ind *= (pd.concat([ft.orig_events.ZNAenergy[pt_with_cut.index], ft.orig_events.ZNCenergy[pt_with_cut.index]]) <= v2).sort_index().groupby('entry').sum() >= 1\n",
    "_ = plt.hist(pt_with_cut[ind.index][~ind], bins=100, range=(0, 2), histtype='step', color='black', linewidth=1.2, label='ZDC enrgy <= 3 TeV')\n",
    "_ = plt.hist(pt_with_cut[ind.index][ind], bins=100, range=(0, 2), histtype='step', color='red', linewidth=1.2, label='ZDC enrgy > 3 TeV')\n",
    "plt.xlabel(r'$p_t$')\n",
    "plt.ylabel('events')\n",
    "# plt.suptitle(f'4tracks event $p_t$ when {v1/1000}TeV < ZDC energy <= {v2}')\n",
    "_ = plt.legend()"
   ]
  },
  {
   "cell_type": "markdown",
   "metadata": {},
   "source": [
    "## $ \\downarrow \\downarrow \\downarrow \\downarrow$ DEBUG AND INVESTIGATIONS $ \\downarrow \\downarrow \\downarrow \\downarrow$\n"
   ]
  },
  {
   "cell_type": "code",
   "execution_count": 603,
   "metadata": {},
   "outputs": [
    {
     "output_type": "stream",
     "name": "stderr",
     "text": [
      "C:\\Python38\\lib\\site-packages\\pandas\\core\\computation\\expressions.py:204: UserWarning: evaluating in Python space because the '*' operator is not supported by numexpr for the bool dtype, use '&' instead\n  warnings.warn(\n"
     ]
    },
    {
     "output_type": "display_data",
     "data": {
      "text/plain": "Canvas(toolbar=Toolbar(toolitems=[('Home', 'Reset original view', 'home', 'home'), ('Back', 'Back to previous …",
      "application/vnd.jupyter.widget-view+json": {
       "version_major": 2,
       "version_minor": 0,
       "model_id": "fa2c183c300f4a4a9c7b5c20b7cba1e9"
      }
     },
     "metadata": {}
    }
   ],
   "source": [
    "%matplotlib widget \n",
    "nTPC=2\n",
    "mass = ft_zq_Mass_nTpc_triggered[nTPC]\n",
    "v1 = 3000\n",
    "v2 = np.inf\n",
    "ind = (pd.concat([ft.orig_events.ZNAenergy[mass.index], ft.orig_events.ZNCenergy[mass.index]]) > v1).sort_index().groupby('entry').sum() >= 1\n",
    "ind *= (pd.concat([ft.orig_events.ZNAenergy[mass.index], ft.orig_events.ZNCenergy[mass.index]]) <= v2).sort_index().groupby('entry').sum() >= 1\n",
    "_ = plt.hist(mass[ind.index][~ind], bins=100, range=(0.5, 3), histtype='step', color='black', linewidth=1.2, label='ZDC enrgy <= 3 TeV')\n",
    "# _ = plt.hist(mass[ind.index][ind], bins=25, range=(0.5, 3), histtype='step', color='red', linewidth=1.2, label='ZDC enrgy > 3 TeV')\n",
    "plt.xlabel(r'$p_t$')\n",
    "plt.ylabel('events')\n",
    "# plt.suptitle(f'4tracks event $p_t$ when {v1/1000}TeV < ZDC energy <= {v2}')\n",
    "_ = plt.legend()"
   ]
  },
  {
   "cell_type": "markdown",
   "metadata": {},
   "source": [
    "Make pair of tracks more comprehensive "
   ]
  },
  {
   "cell_type": "code",
   "execution_count": 591,
   "metadata": {},
   "outputs": [
    {
     "output_type": "execute_result",
     "data": {
      "text/plain": [
       "Index(['RunNum', 'PeriodNumber', 'OrbitNumber', 'BunchCrossNumber', 'Mass',\n",
       "       'Pt', 'Q', 'Rapidity', 'Phi', 'ZNAenergy', 'ZNCenergy', 'ZPAenergy',\n",
       "       'ZPCenergy', 'VtxX', 'VtxY', 'VtxZ', 'VtxContrib', 'VtxChi2', 'VtxNDF',\n",
       "       'SpdVtxX', 'SpdVtxY', 'SpdVtxZ', 'SpdVtxContrib', 'V0Adecision',\n",
       "       'V0Cdecision', 'ADAdecision', 'ADCdecision', 'V0Afired', 'V0Cfired',\n",
       "       'ADAfired', 'ADCfired', 'STPfired', 'SMBfired', 'SM2fired', 'SH1fired',\n",
       "       'OM2fired', 'OMUfired', 'IsTriggered', 'nTracklets', 'nTracks',\n",
       "       'FORChip'],\n",
       "      dtype='object')"
      ]
     },
     "metadata": {},
     "execution_count": 591
    }
   ],
   "source": [
    "# ft.orig_events.ZNAenergy\n",
    "ft.orig_events[]"
   ]
  },
  {
   "cell_type": "code",
   "execution_count": 58,
   "metadata": {
    "ExecuteTime": {
     "end_time": "2021-04-12T09:32:10.562319Z",
     "start_time": "2021-04-12T09:32:10.448082Z"
    },
    "scrolled": false
   },
   "outputs": [
    {
     "ename": "NameError",
     "evalue": "name 'pvn_df' is not defined",
     "output_type": "error",
     "traceback": [
      "\u001b[0;31m---------------------------------------------------------------------------\u001b[0m",
      "\u001b[0;31mNameError\u001b[0m                                 Traceback (most recent call last)",
      "\u001b[0;32m<ipython-input-58-8d40bec92fb1>\u001b[0m in \u001b[0;36m<module>\u001b[0;34m\u001b[0m\n\u001b[1;32m      2\u001b[0m \u001b[0;31m# pvn_df = pvn_df.rename(columns={'px': 'T_Px', 'py' : 'T_Py', 'pz' : 'T_Pz'})\u001b[0m\u001b[0;34m\u001b[0m\u001b[0;34m\u001b[0m\u001b[0;34m\u001b[0m\u001b[0m\n\u001b[1;32m      3\u001b[0m \u001b[0;31m# pvn_df = pvn_df.apply(pd.to_numeric)\u001b[0m\u001b[0;34m\u001b[0m\u001b[0;34m\u001b[0m\u001b[0;34m\u001b[0m\u001b[0m\n\u001b[0;32m----> 4\u001b[0;31m \u001b[0mfir\u001b[0m \u001b[0;34m=\u001b[0m \u001b[0mpvn_df\u001b[0m\u001b[0;34m[\u001b[0m\u001b[0;34m:\u001b[0m\u001b[0;34m:\u001b[0m\u001b[0;36m2\u001b[0m\u001b[0;34m]\u001b[0m\u001b[0;34m.\u001b[0m\u001b[0mreset_index\u001b[0m\u001b[0;34m(\u001b[0m\u001b[0;34m)\u001b[0m\u001b[0;34m\u001b[0m\u001b[0;34m\u001b[0m\u001b[0m\n\u001b[0m\u001b[1;32m      5\u001b[0m \u001b[0msec\u001b[0m \u001b[0;34m=\u001b[0m \u001b[0mpvn_df\u001b[0m\u001b[0;34m[\u001b[0m\u001b[0;36m1\u001b[0m\u001b[0;34m:\u001b[0m\u001b[0;34m:\u001b[0m\u001b[0;36m2\u001b[0m\u001b[0;34m]\u001b[0m\u001b[0;34m.\u001b[0m\u001b[0mreset_index\u001b[0m\u001b[0;34m(\u001b[0m\u001b[0;34m)\u001b[0m\u001b[0;34m\u001b[0m\u001b[0;34m\u001b[0m\u001b[0m\n\u001b[1;32m      6\u001b[0m \u001b[0mrho\u001b[0m \u001b[0;34m=\u001b[0m \u001b[0mfir\u001b[0m \u001b[0;34m+\u001b[0m \u001b[0msec\u001b[0m\u001b[0;34m\u001b[0m\u001b[0;34m\u001b[0m\u001b[0m\n",
      "\u001b[0;31mNameError\u001b[0m: name 'pvn_df' is not defined"
     ]
    }
   ],
   "source": [
    "# pvn_df = pd.read_csv(r'D:/GoogleDrive/Job/cern/Alice/analysis/data/log.csv', delimiter='\\t')\n",
    "# pvn_df = pvn_df.rename(columns={'px': 'T_Px', 'py' : 'T_Py', 'pz' : 'T_Pz'})\n",
    "# pvn_df = pvn_df.apply(pd.to_numeric)\n",
    "fir = pvn_df[::2].reset_index()\n",
    "sec = pvn_df[1::2].reset_index()\n",
    "rho = fir + sec\n",
    "\n",
    "rho['l'] = np.sqrt(rho.T_Px**2+rho.T_Py**2+rho.T_Pz**2)\n",
    "rho['E'] = np.sqrt(rho.T_Px**2 + rho.T_Py**2 + rho.T_Pz**2 + (0.001*Rho0.mass)**2)\n",
    "p = (fir + sec).T_Px**2 + (fir + sec).T_Py**2 + (fir + sec).T_Pz**2\n",
    "e1 = np.sqrt(fir.T_Px**2 + fir.T_Py**2 + fir.T_Pz**2 + (0.001*PiPlus.mass)**2)\n",
    "e2 = np.sqrt(sec.T_Px**2 + sec.T_Py**2 + sec.T_Pz**2 + (0.001*PiPlus.mass)**2)\n",
    "e = e1 + e2\n",
    "m = np.sqrt(e**2 - p)\n",
    "\n",
    "_ = plt.hist(m, bins=100,range=(0.3,1),histtype='step', linewidth=2, color='black', label=r\"m_{\\rho}$\")\n"
   ]
  },
  {
   "cell_type": "code",
   "execution_count": 37,
   "metadata": {
    "ExecuteTime": {
     "end_time": "2021-04-10T13:24:14.551463Z",
     "start_time": "2021-04-10T13:24:03.159242Z"
    }
   },
   "outputs": [],
   "source": [
    "df = heavy_pairs1[['T_Px', 'T_Py','T_Pz', 'T_Q']].sort_index()\n",
    "with open(r'D:\\GoogleDrive\\Job\\cern\\Alice\\analysis\\data\\4pi_rho.csv', 'w') as f:\n",
    "    f.write('T_Px\\tT_Py\\tT_Pz\\tT_Q\\n')\n",
    "    for i in range(len(df)):\n",
    "        f.write(f'{df.iloc[i].T_Px}\\t{df.iloc[i].T_Py}\\t{df.iloc[i].T_Pz}\\t{df.iloc[i].T_Q}\\n')\n",
    "        if (i % 2 != 0):\n",
    "            f.write('\\n')\n"
   ]
  },
  {
   "cell_type": "code",
   "execution_count": 42,
   "metadata": {},
   "outputs": [
    {
     "output_type": "execute_result",
     "data": {
      "text/plain": [
       "        cnt\n",
       "RunNum     \n",
       "246087  125\n",
       "246989  106\n",
       "246980   72\n",
       "245554   71\n",
       "245507   70\n",
       "...     ...\n",
       "246808    2\n",
       "245231    2\n",
       "246759    2\n",
       "245346    1\n",
       "246428    1\n",
       "\n",
       "[119 rows x 1 columns]"
      ],
      "text/html": "<div>\n<style scoped>\n    .dataframe tbody tr th:only-of-type {\n        vertical-align: middle;\n    }\n\n    .dataframe tbody tr th {\n        vertical-align: top;\n    }\n\n    .dataframe thead th {\n        text-align: right;\n    }\n</style>\n<table border=\"1\" class=\"dataframe\">\n  <thead>\n    <tr style=\"text-align: right;\">\n      <th></th>\n      <th>cnt</th>\n    </tr>\n    <tr>\n      <th>RunNum</th>\n      <th></th>\n    </tr>\n  </thead>\n  <tbody>\n    <tr>\n      <th>246087</th>\n      <td>125</td>\n    </tr>\n    <tr>\n      <th>246989</th>\n      <td>106</td>\n    </tr>\n    <tr>\n      <th>246980</th>\n      <td>72</td>\n    </tr>\n    <tr>\n      <th>245554</th>\n      <td>71</td>\n    </tr>\n    <tr>\n      <th>245507</th>\n      <td>70</td>\n    </tr>\n    <tr>\n      <th>...</th>\n      <td>...</td>\n    </tr>\n    <tr>\n      <th>246808</th>\n      <td>2</td>\n    </tr>\n    <tr>\n      <th>245231</th>\n      <td>2</td>\n    </tr>\n    <tr>\n      <th>246759</th>\n      <td>2</td>\n    </tr>\n    <tr>\n      <th>245346</th>\n      <td>1</td>\n    </tr>\n    <tr>\n      <th>246428</th>\n      <td>1</td>\n    </tr>\n  </tbody>\n</table>\n<p>119 rows × 1 columns</p>\n</div>"
     },
     "metadata": {},
     "execution_count": 42
    }
   ],
   "source": [
    "runs = ft.orig_events[['RunNum']].loc[ft_zq_Mass_nTpc_triggered[2].index]\n",
    "runs['cnt'] = 1\n",
    "runs = runs.groupby('RunNum').sum().sort_values(by='cnt', ascending=False)\n",
    "runs\n",
    "cd $__annotations__\n",
    "# runs.to_csv(r\"D:\\GoogleDrive\\Job\\cern\\Alice\\analysis\\data\\RhoPrime\\2015\\run_ev.csv\", sep=' ')"
   ]
  }
 ],
 "metadata": {
  "celltoolbar": "Initialization Cell",
  "hide_input": false,
  "kernelspec": {
   "name": "python386jvsc74a57bd02db524e06e9f5f4ffedc911c917cb75e12dbc923643829bf417064a77eb14d37",
   "display_name": "Python 3.8.6 64-bit"
  },
  "language_info": {
   "codemirror_mode": {
    "name": "ipython",
    "version": 3
   },
   "file_extension": ".py",
   "mimetype": "text/x-python",
   "name": "python",
   "nbconvert_exporter": "python",
   "pygments_lexer": "ipython3",
   "version": "3.8.6"
  },
  "latex_envs": {
   "LaTeX_envs_menu_present": true,
   "autoclose": false,
   "autocomplete": true,
   "bibliofile": "biblio.bib",
   "cite_by": "apalike",
   "current_citInitial": 1,
   "eqLabelWithNumbers": true,
   "eqNumInitial": 1,
   "hotkeys": {
    "equation": "Ctrl-E",
    "itemize": "Ctrl-I"
   },
   "labels_anchors": false,
   "latex_user_defs": false,
   "report_style_numbering": false,
   "user_envs_cfg": false
  },
  "metadata": {
   "interpreter": {
    "hash": "2db524e06e9f5f4ffedc911c917cb75e12dbc923643829bf417064a77eb14d37"
   }
  },
  "toc": {
   "base_numbering": 1,
   "nav_menu": {
    "height": "336px",
    "width": "290px"
   },
   "number_sections": true,
   "sideBar": true,
   "skip_h1_title": false,
   "title_cell": "Table of Contents",
   "title_sidebar": "Contents",
   "toc_cell": false,
   "toc_position": {},
   "toc_section_display": true,
   "toc_window_display": false
  },
  "varInspector": {
   "cols": {
    "lenName": 16,
    "lenType": 16,
    "lenVar": 40
   },
   "kernels_config": {
    "python": {
     "delete_cmd_postfix": "",
     "delete_cmd_prefix": "del ",
     "library": "var_list.py",
     "varRefreshCmd": "print(var_dic_list())"
    },
    "r": {
     "delete_cmd_postfix": ") ",
     "delete_cmd_prefix": "rm(",
     "library": "var_list.r",
     "varRefreshCmd": "cat(var_dic_list()) "
    }
   },
   "position": {
    "height": "503.667px",
    "left": "1269px",
    "right": "20px",
    "top": "120px",
    "width": "355px"
   },
   "types_to_exclude": [
    "module",
    "function",
    "builtin_function_or_method",
    "instance",
    "_Feature"
   ],
   "window_display": false
  }
 },
 "nbformat": 4,
 "nbformat_minor": 4
}