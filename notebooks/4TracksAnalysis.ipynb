{
 "cells": [
  {
   "cell_type": "markdown",
   "metadata": {},
   "source": [
    "# $\\rho'$ analysis notes\n",
    "\n",
    "## GIRD Selection criteria:\n",
    "\n",
    "These criteria were applied on the selection stage(GRID):\n",
    "\n",
    "Events:\n",
    "\n",
    "    * >= 4 tracks\n",
    "    \n",
    "Tracks:\n",
    "\n",
    "    * Has Point On inner or outer ITS Layer\n",
    "    * Not ITS SA\n",
    "    * |dca1| < 3 && |dca0| < 3;\n",
    "\n",
    "### Data info"
   ]
  },
  {
   "cell_type": "code",
   "execution_count": 1,
   "metadata": {
    "tags": []
   },
   "outputs": [
    {
     "output_type": "stream",
     "name": "stdout",
     "text": [
      "name                 | typename                 | interpretation                \n---------------------+--------------------------+-------------------------------\nRunNum               | int32_t                  | AsDtype('>i4')\nPeriodNumber         | uint32_t                 | AsDtype('>u4')\nOrbitNumber          | uint32_t                 | AsDtype('>u4')\nBunchCrossNumber     | uint16_t                 | AsDtype('>u2')\nMass                 | float                    | AsDtype('>f4')\nPt                   | float                    | AsDtype('>f4')\nQ                    | int16_t                  | AsDtype('>i2')\nRapidity             | float                    | AsDtype('>f4')\nPhi                  | float                    | AsDtype('>f4')\nZNAenergy            | float                    | AsDtype('>f4')\nZNCenergy            | float                    | AsDtype('>f4')\nZPAenergy            | float                    | AsDtype('>f4')\nZPCenergy            | float                    | AsDtype('>f4')\nVtxX                 | float                    | AsDtype('>f4')\nVtxY                 | float                    | AsDtype('>f4')\nVtxZ                 | float                    | AsDtype('>f4')\nVtxContrib           | int32_t                  | AsDtype('>i4')\nVtxChi2              | float                    | AsDtype('>f4')\nVtxNDF               | float                    | AsDtype('>f4')\nSpdVtxX              | float                    | AsDtype('>f4')\nSpdVtxY              | float                    | AsDtype('>f4')\nSpdVtxZ              | float                    | AsDtype('>f4')\nSpdVtxContrib        | int32_t                  | AsDtype('>i4')\nV0Adecision          | int32_t                  | AsDtype('>i4')\nV0Cdecision          | int32_t                  | AsDtype('>i4')\nADAdecision          | int32_t                  | AsDtype('>i4')\nADCdecision          | int32_t                  | AsDtype('>i4')\nUBAfired             | bool                     | AsDtype('bool')\nUBCfired             | bool                     | AsDtype('bool')\nVBAfired             | bool                     | AsDtype('bool')\nVBCfired             | bool                     | AsDtype('bool')\nnTracklets           | int32_t                  | AsDtype('>i4')\nnTracks              | int32_t                  | AsDtype('>i4')\nT_NumberOfSigmaIT... | std::vector<float>       | AsJagged(AsDtype('>f4'), he...\nT_NumberOfSigmaIT... | std::vector<float>       | AsJagged(AsDtype('>f4'), he...\nT_NumberOfSigmaTP... | std::vector<float>       | AsJagged(AsDtype('>f4'), he...\nT_NumberOfSigmaTP... | std::vector<float>       | AsJagged(AsDtype('>f4'), he...\nTPCsignal            | std::vector<int32_t>     | AsJagged(AsDtype('>i4'), he...\nT_P                  | std::vector<float>       | AsJagged(AsDtype('>f4'), he...\nT_Eta                | std::vector<float>       | AsJagged(AsDtype('>f4'), he...\nT_Phi                | std::vector<float>       | AsJagged(AsDtype('>f4'), he...\nT_Px                 | std::vector<float>       | AsJagged(AsDtype('>f4'), he...\nT_Py                 | std::vector<float>       | AsJagged(AsDtype('>f4'), he...\nT_Pz                 | std::vector<float>       | AsJagged(AsDtype('>f4'), he...\nT_Q                  | std::vector<int16_t>     | AsJagged(AsDtype('>i2'), he...\nT_HasPointOnITSLa... | std::vector<bool>        | AsJagged(AsDtype('bool'), h...\nT_HasPointOnITSLa... | std::vector<bool>        | AsJagged(AsDtype('bool'), h...\nT_ITSModuleInner     | std::vector<int32_t>     | AsJagged(AsDtype('>i4'), he...\nT_ITSModuleOuter     | std::vector<int32_t>     | AsJagged(AsDtype('>i4'), he...\nT_TPCNCls            | std::vector<int32_t>     | AsJagged(AsDtype('>i4'), he...\nT_ITSNCls            | std::vector<int32_t>     | AsJagged(AsDtype('>i4'), he...\nT_Dca0               | std::vector<float>       | AsJagged(AsDtype('>f4'), he...\nT_Dca1               | std::vector<float>       | AsJagged(AsDtype('>f4'), he...\nT_TPCRefit           | std::vector<bool>        | AsJagged(AsDtype('bool'), h...\nT_ITSRefit           | std::vector<bool>        | AsJagged(AsDtype('bool'), h...\nTLets_Theta          | std::vector<float>       | AsJagged(AsDtype('>f4'), he...\nTLets_Phi            | std::vector<float>       | AsJagged(AsDtype('>f4'), he...\nT_ITSSensorNum       | std::vector<int32_t>     | AsJagged(AsDtype('>i4'), he...\n\nTree name: events\nTree title: Selected events for 4proungs analysis\nEvents number: 114648\nTracks number 4610890\n"
     ]
    }
   ],
   "source": [
    "from modules import events, dfs, np, pd, hep, plt, Pi0, PiPlus, Rho0\n",
    "from modules.data.info.DataInfo import DataInfo\n",
    "\n",
    "DataInfo()\n"
   ]
  },
  {
   "source": [
    "## Analysis criteria\n",
    "\n",
    "Let's take from input date only events with 4 tracks and zero total charge.\n",
    "Also prepare mask for tracks that satisfy standatd criteria contains further conditions for the TPC:\n",
    "\n",
    "* |NumberOfSigmaTPCPion| < 3\n",
    "* Number of TPC Clusters > 50\n",
    "* TPCRefit\n"
   ],
   "cell_type": "markdown",
   "metadata": {}
  },
  {
   "cell_type": "code",
   "execution_count": 33,
   "metadata": {},
   "outputs": [],
   "source": [
    "from modules.data.selection import dfs4Tracks, TPCMask, GetITSnTPCTracksDF, dfs4TracksLowPt, TPCMaskLowPt"
   ]
  },
  {
   "source": [
    "## Low energy tracks and TPC\n",
    "\n",
    "There is an idea about tracks with small energies (low pt) not able to reach TPC.\n",
    "We can try to estimate influence of TPC criteria to the statistics.\n",
    "\n",
    "Let's see what happend in case of we will plot pt for any combination of TPC tracks:\n",
    "\n",
    "### Event with std criteria\n",
    "\n",
    "|detector|track1|track2|track3|track4|\n",
    "|:--:|:--:|:--:|:--:|:--:|\n",
    "|ITS|+|+|+|+|\n",
    "|TPC|+|+|+|+|\n",
    "\n",
    "### Let's start to take also such combinations to the sample:\n",
    "\n",
    "|detector|track1|track2|track3|track4|\n",
    "|:--:|:--:|:--:|:--:|:--:|\n",
    "|ITS|+|+|+|+|\n",
    "|TPC|+|+|+|-|\n",
    "\n",
    "|detector|track1|track2|track3|track4|\n",
    "|:--:|:--:|:--:|:--:|:--:|\n",
    "|ITS|+|+|+|+|\n",
    "|TPC|+|+|-|-|\n",
    "\n",
    "|detector|track1|track2|track3|track4|\n",
    "|:--:|:--:|:--:|:--:|:--:|\n",
    "|ITS|+|+|+|+|\n",
    "|TPC|+|-|-|-|\n",
    "\n",
    "|detector|track1|track2|track3|track4|\n",
    "|:--:|:--:|:--:|:--:|:--:|\n",
    "|ITS|+|+|+|+|\n",
    "|TPC|-|-|-|-|\n",
    "\n",
    "We can see statistics gain ration equal 2.5 between std criteria and total combinations:\n"
   ],
   "cell_type": "markdown",
   "metadata": {}
  },
  {
   "cell_type": "code",
   "execution_count": 34,
   "metadata": {},
   "outputs": [
    {
     "output_type": "display_data",
     "data": {
      "text/plain": "Canvas(toolbar=Toolbar(toolitems=[('Home', 'Reset original view', 'home', 'home'), ('Back', 'Back to previous …",
      "application/vnd.jupyter.widget-view+json": {
       "version_major": 2,
       "version_minor": 0,
       "model_id": "039b2f7d69a046d995401b50f91da3b1"
      }
     },
     "metadata": {}
    },
    {
     "output_type": "execute_result",
     "data": {
      "text/plain": [
       "<matplotlib.legend.Legend at 0x2a3294d40a0>"
      ]
     },
     "metadata": {},
     "execution_count": 34
    }
   ],
   "source": [
    "from matplotlib.patches import Rectangle\n",
    "from modules.physics import kinematics\n",
    "\n",
    "%matplotlib widget\n",
    "\n",
    "\n",
    "plt.style.use(hep.style.ROOT)\n",
    "fig = plt.figure(figsize=(15,7))\n",
    "ax = fig.add_subplot()\n",
    "\n",
    "fig.suptitle(f'4track events pt', fontsize=32)\n",
    "tpcimpPt = []\n",
    "colors = ['red','green', 'yellow', 'orange', 'black']\n",
    "labels = ['ITS & (>= 0TPC)','ITS & (>= 1TPC)', 'ITS & (>= 2TPC)', 'ITS & (>= 3TPC)', 'ITS & ( =  4TPC)']\n",
    "\n",
    "for i in range(5):\n",
    "    ITSnTPCEvents = pd.unique(dfs4Tracks.reset_index().entry)[TPCMask.groupby('entry').sum() >= i]\n",
    "    ITSnTPCTracks = dfs4Tracks.loc[ITSnTPCEvents]\n",
    "    tmpPt = kinematics(ITSnTPCTracks).EventsVectors.pt\n",
    "    tpcimpPt.append(tmpPt)\n",
    "    ax.hist(tpcimpPt[i], bins=100, range=(0,2), histtype='step', color=colors[i], linewidth=2, label=labels[i]+f';{(tmpPt<0.15).sum()}')\n",
    "\n",
    "ax.set_xlabel('$p_t, GeV$')\n",
    "ax.set_ylabel('# events')\n",
    "\n",
    "ax.add_patch(Rectangle((0,0.15),0.15,900,fc='lightgrey',alpha=0.4))\n",
    "\n",
    "ax.legend()\n"
   ]
  },
  {
   "source": [
    "Now  let's try to see what tracks we lost from signal area and what contribution they have:"
   ],
   "cell_type": "markdown",
   "metadata": {}
  },
  {
   "cell_type": "code",
   "execution_count": 35,
   "metadata": {},
   "outputs": [
    {
     "output_type": "display_data",
     "data": {
      "text/plain": "Canvas(toolbar=Toolbar(toolitems=[('Home', 'Reset original view', 'home', 'home'), ('Back', 'Back to previous …",
      "application/vnd.jupyter.widget-view+json": {
       "version_major": 2,
       "version_minor": 0,
       "model_id": "02667d1583b743e5839409f4ca1c2047"
      }
     },
     "metadata": {}
    }
   ],
   "source": [
    "from modules.physics.analysis.ITSvsTPC import *\n",
    "\n",
    "%matplotlib widget\n",
    "\n",
    "ShowComparison('$p_t$',[AllTPCTracksPt, ITSDiffTPCTracksPt, TotalLowPt], 'GeV', ['ITS&&TPC', 'OnlyITSFromNTPCEvents', 'ITS||TPC'])\n",
    "\n",
    "\n"
   ]
  },
  {
   "source": [
    "TPC and ITS has different coverage for polar angle:\n",
    "\n",
    "![img1](https://camo.githubusercontent.com/9a7ab40d0f74a866a7095986644134a0f72cc58b/68747470733a2f2f70702e757365726170692e636f6d2f633835323231362f763835323231363738332f3131396137332f304f76685f6c544b4e7a552e6a7067)\n",
    "\n",
    "Perhaps we have tracks that not only can't reach TPC, but also has $\\theta$ values that TPC doesn't cover.\n",
    "\n",
    "Below we can see polar angle distribution for tracks that covers three cases:\n",
    "\n",
    "1. All tracks from events were reconstructed by ITS and TPC\n",
    "2. Only ITS tracks from events with only part TPC tracks. Here tracks that not reconstructed by TPC\n",
    "3. All tracks from events were reconstructed by ITS or TPC\n",
    "\n",
    "We can see small gaps with for the second case, that allow to speak about correctness of the suggestion, but anyway low energy of tracks is the main reason why TPC can't reconstructed tracks.  "
   ],
   "cell_type": "markdown",
   "metadata": {}
  },
  {
   "cell_type": "code",
   "execution_count": 36,
   "metadata": {},
   "outputs": [
    {
     "output_type": "display_data",
     "data": {
      "text/plain": "Canvas(toolbar=Toolbar(toolitems=[('Home', 'Reset original view', 'home', 'home'), ('Back', 'Back to previous …",
      "application/vnd.jupyter.widget-view+json": {
       "version_major": 2,
       "version_minor": 0,
       "model_id": "05fda2e2620c40eca5bf4d96a80b573e"
      }
     },
     "metadata": {}
    }
   ],
   "source": [
    "ShowComparison('$\\\\theta$',[AllTPCTracksTheta, ITSDiffTPCTracksTheta, TotalLowPtTheta], '$^\\\\circ$', ['ITS&&TPC', 'OnlyITSFromNTPCEvents', 'ITS||TPC'], nBins=80, ranges=(25,150))"
   ]
  },
  {
   "source": [
    "## Mass\n",
    "\n",
    "In our process 4 pions were producted. The most probably intermediate state including two pions and $\\rho$ i.e.\n",
    "$$\\rho' \\rightarrow \\rho \\ \\pi^+ \\pi^- \\rightarrow \\pi^+ \\pi^- \\pi^+ \\pi^-$$ \n",
    "\n",
    "We can see this on distribution of mass that can be obtained as all combinations of pairs from intial four tracks, i.e. only four pairs:\n",
    "\n",
    "![img](https://camo.githubusercontent.com/53a52e2a6d4ae7112d74f4073c979a51166170d8/68747470733a2f2f70702e757365726170692e636f6d2f633835333632342f763835333632343436372f34383466332f5431375a754b597062526f2e6a7067)\n",
    "\n",
    "One of these pair should rely to $\\rho$"
   ],
   "cell_type": "markdown",
   "metadata": {}
  },
  {
   "cell_type": "code",
   "execution_count": 99,
   "metadata": {},
   "outputs": [
    {
     "output_type": "display_data",
     "data": {
      "text/plain": "Canvas(toolbar=Toolbar(toolitems=[('Home', 'Reset original view', 'home', 'home'), ('Back', 'Back to previous …",
      "application/vnd.jupyter.widget-view+json": {
       "version_major": 2,
       "version_minor": 0,
       "model_id": "e70a4341525e48a28dd18e86a4ba4297"
      }
     },
     "metadata": {}
    },
    {
     "output_type": "stream",
     "name": "stderr",
     "text": [
      "No handles with labels found to put in legend.\n"
     ]
    },
    {
     "output_type": "execute_result",
     "data": {
      "text/plain": [
       "<matplotlib.legend.Legend at 0x2a33bee1e50>"
      ]
     },
     "metadata": {},
     "execution_count": 99
    }
   ],
   "source": [
    "from modules.physics.analysis.mass import LiteHeavyRecoil, LiteHeavyTotal\n",
    "\n",
    "%matplotlib widget\n",
    "\n",
    "# TODO add bar errors \n",
    "plt.style.use(hep.style.ROOT)\n",
    "fig, ax = plt.subplots(1,2,figsize=(15,7))\n",
    "fig.suptitle('Lightest and Recoil Pairs', fontsize=32)\n",
    "_ = ax[0].hist(LiteHeavyRecoil.Lite,bins=100, range=(0,2), histtype='step', color='blue', linewidth=2, label='lite pair')\n",
    "_ = ax[0].hist(LiteHeavyRecoil.Recoil,bins=100, range=(0,2), histtype='step', color='red', linewidth=2, label='rest pair')\n",
    "ax[0].set_xlabel('$Mass, GeV$')\n",
    "ax[0].set_ylabel('# events')\n",
    "_ = ax[1].hist2d(LiteHeavyRecoil.Recoil, LiteHeavyRecoil.Lite, bins=(50, 50),range=[(0,2),(0,2)], cmap=plt.cm.jet)\n",
    "ax[1].set_ylabel('Lightest pair Mass, GeV')\n",
    "ax[1].set_xlabel('Recoiling pair Mass, GeV')\n",
    "ax[1].legend()\n"
   ]
  },
  {
   "cell_type": "code",
   "execution_count": 100,
   "metadata": {},
   "outputs": [
    {
     "output_type": "display_data",
     "data": {
      "text/plain": "Canvas(toolbar=Toolbar(toolitems=[('Home', 'Reset original view', 'home', 'home'), ('Back', 'Back to previous …",
      "application/vnd.jupyter.widget-view+json": {
       "version_major": 2,
       "version_minor": 0,
       "model_id": "eaa9fcc2a0754098bb8bd55fc856c2b9"
      }
     },
     "metadata": {}
    },
    {
     "output_type": "stream",
     "name": "stderr",
     "text": [
      "No handles with labels found to put in legend.\n"
     ]
    },
    {
     "output_type": "execute_result",
     "data": {
      "text/plain": [
       "<matplotlib.legend.Legend at 0x2a342f74d30>"
      ]
     },
     "metadata": {},
     "execution_count": 100
    }
   ],
   "source": [
    "\n",
    "%matplotlib widget\n",
    "\n",
    "# TODO add bar errors \n",
    "plt.style.use(hep.style.ROOT)\n",
    "fig, ax = plt.subplots(1,2,figsize=(15,7))\n",
    "fig.suptitle('All Pairs', fontsize=32)\n",
    "\n",
    "_ = ax[0].hist(LiteHeavyTotal.Lite,bins=100, range=(0,2), histtype='step', color='blue', linewidth=2, label='lite pair')\n",
    "_ = ax[0].hist(LiteHeavyTotal.Recoil,bins=100, range=(0,2), histtype='step', color='red', linewidth=2, label='rest pair')\n",
    "ax[0].set_xlabel('$Mass, GeV$')\n",
    "ax[0].set_ylabel('# events')\n",
    "_ = ax[1].hist2d(LiteHeavyTotal.Recoil, LiteHeavyTotal.Lite, bins=(50, 50),range=[(0,2),(0,2)], cmap=plt.cm.jet)\n",
    "ax[1].set_ylabel('Lightest pair Mass, GeV')\n",
    "ax[1].set_xlabel('Recoiling pair Mass, GeV')\n",
    "ax[1].legend()\n"
   ]
  },
  {
   "source": [
    "## Debug\n",
    "\n",
    "Something wrong with my mass distribution. It has too wide peak for recoiling pairs. Let's see what other parameters have tracks that rely for this bias."
   ],
   "cell_type": "markdown",
   "metadata": {}
  },
  {
   "cell_type": "code",
   "execution_count": 13,
   "metadata": {},
   "outputs": [
    {
     "output_type": "stream",
     "name": "stdout",
     "text": [
      "[521, 600, 807, 921, 1168, 1356, 1491, 1695, 1930, 2160]\n"
     ]
    },
    {
     "output_type": "execute_result",
     "data": {
      "text/plain": [
       "          T_NumberOfSigmaTPCPion     T_Eta     T_Phi      T_Px      T_Py  \\\n",
       "subentry                                                                   \n",
       "0                       0.796625  0.519204  4.893516  0.074929 -0.409151   \n",
       "1                      -0.277492  0.489071  2.217984 -0.376581  0.498271   \n",
       "2                      -1.512271  0.492116  1.338488  0.071980  0.304254   \n",
       "3                      -0.179922  0.233628  6.112863  0.246390 -0.042376   \n",
       "\n",
       "              T_Pz  T_Q  T_TPCNCls  T_TPCRefit  \n",
       "subentry                                        \n",
       "0         0.225801  1.0      147.0         1.0  \n",
       "1         0.317782 -1.0      143.0         1.0  \n",
       "2         0.160147  1.0      140.0         1.0  \n",
       "3         0.058941 -1.0       58.0         1.0  "
      ],
      "text/html": "<div>\n<style scoped>\n    .dataframe tbody tr th:only-of-type {\n        vertical-align: middle;\n    }\n\n    .dataframe tbody tr th {\n        vertical-align: top;\n    }\n\n    .dataframe thead th {\n        text-align: right;\n    }\n</style>\n<table border=\"1\" class=\"dataframe\">\n  <thead>\n    <tr style=\"text-align: right;\">\n      <th></th>\n      <th>T_NumberOfSigmaTPCPion</th>\n      <th>T_Eta</th>\n      <th>T_Phi</th>\n      <th>T_Px</th>\n      <th>T_Py</th>\n      <th>T_Pz</th>\n      <th>T_Q</th>\n      <th>T_TPCNCls</th>\n      <th>T_TPCRefit</th>\n    </tr>\n    <tr>\n      <th>subentry</th>\n      <th></th>\n      <th></th>\n      <th></th>\n      <th></th>\n      <th></th>\n      <th></th>\n      <th></th>\n      <th></th>\n      <th></th>\n    </tr>\n  </thead>\n  <tbody>\n    <tr>\n      <th>0</th>\n      <td>0.796625</td>\n      <td>0.519204</td>\n      <td>4.893516</td>\n      <td>0.074929</td>\n      <td>-0.409151</td>\n      <td>0.225801</td>\n      <td>1.0</td>\n      <td>147.0</td>\n      <td>1.0</td>\n    </tr>\n    <tr>\n      <th>1</th>\n      <td>-0.277492</td>\n      <td>0.489071</td>\n      <td>2.217984</td>\n      <td>-0.376581</td>\n      <td>0.498271</td>\n      <td>0.317782</td>\n      <td>-1.0</td>\n      <td>143.0</td>\n      <td>1.0</td>\n    </tr>\n    <tr>\n      <th>2</th>\n      <td>-1.512271</td>\n      <td>0.492116</td>\n      <td>1.338488</td>\n      <td>0.071980</td>\n      <td>0.304254</td>\n      <td>0.160147</td>\n      <td>1.0</td>\n      <td>140.0</td>\n      <td>1.0</td>\n    </tr>\n    <tr>\n      <th>3</th>\n      <td>-0.179922</td>\n      <td>0.233628</td>\n      <td>6.112863</td>\n      <td>0.246390</td>\n      <td>-0.042376</td>\n      <td>0.058941</td>\n      <td>-1.0</td>\n      <td>58.0</td>\n      <td>1.0</td>\n    </tr>\n  </tbody>\n</table>\n</div>"
     },
     "metadata": {},
     "execution_count": 13
    }
   ],
   "source": [
    "c = (0.4 <= secondCombSorted) * (secondCombSorted <= 0.6)\n",
    "clist = c.index[(c.Lite * c.Heavy)].to_list()\n",
    "print(clist[:10])\n",
    "ITSnTPCTracks.loc[521]"
   ]
  },
  {
   "cell_type": "code",
   "execution_count": 26,
   "metadata": {},
   "outputs": [
    {
     "output_type": "execute_result",
     "data": {
      "text/plain": [
       "          T_NumberOfSigmaTPCPion     T_Eta     T_Phi      T_Px      T_Py  \\\n",
       "subentry                                                                   \n",
       "0                       0.117312  0.084907  5.399884  1.001586 -1.219759   \n",
       "1                      -0.190391  0.573115  4.870948  0.103258 -0.645757   \n",
       "2                    -999.000000  0.117570  5.857540  0.107440 -0.048709   \n",
       "3                    -999.000000  0.875668  0.795731  0.128050  0.130724   \n",
       "\n",
       "              T_Pz  T_Q  T_TPCNCls  T_TPCRefit  \n",
       "subentry                                        \n",
       "0         0.134169 -1.0      158.0         1.0  \n",
       "1         0.395652  1.0      156.0         1.0  \n",
       "2         0.013901 -1.0        0.0         0.0  \n",
       "3         0.181517  1.0        0.0         0.0  "
      ],
      "text/html": "<div>\n<style scoped>\n    .dataframe tbody tr th:only-of-type {\n        vertical-align: middle;\n    }\n\n    .dataframe tbody tr th {\n        vertical-align: top;\n    }\n\n    .dataframe thead th {\n        text-align: right;\n    }\n</style>\n<table border=\"1\" class=\"dataframe\">\n  <thead>\n    <tr style=\"text-align: right;\">\n      <th></th>\n      <th>T_NumberOfSigmaTPCPion</th>\n      <th>T_Eta</th>\n      <th>T_Phi</th>\n      <th>T_Px</th>\n      <th>T_Py</th>\n      <th>T_Pz</th>\n      <th>T_Q</th>\n      <th>T_TPCNCls</th>\n      <th>T_TPCRefit</th>\n    </tr>\n    <tr>\n      <th>subentry</th>\n      <th></th>\n      <th></th>\n      <th></th>\n      <th></th>\n      <th></th>\n      <th></th>\n      <th></th>\n      <th></th>\n      <th></th>\n    </tr>\n  </thead>\n  <tbody>\n    <tr>\n      <th>0</th>\n      <td>0.117312</td>\n      <td>0.084907</td>\n      <td>5.399884</td>\n      <td>1.001586</td>\n      <td>-1.219759</td>\n      <td>0.134169</td>\n      <td>-1.0</td>\n      <td>158.0</td>\n      <td>1.0</td>\n    </tr>\n    <tr>\n      <th>1</th>\n      <td>-0.190391</td>\n      <td>0.573115</td>\n      <td>4.870948</td>\n      <td>0.103258</td>\n      <td>-0.645757</td>\n      <td>0.395652</td>\n      <td>1.0</td>\n      <td>156.0</td>\n      <td>1.0</td>\n    </tr>\n    <tr>\n      <th>2</th>\n      <td>-999.000000</td>\n      <td>0.117570</td>\n      <td>5.857540</td>\n      <td>0.107440</td>\n      <td>-0.048709</td>\n      <td>0.013901</td>\n      <td>-1.0</td>\n      <td>0.0</td>\n      <td>0.0</td>\n    </tr>\n    <tr>\n      <th>3</th>\n      <td>-999.000000</td>\n      <td>0.875668</td>\n      <td>0.795731</td>\n      <td>0.128050</td>\n      <td>0.130724</td>\n      <td>0.181517</td>\n      <td>1.0</td>\n      <td>0.0</td>\n      <td>0.0</td>\n    </tr>\n  </tbody>\n</table>\n</div>"
     },
     "metadata": {},
     "execution_count": 26
    }
   ],
   "source": [
    "# get first possible combinations of pairs\n",
    "# FirstPair  = \n",
    "# (PosFirstTrack.T_Eta - NegFirstTrack.T_Eta)\n",
    "# firstCombSorted.index.to_list()\n",
    "ITSnTPCTracks.loc[26]\n",
    "# SecPairMass    = GetPairMass(PosSecTrack,   NegSecTrack)\n",
    "\n",
    "# # get second possible combinations of pairs\n",
    "# ThirdPairMass  = GetPairMass(PosFirstTrack, NegSecTrack)\n",
    "# FourthPairMass = GetPairMass(PosSecTrack,   NegFirstTrack)"
   ]
  },
  {
   "cell_type": "code",
   "execution_count": null,
   "metadata": {},
   "outputs": [],
   "source": [
    "# get first possible combinations of pairs\n",
    "FirstPairMass  = GetPairMass(PosFirstTrack, NegFirstTrack)\n",
    "SecPairMass    = GetPairMass(PosSecTrack,   NegSecTrack)\n",
    "\n",
    "# get second possible combinations of pairs\n",
    "ThirdPairMass  = GetPairMass(PosFirstTrack, NegSecTrack)\n",
    "FourthPairMass = GetPairMass(PosSecTrack,   NegFirstTrack)"
   ]
  },
  {
   "source": [
    "## Runs stats\n",
    "\n",
    "Let's see what run have maximum events for our data when TPC track is 'n':"
   ],
   "cell_type": "markdown",
   "metadata": {}
  },
  {
   "cell_type": "code",
   "execution_count": 12,
   "metadata": {},
   "outputs": [
    {
     "output_type": "execute_result",
     "data": {
      "text/plain": [
       "[(246087, 725),\n",
       " (246989, 573),\n",
       " (246980, 555),\n",
       " (245507, 458),\n",
       " (246984, 414),\n",
       " (245963, 408),\n",
       " (245407, 391),\n",
       " (245554, 387),\n",
       " (245775, 361),\n",
       " (246488, 338)]"
      ]
     },
     "metadata": {},
     "execution_count": 12
    }
   ],
   "source": [
    "import collections\n",
    "runs = events.arrays(filter_name=['RunNum'],library='np')\n",
    "collections.Counter(runs['RunNum'][np.unique(ITSnTPCTracks.reset_index().entry.to_numpy())]).most_common()[:10]\n"
   ]
  }
 ],
 "metadata": {
  "kernelspec": {
   "display_name": "Python 3.8.2 64-bit",
   "language": "python",
   "name": "python38264bit3afbaa1fad294b6594b92b10bbcb573b"
  },
  "language_info": {
   "codemirror_mode": {
    "name": "ipython",
    "version": 3
   },
   "file_extension": ".py",
   "mimetype": "text/x-python",
   "name": "python",
   "nbconvert_exporter": "python",
   "pygments_lexer": "ipython3",
   "version": "3.8.6-final"
  }
 },
 "nbformat": 4,
 "nbformat_minor": 4
}