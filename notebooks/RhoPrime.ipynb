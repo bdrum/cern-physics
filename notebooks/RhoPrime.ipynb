{
 "cells": [
  {
   "cell_type": "markdown",
   "metadata": {},
   "source": [
    "# $\\rho'$ analysis notes\n",
    "\n",
    "## Data Acqusition\n",
    "\n",
    "### Run numbers\n",
    "\n",
    "### Lego Train\n",
    "\n",
    "### Data scheme"
   ]
  },
  {
   "cell_type": "code",
   "execution_count": 73,
   "metadata": {},
   "outputs": [
    {
     "name": "stdout",
     "output_type": "stream",
     "text": [
      "TrigType                   (no streamer)              asdtype('>i4')\n",
      "dV0                        (no streamer)              asdtype(\"('>f4', (6,))\")\n",
      "EnZDC                      (no streamer)              asdtype(\"('>f4', (6,))\")\n",
      "dAD                        (no streamer)              asdtype(\"('>f4', (6,))\")\n",
      "vertex                     (no streamer)              asdtype(\"('>f4', (3,))\")\n",
      "nTracks                    (no streamer)              asdtype('>i4')\n",
      "nTracklets                 (no streamer)              asdtype('>i4')\n",
      "eventinfo                  (no streamer)              asdtype(\"('>i4', (4,))\")\n",
      "TDCa                       (no streamer)              asdtype(\"('>f4', (4,))\")\n",
      "TDCc                       (no streamer)              asdtype(\"('>f4', (4,))\")\n",
      "TriggerType                (no streamer)              asdtype(\"('>i4', (2,))\")\n",
      "dca0                       (no streamer)              asdtype(\"('>f4', (177,))\")\n",
      "dca1                       (no streamer)              asdtype(\"('>f4', (177,))\")\n",
      "ITSNcls                    (no streamer)              asdtype(\"('>i4', (177,))\")\n",
      "TPCNcls                    (no streamer)              asdtype(\"('>i4', (177,))\")\n",
      "HasPointOnITSLayer0        (no streamer)              asdtype(\"('>i4', (177,))\")\n",
      "HasPointOnITSLayer1        (no streamer)              asdtype(\"('>i4', (177,))\")\n",
      "charge                     (no streamer)              asdtype(\"('>i4', (177,))\")\n",
      "NumberOfSigmasTPCPion      (no streamer)              asdtype(\"('>f4', (177,))\")\n",
      "NumberOfSigmasTPCElectron  (no streamer)              asdtype(\"('>f4', (177,))\")\n",
      "NumberOfSigmasITSPion      (no streamer)              asdtype(\"('>f4', (177,))\")\n",
      "NumberOfSigmasITSElectron  (no streamer)              asdtype(\"('>f4', (177,))\")\n",
      "NumberOfSigmasITSKaon      (no streamer)              asdtype(\"('>f4', (177,))\")\n",
      "StatusAndTPCRefit          (no streamer)              asdtype(\"('>i4', (177,))\")\n",
      "StatusAndITSRefit          (no streamer)              asdtype(\"('>i4', (177,))\")\n",
      "Px                         (no streamer)              asdtype(\"('>f4', (177,))\")\n",
      "Py                         (no streamer)              asdtype(\"('>f4', (177,))\")\n",
      "Pz                         (no streamer)              asdtype(\"('>f4', (177,))\")\n",
      "Pt                         (no streamer)              asdtype('>f4')\n"
     ]
    },
    {
     "data": {
      "text/plain": [
       "(b'events', b'events', 6154096)"
      ]
     },
     "execution_count": 73,
     "metadata": {},
     "output_type": "execute_result"
    }
   ],
   "source": [
    "import uproot\n",
    "import numpy as np\n",
    "import matplotlib.pyplot as plt\n",
    "import mplhep as hep\n",
    "import pandas as ps\n",
    "import awkward\n",
    "\n",
    "class UPCFiles:\n",
    "    ccup8_2015 =  r\"/mnt/d/GoogleDrive/Job/cern/Alice/analysis/data/RhoPrime/2015/pvn/ccup8.sel.new.root\"\n",
    "    ccup9_2015 =  r\"/mnt/d/GoogleDrive/Job/cern/Alice/analysis/data/RhoPrime/2015/pvn/ccup9.sel.new.root\"\n",
    "    ccup29_2018 = r\"/mnt/d/GoogleDrive/Job/cern/Alice/analysis/data/RhoPrime/2018/pvn/ccup29.sel.new.root\"\n",
    "    ccup30_2018 = r\"/mnt/d/GoogleDrive/Job/cern/Alice/analysis/data/RhoPrime/2018/pvn/ccup30.sel.new.root\"\n",
    "    ccup31_2018 = r\"/mnt/d/GoogleDrive/Job/cern/Alice/analysis/data/RhoPrime/2018/pvn/ccup31.sel.new.root\"\n",
    "    \n",
    "    ccup8_2015_win  =  r\"D:\\GoogleDrive\\Job\\cern\\Alice\\analysis\\data\\RhoPrime\\2015\\pvn\\ccup8.sel.new.root\"\n",
    "    ccup9_2015_win  =  r\"D:\\GoogleDrive\\Job\\cern\\Alice\\analysis\\data\\RhoPrime\\2015\\pvn\\ccup9.sel.new.root\"\n",
    "    ccup29_2018_win =  r\"D:\\GoogleDrive\\Job\\cern\\Alice\\analysis\\data\\RhoPrime\\2018\\pvn\\ccup29.sel.new.root\"\n",
    "    ccup30_2018_win =  r\"D:\\GoogleDrive\\Job\\cern\\Alice\\analysis\\data\\RhoPrime\\2018\\pvn\\ccup30.sel.new.root\"\n",
    "    ccup31_2018_win =  r\"D:\\GoogleDrive\\Job\\cern\\Alice\\analysis\\data\\RhoPrime\\2018\\pvn\\ccup31.sel.new.root\"\n",
    "\n",
    "events = uproot.open(UPCFiles.ccup8_2015_win)['events']\n",
    "entries = events.numentries\n",
    "events.show()\n",
    "events.name, events.title, events.numentries"
   ]
  },
  {
   "cell_type": "markdown",
   "metadata": {},
   "source": [
    "## Four prongs selection\n"
   ]
  },
  {
   "cell_type": "code",
   "execution_count": 88,
   "metadata": {},
   "outputs": [],
   "source": [
    "start = 0\n",
    "stop  = 300000\n",
    "data = events.lazyarrays(\"*\", entrystart=start, entrystop=stop, basketcache=uproot.cache.ThreadSafeArrayCache(100 * 1024**2))\n"
   ]
  },
  {
   "cell_type": "code",
   "execution_count": 63,
   "metadata": {},
   "outputs": [],
   "source": [
    "itsl0 = (data.HasPointOnITSLayer0 == 1)\n",
    "itsl1 = (data.HasPointOnITSLayer1 == 1)\n",
    "selected = itsl0 + itsl1\n",
    "\n",
    "# del itsl0\n",
    "# del itsl1\n",
    "\n",
    "# tpcref = (data[\"StatusAndTPCRefit\"] > 0)\n",
    "# itcref = (data[\"StatusAndITSRefit\"] > 0)\n",
    "# selected = selected * tpcref * itcref\n",
    "\n",
    "# del tpcref\n",
    "# del itcref\n",
    "\n",
    "# dca0 = (np.abs(data[\"dca0\"]) < 3)\n",
    "# dca1 = (np.abs(data[\"dca1\"]) < 3)\n",
    "# selected = selected * dca0 * dca1\n",
    "\n",
    "# del dca0\n",
    "# del dca1\n",
    "\n",
    "# tpcncls = (data[\"TPCNcls\"] > 50) \n",
    "# sigmapion = (np.abs(data[\"NumberOfSigmasTPCPion\"]) < 3)\n",
    "# selected = selected * tpcncls * sigmapion\n",
    "\n",
    "# del tpcncls\n",
    "# del sigmapion\n",
    "\n"
   ]
  },
  {
   "cell_type": "code",
   "execution_count": 108,
   "metadata": {},
   "outputs": [
    {
     "name": "stdout",
     "output_type": "stream",
     "text": [
      "cache size vs chunks len\n",
      "10MB [31493, 33047, 32963, 26505, 26865, 27270, 27045, 27450, 28215, 28980, 27900]\n",
      "100MB [31493, 33047, 32963, 26505, 26865, 27270, 27045, 27450, 28215, 28980, 27900]\n",
      "1000MB [31493, 33047, 32963, 26505, 26865, 27270, 27045, 27450, 28215, 28980, 27900]\n"
     ]
    }
   ],
   "source": [
    "data = events.lazyarrays(\"*\", entrystart=start, entrystop=stop, basketcache=uproot.cache.ThreadSafeArrayCache(10 * 1024**2))\n",
    "print ('cache size vs chunks len')\n",
    "print (\"10MB\", [data.HasPointOnITSLayer0.chunks[i].shape[0] for i in range(len(data.HasPointOnITSLayer0.chunks))])\n",
    "\n",
    "data = events.lazyarrays(\"*\", entrystart=start, entrystop=stop, basketcache=uproot.cache.ThreadSafeArrayCache(100 * 1024**2))\n",
    "print (\"100MB\", [data.HasPointOnITSLayer0.chunks[i].shape[0] for i in range(len(data.HasPointOnITSLayer0.chunks))])\n",
    "\n",
    "data = events.lazyarrays(\"*\", entrystart=start, entrystop=stop, basketcache=uproot.cache.ThreadSafeArrayCache(1000 * 1024**2))\n",
    "print (\"1000MB\", [data.HasPointOnITSLayer0.chunks[i].shape[0] for i in range(len(data.HasPointOnITSLayer0.chunks))])"
   ]
  },
  {
   "cell_type": "code",
   "execution_count": 9,
   "metadata": {},
   "outputs": [
    {
     "ename": "TypeError",
     "evalue": "sum() got an unexpected keyword argument 'axis'",
     "output_type": "error",
     "traceback": [
      "\u001b[1;31m---------------------------------------------------------------------------\u001b[0m",
      "\u001b[1;31mTypeError\u001b[0m                                 Traceback (most recent call last)",
      "\u001b[1;32m<ipython-input-9-602a841882e9>\u001b[0m in \u001b[0;36m<module>\u001b[1;34m\u001b[0m\n\u001b[0;32m      1\u001b[0m \u001b[1;31m# TODO: why tpcref freq value is 64?\u001b[0m\u001b[1;33m\u001b[0m\u001b[1;33m\u001b[0m\u001b[1;33m\u001b[0m\u001b[0m\n\u001b[0;32m      2\u001b[0m \u001b[1;33m\u001b[0m\u001b[0m\n\u001b[1;32m----> 3\u001b[1;33m \u001b[0mGoodEvents\u001b[0m \u001b[1;33m=\u001b[0m \u001b[0mnp\u001b[0m\u001b[1;33m.\u001b[0m\u001b[0margwhere\u001b[0m\u001b[1;33m(\u001b[0m\u001b[0mnp\u001b[0m\u001b[1;33m.\u001b[0m\u001b[0msum\u001b[0m\u001b[1;33m(\u001b[0m\u001b[0mselected\u001b[0m\u001b[1;33m,\u001b[0m\u001b[0maxis\u001b[0m\u001b[1;33m=\u001b[0m\u001b[1;36m1\u001b[0m\u001b[1;33m)\u001b[0m\u001b[1;33m==\u001b[0m\u001b[1;36m4\u001b[0m\u001b[1;33m)\u001b[0m\u001b[1;33m\u001b[0m\u001b[1;33m\u001b[0m\u001b[0m\n\u001b[0m\u001b[0;32m      4\u001b[0m \u001b[0mGoodTracks\u001b[0m \u001b[1;33m=\u001b[0m \u001b[0mnp\u001b[0m\u001b[1;33m.\u001b[0m\u001b[0margwhere\u001b[0m\u001b[1;33m(\u001b[0m\u001b[0mselected\u001b[0m\u001b[1;33m[\u001b[0m\u001b[0mGoodEvents\u001b[0m\u001b[1;33m.\u001b[0m\u001b[0mflatten\u001b[0m\u001b[1;33m(\u001b[0m\u001b[1;33m)\u001b[0m\u001b[1;33m]\u001b[0m\u001b[1;33m==\u001b[0m\u001b[1;32mTrue\u001b[0m\u001b[1;33m)\u001b[0m\u001b[1;33m.\u001b[0m\u001b[0mreshape\u001b[0m\u001b[1;33m(\u001b[0m\u001b[0mlen\u001b[0m\u001b[1;33m(\u001b[0m\u001b[0mGoodEvents\u001b[0m\u001b[1;33m)\u001b[0m\u001b[1;33m,\u001b[0m\u001b[1;36m8\u001b[0m\u001b[1;33m)\u001b[0m\u001b[1;33m\u001b[0m\u001b[1;33m\u001b[0m\u001b[0m\n\u001b[0;32m      5\u001b[0m \u001b[0mGoodEventsAndTracks\u001b[0m \u001b[1;33m=\u001b[0m \u001b[0mnp\u001b[0m\u001b[1;33m.\u001b[0m\u001b[0mappend\u001b[0m\u001b[1;33m(\u001b[0m\u001b[0mGoodEvents\u001b[0m\u001b[1;33m,\u001b[0m\u001b[0mGoodTracks\u001b[0m\u001b[1;33m[\u001b[0m\u001b[1;33m:\u001b[0m\u001b[1;33m,\u001b[0m\u001b[1;36m1\u001b[0m\u001b[1;33m:\u001b[0m\u001b[0mlen\u001b[0m\u001b[1;33m(\u001b[0m\u001b[0mGoodTracks\u001b[0m\u001b[1;33m)\u001b[0m\u001b[1;33m:\u001b[0m\u001b[1;36m2\u001b[0m\u001b[1;33m]\u001b[0m\u001b[1;33m,\u001b[0m \u001b[0maxis\u001b[0m\u001b[1;33m=\u001b[0m\u001b[1;36m1\u001b[0m\u001b[1;33m)\u001b[0m \u001b[1;31m# array([[ 389,    2,    3,    5,    7],...])\u001b[0m\u001b[1;33m\u001b[0m\u001b[1;33m\u001b[0m\u001b[0m\n",
      "\u001b[1;32m<__array_function__ internals>\u001b[0m in \u001b[0;36msum\u001b[1;34m(*args, **kwargs)\u001b[0m\n",
      "\u001b[1;32mC:\\Python38\\lib\\site-packages\\numpy\\core\\fromnumeric.py\u001b[0m in \u001b[0;36msum\u001b[1;34m(a, axis, dtype, out, keepdims, initial, where)\u001b[0m\n\u001b[0;32m   2226\u001b[0m         \u001b[1;32mreturn\u001b[0m \u001b[0mres\u001b[0m\u001b[1;33m\u001b[0m\u001b[1;33m\u001b[0m\u001b[0m\n\u001b[0;32m   2227\u001b[0m \u001b[1;33m\u001b[0m\u001b[0m\n\u001b[1;32m-> 2228\u001b[1;33m     return _wrapreduction(a, np.add, 'sum', axis, dtype, out, keepdims=keepdims,\n\u001b[0m\u001b[0;32m   2229\u001b[0m                           initial=initial, where=where)\n\u001b[0;32m   2230\u001b[0m \u001b[1;33m\u001b[0m\u001b[0m\n",
      "\u001b[1;32mC:\\Python38\\lib\\site-packages\\numpy\\core\\fromnumeric.py\u001b[0m in \u001b[0;36m_wrapreduction\u001b[1;34m(obj, ufunc, method, axis, dtype, out, **kwargs)\u001b[0m\n\u001b[0;32m     86\u001b[0m                 \u001b[1;32mreturn\u001b[0m \u001b[0mreduction\u001b[0m\u001b[1;33m(\u001b[0m\u001b[0maxis\u001b[0m\u001b[1;33m=\u001b[0m\u001b[0maxis\u001b[0m\u001b[1;33m,\u001b[0m \u001b[0mdtype\u001b[0m\u001b[1;33m=\u001b[0m\u001b[0mdtype\u001b[0m\u001b[1;33m,\u001b[0m \u001b[0mout\u001b[0m\u001b[1;33m=\u001b[0m\u001b[0mout\u001b[0m\u001b[1;33m,\u001b[0m \u001b[1;33m**\u001b[0m\u001b[0mpasskwargs\u001b[0m\u001b[1;33m)\u001b[0m\u001b[1;33m\u001b[0m\u001b[1;33m\u001b[0m\u001b[0m\n\u001b[0;32m     87\u001b[0m             \u001b[1;32melse\u001b[0m\u001b[1;33m:\u001b[0m\u001b[1;33m\u001b[0m\u001b[1;33m\u001b[0m\u001b[0m\n\u001b[1;32m---> 88\u001b[1;33m                 \u001b[1;32mreturn\u001b[0m \u001b[0mreduction\u001b[0m\u001b[1;33m(\u001b[0m\u001b[0maxis\u001b[0m\u001b[1;33m=\u001b[0m\u001b[0maxis\u001b[0m\u001b[1;33m,\u001b[0m \u001b[0mout\u001b[0m\u001b[1;33m=\u001b[0m\u001b[0mout\u001b[0m\u001b[1;33m,\u001b[0m \u001b[1;33m**\u001b[0m\u001b[0mpasskwargs\u001b[0m\u001b[1;33m)\u001b[0m\u001b[1;33m\u001b[0m\u001b[1;33m\u001b[0m\u001b[0m\n\u001b[0m\u001b[0;32m     89\u001b[0m \u001b[1;33m\u001b[0m\u001b[0m\n\u001b[0;32m     90\u001b[0m     \u001b[1;32mreturn\u001b[0m \u001b[0mufunc\u001b[0m\u001b[1;33m.\u001b[0m\u001b[0mreduce\u001b[0m\u001b[1;33m(\u001b[0m\u001b[0mobj\u001b[0m\u001b[1;33m,\u001b[0m \u001b[0maxis\u001b[0m\u001b[1;33m,\u001b[0m \u001b[0mdtype\u001b[0m\u001b[1;33m,\u001b[0m \u001b[0mout\u001b[0m\u001b[1;33m,\u001b[0m \u001b[1;33m**\u001b[0m\u001b[0mpasskwargs\u001b[0m\u001b[1;33m)\u001b[0m\u001b[1;33m\u001b[0m\u001b[1;33m\u001b[0m\u001b[0m\n",
      "\u001b[1;31mTypeError\u001b[0m: sum() got an unexpected keyword argument 'axis'"
     ]
    }
   ],
   "source": [
    "# TODO: why tpcref freq value is 64?\n",
    "\n",
    "GoodEvents = np.argwhere(np.sum(selected,axis=1)==4)\n",
    "GoodTracks = np.argwhere(selected[GoodEvents.flatten()]==True).reshape(len(GoodEvents),8)\n",
    "GoodEventsAndTracks = np.append(GoodEvents,GoodTracks[:,1:len(GoodTracks):2], axis=1) # array([[ 389,    2,    3,    5,    7],...])\n",
    "GoodEventsNumber = GoodEventsAndTracks[:,0]\n",
    "GoodTracksNum = GoodEventsAndTracks[:,1:]\n",
    "print(f'Numer of events with 4pr: {len(GoodEventsNumber)}')\n"
   ]
  },
  {
   "cell_type": "markdown",
   "metadata": {},
   "source": [
    "Transversal momentum distribution for ccup9 trigger:"
   ]
  },
  {
   "cell_type": "code",
   "execution_count": 4,
   "metadata": {},
   "outputs": [
    {
     "ename": "SyntaxError",
     "evalue": "unexpected character after line continuation character (<ipython-input-4-3539e78e251d>, line 11)",
     "output_type": "error",
     "traceback": [
      "\u001b[1;36m  File \u001b[1;32m\"<ipython-input-4-3539e78e251d>\"\u001b[1;36m, line \u001b[1;32m11\u001b[0m\n\u001b[1;33m    ax.errorbar(bins[:-1],counts, 10 * counts \\\\ counts,fmt='o', color='black',label=f'Entries {np.sum(counts)}')\u001b[0m\n\u001b[1;37m                                                                                                                 ^\u001b[0m\n\u001b[1;31mSyntaxError\u001b[0m\u001b[1;31m:\u001b[0m unexpected character after line continuation character\n"
     ]
    }
   ],
   "source": [
    "pxg = px[GoodEventsNumber][select[np.sum(select,axis=1)==4,:]].reshape(len(GoodEventsNumber),4)\n",
    "pyg = py[GoodEventsNumber][select[np.sum(select,axis=1)==4,:]].reshape(len(GoodEventsNumber),4)\n",
    "goodCharges = q[GoodEventsNumber][select[np.sum(select,axis=1)==4,:]].reshape(len(GoodEventsNumber),4)\n",
    "goodChargesEventNumbers = np.argwhere(np.sum(goodCharges,axis=1)==0)\n",
    "ptMy = np.sqrt(np.sum(np.add(np.sum(pxg[goodChargesEventNumbers], axis=2)**2, np.sum(pyg[goodChargesEventNumbers], axis=2)**2),axis=1))\n",
    "counts, bins = np.histogram(ptMy,bins=100, range=(0,2))\n",
    "fig = plt.figure(figsize=(20, 10))\n",
    "ax = fig.add_axes([0,0,1,1])\n",
    "fig.suptitle('4pr Pt q = 0', fontsize=16)\n",
    "plt.style.use(hep.style.ROOT)\n",
    "ax.errorbar(bins[:-1],counts, 10 * counts \\\\ counts,fmt='o', color='black',label=f'Entries {np.sum(counts)}')\n",
    "ax.legend()"
   ]
  },
  {
   "cell_type": "markdown",
   "metadata": {},
   "source": [
    "## DRAFTS"
   ]
  },
  {
   "cell_type": "code",
   "execution_count": 8,
   "metadata": {},
   "outputs": [],
   "source": [
    "nTrack = 7\n",
    "allData = np.concatenate(\n",
    "    (\n",
    "        px[:,nTrack].reshape(entries,1),\n",
    "        py[:,nTrack].reshape(entries,1),\n",
    "        pz[:,nTrack].reshape(entries,1), \n",
    "        itsl0[:,nTrack].reshape(entries,1),\n",
    "        itsl1[:,nTrack].reshape(entries,1),\n",
    "        tpcref[:,nTrack].reshape(entries,1),\n",
    "        itcref[:,nTrack].reshape(entries,1),\n",
    "        dca0[:,nTrack].reshape(entries,1),\n",
    "        dca1[:,nTrack].reshape(entries,1),\n",
    "        tpcncls[:,nTrack].reshape(entries,1),\n",
    "        sigmtpcpion[:,nTrack].reshape(entries,1)\n",
    "   ),\n",
    "    axis=1)\n",
    "#df = ps.DataFrame(allData, columns=['px', 'py', 'pz', 'itsl0', 'itsl1', 'tpcref', 'itcref', 'dca0', 'dca1', 'tpcncls', 'sigmtpcpion' ])\n",
    "\n",
    "#df[(df.itsl1 == 1) * (df.itsl0 == 1) * (df.tpcref > 0) * (df.itcref > 0) * ((np.abs(df.dca0) < 3) + (np.abs(df.dca1) < 3)) * (df.tpcncls > 50) * (np.abs(df.sigmtpcpion) < 3)]\n",
    "\n"
   ]
  },
  {
   "cell_type": "code",
   "execution_count": 1,
   "metadata": {},
   "outputs": [
    {
     "ename": "UnboundLocalError",
     "evalue": "local variable 'path' referenced before assignment",
     "output_type": "error",
     "traceback": [
      "\u001b[1;31m---------------------------------------------------------------------------\u001b[0m",
      "\u001b[1;31mUnboundLocalError\u001b[0m                         Traceback (most recent call last)",
      "\u001b[1;32m<ipython-input-1-695cd2f9e84c>\u001b[0m in \u001b[0;36m<module>\u001b[1;34m\u001b[0m\n\u001b[0;32m      5\u001b[0m \u001b[0mccup8_2015\u001b[0m \u001b[1;33m=\u001b[0m  \u001b[1;34mr\"D:\\GoogleDrive\\Job\\cern\\Alice\\analysis\\data\\RhoPrime\\2015\\pvn\\ccup8.sel.new.root\"\u001b[0m\u001b[1;33m\u001b[0m\u001b[1;33m\u001b[0m\u001b[0m\n\u001b[0;32m      6\u001b[0m \u001b[1;33m\u001b[0m\u001b[0m\n\u001b[1;32m----> 7\u001b[1;33m \u001b[0mdf\u001b[0m \u001b[1;33m=\u001b[0m \u001b[0muproot\u001b[0m\u001b[1;33m.\u001b[0m\u001b[0mdaskframe\u001b[0m\u001b[1;33m(\u001b[0m\u001b[0mccup9_2015\u001b[0m\u001b[1;33m,\u001b[0m \u001b[1;34m'events'\u001b[0m\u001b[1;33m)\u001b[0m\u001b[1;33m\u001b[0m\u001b[1;33m\u001b[0m\u001b[0m\n\u001b[0m",
      "\u001b[1;32mC:\\Python38\\lib\\site-packages\\uproot\\tree.py\u001b[0m in \u001b[0;36mdaskframe\u001b[1;34m(path, treepath, branches, namedecode, entrysteps, flatten, awkwardlib, cache, basketcache, keycache, executor, localsource, xrootdsource, httpsource, **options)\u001b[0m\n\u001b[0;32m   2033\u001b[0m     \u001b[1;32mimport\u001b[0m \u001b[0mdask\u001b[0m\u001b[1;33m.\u001b[0m\u001b[0marray\u001b[0m\u001b[1;33m\u001b[0m\u001b[1;33m\u001b[0m\u001b[0m\n\u001b[0;32m   2034\u001b[0m     \u001b[1;32mimport\u001b[0m \u001b[0mdask\u001b[0m\u001b[1;33m.\u001b[0m\u001b[0mdataframe\u001b[0m\u001b[1;33m\u001b[0m\u001b[1;33m\u001b[0m\u001b[0m\n\u001b[1;32m-> 2035\u001b[1;33m     \u001b[0mout\u001b[0m \u001b[1;33m=\u001b[0m \u001b[0mlazyarrays\u001b[0m\u001b[1;33m(\u001b[0m\u001b[0mpath\u001b[0m\u001b[1;33m,\u001b[0m \u001b[0mtreepath\u001b[0m\u001b[1;33m,\u001b[0m \u001b[0mbranches\u001b[0m\u001b[1;33m=\u001b[0m\u001b[0mbranches\u001b[0m\u001b[1;33m,\u001b[0m \u001b[0mnamedecode\u001b[0m\u001b[1;33m=\u001b[0m\u001b[0mnamedecode\u001b[0m\u001b[1;33m,\u001b[0m \u001b[0mentrysteps\u001b[0m\u001b[1;33m=\u001b[0m\u001b[0mentrysteps\u001b[0m\u001b[1;33m,\u001b[0m \u001b[0mflatten\u001b[0m\u001b[1;33m=\u001b[0m\u001b[0mflatten\u001b[0m\u001b[1;33m,\u001b[0m \u001b[0mprofile\u001b[0m\u001b[1;33m=\u001b[0m\u001b[1;32mNone\u001b[0m\u001b[1;33m,\u001b[0m \u001b[0mawkwardlib\u001b[0m\u001b[1;33m=\u001b[0m\u001b[0mawkwardlib\u001b[0m\u001b[1;33m,\u001b[0m \u001b[0mcache\u001b[0m\u001b[1;33m=\u001b[0m\u001b[0mcache\u001b[0m\u001b[1;33m,\u001b[0m \u001b[0mbasketcache\u001b[0m\u001b[1;33m=\u001b[0m\u001b[0mbasketcache\u001b[0m\u001b[1;33m,\u001b[0m \u001b[0mkeycache\u001b[0m\u001b[1;33m=\u001b[0m\u001b[0mkeycache\u001b[0m\u001b[1;33m,\u001b[0m \u001b[0mexecutor\u001b[0m\u001b[1;33m=\u001b[0m\u001b[0mexecutor\u001b[0m\u001b[1;33m,\u001b[0m \u001b[0mpersistvirtual\u001b[0m\u001b[1;33m=\u001b[0m\u001b[1;32mFalse\u001b[0m\u001b[1;33m,\u001b[0m \u001b[0mlocalsource\u001b[0m\u001b[1;33m=\u001b[0m\u001b[0mlocalsource\u001b[0m\u001b[1;33m,\u001b[0m \u001b[0mxrootdsource\u001b[0m\u001b[1;33m=\u001b[0m\u001b[0mxrootdsource\u001b[0m\u001b[1;33m,\u001b[0m \u001b[0mhttpsource\u001b[0m\u001b[1;33m=\u001b[0m\u001b[0mhttpsource\u001b[0m\u001b[1;33m,\u001b[0m \u001b[1;33m**\u001b[0m\u001b[0moptions\u001b[0m\u001b[1;33m)\u001b[0m\u001b[1;33m\u001b[0m\u001b[1;33m\u001b[0m\u001b[0m\n\u001b[0m\u001b[0;32m   2036\u001b[0m     \u001b[0mseries\u001b[0m \u001b[1;33m=\u001b[0m \u001b[1;33m[\u001b[0m\u001b[1;33m]\u001b[0m\u001b[1;33m\u001b[0m\u001b[1;33m\u001b[0m\u001b[0m\n\u001b[0;32m   2037\u001b[0m     \u001b[1;32mfor\u001b[0m \u001b[0mn\u001b[0m \u001b[1;32min\u001b[0m \u001b[0mout\u001b[0m\u001b[1;33m.\u001b[0m\u001b[0mcolumns\u001b[0m\u001b[1;33m:\u001b[0m\u001b[1;33m\u001b[0m\u001b[1;33m\u001b[0m\u001b[0m\n",
      "\u001b[1;32mC:\\Python38\\lib\\site-packages\\uproot\\tree.py\u001b[0m in \u001b[0;36mlazyarrays\u001b[1;34m(path, treepath, branches, namedecode, entrysteps, flatten, profile, awkwardlib, cache, basketcache, keycache, executor, persistvirtual, localsource, xrootdsource, httpsource, **options)\u001b[0m\n\u001b[0;32m   1977\u001b[0m     \u001b[0mawkward\u001b[0m \u001b[1;33m=\u001b[0m \u001b[0m_normalize_awkwardlib\u001b[0m\u001b[1;33m(\u001b[0m\u001b[0mawkwardlib\u001b[0m\u001b[1;33m)\u001b[0m\u001b[1;33m\u001b[0m\u001b[1;33m\u001b[0m\u001b[0m\n\u001b[0;32m   1978\u001b[0m     \u001b[1;32mif\u001b[0m \u001b[0misinstance\u001b[0m\u001b[1;33m(\u001b[0m\u001b[0mpath\u001b[0m\u001b[1;33m,\u001b[0m \u001b[0mstring_types\u001b[0m\u001b[1;33m)\u001b[0m\u001b[1;33m:\u001b[0m\u001b[1;33m\u001b[0m\u001b[1;33m\u001b[0m\u001b[0m\n\u001b[1;32m-> 1979\u001b[1;33m         \u001b[0mpaths\u001b[0m \u001b[1;33m=\u001b[0m \u001b[0m_filename_explode\u001b[0m\u001b[1;33m(\u001b[0m\u001b[0mpath\u001b[0m\u001b[1;33m)\u001b[0m\u001b[1;33m\u001b[0m\u001b[1;33m\u001b[0m\u001b[0m\n\u001b[0m\u001b[0;32m   1980\u001b[0m     \u001b[1;32melse\u001b[0m\u001b[1;33m:\u001b[0m\u001b[1;33m\u001b[0m\u001b[1;33m\u001b[0m\u001b[0m\n\u001b[0;32m   1981\u001b[0m         \u001b[0mpaths\u001b[0m \u001b[1;33m=\u001b[0m \u001b[1;33m[\u001b[0m\u001b[0my\u001b[0m \u001b[1;32mfor\u001b[0m \u001b[0mx\u001b[0m \u001b[1;32min\u001b[0m \u001b[0mpath\u001b[0m \u001b[1;32mfor\u001b[0m \u001b[0my\u001b[0m \u001b[1;32min\u001b[0m \u001b[0m_filename_explode\u001b[0m\u001b[1;33m(\u001b[0m\u001b[0mx\u001b[0m\u001b[1;33m)\u001b[0m\u001b[1;33m]\u001b[0m\u001b[1;33m\u001b[0m\u001b[1;33m\u001b[0m\u001b[0m\n",
      "\u001b[1;32mC:\\Python38\\lib\\site-packages\\uproot\\tree.py\u001b[0m in \u001b[0;36m_filename_explode\u001b[1;34m(x)\u001b[0m\n\u001b[0;32m     72\u001b[0m         \u001b[1;32mif\u001b[0m \u001b[1;32mnot\u001b[0m \u001b[1;33m(\u001b[0m\u001b[0mos\u001b[0m\u001b[1;33m.\u001b[0m\u001b[0mname\u001b[0m \u001b[1;33m==\u001b[0m \u001b[1;34m\"nt\"\u001b[0m \u001b[1;32mand\u001b[0m \u001b[0m_filename_explode\u001b[0m\u001b[1;33m.\u001b[0m\u001b[0m_windows_absolute\u001b[0m\u001b[1;33m.\u001b[0m\u001b[0mmatch\u001b[0m\u001b[1;33m(\u001b[0m\u001b[0mx\u001b[0m\u001b[1;33m)\u001b[0m \u001b[1;32mis\u001b[0m \u001b[1;32mnot\u001b[0m \u001b[1;32mNone\u001b[0m\u001b[1;33m)\u001b[0m\u001b[1;33m:\u001b[0m\u001b[1;33m\u001b[0m\u001b[1;33m\u001b[0m\u001b[0m\n\u001b[0;32m     73\u001b[0m             \u001b[0mpath\u001b[0m \u001b[1;33m=\u001b[0m \u001b[0mparsed\u001b[0m\u001b[1;33m.\u001b[0m\u001b[0mnetloc\u001b[0m \u001b[1;33m+\u001b[0m \u001b[0mparsed\u001b[0m\u001b[1;33m.\u001b[0m\u001b[0mpath\u001b[0m\u001b[1;33m\u001b[0m\u001b[1;33m\u001b[0m\u001b[0m\n\u001b[1;32m---> 74\u001b[1;33m         \u001b[0mpattern\u001b[0m \u001b[1;33m=\u001b[0m \u001b[0mos\u001b[0m\u001b[1;33m.\u001b[0m\u001b[0mpath\u001b[0m\u001b[1;33m.\u001b[0m\u001b[0mexpanduser\u001b[0m\u001b[1;33m(\u001b[0m\u001b[0mpath\u001b[0m\u001b[1;33m)\u001b[0m\u001b[1;33m\u001b[0m\u001b[1;33m\u001b[0m\u001b[0m\n\u001b[0m\u001b[0;32m     75\u001b[0m         \u001b[1;32mif\u001b[0m \u001b[1;34m\"*\"\u001b[0m \u001b[1;32min\u001b[0m \u001b[0mpattern\u001b[0m \u001b[1;32mor\u001b[0m \u001b[1;34m\"?\"\u001b[0m \u001b[1;32min\u001b[0m \u001b[0mpattern\u001b[0m \u001b[1;32mor\u001b[0m \u001b[1;34m\"[\"\u001b[0m \u001b[1;32min\u001b[0m \u001b[0mpattern\u001b[0m\u001b[1;33m:\u001b[0m\u001b[1;33m\u001b[0m\u001b[1;33m\u001b[0m\u001b[0m\n\u001b[0;32m     76\u001b[0m             \u001b[0mout\u001b[0m \u001b[1;33m=\u001b[0m \u001b[0msorted\u001b[0m\u001b[1;33m(\u001b[0m\u001b[0mglob\u001b[0m\u001b[1;33m.\u001b[0m\u001b[0mglob\u001b[0m\u001b[1;33m(\u001b[0m\u001b[0mpattern\u001b[0m\u001b[1;33m)\u001b[0m\u001b[1;33m)\u001b[0m\u001b[1;33m\u001b[0m\u001b[1;33m\u001b[0m\u001b[0m\n",
      "\u001b[1;31mUnboundLocalError\u001b[0m: local variable 'path' referenced before assignment"
     ]
    }
   ],
   "source": [
    "import dask as ds\n",
    "import uproot\n",
    "# df = ds.dataframe(allData, columns=['px', 'py', 'pz', 'itsl0', 'itsl1', 'tpcref', 'itcref', 'dca0', 'dca1', 'tpcncls', 'sigmtpcpion' ])\n",
    "ccup9_2015 =  r\"D:\\GoogleDrive\\Job\\cern\\Alice\\analysis\\data\\RhoPrime\\2015\\pvn\\ccup9.sel.new.root\"\n",
    "ccup8_2015 =  r\"D:\\GoogleDrive\\Job\\cern\\Alice\\analysis\\data\\RhoPrime\\2015\\pvn\\ccup8.sel.new.root\"\n",
    "\n",
    "df = uproot.daskframe(ccup9_2015, 'events')\n"
   ]
  },
  {
   "cell_type": "code",
   "execution_count": 16,
   "metadata": {},
   "outputs": [
    {
     "ename": "TypeError",
     "evalue": "'TTree' object is not iterable",
     "output_type": "error",
     "traceback": [
      "\u001b[1;31m---------------------------------------------------------------------------\u001b[0m",
      "\u001b[1;31mTypeError\u001b[0m                                 Traceback (most recent call last)",
      "\u001b[1;32m<ipython-input-16-0d360e8ca243>\u001b[0m in \u001b[0;36m<module>\u001b[1;34m\u001b[0m\n\u001b[0;32m      3\u001b[0m \u001b[1;33m\u001b[0m\u001b[0m\n\u001b[0;32m      4\u001b[0m \u001b[0mdata\u001b[0m \u001b[1;33m=\u001b[0m \u001b[0muproot\u001b[0m\u001b[1;33m.\u001b[0m\u001b[0mopen\u001b[0m\u001b[1;33m(\u001b[0m\u001b[0mccup9_2015\u001b[0m\u001b[1;33m)\u001b[0m\u001b[1;33m[\u001b[0m\u001b[1;34m'events'\u001b[0m\u001b[1;33m]\u001b[0m\u001b[1;33m\u001b[0m\u001b[1;33m\u001b[0m\u001b[0m\n\u001b[1;32m----> 5\u001b[1;33m \u001b[0mevents\u001b[0m \u001b[1;33m=\u001b[0m \u001b[0mak\u001b[0m\u001b[1;33m.\u001b[0m\u001b[0mArray\u001b[0m\u001b[1;33m(\u001b[0m\u001b[1;33m[\u001b[0m\u001b[1;33m{\u001b[0m\u001b[0mname\u001b[0m\u001b[1;33m:\u001b[0m \u001b[0mgetattr\u001b[0m\u001b[1;33m(\u001b[0m\u001b[0mobj\u001b[0m\u001b[1;33m,\u001b[0m \u001b[1;34m\"_\"\u001b[0m \u001b[1;33m+\u001b[0m \u001b[0mname\u001b[0m\u001b[1;33m)\u001b[0m \u001b[1;32mfor\u001b[0m \u001b[0mname\u001b[0m \u001b[1;32min\u001b[0m \u001b[0mobj\u001b[0m\u001b[1;33m.\u001b[0m\u001b[0m_fields\u001b[0m\u001b[1;33m}\u001b[0m \u001b[1;32mfor\u001b[0m \u001b[0mobj\u001b[0m \u001b[1;32min\u001b[0m \u001b[0mdata\u001b[0m\u001b[1;33m]\u001b[0m\u001b[1;33m)\u001b[0m\u001b[1;33m\u001b[0m\u001b[1;33m\u001b[0m\u001b[0m\n\u001b[0m",
      "\u001b[1;32mC:\\Python38\\lib\\site-packages\\uproot\\tree.py\u001b[0m in \u001b[0;36m__iter__\u001b[1;34m(self)\u001b[0m\n\u001b[0;32m    871\u001b[0m     \u001b[1;32mdef\u001b[0m \u001b[0m__iter__\u001b[0m\u001b[1;33m(\u001b[0m\u001b[0mself\u001b[0m\u001b[1;33m)\u001b[0m\u001b[1;33m:\u001b[0m\u001b[1;33m\u001b[0m\u001b[1;33m\u001b[0m\u001b[0m\n\u001b[0;32m    872\u001b[0m         \u001b[1;31m# prevent Python's attempt to interpret __len__ and __getitem__ as iteration\u001b[0m\u001b[1;33m\u001b[0m\u001b[1;33m\u001b[0m\u001b[1;33m\u001b[0m\u001b[0m\n\u001b[1;32m--> 873\u001b[1;33m         \u001b[1;32mraise\u001b[0m \u001b[0mTypeError\u001b[0m\u001b[1;33m(\u001b[0m\u001b[1;34m\"'TTree' object is not iterable\"\u001b[0m\u001b[1;33m)\u001b[0m\u001b[1;33m\u001b[0m\u001b[1;33m\u001b[0m\u001b[0m\n\u001b[0m\u001b[0;32m    874\u001b[0m \u001b[1;33m\u001b[0m\u001b[0m\n\u001b[0;32m    875\u001b[0m     \u001b[1;33m@\u001b[0m\u001b[0mproperty\u001b[0m\u001b[1;33m\u001b[0m\u001b[1;33m\u001b[0m\u001b[0m\n",
      "\u001b[1;31mTypeError\u001b[0m: 'TTree' object is not iterable"
     ]
    }
   ],
   "source": [
    "import uproot\n",
    "import awkward1 as ak\n",
    "\n",
    "data = uproot.open(ccup9_2015)['events']\n",
    "events = ak.Array([{name: getattr(obj, \"_\" + name) for name in obj._fields} for obj in data])"
   ]
  },
  {
   "cell_type": "code",
   "execution_count": 15,
   "metadata": {},
   "outputs": [
    {
     "ename": "AttributeError",
     "evalue": "'numpy.ndarray' object has no attribute 'show'",
     "output_type": "error",
     "traceback": [
      "\u001b[1;31m---------------------------------------------------------------------------\u001b[0m",
      "\u001b[1;31mAttributeError\u001b[0m                            Traceback (most recent call last)",
      "\u001b[1;32m<ipython-input-15-33c11163791a>\u001b[0m in \u001b[0;36m<module>\u001b[1;34m\u001b[0m\n\u001b[1;32m----> 1\u001b[1;33m \u001b[0mdata\u001b[0m\u001b[1;33m[\u001b[0m\u001b[1;34m\"Px\"\u001b[0m\u001b[1;33m]\u001b[0m\u001b[1;33m.\u001b[0m\u001b[0marray\u001b[0m\u001b[1;33m(\u001b[0m\u001b[1;33m)\u001b[0m\u001b[1;33m.\u001b[0m\u001b[0mshow\u001b[0m\u001b[1;33m(\u001b[0m\u001b[1;33m)\u001b[0m\u001b[1;33m\u001b[0m\u001b[1;33m\u001b[0m\u001b[0m\n\u001b[0m",
      "\u001b[1;31mAttributeError\u001b[0m: 'numpy.ndarray' object has no attribute 'show'"
     ]
    }
   ],
   "source": [
    "data[\"Px\"].array()"
   ]
  }
 ],
 "metadata": {
  "kernelspec": {
   "display_name": "Python 3.8.2 64-bit",
   "language": "python",
   "name": "python38264bit3afbaa1fad294b6594b92b10bbcb573b"
  },
  "language_info": {
   "codemirror_mode": {
    "name": "ipython",
    "version": 3
   },
   "file_extension": ".py",
   "mimetype": "text/x-python",
   "name": "python",
   "nbconvert_exporter": "python",
   "pygments_lexer": "ipython3",
   "version": "3.8.3"
  },
  "toc": {
   "base_numbering": 1,
   "nav_menu": {},
   "number_sections": true,
   "sideBar": true,
   "skip_h1_title": false,
   "title_cell": "Table of Contents",
   "title_sidebar": "Contents",
   "toc_cell": false,
   "toc_position": {},
   "toc_section_display": true,
   "toc_window_display": false
  }
 },
 "nbformat": 4,
 "nbformat_minor": 4
}
