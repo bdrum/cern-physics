{
 "cells": [
  {
   "cell_type": "markdown",
   "metadata": {},
   "source": [
    "# $\\rho'$ analysis notes\n",
    "\n",
    "## Data Acqusition\n",
    "\n",
    "### Run numbers\n",
    "\n",
    "### Lego Train\n",
    "\n",
    "### Data scheme"
   ]
  },
  {
   "cell_type": "code",
   "execution_count": 2,
   "metadata": {},
   "outputs": [
    {
     "name": "stdout",
     "output_type": "stream",
     "text": [
      "dV0                        (no streamer)              asdtype(\"('>f4', (6,))\")\n",
      "EnZDC                      (no streamer)              asdtype(\"('>f4', (6,))\")\n",
      "dAD                        (no streamer)              asdtype(\"('>f4', (6,))\")\n",
      "vertex                     (no streamer)              asdtype(\"('>f4', (3,))\")\n",
      "nTracks                    (no streamer)              asdtype('>i4')\n",
      "nTracklets                 (no streamer)              asdtype('>i4')\n",
      "eventinfo                  (no streamer)              asdtype(\"('>i4', (4,))\")\n",
      "TDCa                       (no streamer)              asdtype(\"('>f4', (4,))\")\n",
      "TDCc                       (no streamer)              asdtype(\"('>f4', (4,))\")\n",
      "TriggerType                (no streamer)              asdtype(\"('>i4', (2,))\")\n",
      "dca0                       (no streamer)              asdtype(\"('>f4', (177,))\")\n",
      "dca1                       (no streamer)              asdtype(\"('>f4', (177,))\")\n",
      "ITSNcls                    (no streamer)              asdtype(\"('>i4', (177,))\")\n",
      "TPCNcls                    (no streamer)              asdtype(\"('>i4', (177,))\")\n",
      "HasPointOnITSLayer0        (no streamer)              asdtype(\"('>i4', (177,))\")\n",
      "HasPointOnITSLayer1        (no streamer)              asdtype(\"('>i4', (177,))\")\n",
      "charge                     (no streamer)              asdtype(\"('>i4', (177,))\")\n",
      "NumberOfSigmasTPCPion      (no streamer)              asdtype(\"('>f4', (177,))\")\n",
      "NumberOfSigmasTPCElectron  (no streamer)              asdtype(\"('>f4', (177,))\")\n",
      "NumberOfSigmasITSPion      (no streamer)              asdtype(\"('>f4', (177,))\")\n",
      "NumberOfSigmasITSElectron  (no streamer)              asdtype(\"('>f4', (177,))\")\n",
      "NumberOfSigmasITSKaon      (no streamer)              asdtype(\"('>f4', (177,))\")\n",
      "StatusAndTPCRefit          (no streamer)              asdtype(\"('>i4', (177,))\")\n",
      "StatusAndITSRefit          (no streamer)              asdtype(\"('>i4', (177,))\")\n",
      "Px                         (no streamer)              asdtype(\"('>f4', (177,))\")\n",
      "Py                         (no streamer)              asdtype(\"('>f4', (177,))\")\n",
      "Pz                         (no streamer)              asdtype(\"('>f4', (177,))\")\n",
      "Pt                         (no streamer)              asdtype('>f4')\n"
     ]
    },
    {
     "data": {
      "text/plain": [
       "(b'events', b'events', 1135259)"
      ]
     },
     "execution_count": 2,
     "metadata": {},
     "output_type": "execute_result"
    }
   ],
   "source": [
    "import uproot\n",
    "import numpy as np\n",
    "import matplotlib.pyplot as plt\n",
    "import mplhep as hep\n",
    "import pandas as ps\n",
    "import awkward\n",
    "\n",
    "class UPCFiles:\n",
    "    ccup8_2015 =  r\"/mnt/d/GoogleDrive/Job/cern/Alice/analysis/data/RhoPrime/2015/pvn/ccup8.sel.new.root\"\n",
    "    ccup9_2015 =  r\"/mnt/d/GoogleDrive/Job/cern/Alice/analysis/data/RhoPrime/2015/pvn/ccup9.sel.new.root\"\n",
    "    ccup29_2018 = r\"/mnt/d/GoogleDrive/Job/cern/Alice/analysis/data/RhoPrime/2018/pvn/ccup29.sel.new.root\"\n",
    "    ccup30_2018 = r\"/mnt/d/GoogleDrive/Job/cern/Alice/analysis/data/RhoPrime/2018/pvn/ccup30.sel.new.root\"\n",
    "    ccup31_2018 = r\"/mnt/d/GoogleDrive/Job/cern/Alice/analysis/data/RhoPrime/2018/pvn/ccup31.sel.new.root\"\n",
    "    \n",
    "    ccup8_2015_win  =  r\"D:\\GoogleDrive\\Job\\cern\\Alice\\analysis\\data\\RhoPrime\\2015\\pvn\\ccup8.sel.new.root\"\n",
    "    ccup9_2015_win  =  r\"D:\\GoogleDrive\\Job\\cern\\Alice\\analysis\\data\\RhoPrime\\2015\\pvn\\ccup9.sel.new.root\"\n",
    "    ccup29_2018_win =  r\"D:\\GoogleDrive\\Job\\cern\\Alice\\analysis\\data\\RhoPrime\\2018\\pvn\\ccup29.sel.new.root\"\n",
    "    ccup30_2018_win =  r\"D:\\GoogleDrive\\Job\\cern\\Alice\\analysis\\data\\RhoPrime\\2018\\pvn\\ccup30.sel.new.root\"\n",
    "    ccup31_2018_win =  r\"D:\\GoogleDrive\\Job\\cern\\Alice\\analysis\\data\\RhoPrime\\2018\\pvn\\ccup31.sel.new.root\"\n",
    "    \n",
    "    ccup9_2015_my = r\"D:\\GoogleDrive\\Job\\cern\\Alice\\analysis\\dev\\grid\\selection\\RhoPrime\\macro\\AnalysisResults.root\"\n",
    "\n",
    "events = uproot.open(UPCFiles.ccup9_2015_win)['events']\n",
    "entries = events.numentries\n",
    "events.show()\n",
    "events.name, events.title, events.numentries"
   ]
  },
  {
   "cell_type": "markdown",
   "metadata": {},
   "source": [
    "## Four prongs selection\n"
   ]
  },
  {
   "cell_type": "code",
   "execution_count": 114,
   "metadata": {},
   "outputs": [
    {
     "name": "stdout",
     "output_type": "stream",
     "text": [
      "Numer of events with 4pr: 4220\n"
     ]
    }
   ],
   "source": [
    "start = 0\n",
    "stop  = 300000\n",
    "itsl0 = events.array(\"HasPointOnITSLayer0\", entrystart=start, entrystop=stop)\n",
    "itsl1 = events.array(\"HasPointOnITSLayer1\", entrystart=start, entrystop=stop)\n",
    "tpcref = events.array(\"StatusAndTPCRefit\", entrystart=start, entrystop=stop)\n",
    "itcref = events.array(\"StatusAndITSRefit\", entrystart=start, entrystop=stop)\n",
    "dca0 = events.array(\"dca0\", entrystart=start, entrystop=stop)\n",
    "dca1 = events.array(\"dca1\", entrystart=start, entrystop=stop)\n",
    "tpcncls = events.array(\"TPCNcls\", entrystart=start, entrystop=stop)\n",
    "sigmtpcpion = events.array(\"NumberOfSigmasTPCPion\", entrystart=start, entrystop=stop)\n",
    "pt = events.array(\"Pt\", entrystart=start, entrystop=stop)\n",
    "px = events.array(\"Px\", entrystart=start, entrystop=stop)\n",
    "py = events.array(\"Py\", entrystart=start, entrystop=stop)\n",
    "pz = events.array(\"Pz\", entrystart=start, entrystop=stop)\n",
    "q = events.array(\"charge\", entrystart=start, entrystop=stop)\n",
    "entries = len(q)\n",
    "# TODO: why tpcref freq value is 64?\n",
    "select = ((itsl0 == 1) + (itsl1 == 1)) * (tpcref > 0) * (itcref > 0) * ((np.abs(dca0) < 3) + (np.abs(dca1) < 3)) * (tpcncls > 50) * (np.abs(sigmtpcpion) < 3)\n",
    "\n",
    "GoodEvents = np.argwhere(np.sum(select,axis=1)==4)\n",
    "GoodTracks = np.argwhere(select[GoodEvents.flatten()]==True).reshape(len(GoodEvents),8)\n",
    "GoodEventsAndTracks = np.append(GoodEvents,GoodTracks[:,1:len(GoodTracks):2], axis=1) # array([[ 389,    2,    3,    5,    7],...])\n",
    "GoodEventsNumber = GoodEventsAndTracks[:,0]\n",
    "GoodTracksNum = GoodEventsAndTracks[:,1:]\n",
    "print(f'Numer of events with 4pr: {len(GoodEventsNumber)}')"
   ]
  },
  {
   "cell_type": "markdown",
   "metadata": {},
   "source": [
    "Transversal momentum distribution for ccup9 trigger:"
   ]
  },
  {
   "cell_type": "code",
   "execution_count": 115,
   "metadata": {},
   "outputs": [
    {
     "name": "stderr",
     "output_type": "stream",
     "text": [
      "<ipython-input-115-d64eafff2e64>:13: RuntimeWarning: divide by zero encountered in floor_divide\n",
      "  ax.errorbar(bins[:-1],counts, 10 * counts // counts,fmt='o', color='black',label=f'Entries {np.sum(counts)}')\n"
     ]
    },
    {
     "data": {
      "text/plain": [
       "<matplotlib.legend.Legend at 0x21076d983d0>"
      ]
     },
     "execution_count": 115,
     "metadata": {},
     "output_type": "execute_result"
    },
    {
     "data": {
      "image/png": "[encoded data removed]",
      "text/plain": [
       "<Figure size 1080x504 with 1 Axes>"
      ]
     },
     "metadata": {
      "needs_background": "light"
     },
     "output_type": "display_data"
    }
   ],
   "source": [
    "pxg = px[GoodEventsNumber][select[np.sum(select,axis=1)==4,:]].reshape(len(GoodEventsNumber),4)\n",
    "pyg = py[GoodEventsNumber][select[np.sum(select,axis=1)==4,:]].reshape(len(GoodEventsNumber),4)\n",
    "pzg = pz[GoodEventsNumber][select[np.sum(select,axis=1)==4,:]].reshape(len(GoodEventsNumber),4)\n",
    "\n",
    "goodCharges = q[GoodEventsNumber][select[np.sum(select,axis=1)==4,:]].reshape(len(GoodEventsNumber),4)\n",
    "goodChargesEventNumbers = np.argwhere(np.sum(goodCharges,axis=1)==0)\n",
    "ptMy = np.sqrt(np.sum(np.add(np.sum(pxg[goodChargesEventNumbers], axis=2)**2, np.sum(pyg[goodChargesEventNumbers], axis=2)**2),axis=1))\n",
    "counts, bins = np.histogram(ptMy,bins=100, range=(0,2))\n",
    "fig = plt.figure(figsize=(15, 7))\n",
    "ax = fig.add_axes([0,0,1,1])\n",
    "fig.suptitle('4pr Pt q = 0', fontsize=16)\n",
    "plt.style.use(hep.style.ROOT)\n",
    "ax.errorbar(bins[:-1],counts, 10 * counts // counts,fmt='o', color='black',label=f'Entries {np.sum(counts)}')\n",
    "\n",
    "ax.legend()\n"
   ]
  },
  {
   "cell_type": "markdown",
   "metadata": {},
   "source": [
    "## Mass"
   ]
  },
  {
   "cell_type": "code",
   "execution_count": 116,
   "metadata": {},
   "outputs": [
    {
     "name": "stderr",
     "output_type": "stream",
     "text": [
      "<ipython-input-116-40b2d914db2e>:24: RuntimeWarning: divide by zero encountered in floor_divide\n",
      "  ax.errorbar(bins[:-1],counts, 30 * counts // counts,fmt='o', color='black',label=f'Entries {np.sum(counts)}')\n"
     ]
    },
    {
     "data": {
      "text/plain": [
       "<matplotlib.legend.Legend at 0x2107738b970>"
      ]
     },
     "execution_count": 116,
     "metadata": {},
     "output_type": "execute_result"
    },
    {
     "data": {
      "image/png": "[encoded data removed]",
      "text/plain": [
       "<Figure size 1080x504 with 1 Axes>"
      ]
     },
     "metadata": {
      "needs_background": "light"
     },
     "output_type": "display_data"
    }
   ],
   "source": [
    "massPion = np.full(pxg.shape[0], 0.140)\n",
    "\n",
    "# float esum = sqrt( (trk[0]->Px())*trk[0]->Px() + (trk[0]->Py())*trk[0]->Py() +(trk[0]->Pz())*trk[0]->Pz() + partmass*partmass);\n",
    "# esum = esum + sqrt( (trk[1]->Px())*trk[1]->Px() + (trk[1]->Py())*trk[1]->Py() +(trk[1]->Pz())*trk[1]->Pz() + partmass*partmass);\n",
    "# float amass = sqrt( esum*esum - pxsum*pxsum - pysum*pysum - pzsum*pzsum );\n",
    "\n",
    "\n",
    "Energy0 = np.sqrt(massPion**2 + pxg[:,0]**2 + pyg[:,0]**2 + pzg[:,0]**2)\n",
    "Energy1 = np.sqrt(massPion**2 + pxg[:,1]**2 + pyg[:,1]**2 + pzg[:,1]**2)\n",
    "Energy2 = np.sqrt(massPion**2 + pxg[:,2]**2 + pyg[:,2]**2 + pzg[:,2]**2)\n",
    "Energy3 = np.sqrt(massPion**2 + pxg[:,3]**2 + pyg[:,3]**2 + pzg[:,3]**2)\n",
    "\n",
    "Energy = Energy0 + Energy1 + Energy2 + Energy3\n",
    "\n",
    "Mass = np.sqrt(Energy**2 - np.sum(pxg,axis=1)**2 - np.sum(pyg,axis=1)**2 - np.sum(pzg,axis=1)**2)\n",
    "\n",
    "\n",
    "\n",
    "counts, bins = np.histogram(Mass,bins=100, range=(0,4))\n",
    "fig = plt.figure(figsize=(15, 7))\n",
    "ax = fig.add_axes([0,0,1,1])\n",
    "fig.suptitle('4pr Mass q = 0', fontsize=32)\n",
    "plt.style.use(hep.style.ROOT)\n",
    "ax.errorbar(bins[:-1],counts, 30 * counts // counts,fmt='o', color='black',label=f'Entries {np.sum(counts)}')\n",
    "\n",
    "ax.legend()\n"
   ]
  },
  {
   "cell_type": "markdown",
   "metadata": {},
   "source": [
    "## DRAFTS"
   ]
  },
  {
   "cell_type": "code",
   "execution_count": 155,
   "metadata": {},
   "outputs": [
    {
     "name": "stdout",
     "output_type": "stream",
     "text": [
      "float32\n",
      "(1135258, 6)\n"
     ]
    },
    {
     "data": {
      "text/plain": [
       "(array([2.18910e+05, 2.94824e+05, 2.48520e+05, 1.65558e+05, 9.72170e+04,\n",
       "        5.20170e+04, 2.60990e+04, 1.25340e+04, 6.23400e+03, 3.04300e+03,\n",
       "        1.69100e+03, 9.84000e+02, 6.94000e+02, 4.28000e+02, 3.49000e+02,\n",
       "        3.50000e+02, 2.49000e+02, 2.14000e+02, 2.44000e+02, 2.31000e+02,\n",
       "        1.85000e+02, 1.84000e+02, 2.04000e+02, 2.05000e+02, 1.81000e+02,\n",
       "        1.41000e+02, 1.86000e+02, 1.93000e+02, 1.82000e+02, 2.02000e+02,\n",
       "        2.51000e+02, 2.75400e+03]),\n",
       " array([ 0.,  1.,  2.,  3.,  4.,  5.,  6.,  7.,  8.,  9., 10., 11., 12.,\n",
       "        13., 14., 15., 16., 17., 18., 19., 20., 21., 22., 23., 24., 25.,\n",
       "        26., 27., 28., 29., 30., 31., 32.], dtype=float32),\n",
       " <a list of 1 Patch objects>)"
      ]
     },
     "execution_count": 155,
     "metadata": {},
     "output_type": "execute_result"
    },
    {
     "data": {
      "image/png": "[encoded data removed]",
      "text/plain": [
       "<Figure size 720x720 with 1 Axes>"
      ]
     },
     "metadata": {
      "needs_background": "light"
     },
     "output_type": "display_data"
    }
   ],
   "source": [
    "#  if( fAODVZero ) {\n",
    "#     for(Int_t iv0=0; iv0<64; iv0++) {\n",
    "#       if( fAODVZero->GetBBFlag(iv0) == 1 && iv0 < 32 ) nbbc++;\n",
    "#       if( fAODVZero->GetBBFlag(iv0) == 1 && iv0 > 31 ) nbba++;\n",
    "#       if( fAODVZero->GetBBFlag(iv0) != 1 && fAODVZero->GetBBFlag(iv0) != 0 ) std::cout<<\"ogogo\"<<std::endl;\n",
    "#     }\n",
    "\n",
    "#     dV0[0]=nbba;\n",
    "#     dV0[1]=nbbc;\n",
    "#     dV0[2]=fAODVZero->GetV0ADecision();\n",
    "#     dV0[3]=fAODVZero->GetV0CDecision();\n",
    "#     dV0[4]=fAODVZero->GetNbPMV0A();\n",
    "#     dV0[5]=fAODVZero->GetNbPMV0C();\n",
    "\n",
    "start = 0\n",
    "stop  = -1\n",
    "dv0 = events.array(\"dV0\", entrystart=start, entrystop=stop)\n",
    "print(dv0.dtype)\n",
    "print(dv0.shape)\n",
    "\n",
    "n = 5\n",
    "counts, bins = np.histogram(dv0[:,n],bins=32, range=(0,32))\n",
    "plt.style.use(hep.style.ROOT)\n",
    "plt.hist(dv0[:,n], bins=bins, log=True, histtype='step', color='black')"
   ]
  },
  {
   "cell_type": "code",
   "execution_count": 8,
   "metadata": {},
   "outputs": [],
   "source": [
    "nTrack = 7\n",
    "allData = np.concatenate(\n",
    "    (\n",
    "        px[:,nTrack].reshape(entries,1),\n",
    "        py[:,nTrack].reshape(entries,1),\n",
    "        pz[:,nTrack].reshape(entries,1), \n",
    "        itsl0[:,nTrack].reshape(entries,1),\n",
    "        itsl1[:,nTrack].reshape(entries,1),\n",
    "        tpcref[:,nTrack].reshape(entries,1),\n",
    "        itcref[:,nTrack].reshape(entries,1),\n",
    "        dca0[:,nTrack].reshape(entries,1),\n",
    "        dca1[:,nTrack].reshape(entries,1),\n",
    "        tpcncls[:,nTrack].reshape(entries,1),\n",
    "        sigmtpcpion[:,nTrack].reshape(entries,1)\n",
    "   ),\n",
    "    axis=1)\n",
    "#df = ps.DataFrame(allData, columns=['px', 'py', 'pz', 'itsl0', 'itsl1', 'tpcref', 'itcref', 'dca0', 'dca1', 'tpcncls', 'sigmtpcpion' ])\n",
    "\n",
    "#df[(df.itsl1 == 1) * (df.itsl0 == 1) * (df.tpcref > 0) * (df.itcref > 0) * ((np.abs(df.dca0) < 3) + (np.abs(df.dca1) < 3)) * (df.tpcncls > 50) * (np.abs(df.sigmtpcpion) < 3)]\n",
    "\n"
   ]
  },
  {
   "cell_type": "code",
   "execution_count": 1,
   "metadata": {},
   "outputs": [
    {
     "name": "stdout",
     "output_type": "stream",
     "text": [
      "RunNum                     (no streamer)              asdtype('>i4')\n",
      "PeriodNumber               (no streamer)              asdtype('>u4')\n",
      "OrbitNumber                (no streamer)              asdtype('>u4')\n",
      "BunchCrossNumber           (no streamer)              asdtype('>u2')\n",
      "Mass                       (no streamer)              asdtype('>f4')\n",
      "Pt                         (no streamer)              asdtype('>f4')\n",
      "Q                          (no streamer)              asdtype('>i2')\n",
      "Rapidity                   (no streamer)              asdtype('>f4')\n",
      "Phi                        (no streamer)              asdtype('>f4')\n",
      "ZNAenergy                  (no streamer)              asdtype('>f4')\n",
      "ZNCenergy                  (no streamer)              asdtype('>f4')\n",
      "ZPAenergy                  (no streamer)              asdtype('>f4')\n",
      "ZPCenergy                  (no streamer)              asdtype('>f4')\n",
      "VtxX                       (no streamer)              asdtype('>f4')\n",
      "VtxY                       (no streamer)              asdtype('>f4')\n",
      "VtxZ                       (no streamer)              asdtype('>f4')\n",
      "VtxContrib                 (no streamer)              asdtype('>i4')\n",
      "VtxChi2                    (no streamer)              asdtype('>f4')\n",
      "VtxNDF                     (no streamer)              asdtype('>f4')\n",
      "SpdVtxX                    (no streamer)              asdtype('>f4')\n",
      "SpdVtxY                    (no streamer)              asdtype('>f4')\n",
      "SpdVtxZ                    (no streamer)              asdtype('>f4')\n",
      "SpdVtxContrib              (no streamer)              asdtype('>i4')\n",
      "V0Adecision                (no streamer)              asdtype('>i4')\n",
      "V0Cdecision                (no streamer)              asdtype('>i4')\n",
      "ADAdecision                (no streamer)              asdtype('>i4')\n",
      "ADCdecision                (no streamer)              asdtype('>i4')\n",
      "UBAfired                   (no streamer)              asdtype('bool')\n",
      "UBCfired                   (no streamer)              asdtype('bool')\n",
      "VBAfired                   (no streamer)              asdtype('bool')\n",
      "VBCfired                   (no streamer)              asdtype('bool')\n",
      "Ntracklets                 (no streamer)              asdtype('>i4')\n",
      "nTracks                    (no streamer)              asdtype('>i4')\n",
      "IsCUP2                     (no streamer)              asdtype('bool')\n",
      "IsCUP4                     (no streamer)              asdtype('bool')\n",
      "IsCUP9                     (no streamer)              asdtype('bool')\n",
      "IsC1ZED                    (no streamer)              asdtype('bool')\n",
      "PIDTPCPion                 (no streamer)              asjagged(asdtype('>f4'), 10)\n",
      "PIDTPCElectron             (no streamer)              asjagged(asdtype('>f4'), 10)\n",
      "TPCsignal                  (no streamer)              asjagged(asdtype('>i4'), 10)\n",
      "TrackP                     (no streamer)              asjagged(asdtype('>f4'), 10)\n",
      "TrackEta                   (no streamer)              asjagged(asdtype('>f4'), 10)\n",
      "TrackPhi                   (no streamer)              asjagged(asdtype('>f4'), 10)\n",
      "TrackPx                    (no streamer)              asjagged(asdtype('>f4'), 10)\n",
      "TrackPy                    (no streamer)              asjagged(asdtype('>f4'), 10)\n",
      "TrackPz                    (no streamer)              asjagged(asdtype('>f4'), 10)\n",
      "TrackQ                     (no streamer)              asjagged(asdtype('>i2'), 10)\n",
      "TrackHasPointOnITSLayer0   (no streamer)              asjagged(asdtype('bool'), 10)\n",
      "TrackHasPointOnITSLayer1   (no streamer)              asjagged(asdtype('bool'), 10)\n",
      "TrackITSModuleInner        (no streamer)              asjagged(asdtype('>i4'), 10)\n",
      "TrackITSModuleOuter        (no streamer)              asjagged(asdtype('>i4'), 10)\n",
      "b'events' b'Selected events for 4proungs analysis' 2788\n"
     ]
    }
   ],
   "source": [
    "import uproot\n",
    "import numpy as np\n",
    "import matplotlib.pyplot as plt\n",
    "import mplhep as hep\n",
    "import pandas as ps\n",
    "import awkward\n",
    "\n",
    "ccup9_2015_my = r\"D:\\GoogleDrive\\Job\\cern\\Alice\\analysis\\dev\\grid\\selection\\RhoPrime\\macro\\AnalysisResults.root\"\n",
    "\n",
    "events = uproot.open(ccup9_2015_my)['RhoPrimeCentral/events']\n",
    "entries = events.numentries\n",
    "events.show()\n",
    "print(events.name, events.title, events.numentries)\n",
    "\n",
    "nTracks = events.array('nTracks')\n"
   ]
  },
  {
   "cell_type": "code",
   "execution_count": 6,
   "metadata": {},
   "outputs": [
    {
     "data": {
      "text/plain": [
       "[b'RunNum',\n",
       " b'PeriodNumber',\n",
       " b'OrbitNumber',\n",
       " b'BunchCrossNumber',\n",
       " b'Mass',\n",
       " b'Pt',\n",
       " b'Q',\n",
       " b'Rapidity',\n",
       " b'Phi',\n",
       " b'ZNAenergy',\n",
       " b'ZNCenergy',\n",
       " b'ZPAenergy',\n",
       " b'ZPCenergy',\n",
       " b'VtxX',\n",
       " b'VtxY',\n",
       " b'VtxZ',\n",
       " b'VtxContrib',\n",
       " b'VtxChi2',\n",
       " b'VtxNDF',\n",
       " b'SpdVtxX',\n",
       " b'SpdVtxY',\n",
       " b'SpdVtxZ',\n",
       " b'SpdVtxContrib',\n",
       " b'V0Adecision',\n",
       " b'V0Cdecision',\n",
       " b'ADAdecision',\n",
       " b'ADCdecision',\n",
       " b'UBAfired',\n",
       " b'UBCfired',\n",
       " b'VBAfired',\n",
       " b'VBCfired',\n",
       " b'Ntracklets',\n",
       " b'nTracks',\n",
       " b'IsCUP2',\n",
       " b'IsCUP4',\n",
       " b'IsCUP9',\n",
       " b'IsC1ZED',\n",
       " b'PIDTPCPion',\n",
       " b'PIDTPCElectron',\n",
       " b'TPCsignal',\n",
       " b'TrackP',\n",
       " b'TrackEta',\n",
       " b'TrackPhi',\n",
       " b'TrackPx',\n",
       " b'TrackPy',\n",
       " b'TrackPz',\n",
       " b'TrackQ',\n",
       " b'TrackHasPointOnITSLayer0',\n",
       " b'TrackHasPointOnITSLayer1',\n",
       " b'TrackITSModuleInner',\n",
       " b'TrackITSModuleOuter']"
      ]
     },
     "execution_count": 6,
     "metadata": {},
     "output_type": "execute_result"
    }
   ],
   "source": [
    "# data from debug output \n",
    "# Tracks in events:\n",
    "# tracksNumbers = [24, 1170, 3793, 0, 13, 51]\n",
    "mycache = uproot.ArrayCache(1024*1024 * 10)\n",
    "\n",
    "data = events.arrays('*', namedecode=\"utf-8\")\n",
    "\n",
    "\n",
    "\n",
    "events.keys()"
   ]
  },
  {
   "cell_type": "code",
   "execution_count": 5,
   "metadata": {
    "collapsed": true,
    "jupyter": {
     "outputs_hidden": true,
     "source_hidden": true
    }
   },
   "outputs": [
    {
     "data": {
      "text/plain": [
       "(array([  0.,   0.,   0.,   0.,  83.,  67.,  91.,  61.,  77.,  79.,  73.,\n",
       "         92.,  70.,  69.,  64.,  74.,  54.,  65.,  60.,  53.,  44.,  37.,\n",
       "         48.,  46.,  38.,  39.,  31.,  30.,  24.,  15.,  25.,  15.,  14.,\n",
       "         17.,   8.,  16.,  10.,  12.,   5.,   9.,   4.,   7.,   8.,   2.,\n",
       "          3.,   4.,   5.,   7.,   6.,   5.,   2.,   2.,   4.,   3.,   5.,\n",
       "          5.,   3.,   2.,   3.,   2.,   2.,   3.,   3.,   4.,   1.,   3.,\n",
       "          6.,   1.,   0.,   5.,   1.,   3.,   3.,   5.,   1.,   3.,   4.,\n",
       "          2.,   3.,   3.,   4.,   1.,   4.,   0.,   4.,   4.,   4.,   3.,\n",
       "          0.,   2.,   0.,   2.,   1.,   1.,   0.,   0.,   3.,   3.,   0.,\n",
       "          3.,   3.,   4.,   4.,   3.,   0.,   4.,   1.,   3.,   1.,   0.,\n",
       "          3.,   2.,   2.,   1.,   2.,   2.,   1.,   0.,   1.,   0.,   0.,\n",
       "          1.,   1.,   0.,   0.,   1.,   5.,   2.,   0.,   1.,   1.,   1.,\n",
       "          1.,   0.,   4.,   4.,   2.,   0.,   0.,   3.,   3.,   1.,   2.,\n",
       "          0.,   1.,   1.,   5.,   3.,   0.,   0.,   0.,   1.,   0.,   0.,\n",
       "          3.,   1.,   2.,   2.,   4.,   1.,   0.,   0.,   1.,   2.,   4.,\n",
       "          0.,   0.,   1.,   3.,   1.,   1.,   1.,   3.,   1.,   2.,   2.,\n",
       "          1.,   2.,   0.,   0.,   0.,   1.,   0.,   0.,   0.,   2.,   1.,\n",
       "          0.,   1.,   0.,   2.,   0.,   3.,   0.,   1.,   1.,   0.,   0.,\n",
       "          0., 865.]),\n",
       " array([  0.,   1.,   2.,   3.,   4.,   5.,   6.,   7.,   8.,   9.,  10.,\n",
       "         11.,  12.,  13.,  14.,  15.,  16.,  17.,  18.,  19.,  20.,  21.,\n",
       "         22.,  23.,  24.,  25.,  26.,  27.,  28.,  29.,  30.,  31.,  32.,\n",
       "         33.,  34.,  35.,  36.,  37.,  38.,  39.,  40.,  41.,  42.,  43.,\n",
       "         44.,  45.,  46.,  47.,  48.,  49.,  50.,  51.,  52.,  53.,  54.,\n",
       "         55.,  56.,  57.,  58.,  59.,  60.,  61.,  62.,  63.,  64.,  65.,\n",
       "         66.,  67.,  68.,  69.,  70.,  71.,  72.,  73.,  74.,  75.,  76.,\n",
       "         77.,  78.,  79.,  80.,  81.,  82.,  83.,  84.,  85.,  86.,  87.,\n",
       "         88.,  89.,  90.,  91.,  92.,  93.,  94.,  95.,  96.,  97.,  98.,\n",
       "         99., 100., 101., 102., 103., 104., 105., 106., 107., 108., 109.,\n",
       "        110., 111., 112., 113., 114., 115., 116., 117., 118., 119., 120.,\n",
       "        121., 122., 123., 124., 125., 126., 127., 128., 129., 130., 131.,\n",
       "        132., 133., 134., 135., 136., 137., 138., 139., 140., 141., 142.,\n",
       "        143., 144., 145., 146., 147., 148., 149., 150., 151., 152., 153.,\n",
       "        154., 155., 156., 157., 158., 159., 160., 161., 162., 163., 164.,\n",
       "        165., 166., 167., 168., 169., 170., 171., 172., 173., 174., 175.,\n",
       "        176., 177., 178., 179., 180., 181., 182., 183., 184., 185., 186.,\n",
       "        187., 188., 189., 190., 191., 192., 193., 194., 195., 196., 197.,\n",
       "        198., 199., 200.]),\n",
       " <a list of 1 Patch objects>)"
      ]
     },
     "execution_count": 5,
     "metadata": {},
     "output_type": "execute_result"
    },
    {
     "name": "stderr",
     "output_type": "stream",
     "text": [
      "findfont: Font family ['cursive'] not found. Falling back to DejaVu Sans.\n",
      "findfont: Font family ['TeX Gyre Heros'] not found. Falling back to DejaVu Sans.\n",
      "findfont: Font family ['TeX Gyre Heros'] not found. Falling back to DejaVu Sans.\n",
      "findfont: Font family ['TeX Gyre Heros'] not found. Falling back to DejaVu Sans.\n"
     ]
    },
    {
     "data": {
      "image/png": "[encoded data removed]",
      "text/plain": [
       "<Figure size 720x720 with 1 Axes>"
      ]
     },
     "metadata": {
      "needs_background": "light"
     },
     "output_type": "display_data"
    }
   ],
   "source": [
    "nTracks = events.array(\"nTracks\")\n",
    "\n",
    "counts, bins = np.histogram(nTracks,bins=200, range=(0,200))\n",
    "plt.style.use(hep.style.ROOT)\n",
    "plt.hist(nTracks, bins=bins, histtype='step', color='black', log=True)"
   ]
  },
  {
   "cell_type": "code",
   "execution_count": 28,
   "metadata": {},
   "outputs": [
    {
     "ename": "ValueError",
     "evalue": "The truth value of an array with more than one element is ambiguous. Use a.any() or a.all()",
     "output_type": "error",
     "traceback": [
      "\u001b[1;31m---------------------------------------------------------------------------\u001b[0m",
      "\u001b[1;31mValueError\u001b[0m                                Traceback (most recent call last)",
      "\u001b[1;32m<ipython-input-28-80a75b10e5e6>\u001b[0m in \u001b[0;36m<module>\u001b[1;34m\u001b[0m\n\u001b[0;32m      2\u001b[0m \u001b[0mselect\u001b[0m \u001b[1;33m=\u001b[0m \u001b[1;33m(\u001b[0m\u001b[1;33m(\u001b[0m\u001b[0mdata\u001b[0m\u001b[1;33m[\u001b[0m\u001b[1;34m'TrackHasPointOnITSLayer0'\u001b[0m\u001b[1;33m]\u001b[0m \u001b[1;33m==\u001b[0m \u001b[1;36m1\u001b[0m\u001b[1;33m)\u001b[0m \u001b[1;33m+\u001b[0m \u001b[1;33m(\u001b[0m\u001b[0mdata\u001b[0m\u001b[1;33m[\u001b[0m\u001b[1;34m'TrackHasPointOnITSLayer1'\u001b[0m\u001b[1;33m]\u001b[0m \u001b[1;33m==\u001b[0m \u001b[1;36m1\u001b[0m\u001b[1;33m)\u001b[0m\u001b[1;33m)\u001b[0m\u001b[1;33m\u001b[0m\u001b[1;33m\u001b[0m\u001b[0m\n\u001b[0;32m      3\u001b[0m \u001b[0mGoodEvents\u001b[0m \u001b[1;33m=\u001b[0m \u001b[0mnp\u001b[0m\u001b[1;33m.\u001b[0m\u001b[0margwhere\u001b[0m\u001b[1;33m(\u001b[0m\u001b[0mselect\u001b[0m\u001b[1;33m.\u001b[0m\u001b[0msum\u001b[0m\u001b[1;33m(\u001b[0m\u001b[1;33m)\u001b[0m\u001b[1;33m==\u001b[0m\u001b[1;36m4\u001b[0m\u001b[1;33m)\u001b[0m\u001b[1;33m\u001b[0m\u001b[1;33m\u001b[0m\u001b[0m\n\u001b[1;32m----> 4\u001b[1;33m \u001b[0mGoodTracks\u001b[0m \u001b[1;33m=\u001b[0m \u001b[0mnp\u001b[0m\u001b[1;33m.\u001b[0m\u001b[0margwhere\u001b[0m\u001b[1;33m(\u001b[0m\u001b[0mselect\u001b[0m\u001b[1;33m[\u001b[0m\u001b[0mGoodEvents\u001b[0m\u001b[1;33m.\u001b[0m\u001b[0mflatten\u001b[0m\u001b[1;33m(\u001b[0m\u001b[1;33m)\u001b[0m\u001b[1;33m]\u001b[0m\u001b[1;33m==\u001b[0m\u001b[1;32mTrue\u001b[0m\u001b[1;33m)\u001b[0m\u001b[1;33m.\u001b[0m\u001b[0mreshape\u001b[0m\u001b[1;33m(\u001b[0m\u001b[0mlen\u001b[0m\u001b[1;33m(\u001b[0m\u001b[0mGoodEvents\u001b[0m\u001b[1;33m)\u001b[0m\u001b[1;33m,\u001b[0m\u001b[1;36m8\u001b[0m\u001b[1;33m)\u001b[0m\u001b[1;33m\u001b[0m\u001b[1;33m\u001b[0m\u001b[0m\n\u001b[0m\u001b[0;32m      5\u001b[0m \u001b[0mGoodEventsAndTracks\u001b[0m \u001b[1;33m=\u001b[0m \u001b[0mnp\u001b[0m\u001b[1;33m.\u001b[0m\u001b[0mappend\u001b[0m\u001b[1;33m(\u001b[0m\u001b[0mGoodEvents\u001b[0m\u001b[1;33m,\u001b[0m\u001b[0mGoodTracks\u001b[0m\u001b[1;33m[\u001b[0m\u001b[1;33m:\u001b[0m\u001b[1;33m,\u001b[0m\u001b[1;36m1\u001b[0m\u001b[1;33m:\u001b[0m\u001b[0mlen\u001b[0m\u001b[1;33m(\u001b[0m\u001b[0mGoodTracks\u001b[0m\u001b[1;33m)\u001b[0m\u001b[1;33m:\u001b[0m\u001b[1;36m2\u001b[0m\u001b[1;33m]\u001b[0m\u001b[1;33m,\u001b[0m \u001b[0maxis\u001b[0m\u001b[1;33m=\u001b[0m\u001b[1;36m1\u001b[0m\u001b[1;33m)\u001b[0m \u001b[1;31m# array([[ 389,    2,    3,    5,    7],...])\u001b[0m\u001b[1;33m\u001b[0m\u001b[1;33m\u001b[0m\u001b[0m\n\u001b[0;32m      6\u001b[0m \u001b[0mGoodEventsNumber\u001b[0m \u001b[1;33m=\u001b[0m \u001b[0mGoodEventsAndTracks\u001b[0m\u001b[1;33m[\u001b[0m\u001b[1;33m:\u001b[0m\u001b[1;33m,\u001b[0m\u001b[1;36m0\u001b[0m\u001b[1;33m]\u001b[0m\u001b[1;33m\u001b[0m\u001b[1;33m\u001b[0m\u001b[0m\n",
      "\u001b[1;32m<__array_function__ internals>\u001b[0m in \u001b[0;36margwhere\u001b[1;34m(*args, **kwargs)\u001b[0m\n",
      "\u001b[1;32mC:\\Python38\\lib\\site-packages\\numpy\\core\\numeric.py\u001b[0m in \u001b[0;36margwhere\u001b[1;34m(a)\u001b[0m\n\u001b[0;32m    582\u001b[0m         \u001b[1;31m# then remove the added dimension\u001b[0m\u001b[1;33m\u001b[0m\u001b[1;33m\u001b[0m\u001b[1;33m\u001b[0m\u001b[0m\n\u001b[0;32m    583\u001b[0m         \u001b[1;32mreturn\u001b[0m \u001b[0margwhere\u001b[0m\u001b[1;33m(\u001b[0m\u001b[0ma\u001b[0m\u001b[1;33m)\u001b[0m\u001b[1;33m[\u001b[0m\u001b[1;33m:\u001b[0m\u001b[1;33m,\u001b[0m\u001b[1;33m:\u001b[0m\u001b[1;36m0\u001b[0m\u001b[1;33m]\u001b[0m\u001b[1;33m\u001b[0m\u001b[1;33m\u001b[0m\u001b[0m\n\u001b[1;32m--> 584\u001b[1;33m     \u001b[1;32mreturn\u001b[0m \u001b[0mtranspose\u001b[0m\u001b[1;33m(\u001b[0m\u001b[0mnonzero\u001b[0m\u001b[1;33m(\u001b[0m\u001b[0ma\u001b[0m\u001b[1;33m)\u001b[0m\u001b[1;33m)\u001b[0m\u001b[1;33m\u001b[0m\u001b[1;33m\u001b[0m\u001b[0m\n\u001b[0m\u001b[0;32m    585\u001b[0m \u001b[1;33m\u001b[0m\u001b[0m\n\u001b[0;32m    586\u001b[0m \u001b[1;33m\u001b[0m\u001b[0m\n",
      "\u001b[1;32m<__array_function__ internals>\u001b[0m in \u001b[0;36mnonzero\u001b[1;34m(*args, **kwargs)\u001b[0m\n",
      "\u001b[1;32mC:\\Python38\\lib\\site-packages\\numpy\\core\\fromnumeric.py\u001b[0m in \u001b[0;36mnonzero\u001b[1;34m(a)\u001b[0m\n\u001b[0;32m   1894\u001b[0m \u001b[1;33m\u001b[0m\u001b[0m\n\u001b[0;32m   1895\u001b[0m     \"\"\"\n\u001b[1;32m-> 1896\u001b[1;33m     \u001b[1;32mreturn\u001b[0m \u001b[0m_wrapfunc\u001b[0m\u001b[1;33m(\u001b[0m\u001b[0ma\u001b[0m\u001b[1;33m,\u001b[0m \u001b[1;34m'nonzero'\u001b[0m\u001b[1;33m)\u001b[0m\u001b[1;33m\u001b[0m\u001b[1;33m\u001b[0m\u001b[0m\n\u001b[0m\u001b[0;32m   1897\u001b[0m \u001b[1;33m\u001b[0m\u001b[0m\n\u001b[0;32m   1898\u001b[0m \u001b[1;33m\u001b[0m\u001b[0m\n",
      "\u001b[1;32mC:\\Python38\\lib\\site-packages\\numpy\\core\\fromnumeric.py\u001b[0m in \u001b[0;36m_wrapfunc\u001b[1;34m(obj, method, *args, **kwds)\u001b[0m\n\u001b[0;32m     56\u001b[0m     \u001b[0mbound\u001b[0m \u001b[1;33m=\u001b[0m \u001b[0mgetattr\u001b[0m\u001b[1;33m(\u001b[0m\u001b[0mobj\u001b[0m\u001b[1;33m,\u001b[0m \u001b[0mmethod\u001b[0m\u001b[1;33m,\u001b[0m \u001b[1;32mNone\u001b[0m\u001b[1;33m)\u001b[0m\u001b[1;33m\u001b[0m\u001b[1;33m\u001b[0m\u001b[0m\n\u001b[0;32m     57\u001b[0m     \u001b[1;32mif\u001b[0m \u001b[0mbound\u001b[0m \u001b[1;32mis\u001b[0m \u001b[1;32mNone\u001b[0m\u001b[1;33m:\u001b[0m\u001b[1;33m\u001b[0m\u001b[1;33m\u001b[0m\u001b[0m\n\u001b[1;32m---> 58\u001b[1;33m         \u001b[1;32mreturn\u001b[0m \u001b[0m_wrapit\u001b[0m\u001b[1;33m(\u001b[0m\u001b[0mobj\u001b[0m\u001b[1;33m,\u001b[0m \u001b[0mmethod\u001b[0m\u001b[1;33m,\u001b[0m \u001b[1;33m*\u001b[0m\u001b[0margs\u001b[0m\u001b[1;33m,\u001b[0m \u001b[1;33m**\u001b[0m\u001b[0mkwds\u001b[0m\u001b[1;33m)\u001b[0m\u001b[1;33m\u001b[0m\u001b[1;33m\u001b[0m\u001b[0m\n\u001b[0m\u001b[0;32m     59\u001b[0m \u001b[1;33m\u001b[0m\u001b[0m\n\u001b[0;32m     60\u001b[0m     \u001b[1;32mtry\u001b[0m\u001b[1;33m:\u001b[0m\u001b[1;33m\u001b[0m\u001b[1;33m\u001b[0m\u001b[0m\n",
      "\u001b[1;32mC:\\Python38\\lib\\site-packages\\numpy\\core\\fromnumeric.py\u001b[0m in \u001b[0;36m_wrapit\u001b[1;34m(obj, method, *args, **kwds)\u001b[0m\n\u001b[0;32m     45\u001b[0m     \u001b[1;32mexcept\u001b[0m \u001b[0mAttributeError\u001b[0m\u001b[1;33m:\u001b[0m\u001b[1;33m\u001b[0m\u001b[1;33m\u001b[0m\u001b[0m\n\u001b[0;32m     46\u001b[0m         \u001b[0mwrap\u001b[0m \u001b[1;33m=\u001b[0m \u001b[1;32mNone\u001b[0m\u001b[1;33m\u001b[0m\u001b[1;33m\u001b[0m\u001b[0m\n\u001b[1;32m---> 47\u001b[1;33m     \u001b[0mresult\u001b[0m \u001b[1;33m=\u001b[0m \u001b[0mgetattr\u001b[0m\u001b[1;33m(\u001b[0m\u001b[0masarray\u001b[0m\u001b[1;33m(\u001b[0m\u001b[0mobj\u001b[0m\u001b[1;33m)\u001b[0m\u001b[1;33m,\u001b[0m \u001b[0mmethod\u001b[0m\u001b[1;33m)\u001b[0m\u001b[1;33m(\u001b[0m\u001b[1;33m*\u001b[0m\u001b[0margs\u001b[0m\u001b[1;33m,\u001b[0m \u001b[1;33m**\u001b[0m\u001b[0mkwds\u001b[0m\u001b[1;33m)\u001b[0m\u001b[1;33m\u001b[0m\u001b[1;33m\u001b[0m\u001b[0m\n\u001b[0m\u001b[0;32m     48\u001b[0m     \u001b[1;32mif\u001b[0m \u001b[0mwrap\u001b[0m\u001b[1;33m:\u001b[0m\u001b[1;33m\u001b[0m\u001b[1;33m\u001b[0m\u001b[0m\n\u001b[0;32m     49\u001b[0m         \u001b[1;32mif\u001b[0m \u001b[1;32mnot\u001b[0m \u001b[0misinstance\u001b[0m\u001b[1;33m(\u001b[0m\u001b[0mresult\u001b[0m\u001b[1;33m,\u001b[0m \u001b[0mmu\u001b[0m\u001b[1;33m.\u001b[0m\u001b[0mndarray\u001b[0m\u001b[1;33m)\u001b[0m\u001b[1;33m:\u001b[0m\u001b[1;33m\u001b[0m\u001b[1;33m\u001b[0m\u001b[0m\n",
      "\u001b[1;31mValueError\u001b[0m: The truth value of an array with more than one element is ambiguous. Use a.any() or a.all()"
     ]
    }
   ],
   "source": [
    "select = data['IsCUP9']# ((data['TrackHasPointOnITSLayer0'] == 1) + (data['TrackHasPointOnITSLayer1'] == 1)) * (tpcref > 0) * (itcref > 0) * ((np.abs(dca0) < 3) + (np.abs(dca1) < 3)) * (tpcncls > 50) * (np.abs(sigmtpcpion) < 3)\n",
    "select = ((data['TrackHasPointOnITSLayer0'] == 1) + (data['TrackHasPointOnITSLayer1'] == 1))\n",
    "GoodEvents = np.argwhere(select.sum()==4)\n",
    "GoodTracks = np.argwhere(select[GoodEvents]==True).reshape(len(GoodEvents),8)\n",
    "GoodEventsAndTracks = np.append(GoodEvents,GoodTracks[:,1:len(GoodTracks):2], axis=1) # array([[ 389,    2,    3,    5,    7],...])\n",
    "GoodEventsNumber = GoodEventsAndTracks[:,0]\n",
    "GoodTracksNum = GoodEventsAndTracks[:,1:]\n",
    "print(f'Numer of events with 4pr: {len(GoodEventsNumber)}')"
   ]
  },
  {
   "cell_type": "code",
   "execution_count": null,
   "metadata": {},
   "outputs": [],
   "source": []
  },
  {
   "cell_type": "code",
   "execution_count": 67,
   "metadata": {},
   "outputs": [
    {
     "data": {
      "text/plain": [
       "<JaggedArray [[False True True ... False False False]] at 0x02a80db06c70>"
      ]
     },
     "execution_count": 67,
     "metadata": {},
     "output_type": "execute_result"
    }
   ],
   "source": [
    "select[GoodEvents][0]"
   ]
  }
 ],
 "metadata": {
  "kernelspec": {
   "display_name": "Python 3.8.2 64-bit",
   "language": "python",
   "name": "python38264bit3afbaa1fad294b6594b92b10bbcb573b"
  },
  "language_info": {
   "codemirror_mode": {
    "name": "ipython",
    "version": 3
   },
   "file_extension": ".py",
   "mimetype": "text/x-python",
   "name": "python",
   "nbconvert_exporter": "python",
   "pygments_lexer": "ipython3",
   "version": "3.8.3"
  },
  "toc": {
   "base_numbering": 1,
   "nav_menu": {},
   "number_sections": true,
   "sideBar": true,
   "skip_h1_title": false,
   "title_cell": "Table of Contents",
   "title_sidebar": "Contents",
   "toc_cell": false,
   "toc_position": {},
   "toc_section_display": true,
   "toc_window_display": false
  }
 },
 "nbformat": 4,
 "nbformat_minor": 4
}
