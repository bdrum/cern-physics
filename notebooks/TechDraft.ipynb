{
 "cells": [
  {
   "cell_type": "markdown",
   "metadata": {},
   "source": [
    "# Perfomance optimizations"
   ]
  },
  {
   "cell_type": "code",
   "execution_count": 1,
   "metadata": {},
   "outputs": [
    {
     "name": "stdout",
     "output_type": "stream",
     "text": [
      "TrigType                   (no streamer)              asdtype('>i4')\n",
      "dV0                        (no streamer)              asdtype(\"('>f4', (6,))\")\n",
      "EnZDC                      (no streamer)              asdtype(\"('>f4', (6,))\")\n",
      "dAD                        (no streamer)              asdtype(\"('>f4', (6,))\")\n",
      "vertex                     (no streamer)              asdtype(\"('>f4', (3,))\")\n",
      "nTracks                    (no streamer)              asdtype('>i4')\n",
      "nTracklets                 (no streamer)              asdtype('>i4')\n",
      "eventinfo                  (no streamer)              asdtype(\"('>i4', (4,))\")\n",
      "TDCa                       (no streamer)              asdtype(\"('>f4', (4,))\")\n",
      "TDCc                       (no streamer)              asdtype(\"('>f4', (4,))\")\n",
      "TriggerType                (no streamer)              asdtype(\"('>i4', (2,))\")\n",
      "dca0                       (no streamer)              asdtype(\"('>f4', (177,))\")\n",
      "dca1                       (no streamer)              asdtype(\"('>f4', (177,))\")\n",
      "ITSNcls                    (no streamer)              asdtype(\"('>i4', (177,))\")\n",
      "TPCNcls                    (no streamer)              asdtype(\"('>i4', (177,))\")\n",
      "HasPointOnITSLayer0        (no streamer)              asdtype(\"('>i4', (177,))\")\n",
      "HasPointOnITSLayer1        (no streamer)              asdtype(\"('>i4', (177,))\")\n",
      "charge                     (no streamer)              asdtype(\"('>i4', (177,))\")\n",
      "NumberOfSigmasTPCPion      (no streamer)              asdtype(\"('>f4', (177,))\")\n",
      "NumberOfSigmasTPCElectron  (no streamer)              asdtype(\"('>f4', (177,))\")\n",
      "NumberOfSigmasITSPion      (no streamer)              asdtype(\"('>f4', (177,))\")\n",
      "NumberOfSigmasITSElectron  (no streamer)              asdtype(\"('>f4', (177,))\")\n",
      "NumberOfSigmasITSKaon      (no streamer)              asdtype(\"('>f4', (177,))\")\n",
      "StatusAndTPCRefit          (no streamer)              asdtype(\"('>i4', (177,))\")\n",
      "StatusAndITSRefit          (no streamer)              asdtype(\"('>i4', (177,))\")\n",
      "Px                         (no streamer)              asdtype(\"('>f4', (177,))\")\n",
      "Py                         (no streamer)              asdtype(\"('>f4', (177,))\")\n",
      "Pz                         (no streamer)              asdtype(\"('>f4', (177,))\")\n",
      "Pt                         (no streamer)              asdtype('>f4')\n"
     ]
    },
    {
     "data": {
      "text/plain": [
       "(b'events', b'events', 6154096)"
      ]
     },
     "execution_count": 1,
     "metadata": {},
     "output_type": "execute_result"
    }
   ],
   "source": [
    "import uproot\n",
    "import numpy as np\n",
    "import matplotlib.pyplot as plt\n",
    "import mplhep as hep\n",
    "import pandas as ps\n",
    "import awkward\n",
    "\n",
    "\n",
    "class UPCFiles:\n",
    "    ccup8_2015 =  r\"/mnt/d/GoogleDrive/Job/cern/Alice/analysis/data/RhoPrime/2015/pvn/ccup8.sel.new.root\"\n",
    "    ccup9_2015 =  r\"/mnt/d/GoogleDrive/Job/cern/Alice/analysis/data/RhoPrime/2015/pvn/ccup9.sel.new.root\"\n",
    "    ccup29_2018 = r\"/mnt/d/GoogleDrive/Job/cern/Alice/analysis/data/RhoPrime/2018/pvn/ccup29.sel.new.root\"\n",
    "    ccup30_2018 = r\"/mnt/d/GoogleDrive/Job/cern/Alice/analysis/data/RhoPrime/2018/pvn/ccup30.sel.new.root\"\n",
    "    ccup31_2018 = r\"/mnt/d/GoogleDrive/Job/cern/Alice/analysis/data/RhoPrime/2018/pvn/ccup31.sel.new.root\"\n",
    "    \n",
    "    ccup8_2015_win  =  r\"D:\\GoogleDrive\\Job\\cern\\Alice\\analysis\\data\\RhoPrime\\2015\\pvn\\ccup8.sel.new.root\"\n",
    "    ccup9_2015_win  =  r\"D:\\GoogleDrive\\Job\\cern\\Alice\\analysis\\data\\RhoPrime\\2015\\pvn\\ccup9.sel.new.root\"\n",
    "    ccup29_2018_win =  r\"D:\\GoogleDrive\\Job\\cern\\Alice\\analysis\\data\\RhoPrime\\2018\\pvn\\ccup29.sel.new.root\"\n",
    "    ccup30_2018_win =  r\"D:\\GoogleDrive\\Job\\cern\\Alice\\analysis\\data\\RhoPrime\\2018\\pvn\\ccup30.sel.new.root\"\n",
    "    ccup31_2018_win =  r\"D:\\GoogleDrive\\Job\\cern\\Alice\\analysis\\data\\RhoPrime\\2018\\pvn\\ccup31.sel.new.root\"\n",
    "\n",
    "events = uproot.open(UPCFiles.ccup8_2015_win)['events']\n",
    "entries = events.numentries\n",
    "events.show()\n",
    "events.name, events.title, events.numentries"
   ]
  },
  {
   "cell_type": "markdown",
   "metadata": {},
   "source": [
    "## cache size vs chunks len \n"
   ]
  },
  {
   "cell_type": "code",
   "execution_count": 3,
   "metadata": {},
   "outputs": [
    {
     "name": "stdout",
     "output_type": "stream",
     "text": [
      "10MB [31493, 33047, 32963, 26505, 26865, 27270, 27045, 27450, 28215, 28980, 27900]\n",
      "100MB [31493, 33047, 32963, 26505, 26865, 27270, 27045, 27450, 28215, 28980, 27900]\n",
      "1000MB [31493, 33047, 32963, 26505, 26865, 27270, 27045, 27450, 28215, 28980, 27900]\n"
     ]
    }
   ],
   "source": [
    "start = 0\n",
    "stop  = 300000\n",
    "data = events.lazyarrays(\"*\", entrystart=start, entrystop=stop, basketcache=uproot.cache.ThreadSafeArrayCache(10 * 1024**2))\n",
    "print (\"10MB\", [data.HasPointOnITSLayer0.chunks[i].shape[0] for i in range(len(data.HasPointOnITSLayer0.chunks))])\n",
    "\n",
    "data = events.lazyarrays(\"*\", entrystart=start, entrystop=stop, basketcache=uproot.cache.ThreadSafeArrayCache(100 * 1024**2))\n",
    "print (\"100MB\", [data.HasPointOnITSLayer0.chunks[i].shape[0] for i in range(len(data.HasPointOnITSLayer0.chunks))])\n",
    "\n",
    "data = events.lazyarrays(\"*\", entrystart=start, entrystop=stop, basketcache=uproot.cache.ThreadSafeArrayCache(1000 * 1024**2))\n",
    "print (\"1000MB\", [data.HasPointOnITSLayer0.chunks[i].shape[0] for i in range(len(data.HasPointOnITSLayer0.chunks))])"
   ]
  }
 ],
 "metadata": {
  "kernelspec": {
   "display_name": "Python 3.8.2 64-bit",
   "language": "python",
   "name": "python38264bit3afbaa1fad294b6594b92b10bbcb573b"
  },
  "language_info": {
   "codemirror_mode": {
    "name": "ipython",
    "version": 3
   },
   "file_extension": ".py",
   "mimetype": "text/x-python",
   "name": "python",
   "nbconvert_exporter": "python",
   "pygments_lexer": "ipython3",
   "version": "3.8.3"
  }
 },
 "nbformat": 4,
 "nbformat_minor": 4
}
