{
 "cells": [
  {
   "cell_type": "markdown",
   "metadata": {},
   "source": [
    "# Exploring a new features "
   ]
  },
  {
   "cell_type": "code",
   "execution_count": 2,
   "metadata": {
    "tags": []
   },
   "outputs": [],
   "source": [
    "import uproot4\n",
    "import numpy as np\n",
    "import pandas as pd\n",
    "import concurrent.futures\n",
    "\n",
    "from modules.FourTrackEvents import *\n",
    "\n",
    "ccup9_2015_file = r'D:\\GoogleDrive\\Job\\cern\\Alice\\analysis\\data\\RhoPrime\\2015\\4ProngsLHC15oMC.root'\n",
    "\n",
    "tree_name = '4Prongs/events'\n",
    "# dfs.loc[0] # get dataframe part with entry = 0    \n",
    "\n",
    "executor = concurrent.futures.ThreadPoolExecutor()\n",
    "\n",
    "branches = ['T_Px', 'T_Py', 'T_Pz',  'T_Q', 'T_NumberOfSigmaTPCPion', 'T_TPCRefit', 'T_TPCNCls', 'T_Phi', 'T_Eta', 'T_HasPointOnITSLayer0','T_HasPointOnITSLayer1', 'T_ITSModuleInner', 'T_ITSModuleOuter']\n",
    "\n",
    "evColumns = [\"RunNum\", \"PeriodNumber\", \"OrbitNumber\", \"BunchCrossNumber\", \"Mass\", \"Pt\", \"Q\", \"Rapidity\", \"Phi\", \"ZNAenergy\", \"ZNCenergy\", \"ZPAenergy\", \"ZPCenergy\", \"VtxX\", \"VtxY\", \"VtxZ\", \"VtxContrib\", \"VtxChi2\", \"VtxNDF\", \"SpdVtxX\", \"SpdVtxY\", \"SpdVtxZ\", \"SpdVtxContrib\", \"V0Adecision\", \"V0Cdecision\", \"ADAdecision\", \"ADCdecision\", \"V0Afired\", \"V0Cfired\", \"ADAfired\", \"ADCfired\", \"STPfired\", \"SMBfired\", \"SM2fired\", \"SH1fired\", \"OM2fired\", \"OMUfired\", \"IsTriggered\", \"nTracklets\", \"nTracks\",'ZDCAtime_0', 'ZDCAtime_1', 'ZDCAtime_2', 'ZDCAtime_3', 'ZDCCtime_0', 'ZDCCtime_1', 'ZDCCtime_2', 'ZDCCtime_3' ] #, \"FORChip\"]\n",
    "\n",
    "events = uproot4.open(ccup9_2015_file, object_cache = 5000, num_workers=12, interpretation_executor=executor)[tree_name]\n",
    "\n",
    "data_tracks = events.arrays(filter_name=branches, library='pd', array_cache=5000)#, entry_stop=1000000)\n",
    "data_events = events.arrays(filter_name=evColumns, library='pd', array_cache=5000)#, entry_stop=1000000)\n",
    "chips = events.arrays(filter_name=['FORChip'], library='pd') #, array_cache=5000)#, entry_stop=1000000)\n",
    "chips = chips.groupby('entry').FORChip.apply(list)"
   ]
  },
  {
   "cell_type": "code",
   "execution_count": 9,
   "metadata": {},
   "outputs": [
    {
     "output_type": "display_data",
     "data": {
      "text/plain": "Canvas(toolbar=Toolbar(toolitems=[('Home', 'Reset original view', 'home', 'home'), ('Back', 'Back to previous …",
      "application/vnd.jupyter.widget-view+json": {
       "version_major": 2,
       "version_minor": 0,
       "model_id": "bdd4b3877a2848b88f9ddea2aaa0a47a"
      }
     },
     "metadata": {}
    },
    {
     "output_type": "execute_result",
     "data": {
      "text/plain": [
       "<AxesSubplot:>"
      ]
     },
     "metadata": {},
     "execution_count": 9
    }
   ],
   "source": [
    "%matplotlib widget \n",
    "data_events.Pt.hist(bins=100,range=(0,2), histtype='step')"
   ]
  },
  {
   "cell_type": "code",
   "execution_count": 10,
   "metadata": {},
   "outputs": [
    {
     "output_type": "execute_result",
     "data": {
      "text/plain": [
       "      RunNum  PeriodNumber  OrbitNumber  BunchCrossNumber      Mass        Pt  \\\n",
       "0     245407             0            0                 0  3.277053  0.067997   \n",
       "1     245407             0            0                 0  1.970822  0.018496   \n",
       "2     245407             0            0                 0  2.830512  0.040261   \n",
       "3     245407             0            0                 0  1.805113  0.054843   \n",
       "4     245407             0            0                 0  1.656197  0.056423   \n",
       "...      ...           ...          ...               ...       ...       ...   \n",
       "9661  246994             0            0                 0  1.880020  0.029710   \n",
       "9662  246994             0            0                 0  4.866782  0.101007   \n",
       "9663  246994             0            0                 0  1.841085  0.103930   \n",
       "9664  246994             0            0                 0  2.801142  0.028733   \n",
       "9665  246994             0            0                 0  1.625557  0.126948   \n",
       "\n",
       "               Q  Rapidity       Phi   ZNAenergy  ...  nTracklets  nTracks  \\\n",
       "0    -1718026240 -0.202196  3.111930 -157.023392  ...           4        4   \n",
       "1    -1718026240  0.389107  3.104819 -336.880157  ...           4        4   \n",
       "2    -1718026240 -0.523298  1.994956 -157.023392  ...           4        4   \n",
       "3    -1718026240  0.560920 -2.574388 -157.023392  ...           4        4   \n",
       "4    -1718026240  0.267238 -1.465889 -157.023392  ...           4        4   \n",
       "...          ...       ...       ...         ...  ...         ...      ...   \n",
       "9661 -1718026240  0.017353  2.163878 -157.023392  ...           3        4   \n",
       "9662 -1718026240 -0.718959 -0.626682   22.833378  ...           1        4   \n",
       "9663 -1718026240  0.194734 -0.392131 -157.023392  ...           4        4   \n",
       "9664 -1718026240 -0.539449  1.793509   22.833378  ...           3        4   \n",
       "9665 -1718026240  0.156115 -0.278698 -336.880157  ...           3        4   \n",
       "\n",
       "      ZDCAtime_0  ZDCAtime_1  ZDCAtime_2  ZDCAtime_3  ZDCCtime_0  ZDCCtime_1  \\\n",
       "0          999.0       999.0       999.0       999.0       999.0       999.0   \n",
       "1          999.0       999.0       999.0       999.0       999.0       999.0   \n",
       "2          999.0       999.0       999.0       999.0       999.0       999.0   \n",
       "3          999.0       999.0       999.0       999.0       999.0       999.0   \n",
       "4          999.0       999.0       999.0       999.0       999.0       999.0   \n",
       "...          ...         ...         ...         ...         ...         ...   \n",
       "9661       999.0       999.0       999.0       999.0       999.0       999.0   \n",
       "9662       999.0       999.0       999.0       999.0       999.0       999.0   \n",
       "9663       999.0       999.0       999.0       999.0       999.0       999.0   \n",
       "9664       999.0       999.0       999.0       999.0       999.0       999.0   \n",
       "9665       999.0       999.0       999.0       999.0       999.0       999.0   \n",
       "\n",
       "      ZDCCtime_2  ZDCCtime_3  \n",
       "0          999.0       999.0  \n",
       "1          999.0       999.0  \n",
       "2          999.0       999.0  \n",
       "3          999.0       999.0  \n",
       "4          999.0       999.0  \n",
       "...          ...         ...  \n",
       "9661       999.0       999.0  \n",
       "9662       999.0       999.0  \n",
       "9663       999.0       999.0  \n",
       "9664       999.0       999.0  \n",
       "9665       999.0       999.0  \n",
       "\n",
       "[9666 rows x 48 columns]"
      ],
      "text/html": "<div>\n<style scoped>\n    .dataframe tbody tr th:only-of-type {\n        vertical-align: middle;\n    }\n\n    .dataframe tbody tr th {\n        vertical-align: top;\n    }\n\n    .dataframe thead th {\n        text-align: right;\n    }\n</style>\n<table border=\"1\" class=\"dataframe\">\n  <thead>\n    <tr style=\"text-align: right;\">\n      <th></th>\n      <th>RunNum</th>\n      <th>PeriodNumber</th>\n      <th>OrbitNumber</th>\n      <th>BunchCrossNumber</th>\n      <th>Mass</th>\n      <th>Pt</th>\n      <th>Q</th>\n      <th>Rapidity</th>\n      <th>Phi</th>\n      <th>ZNAenergy</th>\n      <th>...</th>\n      <th>nTracklets</th>\n      <th>nTracks</th>\n      <th>ZDCAtime_0</th>\n      <th>ZDCAtime_1</th>\n      <th>ZDCAtime_2</th>\n      <th>ZDCAtime_3</th>\n      <th>ZDCCtime_0</th>\n      <th>ZDCCtime_1</th>\n      <th>ZDCCtime_2</th>\n      <th>ZDCCtime_3</th>\n    </tr>\n  </thead>\n  <tbody>\n    <tr>\n      <th>0</th>\n      <td>245407</td>\n      <td>0</td>\n      <td>0</td>\n      <td>0</td>\n      <td>3.277053</td>\n      <td>0.067997</td>\n      <td>-1718026240</td>\n      <td>-0.202196</td>\n      <td>3.111930</td>\n      <td>-157.023392</td>\n      <td>...</td>\n      <td>4</td>\n      <td>4</td>\n      <td>999.0</td>\n      <td>999.0</td>\n      <td>999.0</td>\n      <td>999.0</td>\n      <td>999.0</td>\n      <td>999.0</td>\n      <td>999.0</td>\n      <td>999.0</td>\n    </tr>\n    <tr>\n      <th>1</th>\n      <td>245407</td>\n      <td>0</td>\n      <td>0</td>\n      <td>0</td>\n      <td>1.970822</td>\n      <td>0.018496</td>\n      <td>-1718026240</td>\n      <td>0.389107</td>\n      <td>3.104819</td>\n      <td>-336.880157</td>\n      <td>...</td>\n      <td>4</td>\n      <td>4</td>\n      <td>999.0</td>\n      <td>999.0</td>\n      <td>999.0</td>\n      <td>999.0</td>\n      <td>999.0</td>\n      <td>999.0</td>\n      <td>999.0</td>\n      <td>999.0</td>\n    </tr>\n    <tr>\n      <th>2</th>\n      <td>245407</td>\n      <td>0</td>\n      <td>0</td>\n      <td>0</td>\n      <td>2.830512</td>\n      <td>0.040261</td>\n      <td>-1718026240</td>\n      <td>-0.523298</td>\n      <td>1.994956</td>\n      <td>-157.023392</td>\n      <td>...</td>\n      <td>4</td>\n      <td>4</td>\n      <td>999.0</td>\n      <td>999.0</td>\n      <td>999.0</td>\n      <td>999.0</td>\n      <td>999.0</td>\n      <td>999.0</td>\n      <td>999.0</td>\n      <td>999.0</td>\n    </tr>\n    <tr>\n      <th>3</th>\n      <td>245407</td>\n      <td>0</td>\n      <td>0</td>\n      <td>0</td>\n      <td>1.805113</td>\n      <td>0.054843</td>\n      <td>-1718026240</td>\n      <td>0.560920</td>\n      <td>-2.574388</td>\n      <td>-157.023392</td>\n      <td>...</td>\n      <td>4</td>\n      <td>4</td>\n      <td>999.0</td>\n      <td>999.0</td>\n      <td>999.0</td>\n      <td>999.0</td>\n      <td>999.0</td>\n      <td>999.0</td>\n      <td>999.0</td>\n      <td>999.0</td>\n    </tr>\n    <tr>\n      <th>4</th>\n      <td>245407</td>\n      <td>0</td>\n      <td>0</td>\n      <td>0</td>\n      <td>1.656197</td>\n      <td>0.056423</td>\n      <td>-1718026240</td>\n      <td>0.267238</td>\n      <td>-1.465889</td>\n      <td>-157.023392</td>\n      <td>...</td>\n      <td>4</td>\n      <td>4</td>\n      <td>999.0</td>\n      <td>999.0</td>\n      <td>999.0</td>\n      <td>999.0</td>\n      <td>999.0</td>\n      <td>999.0</td>\n      <td>999.0</td>\n      <td>999.0</td>\n    </tr>\n    <tr>\n      <th>...</th>\n      <td>...</td>\n      <td>...</td>\n      <td>...</td>\n      <td>...</td>\n      <td>...</td>\n      <td>...</td>\n      <td>...</td>\n      <td>...</td>\n      <td>...</td>\n      <td>...</td>\n      <td>...</td>\n      <td>...</td>\n      <td>...</td>\n      <td>...</td>\n      <td>...</td>\n      <td>...</td>\n      <td>...</td>\n      <td>...</td>\n      <td>...</td>\n      <td>...</td>\n      <td>...</td>\n    </tr>\n    <tr>\n      <th>9661</th>\n      <td>246994</td>\n      <td>0</td>\n      <td>0</td>\n      <td>0</td>\n      <td>1.880020</td>\n      <td>0.029710</td>\n      <td>-1718026240</td>\n      <td>0.017353</td>\n      <td>2.163878</td>\n      <td>-157.023392</td>\n      <td>...</td>\n      <td>3</td>\n      <td>4</td>\n      <td>999.0</td>\n      <td>999.0</td>\n      <td>999.0</td>\n      <td>999.0</td>\n      <td>999.0</td>\n      <td>999.0</td>\n      <td>999.0</td>\n      <td>999.0</td>\n    </tr>\n    <tr>\n      <th>9662</th>\n      <td>246994</td>\n      <td>0</td>\n      <td>0</td>\n      <td>0</td>\n      <td>4.866782</td>\n      <td>0.101007</td>\n      <td>-1718026240</td>\n      <td>-0.718959</td>\n      <td>-0.626682</td>\n      <td>22.833378</td>\n      <td>...</td>\n      <td>1</td>\n      <td>4</td>\n      <td>999.0</td>\n      <td>999.0</td>\n      <td>999.0</td>\n      <td>999.0</td>\n      <td>999.0</td>\n      <td>999.0</td>\n      <td>999.0</td>\n      <td>999.0</td>\n    </tr>\n    <tr>\n      <th>9663</th>\n      <td>246994</td>\n      <td>0</td>\n      <td>0</td>\n      <td>0</td>\n      <td>1.841085</td>\n      <td>0.103930</td>\n      <td>-1718026240</td>\n      <td>0.194734</td>\n      <td>-0.392131</td>\n      <td>-157.023392</td>\n      <td>...</td>\n      <td>4</td>\n      <td>4</td>\n      <td>999.0</td>\n      <td>999.0</td>\n      <td>999.0</td>\n      <td>999.0</td>\n      <td>999.0</td>\n      <td>999.0</td>\n      <td>999.0</td>\n      <td>999.0</td>\n    </tr>\n    <tr>\n      <th>9664</th>\n      <td>246994</td>\n      <td>0</td>\n      <td>0</td>\n      <td>0</td>\n      <td>2.801142</td>\n      <td>0.028733</td>\n      <td>-1718026240</td>\n      <td>-0.539449</td>\n      <td>1.793509</td>\n      <td>22.833378</td>\n      <td>...</td>\n      <td>3</td>\n      <td>4</td>\n      <td>999.0</td>\n      <td>999.0</td>\n      <td>999.0</td>\n      <td>999.0</td>\n      <td>999.0</td>\n      <td>999.0</td>\n      <td>999.0</td>\n      <td>999.0</td>\n    </tr>\n    <tr>\n      <th>9665</th>\n      <td>246994</td>\n      <td>0</td>\n      <td>0</td>\n      <td>0</td>\n      <td>1.625557</td>\n      <td>0.126948</td>\n      <td>-1718026240</td>\n      <td>0.156115</td>\n      <td>-0.278698</td>\n      <td>-336.880157</td>\n      <td>...</td>\n      <td>3</td>\n      <td>4</td>\n      <td>999.0</td>\n      <td>999.0</td>\n      <td>999.0</td>\n      <td>999.0</td>\n      <td>999.0</td>\n      <td>999.0</td>\n      <td>999.0</td>\n      <td>999.0</td>\n    </tr>\n  </tbody>\n</table>\n<p>9666 rows × 48 columns</p>\n</div>"
     },
     "metadata": {},
     "execution_count": 10
    }
   ],
   "source": [
    "data_events"
   ]
  },
  {
   "cell_type": "code",
   "execution_count": 12,
   "metadata": {},
   "outputs": [],
   "source": []
  },
  {
   "cell_type": "code",
   "execution_count": 31,
   "metadata": {},
   "outputs": [],
   "source": []
  },
  {
   "cell_type": "code",
   "execution_count": 51,
   "metadata": {},
   "outputs": [],
   "source": [
    "four_tracks_events = np.where(np.array(list(map(lambda x : len(x), data['T_Q'][is_triggered]))) == 4)\r\n",
    "zero_charged_events = np.where(np.array(list(map(lambda x : sum(x), data['T_Q'][is_triggered]))) == 0)\r\n",
    "four_tracks_zero_charged_events = np.intersect1d(four_tracks_events, zero_charged_events)"
   ]
  },
  {
   "cell_type": "code",
   "execution_count": 32,
   "metadata": {},
   "outputs": [
    {
     "data": {
      "text/html": "<div>\n<style scoped>\n    .dataframe tbody tr th:only-of-type {\n        vertical-align: middle;\n    }\n\n    .dataframe tbody tr th {\n        vertical-align: top;\n    }\n\n    .dataframe thead th {\n        text-align: right;\n    }\n</style>\n<table border=\"1\" class=\"dataframe\">\n  <thead>\n    <tr style=\"text-align: right;\">\n      <th></th>\n      <th>RunNum</th>\n      <th>PeriodNumber</th>\n      <th>OrbitNumber</th>\n      <th>BunchCrossNumber</th>\n      <th>Mass</th>\n      <th>Pt</th>\n      <th>Q</th>\n      <th>Rapidity</th>\n      <th>Phi</th>\n      <th>ZNAenergy</th>\n      <th>...</th>\n      <th>STPfired</th>\n      <th>SMBfired</th>\n      <th>SM2fired</th>\n      <th>SH1fired</th>\n      <th>OM2fired</th>\n      <th>OMUfired</th>\n      <th>IsTriggered</th>\n      <th>nTracklets</th>\n      <th>nTracks</th>\n      <th>FORChip</th>\n    </tr>\n  </thead>\n  <tbody>\n    <tr>\n      <th>0</th>\n      <td>245145</td>\n      <td>0</td>\n      <td>13362961</td>\n      <td>674</td>\n      <td>2.802221</td>\n      <td>0.567083</td>\n      <td>-1718026238</td>\n      <td>0.056647</td>\n      <td>-2.397827</td>\n      <td>-92.604172</td>\n      <td>...</td>\n      <td>True</td>\n      <td>True</td>\n      <td>True</td>\n      <td>True</td>\n      <td>False</td>\n      <td>False</td>\n      <td>False</td>\n      <td>4</td>\n      <td>8</td>\n      <td>[4, 15, 22, 107, 167, 233, 247, 262, 295, 315,...</td>\n    </tr>\n    <tr>\n      <th>1</th>\n      <td>245145</td>\n      <td>3</td>\n      <td>3674210</td>\n      <td>3438</td>\n      <td>2.996301</td>\n      <td>3.597858</td>\n      <td>-1718026240</td>\n      <td>-0.318146</td>\n      <td>1.097847</td>\n      <td>-428.223267</td>\n      <td>...</td>\n      <td>True</td>\n      <td>True</td>\n      <td>True</td>\n      <td>True</td>\n      <td>True</td>\n      <td>False</td>\n      <td>False</td>\n      <td>4</td>\n      <td>6</td>\n      <td>[30, 49, 89, 290, 309, 352, 370, 393, 472, 509...</td>\n    </tr>\n    <tr>\n      <th>2</th>\n      <td>245145</td>\n      <td>1</td>\n      <td>12644173</td>\n      <td>2126</td>\n      <td>3.198086</td>\n      <td>1.573138</td>\n      <td>-1717960705</td>\n      <td>-0.360621</td>\n      <td>1.949035</td>\n      <td>9.372114</td>\n      <td>...</td>\n      <td>True</td>\n      <td>True</td>\n      <td>True</td>\n      <td>True</td>\n      <td>True</td>\n      <td>True</td>\n      <td>False</td>\n      <td>3</td>\n      <td>5</td>\n      <td>[27, 33, 160, 171, 302, 306, 308, 366, 384, 39...</td>\n    </tr>\n    <tr>\n      <th>3</th>\n      <td>245145</td>\n      <td>1</td>\n      <td>16213555</td>\n      <td>3239</td>\n      <td>3.103773</td>\n      <td>0.797095</td>\n      <td>-1718026238</td>\n      <td>0.011698</td>\n      <td>1.207371</td>\n      <td>291.203796</td>\n      <td>...</td>\n      <td>True</td>\n      <td>True</td>\n      <td>True</td>\n      <td>True</td>\n      <td>True</td>\n      <td>True</td>\n      <td>False</td>\n      <td>12</td>\n      <td>8</td>\n      <td>[12, 29, 33, 36, 50, 71, 168, 215, 268, 284, 3...</td>\n    </tr>\n    <tr>\n      <th>4</th>\n      <td>245145</td>\n      <td>1</td>\n      <td>5525160</td>\n      <td>2195</td>\n      <td>1.679243</td>\n      <td>0.388082</td>\n      <td>-1718026240</td>\n      <td>-0.595928</td>\n      <td>0.879197</td>\n      <td>344.992584</td>\n      <td>...</td>\n      <td>True</td>\n      <td>True</td>\n      <td>True</td>\n      <td>True</td>\n      <td>False</td>\n      <td>False</td>\n      <td>False</td>\n      <td>27</td>\n      <td>4</td>\n      <td>[0, 7, 28, 31, 37, 38, 39, 45, 46, 55, 57, 71,...</td>\n    </tr>\n    <tr>\n      <th>...</th>\n      <td>...</td>\n      <td>...</td>\n      <td>...</td>\n      <td>...</td>\n      <td>...</td>\n      <td>...</td>\n      <td>...</td>\n      <td>...</td>\n      <td>...</td>\n      <td>...</td>\n      <td>...</td>\n      <td>...</td>\n      <td>...</td>\n      <td>...</td>\n      <td>...</td>\n      <td>...</td>\n      <td>...</td>\n      <td>...</td>\n      <td>...</td>\n      <td>...</td>\n      <td>...</td>\n    </tr>\n    <tr>\n      <th>106700</th>\n      <td>246994</td>\n      <td>3</td>\n      <td>3847039</td>\n      <td>3472</td>\n      <td>5.037951</td>\n      <td>7.349191</td>\n      <td>-1717960706</td>\n      <td>-0.550232</td>\n      <td>0.569475</td>\n      <td>-384.684784</td>\n      <td>...</td>\n      <td>True</td>\n      <td>True</td>\n      <td>True</td>\n      <td>True</td>\n      <td>False</td>\n      <td>False</td>\n      <td>False</td>\n      <td>1</td>\n      <td>6</td>\n      <td>[19, 27, 232, 399, 448, 469, 877]</td>\n    </tr>\n    <tr>\n      <th>106701</th>\n      <td>246994</td>\n      <td>2</td>\n      <td>62739</td>\n      <td>532</td>\n      <td>8.490516</td>\n      <td>5.970900</td>\n      <td>-1717960708</td>\n      <td>-1.047591</td>\n      <td>-2.963939</td>\n      <td>6169.960449</td>\n      <td>...</td>\n      <td>True</td>\n      <td>True</td>\n      <td>True</td>\n      <td>True</td>\n      <td>True</td>\n      <td>False</td>\n      <td>False</td>\n      <td>74</td>\n      <td>22</td>\n      <td>[26, 34, 38, 41, 87, 120, 202, 204, 206, 209, ...</td>\n    </tr>\n    <tr>\n      <th>106702</th>\n      <td>246994</td>\n      <td>1</td>\n      <td>566110</td>\n      <td>3361</td>\n      <td>5.639124</td>\n      <td>0.815031</td>\n      <td>-1717960707</td>\n      <td>0.497559</td>\n      <td>2.903033</td>\n      <td>-624.092224</td>\n      <td>...</td>\n      <td>True</td>\n      <td>True</td>\n      <td>True</td>\n      <td>True</td>\n      <td>True</td>\n      <td>True</td>\n      <td>False</td>\n      <td>6</td>\n      <td>5</td>\n      <td>[47, 86, 168, 212, 267, 305, 358, 505, 523, 52...</td>\n    </tr>\n    <tr>\n      <th>106703</th>\n      <td>246994</td>\n      <td>2</td>\n      <td>3250243</td>\n      <td>1830</td>\n      <td>3.033328</td>\n      <td>2.172899</td>\n      <td>-1718026239</td>\n      <td>0.083928</td>\n      <td>-2.649607</td>\n      <td>75394.562500</td>\n      <td>...</td>\n      <td>True</td>\n      <td>True</td>\n      <td>True</td>\n      <td>True</td>\n      <td>True</td>\n      <td>True</td>\n      <td>False</td>\n      <td>4</td>\n      <td>7</td>\n      <td>[49, 163, 203, 248, 287, 353, 452, 472, 584, 6...</td>\n    </tr>\n    <tr>\n      <th>106704</th>\n      <td>246994</td>\n      <td>2</td>\n      <td>3245492</td>\n      <td>1603</td>\n      <td>0.695303</td>\n      <td>0.673679</td>\n      <td>-1718026238</td>\n      <td>0.195638</td>\n      <td>0.555802</td>\n      <td>-284.629578</td>\n      <td>...</td>\n      <td>True</td>\n      <td>True</td>\n      <td>True</td>\n      <td>True</td>\n      <td>False</td>\n      <td>False</td>\n      <td>False</td>\n      <td>1</td>\n      <td>4</td>\n      <td>[3, 106, 126, 127, 167, 192, 402, 444, 541, 60...</td>\n    </tr>\n  </tbody>\n</table>\n<p>106705 rows × 41 columns</p>\n</div>",
      "text/plain": "        RunNum  PeriodNumber  OrbitNumber  BunchCrossNumber      Mass  \\\n0       245145             0     13362961               674  2.802221   \n1       245145             3      3674210              3438  2.996301   \n2       245145             1     12644173              2126  3.198086   \n3       245145             1     16213555              3239  3.103773   \n4       245145             1      5525160              2195  1.679243   \n...        ...           ...          ...               ...       ...   \n106700  246994             3      3847039              3472  5.037951   \n106701  246994             2        62739               532  8.490516   \n106702  246994             1       566110              3361  5.639124   \n106703  246994             2      3250243              1830  3.033328   \n106704  246994             2      3245492              1603  0.695303   \n\n              Pt           Q  Rapidity       Phi     ZNAenergy  ...  STPfired  \\\n0       0.567083 -1718026238  0.056647 -2.397827    -92.604172  ...      True   \n1       3.597858 -1718026240 -0.318146  1.097847   -428.223267  ...      True   \n2       1.573138 -1717960705 -0.360621  1.949035      9.372114  ...      True   \n3       0.797095 -1718026238  0.011698  1.207371    291.203796  ...      True   \n4       0.388082 -1718026240 -0.595928  0.879197    344.992584  ...      True   \n...          ...         ...       ...       ...           ...  ...       ...   \n106700  7.349191 -1717960706 -0.550232  0.569475   -384.684784  ...      True   \n106701  5.970900 -1717960708 -1.047591 -2.963939   6169.960449  ...      True   \n106702  0.815031 -1717960707  0.497559  2.903033   -624.092224  ...      True   \n106703  2.172899 -1718026239  0.083928 -2.649607  75394.562500  ...      True   \n106704  0.673679 -1718026238  0.195638  0.555802   -284.629578  ...      True   \n\n        SMBfired  SM2fired  SH1fired  OM2fired  OMUfired  IsTriggered  \\\n0           True      True      True     False     False        False   \n1           True      True      True      True     False        False   \n2           True      True      True      True      True        False   \n3           True      True      True      True      True        False   \n4           True      True      True     False     False        False   \n...          ...       ...       ...       ...       ...          ...   \n106700      True      True      True     False     False        False   \n106701      True      True      True      True     False        False   \n106702      True      True      True      True      True        False   \n106703      True      True      True      True      True        False   \n106704      True      True      True     False     False        False   \n\n        nTracklets  nTracks                                            FORChip  \n0                4        8  [4, 15, 22, 107, 167, 233, 247, 262, 295, 315,...  \n1                4        6  [30, 49, 89, 290, 309, 352, 370, 393, 472, 509...  \n2                3        5  [27, 33, 160, 171, 302, 306, 308, 366, 384, 39...  \n3               12        8  [12, 29, 33, 36, 50, 71, 168, 215, 268, 284, 3...  \n4               27        4  [0, 7, 28, 31, 37, 38, 39, 45, 46, 55, 57, 71,...  \n...            ...      ...                                                ...  \n106700           1        6                  [19, 27, 232, 399, 448, 469, 877]  \n106701          74       22  [26, 34, 38, 41, 87, 120, 202, 204, 206, 209, ...  \n106702           6        5  [47, 86, 168, 212, 267, 305, 358, 505, 523, 52...  \n106703           4        7  [49, 163, 203, 248, 287, 353, 452, 472, 584, 6...  \n106704           1        4  [3, 106, 126, 127, 167, 192, 402, 444, 541, 60...  \n\n[106705 rows x 41 columns]"
     },
     "execution_count": 32,
     "metadata": {},
     "output_type": "execute_result"
    }
   ],
   "source": [
    "data"
   ]
  },
  {
   "cell_type": "code",
   "execution_count": 3,
   "metadata": {},
   "outputs": [
    {
     "name": "stdout",
     "output_type": "stream",
     "text": [
      "name                 | typename                 | interpretation                \n",
      "---------------------+--------------------------+-------------------------------\n",
      "RunNum               | int32_t                  | AsDtype('>i4')\n",
      "PeriodNumber         | uint32_t                 | AsDtype('>u4')\n",
      "OrbitNumber          | uint32_t                 | AsDtype('>u4')\n",
      "BunchCrossNumber     | uint32_t                 | AsDtype('>u4')\n",
      "Mass                 | float                    | AsDtype('>f4')\n",
      "Pt                   | float                    | AsDtype('>f4')\n",
      "Q                    | int32_t                  | AsDtype('>i4')\n",
      "Rapidity             | float                    | AsDtype('>f4')\n",
      "Phi                  | float                    | AsDtype('>f4')\n",
      "ZNAenergy            | float                    | AsDtype('>f4')\n",
      "ZNCenergy            | float                    | AsDtype('>f4')\n",
      "ZPAenergy            | float                    | AsDtype('>f4')\n",
      "ZPCenergy            | float                    | AsDtype('>f4')\n",
      "VtxX                 | float                    | AsDtype('>f4')\n",
      "VtxY                 | float                    | AsDtype('>f4')\n",
      "VtxZ                 | float                    | AsDtype('>f4')\n",
      "VtxContrib           | int32_t                  | AsDtype('>i4')\n",
      "VtxChi2              | float                    | AsDtype('>f4')\n",
      "VtxNDF               | float                    | AsDtype('>f4')\n",
      "SpdVtxX              | float                    | AsDtype('>f4')\n",
      "SpdVtxY              | float                    | AsDtype('>f4')\n",
      "SpdVtxZ              | float                    | AsDtype('>f4')\n",
      "SpdVtxContrib        | int32_t                  | AsDtype('>i4')\n",
      "V0Adecision          | int32_t                  | AsDtype('>i4')\n",
      "V0Cdecision          | int32_t                  | AsDtype('>i4')\n",
      "ADAdecision          | int32_t                  | AsDtype('>i4')\n",
      "ADCdecision          | int32_t                  | AsDtype('>i4')\n",
      "V0Afired             | bool                     | AsDtype('bool')\n",
      "V0Cfired             | bool                     | AsDtype('bool')\n",
      "ADAfired             | bool                     | AsDtype('bool')\n",
      "ADCfired             | bool                     | AsDtype('bool')\n",
      "STPfired             | bool                     | AsDtype('bool')\n",
      "SMBfired             | bool                     | AsDtype('bool')\n",
      "SM2fired             | bool                     | AsDtype('bool')\n",
      "SH1fired             | bool                     | AsDtype('bool')\n",
      "OM2fired             | bool                     | AsDtype('bool')\n",
      "OMUfired             | bool                     | AsDtype('bool')\n",
      "IsTriggered          | bool                     | AsDtype('bool')\n",
      "nTracklets           | int32_t                  | AsDtype('>i4')\n",
      "nTracks              | int32_t                  | AsDtype('>i4')\n",
      "T_NumberOfSigmaIT... | std::vector<float>       | AsJagged(AsDtype('>f4'), he...\n",
      "T_NumberOfSigmaIT... | std::vector<float>       | AsJagged(AsDtype('>f4'), he...\n",
      "T_NumberOfSigmaTP... | std::vector<float>       | AsJagged(AsDtype('>f4'), he...\n",
      "T_NumberOfSigmaTP... | std::vector<float>       | AsJagged(AsDtype('>f4'), he...\n",
      "TPCsignal            | std::vector<int32_t>     | AsJagged(AsDtype('>i4'), he...\n",
      "T_P                  | std::vector<float>       | AsJagged(AsDtype('>f4'), he...\n",
      "T_Eta                | std::vector<float>       | AsJagged(AsDtype('>f4'), he...\n",
      "T_Phi                | std::vector<float>       | AsJagged(AsDtype('>f4'), he...\n",
      "T_Px                 | std::vector<float>       | AsJagged(AsDtype('>f4'), he...\n",
      "T_Py                 | std::vector<float>       | AsJagged(AsDtype('>f4'), he...\n",
      "T_Pz                 | std::vector<float>       | AsJagged(AsDtype('>f4'), he...\n",
      "T_Q                  | std::vector<int32_t>     | AsJagged(AsDtype('>i4'), he...\n",
      "T_HasPointOnITSLa... | std::vector<bool>        | AsJagged(AsDtype('bool'), h...\n",
      "T_HasPointOnITSLa... | std::vector<bool>        | AsJagged(AsDtype('bool'), h...\n",
      "T_ITSModuleInner     | std::vector<int32_t>     | AsJagged(AsDtype('>i4'), he...\n",
      "T_ITSModuleOuter     | std::vector<int32_t>     | AsJagged(AsDtype('>i4'), he...\n",
      "T_TPCNCls            | std::vector<int32_t>     | AsJagged(AsDtype('>i4'), he...\n",
      "T_ITSNCls            | std::vector<int32_t>     | AsJagged(AsDtype('>i4'), he...\n",
      "T_Dca0               | std::vector<float>       | AsJagged(AsDtype('>f4'), he...\n",
      "T_Dca1               | std::vector<float>       | AsJagged(AsDtype('>f4'), he...\n",
      "T_TPCRefit           | std::vector<bool>        | AsJagged(AsDtype('bool'), h...\n",
      "T_ITSRefit           | std::vector<bool>        | AsJagged(AsDtype('bool'), h...\n",
      "TLets_Theta          | std::vector<float>       | AsJagged(AsDtype('>f4'), he...\n",
      "TLets_Phi            | std::vector<float>       | AsJagged(AsDtype('>f4'), he...\n",
      "FORChip              | std::vector<int32_t>     | AsJagged(AsDtype('>i4'), he...\n"
     ]
    }
   ],
   "source": [
    "events.show()"
   ]
  }
 ],
 "metadata": {
  "kernelspec": {
   "name": "python38264bit3afbaa1fad294b6594b92b10bbcb573b",
   "display_name": "Python 3.8.6 64-bit"
  },
  "language_info": {
   "codemirror_mode": {
    "name": "ipython",
    "version": 3
   },
   "file_extension": ".py",
   "mimetype": "text/x-python",
   "name": "python",
   "nbconvert_exporter": "python",
   "pygments_lexer": "ipython3",
   "version": "3.8.6"
  },
  "metadata": {
   "interpreter": {
    "hash": "2db524e06e9f5f4ffedc911c917cb75e12dbc923643829bf417064a77eb14d37"
   }
  }
 },
 "nbformat": 4,
 "nbformat_minor": 4
}