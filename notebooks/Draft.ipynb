{
 "cells": [
  {
   "cell_type": "markdown",
   "metadata": {},
   "source": [
    "# Exploring a new features "
   ]
  },
  {
   "cell_type": "code",
   "execution_count": 4,
   "metadata": {
    "tags": []
   },
   "outputs": [],
   "source": [
    "import uproot4\n",
    "import numpy as np\n",
    "import pandas as pd\n",
    "import concurrent.futures\n",
    "\n",
    "\n",
    "ccup9_2015_file = r'D:\\GoogleDrive\\Job\\cern\\Alice\\analysis\\data\\RhoPrime\\2015\\4Prongs2015oMC.root'\n",
    "\n",
    "tree_name = '4Prongs/events'\n",
    "# dfs.loc[0] # get dataframe part with entry = 0    \n",
    "\n",
    "executor = concurrent.futures.ThreadPoolExecutor()\n",
    "\n",
    "branches = ['T_Px', 'T_Py', 'T_Pz',  'T_Q', 'T_NumberOfSigmaTPCPion', 'T_TPCRefit', 'T_TPCNCls', 'T_Phi', 'T_Eta', 'T_HasPointOnITSLayer0','T_HasPointOnITSLayer1', 'T_ITSModuleInner', 'T_ITSModuleOuter']\n",
    "\n",
    "mc_brn =  [\"MCPart_PdgCode\", \"MCPart_Px\", \"MCPart_Py\", \"MCPart_Pz\"]\n",
    "\n",
    "evColumns = [\"RunNum\", \"PeriodNumber\", \"OrbitNumber\", \"BunchCrossNumber\", \"Mass\", \"Pt\", \"Q\", \"Rapidity\", \"Phi\", \"ZNAenergy\", \"ZNCenergy\", \"ZPAenergy\", \"ZPCenergy\", \"VtxX\", \"VtxY\", \"VtxZ\", \"VtxContrib\", \"VtxChi2\", \"VtxNDF\", \"SpdVtxX\", \"SpdVtxY\", \"SpdVtxZ\", \"SpdVtxContrib\", \"V0Adecision\", \"V0Cdecision\", \"ADAdecision\", \"ADCdecision\", \"V0Afired\", \"V0Cfired\", \"ADAfired\", \"ADCfired\", \"STPfired\", \"SMBfired\", \"SM2fired\", \"SH1fired\", \"OM2fired\", \"OMUfired\", \"IsTriggered\", \"nTracklets\", \"nTracks\",'ZDCAtime_0', 'ZDCAtime_1', 'ZDCAtime_2', 'ZDCAtime_3', 'ZDCCtime_0', 'ZDCCtime_1', 'ZDCCtime_2', 'ZDCCtime_3' ] #, \"FORChip\"]\n",
    "\n",
    "events = uproot4.open(ccup9_2015_file, object_cache = 5000, num_workers=12, interpretation_executor=executor)[tree_name]\n",
    "\n",
    "data_tracks = events.arrays(filter_name=mc_brn, library='pd', array_cache=5000)#, entry_stop=1000000)\n",
    "# data_events = events.arrays(filter_name=evColumns, library='pd', array_cache=5000)#, entry_stop=1000000)\n",
    "# chips = events.arrays(filter_name=['FORChip'], library='pd') #, array_cache=5000)#, entry_stop=1000000)\n",
    "# chips = chips.groupby('entry').FORChip.apply(list)"
   ]
  },
  {
   "cell_type": "code",
   "execution_count": 9,
   "metadata": {},
   "outputs": [
    {
     "output_type": "display_data",
     "data": {
      "text/plain": "Canvas(toolbar=Toolbar(toolitems=[('Home', 'Reset original view', 'home', 'home'), ('Back', 'Back to previous …",
      "application/vnd.jupyter.widget-view+json": {
       "version_major": 2,
       "version_minor": 0,
       "model_id": "a645a372cd104899ae78382a8bc5b1ba"
      }
     },
     "metadata": {}
    },
    {
     "output_type": "execute_result",
     "data": {
      "text/plain": [
       "<AxesSubplot:>"
      ]
     },
     "metadata": {},
     "execution_count": 9
    }
   ],
   "source": [
    "%matplotlib widget\n",
    "np.sqrt(data_tracks.MCPart_Px.groupby('entry').sum()**2 + data_tracks.MCPart_Py.groupby('entry').sum()**2).hist(bins=100, range=(0,2),histtype='step')"
   ]
  },
  {
   "cell_type": "code",
   "execution_count": 38,
   "metadata": {},
   "outputs": [
    {
     "output_type": "display_data",
     "data": {
      "text/plain": "Canvas(toolbar=Toolbar(toolitems=[('Home', 'Reset original view', 'home', 'home'), ('Back', 'Back to previous …",
      "application/vnd.jupyter.widget-view+json": {
       "version_major": 2,
       "version_minor": 0,
       "model_id": "cf6d76041fbf4929ae375055a0b30735"
      }
     },
     "metadata": {}
    }
   ],
   "source": [
    "import mplhep as hep\n",
    "import numpy as np\n",
    "import pandas as pd\n",
    "from matplotlib import pyplot as plt \n",
    "from FourTracks.analysis.kinematics import *\n",
    "\n",
    "%matplotlib widget\n",
    "\n",
    "data_tracks.rename(columns={\"MCPart_Px\" : 'T_Px', \"MCPart_Py\" : 'T_Py', \"MCPart_Pz\" : 'T_Pz'}, inplace=True)\n",
    "df = pd.DataFrame()\n",
    "df['M'] = mass_events(data_tracks).values\n",
    "df['Pt'] =  pt_events(data_tracks).values\n",
    "\n",
    "fig, ax = plt.subplots(1, 2, figsize=(20,10))\n",
    "\n",
    "_ = ax[0].hist(df.Pt,bins=100, range=(0,2),histtype='step')\n",
    "_ = ax[1].hist(df.M, bins=60, range=(0.5,3.5),histtype='step')"
   ]
  },
  {
   "cell_type": "code",
   "execution_count": 26,
   "metadata": {},
   "outputs": [],
   "source": [
    "from FourTracks import data\n",
    "from FourTracks.data.cuts import tpc\n",
    "from FourTracks.data.cuts import kinematics\n",
    "from FourTracks.data.cuts import trigger"
   ]
  },
  {
   "cell_type": "code",
   "execution_count": 48,
   "metadata": {},
   "outputs": [
    {
     "output_type": "execute_result",
     "data": {
      "text/plain": [
       "               0         1         2         3         4\n",
       "entry                                                   \n",
       "8            NaN  1.260245  1.260245  1.260245  1.260245\n",
       "15           NaN  1.484580  1.484580  1.484580  1.484580\n",
       "20      1.458968  1.458968  1.458968  1.458968  1.458968\n",
       "73           NaN  1.662622  1.662622  1.662622  1.662622\n",
       "82           NaN       NaN  1.457713  1.457713  1.457713\n",
       "...          ...       ...       ...       ...       ...\n",
       "109820       NaN       NaN  1.034755  1.034755  1.034755\n",
       "109897       NaN       NaN  0.950963  0.950963  0.950963\n",
       "109932       NaN       NaN  1.759759  1.759759  1.759759\n",
       "109954       NaN       NaN       NaN  1.384854  1.384854\n",
       "109983  1.628376  1.628376  1.628376  1.628376  1.628376\n",
       "\n",
       "[3024 rows x 5 columns]"
      ],
      "text/html": "<div>\n<style scoped>\n    .dataframe tbody tr th:only-of-type {\n        vertical-align: middle;\n    }\n\n    .dataframe tbody tr th {\n        vertical-align: top;\n    }\n\n    .dataframe thead th {\n        text-align: right;\n    }\n</style>\n<table border=\"1\" class=\"dataframe\">\n  <thead>\n    <tr style=\"text-align: right;\">\n      <th></th>\n      <th>0</th>\n      <th>1</th>\n      <th>2</th>\n      <th>3</th>\n      <th>4</th>\n    </tr>\n    <tr>\n      <th>entry</th>\n      <th></th>\n      <th></th>\n      <th></th>\n      <th></th>\n      <th></th>\n    </tr>\n  </thead>\n  <tbody>\n    <tr>\n      <th>8</th>\n      <td>NaN</td>\n      <td>1.260245</td>\n      <td>1.260245</td>\n      <td>1.260245</td>\n      <td>1.260245</td>\n    </tr>\n    <tr>\n      <th>15</th>\n      <td>NaN</td>\n      <td>1.484580</td>\n      <td>1.484580</td>\n      <td>1.484580</td>\n      <td>1.484580</td>\n    </tr>\n    <tr>\n      <th>20</th>\n      <td>1.458968</td>\n      <td>1.458968</td>\n      <td>1.458968</td>\n      <td>1.458968</td>\n      <td>1.458968</td>\n    </tr>\n    <tr>\n      <th>73</th>\n      <td>NaN</td>\n      <td>1.662622</td>\n      <td>1.662622</td>\n      <td>1.662622</td>\n      <td>1.662622</td>\n    </tr>\n    <tr>\n      <th>82</th>\n      <td>NaN</td>\n      <td>NaN</td>\n      <td>1.457713</td>\n      <td>1.457713</td>\n      <td>1.457713</td>\n    </tr>\n    <tr>\n      <th>...</th>\n      <td>...</td>\n      <td>...</td>\n      <td>...</td>\n      <td>...</td>\n      <td>...</td>\n    </tr>\n    <tr>\n      <th>109820</th>\n      <td>NaN</td>\n      <td>NaN</td>\n      <td>1.034755</td>\n      <td>1.034755</td>\n      <td>1.034755</td>\n    </tr>\n    <tr>\n      <th>109897</th>\n      <td>NaN</td>\n      <td>NaN</td>\n      <td>0.950963</td>\n      <td>0.950963</td>\n      <td>0.950963</td>\n    </tr>\n    <tr>\n      <th>109932</th>\n      <td>NaN</td>\n      <td>NaN</td>\n      <td>1.759759</td>\n      <td>1.759759</td>\n      <td>1.759759</td>\n    </tr>\n    <tr>\n      <th>109954</th>\n      <td>NaN</td>\n      <td>NaN</td>\n      <td>NaN</td>\n      <td>1.384854</td>\n      <td>1.384854</td>\n    </tr>\n    <tr>\n      <th>109983</th>\n      <td>1.628376</td>\n      <td>1.628376</td>\n      <td>1.628376</td>\n      <td>1.628376</td>\n      <td>1.628376</td>\n    </tr>\n  </tbody>\n</table>\n<p>3024 rows × 5 columns</p>\n</div>"
     },
     "metadata": {},
     "execution_count": 48
    }
   ],
   "source": [
    "import numpy as np\n",
    "import pandas as pd\n",
    "from matplotlib import pyplot as plt \n",
    "%matplotlib widget\n",
    "from FourTracks.analysis.kinematics import mass_events\n",
    "trig = trigger.triggered_ft_events.Triggered.dropna().values.astype(np.int64)\n",
    "\n",
    "# print(len(trig), len(data.four_tracks_zq.groupby(level=0)), len(data.four_tracks_zq.loc[trig].groupby(level=0)))\n",
    "m4 = mass_events(kinematics.GetTracksWithPtCut(tpc.GetTracksWithNTPC(data.four_tracks_zq,4).loc[trig]))#.hist(bins=100,range=(0.5,3.5), histtype='step')\n",
    "m3 = mass_events(kinematics.GetTracksWithPtCut(tpc.GetTracksWithNTPC(data.four_tracks_zq,3).loc[trig]))#.hist(bins=100,range=(0.5,3.5), histtype='step')\n",
    "m2 = mass_events(kinematics.GetTracksWithPtCut(tpc.GetTracksWithNTPC(data.four_tracks_zq,2).loc[trig]))#.hist(bins=100,range=(0.5,3.5), histtype='step')\n",
    "m1 = mass_events(kinematics.GetTracksWithPtCut(tpc.GetTracksWithNTPC(data.four_tracks_zq,1).loc[trig]))#.hist(bins=100,range=(0.5,3.5), histtype='step')\n",
    "m0 = mass_events(kinematics.GetTracksWithPtCut(tpc.GetTracksWithNTPC(data.four_tracks_zq,0).loc[trig]))#.hist(bins=100,range=(0.5,3.5), histtype='step')\n",
    "\n",
    "df = pd.concat([m4,m3,m2,m1,m0],axis=1)\n",
    "# _ = df.hist(bins=100,range=(0.5,3.5), histtype='step', column='0')"
   ]
  },
  {
   "cell_type": "code",
   "execution_count": 36,
   "metadata": {},
   "outputs": [
    {
     "output_type": "display_data",
     "data": {
      "text/plain": "Canvas(toolbar=Toolbar(toolitems=[('Home', 'Reset original view', 'home', 'home'), ('Back', 'Back to previous …",
      "application/vnd.jupyter.widget-view+json": {
       "version_major": 2,
       "version_minor": 0,
       "model_id": "679e4f17dab645da8978e306e6cfbd08"
      }
     },
     "metadata": {}
    }
   ],
   "source": [
    "%matplotlib widget \n",
    "_=plt.hist(m0,bins=30,range=(0.5,3.5), histtype='step')\n",
    "_=plt.hist(m1,bins=30,range=(0.5,3.5), histtype='step')\n",
    "_=plt.hist(m2,bins=30,range=(0.5,3.5), histtype='step')\n",
    "_=plt.hist(m3,bins=30,range=(0.5,3.5), histtype='step')\n",
    "_=plt.hist(m4,bins=30,range=(0.5,3.5), histtype='step')"
   ]
  },
  {
   "cell_type": "code",
   "execution_count": 1,
   "metadata": {},
   "outputs": [
    {
     "output_type": "execute_result",
     "data": {
      "text/plain": [
       "'C:\\\\Users\\\\bdrum\\\\.matplotlib\\\\matplotlibrc'"
      ]
     },
     "metadata": {},
     "execution_count": 1
    }
   ],
   "source": [
    "import matplotlib\n",
    "matplotlib.matplotlib_fname()\n",
    "\n"
   ]
  },
  {
   "cell_type": "code",
   "execution_count": null,
   "metadata": {},
   "outputs": [],
   "source": []
  }
 ],
 "metadata": {
  "kernelspec": {
   "name": "python386jvsc74a57bd02db524e06e9f5f4ffedc911c917cb75e12dbc923643829bf417064a77eb14d37",
   "display_name": "Python 3.8.6 64-bit"
  },
  "language_info": {
   "codemirror_mode": {
    "name": "ipython",
    "version": 3
   },
   "file_extension": ".py",
   "mimetype": "text/x-python",
   "name": "python",
   "nbconvert_exporter": "python",
   "pygments_lexer": "ipython3",
   "version": "3.8.6"
  },
  "metadata": {
   "interpreter": {
    "hash": "2db524e06e9f5f4ffedc911c917cb75e12dbc923643829bf417064a77eb14d37"
   }
  }
 },
 "nbformat": 4,
 "nbformat_minor": 4
}