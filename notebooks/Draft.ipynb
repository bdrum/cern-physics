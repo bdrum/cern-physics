{
 "cells": [
  {
   "cell_type": "markdown",
   "metadata": {},
   "source": [
    "# Exploring a new features "
   ]
  },
  {
   "cell_type": "code",
   "execution_count": 1,
   "metadata": {
    "tags": []
   },
   "outputs": [],
   "source": [
    "import uproot4\n",
    "import numpy as np\n",
    "import matplotlib.pyplot as plt\n",
    "import mplhep as hep\n",
    "import pandas as pd\n",
    "import awkward1\n",
    "\n",
    "\n",
    "ccup9_2015 = r'D:\\GoogleDrive\\Job\\cern\\Alice\\analysis\\data\\RhoPrime\\2015\\4Prongs2015o.root'\n",
    "\n",
    "events = uproot4.open(ccup9_2015)['4Prongs/events']\n",
    "# events.show()\n",
    "#dfs.loc[0] # get dataframe part with entry = 0\n",
    "\n",
    "dfs = events.arrays(filter_name=['T_Px', 'T_Py', 'T_Pz',  'T_Q', 'T_NumberOfSigmaTPCPion', 'T_TPCRefit', 'T_TPCNCls'], library='pd')\n",
    "\n",
    "dfs4Tracks = (dfs.reset_index().groupby('entry').count() == 4) # only 4 tracks events\n",
    "dfs4Tracks = dfs4Tracks[dfs.reset_index().groupby('entry').sum().T_Q == 0] # only zero total charge from 4 tracks events\n",
    "dfs4Tracks =  dfs[dfs4Tracks].dropna(how='any')\n"
   ]
  },
  {
   "cell_type": "code",
   "execution_count": 242,
   "metadata": {},
   "outputs": [
    {
     "output_type": "display_data",
     "data": {
      "text/plain": "Canvas(toolbar=Toolbar(toolitems=[('Home', 'Reset original view', 'home', 'home'), ('Back', 'Back to previous …",
      "application/vnd.jupyter.widget-view+json": {
       "version_major": 2,
       "version_minor": 0,
       "model_id": "22e61c176f5c4f078790876b4c699ae5"
      }
     },
     "metadata": {}
    }
   ],
   "source": [
    "%matplotlib widget\n",
    "\n",
    "dfsPt = dfs4Tracks[['T_Px', 'T_Py']]\n",
    "dfsPt = np.sqrt(dfsPt.groupby('entry').sum()['T_Px']**2 + dfsPt.groupby('entry').sum()['T_Py']**2)\n",
    "\n",
    "TPCMask = (np.abs(dfs4Tracks.T_NumberOfSigmaTPCPion) < 3) & (dfs4Tracks.T_TPCNCls > 50) & (dfs4Tracks.T_TPCRefit == 1)\n",
    "TPCEvents = pd.unique(dfs4Tracks.reset_index().entry)[TPCMask.groupby('entry').sum() == 4]\n",
    "TPCTracks = dfs4Tracks.loc[TPCEvents]\n",
    "\n",
    "\n",
    "dfsTPCPt = TPCTracks[['T_Px', 'T_Py']]\n",
    "dfsTPCPt = np.sqrt(TPCTracks.groupby('entry').sum()['T_Px']**2 + TPCTracks.groupby('entry').sum()['T_Py']**2)\n",
    "\n",
    "\n",
    "plt.style.use(hep.style.ROOT)\n",
    "_= plt.hist(dfsPt, bins=100, range=(0,2), histtype='step', color='black')\n",
    "\n",
    "_= plt.hist(dfsTPCPt, bins=100, range=(0,2), histtype='step', color='red')\n",
    "\n"
   ]
  },
  {
   "cell_type": "code",
   "execution_count": 243,
   "metadata": {},
   "outputs": [],
   "source": [
    "# from modules.physics.kinematics.rapidity import GetPseudoRapidity\n",
    "\n",
    "%matplotlib widget\n",
    "\n",
    "dfs4TracksLowPt = dfs4Tracks.loc[dfsPt[(dfsPt<0.15)].reset_index().entry]\n",
    "\n",
    "\n",
    "TPCMask = (np.abs(dfs4TracksLowPt.T_NumberOfSigmaTPCPion) < 3) & (dfs4TracksLowPt.T_TPCNCls > 50) & (dfs4TracksLowPt.T_TPCRefit == 1)\n",
    "TPCEvents = pd.unique(dfs4TracksLowPt.reset_index().entry)[TPCMask.groupby('entry').sum() < 4]\n",
    "TPCTracks = dfs4TracksLowPt.loc[TPCEvents]\n",
    "TPCTracksPt = np.sqrt(TPCTracks.T_Px**2 + TPCTracks.T_Py**2).to_numpy()\n",
    "# TPCTracksRap =  GetPseudoRapidity(TPCTracks)\n",
    "\n",
    "# _= plt.hist(TPCTracksPt, bins=100, range=(0,2), histtype='step', color='black')\n"
   ]
  },
  {
   "cell_type": "code",
   "execution_count": 253,
   "metadata": {},
   "outputs": [
    {
     "output_type": "execute_result",
     "data": {
      "text/plain": "entry\n6         False\n9         False\n26        False\n27         True\n39        False\n          ...  \n114609    False\n114623    False\n114635     True\n114638    False\n114647    False\nLength: 20374, dtype: bool"
     },
     "metadata": {},
     "execution_count": 253
    }
   ],
   "source": []
  },
  {
   "cell_type": "code",
   "execution_count": 266,
   "metadata": {
    "tags": []
   },
   "outputs": [
    {
     "output_type": "stream",
     "name": "stdout",
     "text": "6332\n16052\n"
    }
   ],
   "source": [
    "print((dfsTPCPt<0.15).sum()*4)\n",
    "print((dfsPt<0.15).sum()*4)\n"
   ]
  },
  {
   "cell_type": "code",
   "execution_count": 247,
   "metadata": {},
   "outputs": [],
   "source": [
    "%matplotlib widget\n",
    "\n",
    "\n",
    "\n",
    "ITSOnlyEvents = pd.unique(dfs4TracksLowPt.reset_index().entry)[TPCMask.groupby('entry').sum() == 0]\n",
    "ITSOnlyTracks = dfs4TracksLowPt.loc[ITSOnlyEvents]\n",
    "ITSOnlyTracksPt = np.sqrt(ITSOnlyTracks.T_Px**2 + ITSOnlyTracks.T_Py**2).to_numpy()\n",
    "# ITSOnlyTracksRap =  GetPseudoRapidity(ITSOnlyTracks)\n",
    "\n",
    "# _= plt.hist(ITSOnlyTracksPt, bins=100, range=(0,2), histtype='step', color='black')"
   ]
  },
  {
   "cell_type": "code",
   "execution_count": 254,
   "metadata": {
    "tags": []
   },
   "outputs": [],
   "source": [
    "%matplotlib widget\n",
    "\n",
    "TotalLowPt = np.sqrt(dfs4TracksLowPt.T_Px**2 + dfs4TracksLowPt.T_Py**2).to_numpy()\n",
    "# TotalLowPtRap =  GetPseudoRapidity(dfs4TracksLowPt)\n",
    "# _= plt.hist(TotalLowPt, bins=100, range=(0,2), histtype='step', color='black')\n"
   ]
  },
  {
   "cell_type": "code",
   "execution_count": 271,
   "metadata": {},
   "outputs": [],
   "source": [
    "tpcimpPt = []\n",
    "\n",
    "for i in range(1,4):\n",
    "    ITSnTPCEvents = pd.unique(dfs4TracksLowPt.reset_index().entry)[TPCMask.groupby('entry').sum() == i]\n",
    "    ITSnTPCTracks = dfs4TracksLowPt.loc[ITSnTPCEvents]\n",
    "    tpcimpPt.append(np.sqrt(ITSnTPCTracks.T_Px**2 + ITSnTPCTracks.T_Py**2).to_numpy())"
   ]
  },
  {
   "cell_type": "code",
   "execution_count": 282,
   "metadata": {},
   "outputs": [
    {
     "output_type": "execute_result",
     "data": {
      "text/plain": "'ITS3TPCITS||TPC'"
     },
     "metadata": {},
     "execution_count": 282
    }
   ],
   "source": [
    "labels[4]"
   ]
  },
  {
   "cell_type": "code",
   "execution_count": 288,
   "metadata": {
    "tags": []
   },
   "outputs": [
    {
     "output_type": "display_data",
     "data": {
      "text/plain": "Canvas(toolbar=Toolbar(toolitems=[('Home', 'Reset original view', 'home', 'home'), ('Back', 'Back to previous …",
      "application/vnd.jupyter.widget-view+json": {
       "version_major": 2,
       "version_minor": 0,
       "model_id": "13d9f2a575ee420696dd6a51427bbdff"
      }
     },
     "metadata": {}
    }
   ],
   "source": [
    "%matplotlib widget\n",
    "\n",
    "plt.style.use(hep.style.ROOT)\n",
    "\n",
    "arrs = [TPCTracksPt, ITSOnlyTracksPt]\n",
    "arrs.append(tpcimpPt[0])\n",
    "arrs.append(tpcimpPt[1])\n",
    "arrs.append(tpcimpPt[2])\n",
    "arrs.append(TotalLowPt)\n",
    "labels = ['ITS&&TPC', 'ITS','ITS1TPC','ITS2TPC','ITS3TPC', 'ITS||TPC']\n",
    "heights = [150,30,20,50,100,400]\n",
    "\n",
    "\n",
    "fig, axs = plt.subplots(6, figsize=(15,7), sharex=True)\n",
    "fig.suptitle(f'tracks Pt from events with Pt<0.15', fontsize=32)\n",
    "\n",
    "for i in range(6):\n",
    "    axs[i].hist(arrs[i], bins=100, range=(0,2), color='black', histtype='step', label = labels[i])\n",
    "    axs[i].legend(prop={'size': 10})\n",
    "    axs[i].text(1.8, heights[i], f\"{len(arrs[i])}\\ntracks\", size=18)\n",
    "\n"
   ]
  },
  {
   "cell_type": "code",
   "execution_count": 290,
   "metadata": {
    "tags": []
   },
   "outputs": [
    {
     "output_type": "execute_result",
     "data": {
      "text/plain": "16052"
     },
     "metadata": {},
     "execution_count": 290
    }
   ],
   "source": [
    "6332 + 504+656+2656+5904 = 16052"
   ]
  },
  {
   "cell_type": "code",
   "execution_count": 16,
   "metadata": {
    "tags": []
   },
   "outputs": [
    {
     "output_type": "stream",
     "name": "stdout",
     "text": "entry  subentry\n4      0           0.008536\nName: EventWeight, dtype: float32\nentry  subentry\n4      0           0.008536\nName: EventWeight, dtype: float32\n"
    }
   ],
   "source": []
  },
  {
   "cell_type": "markdown",
   "metadata": {},
   "source": [
    "## cache size vs chunks len \n"
   ]
  },
  {
   "source": [
    "## Data validation\n",
    "\n",
    "### Duplicates\n",
    "\n",
    "Cause of some reasons AliESD could contains the same track few times.\n",
    "All of these tracks will marked as ITS SA, since in grid I have condition to throw such tracks it is not a problem anymore. \n",
    "But let's leave this checks\n",
    "\n",
    "![img](https://sun9-69.userapi.com/c855620/v855620379/242fba/B1cMRF7RoH0.jpg)"
   ],
   "cell_type": "markdown",
   "metadata": {}
  },
  {
   "cell_type": "code",
   "execution_count": 1,
   "metadata": {},
   "outputs": [
    {
     "output_type": "display_data",
     "data": {
      "text/plain": "<Figure size 720x720 with 1 Axes>",
      "image/svg+xml": "<?xml version=\"1.0\" encoding=\"utf-8\" standalone=\"no\"?>\r\n<!DOCTYPE svg PUBLIC \"-//W3C//DTD SVG 1.1//EN\"\r\n  \"http://www.w3.org/Graphics/SVG/1.1/DTD/svg11.dtd\">\r\n<!-- Created with matplotlib (https://matplotlib.org/) -->\r\n<svg height=\"583.806918pt\" version=\"1.1\" viewBox=\"0 0 613.764187 583.806918\" width=\"613.764187pt\" xmlns=\"http://www.w3.org/2000/svg\" xmlns:xlink=\"http://www.w3.org/1999/xlink\">\r\n <defs>\r\n  <style type=\"text/css\">\r\n*{stroke-linecap:butt;stroke-linejoin:round;}\r\n  </style>\r\n </defs>\r\n <g id=\"figure_1\">\r\n  <g id=\"patch_1\">\r\n   <path d=\"M 0 583.806918 \r\nL 613.764187 583.806918 \r\nL 613.764187 0 \r\nL 0 0 \r\nz\r\n\" style=\"fill:none;\"/>\r\n  </g>\r\n  <g id=\"axes_1\">\r\n   <g id=\"patch_2\">\r\n    <path d=\"M 46.831635 550.8 \r\nL 604.831635 550.8 \r\nL 604.831635 7.2 \r\nL 46.831635 7.2 \r\nz\r\n\" style=\"fill:#ffffff;\"/>\r\n   </g>\r\n   <g id=\"patch_3\">\r\n    <path clip-path=\"url(#p029f560e93)\" d=\"M 72.195272 550.8 \r\nL 72.195272 547.681239 \r\nL 77.267999 547.681239 \r\nL 77.267999 542.483305 \r\nL 82.340726 542.483305 \r\nL 82.340726 530.008262 \r\nL 87.413453 530.008262 \r\nL 87.413453 509.216523 \r\nL 92.486181 509.216523 \r\nL 92.486181 508.176936 \r\nL 97.558908 508.176936 \r\nL 97.558908 496.74148 \r\nL 102.631635 496.74148 \r\nL 102.631635 497.781067 \r\nL 107.704363 497.781067 \r\nL 107.704363 476.989329 \r\nL 112.77709 476.989329 \r\nL 112.77709 471.791394 \r\nL 117.849817 471.791394 \r\nL 117.849817 465.553873 \r\nL 127.995272 465.553873 \r\nL 127.995272 458.276764 \r\nL 133.067999 458.276764 \r\nL 133.067999 449.960069 \r\nL 138.140726 449.960069 \r\nL 138.140726 430.207917 \r\nL 143.213453 430.207917 \r\nL 143.213453 437.485026 \r\nL 148.286181 437.485026 \r\nL 148.286181 404.218244 \r\nL 153.358908 404.218244 \r\nL 153.358908 414.614114 \r\nL 158.431635 414.614114 \r\nL 158.431635 397.980723 \r\nL 168.57709 397.980723 \r\nL 168.57709 370.951463 \r\nL 173.649817 370.951463 \r\nL 173.649817 383.426506 \r\nL 178.722544 383.426506 \r\nL 178.722544 357.436833 \r\nL 183.795272 357.436833 \r\nL 183.795272 378.228571 \r\nL 188.867999 378.228571 \r\nL 188.867999 350.159725 \r\nL 193.940726 350.159725 \r\nL 193.940726 351.199312 \r\nL 199.013453 351.199312 \r\nL 199.013453 364.713941 \r\nL 204.086181 364.713941 \r\nL 204.086181 334.565921 \r\nL 209.158908 334.565921 \r\nL 209.158908 321.051291 \r\nL 214.231635 321.051291 \r\nL 214.231635 338.724269 \r\nL 219.304363 338.724269 \r\nL 219.304363 302.338726 \r\nL 224.37709 302.338726 \r\nL 224.37709 314.813769 \r\nL 229.449817 314.813769 \r\nL 229.449817 299.219966 \r\nL 234.522544 299.219966 \r\nL 234.522544 288.824096 \r\nL 239.595272 288.824096 \r\nL 239.595272 285.705336 \r\nL 244.667999 285.705336 \r\nL 244.667999 269.071945 \r\nL 249.740726 269.071945 \r\nL 249.740726 287.784509 \r\nL 254.813453 287.784509 \r\nL 254.813453 244.121859 \r\nL 259.886181 244.121859 \r\nL 259.886181 265.953184 \r\nL 264.958908 265.953184 \r\nL 264.958908 301.299139 \r\nL 270.031635 301.299139 \r\nL 270.031635 233.72599 \r\nL 275.104363 233.72599 \r\nL 275.104363 270.111532 \r\nL 280.17709 270.111532 \r\nL 280.17709 241.003098 \r\nL 285.249817 241.003098 \r\nL 285.249817 216.053012 \r\nL 290.322544 216.053012 \r\nL 290.322544 235.805164 \r\nL 295.395272 235.805164 \r\nL 295.395272 191.102926 \r\nL 300.467999 191.102926 \r\nL 300.467999 237.884337 \r\nL 305.540726 237.884337 \r\nL 305.540726 228.528055 \r\nL 310.613453 228.528055 \r\nL 310.613453 182.786231 \r\nL 315.686181 182.786231 \r\nL 315.686181 216.053012 \r\nL 320.758908 216.053012 \r\nL 320.758908 206.69673 \r\nL 325.831635 206.69673 \r\nL 325.831635 180.707057 \r\nL 330.904363 180.707057 \r\nL 330.904363 196.300861 \r\nL 335.97709 196.300861 \r\nL 335.97709 171.350775 \r\nL 341.049817 171.350775 \r\nL 341.049817 216.053012 \r\nL 346.122544 216.053012 \r\nL 346.122544 185.904991 \r\nL 351.195272 185.904991 \r\nL 351.195272 184.865404 \r\nL 356.267999 184.865404 \r\nL 356.267999 169.271601 \r\nL 361.340726 169.271601 \r\nL 361.340726 196.300861 \r\nL 366.413453 196.300861 \r\nL 366.413453 153.677797 \r\nL 371.486181 153.677797 \r\nL 371.486181 156.796558 \r\nL 376.558908 156.796558 \r\nL 376.558908 186.944578 \r\nL 381.631635 186.944578 \r\nL 381.631635 136.004819 \r\nL 386.704363 136.004819 \r\nL 386.704363 138.083993 \r\nL 391.77709 138.083993 \r\nL 391.77709 136.004819 \r\nL 396.849817 136.004819 \r\nL 396.849817 171.350775 \r\nL 401.922544 171.350775 \r\nL 401.922544 168.232014 \r\nL 406.995272 168.232014 \r\nL 406.995272 123.529776 \r\nL 412.067999 123.529776 \r\nL 412.067999 108.975559 \r\nL 417.140726 108.975559 \r\nL 417.140726 147.440275 \r\nL 422.213453 147.440275 \r\nL 422.213453 119.371429 \r\nL 427.286181 119.371429 \r\nL 427.286181 128.727711 \r\nL 432.358908 128.727711 \r\nL 432.358908 117.292255 \r\nL 437.431635 117.292255 \r\nL 437.431635 73.629604 \r\nL 442.504363 73.629604 \r\nL 442.504363 88.183821 \r\nL 447.57709 88.183821 \r\nL 447.57709 86.104647 \r\nL 452.649817 86.104647 \r\nL 452.649817 94.421343 \r\nL 457.722544 94.421343 \r\nL 457.722544 103.777625 \r\nL 462.795272 103.777625 \r\nL 462.795272 120.411015 \r\nL 467.867999 120.411015 \r\nL 467.867999 92.342169 \r\nL 472.940726 92.342169 \r\nL 472.940726 84.025473 \r\nL 478.013453 84.025473 \r\nL 478.013453 85.06506 \r\nL 483.086181 85.06506 \r\nL 483.086181 126.648537 \r\nL 488.158908 126.648537 \r\nL 488.158908 54.91704 \r\nL 493.231635 54.91704 \r\nL 493.231635 70.510843 \r\nL 498.304363 70.510843 \r\nL 498.304363 75.708778 \r\nL 503.37709 75.708778 \r\nL 503.37709 79.867126 \r\nL 508.449817 79.867126 \r\nL 508.449817 81.946299 \r\nL 513.522544 81.946299 \r\nL 513.522544 100.658864 \r\nL 518.595272 100.658864 \r\nL 518.595272 41.40241 \r\nL 523.667999 41.40241 \r\nL 523.667999 78.827539 \r\nL 528.740726 78.827539 \r\nL 528.740726 33.085714 \r\nL 533.813453 33.085714 \r\nL 533.813453 59.075387 \r\nL 538.886181 59.075387 \r\nL 538.886181 93.381756 \r\nL 543.958908 93.381756 \r\nL 543.958908 77.787952 \r\nL 549.031635 77.787952 \r\nL 549.031635 64.273322 \r\nL 554.104363 64.273322 \r\nL 554.104363 67.392083 \r\nL 559.17709 67.392083 \r\nL 559.17709 61.154561 \r\nL 564.249817 61.154561 \r\nL 564.249817 87.144234 \r\nL 569.322544 87.144234 \r\nL 569.322544 68.43167 \r\nL 574.395272 68.43167 \r\nL 574.395272 66.352496 \r\nL 579.467999 66.352496 \r\nL 579.467999 550.8 \r\nL 579.467999 550.8 \r\n\" style=\"fill:none;stroke:#000000;stroke-linejoin:miter;\"/>\r\n   </g>\r\n   <g id=\"matplotlib.axis_1\">\r\n    <g id=\"xtick_1\">\r\n     <g id=\"line2d_1\">\r\n      <defs>\r\n       <path d=\"M 0 0 \r\nL 0 -12 \r\n\" id=\"m70f74c612d\" style=\"stroke:#000000;stroke-width:0.8;\"/>\r\n      </defs>\r\n      <g>\r\n       <use style=\"stroke:#000000;stroke-width:0.8;\" x=\"72.195272\" xlink:href=\"#m70f74c612d\" y=\"550.8\"/>\r\n      </g>\r\n     </g>\r\n     <g id=\"line2d_2\">\r\n      <defs>\r\n       <path d=\"M 0 0 \r\nL 0 12 \r\n\" id=\"m7a5ebf9294\" style=\"stroke:#000000;stroke-width:0.8;\"/>\r\n      </defs>\r\n      <g>\r\n       <use style=\"stroke:#000000;stroke-width:0.8;\" x=\"72.195272\" xlink:href=\"#m7a5ebf9294\" y=\"7.2\"/>\r\n      </g>\r\n     </g>\r\n     <g id=\"text_1\">\r\n      <!-- 0.000 -->\r\n      <defs>\r\n       <path d=\"M 4.15625 35.296875 \r\nQ 4.15625 48 6.765625 55.734375 \r\nQ 9.375 63.484375 14.515625 67.671875 \r\nQ 19.671875 71.875 27.484375 71.875 \r\nQ 33.25 71.875 37.59375 69.546875 \r\nQ 41.9375 67.234375 44.765625 62.859375 \r\nQ 47.609375 58.5 49.21875 52.21875 \r\nQ 50.828125 45.953125 50.828125 35.296875 \r\nQ 50.828125 22.703125 48.234375 14.96875 \r\nQ 45.65625 7.234375 40.5 3 \r\nQ 35.359375 -1.21875 27.484375 -1.21875 \r\nQ 17.140625 -1.21875 11.234375 6.203125 \r\nQ 4.15625 15.140625 4.15625 35.296875 \r\nz\r\nM 13.1875 35.296875 \r\nQ 13.1875 17.671875 17.3125 11.828125 \r\nQ 21.4375 6 27.484375 6 \r\nQ 33.546875 6 37.671875 11.859375 \r\nQ 41.796875 17.71875 41.796875 35.296875 \r\nQ 41.796875 52.984375 37.671875 58.78125 \r\nQ 33.546875 64.59375 27.390625 64.59375 \r\nQ 21.34375 64.59375 17.71875 59.46875 \r\nQ 13.1875 52.9375 13.1875 35.296875 \r\nz\r\n\" id=\"ArialMT-48\"/>\r\n       <path d=\"M 9.078125 0 \r\nL 9.078125 10.015625 \r\nL 19.09375 10.015625 \r\nL 19.09375 0 \r\nz\r\n\" id=\"ArialMT-46\"/>\r\n      </defs>\r\n      <g transform=\"translate(45.099083 572.30239)scale(0.21658 -0.21658)\">\r\n       <use xlink:href=\"#ArialMT-48\"/>\r\n       <use x=\"55.615234\" xlink:href=\"#ArialMT-46\"/>\r\n       <use x=\"83.398438\" xlink:href=\"#ArialMT-48\"/>\r\n       <use x=\"139.013672\" xlink:href=\"#ArialMT-48\"/>\r\n       <use x=\"194.628906\" xlink:href=\"#ArialMT-48\"/>\r\n      </g>\r\n     </g>\r\n    </g>\r\n    <g id=\"xtick_2\">\r\n     <g id=\"line2d_3\">\r\n      <g>\r\n       <use style=\"stroke:#000000;stroke-width:0.8;\" x=\"199.013453\" xlink:href=\"#m70f74c612d\" y=\"550.8\"/>\r\n      </g>\r\n     </g>\r\n     <g id=\"line2d_4\">\r\n      <g>\r\n       <use style=\"stroke:#000000;stroke-width:0.8;\" x=\"199.013453\" xlink:href=\"#m7a5ebf9294\" y=\"7.2\"/>\r\n      </g>\r\n     </g>\r\n     <g id=\"text_2\">\r\n      <!-- 0.005 -->\r\n      <defs>\r\n       <path d=\"M 4.15625 18.75 \r\nL 13.375 19.53125 \r\nQ 14.40625 12.796875 18.140625 9.390625 \r\nQ 21.875 6 27.15625 6 \r\nQ 33.5 6 37.890625 10.78125 \r\nQ 42.28125 15.578125 42.28125 23.484375 \r\nQ 42.28125 31 38.0625 35.34375 \r\nQ 33.84375 39.703125 27 39.703125 \r\nQ 22.75 39.703125 19.328125 37.765625 \r\nQ 15.921875 35.84375 13.96875 32.765625 \r\nL 5.71875 33.84375 \r\nL 12.640625 70.609375 \r\nL 48.25 70.609375 \r\nL 48.25 62.203125 \r\nL 19.671875 62.203125 \r\nL 15.828125 42.96875 \r\nQ 22.265625 47.46875 29.34375 47.46875 \r\nQ 38.71875 47.46875 45.15625 40.96875 \r\nQ 51.609375 34.46875 51.609375 24.265625 \r\nQ 51.609375 14.546875 45.953125 7.46875 \r\nQ 39.0625 -1.21875 27.15625 -1.21875 \r\nQ 17.390625 -1.21875 11.203125 4.25 \r\nQ 5.03125 9.71875 4.15625 18.75 \r\nz\r\n\" id=\"ArialMT-53\"/>\r\n      </defs>\r\n      <g transform=\"translate(171.917265 572.30239)scale(0.21658 -0.21658)\">\r\n       <use xlink:href=\"#ArialMT-48\"/>\r\n       <use x=\"55.615234\" xlink:href=\"#ArialMT-46\"/>\r\n       <use x=\"83.398438\" xlink:href=\"#ArialMT-48\"/>\r\n       <use x=\"139.013672\" xlink:href=\"#ArialMT-48\"/>\r\n       <use x=\"194.628906\" xlink:href=\"#ArialMT-53\"/>\r\n      </g>\r\n     </g>\r\n    </g>\r\n    <g id=\"xtick_3\">\r\n     <g id=\"line2d_5\">\r\n      <g>\r\n       <use style=\"stroke:#000000;stroke-width:0.8;\" x=\"325.831635\" xlink:href=\"#m70f74c612d\" y=\"550.8\"/>\r\n      </g>\r\n     </g>\r\n     <g id=\"line2d_6\">\r\n      <g>\r\n       <use style=\"stroke:#000000;stroke-width:0.8;\" x=\"325.831635\" xlink:href=\"#m7a5ebf9294\" y=\"7.2\"/>\r\n      </g>\r\n     </g>\r\n     <g id=\"text_3\">\r\n      <!-- 0.010 -->\r\n      <defs>\r\n       <path d=\"M 37.25 0 \r\nL 28.46875 0 \r\nL 28.46875 56 \r\nQ 25.296875 52.984375 20.140625 49.953125 \r\nQ 14.984375 46.921875 10.890625 45.40625 \r\nL 10.890625 53.90625 \r\nQ 18.265625 57.375 23.78125 62.296875 \r\nQ 29.296875 67.234375 31.59375 71.875 \r\nL 37.25 71.875 \r\nz\r\n\" id=\"ArialMT-49\"/>\r\n      </defs>\r\n      <g transform=\"translate(298.735447 572.30239)scale(0.21658 -0.21658)\">\r\n       <use xlink:href=\"#ArialMT-48\"/>\r\n       <use x=\"55.615234\" xlink:href=\"#ArialMT-46\"/>\r\n       <use x=\"83.398438\" xlink:href=\"#ArialMT-48\"/>\r\n       <use x=\"139.013672\" xlink:href=\"#ArialMT-49\"/>\r\n       <use x=\"194.628906\" xlink:href=\"#ArialMT-48\"/>\r\n      </g>\r\n     </g>\r\n    </g>\r\n    <g id=\"xtick_4\">\r\n     <g id=\"line2d_7\">\r\n      <g>\r\n       <use style=\"stroke:#000000;stroke-width:0.8;\" x=\"452.649817\" xlink:href=\"#m70f74c612d\" y=\"550.8\"/>\r\n      </g>\r\n     </g>\r\n     <g id=\"line2d_8\">\r\n      <g>\r\n       <use style=\"stroke:#000000;stroke-width:0.8;\" x=\"452.649817\" xlink:href=\"#m7a5ebf9294\" y=\"7.2\"/>\r\n      </g>\r\n     </g>\r\n     <g id=\"text_4\">\r\n      <!-- 0.015 -->\r\n      <g transform=\"translate(425.553629 572.30239)scale(0.21658 -0.21658)\">\r\n       <use xlink:href=\"#ArialMT-48\"/>\r\n       <use x=\"55.615234\" xlink:href=\"#ArialMT-46\"/>\r\n       <use x=\"83.398438\" xlink:href=\"#ArialMT-48\"/>\r\n       <use x=\"139.013672\" xlink:href=\"#ArialMT-49\"/>\r\n       <use x=\"194.628906\" xlink:href=\"#ArialMT-53\"/>\r\n      </g>\r\n     </g>\r\n    </g>\r\n    <g id=\"xtick_5\">\r\n     <g id=\"line2d_9\">\r\n      <g>\r\n       <use style=\"stroke:#000000;stroke-width:0.8;\" x=\"579.467999\" xlink:href=\"#m70f74c612d\" y=\"550.8\"/>\r\n      </g>\r\n     </g>\r\n     <g id=\"line2d_10\">\r\n      <g>\r\n       <use style=\"stroke:#000000;stroke-width:0.8;\" x=\"579.467999\" xlink:href=\"#m7a5ebf9294\" y=\"7.2\"/>\r\n      </g>\r\n     </g>\r\n     <g id=\"text_5\">\r\n      <!-- 0.020 -->\r\n      <defs>\r\n       <path d=\"M 50.34375 8.453125 \r\nL 50.34375 0 \r\nL 3.03125 0 \r\nQ 2.9375 3.171875 4.046875 6.109375 \r\nQ 5.859375 10.9375 9.828125 15.625 \r\nQ 13.8125 20.3125 21.34375 26.46875 \r\nQ 33.015625 36.03125 37.109375 41.625 \r\nQ 41.21875 47.21875 41.21875 52.203125 \r\nQ 41.21875 57.421875 37.46875 61 \r\nQ 33.734375 64.59375 27.734375 64.59375 \r\nQ 21.390625 64.59375 17.578125 60.78125 \r\nQ 13.765625 56.984375 13.71875 50.25 \r\nL 4.6875 51.171875 \r\nQ 5.609375 61.28125 11.65625 66.578125 \r\nQ 17.71875 71.875 27.9375 71.875 \r\nQ 38.234375 71.875 44.234375 66.15625 \r\nQ 50.25 60.453125 50.25 52 \r\nQ 50.25 47.703125 48.484375 43.546875 \r\nQ 46.734375 39.40625 42.65625 34.8125 \r\nQ 38.578125 30.21875 29.109375 22.21875 \r\nQ 21.1875 15.578125 18.9375 13.203125 \r\nQ 16.703125 10.84375 15.234375 8.453125 \r\nz\r\n\" id=\"ArialMT-50\"/>\r\n      </defs>\r\n      <g transform=\"translate(552.371811 572.30239)scale(0.21658 -0.21658)\">\r\n       <use xlink:href=\"#ArialMT-48\"/>\r\n       <use x=\"55.615234\" xlink:href=\"#ArialMT-46\"/>\r\n       <use x=\"83.398438\" xlink:href=\"#ArialMT-48\"/>\r\n       <use x=\"139.013672\" xlink:href=\"#ArialMT-50\"/>\r\n       <use x=\"194.628906\" xlink:href=\"#ArialMT-48\"/>\r\n      </g>\r\n     </g>\r\n    </g>\r\n    <g id=\"xtick_6\">\r\n     <g id=\"line2d_11\">\r\n      <defs>\r\n       <path d=\"M 0 0 \r\nL 0 -6 \r\n\" id=\"mba8f5e6be0\" style=\"stroke:#000000;stroke-width:0.6;\"/>\r\n      </defs>\r\n      <g>\r\n       <use style=\"stroke:#000000;stroke-width:0.6;\" x=\"97.558908\" xlink:href=\"#mba8f5e6be0\" y=\"550.8\"/>\r\n      </g>\r\n     </g>\r\n     <g id=\"line2d_12\">\r\n      <defs>\r\n       <path d=\"M 0 0 \r\nL 0 6 \r\n\" id=\"m3df9adf8ae\" style=\"stroke:#000000;stroke-width:0.6;\"/>\r\n      </defs>\r\n      <g>\r\n       <use style=\"stroke:#000000;stroke-width:0.6;\" x=\"97.558908\" xlink:href=\"#m3df9adf8ae\" y=\"7.2\"/>\r\n      </g>\r\n     </g>\r\n    </g>\r\n    <g id=\"xtick_7\">\r\n     <g id=\"line2d_13\">\r\n      <g>\r\n       <use style=\"stroke:#000000;stroke-width:0.6;\" x=\"122.922544\" xlink:href=\"#mba8f5e6be0\" y=\"550.8\"/>\r\n      </g>\r\n     </g>\r\n     <g id=\"line2d_14\">\r\n      <g>\r\n       <use style=\"stroke:#000000;stroke-width:0.6;\" x=\"122.922544\" xlink:href=\"#m3df9adf8ae\" y=\"7.2\"/>\r\n      </g>\r\n     </g>\r\n    </g>\r\n    <g id=\"xtick_8\">\r\n     <g id=\"line2d_15\">\r\n      <g>\r\n       <use style=\"stroke:#000000;stroke-width:0.6;\" x=\"148.286181\" xlink:href=\"#mba8f5e6be0\" y=\"550.8\"/>\r\n      </g>\r\n     </g>\r\n     <g id=\"line2d_16\">\r\n      <g>\r\n       <use style=\"stroke:#000000;stroke-width:0.6;\" x=\"148.286181\" xlink:href=\"#m3df9adf8ae\" y=\"7.2\"/>\r\n      </g>\r\n     </g>\r\n    </g>\r\n    <g id=\"xtick_9\">\r\n     <g id=\"line2d_17\">\r\n      <g>\r\n       <use style=\"stroke:#000000;stroke-width:0.6;\" x=\"173.649817\" xlink:href=\"#mba8f5e6be0\" y=\"550.8\"/>\r\n      </g>\r\n     </g>\r\n     <g id=\"line2d_18\">\r\n      <g>\r\n       <use style=\"stroke:#000000;stroke-width:0.6;\" x=\"173.649817\" xlink:href=\"#m3df9adf8ae\" y=\"7.2\"/>\r\n      </g>\r\n     </g>\r\n    </g>\r\n    <g id=\"xtick_10\">\r\n     <g id=\"line2d_19\">\r\n      <g>\r\n       <use style=\"stroke:#000000;stroke-width:0.6;\" x=\"224.37709\" xlink:href=\"#mba8f5e6be0\" y=\"550.8\"/>\r\n      </g>\r\n     </g>\r\n     <g id=\"line2d_20\">\r\n      <g>\r\n       <use style=\"stroke:#000000;stroke-width:0.6;\" x=\"224.37709\" xlink:href=\"#m3df9adf8ae\" y=\"7.2\"/>\r\n      </g>\r\n     </g>\r\n    </g>\r\n    <g id=\"xtick_11\">\r\n     <g id=\"line2d_21\">\r\n      <g>\r\n       <use style=\"stroke:#000000;stroke-width:0.6;\" x=\"249.740726\" xlink:href=\"#mba8f5e6be0\" y=\"550.8\"/>\r\n      </g>\r\n     </g>\r\n     <g id=\"line2d_22\">\r\n      <g>\r\n       <use style=\"stroke:#000000;stroke-width:0.6;\" x=\"249.740726\" xlink:href=\"#m3df9adf8ae\" y=\"7.2\"/>\r\n      </g>\r\n     </g>\r\n    </g>\r\n    <g id=\"xtick_12\">\r\n     <g id=\"line2d_23\">\r\n      <g>\r\n       <use style=\"stroke:#000000;stroke-width:0.6;\" x=\"275.104363\" xlink:href=\"#mba8f5e6be0\" y=\"550.8\"/>\r\n      </g>\r\n     </g>\r\n     <g id=\"line2d_24\">\r\n      <g>\r\n       <use style=\"stroke:#000000;stroke-width:0.6;\" x=\"275.104363\" xlink:href=\"#m3df9adf8ae\" y=\"7.2\"/>\r\n      </g>\r\n     </g>\r\n    </g>\r\n    <g id=\"xtick_13\">\r\n     <g id=\"line2d_25\">\r\n      <g>\r\n       <use style=\"stroke:#000000;stroke-width:0.6;\" x=\"300.467999\" xlink:href=\"#mba8f5e6be0\" y=\"550.8\"/>\r\n      </g>\r\n     </g>\r\n     <g id=\"line2d_26\">\r\n      <g>\r\n       <use style=\"stroke:#000000;stroke-width:0.6;\" x=\"300.467999\" xlink:href=\"#m3df9adf8ae\" y=\"7.2\"/>\r\n      </g>\r\n     </g>\r\n    </g>\r\n    <g id=\"xtick_14\">\r\n     <g id=\"line2d_27\">\r\n      <g>\r\n       <use style=\"stroke:#000000;stroke-width:0.6;\" x=\"351.195272\" xlink:href=\"#mba8f5e6be0\" y=\"550.8\"/>\r\n      </g>\r\n     </g>\r\n     <g id=\"line2d_28\">\r\n      <g>\r\n       <use style=\"stroke:#000000;stroke-width:0.6;\" x=\"351.195272\" xlink:href=\"#m3df9adf8ae\" y=\"7.2\"/>\r\n      </g>\r\n     </g>\r\n    </g>\r\n    <g id=\"xtick_15\">\r\n     <g id=\"line2d_29\">\r\n      <g>\r\n       <use style=\"stroke:#000000;stroke-width:0.6;\" x=\"376.558908\" xlink:href=\"#mba8f5e6be0\" y=\"550.8\"/>\r\n      </g>\r\n     </g>\r\n     <g id=\"line2d_30\">\r\n      <g>\r\n       <use style=\"stroke:#000000;stroke-width:0.6;\" x=\"376.558908\" xlink:href=\"#m3df9adf8ae\" y=\"7.2\"/>\r\n      </g>\r\n     </g>\r\n    </g>\r\n    <g id=\"xtick_16\">\r\n     <g id=\"line2d_31\">\r\n      <g>\r\n       <use style=\"stroke:#000000;stroke-width:0.6;\" x=\"401.922544\" xlink:href=\"#mba8f5e6be0\" y=\"550.8\"/>\r\n      </g>\r\n     </g>\r\n     <g id=\"line2d_32\">\r\n      <g>\r\n       <use style=\"stroke:#000000;stroke-width:0.6;\" x=\"401.922544\" xlink:href=\"#m3df9adf8ae\" y=\"7.2\"/>\r\n      </g>\r\n     </g>\r\n    </g>\r\n    <g id=\"xtick_17\">\r\n     <g id=\"line2d_33\">\r\n      <g>\r\n       <use style=\"stroke:#000000;stroke-width:0.6;\" x=\"427.286181\" xlink:href=\"#mba8f5e6be0\" y=\"550.8\"/>\r\n      </g>\r\n     </g>\r\n     <g id=\"line2d_34\">\r\n      <g>\r\n       <use style=\"stroke:#000000;stroke-width:0.6;\" x=\"427.286181\" xlink:href=\"#m3df9adf8ae\" y=\"7.2\"/>\r\n      </g>\r\n     </g>\r\n    </g>\r\n    <g id=\"xtick_18\">\r\n     <g id=\"line2d_35\">\r\n      <g>\r\n       <use style=\"stroke:#000000;stroke-width:0.6;\" x=\"478.013453\" xlink:href=\"#mba8f5e6be0\" y=\"550.8\"/>\r\n      </g>\r\n     </g>\r\n     <g id=\"line2d_36\">\r\n      <g>\r\n       <use style=\"stroke:#000000;stroke-width:0.6;\" x=\"478.013453\" xlink:href=\"#m3df9adf8ae\" y=\"7.2\"/>\r\n      </g>\r\n     </g>\r\n    </g>\r\n    <g id=\"xtick_19\">\r\n     <g id=\"line2d_37\">\r\n      <g>\r\n       <use style=\"stroke:#000000;stroke-width:0.6;\" x=\"503.37709\" xlink:href=\"#mba8f5e6be0\" y=\"550.8\"/>\r\n      </g>\r\n     </g>\r\n     <g id=\"line2d_38\">\r\n      <g>\r\n       <use style=\"stroke:#000000;stroke-width:0.6;\" x=\"503.37709\" xlink:href=\"#m3df9adf8ae\" y=\"7.2\"/>\r\n      </g>\r\n     </g>\r\n    </g>\r\n    <g id=\"xtick_20\">\r\n     <g id=\"line2d_39\">\r\n      <g>\r\n       <use style=\"stroke:#000000;stroke-width:0.6;\" x=\"528.740726\" xlink:href=\"#mba8f5e6be0\" y=\"550.8\"/>\r\n      </g>\r\n     </g>\r\n     <g id=\"line2d_40\">\r\n      <g>\r\n       <use style=\"stroke:#000000;stroke-width:0.6;\" x=\"528.740726\" xlink:href=\"#m3df9adf8ae\" y=\"7.2\"/>\r\n      </g>\r\n     </g>\r\n    </g>\r\n    <g id=\"xtick_21\">\r\n     <g id=\"line2d_41\">\r\n      <g>\r\n       <use style=\"stroke:#000000;stroke-width:0.6;\" x=\"554.104363\" xlink:href=\"#mba8f5e6be0\" y=\"550.8\"/>\r\n      </g>\r\n     </g>\r\n     <g id=\"line2d_42\">\r\n      <g>\r\n       <use style=\"stroke:#000000;stroke-width:0.6;\" x=\"554.104363\" xlink:href=\"#m3df9adf8ae\" y=\"7.2\"/>\r\n      </g>\r\n     </g>\r\n    </g>\r\n    <g id=\"xtick_22\">\r\n     <g id=\"line2d_43\">\r\n      <g>\r\n       <use style=\"stroke:#000000;stroke-width:0.6;\" x=\"604.831635\" xlink:href=\"#mba8f5e6be0\" y=\"550.8\"/>\r\n      </g>\r\n     </g>\r\n     <g id=\"line2d_44\">\r\n      <g>\r\n       <use style=\"stroke:#000000;stroke-width:0.6;\" x=\"604.831635\" xlink:href=\"#m3df9adf8ae\" y=\"7.2\"/>\r\n      </g>\r\n     </g>\r\n    </g>\r\n   </g>\r\n   <g id=\"matplotlib.axis_2\">\r\n    <g id=\"ytick_1\">\r\n     <g id=\"line2d_45\">\r\n      <defs>\r\n       <path d=\"M 0 0 \r\nL 12 0 \r\n\" id=\"mfa29ab3645\" style=\"stroke:#000000;stroke-width:0.8;\"/>\r\n      </defs>\r\n      <g>\r\n       <use style=\"stroke:#000000;stroke-width:0.8;\" x=\"46.831635\" xlink:href=\"#mfa29ab3645\" y=\"550.8\"/>\r\n      </g>\r\n     </g>\r\n     <g id=\"line2d_46\">\r\n      <defs>\r\n       <path d=\"M 0 0 \r\nL -12 0 \r\n\" id=\"m4f0c19449f\" style=\"stroke:#000000;stroke-width:0.8;\"/>\r\n      </defs>\r\n      <g>\r\n       <use style=\"stroke:#000000;stroke-width:0.8;\" x=\"604.831635\" xlink:href=\"#m4f0c19449f\" y=\"550.8\"/>\r\n      </g>\r\n     </g>\r\n     <g id=\"text_6\">\r\n      <!-- 0 -->\r\n      <g transform=\"translate(31.287757 558.551195)scale(0.21658 -0.21658)\">\r\n       <use xlink:href=\"#ArialMT-48\"/>\r\n      </g>\r\n     </g>\r\n    </g>\r\n    <g id=\"ytick_2\">\r\n     <g id=\"line2d_47\">\r\n      <g>\r\n       <use style=\"stroke:#000000;stroke-width:0.8;\" x=\"46.831635\" xlink:href=\"#mfa29ab3645\" y=\"446.841308\"/>\r\n      </g>\r\n     </g>\r\n     <g id=\"line2d_48\">\r\n      <g>\r\n       <use style=\"stroke:#000000;stroke-width:0.8;\" x=\"604.831635\" xlink:href=\"#m4f0c19449f\" y=\"446.841308\"/>\r\n      </g>\r\n     </g>\r\n     <g id=\"text_7\">\r\n      <!-- 100 -->\r\n      <g transform=\"translate(7.2 454.592503)scale(0.21658 -0.21658)\">\r\n       <use xlink:href=\"#ArialMT-49\"/>\r\n       <use x=\"55.615234\" xlink:href=\"#ArialMT-48\"/>\r\n       <use x=\"111.230469\" xlink:href=\"#ArialMT-48\"/>\r\n      </g>\r\n     </g>\r\n    </g>\r\n    <g id=\"ytick_3\">\r\n     <g id=\"line2d_49\">\r\n      <g>\r\n       <use style=\"stroke:#000000;stroke-width:0.8;\" x=\"46.831635\" xlink:href=\"#mfa29ab3645\" y=\"342.882616\"/>\r\n      </g>\r\n     </g>\r\n     <g id=\"line2d_50\">\r\n      <g>\r\n       <use style=\"stroke:#000000;stroke-width:0.8;\" x=\"604.831635\" xlink:href=\"#m4f0c19449f\" y=\"342.882616\"/>\r\n      </g>\r\n     </g>\r\n     <g id=\"text_8\">\r\n      <!-- 200 -->\r\n      <g transform=\"translate(7.2 350.633811)scale(0.21658 -0.21658)\">\r\n       <use xlink:href=\"#ArialMT-50\"/>\r\n       <use x=\"55.615234\" xlink:href=\"#ArialMT-48\"/>\r\n       <use x=\"111.230469\" xlink:href=\"#ArialMT-48\"/>\r\n      </g>\r\n     </g>\r\n    </g>\r\n    <g id=\"ytick_4\">\r\n     <g id=\"line2d_51\">\r\n      <g>\r\n       <use style=\"stroke:#000000;stroke-width:0.8;\" x=\"46.831635\" xlink:href=\"#mfa29ab3645\" y=\"238.923924\"/>\r\n      </g>\r\n     </g>\r\n     <g id=\"line2d_52\">\r\n      <g>\r\n       <use style=\"stroke:#000000;stroke-width:0.8;\" x=\"604.831635\" xlink:href=\"#m4f0c19449f\" y=\"238.923924\"/>\r\n      </g>\r\n     </g>\r\n     <g id=\"text_9\">\r\n      <!-- 300 -->\r\n      <defs>\r\n       <path d=\"M 4.203125 18.890625 \r\nL 12.984375 20.0625 \r\nQ 14.5 12.59375 18.140625 9.296875 \r\nQ 21.78125 6 27 6 \r\nQ 33.203125 6 37.46875 10.296875 \r\nQ 41.75 14.59375 41.75 20.953125 \r\nQ 41.75 27 37.796875 30.921875 \r\nQ 33.84375 34.859375 27.734375 34.859375 \r\nQ 25.25 34.859375 21.53125 33.890625 \r\nL 22.515625 41.609375 \r\nQ 23.390625 41.5 23.921875 41.5 \r\nQ 29.546875 41.5 34.03125 44.421875 \r\nQ 38.53125 47.359375 38.53125 53.46875 \r\nQ 38.53125 58.296875 35.25 61.46875 \r\nQ 31.984375 64.65625 26.8125 64.65625 \r\nQ 21.6875 64.65625 18.265625 61.421875 \r\nQ 14.84375 58.203125 13.875 51.765625 \r\nL 5.078125 53.328125 \r\nQ 6.6875 62.15625 12.390625 67.015625 \r\nQ 18.109375 71.875 26.609375 71.875 \r\nQ 32.46875 71.875 37.390625 69.359375 \r\nQ 42.328125 66.84375 44.9375 62.5 \r\nQ 47.5625 58.15625 47.5625 53.265625 \r\nQ 47.5625 48.640625 45.0625 44.828125 \r\nQ 42.578125 41.015625 37.703125 38.765625 \r\nQ 44.046875 37.3125 47.5625 32.6875 \r\nQ 51.078125 28.078125 51.078125 21.140625 \r\nQ 51.078125 11.765625 44.234375 5.25 \r\nQ 37.40625 -1.265625 26.953125 -1.265625 \r\nQ 17.53125 -1.265625 11.296875 4.34375 \r\nQ 5.078125 9.96875 4.203125 18.890625 \r\nz\r\n\" id=\"ArialMT-51\"/>\r\n      </defs>\r\n      <g transform=\"translate(7.2 246.675119)scale(0.21658 -0.21658)\">\r\n       <use xlink:href=\"#ArialMT-51\"/>\r\n       <use x=\"55.615234\" xlink:href=\"#ArialMT-48\"/>\r\n       <use x=\"111.230469\" xlink:href=\"#ArialMT-48\"/>\r\n      </g>\r\n     </g>\r\n    </g>\r\n    <g id=\"ytick_5\">\r\n     <g id=\"line2d_53\">\r\n      <g>\r\n       <use style=\"stroke:#000000;stroke-width:0.8;\" x=\"46.831635\" xlink:href=\"#mfa29ab3645\" y=\"134.965232\"/>\r\n      </g>\r\n     </g>\r\n     <g id=\"line2d_54\">\r\n      <g>\r\n       <use style=\"stroke:#000000;stroke-width:0.8;\" x=\"604.831635\" xlink:href=\"#m4f0c19449f\" y=\"134.965232\"/>\r\n      </g>\r\n     </g>\r\n     <g id=\"text_10\">\r\n      <!-- 400 -->\r\n      <defs>\r\n       <path d=\"M 32.328125 0 \r\nL 32.328125 17.140625 \r\nL 1.265625 17.140625 \r\nL 1.265625 25.203125 \r\nL 33.9375 71.578125 \r\nL 41.109375 71.578125 \r\nL 41.109375 25.203125 \r\nL 50.78125 25.203125 \r\nL 50.78125 17.140625 \r\nL 41.109375 17.140625 \r\nL 41.109375 0 \r\nz\r\nM 32.328125 25.203125 \r\nL 32.328125 57.46875 \r\nL 9.90625 25.203125 \r\nz\r\n\" id=\"ArialMT-52\"/>\r\n      </defs>\r\n      <g transform=\"translate(7.2 142.716428)scale(0.21658 -0.21658)\">\r\n       <use xlink:href=\"#ArialMT-52\"/>\r\n       <use x=\"55.615234\" xlink:href=\"#ArialMT-48\"/>\r\n       <use x=\"111.230469\" xlink:href=\"#ArialMT-48\"/>\r\n      </g>\r\n     </g>\r\n    </g>\r\n    <g id=\"ytick_6\">\r\n     <g id=\"line2d_55\">\r\n      <g>\r\n       <use style=\"stroke:#000000;stroke-width:0.8;\" x=\"46.831635\" xlink:href=\"#mfa29ab3645\" y=\"31.00654\"/>\r\n      </g>\r\n     </g>\r\n     <g id=\"line2d_56\">\r\n      <g>\r\n       <use style=\"stroke:#000000;stroke-width:0.8;\" x=\"604.831635\" xlink:href=\"#m4f0c19449f\" y=\"31.00654\"/>\r\n      </g>\r\n     </g>\r\n     <g id=\"text_11\">\r\n      <!-- 500 -->\r\n      <g transform=\"translate(7.2 38.757736)scale(0.21658 -0.21658)\">\r\n       <use xlink:href=\"#ArialMT-53\"/>\r\n       <use x=\"55.615234\" xlink:href=\"#ArialMT-48\"/>\r\n       <use x=\"111.230469\" xlink:href=\"#ArialMT-48\"/>\r\n      </g>\r\n     </g>\r\n    </g>\r\n    <g id=\"ytick_7\">\r\n     <g id=\"line2d_57\">\r\n      <defs>\r\n       <path d=\"M 0 0 \r\nL 6 0 \r\n\" id=\"m128b8fdcdf\" style=\"stroke:#000000;stroke-width:0.6;\"/>\r\n      </defs>\r\n      <g>\r\n       <use style=\"stroke:#000000;stroke-width:0.6;\" x=\"46.831635\" xlink:href=\"#m128b8fdcdf\" y=\"530.008262\"/>\r\n      </g>\r\n     </g>\r\n     <g id=\"line2d_58\">\r\n      <defs>\r\n       <path d=\"M 0 0 \r\nL -6 0 \r\n\" id=\"mcd98f08b0b\" style=\"stroke:#000000;stroke-width:0.6;\"/>\r\n      </defs>\r\n      <g>\r\n       <use style=\"stroke:#000000;stroke-width:0.6;\" x=\"604.831635\" xlink:href=\"#mcd98f08b0b\" y=\"530.008262\"/>\r\n      </g>\r\n     </g>\r\n    </g>\r\n    <g id=\"ytick_8\">\r\n     <g id=\"line2d_59\">\r\n      <g>\r\n       <use style=\"stroke:#000000;stroke-width:0.6;\" x=\"46.831635\" xlink:href=\"#m128b8fdcdf\" y=\"509.216523\"/>\r\n      </g>\r\n     </g>\r\n     <g id=\"line2d_60\">\r\n      <g>\r\n       <use style=\"stroke:#000000;stroke-width:0.6;\" x=\"604.831635\" xlink:href=\"#mcd98f08b0b\" y=\"509.216523\"/>\r\n      </g>\r\n     </g>\r\n    </g>\r\n    <g id=\"ytick_9\">\r\n     <g id=\"line2d_61\">\r\n      <g>\r\n       <use style=\"stroke:#000000;stroke-width:0.6;\" x=\"46.831635\" xlink:href=\"#m128b8fdcdf\" y=\"488.424785\"/>\r\n      </g>\r\n     </g>\r\n     <g id=\"line2d_62\">\r\n      <g>\r\n       <use style=\"stroke:#000000;stroke-width:0.6;\" x=\"604.831635\" xlink:href=\"#mcd98f08b0b\" y=\"488.424785\"/>\r\n      </g>\r\n     </g>\r\n    </g>\r\n    <g id=\"ytick_10\">\r\n     <g id=\"line2d_63\">\r\n      <g>\r\n       <use style=\"stroke:#000000;stroke-width:0.6;\" x=\"46.831635\" xlink:href=\"#m128b8fdcdf\" y=\"467.633046\"/>\r\n      </g>\r\n     </g>\r\n     <g id=\"line2d_64\">\r\n      <g>\r\n       <use style=\"stroke:#000000;stroke-width:0.6;\" x=\"604.831635\" xlink:href=\"#mcd98f08b0b\" y=\"467.633046\"/>\r\n      </g>\r\n     </g>\r\n    </g>\r\n    <g id=\"ytick_11\">\r\n     <g id=\"line2d_65\">\r\n      <g>\r\n       <use style=\"stroke:#000000;stroke-width:0.6;\" x=\"46.831635\" xlink:href=\"#m128b8fdcdf\" y=\"426.04957\"/>\r\n      </g>\r\n     </g>\r\n     <g id=\"line2d_66\">\r\n      <g>\r\n       <use style=\"stroke:#000000;stroke-width:0.6;\" x=\"604.831635\" xlink:href=\"#mcd98f08b0b\" y=\"426.04957\"/>\r\n      </g>\r\n     </g>\r\n    </g>\r\n    <g id=\"ytick_12\">\r\n     <g id=\"line2d_67\">\r\n      <g>\r\n       <use style=\"stroke:#000000;stroke-width:0.6;\" x=\"46.831635\" xlink:href=\"#m128b8fdcdf\" y=\"405.257831\"/>\r\n      </g>\r\n     </g>\r\n     <g id=\"line2d_68\">\r\n      <g>\r\n       <use style=\"stroke:#000000;stroke-width:0.6;\" x=\"604.831635\" xlink:href=\"#mcd98f08b0b\" y=\"405.257831\"/>\r\n      </g>\r\n     </g>\r\n    </g>\r\n    <g id=\"ytick_13\">\r\n     <g id=\"line2d_69\">\r\n      <g>\r\n       <use style=\"stroke:#000000;stroke-width:0.6;\" x=\"46.831635\" xlink:href=\"#m128b8fdcdf\" y=\"384.466093\"/>\r\n      </g>\r\n     </g>\r\n     <g id=\"line2d_70\">\r\n      <g>\r\n       <use style=\"stroke:#000000;stroke-width:0.6;\" x=\"604.831635\" xlink:href=\"#mcd98f08b0b\" y=\"384.466093\"/>\r\n      </g>\r\n     </g>\r\n    </g>\r\n    <g id=\"ytick_14\">\r\n     <g id=\"line2d_71\">\r\n      <g>\r\n       <use style=\"stroke:#000000;stroke-width:0.6;\" x=\"46.831635\" xlink:href=\"#m128b8fdcdf\" y=\"363.674355\"/>\r\n      </g>\r\n     </g>\r\n     <g id=\"line2d_72\">\r\n      <g>\r\n       <use style=\"stroke:#000000;stroke-width:0.6;\" x=\"604.831635\" xlink:href=\"#mcd98f08b0b\" y=\"363.674355\"/>\r\n      </g>\r\n     </g>\r\n    </g>\r\n    <g id=\"ytick_15\">\r\n     <g id=\"line2d_73\">\r\n      <g>\r\n       <use style=\"stroke:#000000;stroke-width:0.6;\" x=\"46.831635\" xlink:href=\"#m128b8fdcdf\" y=\"322.090878\"/>\r\n      </g>\r\n     </g>\r\n     <g id=\"line2d_74\">\r\n      <g>\r\n       <use style=\"stroke:#000000;stroke-width:0.6;\" x=\"604.831635\" xlink:href=\"#mcd98f08b0b\" y=\"322.090878\"/>\r\n      </g>\r\n     </g>\r\n    </g>\r\n    <g id=\"ytick_16\">\r\n     <g id=\"line2d_75\">\r\n      <g>\r\n       <use style=\"stroke:#000000;stroke-width:0.6;\" x=\"46.831635\" xlink:href=\"#m128b8fdcdf\" y=\"301.299139\"/>\r\n      </g>\r\n     </g>\r\n     <g id=\"line2d_76\">\r\n      <g>\r\n       <use style=\"stroke:#000000;stroke-width:0.6;\" x=\"604.831635\" xlink:href=\"#mcd98f08b0b\" y=\"301.299139\"/>\r\n      </g>\r\n     </g>\r\n    </g>\r\n    <g id=\"ytick_17\">\r\n     <g id=\"line2d_77\">\r\n      <g>\r\n       <use style=\"stroke:#000000;stroke-width:0.6;\" x=\"46.831635\" xlink:href=\"#m128b8fdcdf\" y=\"280.507401\"/>\r\n      </g>\r\n     </g>\r\n     <g id=\"line2d_78\">\r\n      <g>\r\n       <use style=\"stroke:#000000;stroke-width:0.6;\" x=\"604.831635\" xlink:href=\"#mcd98f08b0b\" y=\"280.507401\"/>\r\n      </g>\r\n     </g>\r\n    </g>\r\n    <g id=\"ytick_18\">\r\n     <g id=\"line2d_79\">\r\n      <g>\r\n       <use style=\"stroke:#000000;stroke-width:0.6;\" x=\"46.831635\" xlink:href=\"#m128b8fdcdf\" y=\"259.715663\"/>\r\n      </g>\r\n     </g>\r\n     <g id=\"line2d_80\">\r\n      <g>\r\n       <use style=\"stroke:#000000;stroke-width:0.6;\" x=\"604.831635\" xlink:href=\"#mcd98f08b0b\" y=\"259.715663\"/>\r\n      </g>\r\n     </g>\r\n    </g>\r\n    <g id=\"ytick_19\">\r\n     <g id=\"line2d_81\">\r\n      <g>\r\n       <use style=\"stroke:#000000;stroke-width:0.6;\" x=\"46.831635\" xlink:href=\"#m128b8fdcdf\" y=\"218.132186\"/>\r\n      </g>\r\n     </g>\r\n     <g id=\"line2d_82\">\r\n      <g>\r\n       <use style=\"stroke:#000000;stroke-width:0.6;\" x=\"604.831635\" xlink:href=\"#mcd98f08b0b\" y=\"218.132186\"/>\r\n      </g>\r\n     </g>\r\n    </g>\r\n    <g id=\"ytick_20\">\r\n     <g id=\"line2d_83\">\r\n      <g>\r\n       <use style=\"stroke:#000000;stroke-width:0.6;\" x=\"46.831635\" xlink:href=\"#m128b8fdcdf\" y=\"197.340448\"/>\r\n      </g>\r\n     </g>\r\n     <g id=\"line2d_84\">\r\n      <g>\r\n       <use style=\"stroke:#000000;stroke-width:0.6;\" x=\"604.831635\" xlink:href=\"#mcd98f08b0b\" y=\"197.340448\"/>\r\n      </g>\r\n     </g>\r\n    </g>\r\n    <g id=\"ytick_21\">\r\n     <g id=\"line2d_85\">\r\n      <g>\r\n       <use style=\"stroke:#000000;stroke-width:0.6;\" x=\"46.831635\" xlink:href=\"#m128b8fdcdf\" y=\"176.548709\"/>\r\n      </g>\r\n     </g>\r\n     <g id=\"line2d_86\">\r\n      <g>\r\n       <use style=\"stroke:#000000;stroke-width:0.6;\" x=\"604.831635\" xlink:href=\"#mcd98f08b0b\" y=\"176.548709\"/>\r\n      </g>\r\n     </g>\r\n    </g>\r\n    <g id=\"ytick_22\">\r\n     <g id=\"line2d_87\">\r\n      <g>\r\n       <use style=\"stroke:#000000;stroke-width:0.6;\" x=\"46.831635\" xlink:href=\"#m128b8fdcdf\" y=\"155.756971\"/>\r\n      </g>\r\n     </g>\r\n     <g id=\"line2d_88\">\r\n      <g>\r\n       <use style=\"stroke:#000000;stroke-width:0.6;\" x=\"604.831635\" xlink:href=\"#mcd98f08b0b\" y=\"155.756971\"/>\r\n      </g>\r\n     </g>\r\n    </g>\r\n    <g id=\"ytick_23\">\r\n     <g id=\"line2d_89\">\r\n      <g>\r\n       <use style=\"stroke:#000000;stroke-width:0.6;\" x=\"46.831635\" xlink:href=\"#m128b8fdcdf\" y=\"114.173494\"/>\r\n      </g>\r\n     </g>\r\n     <g id=\"line2d_90\">\r\n      <g>\r\n       <use style=\"stroke:#000000;stroke-width:0.6;\" x=\"604.831635\" xlink:href=\"#mcd98f08b0b\" y=\"114.173494\"/>\r\n      </g>\r\n     </g>\r\n    </g>\r\n    <g id=\"ytick_24\">\r\n     <g id=\"line2d_91\">\r\n      <g>\r\n       <use style=\"stroke:#000000;stroke-width:0.6;\" x=\"46.831635\" xlink:href=\"#m128b8fdcdf\" y=\"93.381756\"/>\r\n      </g>\r\n     </g>\r\n     <g id=\"line2d_92\">\r\n      <g>\r\n       <use style=\"stroke:#000000;stroke-width:0.6;\" x=\"604.831635\" xlink:href=\"#mcd98f08b0b\" y=\"93.381756\"/>\r\n      </g>\r\n     </g>\r\n    </g>\r\n    <g id=\"ytick_25\">\r\n     <g id=\"line2d_93\">\r\n      <g>\r\n       <use style=\"stroke:#000000;stroke-width:0.6;\" x=\"46.831635\" xlink:href=\"#m128b8fdcdf\" y=\"72.590017\"/>\r\n      </g>\r\n     </g>\r\n     <g id=\"line2d_94\">\r\n      <g>\r\n       <use style=\"stroke:#000000;stroke-width:0.6;\" x=\"604.831635\" xlink:href=\"#mcd98f08b0b\" y=\"72.590017\"/>\r\n      </g>\r\n     </g>\r\n    </g>\r\n    <g id=\"ytick_26\">\r\n     <g id=\"line2d_95\">\r\n      <g>\r\n       <use style=\"stroke:#000000;stroke-width:0.6;\" x=\"46.831635\" xlink:href=\"#m128b8fdcdf\" y=\"51.798279\"/>\r\n      </g>\r\n     </g>\r\n     <g id=\"line2d_96\">\r\n      <g>\r\n       <use style=\"stroke:#000000;stroke-width:0.6;\" x=\"604.831635\" xlink:href=\"#mcd98f08b0b\" y=\"51.798279\"/>\r\n      </g>\r\n     </g>\r\n    </g>\r\n    <g id=\"ytick_27\">\r\n     <g id=\"line2d_97\">\r\n      <g>\r\n       <use style=\"stroke:#000000;stroke-width:0.6;\" x=\"46.831635\" xlink:href=\"#m128b8fdcdf\" y=\"10.214802\"/>\r\n      </g>\r\n     </g>\r\n     <g id=\"line2d_98\">\r\n      <g>\r\n       <use style=\"stroke:#000000;stroke-width:0.6;\" x=\"604.831635\" xlink:href=\"#mcd98f08b0b\" y=\"10.214802\"/>\r\n      </g>\r\n     </g>\r\n    </g>\r\n   </g>\r\n   <g id=\"patch_4\">\r\n    <path d=\"M 46.831635 550.8 \r\nL 46.831635 7.2 \r\n\" style=\"fill:none;stroke:#000000;stroke-linecap:square;stroke-linejoin:miter;stroke-width:2;\"/>\r\n   </g>\r\n   <g id=\"patch_5\">\r\n    <path d=\"M 604.831635 550.8 \r\nL 604.831635 7.2 \r\n\" style=\"fill:none;stroke:#000000;stroke-linecap:square;stroke-linejoin:miter;stroke-width:2;\"/>\r\n   </g>\r\n   <g id=\"patch_6\">\r\n    <path d=\"M 46.831635 550.8 \r\nL 604.831635 550.8 \r\n\" style=\"fill:none;stroke:#000000;stroke-linecap:square;stroke-linejoin:miter;stroke-width:2;\"/>\r\n   </g>\r\n   <g id=\"patch_7\">\r\n    <path d=\"M 46.831635 7.2 \r\nL 604.831635 7.2 \r\n\" style=\"fill:none;stroke:#000000;stroke-linecap:square;stroke-linejoin:miter;stroke-width:2;\"/>\r\n   </g>\r\n  </g>\r\n </g>\r\n <defs>\r\n  <clipPath id=\"p029f560e93\">\r\n   <rect height=\"543.6\" width=\"558\" x=\"46.831635\" y=\"7.2\"/>\r\n  </clipPath>\r\n </defs>\r\n</svg>\r\n",
      "image/png": "[encoded data removed]"
     },
     "metadata": {
      "needs_background": "light"
     }
    }
   ],
   "source": [
    "from modules.data.validation.duplicates import ShowDifferencesFor3Params, ShowDifferencesFor2Params\n",
    "\n",
    "# reload(modules.validation.duplicates)\n",
    "\n",
    "# ShowDifferencesFor3Params('T_Px', 'T_Py', 'T_Pz')\n",
    "ShowDifferencesFor2Params('T_Dca0', 'T_Dca1')\n",
    "\n",
    "\n"
   ]
  }
 ],
 "metadata": {
  "kernelspec": {
   "display_name": "Python 3.8.2 64-bit",
   "language": "python",
   "name": "python38264bit3afbaa1fad294b6594b92b10bbcb573b"
  },
  "language_info": {
   "codemirror_mode": {
    "name": "ipython",
    "version": 3
   },
   "file_extension": ".py",
   "mimetype": "text/x-python",
   "name": "python",
   "nbconvert_exporter": "python",
   "pygments_lexer": "ipython3",
   "version": "3.8.5-final"
  }
 },
 "nbformat": 4,
 "nbformat_minor": 4
}