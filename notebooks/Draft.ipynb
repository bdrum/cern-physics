{
 "cells": [
  {
   "cell_type": "markdown",
   "metadata": {},
   "source": [
    "# Exploring a new features "
   ]
  },
  {
   "cell_type": "code",
   "execution_count": 8,
   "metadata": {
    "tags": []
   },
   "outputs": [],
   "source": [
    "import uproot4\r\n",
    "import numpy as np\r\n",
    "import pandas as pd\r\n",
    "import concurrent.futures\r\n",
    "\r\n",
    "from modules.FourTrackEvents import *\r\n",
    "\r\n",
    "ccup9_2015_file = r'D:\\GoogleDrive\\Job\\cern\\Alice\\analysis\\data\\RhoPrime\\2015\\4Prongs2015oLast.root'\r\n",
    "\r\n",
    "tree_name = '4Prongs/events'\r\n",
    "# dfs.loc[0] # get dataframe part with entry = 0    \r\n",
    "\r\n",
    "executor = concurrent.futures.ThreadPoolExecutor()\r\n",
    "\r\n",
    "branches = ['T_Px', 'T_Py', 'T_Pz',  'T_Q', 'T_NumberOfSigmaTPCPion', 'T_TPCRefit', 'T_TPCNCls', 'T_Phi', 'T_Eta', 'T_HasPointOnITSLayer0','T_HasPointOnITSLayer1', 'T_ITSModuleInner', 'T_ITSModuleOuter']\r\n",
    "\r\n",
    "evColumns = [\"RunNum\", \"PeriodNumber\", \"OrbitNumber\", \"BunchCrossNumber\", \"Mass\", \"Pt\", \"Q\", \"Rapidity\", \"Phi\", \"ZNAenergy\", \"ZNCenergy\", \"ZPAenergy\", \"ZPCenergy\", \"VtxX\", \"VtxY\", \"VtxZ\", \"VtxContrib\", \"VtxChi2\", \"VtxNDF\", \"SpdVtxX\", \"SpdVtxY\", \"SpdVtxZ\", \"SpdVtxContrib\", \"V0Adecision\", \"V0Cdecision\", \"ADAdecision\", \"ADCdecision\", \"V0Afired\", \"V0Cfired\", \"ADAfired\", \"ADCfired\", \"STPfired\", \"SMBfired\", \"SM2fired\", \"SH1fired\", \"OM2fired\", \"OMUfired\", \"IsTriggered\", \"nTracklets\", \"nTracks\"] #, \"FORChip\"]\r\n",
    "\r\n",
    "events = uproot4.open(ccup9_2015_file, object_cache = 5000, num_workers=12, interpretation_executor=executor)[tree_name]\r\n",
    "\r\n",
    "data_tracks = events.arrays(filter_name=branches, library='pd', array_cache=5000)#, entry_stop=1000000)\r\n",
    "chips = events.arrays(filter_name=['FORChip'], library='pd') #, array_cache=5000)#, entry_stop=1000000)\r\n",
    "chips = chips.groupby('entry').FORChip.apply(list)"
   ]
  },
  {
   "cell_type": "code",
   "execution_count": 10,
   "metadata": {},
   "outputs": [],
   "source": []
  },
  {
   "cell_type": "code",
   "execution_count": 36,
   "metadata": {},
   "outputs": [
    {
     "data": {
      "text/plain": "'RunNum'"
     },
     "execution_count": 36,
     "metadata": {},
     "output_type": "execute_result"
    }
   ],
   "source": [
    "data.columns[0]"
   ]
  },
  {
   "cell_type": "code",
   "execution_count": 12,
   "metadata": {},
   "outputs": [],
   "source": []
  },
  {
   "cell_type": "code",
   "execution_count": 31,
   "metadata": {},
   "outputs": [],
   "source": []
  },
  {
   "cell_type": "code",
   "execution_count": 51,
   "metadata": {},
   "outputs": [],
   "source": [
    "four_tracks_events = np.where(np.array(list(map(lambda x : len(x), data['T_Q'][is_triggered]))) == 4)\r\n",
    "zero_charged_events = np.where(np.array(list(map(lambda x : sum(x), data['T_Q'][is_triggered]))) == 0)\r\n",
    "four_tracks_zero_charged_events = np.intersect1d(four_tracks_events, zero_charged_events)"
   ]
  },
  {
   "cell_type": "code",
   "execution_count": 32,
   "metadata": {},
   "outputs": [
    {
     "data": {
      "text/html": "<div>\n<style scoped>\n    .dataframe tbody tr th:only-of-type {\n        vertical-align: middle;\n    }\n\n    .dataframe tbody tr th {\n        vertical-align: top;\n    }\n\n    .dataframe thead th {\n        text-align: right;\n    }\n</style>\n<table border=\"1\" class=\"dataframe\">\n  <thead>\n    <tr style=\"text-align: right;\">\n      <th></th>\n      <th>RunNum</th>\n      <th>PeriodNumber</th>\n      <th>OrbitNumber</th>\n      <th>BunchCrossNumber</th>\n      <th>Mass</th>\n      <th>Pt</th>\n      <th>Q</th>\n      <th>Rapidity</th>\n      <th>Phi</th>\n      <th>ZNAenergy</th>\n      <th>...</th>\n      <th>STPfired</th>\n      <th>SMBfired</th>\n      <th>SM2fired</th>\n      <th>SH1fired</th>\n      <th>OM2fired</th>\n      <th>OMUfired</th>\n      <th>IsTriggered</th>\n      <th>nTracklets</th>\n      <th>nTracks</th>\n      <th>FORChip</th>\n    </tr>\n  </thead>\n  <tbody>\n    <tr>\n      <th>0</th>\n      <td>245145</td>\n      <td>0</td>\n      <td>13362961</td>\n      <td>674</td>\n      <td>2.802221</td>\n      <td>0.567083</td>\n      <td>-1718026238</td>\n      <td>0.056647</td>\n      <td>-2.397827</td>\n      <td>-92.604172</td>\n      <td>...</td>\n      <td>True</td>\n      <td>True</td>\n      <td>True</td>\n      <td>True</td>\n      <td>False</td>\n      <td>False</td>\n      <td>False</td>\n      <td>4</td>\n      <td>8</td>\n      <td>[4, 15, 22, 107, 167, 233, 247, 262, 295, 315,...</td>\n    </tr>\n    <tr>\n      <th>1</th>\n      <td>245145</td>\n      <td>3</td>\n      <td>3674210</td>\n      <td>3438</td>\n      <td>2.996301</td>\n      <td>3.597858</td>\n      <td>-1718026240</td>\n      <td>-0.318146</td>\n      <td>1.097847</td>\n      <td>-428.223267</td>\n      <td>...</td>\n      <td>True</td>\n      <td>True</td>\n      <td>True</td>\n      <td>True</td>\n      <td>True</td>\n      <td>False</td>\n      <td>False</td>\n      <td>4</td>\n      <td>6</td>\n      <td>[30, 49, 89, 290, 309, 352, 370, 393, 472, 509...</td>\n    </tr>\n    <tr>\n      <th>2</th>\n      <td>245145</td>\n      <td>1</td>\n      <td>12644173</td>\n      <td>2126</td>\n      <td>3.198086</td>\n      <td>1.573138</td>\n      <td>-1717960705</td>\n      <td>-0.360621</td>\n      <td>1.949035</td>\n      <td>9.372114</td>\n      <td>...</td>\n      <td>True</td>\n      <td>True</td>\n      <td>True</td>\n      <td>True</td>\n      <td>True</td>\n      <td>True</td>\n      <td>False</td>\n      <td>3</td>\n      <td>5</td>\n      <td>[27, 33, 160, 171, 302, 306, 308, 366, 384, 39...</td>\n    </tr>\n    <tr>\n      <th>3</th>\n      <td>245145</td>\n      <td>1</td>\n      <td>16213555</td>\n      <td>3239</td>\n      <td>3.103773</td>\n      <td>0.797095</td>\n      <td>-1718026238</td>\n      <td>0.011698</td>\n      <td>1.207371</td>\n      <td>291.203796</td>\n      <td>...</td>\n      <td>True</td>\n      <td>True</td>\n      <td>True</td>\n      <td>True</td>\n      <td>True</td>\n      <td>True</td>\n      <td>False</td>\n      <td>12</td>\n      <td>8</td>\n      <td>[12, 29, 33, 36, 50, 71, 168, 215, 268, 284, 3...</td>\n    </tr>\n    <tr>\n      <th>4</th>\n      <td>245145</td>\n      <td>1</td>\n      <td>5525160</td>\n      <td>2195</td>\n      <td>1.679243</td>\n      <td>0.388082</td>\n      <td>-1718026240</td>\n      <td>-0.595928</td>\n      <td>0.879197</td>\n      <td>344.992584</td>\n      <td>...</td>\n      <td>True</td>\n      <td>True</td>\n      <td>True</td>\n      <td>True</td>\n      <td>False</td>\n      <td>False</td>\n      <td>False</td>\n      <td>27</td>\n      <td>4</td>\n      <td>[0, 7, 28, 31, 37, 38, 39, 45, 46, 55, 57, 71,...</td>\n    </tr>\n    <tr>\n      <th>...</th>\n      <td>...</td>\n      <td>...</td>\n      <td>...</td>\n      <td>...</td>\n      <td>...</td>\n      <td>...</td>\n      <td>...</td>\n      <td>...</td>\n      <td>...</td>\n      <td>...</td>\n      <td>...</td>\n      <td>...</td>\n      <td>...</td>\n      <td>...</td>\n      <td>...</td>\n      <td>...</td>\n      <td>...</td>\n      <td>...</td>\n      <td>...</td>\n      <td>...</td>\n      <td>...</td>\n    </tr>\n    <tr>\n      <th>106700</th>\n      <td>246994</td>\n      <td>3</td>\n      <td>3847039</td>\n      <td>3472</td>\n      <td>5.037951</td>\n      <td>7.349191</td>\n      <td>-1717960706</td>\n      <td>-0.550232</td>\n      <td>0.569475</td>\n      <td>-384.684784</td>\n      <td>...</td>\n      <td>True</td>\n      <td>True</td>\n      <td>True</td>\n      <td>True</td>\n      <td>False</td>\n      <td>False</td>\n      <td>False</td>\n      <td>1</td>\n      <td>6</td>\n      <td>[19, 27, 232, 399, 448, 469, 877]</td>\n    </tr>\n    <tr>\n      <th>106701</th>\n      <td>246994</td>\n      <td>2</td>\n      <td>62739</td>\n      <td>532</td>\n      <td>8.490516</td>\n      <td>5.970900</td>\n      <td>-1717960708</td>\n      <td>-1.047591</td>\n      <td>-2.963939</td>\n      <td>6169.960449</td>\n      <td>...</td>\n      <td>True</td>\n      <td>True</td>\n      <td>True</td>\n      <td>True</td>\n      <td>True</td>\n      <td>False</td>\n      <td>False</td>\n      <td>74</td>\n      <td>22</td>\n      <td>[26, 34, 38, 41, 87, 120, 202, 204, 206, 209, ...</td>\n    </tr>\n    <tr>\n      <th>106702</th>\n      <td>246994</td>\n      <td>1</td>\n      <td>566110</td>\n      <td>3361</td>\n      <td>5.639124</td>\n      <td>0.815031</td>\n      <td>-1717960707</td>\n      <td>0.497559</td>\n      <td>2.903033</td>\n      <td>-624.092224</td>\n      <td>...</td>\n      <td>True</td>\n      <td>True</td>\n      <td>True</td>\n      <td>True</td>\n      <td>True</td>\n      <td>True</td>\n      <td>False</td>\n      <td>6</td>\n      <td>5</td>\n      <td>[47, 86, 168, 212, 267, 305, 358, 505, 523, 52...</td>\n    </tr>\n    <tr>\n      <th>106703</th>\n      <td>246994</td>\n      <td>2</td>\n      <td>3250243</td>\n      <td>1830</td>\n      <td>3.033328</td>\n      <td>2.172899</td>\n      <td>-1718026239</td>\n      <td>0.083928</td>\n      <td>-2.649607</td>\n      <td>75394.562500</td>\n      <td>...</td>\n      <td>True</td>\n      <td>True</td>\n      <td>True</td>\n      <td>True</td>\n      <td>True</td>\n      <td>True</td>\n      <td>False</td>\n      <td>4</td>\n      <td>7</td>\n      <td>[49, 163, 203, 248, 287, 353, 452, 472, 584, 6...</td>\n    </tr>\n    <tr>\n      <th>106704</th>\n      <td>246994</td>\n      <td>2</td>\n      <td>3245492</td>\n      <td>1603</td>\n      <td>0.695303</td>\n      <td>0.673679</td>\n      <td>-1718026238</td>\n      <td>0.195638</td>\n      <td>0.555802</td>\n      <td>-284.629578</td>\n      <td>...</td>\n      <td>True</td>\n      <td>True</td>\n      <td>True</td>\n      <td>True</td>\n      <td>False</td>\n      <td>False</td>\n      <td>False</td>\n      <td>1</td>\n      <td>4</td>\n      <td>[3, 106, 126, 127, 167, 192, 402, 444, 541, 60...</td>\n    </tr>\n  </tbody>\n</table>\n<p>106705 rows × 41 columns</p>\n</div>",
      "text/plain": "        RunNum  PeriodNumber  OrbitNumber  BunchCrossNumber      Mass  \\\n0       245145             0     13362961               674  2.802221   \n1       245145             3      3674210              3438  2.996301   \n2       245145             1     12644173              2126  3.198086   \n3       245145             1     16213555              3239  3.103773   \n4       245145             1      5525160              2195  1.679243   \n...        ...           ...          ...               ...       ...   \n106700  246994             3      3847039              3472  5.037951   \n106701  246994             2        62739               532  8.490516   \n106702  246994             1       566110              3361  5.639124   \n106703  246994             2      3250243              1830  3.033328   \n106704  246994             2      3245492              1603  0.695303   \n\n              Pt           Q  Rapidity       Phi     ZNAenergy  ...  STPfired  \\\n0       0.567083 -1718026238  0.056647 -2.397827    -92.604172  ...      True   \n1       3.597858 -1718026240 -0.318146  1.097847   -428.223267  ...      True   \n2       1.573138 -1717960705 -0.360621  1.949035      9.372114  ...      True   \n3       0.797095 -1718026238  0.011698  1.207371    291.203796  ...      True   \n4       0.388082 -1718026240 -0.595928  0.879197    344.992584  ...      True   \n...          ...         ...       ...       ...           ...  ...       ...   \n106700  7.349191 -1717960706 -0.550232  0.569475   -384.684784  ...      True   \n106701  5.970900 -1717960708 -1.047591 -2.963939   6169.960449  ...      True   \n106702  0.815031 -1717960707  0.497559  2.903033   -624.092224  ...      True   \n106703  2.172899 -1718026239  0.083928 -2.649607  75394.562500  ...      True   \n106704  0.673679 -1718026238  0.195638  0.555802   -284.629578  ...      True   \n\n        SMBfired  SM2fired  SH1fired  OM2fired  OMUfired  IsTriggered  \\\n0           True      True      True     False     False        False   \n1           True      True      True      True     False        False   \n2           True      True      True      True      True        False   \n3           True      True      True      True      True        False   \n4           True      True      True     False     False        False   \n...          ...       ...       ...       ...       ...          ...   \n106700      True      True      True     False     False        False   \n106701      True      True      True      True     False        False   \n106702      True      True      True      True      True        False   \n106703      True      True      True      True      True        False   \n106704      True      True      True     False     False        False   \n\n        nTracklets  nTracks                                            FORChip  \n0                4        8  [4, 15, 22, 107, 167, 233, 247, 262, 295, 315,...  \n1                4        6  [30, 49, 89, 290, 309, 352, 370, 393, 472, 509...  \n2                3        5  [27, 33, 160, 171, 302, 306, 308, 366, 384, 39...  \n3               12        8  [12, 29, 33, 36, 50, 71, 168, 215, 268, 284, 3...  \n4               27        4  [0, 7, 28, 31, 37, 38, 39, 45, 46, 55, 57, 71,...  \n...            ...      ...                                                ...  \n106700           1        6                  [19, 27, 232, 399, 448, 469, 877]  \n106701          74       22  [26, 34, 38, 41, 87, 120, 202, 204, 206, 209, ...  \n106702           6        5  [47, 86, 168, 212, 267, 305, 358, 505, 523, 52...  \n106703           4        7  [49, 163, 203, 248, 287, 353, 452, 472, 584, 6...  \n106704           1        4  [3, 106, 126, 127, 167, 192, 402, 444, 541, 60...  \n\n[106705 rows x 41 columns]"
     },
     "execution_count": 32,
     "metadata": {},
     "output_type": "execute_result"
    }
   ],
   "source": [
    "data"
   ]
  },
  {
   "cell_type": "code",
   "execution_count": 3,
   "metadata": {},
   "outputs": [
    {
     "name": "stdout",
     "output_type": "stream",
     "text": [
      "name                 | typename                 | interpretation                \n",
      "---------------------+--------------------------+-------------------------------\n",
      "RunNum               | int32_t                  | AsDtype('>i4')\n",
      "PeriodNumber         | uint32_t                 | AsDtype('>u4')\n",
      "OrbitNumber          | uint32_t                 | AsDtype('>u4')\n",
      "BunchCrossNumber     | uint32_t                 | AsDtype('>u4')\n",
      "Mass                 | float                    | AsDtype('>f4')\n",
      "Pt                   | float                    | AsDtype('>f4')\n",
      "Q                    | int32_t                  | AsDtype('>i4')\n",
      "Rapidity             | float                    | AsDtype('>f4')\n",
      "Phi                  | float                    | AsDtype('>f4')\n",
      "ZNAenergy            | float                    | AsDtype('>f4')\n",
      "ZNCenergy            | float                    | AsDtype('>f4')\n",
      "ZPAenergy            | float                    | AsDtype('>f4')\n",
      "ZPCenergy            | float                    | AsDtype('>f4')\n",
      "VtxX                 | float                    | AsDtype('>f4')\n",
      "VtxY                 | float                    | AsDtype('>f4')\n",
      "VtxZ                 | float                    | AsDtype('>f4')\n",
      "VtxContrib           | int32_t                  | AsDtype('>i4')\n",
      "VtxChi2              | float                    | AsDtype('>f4')\n",
      "VtxNDF               | float                    | AsDtype('>f4')\n",
      "SpdVtxX              | float                    | AsDtype('>f4')\n",
      "SpdVtxY              | float                    | AsDtype('>f4')\n",
      "SpdVtxZ              | float                    | AsDtype('>f4')\n",
      "SpdVtxContrib        | int32_t                  | AsDtype('>i4')\n",
      "V0Adecision          | int32_t                  | AsDtype('>i4')\n",
      "V0Cdecision          | int32_t                  | AsDtype('>i4')\n",
      "ADAdecision          | int32_t                  | AsDtype('>i4')\n",
      "ADCdecision          | int32_t                  | AsDtype('>i4')\n",
      "V0Afired             | bool                     | AsDtype('bool')\n",
      "V0Cfired             | bool                     | AsDtype('bool')\n",
      "ADAfired             | bool                     | AsDtype('bool')\n",
      "ADCfired             | bool                     | AsDtype('bool')\n",
      "STPfired             | bool                     | AsDtype('bool')\n",
      "SMBfired             | bool                     | AsDtype('bool')\n",
      "SM2fired             | bool                     | AsDtype('bool')\n",
      "SH1fired             | bool                     | AsDtype('bool')\n",
      "OM2fired             | bool                     | AsDtype('bool')\n",
      "OMUfired             | bool                     | AsDtype('bool')\n",
      "IsTriggered          | bool                     | AsDtype('bool')\n",
      "nTracklets           | int32_t                  | AsDtype('>i4')\n",
      "nTracks              | int32_t                  | AsDtype('>i4')\n",
      "T_NumberOfSigmaIT... | std::vector<float>       | AsJagged(AsDtype('>f4'), he...\n",
      "T_NumberOfSigmaIT... | std::vector<float>       | AsJagged(AsDtype('>f4'), he...\n",
      "T_NumberOfSigmaTP... | std::vector<float>       | AsJagged(AsDtype('>f4'), he...\n",
      "T_NumberOfSigmaTP... | std::vector<float>       | AsJagged(AsDtype('>f4'), he...\n",
      "TPCsignal            | std::vector<int32_t>     | AsJagged(AsDtype('>i4'), he...\n",
      "T_P                  | std::vector<float>       | AsJagged(AsDtype('>f4'), he...\n",
      "T_Eta                | std::vector<float>       | AsJagged(AsDtype('>f4'), he...\n",
      "T_Phi                | std::vector<float>       | AsJagged(AsDtype('>f4'), he...\n",
      "T_Px                 | std::vector<float>       | AsJagged(AsDtype('>f4'), he...\n",
      "T_Py                 | std::vector<float>       | AsJagged(AsDtype('>f4'), he...\n",
      "T_Pz                 | std::vector<float>       | AsJagged(AsDtype('>f4'), he...\n",
      "T_Q                  | std::vector<int32_t>     | AsJagged(AsDtype('>i4'), he...\n",
      "T_HasPointOnITSLa... | std::vector<bool>        | AsJagged(AsDtype('bool'), h...\n",
      "T_HasPointOnITSLa... | std::vector<bool>        | AsJagged(AsDtype('bool'), h...\n",
      "T_ITSModuleInner     | std::vector<int32_t>     | AsJagged(AsDtype('>i4'), he...\n",
      "T_ITSModuleOuter     | std::vector<int32_t>     | AsJagged(AsDtype('>i4'), he...\n",
      "T_TPCNCls            | std::vector<int32_t>     | AsJagged(AsDtype('>i4'), he...\n",
      "T_ITSNCls            | std::vector<int32_t>     | AsJagged(AsDtype('>i4'), he...\n",
      "T_Dca0               | std::vector<float>       | AsJagged(AsDtype('>f4'), he...\n",
      "T_Dca1               | std::vector<float>       | AsJagged(AsDtype('>f4'), he...\n",
      "T_TPCRefit           | std::vector<bool>        | AsJagged(AsDtype('bool'), h...\n",
      "T_ITSRefit           | std::vector<bool>        | AsJagged(AsDtype('bool'), h...\n",
      "TLets_Theta          | std::vector<float>       | AsJagged(AsDtype('>f4'), he...\n",
      "TLets_Phi            | std::vector<float>       | AsJagged(AsDtype('>f4'), he...\n",
      "FORChip              | std::vector<int32_t>     | AsJagged(AsDtype('>i4'), he...\n"
     ]
    }
   ],
   "source": [
    "events.show()"
   ]
  }
 ],
 "metadata": {
  "kernelspec": {
   "display_name": "Python 3.8.2 64-bit",
   "language": "python",
   "name": "python38264bit3afbaa1fad294b6594b92b10bbcb573b"
  },
  "language_info": {
   "codemirror_mode": {
    "name": "ipython",
    "version": 3
   },
   "file_extension": ".py",
   "mimetype": "text/x-python",
   "name": "python",
   "nbconvert_exporter": "python",
   "pygments_lexer": "ipython3",
   "version": "3.8.6"
  }
 },
 "nbformat": 4,
 "nbformat_minor": 4
}